{
 "cells": [
  {
   "cell_type": "markdown",
   "id": "e37e5698",
   "metadata": {},
   "source": [
    "(python_done_right)=\n",
    "```{raw} jupyter\n",
    "<div id=\"qe-notebook-header\" align=\"right\" style=\"text-align:right;\">\n",
    "        <a href=\"https://quantecon.org/\" title=\"quantecon.org\">\n",
    "                <img style=\"width:250px;display:inline;\" width=\"250px\" src=\"https://assets.quantecon.org/img/qe-menubar-logo.svg\" alt=\"QuantEcon\">\n",
    "        </a>\n",
    "</div>\n",
    "```\n",
    "\n",
    "# Python Essentials\n",
    "\n",
    "```{contents} Contents\n",
    ":depth: 2\n",
    "```\n",
    "\n",
    "## Overview\n",
    "\n",
    "We have covered a lot of material quite quickly, with a focus on examples.\n",
    "\n",
    "Now let's cover some core features of Python in a more systematic way.\n",
    "\n",
    "This approach is less exciting but helps clear up some details.\n",
    "\n",
    "## Data Types\n",
    "\n",
    "```{index} single: Python; Data Types\n",
    "```\n",
    "\n",
    "Computer programs typically keep track of a range of data types.\n",
    "\n",
    "For example, `1.5` is a floating point number, while `1` is an integer.\n",
    "\n",
    "Programs need to distinguish between these two types for various reasons.\n",
    "\n",
    "One is that they are stored in memory differently.\n",
    "\n",
    "Another is that arithmetic operations are different\n",
    "\n",
    "* For example, floating point arithmetic is implemented on most machines by a\n",
    "  specialized Floating Point Unit (FPU).\n",
    "\n",
    "In general, floats are more informative but arithmetic operations on integers\n",
    "are faster and more accurate.\n",
    "\n",
    "Python provides numerous other built-in Python data types, some of which we've already met\n",
    "\n",
    "* strings, lists, etc.\n",
    "\n",
    "Let's learn a bit more about them.\n",
    "\n",
    "### Primitive Data Types\n",
    "\n",
    "(boolean)=\n",
    "#### Boolean Values\n",
    "\n",
    "One simple data type is **Boolean values**, which can be either `True` or `False`"
   ]
  },
  {
   "cell_type": "code",
   "execution_count": 1,
   "id": "687393d9",
   "metadata": {},
   "outputs": [
    {
     "data": {
      "text/plain": [
       "True"
      ]
     },
     "execution_count": 1,
     "metadata": {},
     "output_type": "execute_result"
    }
   ],
   "source": [
    "x = True\n",
    "x"
   ]
  },
  {
   "cell_type": "markdown",
   "id": "3f94f733",
   "metadata": {},
   "source": [
    "We can check the type of any object in memory using the `type()` function."
   ]
  },
  {
   "cell_type": "code",
   "execution_count": 2,
   "id": "86892349",
   "metadata": {},
   "outputs": [
    {
     "data": {
      "text/plain": [
       "bool"
      ]
     },
     "execution_count": 2,
     "metadata": {},
     "output_type": "execute_result"
    }
   ],
   "source": [
    "type(x)"
   ]
  },
  {
   "cell_type": "markdown",
   "id": "ddf42f05",
   "metadata": {},
   "source": [
    "In the next line of code, the interpreter evaluates the expression on the right of = and binds y to this value"
   ]
  },
  {
   "cell_type": "code",
   "execution_count": 3,
   "id": "eec285dd",
   "metadata": {},
   "outputs": [
    {
     "data": {
      "text/plain": [
       "False"
      ]
     },
     "execution_count": 3,
     "metadata": {},
     "output_type": "execute_result"
    }
   ],
   "source": [
    "y = 100 < 10\n",
    "y"
   ]
  },
  {
   "cell_type": "code",
   "execution_count": 4,
   "id": "e7eba41b",
   "metadata": {},
   "outputs": [
    {
     "data": {
      "text/plain": [
       "bool"
      ]
     },
     "execution_count": 4,
     "metadata": {},
     "output_type": "execute_result"
    }
   ],
   "source": [
    "type(y)"
   ]
  },
  {
   "cell_type": "markdown",
   "id": "77af5aee",
   "metadata": {},
   "source": [
    "In arithmetic expressions, `True` is converted to `1` and `False` is converted `0`.\n",
    "\n",
    "This is called **Boolean arithmetic** and is often useful in programming.\n",
    "\n",
    "Here are some examples"
   ]
  },
  {
   "cell_type": "code",
   "execution_count": 5,
   "id": "2e65e865",
   "metadata": {},
   "outputs": [
    {
     "data": {
      "text/plain": [
       "1"
      ]
     },
     "execution_count": 5,
     "metadata": {},
     "output_type": "execute_result"
    }
   ],
   "source": [
    "x + y"
   ]
  },
  {
   "cell_type": "code",
   "execution_count": 6,
   "id": "c7193e79",
   "metadata": {},
   "outputs": [
    {
     "data": {
      "text/plain": [
       "0"
      ]
     },
     "execution_count": 6,
     "metadata": {},
     "output_type": "execute_result"
    }
   ],
   "source": [
    "x * y"
   ]
  },
  {
   "cell_type": "code",
   "execution_count": 7,
   "id": "c5c0a5b8",
   "metadata": {},
   "outputs": [
    {
     "data": {
      "text/plain": [
       "2"
      ]
     },
     "execution_count": 7,
     "metadata": {},
     "output_type": "execute_result"
    }
   ],
   "source": [
    "True + True"
   ]
  },
  {
   "cell_type": "code",
   "execution_count": 8,
   "id": "90fa4df0",
   "metadata": {},
   "outputs": [
    {
     "data": {
      "text/plain": [
       "3"
      ]
     },
     "execution_count": 8,
     "metadata": {},
     "output_type": "execute_result"
    }
   ],
   "source": [
    "bools = [True, True, False, True]  # List of Boolean values\n",
    "\n",
    "sum(bools)"
   ]
  },
  {
   "cell_type": "markdown",
   "id": "f2e0b328",
   "metadata": {},
   "source": [
    "#### Numeric Types\n",
    "\n",
    "Numeric types are also important primitive data types.\n",
    "\n",
    "We have seen `integer` and `float` types before.\n",
    "\n",
    "**Complex numbers** are another primitive data type in Python"
   ]
  },
  {
   "cell_type": "code",
   "execution_count": 9,
   "id": "523b89b0",
   "metadata": {},
   "outputs": [
    {
     "name": "stdout",
     "output_type": "stream",
     "text": [
      "5j\n"
     ]
    },
    {
     "data": {
      "text/plain": [
       "complex"
      ]
     },
     "execution_count": 9,
     "metadata": {},
     "output_type": "execute_result"
    }
   ],
   "source": [
    "x = complex(1, 2)\n",
    "y = complex(2, 1)\n",
    "print(x * y)\n",
    "\n",
    "type(x)"
   ]
  },
  {
   "cell_type": "markdown",
   "id": "ef54bf84",
   "metadata": {},
   "source": [
    "### Containers\n",
    "\n",
    "Python has several basic types for storing collections of (possibly heterogeneous) data.\n",
    "\n",
    "We've {ref}`already discussed lists <lists_ref>`.\n",
    "\n",
    "```{index} single: Python; Tuples\n",
    "```\n",
    "\n",
    "A related data type is **tuples**, which are \"immutable\" lists"
   ]
  },
  {
   "cell_type": "code",
   "execution_count": 10,
   "id": "bba3da51",
   "metadata": {},
   "outputs": [
    {
     "data": {
      "text/plain": [
       "('a', 'b')"
      ]
     },
     "execution_count": 10,
     "metadata": {},
     "output_type": "execute_result"
    }
   ],
   "source": [
    "x = ('a', 'b')  # Parentheses instead of the square brackets\n",
    "x = 'a', 'b'    # Or no brackets --- the meaning is identical\n",
    "x"
   ]
  },
  {
   "cell_type": "code",
   "execution_count": 11,
   "id": "4e9a6717",
   "metadata": {},
   "outputs": [
    {
     "data": {
      "text/plain": [
       "tuple"
      ]
     },
     "execution_count": 11,
     "metadata": {},
     "output_type": "execute_result"
    }
   ],
   "source": [
    "type(x)"
   ]
  },
  {
   "cell_type": "markdown",
   "id": "43671186",
   "metadata": {},
   "source": [
    "In Python, an object is called **immutable** if, once created, the object cannot be changed.\n",
    "\n",
    "Conversely, an object is **mutable** if it can still be altered after creation.\n",
    "\n",
    "Python lists are mutable"
   ]
  },
  {
   "cell_type": "code",
   "execution_count": 12,
   "id": "e2f86796",
   "metadata": {},
   "outputs": [
    {
     "data": {
      "text/plain": [
       "[10, 2]"
      ]
     },
     "execution_count": 12,
     "metadata": {},
     "output_type": "execute_result"
    }
   ],
   "source": [
    "x = [1, 2]\n",
    "x[0] = 10\n",
    "x"
   ]
  },
  {
   "cell_type": "markdown",
   "id": "9e7e899a",
   "metadata": {},
   "source": [
    "But tuples are not"
   ]
  },
  {
   "cell_type": "code",
   "execution_count": 13,
   "id": "ae38be47",
   "metadata": {
    "tags": [
     "raises-exception"
    ]
   },
   "outputs": [
    {
     "ename": "TypeError",
     "evalue": "'tuple' object does not support item assignment",
     "output_type": "error",
     "traceback": [
      "\u001b[0;31m---------------------------------------------------------------------------\u001b[0m",
      "\u001b[0;31mTypeError\u001b[0m                                 Traceback (most recent call last)",
      "Input \u001b[0;32mIn [13]\u001b[0m, in \u001b[0;36m<cell line: 2>\u001b[0;34m()\u001b[0m\n\u001b[1;32m      1\u001b[0m x \u001b[38;5;241m=\u001b[39m (\u001b[38;5;241m1\u001b[39m, \u001b[38;5;241m2\u001b[39m)\n\u001b[0;32m----> 2\u001b[0m x[\u001b[38;5;241m0\u001b[39m] \u001b[38;5;241m=\u001b[39m \u001b[38;5;241m10\u001b[39m\n",
      "\u001b[0;31mTypeError\u001b[0m: 'tuple' object does not support item assignment"
     ]
    }
   ],
   "source": [
    "x = (1, 2)\n",
    "x[0] = 10"
   ]
  },
  {
   "cell_type": "markdown",
   "id": "142d8379",
   "metadata": {},
   "source": [
    "We'll say more about the role of mutable and immutable data a bit later.\n",
    "\n",
    "Tuples (and lists) can be \"unpacked\" as follows"
   ]
  },
  {
   "cell_type": "code",
   "execution_count": 14,
   "id": "09b6aa07",
   "metadata": {},
   "outputs": [
    {
     "data": {
      "text/plain": [
       "10"
      ]
     },
     "execution_count": 14,
     "metadata": {},
     "output_type": "execute_result"
    }
   ],
   "source": [
    "integers = (10, 20, 30)\n",
    "x, y, z = integers\n",
    "x"
   ]
  },
  {
   "cell_type": "code",
   "execution_count": 15,
   "id": "2102f30a",
   "metadata": {},
   "outputs": [
    {
     "data": {
      "text/plain": [
       "20"
      ]
     },
     "execution_count": 15,
     "metadata": {},
     "output_type": "execute_result"
    }
   ],
   "source": [
    "y"
   ]
  },
  {
   "cell_type": "markdown",
   "id": "2b4a5718",
   "metadata": {},
   "source": [
    "You've actually {ref}`seen an example of this <tuple_unpacking_example>` already.\n",
    "\n",
    "Tuple unpacking is convenient and we'll use it often.\n",
    "\n",
    "#### Slice Notation\n",
    "\n",
    "```{index} single: Python; Slicing\n",
    "```\n",
    "\n",
    "To access multiple elements of a sequence (a list, a tuple or a string), you can use Python's slice\n",
    "notation.\n",
    "\n",
    "For example,"
   ]
  },
  {
   "cell_type": "code",
   "execution_count": 16,
   "id": "50369719",
   "metadata": {},
   "outputs": [
    {
     "data": {
      "text/plain": [
       "['b', 'c', 'd', 'e']"
      ]
     },
     "execution_count": 16,
     "metadata": {},
     "output_type": "execute_result"
    }
   ],
   "source": [
    "a = [\"a\", \"b\", \"c\", \"d\", \"e\"]\n",
    "a[1:]"
   ]
  },
  {
   "cell_type": "code",
   "execution_count": 17,
   "id": "ebf00ed3",
   "metadata": {},
   "outputs": [
    {
     "data": {
      "text/plain": [
       "['b', 'c']"
      ]
     },
     "execution_count": 17,
     "metadata": {},
     "output_type": "execute_result"
    }
   ],
   "source": [
    "a[1:3]"
   ]
  },
  {
   "cell_type": "markdown",
   "id": "4b3764fd",
   "metadata": {},
   "source": [
    "The general rule is that `a[m:n]` returns `n - m` elements, starting at `a[m]`.\n",
    "\n",
    "Negative numbers are also permissible"
   ]
  },
  {
   "cell_type": "code",
   "execution_count": 18,
   "id": "0fe2bbd4",
   "metadata": {},
   "outputs": [
    {
     "data": {
      "text/plain": [
       "['d', 'e']"
      ]
     },
     "execution_count": 18,
     "metadata": {},
     "output_type": "execute_result"
    }
   ],
   "source": [
    "a[-2:]  # Last two elements of the list"
   ]
  },
  {
   "cell_type": "markdown",
   "id": "be5f071b",
   "metadata": {},
   "source": [
    "You can also use the format `[start:end:step]` to specify the step"
   ]
  },
  {
   "cell_type": "code",
   "execution_count": 19,
   "id": "5dded7bc",
   "metadata": {},
   "outputs": [
    {
     "data": {
      "text/plain": [
       "['a', 'c', 'e']"
      ]
     },
     "execution_count": 19,
     "metadata": {},
     "output_type": "execute_result"
    }
   ],
   "source": [
    "a[::2]"
   ]
  },
  {
   "cell_type": "markdown",
   "id": "315344e2",
   "metadata": {},
   "source": [
    "Using a negative step, you can return the sequence in a reversed order"
   ]
  },
  {
   "cell_type": "code",
   "execution_count": 20,
   "id": "e139f147",
   "metadata": {},
   "outputs": [
    {
     "data": {
      "text/plain": [
       "['d', 'c', 'b', 'a']"
      ]
     },
     "execution_count": 20,
     "metadata": {},
     "output_type": "execute_result"
    }
   ],
   "source": [
    "a[-2::-1] # Walk backwards from the second last element to the first element"
   ]
  },
  {
   "cell_type": "markdown",
   "id": "fcdd4909",
   "metadata": {},
   "source": [
    "The same slice notation works on tuples and strings"
   ]
  },
  {
   "cell_type": "code",
   "execution_count": 21,
   "id": "b46fc4e2",
   "metadata": {},
   "outputs": [
    {
     "data": {
      "text/plain": [
       "'bar'"
      ]
     },
     "execution_count": 21,
     "metadata": {},
     "output_type": "execute_result"
    }
   ],
   "source": [
    "s = 'foobar'\n",
    "s[-3:]  # Select the last three elements"
   ]
  },
  {
   "cell_type": "markdown",
   "id": "f9bc9729",
   "metadata": {},
   "source": [
    "#### Sets and Dictionaries\n",
    "\n",
    "```{index} single: Python; Sets\n",
    "```\n",
    "\n",
    "```{index} single: Python; Dictionaries\n",
    "```\n",
    "\n",
    "Two other container types we should mention before moving on are [sets](https://docs.python.org/3/tutorial/datastructures.html#sets) and [dictionaries](https://docs.python.org/3/tutorial/datastructures.html#dictionaries).\n",
    "\n",
    "Dictionaries are much like lists, except that the items are named instead of\n",
    "numbered"
   ]
  },
  {
   "cell_type": "code",
   "execution_count": 22,
   "id": "c0f953b7",
   "metadata": {},
   "outputs": [
    {
     "data": {
      "text/plain": [
       "dict"
      ]
     },
     "execution_count": 22,
     "metadata": {},
     "output_type": "execute_result"
    }
   ],
   "source": [
    "d = {'name': 'Frodo', 'age': 33}\n",
    "type(d)"
   ]
  },
  {
   "cell_type": "code",
   "execution_count": 23,
   "id": "f1bc6ca6",
   "metadata": {},
   "outputs": [
    {
     "data": {
      "text/plain": [
       "33"
      ]
     },
     "execution_count": 23,
     "metadata": {},
     "output_type": "execute_result"
    }
   ],
   "source": [
    "d['age']"
   ]
  },
  {
   "cell_type": "markdown",
   "id": "c1f46a1c",
   "metadata": {},
   "source": [
    "The names `'name'` and `'age'` are called the *keys*.\n",
    "\n",
    "The objects that the keys are mapped to (`'Frodo'` and `33`) are called the `values`.\n",
    "\n",
    "Sets are unordered collections without duplicates, and set methods provide the\n",
    "usual set-theoretic operations"
   ]
  },
  {
   "cell_type": "code",
   "execution_count": 24,
   "id": "08f9295f",
   "metadata": {},
   "outputs": [
    {
     "data": {
      "text/plain": [
       "set"
      ]
     },
     "execution_count": 24,
     "metadata": {},
     "output_type": "execute_result"
    }
   ],
   "source": [
    "s1 = {'a', 'b'}\n",
    "type(s1)"
   ]
  },
  {
   "cell_type": "code",
   "execution_count": 25,
   "id": "ccf5d0c2",
   "metadata": {},
   "outputs": [
    {
     "data": {
      "text/plain": [
       "False"
      ]
     },
     "execution_count": 25,
     "metadata": {},
     "output_type": "execute_result"
    }
   ],
   "source": [
    "s2 = {'b', 'c'}\n",
    "s1.issubset(s2)"
   ]
  },
  {
   "cell_type": "code",
   "execution_count": 26,
   "id": "7a07fd47",
   "metadata": {},
   "outputs": [
    {
     "data": {
      "text/plain": [
       "{'b'}"
      ]
     },
     "execution_count": 26,
     "metadata": {},
     "output_type": "execute_result"
    }
   ],
   "source": [
    "s1.intersection(s2)"
   ]
  },
  {
   "cell_type": "markdown",
   "id": "333c4d4b",
   "metadata": {},
   "source": [
    "The `set()` function creates sets from sequences"
   ]
  },
  {
   "cell_type": "code",
   "execution_count": 27,
   "id": "12c8a06f",
   "metadata": {},
   "outputs": [
    {
     "data": {
      "text/plain": [
       "{'bar', 'foo'}"
      ]
     },
     "execution_count": 27,
     "metadata": {},
     "output_type": "execute_result"
    }
   ],
   "source": [
    "s3 = set(('foo', 'bar', 'foo'))\n",
    "s3"
   ]
  },
  {
   "cell_type": "markdown",
   "id": "b4aaa812",
   "metadata": {},
   "source": [
    "## Input and Output\n",
    "\n",
    "```{index} single: Python; IO\n",
    "```\n",
    "\n",
    "Let's briefly review reading and writing to text files, starting with writing"
   ]
  },
  {
   "cell_type": "code",
   "execution_count": 28,
   "id": "e79bf05a",
   "metadata": {},
   "outputs": [],
   "source": [
    "f = open('newfile.txt', 'w')   # Open 'newfile.txt' for writing\n",
    "f.write('Testing\\n')           # Here '\\n' means new line\n",
    "f.write('Testing again')\n",
    "f.close()"
   ]
  },
  {
   "cell_type": "markdown",
   "id": "1bdf45bb",
   "metadata": {},
   "source": [
    "Here\n",
    "\n",
    "* The built-in function `open()` creates a file object for writing to.\n",
    "* Both `write()` and `close()` are methods of file objects.\n",
    "\n",
    "Where is this file that we've created?\n",
    "\n",
    "Recall that Python maintains a concept of the present working directory (pwd) that can be located from with Jupyter or IPython via"
   ]
  },
  {
   "cell_type": "code",
   "execution_count": 29,
   "id": "1de9fdd3",
   "metadata": {},
   "outputs": [
    {
     "data": {
      "text/plain": [
       "'/__w/lecture-python-programming.myst/lecture-python-programming.myst/lectures'"
      ]
     },
     "execution_count": 29,
     "metadata": {},
     "output_type": "execute_result"
    }
   ],
   "source": [
    "%pwd"
   ]
  },
  {
   "cell_type": "markdown",
   "id": "fecaa0ed",
   "metadata": {},
   "source": [
    "If a path is not specified, then this is where Python writes to.\n",
    "\n",
    "We can also use Python to read the contents of `newline.txt` as follows"
   ]
  },
  {
   "cell_type": "code",
   "execution_count": 30,
   "id": "5f029cf9",
   "metadata": {},
   "outputs": [
    {
     "data": {
      "text/plain": [
       "'Testing\\nTesting again'"
      ]
     },
     "execution_count": 30,
     "metadata": {},
     "output_type": "execute_result"
    }
   ],
   "source": [
    "f = open('newfile.txt', 'r')\n",
    "out = f.read()\n",
    "out"
   ]
  },
  {
   "cell_type": "code",
   "execution_count": 31,
   "id": "24b46cee",
   "metadata": {},
   "outputs": [
    {
     "name": "stdout",
     "output_type": "stream",
     "text": [
      "Testing\n",
      "Testing again\n"
     ]
    }
   ],
   "source": [
    "print(out)"
   ]
  },
  {
   "cell_type": "markdown",
   "id": "5c8b371d",
   "metadata": {},
   "source": [
    "### Paths\n",
    "\n",
    "```{index} single: Python; Paths\n",
    "```\n",
    "\n",
    "Note that if `newfile.txt` is not in the present working directory then this call to `open()` fails.\n",
    "\n",
    "In this case, you can shift the file to the pwd or specify the [full path](https://en.wikipedia.org/wiki/Path_%28computing%29) to the file\n",
    "\n",
    "```{code-block} python3\n",
    ":class: no-execute\n",
    "\n",
    "f = open('insert_full_path_to_file/newfile.txt', 'r')\n",
    "```\n",
    "\n",
    "(iterating_version_1)=\n",
    "## Iterating\n",
    "\n",
    "```{index} single: Python; Iteration\n",
    "```\n",
    "\n",
    "One of the most important tasks in computing is stepping through a\n",
    "sequence of data and performing a given action.\n",
    "\n",
    "One of Python's strengths is its simple, flexible interface to this kind of iteration via\n",
    "the `for` loop.\n",
    "\n",
    "### Looping over Different Objects\n",
    "\n",
    "Many Python objects are \"iterable\", in the sense that they can be looped over.\n",
    "\n",
    "To give an example, let's write the file us_cities.txt, which lists US cities and their population, to the present working directory.\n",
    "\n",
    "(us_cities_data)="
   ]
  },
  {
   "cell_type": "code",
   "execution_count": 32,
   "id": "931af07f",
   "metadata": {},
   "outputs": [
    {
     "name": "stdout",
     "output_type": "stream",
     "text": [
      "Overwriting us_cities.txt\n"
     ]
    }
   ],
   "source": [
    "%%writefile us_cities.txt\n",
    "new york: 8244910\n",
    "los angeles: 3819702\n",
    "chicago: 2707120\n",
    "houston: 2145146\n",
    "philadelphia: 1536471\n",
    "phoenix: 1469471\n",
    "san antonio: 1359758\n",
    "san diego: 1326179\n",
    "dallas: 1223229"
   ]
  },
  {
   "cell_type": "markdown",
   "id": "698f0741",
   "metadata": {},
   "source": [
    "Here `%%writefile` is an [IPython cell magic](https://ipython.readthedocs.io/en/stable/interactive/magics.html#cell-magics).\n",
    "\n",
    "Suppose that we want to make the information more readable, by capitalizing names and adding commas to mark thousands.\n",
    "\n",
    "The program below reads the data in and makes the conversion:"
   ]
  },
  {
   "cell_type": "code",
   "execution_count": 33,
   "id": "7a8613bd",
   "metadata": {},
   "outputs": [
    {
     "name": "stdout",
     "output_type": "stream",
     "text": [
      "New York       8,244,910\n",
      "Los Angeles    3,819,702\n",
      "Chicago        2,707,120\n",
      "Houston        2,145,146\n",
      "Philadelphia   1,536,471\n",
      "Phoenix        1,469,471\n",
      "San Antonio    1,359,758\n",
      "San Diego      1,326,179\n",
      "Dallas         1,223,229\n"
     ]
    }
   ],
   "source": [
    "data_file = open('us_cities.txt', 'r')\n",
    "for line in data_file:\n",
    "    city, population = line.split(':')         # Tuple unpacking\n",
    "    city = city.title()                        # Capitalize city names\n",
    "    population = f'{int(population):,}'        # Add commas to numbers\n",
    "    print(city.ljust(15) + population)\n",
    "data_file.close()"
   ]
  },
  {
   "cell_type": "markdown",
   "id": "36c24c70",
   "metadata": {},
   "source": [
    "Here `format()` is a string method [used for inserting variables into strings](https://docs.python.org/3/library/string.html#formatspec).\n",
    "\n",
    "The reformatting of each line is the result of three different string methods,\n",
    "the details of which can be left till later.\n",
    "\n",
    "The interesting part of this program for us is line 2, which shows that\n",
    "\n",
    "1. The file object `data_file` is iterable, in the sense that it can be placed to the right of `in` within a `for` loop.\n",
    "1. Iteration steps through each line in the file.\n",
    "\n",
    "This leads to the clean, convenient syntax shown in our program.\n",
    "\n",
    "Many other kinds of objects are iterable, and we'll discuss some of them later on.\n",
    "\n",
    "### Looping without Indices\n",
    "\n",
    "One thing you might have noticed is that Python tends to favor looping without explicit indexing.\n",
    "\n",
    "For example,"
   ]
  },
  {
   "cell_type": "code",
   "execution_count": 34,
   "id": "5d7356a6",
   "metadata": {},
   "outputs": [
    {
     "name": "stdout",
     "output_type": "stream",
     "text": [
      "1\n",
      "4\n",
      "9\n"
     ]
    }
   ],
   "source": [
    "x_values = [1, 2, 3]  # Some iterable x\n",
    "for x in x_values:\n",
    "    print(x * x)"
   ]
  },
  {
   "cell_type": "markdown",
   "id": "847a4bf1",
   "metadata": {},
   "source": [
    "is preferred to"
   ]
  },
  {
   "cell_type": "code",
   "execution_count": 35,
   "id": "eeb34d5b",
   "metadata": {},
   "outputs": [
    {
     "name": "stdout",
     "output_type": "stream",
     "text": [
      "1\n",
      "4\n",
      "9\n"
     ]
    }
   ],
   "source": [
    "for i in range(len(x_values)):\n",
    "    print(x_values[i] * x_values[i])"
   ]
  },
  {
   "cell_type": "markdown",
   "id": "dea32834",
   "metadata": {},
   "source": [
    "When you compare these two alternatives, you can see why the first one is preferred.\n",
    "\n",
    "Python provides some facilities to simplify looping without indices.\n",
    "\n",
    "One is `zip()`, which is used for stepping through pairs from two sequences.\n",
    "\n",
    "For example, try running the following code"
   ]
  },
  {
   "cell_type": "code",
   "execution_count": 36,
   "id": "f9eca3d6",
   "metadata": {},
   "outputs": [
    {
     "name": "stdout",
     "output_type": "stream",
     "text": [
      "The capital of Japan is Tokyo\n",
      "The capital of Korea is Seoul\n",
      "The capital of China is Beijing\n"
     ]
    }
   ],
   "source": [
    "countries = ('Japan', 'Korea', 'China')\n",
    "cities = ('Tokyo', 'Seoul', 'Beijing')\n",
    "for country, city in zip(countries, cities):\n",
    "    print(f'The capital of {country} is {city}')"
   ]
  },
  {
   "cell_type": "markdown",
   "id": "149f93db",
   "metadata": {},
   "source": [
    "The `zip()` function is also useful for creating dictionaries --- for\n",
    "example"
   ]
  },
  {
   "cell_type": "code",
   "execution_count": 37,
   "id": "5c8c0492",
   "metadata": {},
   "outputs": [
    {
     "data": {
      "text/plain": [
       "{'Tom': 'E', 'John': 'F'}"
      ]
     },
     "execution_count": 37,
     "metadata": {},
     "output_type": "execute_result"
    }
   ],
   "source": [
    "names = ['Tom', 'John']\n",
    "marks = ['E', 'F']\n",
    "dict(zip(names, marks))"
   ]
  },
  {
   "cell_type": "markdown",
   "id": "129c9f73",
   "metadata": {},
   "source": [
    "If we actually need the index from a list, one option is to use `enumerate()`.\n",
    "\n",
    "To understand what `enumerate()` does, consider the following example"
   ]
  },
  {
   "cell_type": "code",
   "execution_count": 38,
   "id": "89df484e",
   "metadata": {},
   "outputs": [
    {
     "name": "stdout",
     "output_type": "stream",
     "text": [
      "letter_list[0] = 'a'\n",
      "letter_list[1] = 'b'\n",
      "letter_list[2] = 'c'\n"
     ]
    }
   ],
   "source": [
    "letter_list = ['a', 'b', 'c']\n",
    "for index, letter in enumerate(letter_list):\n",
    "    print(f\"letter_list[{index}] = '{letter}'\")"
   ]
  },
  {
   "cell_type": "markdown",
   "id": "4d0c3185",
   "metadata": {},
   "source": [
    "(list_comprehensions)=\n",
    "### List Comprehensions\n",
    "\n",
    "```{index} single: Python; List comprehension\n",
    "```\n",
    "\n",
    "We can also simplify the code for generating the list of random draws considerably by using something called a *list comprehension*.\n",
    "\n",
    "[List comprehensions](https://en.wikipedia.org/wiki/List_comprehension) are an elegant Python tool for creating lists.\n",
    "\n",
    "Consider the following example, where the list comprehension is on the\n",
    "right-hand side of the second line"
   ]
  },
  {
   "cell_type": "code",
   "execution_count": 39,
   "id": "e9206882",
   "metadata": {},
   "outputs": [
    {
     "data": {
      "text/plain": [
       "['dogs', 'cats', 'birds']"
      ]
     },
     "execution_count": 39,
     "metadata": {},
     "output_type": "execute_result"
    }
   ],
   "source": [
    "animals = ['dog', 'cat', 'bird']\n",
    "plurals = [animal + 's' for animal in animals]\n",
    "plurals"
   ]
  },
  {
   "cell_type": "markdown",
   "id": "ff063287",
   "metadata": {},
   "source": [
    "Here's another example"
   ]
  },
  {
   "cell_type": "code",
   "execution_count": 40,
   "id": "f0cf2f0a",
   "metadata": {},
   "outputs": [
    {
     "data": {
      "text/plain": [
       "range(0, 8)"
      ]
     },
     "execution_count": 40,
     "metadata": {},
     "output_type": "execute_result"
    }
   ],
   "source": [
    "range(8)"
   ]
  },
  {
   "cell_type": "code",
   "execution_count": 41,
   "id": "6f9ba2a1",
   "metadata": {},
   "outputs": [
    {
     "data": {
      "text/plain": [
       "[0, 2, 4, 6, 8, 10, 12, 14]"
      ]
     },
     "execution_count": 41,
     "metadata": {},
     "output_type": "execute_result"
    }
   ],
   "source": [
    "doubles = [2 * x for x in range(8)]\n",
    "doubles"
   ]
  },
  {
   "cell_type": "markdown",
   "id": "0c4a285d",
   "metadata": {},
   "source": [
    "## Comparisons and Logical Operators\n",
    "\n",
    "### Comparisons\n",
    "\n",
    "```{index} single: Python; Comparison\n",
    "```\n",
    "\n",
    "Many different kinds of expressions evaluate to one of the Boolean values (i.e., `True` or `False`).\n",
    "\n",
    "A common type is comparisons, such as"
   ]
  },
  {
   "cell_type": "code",
   "execution_count": 42,
   "id": "fba21e42",
   "metadata": {},
   "outputs": [
    {
     "data": {
      "text/plain": [
       "True"
      ]
     },
     "execution_count": 42,
     "metadata": {},
     "output_type": "execute_result"
    }
   ],
   "source": [
    "x, y = 1, 2\n",
    "x < y"
   ]
  },
  {
   "cell_type": "code",
   "execution_count": 43,
   "id": "7f77fb18",
   "metadata": {},
   "outputs": [
    {
     "data": {
      "text/plain": [
       "False"
      ]
     },
     "execution_count": 43,
     "metadata": {},
     "output_type": "execute_result"
    }
   ],
   "source": [
    "x > y"
   ]
  },
  {
   "cell_type": "markdown",
   "id": "45a225f6",
   "metadata": {},
   "source": [
    "One of the nice features of Python is that we can *chain* inequalities"
   ]
  },
  {
   "cell_type": "code",
   "execution_count": 44,
   "id": "4c2a3f7f",
   "metadata": {},
   "outputs": [
    {
     "data": {
      "text/plain": [
       "True"
      ]
     },
     "execution_count": 44,
     "metadata": {},
     "output_type": "execute_result"
    }
   ],
   "source": [
    "1 < 2 < 3"
   ]
  },
  {
   "cell_type": "code",
   "execution_count": 45,
   "id": "95156279",
   "metadata": {},
   "outputs": [
    {
     "data": {
      "text/plain": [
       "True"
      ]
     },
     "execution_count": 45,
     "metadata": {},
     "output_type": "execute_result"
    }
   ],
   "source": [
    "1 <= 2 <= 3"
   ]
  },
  {
   "cell_type": "markdown",
   "id": "8a836c59",
   "metadata": {},
   "source": [
    "As we saw earlier, when testing for equality we use `==`"
   ]
  },
  {
   "cell_type": "code",
   "execution_count": 46,
   "id": "a599960e",
   "metadata": {},
   "outputs": [
    {
     "data": {
      "text/plain": [
       "False"
      ]
     },
     "execution_count": 46,
     "metadata": {},
     "output_type": "execute_result"
    }
   ],
   "source": [
    "x = 1    # Assignment\n",
    "x == 2   # Comparison"
   ]
  },
  {
   "cell_type": "markdown",
   "id": "13b8b697",
   "metadata": {},
   "source": [
    "For \"not equal\" use `!=`"
   ]
  },
  {
   "cell_type": "code",
   "execution_count": 47,
   "id": "039d6972",
   "metadata": {},
   "outputs": [
    {
     "data": {
      "text/plain": [
       "True"
      ]
     },
     "execution_count": 47,
     "metadata": {},
     "output_type": "execute_result"
    }
   ],
   "source": [
    "1 != 2"
   ]
  },
  {
   "cell_type": "markdown",
   "id": "39f5ae40",
   "metadata": {},
   "source": [
    "Note that when testing conditions, we can use **any** valid Python expression"
   ]
  },
  {
   "cell_type": "code",
   "execution_count": 48,
   "id": "56262687",
   "metadata": {},
   "outputs": [
    {
     "data": {
      "text/plain": [
       "'yes'"
      ]
     },
     "execution_count": 48,
     "metadata": {},
     "output_type": "execute_result"
    }
   ],
   "source": [
    "x = 'yes' if 42 else 'no'\n",
    "x"
   ]
  },
  {
   "cell_type": "code",
   "execution_count": 49,
   "id": "208e8841",
   "metadata": {},
   "outputs": [
    {
     "data": {
      "text/plain": [
       "'no'"
      ]
     },
     "execution_count": 49,
     "metadata": {},
     "output_type": "execute_result"
    }
   ],
   "source": [
    "x = 'yes' if [] else 'no'\n",
    "x"
   ]
  },
  {
   "cell_type": "markdown",
   "id": "98d5dc01",
   "metadata": {},
   "source": [
    "What's going on here?\n",
    "\n",
    "The rule is:\n",
    "\n",
    "* Expressions that evaluate to zero, empty sequences or containers (strings, lists, etc.) and `None` are all equivalent to `False`.\n",
    "    * for example, `[]` and `()` are equivalent to `False` in an `if` clause\n",
    "* All other values are equivalent to `True`.\n",
    "    * for example, `42` is equivalent to `True` in an `if` clause\n",
    "\n",
    "### Combining Expressions\n",
    "\n",
    "```{index} single: Python; Logical Expressions\n",
    "```\n",
    "\n",
    "We can combine expressions using `and`, `or` and `not`.\n",
    "\n",
    "These are the standard logical connectives (conjunction, disjunction and denial)"
   ]
  },
  {
   "cell_type": "code",
   "execution_count": 50,
   "id": "dcd238f7",
   "metadata": {},
   "outputs": [
    {
     "data": {
      "text/plain": [
       "True"
      ]
     },
     "execution_count": 50,
     "metadata": {},
     "output_type": "execute_result"
    }
   ],
   "source": [
    "1 < 2 and 'f' in 'foo'"
   ]
  },
  {
   "cell_type": "code",
   "execution_count": 51,
   "id": "b3ee87a1",
   "metadata": {},
   "outputs": [
    {
     "data": {
      "text/plain": [
       "False"
      ]
     },
     "execution_count": 51,
     "metadata": {},
     "output_type": "execute_result"
    }
   ],
   "source": [
    "1 < 2 and 'g' in 'foo'"
   ]
  },
  {
   "cell_type": "code",
   "execution_count": 52,
   "id": "94034ef2",
   "metadata": {},
   "outputs": [
    {
     "data": {
      "text/plain": [
       "True"
      ]
     },
     "execution_count": 52,
     "metadata": {},
     "output_type": "execute_result"
    }
   ],
   "source": [
    "1 < 2 or 'g' in 'foo'"
   ]
  },
  {
   "cell_type": "code",
   "execution_count": 53,
   "id": "ffccd164",
   "metadata": {},
   "outputs": [
    {
     "data": {
      "text/plain": [
       "False"
      ]
     },
     "execution_count": 53,
     "metadata": {},
     "output_type": "execute_result"
    }
   ],
   "source": [
    "not True"
   ]
  },
  {
   "cell_type": "code",
   "execution_count": 54,
   "id": "274fff49",
   "metadata": {},
   "outputs": [
    {
     "data": {
      "text/plain": [
       "True"
      ]
     },
     "execution_count": 54,
     "metadata": {},
     "output_type": "execute_result"
    }
   ],
   "source": [
    "not not True"
   ]
  },
  {
   "cell_type": "markdown",
   "id": "789faa13",
   "metadata": {},
   "source": [
    "Remember\n",
    "\n",
    "* `P and Q` is `True` if both are `True`, else `False`\n",
    "* `P or Q` is `False` if both are `False`, else `True`\n",
    "\n",
    "We can also use `all()` and `any()` to test a sequence of expressions"
   ]
  },
  {
   "cell_type": "code",
   "execution_count": 55,
   "id": "3fd426db",
   "metadata": {},
   "outputs": [
    {
     "data": {
      "text/plain": [
       "True"
      ]
     },
     "execution_count": 55,
     "metadata": {},
     "output_type": "execute_result"
    }
   ],
   "source": [
    "all([1 <= 2 <= 3, 5 <= 6 <= 7])"
   ]
  },
  {
   "cell_type": "code",
   "execution_count": 56,
   "id": "d0da5621",
   "metadata": {},
   "outputs": [
    {
     "data": {
      "text/plain": [
       "False"
      ]
     },
     "execution_count": 56,
     "metadata": {},
     "output_type": "execute_result"
    }
   ],
   "source": [
    "all([1 <= 2 <= 3, \"a\" in \"letter\"])"
   ]
  },
  {
   "cell_type": "code",
   "execution_count": 57,
   "id": "4d8ed8c7",
   "metadata": {},
   "outputs": [
    {
     "data": {
      "text/plain": [
       "True"
      ]
     },
     "execution_count": 57,
     "metadata": {},
     "output_type": "execute_result"
    }
   ],
   "source": [
    "any([1 <= 2 <= 3, \"a\" in \"letter\"])"
   ]
  },
  {
   "cell_type": "markdown",
   "id": "c9d3ea0e",
   "metadata": {},
   "source": [
    "```{note}\n",
    "* `all()` returns `True` when *all* boolean values/expressions in the sequence are `True`\n",
    "* `any()` returns `True` when *any* boolean values/expressions in the sequence are `True`\n",
    "```\n",
    "\n",
    "## Coding Style and Documentation\n",
    "\n",
    "A consistent coding style and the use of \n",
    "documentation can make the code easier to understand and maintain.\n",
    "\n",
    "### Python Style Guidelines: PEP8\n",
    "\n",
    "```{index} single: Python; PEP8\n",
    "```\n",
    "\n",
    "You can find Python programming philosophy by typing `import this` at the prompt.\n",
    "\n",
    "Among other things, Python strongly favors consistency in programming style.\n",
    "\n",
    "We've all heard the saying about consistency and little minds.\n",
    "\n",
    "In programming, as in mathematics, the opposite is true\n",
    "\n",
    "* A mathematical paper where the symbols $\\cup$ and $\\cap$ were\n",
    "  reversed would be very hard to read, even if the author told you so on the\n",
    "  first page.\n",
    "\n",
    "In Python, the standard style is set out in [PEP8](https://www.python.org/dev/peps/pep-0008/).\n",
    "\n",
    "(Occasionally we'll deviate from PEP8 in these lectures to better match mathematical notation)\n",
    "\n",
    "(Docstrings)=\n",
    "### Docstrings\n",
    "\n",
    "```{index} single: Python; Docstrings\n",
    "```\n",
    "\n",
    "Python has a system for adding comments to modules, classes, functions, etc. called *docstrings*.\n",
    "\n",
    "The nice thing about docstrings is that they are available at run-time.\n",
    "\n",
    "Try running this"
   ]
  },
  {
   "cell_type": "code",
   "execution_count": 58,
   "id": "dc11477b",
   "metadata": {},
   "outputs": [],
   "source": [
    "def f(x):\n",
    "    \"\"\"\n",
    "    This function squares its argument\n",
    "    \"\"\"\n",
    "    return x**2"
   ]
  },
  {
   "cell_type": "markdown",
   "id": "6ce379d2",
   "metadata": {},
   "source": [
    "After running this code, the docstring is available"
   ]
  },
  {
   "cell_type": "code",
   "execution_count": 59,
   "id": "44f65247",
   "metadata": {},
   "outputs": [],
   "source": [
    "f?"
   ]
  },
  {
   "cell_type": "markdown",
   "id": "f6f61474",
   "metadata": {},
   "source": [
    "```{code-block} ipython\n",
    ":class: no-execute\n",
    "\n",
    "Type:       function\n",
    "String Form:<function f at 0x2223320>\n",
    "File:       /home/john/temp/temp.py\n",
    "Definition: f(x)\n",
    "Docstring:  This function squares its argument\n",
    "```"
   ]
  },
  {
   "cell_type": "code",
   "execution_count": 60,
   "id": "0c124582",
   "metadata": {},
   "outputs": [],
   "source": [
    "f??"
   ]
  },
  {
   "cell_type": "markdown",
   "id": "69aa5bf6",
   "metadata": {},
   "source": [
    "```{code-block} ipython\n",
    ":class: no-execute\n",
    "\n",
    "Type:       function\n",
    "String Form:<function f at 0x2223320>\n",
    "File:       /home/john/temp/temp.py\n",
    "Definition: f(x)\n",
    "Source:\n",
    "def f(x):\n",
    "    \"\"\"\n",
    "    This function squares its argument\n",
    "    \"\"\"\n",
    "    return x**2\n",
    "```\n",
    "\n",
    "With one question mark we bring up the docstring, and with two we get the source code as well.\n",
    "\n",
    "You can find conventions for docstrings in [PEP257](https://peps.python.org/pep-0257/).\n",
    "\n",
    "## Exercises\n",
    "\n",
    "Solve the following exercises.\n",
    "\n",
    "(For some, the built-in function `sum()` comes in handy).\n",
    "\n",
    "```{exercise-start}\n",
    ":label: pyess_ex1\n",
    "```\n",
    "Part 1: Given two numeric lists or tuples `x_vals` and `y_vals` of equal length, compute\n",
    "their inner product using `zip()`.\n",
    "\n",
    "Part 2: In one line, count the number of even numbers in 0,...,99.\n",
    "\n",
    "Part 3: Given `pairs = ((2, 5), (4, 2), (9, 8), (12, 10))`, count the number of pairs `(a, b)`\n",
    "such that both `a` and `b` are even.\n",
    "\n",
    "```{hint}\n",
    ":class: dropdown\n",
    "\n",
    "`x % 2` returns 0 if `x` is even, 1 otherwise.\n",
    "\n",
    "```\n",
    "\n",
    "```{exercise-end}\n",
    "```\n",
    "\n",
    "\n",
    "```{solution-start} pyess_ex1\n",
    ":class: dropdown\n",
    "```\n",
    "\n",
    "**Part 1 Solution:**\n",
    "\n",
    "Here's one possible solution"
   ]
  },
  {
   "cell_type": "code",
   "execution_count": 61,
   "id": "49328963",
   "metadata": {},
   "outputs": [
    {
     "data": {
      "text/plain": [
       "6"
      ]
     },
     "execution_count": 61,
     "metadata": {},
     "output_type": "execute_result"
    }
   ],
   "source": [
    "x_vals = [1, 2, 3]\n",
    "y_vals = [1, 1, 1]\n",
    "sum([x * y for x, y in zip(x_vals, y_vals)])"
   ]
  },
  {
   "cell_type": "markdown",
   "id": "c6491470",
   "metadata": {},
   "source": [
    "This also works"
   ]
  },
  {
   "cell_type": "code",
   "execution_count": 62,
   "id": "02698fbb",
   "metadata": {},
   "outputs": [
    {
     "data": {
      "text/plain": [
       "6"
      ]
     },
     "execution_count": 62,
     "metadata": {},
     "output_type": "execute_result"
    }
   ],
   "source": [
    "sum(x * y for x, y in zip(x_vals, y_vals))"
   ]
  },
  {
   "cell_type": "markdown",
   "id": "3934a1c3",
   "metadata": {},
   "source": [
    "**Part 2 Solution:**\n",
    "\n",
    "One solution is"
   ]
  },
  {
   "cell_type": "code",
   "execution_count": 63,
   "id": "c8816330",
   "metadata": {},
   "outputs": [
    {
     "data": {
      "text/plain": [
       "50"
      ]
     },
     "execution_count": 63,
     "metadata": {},
     "output_type": "execute_result"
    }
   ],
   "source": [
    "sum([x % 2 == 0 for x in range(100)])"
   ]
  },
  {
   "cell_type": "markdown",
   "id": "fbba3c69",
   "metadata": {},
   "source": [
    "This also works:"
   ]
  },
  {
   "cell_type": "code",
   "execution_count": 64,
   "id": "9f829a05",
   "metadata": {},
   "outputs": [
    {
     "data": {
      "text/plain": [
       "50"
      ]
     },
     "execution_count": 64,
     "metadata": {},
     "output_type": "execute_result"
    }
   ],
   "source": [
    "sum(x % 2 == 0 for x in range(100))"
   ]
  },
  {
   "cell_type": "markdown",
   "id": "44684e0d",
   "metadata": {},
   "source": [
    "Some less natural alternatives that nonetheless help to illustrate the\n",
    "flexibility of list comprehensions are"
   ]
  },
  {
   "cell_type": "code",
   "execution_count": 65,
   "id": "561002ff",
   "metadata": {},
   "outputs": [
    {
     "data": {
      "text/plain": [
       "50"
      ]
     },
     "execution_count": 65,
     "metadata": {},
     "output_type": "execute_result"
    }
   ],
   "source": [
    "len([x for x in range(100) if x % 2 == 0])"
   ]
  },
  {
   "cell_type": "markdown",
   "id": "cf2a0ba6",
   "metadata": {},
   "source": [
    "and"
   ]
  },
  {
   "cell_type": "code",
   "execution_count": 66,
   "id": "5a4e68e1",
   "metadata": {},
   "outputs": [
    {
     "data": {
      "text/plain": [
       "50"
      ]
     },
     "execution_count": 66,
     "metadata": {},
     "output_type": "execute_result"
    }
   ],
   "source": [
    "sum([1 for x in range(100) if x % 2 == 0])"
   ]
  },
  {
   "cell_type": "markdown",
   "id": "d855f933",
   "metadata": {},
   "source": [
    "**Part 3 Solution:**\n",
    "\n",
    "Here's one possibility"
   ]
  },
  {
   "cell_type": "code",
   "execution_count": 67,
   "id": "d73887ea",
   "metadata": {},
   "outputs": [
    {
     "data": {
      "text/plain": [
       "2"
      ]
     },
     "execution_count": 67,
     "metadata": {},
     "output_type": "execute_result"
    }
   ],
   "source": [
    "pairs = ((2, 5), (4, 2), (9, 8), (12, 10))\n",
    "sum([x % 2 == 0 and y % 2 == 0 for x, y in pairs])"
   ]
  },
  {
   "cell_type": "markdown",
   "id": "325fecfa",
   "metadata": {},
   "source": [
    "```{solution-end}\n",
    "```\n",
    "\n",
    "```{exercise-start}\n",
    ":label: pyess_ex2\n",
    "```\n",
    "\n",
    "Consider the polynomial\n",
    "\n",
    "```{math}\n",
    ":label: polynom0\n",
    "\n",
    "p(x)\n",
    "= a_0 + a_1 x + a_2 x^2 + \\cdots a_n x^n\n",
    "= \\sum_{i=0}^n a_i x^i\n",
    "```\n",
    "\n",
    "Write a function `p` such that `p(x, coeff)` that computes the value in {eq}`polynom0` given a point `x` and a list of coefficients `coeff` ($a_1, a_2, \\cdots a_n$).\n",
    "\n",
    "Try to use `enumerate()` in your loop.\n",
    "\n",
    "```{exercise-end}\n",
    "```\n",
    "\n",
    "```{solution-start} pyess_ex2\n",
    ":class: dropdown\n",
    "```\n",
    "Here’s a solution:"
   ]
  },
  {
   "cell_type": "code",
   "execution_count": 68,
   "id": "218b96a4",
   "metadata": {},
   "outputs": [],
   "source": [
    "def p(x, coeff):\n",
    "    return sum(a * x**i for i, a in enumerate(coeff))"
   ]
  },
  {
   "cell_type": "code",
   "execution_count": 69,
   "id": "3170a391",
   "metadata": {},
   "outputs": [
    {
     "data": {
      "text/plain": [
       "6"
      ]
     },
     "execution_count": 69,
     "metadata": {},
     "output_type": "execute_result"
    }
   ],
   "source": [
    "p(1, (2, 4))"
   ]
  },
  {
   "cell_type": "markdown",
   "id": "58b70d49",
   "metadata": {},
   "source": [
    "```{solution-end}\n",
    "```\n",
    "\n",
    "\n",
    "```{exercise-start}\n",
    ":label: pyess_ex3\n",
    "```\n",
    "\n",
    "Write a function that takes a string as an argument and returns the number of capital letters in the string.\n",
    "\n",
    "```{hint}\n",
    ":class: dropdown\n",
    "\n",
    "`'foo'.upper()` returns `'FOO'`.\n",
    "\n",
    "```\n",
    "\n",
    "```{exercise-end}\n",
    "```\n",
    "\n",
    "```{solution-start} pyess_ex3\n",
    ":class: dropdown\n",
    "```\n",
    "\n",
    "Here's one solution:"
   ]
  },
  {
   "cell_type": "code",
   "execution_count": 70,
   "id": "014d7d34",
   "metadata": {},
   "outputs": [
    {
     "data": {
      "text/plain": [
       "3"
      ]
     },
     "execution_count": 70,
     "metadata": {},
     "output_type": "execute_result"
    }
   ],
   "source": [
    "def f(string):\n",
    "    count = 0\n",
    "    for letter in string:\n",
    "        if letter == letter.upper() and letter.isalpha():\n",
    "            count += 1\n",
    "    return count\n",
    "\n",
    "f('The Rain in Spain')"
   ]
  },
  {
   "cell_type": "markdown",
   "id": "a01fd9a0",
   "metadata": {},
   "source": [
    "An alternative, more pythonic solution:"
   ]
  },
  {
   "cell_type": "code",
   "execution_count": 71,
   "id": "037a7a85",
   "metadata": {},
   "outputs": [
    {
     "data": {
      "text/plain": [
       "3"
      ]
     },
     "execution_count": 71,
     "metadata": {},
     "output_type": "execute_result"
    }
   ],
   "source": [
    "def count_uppercase_chars(s):\n",
    "    return sum([c.isupper() for c in s])\n",
    "\n",
    "count_uppercase_chars('The Rain in Spain')"
   ]
  },
  {
   "cell_type": "markdown",
   "id": "7d814b20",
   "metadata": {},
   "source": [
    "```{solution-end}\n",
    "```\n",
    "\n",
    "\n",
    "\n",
    "```{exercise}\n",
    ":label: pyess_ex4\n",
    "\n",
    "Write a function that takes two sequences `seq_a` and `seq_b` as arguments and\n",
    "returns `True` if every element in `seq_a` is also an element of `seq_b`, else\n",
    "`False`.\n",
    "\n",
    "* By \"sequence\" we mean a list, a tuple or a string.\n",
    "* Do the exercise without using [sets](https://docs.python.org/3/tutorial/datastructures.html#sets) and set methods.\n",
    "```\n",
    "\n",
    "```{solution-start} pyess_ex4\n",
    ":class: dropdown\n",
    "```\n",
    "\n",
    "Here's a solution:"
   ]
  },
  {
   "cell_type": "code",
   "execution_count": 72,
   "id": "8b6c35e1",
   "metadata": {},
   "outputs": [
    {
     "name": "stdout",
     "output_type": "stream",
     "text": [
      "True\n",
      "False\n",
      "True\n",
      "False\n"
     ]
    }
   ],
   "source": [
    "def f(seq_a, seq_b):\n",
    "    for a in seq_a:\n",
    "        if a not in seq_b:\n",
    "            return False\n",
    "    return True\n",
    "\n",
    "# == test == #\n",
    "print(f(\"ab\", \"cadb\"))\n",
    "print(f(\"ab\", \"cjdb\"))\n",
    "print(f([1, 2], [1, 2, 3]))\n",
    "print(f([1, 2, 3], [1, 2]))"
   ]
  },
  {
   "cell_type": "markdown",
   "id": "34b4aa54",
   "metadata": {},
   "source": [
    "An alternative, more pythonic solution using `all()`:"
   ]
  },
  {
   "cell_type": "code",
   "execution_count": 73,
   "id": "de98331c",
   "metadata": {},
   "outputs": [
    {
     "name": "stdout",
     "output_type": "stream",
     "text": [
      "True\n",
      "False\n",
      "True\n",
      "False\n"
     ]
    }
   ],
   "source": [
    "def f(seq_a, seq_b):\n",
    "  return all([i in seq_b for i in seq_a])\n",
    "\n",
    "# == test == #\n",
    "print(f(\"ab\", \"cadb\"))\n",
    "print(f(\"ab\", \"cjdb\"))\n",
    "print(f([1, 2], [1, 2, 3]))\n",
    "print(f([1, 2, 3], [1, 2]))"
   ]
  },
  {
   "cell_type": "markdown",
   "id": "d11a10fb",
   "metadata": {},
   "source": [
    "Of course, if we use the `sets` data type then the solution is easier"
   ]
  },
  {
   "cell_type": "code",
   "execution_count": 74,
   "id": "9e9c9e8a",
   "metadata": {},
   "outputs": [],
   "source": [
    "def f(seq_a, seq_b):\n",
    "    return set(seq_a).issubset(set(seq_b))"
   ]
  },
  {
   "cell_type": "markdown",
   "id": "b69ad1b5",
   "metadata": {},
   "source": [
    "```{solution-end}\n",
    "```\n",
    "\n",
    "\n",
    "```{exercise}\n",
    ":label: pyess_ex5\n",
    "\n",
    "When we cover the numerical libraries, we will see they include many\n",
    "alternatives for interpolation and function approximation.\n",
    "\n",
    "Nevertheless, let's write our own function approximation routine as an exercise.\n",
    "\n",
    "In particular, without using any imports, write a function `linapprox` that takes as arguments\n",
    "\n",
    "* A function `f` mapping some interval $[a, b]$ into $\\mathbb R$.\n",
    "* Two scalars `a` and `b` providing the limits of this interval.\n",
    "* An integer `n` determining the number of grid points.\n",
    "* A number `x` satisfying `a <= x <= b`.\n",
    "\n",
    "and returns the [piecewise linear interpolation](https://en.wikipedia.org/wiki/Linear_interpolation) of `f` at `x`, based on `n` evenly spaced grid points `a = point[0] < point[1] < ... < point[n-1] = b`.\n",
    "\n",
    "Aim for clarity, not efficiency.\n",
    "```\n",
    "\n",
    "```{solution-start} pyess_ex5\n",
    ":class: dropdown\n",
    "```\n",
    "Here’s a solution:"
   ]
  },
  {
   "cell_type": "code",
   "execution_count": 75,
   "id": "c227cad2",
   "metadata": {},
   "outputs": [],
   "source": [
    "def linapprox(f, a, b, n, x):\n",
    "    \"\"\"\n",
    "    Evaluates the piecewise linear interpolant of f at x on the interval\n",
    "    [a, b], with n evenly spaced grid points.\n",
    "\n",
    "    Parameters\n",
    "    ==========\n",
    "        f : function\n",
    "            The function to approximate\n",
    "\n",
    "        x, a, b : scalars (floats or integers)\n",
    "            Evaluation point and endpoints, with a <= x <= b\n",
    "\n",
    "        n : integer\n",
    "            Number of grid points\n",
    "\n",
    "    Returns\n",
    "    =======\n",
    "        A float. The interpolant evaluated at x\n",
    "\n",
    "    \"\"\"\n",
    "    length_of_interval = b - a\n",
    "    num_subintervals = n - 1\n",
    "    step = length_of_interval / num_subintervals\n",
    "\n",
    "    # === find first grid point larger than x === #\n",
    "    point = a\n",
    "    while point <= x:\n",
    "        point += step\n",
    "\n",
    "    # === x must lie between the gridpoints (point - step) and point === #\n",
    "    u, v = point - step, point\n",
    "\n",
    "    return f(u) + (x - u) * (f(v) - f(u)) / (v - u)"
   ]
  },
  {
   "cell_type": "markdown",
   "id": "0be7e172",
   "metadata": {},
   "source": [
    "```{solution-end}\n",
    "```\n",
    "\n",
    "\n",
    "```{exercise-start}\n",
    ":label: pyess_ex6\n",
    "```\n",
    "\n",
    "Using list comprehension syntax, we can simplify the loop in the following\n",
    "code."
   ]
  },
  {
   "cell_type": "code",
   "execution_count": 76,
   "id": "a0b19065",
   "metadata": {},
   "outputs": [],
   "source": [
    "import numpy as np\n",
    "\n",
    "n = 100\n",
    "ϵ_values = []\n",
    "for i in range(n):\n",
    "    e = np.random.randn()\n",
    "    ϵ_values.append(e)"
   ]
  },
  {
   "cell_type": "markdown",
   "id": "f51ad75b",
   "metadata": {},
   "source": [
    "```{exercise-end}\n",
    "```\n",
    "\n",
    "```{solution-start} pyess_ex6\n",
    ":class: dropdown\n",
    "```\n",
    "\n",
    "Here's one solution."
   ]
  },
  {
   "cell_type": "code",
   "execution_count": 77,
   "id": "ea79352e",
   "metadata": {},
   "outputs": [],
   "source": [
    "n = 100\n",
    "ϵ_values = [np.random.randn() for i in range(n)]"
   ]
  },
  {
   "cell_type": "markdown",
   "id": "98505bf2",
   "metadata": {},
   "source": [
    "```{solution-end}\n",
    "```"
   ]
  }
 ],
 "metadata": {
  "jupytext": {
   "text_representation": {
    "extension": ".md",
    "format_name": "myst"
   }
  },
  "kernelspec": {
   "display_name": "Python 3",
   "language": "python",
   "name": "python3"
  },
  "language_info": {
   "codemirror_mode": {
    "name": "ipython",
    "version": 3
   },
   "file_extension": ".py",
   "mimetype": "text/x-python",
   "name": "python",
   "nbconvert_exporter": "python",
   "pygments_lexer": "ipython3",
   "version": "3.9.12"
  },
  "source_map": [
   10,
   69,
   72,
   76,
   78,
   82,
   87,
   89,
   97,
   101,
   105,
   109,
   113,
   123,
   129,
   142,
   148,
   150,
   158,
   162,
   166,
   172,
   178,
   184,
   186,
   202,
   207,
   209,
   215,
   217,
   221,
   223,
   227,
   229,
   233,
   236,
   251,
   256,
   258,
   267,
   272,
   277,
   279,
   283,
   286,
   295,
   300,
   311,
   313,
   319,
   325,
   327,
   363,
   374,
   382,
   390,
   412,
   416,
   420,
   423,
   433,
   438,
   443,
   447,
   453,
   457,
   471,
   475,
   479,
   483,
   486,
   499,
   504,
   506,
   510,
   514,
   516,
   520,
   523,
   527,
   529,
   533,
   538,
   541,
   561,
   565,
   569,
   573,
   577,
   579,
   588,
   591,
   594,
   596,
   641,
   647,
   651,
   653,
   665,
   667,
   724,
   728,
   732,
   734,
   740,
   742,
   746,
   748,
   753,
   755,
   759,
   761,
   767,
   770,
   801,
   806,
   808,
   836,
   845,
   849,
   854,
   878,
   890,
   894,
   903,
   907,
   910,
   941,
   976,
   989,
   997,
   1008,
   1011
  ]
 },
 "nbformat": 4,
 "nbformat_minor": 5
}