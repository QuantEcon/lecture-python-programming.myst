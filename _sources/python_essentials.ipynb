{
 "cells": [
  {
   "cell_type": "markdown",
   "id": "714f9ca6",
   "metadata": {},
   "source": [
    "(python_done_right)=\n",
    "```{raw} jupyter\n",
    "<div id=\"qe-notebook-header\" align=\"right\" style=\"text-align:right;\">\n",
    "        <a href=\"https://quantecon.org/\" title=\"quantecon.org\">\n",
    "                <img style=\"width:250px;display:inline;\" width=\"250px\" src=\"https://assets.quantecon.org/img/qe-menubar-logo.svg\" alt=\"QuantEcon\">\n",
    "        </a>\n",
    "</div>\n",
    "```\n",
    "\n",
    "# Python Essentials\n",
    "\n",
    "```{contents} Contents\n",
    ":depth: 2\n",
    "```\n",
    "\n",
    "## Overview\n",
    "\n",
    "We have covered a lot of material quite quickly, with a focus on examples.\n",
    "\n",
    "Now let's cover some core features of Python in a more systematic way.\n",
    "\n",
    "This approach is less exciting but helps clear up some details.\n",
    "\n",
    "## Data Types\n",
    "\n",
    "```{index} single: Python; Data Types\n",
    "```\n",
    "\n",
    "Computer programs typically keep track of a range of data types.\n",
    "\n",
    "For example, `1.5` is a floating point number, while `1` is an integer.\n",
    "\n",
    "Programs need to distinguish between these two types for various reasons.\n",
    "\n",
    "One is that they are stored in memory differently.\n",
    "\n",
    "Another is that arithmetic operations are different\n",
    "\n",
    "* For example, floating point arithmetic is implemented on most machines by a\n",
    "  specialized Floating Point Unit (FPU).\n",
    "\n",
    "In general, floats are more informative but arithmetic operations on integers\n",
    "are faster and more accurate.\n",
    "\n",
    "Python provides numerous other built-in Python data types, some of which we've already met\n",
    "\n",
    "* strings, lists, etc.\n",
    "\n",
    "Let's learn a bit more about them.\n",
    "\n",
    "### Primitive Data Types\n",
    "\n",
    "(boolean)=\n",
    "#### Boolean Values\n",
    "\n",
    "One simple data type is **Boolean values**, which can be either `True` or `False`"
   ]
  },
  {
   "cell_type": "code",
   "execution_count": null,
   "id": "f13b4433",
   "metadata": {},
   "outputs": [],
   "source": [
    "x = True\n",
    "x"
   ]
  },
  {
   "cell_type": "markdown",
   "id": "0eba6dbd",
   "metadata": {},
   "source": [
    "We can check the type of any object in memory using the `type()` function."
   ]
  },
  {
   "cell_type": "code",
   "execution_count": null,
   "id": "57f9a31f",
   "metadata": {},
   "outputs": [],
   "source": [
    "type(x)"
   ]
  },
  {
   "cell_type": "markdown",
   "id": "aaa13c61",
   "metadata": {},
   "source": [
    "In the next line of code, the interpreter evaluates the expression on the right of = and binds y to this value"
   ]
  },
  {
   "cell_type": "code",
   "execution_count": null,
   "id": "586a1501",
   "metadata": {},
   "outputs": [],
   "source": [
    "y = 100 < 10\n",
    "y"
   ]
  },
  {
   "cell_type": "code",
   "execution_count": null,
   "id": "3138e615",
   "metadata": {},
   "outputs": [],
   "source": [
    "type(y)"
   ]
  },
  {
   "cell_type": "markdown",
   "id": "f95e9bf9",
   "metadata": {},
   "source": [
    "In arithmetic expressions, `True` is converted to `1` and `False` is converted `0`.\n",
    "\n",
    "This is called **Boolean arithmetic** and is often useful in programming.\n",
    "\n",
    "Here are some examples"
   ]
  },
  {
   "cell_type": "code",
   "execution_count": null,
   "id": "8a678b9d",
   "metadata": {},
   "outputs": [],
   "source": [
    "x + y"
   ]
  },
  {
   "cell_type": "code",
   "execution_count": null,
   "id": "4ba74002",
   "metadata": {},
   "outputs": [],
   "source": [
    "x * y"
   ]
  },
  {
   "cell_type": "code",
   "execution_count": null,
   "id": "ff6aa28d",
   "metadata": {},
   "outputs": [],
   "source": [
    "True + True"
   ]
  },
  {
   "cell_type": "code",
   "execution_count": null,
   "id": "8342538b",
   "metadata": {},
   "outputs": [],
   "source": [
    "bools = [True, True, False, True]  # List of Boolean values\n",
    "\n",
    "sum(bools)"
   ]
  },
  {
   "cell_type": "markdown",
   "id": "3726a607",
   "metadata": {},
   "source": [
    "#### Numeric Types\n",
    "\n",
    "Numeric types are also important primitive data types.\n",
    "\n",
    "We have seen `integer` and `float` types before.\n",
    "\n",
    "**Complex numbers** are another primitive data type in Python"
   ]
  },
  {
   "cell_type": "code",
   "execution_count": null,
   "id": "27cbdf56",
   "metadata": {},
   "outputs": [],
   "source": [
    "x = complex(1, 2)\n",
    "y = complex(2, 1)\n",
    "print(x * y)\n",
    "\n",
    "type(x)"
   ]
  },
  {
   "cell_type": "markdown",
   "id": "a942a9d0",
   "metadata": {},
   "source": [
    "### Containers\n",
    "\n",
    "Python has several basic types for storing collections of (possibly heterogeneous) data.\n",
    "\n",
    "We've {ref}`already discussed lists <lists_ref>`.\n",
    "\n",
    "```{index} single: Python; Tuples\n",
    "```\n",
    "\n",
    "A related data type is **tuples**, which are \"immutable\" lists"
   ]
  },
  {
   "cell_type": "code",
   "execution_count": null,
   "id": "f07325e4",
   "metadata": {},
   "outputs": [],
   "source": [
    "x = ('a', 'b')  # Parentheses instead of the square brackets\n",
    "x = 'a', 'b'    # Or no brackets --- the meaning is identical\n",
    "x"
   ]
  },
  {
   "cell_type": "code",
   "execution_count": null,
   "id": "9de7b548",
   "metadata": {},
   "outputs": [],
   "source": [
    "type(x)"
   ]
  },
  {
   "cell_type": "markdown",
   "id": "3d588242",
   "metadata": {},
   "source": [
    "In Python, an object is called **immutable** if, once created, the object cannot be changed.\n",
    "\n",
    "Conversely, an object is **mutable** if it can still be altered after creation.\n",
    "\n",
    "Python lists are mutable"
   ]
  },
  {
   "cell_type": "code",
   "execution_count": null,
   "id": "43324398",
   "metadata": {},
   "outputs": [],
   "source": [
    "x = [1, 2]\n",
    "x[0] = 10\n",
    "x"
   ]
  },
  {
   "cell_type": "markdown",
   "id": "f74db40c",
   "metadata": {},
   "source": [
    "But tuples are not"
   ]
  },
  {
   "cell_type": "code",
   "execution_count": null,
   "id": "a819e19c",
   "metadata": {
    "tags": [
     "raises-exception"
    ]
   },
   "outputs": [],
   "source": [
    "x = (1, 2)\n",
    "x[0] = 10"
   ]
  },
  {
   "cell_type": "markdown",
   "id": "e0522064",
   "metadata": {},
   "source": [
    "We'll say more about the role of mutable and immutable data a bit later.\n",
    "\n",
    "Tuples (and lists) can be \"unpacked\" as follows"
   ]
  },
  {
   "cell_type": "code",
   "execution_count": null,
   "id": "bd6c1502",
   "metadata": {},
   "outputs": [],
   "source": [
    "integers = (10, 20, 30)\n",
    "x, y, z = integers\n",
    "x"
   ]
  },
  {
   "cell_type": "code",
   "execution_count": null,
   "id": "1c0fc5c5",
   "metadata": {},
   "outputs": [],
   "source": [
    "y"
   ]
  },
  {
   "cell_type": "markdown",
   "id": "01c240b6",
   "metadata": {},
   "source": [
    "You've actually {ref}`seen an example of this <tuple_unpacking_example>` already.\n",
    "\n",
    "Tuple unpacking is convenient and we'll use it often.\n",
    "\n",
    "#### Slice Notation\n",
    "\n",
    "```{index} single: Python; Slicing\n",
    "```\n",
    "\n",
    "To access multiple elements of a sequence (a list, a tuple or a string), you can use Python's slice\n",
    "notation.\n",
    "\n",
    "For example,"
   ]
  },
  {
   "cell_type": "code",
   "execution_count": null,
   "id": "475913a7",
   "metadata": {},
   "outputs": [],
   "source": [
    "a = [\"a\", \"b\", \"c\", \"d\", \"e\"]\n",
    "a[1:]"
   ]
  },
  {
   "cell_type": "code",
   "execution_count": null,
   "id": "15ef37cf",
   "metadata": {},
   "outputs": [],
   "source": [
    "a[1:3]"
   ]
  },
  {
   "cell_type": "markdown",
   "id": "4334d740",
   "metadata": {},
   "source": [
    "The general rule is that `a[m:n]` returns `n - m` elements, starting at `a[m]`.\n",
    "\n",
    "Negative numbers are also permissible"
   ]
  },
  {
   "cell_type": "code",
   "execution_count": null,
   "id": "e4b91dde",
   "metadata": {},
   "outputs": [],
   "source": [
    "a[-2:]  # Last two elements of the list"
   ]
  },
  {
   "cell_type": "markdown",
   "id": "3fb7c8bf",
   "metadata": {},
   "source": [
    "You can also use the format `[start:end:step]` to specify the step"
   ]
  },
  {
   "cell_type": "code",
   "execution_count": null,
   "id": "4349b267",
   "metadata": {},
   "outputs": [],
   "source": [
    "a[::2]"
   ]
  },
  {
   "cell_type": "markdown",
   "id": "7717af0a",
   "metadata": {},
   "source": [
    "Using a negative step, you can return the sequence in a reversed order"
   ]
  },
  {
   "cell_type": "code",
   "execution_count": null,
   "id": "559d2f3a",
   "metadata": {},
   "outputs": [],
   "source": [
    "a[-2::-1] # Walk backwards from the second last element to the first element"
   ]
  },
  {
   "cell_type": "markdown",
   "id": "11c7b629",
   "metadata": {},
   "source": [
    "The same slice notation works on tuples and strings"
   ]
  },
  {
   "cell_type": "code",
   "execution_count": null,
   "id": "c634939f",
   "metadata": {},
   "outputs": [],
   "source": [
    "s = 'foobar'\n",
    "s[-3:]  # Select the last three elements"
   ]
  },
  {
   "cell_type": "markdown",
   "id": "11926571",
   "metadata": {},
   "source": [
    "#### Sets and Dictionaries\n",
    "\n",
    "```{index} single: Python; Sets\n",
    "```\n",
    "\n",
    "```{index} single: Python; Dictionaries\n",
    "```\n",
    "\n",
    "Two other container types we should mention before moving on are [sets](https://docs.python.org/3/tutorial/datastructures.html#sets) and [dictionaries](https://docs.python.org/3/tutorial/datastructures.html#dictionaries).\n",
    "\n",
    "Dictionaries are much like lists, except that the items are named instead of\n",
    "numbered"
   ]
  },
  {
   "cell_type": "code",
   "execution_count": null,
   "id": "19b20848",
   "metadata": {},
   "outputs": [],
   "source": [
    "d = {'name': 'Frodo', 'age': 33}\n",
    "type(d)"
   ]
  },
  {
   "cell_type": "code",
   "execution_count": null,
   "id": "0f3f597a",
   "metadata": {},
   "outputs": [],
   "source": [
    "d['age']"
   ]
  },
  {
   "cell_type": "markdown",
   "id": "70e4f4ee",
   "metadata": {},
   "source": [
    "The names `'name'` and `'age'` are called the *keys*.\n",
    "\n",
    "The objects that the keys are mapped to (`'Frodo'` and `33`) are called the `values`.\n",
    "\n",
    "Sets are unordered collections without duplicates, and set methods provide the\n",
    "usual set-theoretic operations"
   ]
  },
  {
   "cell_type": "code",
   "execution_count": null,
   "id": "4f423cc5",
   "metadata": {},
   "outputs": [],
   "source": [
    "s1 = {'a', 'b'}\n",
    "type(s1)"
   ]
  },
  {
   "cell_type": "code",
   "execution_count": null,
   "id": "b638320d",
   "metadata": {},
   "outputs": [],
   "source": [
    "s2 = {'b', 'c'}\n",
    "s1.issubset(s2)"
   ]
  },
  {
   "cell_type": "code",
   "execution_count": null,
   "id": "aff7f439",
   "metadata": {},
   "outputs": [],
   "source": [
    "s1.intersection(s2)"
   ]
  },
  {
   "cell_type": "markdown",
   "id": "e109925e",
   "metadata": {},
   "source": [
    "The `set()` function creates sets from sequences"
   ]
  },
  {
   "cell_type": "code",
   "execution_count": null,
   "id": "ce2441a5",
   "metadata": {},
   "outputs": [],
   "source": [
    "s3 = set(('foo', 'bar', 'foo'))\n",
    "s3"
   ]
  },
  {
   "cell_type": "markdown",
   "id": "130a228e",
   "metadata": {},
   "source": [
    "## Input and Output\n",
    "\n",
    "```{index} single: Python; IO\n",
    "```\n",
    "\n",
    "Let's briefly review reading and writing to text files, starting with writing"
   ]
  },
  {
   "cell_type": "code",
   "execution_count": null,
   "id": "768d1495",
   "metadata": {},
   "outputs": [],
   "source": [
    "f = open('newfile.txt', 'w')   # Open 'newfile.txt' for writing\n",
    "f.write('Testing\\n')           # Here '\\n' means new line\n",
    "f.write('Testing again')\n",
    "f.close()"
   ]
  },
  {
   "cell_type": "markdown",
   "id": "08137316",
   "metadata": {},
   "source": [
    "Here\n",
    "\n",
    "* The built-in function `open()` creates a file object for writing to.\n",
    "* Both `write()` and `close()` are methods of file objects.\n",
    "\n",
    "Where is this file that we've created?\n",
    "\n",
    "Recall that Python maintains a concept of the present working directory (pwd) that can be located from with Jupyter or IPython via"
   ]
  },
  {
   "cell_type": "code",
   "execution_count": null,
   "id": "467e5701",
   "metadata": {},
   "outputs": [],
   "source": [
    "%pwd"
   ]
  },
  {
   "cell_type": "markdown",
   "id": "d2c3a06c",
   "metadata": {},
   "source": [
    "If a path is not specified, then this is where Python writes to.\n",
    "\n",
    "We can also use Python to read the contents of `newline.txt` as follows"
   ]
  },
  {
   "cell_type": "code",
   "execution_count": null,
   "id": "718c18ab",
   "metadata": {},
   "outputs": [],
   "source": [
    "f = open('newfile.txt', 'r')\n",
    "out = f.read()\n",
    "out"
   ]
  },
  {
   "cell_type": "code",
   "execution_count": null,
   "id": "89dae9fd",
   "metadata": {},
   "outputs": [],
   "source": [
    "print(out)"
   ]
  },
  {
   "cell_type": "markdown",
   "id": "aa7eb0a7",
   "metadata": {},
   "source": [
    "In fact, the recommended approach in modern Python is to use a `with` statement to ensure the files are properly acquired and released.\n",
    "\n",
    "Containing the operations within the same block also improves the clarity of your code.\n",
    "\n",
    "```{note}\n",
    "This kind of block is formally referred to as a [*context*](https://realpython.com/python-with-statement/#the-with-statement-approach).\n",
    "```\n",
    "\n",
    "Let's try to convert the two examples above into a `with` statement.\n",
    "\n",
    "We change the writing example first"
   ]
  },
  {
   "cell_type": "code",
   "execution_count": null,
   "id": "07f0e59d",
   "metadata": {},
   "outputs": [],
   "source": [
    "with open('newfile.txt', 'w') as f:  \n",
    "    f.write('Testing\\n')         \n",
    "    f.write('Testing again')"
   ]
  },
  {
   "cell_type": "markdown",
   "id": "d74e45cb",
   "metadata": {},
   "source": [
    "Note that we do not need to call the `close()` method since the `with` block\n",
    "will ensure the stream is closed at the end of the block.\n",
    "\n",
    "With slight modifications, we can also read files using `with`"
   ]
  },
  {
   "cell_type": "code",
   "execution_count": null,
   "id": "6f7ac33f",
   "metadata": {},
   "outputs": [],
   "source": [
    "with open('newfile.txt', 'r') as fo:\n",
    "    out = fo.read()\n",
    "    print(out)"
   ]
  },
  {
   "cell_type": "markdown",
   "id": "d7934643",
   "metadata": {},
   "source": [
    "Now suppose that we want to read input from one file and write output to another. \n",
    "Here's how we could accomplish this task while correctly acquiring and returning \n",
    "resources to the operating system using `with` statements:"
   ]
  },
  {
   "cell_type": "code",
   "execution_count": null,
   "id": "b96b6287",
   "metadata": {},
   "outputs": [],
   "source": [
    "with open(\"newfile.txt\", \"r\") as f:\n",
    "    file = f.readlines()\n",
    "    with open(\"output.txt\", \"w\") as fo:\n",
    "        for i, line in enumerate(file):\n",
    "            fo.write(f'Line {i}: {line} \\n')"
   ]
  },
  {
   "cell_type": "markdown",
   "id": "1a33a432",
   "metadata": {},
   "source": [
    "The output file will be"
   ]
  },
  {
   "cell_type": "code",
   "execution_count": null,
   "id": "2fd2d147",
   "metadata": {},
   "outputs": [],
   "source": [
    "with open('output.txt', 'r') as fo:\n",
    "    print(fo.read())"
   ]
  },
  {
   "cell_type": "markdown",
   "id": "ce16372f",
   "metadata": {},
   "source": [
    "We can simplify the example above by grouping the two `with` statements into one line"
   ]
  },
  {
   "cell_type": "code",
   "execution_count": null,
   "id": "0d7d63ef",
   "metadata": {},
   "outputs": [],
   "source": [
    "with open(\"newfile.txt\", \"r\") as f, open(\"output2.txt\", \"w\") as fo:\n",
    "        for i, line in enumerate(f):\n",
    "            fo.write(f'Line {i}: {line} \\n')"
   ]
  },
  {
   "cell_type": "markdown",
   "id": "e47db31b",
   "metadata": {},
   "source": [
    "The output file will be the same"
   ]
  },
  {
   "cell_type": "code",
   "execution_count": null,
   "id": "6e93da95",
   "metadata": {},
   "outputs": [],
   "source": [
    "with open('output2.txt', 'r') as fo:\n",
    "    print(fo.read())"
   ]
  },
  {
   "cell_type": "markdown",
   "id": "1c67f0b5",
   "metadata": {},
   "source": [
    "Suppose we want to continue to write into the existing file \n",
    "instead of overwriting it.\n",
    "\n",
    "we can switch the mode to `a` which stands for append mode"
   ]
  },
  {
   "cell_type": "code",
   "execution_count": null,
   "id": "946bfdc0",
   "metadata": {},
   "outputs": [],
   "source": [
    "with open('output2.txt', 'a') as fo:\n",
    "    fo.write('\\nThis is the end of the file')"
   ]
  },
  {
   "cell_type": "code",
   "execution_count": null,
   "id": "29753567",
   "metadata": {},
   "outputs": [],
   "source": [
    "with open('output2.txt', 'r') as fo:\n",
    "    print(fo.read())"
   ]
  },
  {
   "cell_type": "markdown",
   "id": "a23fe855",
   "metadata": {},
   "source": [
    "```{note}\n",
    "Note that we only covered `r`, `w`, and `a` mode here, which are the most commonly used modes. \n",
    "Python provides [a variety of modes](https://www.geeksforgeeks.org/reading-writing-text-files-python/) \n",
    "that you could experiment with.\n",
    "```\n",
    "\n",
    "### Paths\n",
    "\n",
    "```{index} single: Python; Paths\n",
    "```\n",
    "\n",
    "Note that if `newfile.txt` is not in the present working directory then this call to `open()` fails.\n",
    "\n",
    "In this case, you can shift the file to the pwd or specify the [full path](https://en.wikipedia.org/wiki/Path_%28computing%29) to the file\n",
    "\n",
    "```{code-block} python3\n",
    ":class: no-execute\n",
    "\n",
    "f = open('insert_full_path_to_file/newfile.txt', 'r')\n",
    "```\n",
    "\n",
    "(iterating_version_1)=\n",
    "## Iterating\n",
    "\n",
    "```{index} single: Python; Iteration\n",
    "```\n",
    "\n",
    "One of the most important tasks in computing is stepping through a\n",
    "sequence of data and performing a given action.\n",
    "\n",
    "One of Python's strengths is its simple, flexible interface to this kind of iteration via\n",
    "the `for` loop.\n",
    "\n",
    "### Looping over Different Objects\n",
    "\n",
    "Many Python objects are \"iterable\", in the sense that they can be looped over.\n",
    "\n",
    "To give an example, let's write the file us_cities.txt, which lists US cities and their population, to the present working directory.\n",
    "\n",
    "(us_cities_data)="
   ]
  },
  {
   "cell_type": "code",
   "execution_count": null,
   "id": "f6e9c536",
   "metadata": {},
   "outputs": [],
   "source": [
    "%%writefile us_cities.txt\n",
    "new york: 8244910\n",
    "los angeles: 3819702\n",
    "chicago: 2707120\n",
    "houston: 2145146\n",
    "philadelphia: 1536471\n",
    "phoenix: 1469471\n",
    "san antonio: 1359758\n",
    "san diego: 1326179\n",
    "dallas: 1223229"
   ]
  },
  {
   "cell_type": "markdown",
   "id": "f389647f",
   "metadata": {},
   "source": [
    "Here `%%writefile` is an [IPython cell magic](https://ipython.readthedocs.io/en/stable/interactive/magics.html#cell-magics).\n",
    "\n",
    "Suppose that we want to make the information more readable, by capitalizing names and adding commas to mark thousands.\n",
    "\n",
    "The program below reads the data in and makes the conversion:"
   ]
  },
  {
   "cell_type": "code",
   "execution_count": null,
   "id": "d6263294",
   "metadata": {},
   "outputs": [],
   "source": [
    "data_file = open('us_cities.txt', 'r')\n",
    "for line in data_file:\n",
    "    city, population = line.split(':')         # Tuple unpacking\n",
    "    city = city.title()                        # Capitalize city names\n",
    "    population = f'{int(population):,}'        # Add commas to numbers\n",
    "    print(city.ljust(15) + population)\n",
    "data_file.close()"
   ]
  },
  {
   "cell_type": "markdown",
   "id": "7151a8d5",
   "metadata": {},
   "source": [
    "Here `format()` is a string method [used for inserting variables into strings](https://docs.python.org/3/library/string.html#formatspec).\n",
    "\n",
    "The reformatting of each line is the result of three different string methods,\n",
    "the details of which can be left till later.\n",
    "\n",
    "The interesting part of this program for us is line 2, which shows that\n",
    "\n",
    "1. The file object `data_file` is iterable, in the sense that it can be placed to the right of `in` within a `for` loop.\n",
    "1. Iteration steps through each line in the file.\n",
    "\n",
    "This leads to the clean, convenient syntax shown in our program.\n",
    "\n",
    "Many other kinds of objects are iterable, and we'll discuss some of them later on.\n",
    "\n",
    "### Looping without Indices\n",
    "\n",
    "One thing you might have noticed is that Python tends to favor looping without explicit indexing.\n",
    "\n",
    "For example,"
   ]
  },
  {
   "cell_type": "code",
   "execution_count": null,
   "id": "d1782a13",
   "metadata": {},
   "outputs": [],
   "source": [
    "x_values = [1, 2, 3]  # Some iterable x\n",
    "for x in x_values:\n",
    "    print(x * x)"
   ]
  },
  {
   "cell_type": "markdown",
   "id": "15f7747b",
   "metadata": {},
   "source": [
    "is preferred to"
   ]
  },
  {
   "cell_type": "code",
   "execution_count": null,
   "id": "fba83d97",
   "metadata": {},
   "outputs": [],
   "source": [
    "for i in range(len(x_values)):\n",
    "    print(x_values[i] * x_values[i])"
   ]
  },
  {
   "cell_type": "markdown",
   "id": "ac5a9e76",
   "metadata": {},
   "source": [
    "When you compare these two alternatives, you can see why the first one is preferred.\n",
    "\n",
    "Python provides some facilities to simplify looping without indices.\n",
    "\n",
    "One is `zip()`, which is used for stepping through pairs from two sequences.\n",
    "\n",
    "For example, try running the following code"
   ]
  },
  {
   "cell_type": "code",
   "execution_count": null,
   "id": "f035476b",
   "metadata": {},
   "outputs": [],
   "source": [
    "countries = ('Japan', 'Korea', 'China')\n",
    "cities = ('Tokyo', 'Seoul', 'Beijing')\n",
    "for country, city in zip(countries, cities):\n",
    "    print(f'The capital of {country} is {city}')"
   ]
  },
  {
   "cell_type": "markdown",
   "id": "a25c0682",
   "metadata": {},
   "source": [
    "The `zip()` function is also useful for creating dictionaries --- for\n",
    "example"
   ]
  },
  {
   "cell_type": "code",
   "execution_count": null,
   "id": "ac22875b",
   "metadata": {},
   "outputs": [],
   "source": [
    "names = ['Tom', 'John']\n",
    "marks = ['E', 'F']\n",
    "dict(zip(names, marks))"
   ]
  },
  {
   "cell_type": "markdown",
   "id": "389ad1b3",
   "metadata": {},
   "source": [
    "If we actually need the index from a list, one option is to use `enumerate()`.\n",
    "\n",
    "To understand what `enumerate()` does, consider the following example"
   ]
  },
  {
   "cell_type": "code",
   "execution_count": null,
   "id": "3bee5f1a",
   "metadata": {},
   "outputs": [],
   "source": [
    "letter_list = ['a', 'b', 'c']\n",
    "for index, letter in enumerate(letter_list):\n",
    "    print(f\"letter_list[{index}] = '{letter}'\")"
   ]
  },
  {
   "cell_type": "markdown",
   "id": "ad2992c9",
   "metadata": {},
   "source": [
    "(list_comprehensions)=\n",
    "### List Comprehensions\n",
    "\n",
    "```{index} single: Python; List comprehension\n",
    "```\n",
    "\n",
    "We can also simplify the code for generating the list of random draws considerably by using something called a *list comprehension*.\n",
    "\n",
    "[List comprehensions](https://en.wikipedia.org/wiki/List_comprehension) are an elegant Python tool for creating lists.\n",
    "\n",
    "Consider the following example, where the list comprehension is on the\n",
    "right-hand side of the second line"
   ]
  },
  {
   "cell_type": "code",
   "execution_count": null,
   "id": "1139bd1a",
   "metadata": {},
   "outputs": [],
   "source": [
    "animals = ['dog', 'cat', 'bird']\n",
    "plurals = [animal + 's' for animal in animals]\n",
    "plurals"
   ]
  },
  {
   "cell_type": "markdown",
   "id": "e69dcaac",
   "metadata": {},
   "source": [
    "Here's another example"
   ]
  },
  {
   "cell_type": "code",
   "execution_count": null,
   "id": "89ad802e",
   "metadata": {},
   "outputs": [],
   "source": [
    "range(8)"
   ]
  },
  {
   "cell_type": "code",
   "execution_count": null,
   "id": "7fc58eb5",
   "metadata": {},
   "outputs": [],
   "source": [
    "doubles = [2 * x for x in range(8)]\n",
    "doubles"
   ]
  },
  {
   "cell_type": "markdown",
   "id": "9dd26a32",
   "metadata": {},
   "source": [
    "## Comparisons and Logical Operators\n",
    "\n",
    "### Comparisons\n",
    "\n",
    "```{index} single: Python; Comparison\n",
    "```\n",
    "\n",
    "Many different kinds of expressions evaluate to one of the Boolean values (i.e., `True` or `False`).\n",
    "\n",
    "A common type is comparisons, such as"
   ]
  },
  {
   "cell_type": "code",
   "execution_count": null,
   "id": "acccfb03",
   "metadata": {},
   "outputs": [],
   "source": [
    "x, y = 1, 2\n",
    "x < y"
   ]
  },
  {
   "cell_type": "code",
   "execution_count": null,
   "id": "08b1fdfb",
   "metadata": {},
   "outputs": [],
   "source": [
    "x > y"
   ]
  },
  {
   "cell_type": "markdown",
   "id": "1a2d7352",
   "metadata": {},
   "source": [
    "One of the nice features of Python is that we can *chain* inequalities"
   ]
  },
  {
   "cell_type": "code",
   "execution_count": null,
   "id": "8c76b830",
   "metadata": {},
   "outputs": [],
   "source": [
    "1 < 2 < 3"
   ]
  },
  {
   "cell_type": "code",
   "execution_count": null,
   "id": "039c4011",
   "metadata": {},
   "outputs": [],
   "source": [
    "1 <= 2 <= 3"
   ]
  },
  {
   "cell_type": "markdown",
   "id": "77cf1337",
   "metadata": {},
   "source": [
    "As we saw earlier, when testing for equality we use `==`"
   ]
  },
  {
   "cell_type": "code",
   "execution_count": null,
   "id": "38daa82d",
   "metadata": {},
   "outputs": [],
   "source": [
    "x = 1    # Assignment\n",
    "x == 2   # Comparison"
   ]
  },
  {
   "cell_type": "markdown",
   "id": "15bdcee6",
   "metadata": {},
   "source": [
    "For \"not equal\" use `!=`"
   ]
  },
  {
   "cell_type": "code",
   "execution_count": null,
   "id": "8c6ae684",
   "metadata": {},
   "outputs": [],
   "source": [
    "1 != 2"
   ]
  },
  {
   "cell_type": "markdown",
   "id": "bcdc5491",
   "metadata": {},
   "source": [
    "Note that when testing conditions, we can use **any** valid Python expression"
   ]
  },
  {
   "cell_type": "code",
   "execution_count": null,
   "id": "c46d8ae0",
   "metadata": {},
   "outputs": [],
   "source": [
    "x = 'yes' if 42 else 'no'\n",
    "x"
   ]
  },
  {
   "cell_type": "code",
   "execution_count": null,
   "id": "4a2c90bc",
   "metadata": {},
   "outputs": [],
   "source": [
    "x = 'yes' if [] else 'no'\n",
    "x"
   ]
  },
  {
   "cell_type": "markdown",
   "id": "6fe8748a",
   "metadata": {},
   "source": [
    "What's going on here?\n",
    "\n",
    "The rule is:\n",
    "\n",
    "* Expressions that evaluate to zero, empty sequences or containers (strings, lists, etc.) and `None` are all equivalent to `False`.\n",
    "    * for example, `[]` and `()` are equivalent to `False` in an `if` clause\n",
    "* All other values are equivalent to `True`.\n",
    "    * for example, `42` is equivalent to `True` in an `if` clause\n",
    "\n",
    "### Combining Expressions\n",
    "\n",
    "```{index} single: Python; Logical Expressions\n",
    "```\n",
    "\n",
    "We can combine expressions using `and`, `or` and `not`.\n",
    "\n",
    "These are the standard logical connectives (conjunction, disjunction and denial)"
   ]
  },
  {
   "cell_type": "code",
   "execution_count": null,
   "id": "e396495d",
   "metadata": {},
   "outputs": [],
   "source": [
    "1 < 2 and 'f' in 'foo'"
   ]
  },
  {
   "cell_type": "code",
   "execution_count": null,
   "id": "6aaf5d0c",
   "metadata": {},
   "outputs": [],
   "source": [
    "1 < 2 and 'g' in 'foo'"
   ]
  },
  {
   "cell_type": "code",
   "execution_count": null,
   "id": "05f82382",
   "metadata": {},
   "outputs": [],
   "source": [
    "1 < 2 or 'g' in 'foo'"
   ]
  },
  {
   "cell_type": "code",
   "execution_count": null,
   "id": "7139eed4",
   "metadata": {},
   "outputs": [],
   "source": [
    "not True"
   ]
  },
  {
   "cell_type": "code",
   "execution_count": null,
   "id": "6a67a2d9",
   "metadata": {},
   "outputs": [],
   "source": [
    "not not True"
   ]
  },
  {
   "cell_type": "markdown",
   "id": "af596af9",
   "metadata": {},
   "source": [
    "Remember\n",
    "\n",
    "* `P and Q` is `True` if both are `True`, else `False`\n",
    "* `P or Q` is `False` if both are `False`, else `True`\n",
    "\n",
    "We can also use `all()` and `any()` to test a sequence of expressions"
   ]
  },
  {
   "cell_type": "code",
   "execution_count": null,
   "id": "60bbbe40",
   "metadata": {},
   "outputs": [],
   "source": [
    "all([1 <= 2 <= 3, 5 <= 6 <= 7])"
   ]
  },
  {
   "cell_type": "code",
   "execution_count": null,
   "id": "09e585cb",
   "metadata": {},
   "outputs": [],
   "source": [
    "all([1 <= 2 <= 3, \"a\" in \"letter\"])"
   ]
  },
  {
   "cell_type": "code",
   "execution_count": null,
   "id": "05b957bc",
   "metadata": {},
   "outputs": [],
   "source": [
    "any([1 <= 2 <= 3, \"a\" in \"letter\"])"
   ]
  },
  {
   "cell_type": "markdown",
   "id": "5143ca29",
   "metadata": {},
   "source": [
    "```{note}\n",
    "* `all()` returns `True` when *all* boolean values/expressions in the sequence are `True`\n",
    "* `any()` returns `True` when *any* boolean values/expressions in the sequence are `True`\n",
    "```\n",
    "\n",
    "## Coding Style and Documentation\n",
    "\n",
    "A consistent coding style and the use of \n",
    "documentation can make the code easier to understand and maintain.\n",
    "\n",
    "### Python Style Guidelines: PEP8\n",
    "\n",
    "```{index} single: Python; PEP8\n",
    "```\n",
    "\n",
    "You can find Python programming philosophy by typing `import this` at the prompt.\n",
    "\n",
    "Among other things, Python strongly favors consistency in programming style.\n",
    "\n",
    "We've all heard the saying about consistency and little minds.\n",
    "\n",
    "In programming, as in mathematics, the opposite is true\n",
    "\n",
    "* A mathematical paper where the symbols $\\cup$ and $\\cap$ were\n",
    "  reversed would be very hard to read, even if the author told you so on the\n",
    "  first page.\n",
    "\n",
    "In Python, the standard style is set out in [PEP8](https://www.python.org/dev/peps/pep-0008/).\n",
    "\n",
    "(Occasionally we'll deviate from PEP8 in these lectures to better match mathematical notation)\n",
    "\n",
    "(Docstrings)=\n",
    "### Docstrings\n",
    "\n",
    "```{index} single: Python; Docstrings\n",
    "```\n",
    "\n",
    "Python has a system for adding comments to modules, classes, functions, etc. called *docstrings*.\n",
    "\n",
    "The nice thing about docstrings is that they are available at run-time.\n",
    "\n",
    "Try running this"
   ]
  },
  {
   "cell_type": "code",
   "execution_count": null,
   "id": "4421efbf",
   "metadata": {},
   "outputs": [],
   "source": [
    "def f(x):\n",
    "    \"\"\"\n",
    "    This function squares its argument\n",
    "    \"\"\"\n",
    "    return x**2"
   ]
  },
  {
   "cell_type": "markdown",
   "id": "6ea97d74",
   "metadata": {},
   "source": [
    "After running this code, the docstring is available"
   ]
  },
  {
   "cell_type": "code",
   "execution_count": null,
   "id": "53c08a21",
   "metadata": {},
   "outputs": [],
   "source": [
    "f?"
   ]
  },
  {
   "cell_type": "markdown",
   "id": "6598e0b5",
   "metadata": {},
   "source": [
    "```{code-block} ipython\n",
    ":class: no-execute\n",
    "\n",
    "Type:       function\n",
    "String Form:<function f at 0x2223320>\n",
    "File:       /home/john/temp/temp.py\n",
    "Definition: f(x)\n",
    "Docstring:  This function squares its argument\n",
    "```"
   ]
  },
  {
   "cell_type": "code",
   "execution_count": null,
   "id": "818fcf27",
   "metadata": {},
   "outputs": [],
   "source": [
    "f??"
   ]
  },
  {
   "cell_type": "markdown",
   "id": "008740dd",
   "metadata": {},
   "source": [
    "```{code-block} ipython\n",
    ":class: no-execute\n",
    "\n",
    "Type:       function\n",
    "String Form:<function f at 0x2223320>\n",
    "File:       /home/john/temp/temp.py\n",
    "Definition: f(x)\n",
    "Source:\n",
    "def f(x):\n",
    "    \"\"\"\n",
    "    This function squares its argument\n",
    "    \"\"\"\n",
    "    return x**2\n",
    "```\n",
    "\n",
    "With one question mark we bring up the docstring, and with two we get the source code as well.\n",
    "\n",
    "You can find conventions for docstrings in [PEP257](https://peps.python.org/pep-0257/).\n",
    "\n",
    "## Exercises\n",
    "\n",
    "Solve the following exercises.\n",
    "\n",
    "(For some, the built-in function `sum()` comes in handy).\n",
    "\n",
    "```{exercise-start}\n",
    ":label: pyess_ex1\n",
    "```\n",
    "Part 1: Given two numeric lists or tuples `x_vals` and `y_vals` of equal length, compute\n",
    "their inner product using `zip()`.\n",
    "\n",
    "Part 2: In one line, count the number of even numbers in 0,...,99.\n",
    "\n",
    "Part 3: Given `pairs = ((2, 5), (4, 2), (9, 8), (12, 10))`, count the number of pairs `(a, b)`\n",
    "such that both `a` and `b` are even.\n",
    "\n",
    "```{hint}\n",
    ":class: dropdown\n",
    "\n",
    "`x % 2` returns 0 if `x` is even, 1 otherwise.\n",
    "\n",
    "```\n",
    "\n",
    "```{exercise-end}\n",
    "```\n",
    "\n",
    "\n",
    "```{solution-start} pyess_ex1\n",
    ":class: dropdown\n",
    "```\n",
    "\n",
    "**Part 1 Solution:**\n",
    "\n",
    "Here's one possible solution"
   ]
  },
  {
   "cell_type": "code",
   "execution_count": null,
   "id": "099090d5",
   "metadata": {},
   "outputs": [],
   "source": [
    "x_vals = [1, 2, 3]\n",
    "y_vals = [1, 1, 1]\n",
    "sum([x * y for x, y in zip(x_vals, y_vals)])"
   ]
  },
  {
   "cell_type": "markdown",
   "id": "f9b7aaa8",
   "metadata": {},
   "source": [
    "This also works"
   ]
  },
  {
   "cell_type": "code",
   "execution_count": null,
   "id": "8b4c505a",
   "metadata": {},
   "outputs": [],
   "source": [
    "sum(x * y for x, y in zip(x_vals, y_vals))"
   ]
  },
  {
   "cell_type": "markdown",
   "id": "653f7143",
   "metadata": {},
   "source": [
    "**Part 2 Solution:**\n",
    "\n",
    "One solution is"
   ]
  },
  {
   "cell_type": "code",
   "execution_count": null,
   "id": "05d5bd8e",
   "metadata": {},
   "outputs": [],
   "source": [
    "sum([x % 2 == 0 for x in range(100)])"
   ]
  },
  {
   "cell_type": "markdown",
   "id": "7a1b1ad1",
   "metadata": {},
   "source": [
    "This also works:"
   ]
  },
  {
   "cell_type": "code",
   "execution_count": null,
   "id": "51fc9891",
   "metadata": {},
   "outputs": [],
   "source": [
    "sum(x % 2 == 0 for x in range(100))"
   ]
  },
  {
   "cell_type": "markdown",
   "id": "6c86af9d",
   "metadata": {},
   "source": [
    "Some less natural alternatives that nonetheless help to illustrate the\n",
    "flexibility of list comprehensions are"
   ]
  },
  {
   "cell_type": "code",
   "execution_count": null,
   "id": "c7f4212a",
   "metadata": {},
   "outputs": [],
   "source": [
    "len([x for x in range(100) if x % 2 == 0])"
   ]
  },
  {
   "cell_type": "markdown",
   "id": "4cd9d897",
   "metadata": {},
   "source": [
    "and"
   ]
  },
  {
   "cell_type": "code",
   "execution_count": null,
   "id": "bb94c262",
   "metadata": {},
   "outputs": [],
   "source": [
    "sum([1 for x in range(100) if x % 2 == 0])"
   ]
  },
  {
   "cell_type": "markdown",
   "id": "6aabfd56",
   "metadata": {},
   "source": [
    "**Part 3 Solution:**\n",
    "\n",
    "Here's one possibility"
   ]
  },
  {
   "cell_type": "code",
   "execution_count": null,
   "id": "1129639e",
   "metadata": {},
   "outputs": [],
   "source": [
    "pairs = ((2, 5), (4, 2), (9, 8), (12, 10))\n",
    "sum([x % 2 == 0 and y % 2 == 0 for x, y in pairs])"
   ]
  },
  {
   "cell_type": "markdown",
   "id": "f8cf157a",
   "metadata": {},
   "source": [
    "```{solution-end}\n",
    "```\n",
    "\n",
    "```{exercise-start}\n",
    ":label: pyess_ex2\n",
    "```\n",
    "\n",
    "Consider the polynomial\n",
    "\n",
    "```{math}\n",
    ":label: polynom0\n",
    "\n",
    "p(x)\n",
    "= a_0 + a_1 x + a_2 x^2 + \\cdots a_n x^n\n",
    "= \\sum_{i=0}^n a_i x^i\n",
    "```\n",
    "\n",
    "Write a function `p` such that `p(x, coeff)` that computes the value in {eq}`polynom0` given a point `x` and a list of coefficients `coeff` ($a_1, a_2, \\cdots a_n$).\n",
    "\n",
    "Try to use `enumerate()` in your loop.\n",
    "\n",
    "```{exercise-end}\n",
    "```\n",
    "\n",
    "```{solution-start} pyess_ex2\n",
    ":class: dropdown\n",
    "```\n",
    "Here’s a solution:"
   ]
  },
  {
   "cell_type": "code",
   "execution_count": null,
   "id": "58016406",
   "metadata": {},
   "outputs": [],
   "source": [
    "def p(x, coeff):\n",
    "    return sum(a * x**i for i, a in enumerate(coeff))"
   ]
  },
  {
   "cell_type": "code",
   "execution_count": null,
   "id": "b7d5e1cb",
   "metadata": {},
   "outputs": [],
   "source": [
    "p(1, (2, 4))"
   ]
  },
  {
   "cell_type": "markdown",
   "id": "9f924acf",
   "metadata": {},
   "source": [
    "```{solution-end}\n",
    "```\n",
    "\n",
    "\n",
    "```{exercise-start}\n",
    ":label: pyess_ex3\n",
    "```\n",
    "\n",
    "Write a function that takes a string as an argument and returns the number of capital letters in the string.\n",
    "\n",
    "```{hint}\n",
    ":class: dropdown\n",
    "\n",
    "`'foo'.upper()` returns `'FOO'`.\n",
    "\n",
    "```\n",
    "\n",
    "```{exercise-end}\n",
    "```\n",
    "\n",
    "```{solution-start} pyess_ex3\n",
    ":class: dropdown\n",
    "```\n",
    "\n",
    "Here's one solution:"
   ]
  },
  {
   "cell_type": "code",
   "execution_count": null,
   "id": "0034b2b8",
   "metadata": {},
   "outputs": [],
   "source": [
    "def f(string):\n",
    "    count = 0\n",
    "    for letter in string:\n",
    "        if letter == letter.upper() and letter.isalpha():\n",
    "            count += 1\n",
    "    return count\n",
    "\n",
    "f('The Rain in Spain')"
   ]
  },
  {
   "cell_type": "markdown",
   "id": "d03b977e",
   "metadata": {},
   "source": [
    "An alternative, more pythonic solution:"
   ]
  },
  {
   "cell_type": "code",
   "execution_count": null,
   "id": "7431da7a",
   "metadata": {},
   "outputs": [],
   "source": [
    "def count_uppercase_chars(s):\n",
    "    return sum([c.isupper() for c in s])\n",
    "\n",
    "count_uppercase_chars('The Rain in Spain')"
   ]
  },
  {
   "cell_type": "markdown",
   "id": "52c588f9",
   "metadata": {},
   "source": [
    "```{solution-end}\n",
    "```\n",
    "\n",
    "\n",
    "\n",
    "```{exercise}\n",
    ":label: pyess_ex4\n",
    "\n",
    "Write a function that takes two sequences `seq_a` and `seq_b` as arguments and\n",
    "returns `True` if every element in `seq_a` is also an element of `seq_b`, else\n",
    "`False`.\n",
    "\n",
    "* By \"sequence\" we mean a list, a tuple or a string.\n",
    "* Do the exercise without using [sets](https://docs.python.org/3/tutorial/datastructures.html#sets) and set methods.\n",
    "```\n",
    "\n",
    "```{solution-start} pyess_ex4\n",
    ":class: dropdown\n",
    "```\n",
    "\n",
    "Here's a solution:"
   ]
  },
  {
   "cell_type": "code",
   "execution_count": null,
   "id": "82408298",
   "metadata": {},
   "outputs": [],
   "source": [
    "def f(seq_a, seq_b):\n",
    "    for a in seq_a:\n",
    "        if a not in seq_b:\n",
    "            return False\n",
    "    return True\n",
    "\n",
    "# == test == #\n",
    "print(f(\"ab\", \"cadb\"))\n",
    "print(f(\"ab\", \"cjdb\"))\n",
    "print(f([1, 2], [1, 2, 3]))\n",
    "print(f([1, 2, 3], [1, 2]))"
   ]
  },
  {
   "cell_type": "markdown",
   "id": "4f8348f7",
   "metadata": {},
   "source": [
    "An alternative, more pythonic solution using `all()`:"
   ]
  },
  {
   "cell_type": "code",
   "execution_count": null,
   "id": "2437f423",
   "metadata": {},
   "outputs": [],
   "source": [
    "def f(seq_a, seq_b):\n",
    "  return all([i in seq_b for i in seq_a])\n",
    "\n",
    "# == test == #\n",
    "print(f(\"ab\", \"cadb\"))\n",
    "print(f(\"ab\", \"cjdb\"))\n",
    "print(f([1, 2], [1, 2, 3]))\n",
    "print(f([1, 2, 3], [1, 2]))"
   ]
  },
  {
   "cell_type": "markdown",
   "id": "dfd577ac",
   "metadata": {},
   "source": [
    "Of course, if we use the `sets` data type then the solution is easier"
   ]
  },
  {
   "cell_type": "code",
   "execution_count": null,
   "id": "0795452b",
   "metadata": {},
   "outputs": [],
   "source": [
    "def f(seq_a, seq_b):\n",
    "    return set(seq_a).issubset(set(seq_b))"
   ]
  },
  {
   "cell_type": "markdown",
   "id": "b87d8bd3",
   "metadata": {},
   "source": [
    "```{solution-end}\n",
    "```\n",
    "\n",
    "\n",
    "```{exercise}\n",
    ":label: pyess_ex5\n",
    "\n",
    "When we cover the numerical libraries, we will see they include many\n",
    "alternatives for interpolation and function approximation.\n",
    "\n",
    "Nevertheless, let's write our own function approximation routine as an exercise.\n",
    "\n",
    "In particular, without using any imports, write a function `linapprox` that takes as arguments\n",
    "\n",
    "* A function `f` mapping some interval $[a, b]$ into $\\mathbb R$.\n",
    "* Two scalars `a` and `b` providing the limits of this interval.\n",
    "* An integer `n` determining the number of grid points.\n",
    "* A number `x` satisfying `a <= x <= b`.\n",
    "\n",
    "and returns the [piecewise linear interpolation](https://en.wikipedia.org/wiki/Linear_interpolation) of `f` at `x`, based on `n` evenly spaced grid points `a = point[0] < point[1] < ... < point[n-1] = b`.\n",
    "\n",
    "Aim for clarity, not efficiency.\n",
    "```\n",
    "\n",
    "```{solution-start} pyess_ex5\n",
    ":class: dropdown\n",
    "```\n",
    "Here’s a solution:"
   ]
  },
  {
   "cell_type": "code",
   "execution_count": null,
   "id": "b305e964",
   "metadata": {},
   "outputs": [],
   "source": [
    "def linapprox(f, a, b, n, x):\n",
    "    \"\"\"\n",
    "    Evaluates the piecewise linear interpolant of f at x on the interval\n",
    "    [a, b], with n evenly spaced grid points.\n",
    "\n",
    "    Parameters\n",
    "    ==========\n",
    "        f : function\n",
    "            The function to approximate\n",
    "\n",
    "        x, a, b : scalars (floats or integers)\n",
    "            Evaluation point and endpoints, with a <= x <= b\n",
    "\n",
    "        n : integer\n",
    "            Number of grid points\n",
    "\n",
    "    Returns\n",
    "    =======\n",
    "        A float. The interpolant evaluated at x\n",
    "\n",
    "    \"\"\"\n",
    "    length_of_interval = b - a\n",
    "    num_subintervals = n - 1\n",
    "    step = length_of_interval / num_subintervals\n",
    "\n",
    "    # === find first grid point larger than x === #\n",
    "    point = a\n",
    "    while point <= x:\n",
    "        point += step\n",
    "\n",
    "    # === x must lie between the gridpoints (point - step) and point === #\n",
    "    u, v = point - step, point\n",
    "\n",
    "    return f(u) + (x - u) * (f(v) - f(u)) / (v - u)"
   ]
  },
  {
   "cell_type": "markdown",
   "id": "45812f58",
   "metadata": {},
   "source": [
    "```{solution-end}\n",
    "```\n",
    "\n",
    "\n",
    "```{exercise-start}\n",
    ":label: pyess_ex6\n",
    "```\n",
    "\n",
    "Using list comprehension syntax, we can simplify the loop in the following\n",
    "code."
   ]
  },
  {
   "cell_type": "code",
   "execution_count": null,
   "id": "af2734d1",
   "metadata": {},
   "outputs": [],
   "source": [
    "import numpy as np\n",
    "\n",
    "n = 100\n",
    "ϵ_values = []\n",
    "for i in range(n):\n",
    "    e = np.random.randn()\n",
    "    ϵ_values.append(e)"
   ]
  },
  {
   "cell_type": "markdown",
   "id": "d09012d8",
   "metadata": {},
   "source": [
    "```{exercise-end}\n",
    "```\n",
    "\n",
    "```{solution-start} pyess_ex6\n",
    ":class: dropdown\n",
    "```\n",
    "\n",
    "Here's one solution."
   ]
  },
  {
   "cell_type": "code",
   "execution_count": null,
   "id": "cee097a2",
   "metadata": {},
   "outputs": [],
   "source": [
    "n = 100\n",
    "ϵ_values = [np.random.randn() for i in range(n)]"
   ]
  },
  {
   "cell_type": "markdown",
   "id": "30367183",
   "metadata": {},
   "source": [
    "```{solution-end}\n",
    "```"
   ]
  }
 ],
 "metadata": {
  "jupytext": {
   "text_representation": {
    "extension": ".md",
    "format_name": "myst"
   }
  },
  "kernelspec": {
   "display_name": "Python 3",
   "language": "python",
   "name": "python3"
  },
  "source_map": [
   10,
   69,
   72,
   76,
   78,
   82,
   87,
   89,
   97,
   101,
   105,
   109,
   113,
   123,
   129,
   142,
   148,
   150,
   158,
   162,
   166,
   172,
   178,
   184,
   186,
   202,
   207,
   209,
   215,
   217,
   221,
   223,
   227,
   229,
   233,
   236,
   251,
   256,
   258,
   267,
   272,
   277,
   279,
   283,
   286,
   295,
   300,
   311,
   313,
   319,
   325,
   327,
   340,
   345,
   352,
   356,
   361,
   367,
   371,
   374,
   378,
   382,
   386,
   389,
   396,
   401,
   404,
   446,
   457,
   465,
   473,
   495,
   499,
   503,
   506,
   516,
   521,
   526,
   530,
   536,
   540,
   554,
   558,
   562,
   566,
   569,
   582,
   587,
   589,
   593,
   597,
   599,
   603,
   606,
   610,
   612,
   616,
   621,
   624,
   644,
   648,
   652,
   656,
   660,
   662,
   671,
   674,
   677,
   679,
   724,
   730,
   734,
   736,
   748,
   750,
   807,
   811,
   815,
   817,
   823,
   825,
   829,
   831,
   836,
   838,
   842,
   844,
   850,
   853,
   884,
   889,
   891,
   919,
   928,
   932,
   937,
   961,
   973,
   977,
   986,
   990,
   993,
   1024,
   1059,
   1072,
   1080,
   1091,
   1094
  ]
 },
 "nbformat": 4,
 "nbformat_minor": 5
}