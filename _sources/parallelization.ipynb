{
 "cells": [
  {
   "cell_type": "markdown",
   "id": "a7128ec5",
   "metadata": {},
   "source": [
    "(parallel)=\n",
    "```{raw} jupyter\n",
    "<div id=\"qe-notebook-header\" align=\"right\" style=\"text-align:right;\">\n",
    "        <a href=\"https://quantecon.org/\" title=\"quantecon.org\">\n",
    "                <img style=\"width:250px;display:inline;\" width=\"250px\" src=\"https://assets.quantecon.org/img/qe-menubar-logo.svg\" alt=\"QuantEcon\">\n",
    "        </a>\n",
    "</div>\n",
    "```\n",
    "\n",
    "# Parallelization\n",
    "\n",
    "```{contents} Contents\n",
    ":depth: 2\n",
    "```\n",
    "\n",
    "In addition to what's in Anaconda, this lecture will need the following libraries:"
   ]
  },
  {
   "cell_type": "code",
   "execution_count": 1,
   "id": "6783ae60",
   "metadata": {
    "tags": [
     "hide-output"
    ]
   },
   "outputs": [
    {
     "name": "stdout",
     "output_type": "stream",
     "text": [
      "Requirement already satisfied: quantecon in /__w/lecture-python-programming.myst/lecture-python-programming.myst/3/envs/quantecon/lib/python3.9/site-packages (0.5.3)\r\n",
      "Requirement already satisfied: numpy in /__w/lecture-python-programming.myst/lecture-python-programming.myst/3/envs/quantecon/lib/python3.9/site-packages (from quantecon) (1.21.5)\r\n",
      "Requirement already satisfied: sympy in /__w/lecture-python-programming.myst/lecture-python-programming.myst/3/envs/quantecon/lib/python3.9/site-packages (from quantecon) (1.10.1)\r\n",
      "Requirement already satisfied: requests in /__w/lecture-python-programming.myst/lecture-python-programming.myst/3/envs/quantecon/lib/python3.9/site-packages (from quantecon) (2.27.1)\r\n",
      "Requirement already satisfied: scipy>=1.0.0 in /__w/lecture-python-programming.myst/lecture-python-programming.myst/3/envs/quantecon/lib/python3.9/site-packages (from quantecon) (1.7.3)\r\n",
      "Requirement already satisfied: numba in /__w/lecture-python-programming.myst/lecture-python-programming.myst/3/envs/quantecon/lib/python3.9/site-packages (from quantecon) (0.55.1)\r\n",
      "Requirement already satisfied: setuptools in /__w/lecture-python-programming.myst/lecture-python-programming.myst/3/envs/quantecon/lib/python3.9/site-packages (from numba->quantecon) (61.2.0)\r\n",
      "Requirement already satisfied: llvmlite<0.39,>=0.38.0rc1 in /__w/lecture-python-programming.myst/lecture-python-programming.myst/3/envs/quantecon/lib/python3.9/site-packages (from numba->quantecon) (0.38.0)\r\n"
     ]
    },
    {
     "name": "stdout",
     "output_type": "stream",
     "text": [
      "Requirement already satisfied: charset-normalizer~=2.0.0 in /__w/lecture-python-programming.myst/lecture-python-programming.myst/3/envs/quantecon/lib/python3.9/site-packages (from requests->quantecon) (2.0.4)\r\n",
      "Requirement already satisfied: certifi>=2017.4.17 in /__w/lecture-python-programming.myst/lecture-python-programming.myst/3/envs/quantecon/lib/python3.9/site-packages (from requests->quantecon) (2021.10.8)\r\n",
      "Requirement already satisfied: urllib3<1.27,>=1.21.1 in /__w/lecture-python-programming.myst/lecture-python-programming.myst/3/envs/quantecon/lib/python3.9/site-packages (from requests->quantecon) (1.26.9)\r\n",
      "Requirement already satisfied: idna<4,>=2.5 in /__w/lecture-python-programming.myst/lecture-python-programming.myst/3/envs/quantecon/lib/python3.9/site-packages (from requests->quantecon) (3.3)\r\n",
      "Requirement already satisfied: mpmath>=0.19 in /__w/lecture-python-programming.myst/lecture-python-programming.myst/3/envs/quantecon/lib/python3.9/site-packages (from sympy->quantecon) (1.2.1)\r\n"
     ]
    },
    {
     "name": "stdout",
     "output_type": "stream",
     "text": [
      "\u001b[33mWARNING: Running pip as the 'root' user can result in broken permissions and conflicting behaviour with the system package manager. It is recommended to use a virtual environment instead: https://pip.pypa.io/warnings/venv\u001b[0m\r\n"
     ]
    }
   ],
   "source": [
    "!pip install quantecon"
   ]
  },
  {
   "cell_type": "markdown",
   "id": "96fd64a0",
   "metadata": {},
   "source": [
    "## Overview\n",
    "\n",
    "The growth of CPU clock speed (i.e., the speed at which a single chain of logic can\n",
    "be run) has slowed dramatically in recent years.\n",
    "\n",
    "This is unlikely to change in the near future, due to inherent physical\n",
    "limitations on the construction of chips and circuit boards.\n",
    "\n",
    "Chip designers and computer programmers have responded to the slowdown by\n",
    "seeking a different path to fast execution: parallelization.\n",
    "\n",
    "Hardware makers have increased the number of cores (physical CPUs) embedded in each machine.\n",
    "\n",
    "For programmers, the challenge has been to exploit these multiple CPUs by running many processes in parallel (i.e., simultaneously).\n",
    "\n",
    "This is particularly important in scientific programming, which requires handling\n",
    "\n",
    "* large amounts of data and\n",
    "* CPU intensive simulations and other calculations.\n",
    "\n",
    "In this lecture we discuss parallelization for scientific computing, with a focus on\n",
    "\n",
    "1. the best tools for parallelization in Python and\n",
    "1. how these tools can be applied to quantitative economic problems.\n",
    "\n",
    "Let's start with some imports:"
   ]
  },
  {
   "cell_type": "code",
   "execution_count": 2,
   "id": "f9be0f70",
   "metadata": {},
   "outputs": [],
   "source": [
    "%matplotlib inline\n",
    "import numpy as np\n",
    "import quantecon as qe\n",
    "import matplotlib.pyplot as plt\n",
    "plt.rcParams['figure.figsize'] = (10,6)"
   ]
  },
  {
   "cell_type": "markdown",
   "id": "2e0d7d59",
   "metadata": {},
   "source": [
    "## Types of Parallelization\n",
    "\n",
    "Large textbooks have been written on different approaches to parallelization but we will keep a tight focus on what's most useful to us.\n",
    "\n",
    "We will briefly review the two main kinds of parallelization commonly used in\n",
    "scientific computing and discuss their pros and cons.\n",
    "\n",
    "### Multiprocessing\n",
    "\n",
    "Multiprocessing means concurrent execution of multiple processes using more than one processor.\n",
    "\n",
    "In this context, a **process** is a chain of instructions (i.e., a program).\n",
    "\n",
    "Multiprocessing can be carried out on one machine with multiple CPUs or on a\n",
    "collection of machines connected by a network.\n",
    "\n",
    "In the latter case, the collection of machines is usually called a\n",
    "**cluster**.\n",
    "\n",
    "With multiprocessing, each process has its own memory space, although the\n",
    "physical memory chip might be shared.\n",
    "\n",
    "### Multithreading\n",
    "\n",
    "Multithreading is similar to multiprocessing, except that, during execution, the threads all share the same memory space.\n",
    "\n",
    "Native Python struggles to implement multithreading due to some [legacy design\n",
    "features](https://wiki.python.org/moin/GlobalInterpreterLock).\n",
    "\n",
    "But this is not a restriction for scientific libraries like NumPy and Numba.\n",
    "\n",
    "Functions imported from these libraries and JIT-compiled code run in low level\n",
    "execution environments where Python's legacy restrictions don't apply.\n",
    "\n",
    "### Advantages and Disadvantages\n",
    "\n",
    "Multithreading is more lightweight because most system and memory resources\n",
    "are shared by the threads.\n",
    "\n",
    "In addition, the fact that multiple threads all access a shared pool of memory\n",
    "is extremely convenient for numerical programming.\n",
    "\n",
    "On the other hand, multiprocessing is more flexible and can be distributed\n",
    "across clusters.\n",
    "\n",
    "For the great majority of what we do in these lectures, multithreading will\n",
    "suffice.\n",
    "\n",
    "## Implicit Multithreading in NumPy\n",
    "\n",
    "Actually, you have already been using multithreading in your Python code,\n",
    "although you might not have realized it.\n",
    "\n",
    "(We are, as usual, assuming that you are running the latest version of\n",
    "Anaconda Python.)\n",
    "\n",
    "This is because NumPy cleverly implements multithreading in a lot of its\n",
    "compiled code.\n",
    "\n",
    "Let's look at some examples to see this in action.\n",
    "\n",
    "### A Matrix Operation\n",
    "\n",
    "The next piece of code computes the eigenvalues of a large number of randomly\n",
    "generated matrices.\n",
    "\n",
    "It takes a few seconds to run."
   ]
  },
  {
   "cell_type": "code",
   "execution_count": 3,
   "id": "6fc7846f",
   "metadata": {},
   "outputs": [],
   "source": [
    "n = 20\n",
    "m = 1000\n",
    "for i in range(n):\n",
    "    X = np.random.randn(m, m)\n",
    "    λ = np.linalg.eigvals(X)"
   ]
  },
  {
   "cell_type": "markdown",
   "id": "f3c1ac15",
   "metadata": {},
   "source": [
    "Now, let's look at the output of the htop system monitor on our machine while\n",
    "this code is running:\n",
    "\n",
    "```{figure} /_static/lecture_specific/parallelization/htop_parallel_npmat.png\n",
    ":scale: 80\n",
    "```\n",
    "\n",
    "We can see that 4 of the 8 CPUs are running at full speed.\n",
    "\n",
    "This is because NumPy's `eigvals` routine neatly splits up the tasks and\n",
    "distributes them to different threads.\n",
    "\n",
    "### A Multithreaded Ufunc\n",
    "\n",
    "Over the last few years, NumPy has managed to push this kind of multithreading\n",
    "out to more and more operations.\n",
    "\n",
    "For example, let's return to a maximization problem {ref}`discussed previously <ufuncs>`:"
   ]
  },
  {
   "cell_type": "code",
   "execution_count": 4,
   "id": "a2d03f05",
   "metadata": {},
   "outputs": [],
   "source": [
    "def f(x, y):\n",
    "    return np.cos(x**2 + y**2) / (1 + x**2 + y**2)\n",
    "\n",
    "grid = np.linspace(-3, 3, 5000)\n",
    "x, y = np.meshgrid(grid, grid)"
   ]
  },
  {
   "cell_type": "code",
   "execution_count": 5,
   "id": "ac9da907",
   "metadata": {},
   "outputs": [
    {
     "name": "stdout",
     "output_type": "stream",
     "text": [
      "1.18 s ± 651 µs per loop (mean ± std. dev. of 7 runs, 1 loop each)\n"
     ]
    }
   ],
   "source": [
    "%timeit np.max(f(x, y))"
   ]
  },
  {
   "cell_type": "markdown",
   "id": "306c8f9b",
   "metadata": {},
   "source": [
    "If you have a system monitor such as htop (Linux/Mac) or perfmon\n",
    "(Windows), then try running this and then observing the load on your CPUs.\n",
    "\n",
    "(You will probably need to bump up the grid size to see large effects.)\n",
    "\n",
    "At least on our machine, the output shows that the operation is successfully\n",
    "distributed across multiple threads.\n",
    "\n",
    "This is one of the reasons why the vectorized code above is fast.\n",
    "\n",
    "### A Comparison with Numba\n",
    "\n",
    "To get some basis for comparison for the last example, let's try the same\n",
    "thing with Numba.\n",
    "\n",
    "In fact there is an easy way to do this, since Numba can also be used to\n",
    "create custom {ref}`ufuncs <ufuncs>` with the [@vectorize](http://numba.pydata.org/numba-doc/dev/user/vectorize.html) decorator."
   ]
  },
  {
   "cell_type": "code",
   "execution_count": 6,
   "id": "246f6b81",
   "metadata": {},
   "outputs": [
    {
     "data": {
      "text/plain": [
       "0.9999992797121728"
      ]
     },
     "execution_count": 6,
     "metadata": {},
     "output_type": "execute_result"
    }
   ],
   "source": [
    "from numba import vectorize\n",
    "\n",
    "@vectorize\n",
    "def f_vec(x, y):\n",
    "    return np.cos(x**2 + y**2) / (1 + x**2 + y**2)\n",
    "\n",
    "np.max(f_vec(x, y))  # Run once to compile"
   ]
  },
  {
   "cell_type": "code",
   "execution_count": 7,
   "id": "dcb26229",
   "metadata": {},
   "outputs": [
    {
     "name": "stdout",
     "output_type": "stream",
     "text": [
      "567 ms ± 524 µs per loop (mean ± std. dev. of 7 runs, 1 loop each)\n"
     ]
    }
   ],
   "source": [
    "%timeit np.max(f_vec(x, y))"
   ]
  },
  {
   "cell_type": "markdown",
   "id": "96e4be48",
   "metadata": {},
   "source": [
    "At least on our machine, the difference in the speed between the\n",
    "Numba version and the vectorized NumPy version shown above is not large.\n",
    "\n",
    "But there's quite a bit going on here so let's try to break down what is\n",
    "happening.\n",
    "\n",
    "Both Numba and NumPy use efficient machine code that's specialized to these\n",
    "floating point operations.\n",
    "\n",
    "However, the code NumPy uses is, in some ways, less efficient.\n",
    "\n",
    "The reason is that, in NumPy, the operation `np.cos(x**2 + y**2) / (1 +\n",
    "x**2 + y**2)` generates several intermediate arrays.\n",
    "\n",
    "For example, a new array is created when `x**2` is calculated.\n",
    "\n",
    "The same is true when `y**2` is calculated, and then `x**2 + y**2` and so on.\n",
    "\n",
    "Numba avoids creating all these intermediate arrays by compiling one\n",
    "function that is specialized to the entire operation.\n",
    "\n",
    "But if this is true, then why isn't the Numba code faster?\n",
    "\n",
    "The reason is that NumPy makes up for its disadvantages with implicit\n",
    "multithreading, as we've just discussed.\n",
    "\n",
    "### Multithreading a Numba Ufunc\n",
    "\n",
    "Can we get both of these advantages at once?\n",
    "\n",
    "In other words, can we pair\n",
    "\n",
    "* the efficiency of Numba's highly specialized JIT compiled function and\n",
    "* the speed gains from parallelization obtained by NumPy's implicit\n",
    "  multithreading?\n",
    "\n",
    "It turns out that we can, by adding some type information plus `target='parallel'`."
   ]
  },
  {
   "cell_type": "code",
   "execution_count": 8,
   "id": "67f16717",
   "metadata": {},
   "outputs": [
    {
     "data": {
      "text/plain": [
       "0.9999992797121728"
      ]
     },
     "execution_count": 8,
     "metadata": {},
     "output_type": "execute_result"
    }
   ],
   "source": [
    "@vectorize('float64(float64, float64)', target='parallel')\n",
    "def f_vec(x, y):\n",
    "    return np.cos(x**2 + y**2) / (1 + x**2 + y**2)\n",
    "\n",
    "np.max(f_vec(x, y))  # Run once to compile"
   ]
  },
  {
   "cell_type": "code",
   "execution_count": 9,
   "id": "ee530cc3",
   "metadata": {},
   "outputs": [
    {
     "name": "stdout",
     "output_type": "stream",
     "text": [
      "137 ms ± 190 µs per loop (mean ± std. dev. of 7 runs, 10 loops each)\n"
     ]
    }
   ],
   "source": [
    "%timeit np.max(f_vec(x, y))"
   ]
  },
  {
   "cell_type": "markdown",
   "id": "fb16de4f",
   "metadata": {},
   "source": [
    "Now our code runs significantly faster than the NumPy version.\n",
    "\n",
    "## Multithreaded Loops in Numba\n",
    "\n",
    "We just saw one approach to parallelization in Numba, using the `parallel`\n",
    "flag in `@vectorize`.\n",
    "\n",
    "This is neat but, it turns out, not well suited to many problems we consider.\n",
    "\n",
    "Fortunately, Numba provides another approach to multithreading that will work\n",
    "for us almost everywhere parallelization is possible.\n",
    "\n",
    "To illustrate, let's look first at a simple, single-threaded (i.e., non-parallelized) piece of code.\n",
    "\n",
    "The code simulates updating the wealth $w_t$ of a household via the rule\n",
    "\n",
    "$$\n",
    "w_{t+1} = R_{t+1} s w_t + y_{t+1}\n",
    "$$\n",
    "\n",
    "Here\n",
    "\n",
    "* $R$ is the gross rate of return on assets\n",
    "* $s$ is the savings rate of the household and\n",
    "* $y$ is labor income.\n",
    "\n",
    "We model both $R$ and $y$ as independent draws from a lognormal\n",
    "distribution.\n",
    "\n",
    "Here's the code:"
   ]
  },
  {
   "cell_type": "code",
   "execution_count": 10,
   "id": "0fd3cee1",
   "metadata": {},
   "outputs": [],
   "source": [
    "from numpy.random import randn\n",
    "from numba import njit\n",
    "\n",
    "@njit\n",
    "def h(w, r=0.1, s=0.3, v1=0.1, v2=1.0):\n",
    "    \"\"\"\n",
    "    Updates household wealth.\n",
    "    \"\"\"\n",
    "\n",
    "    # Draw shocks\n",
    "    R = np.exp(v1 * randn()) * (1 + r)\n",
    "    y = np.exp(v2 * randn())\n",
    "\n",
    "    # Update wealth\n",
    "    w = R * s * w + y\n",
    "    return w"
   ]
  },
  {
   "cell_type": "markdown",
   "id": "02b7d338",
   "metadata": {},
   "source": [
    "Let's have a look at how wealth evolves under this rule."
   ]
  },
  {
   "cell_type": "code",
   "execution_count": 11,
   "id": "eb36ddc9",
   "metadata": {},
   "outputs": [
    {
     "data": {
      "image/png": "[encoded data removed]",
      "text/plain": [
       "<Figure size 720x432 with 1 Axes>"
      ]
     },
     "metadata": {
      "filenames": {
       "image/png": "/__w/lecture-python-programming.myst/lecture-python-programming.myst/_build/jupyter_execute/parallelization_18_0.png"
      },
      "needs_background": "light"
     },
     "output_type": "display_data"
    }
   ],
   "source": [
    "fig, ax = plt.subplots()\n",
    "\n",
    "T = 100\n",
    "w = np.empty(T)\n",
    "w[0] = 5\n",
    "for t in range(T-1):\n",
    "    w[t+1] = h(w[t])\n",
    "\n",
    "ax.plot(w)\n",
    "ax.set_xlabel('$t$', fontsize=12)\n",
    "ax.set_ylabel('$w_{t}$', fontsize=12)\n",
    "plt.show()"
   ]
  },
  {
   "cell_type": "markdown",
   "id": "38a87d6b",
   "metadata": {},
   "source": [
    "Now let's suppose that we have a large population of households and we want to\n",
    "know what median wealth will be.\n",
    "\n",
    "This is not easy to solve with pencil and paper, so we will use simulation\n",
    "instead.\n",
    "\n",
    "In particular, we will simulate a large number of households and then\n",
    "calculate median wealth for this group.\n",
    "\n",
    "Suppose we are interested in the long-run average of this median over time.\n",
    "\n",
    "It turns out that, for the specification that we've chosen above, we can\n",
    "calculate this by taking a one-period snapshot of what has happened to median\n",
    "wealth of the group at the end of a long simulation.\n",
    "\n",
    "Moreover, provided the simulation period is long enough, initial conditions\n",
    "don't matter.\n",
    "\n",
    "* This is due to something called ergodicity, which we will discuss [later on](https://python.quantecon.org/finite_markov.html#id15).\n",
    "\n",
    "So, in summary, we are going to simulate 50,000 households by\n",
    "\n",
    "1. arbitrarily setting initial wealth to 1 and\n",
    "1. simulating forward in time for 1,000 periods.\n",
    "\n",
    "Then we'll calculate median wealth at the end period.\n",
    "\n",
    "Here's the code:"
   ]
  },
  {
   "cell_type": "code",
   "execution_count": 12,
   "id": "d0e2aa99",
   "metadata": {},
   "outputs": [],
   "source": [
    "@njit\n",
    "def compute_long_run_median(w0=1, T=1000, num_reps=50_000):\n",
    "\n",
    "    obs = np.empty(num_reps)\n",
    "    for i in range(num_reps):\n",
    "        w = w0\n",
    "        for t in range(T):\n",
    "            w = h(w)\n",
    "        obs[i] = w\n",
    "\n",
    "    return np.median(obs)"
   ]
  },
  {
   "cell_type": "markdown",
   "id": "980d649f",
   "metadata": {},
   "source": [
    "Let's see how fast this runs:"
   ]
  },
  {
   "cell_type": "code",
   "execution_count": 13,
   "id": "d53824cd",
   "metadata": {},
   "outputs": [
    {
     "name": "stdout",
     "output_type": "stream",
     "text": [
      "CPU times: user 6.13 s, sys: 12.6 ms, total: 6.15 s\n",
      "Wall time: 6.13 s\n"
     ]
    },
    {
     "data": {
      "text/plain": [
       "1.857194628266347"
      ]
     },
     "execution_count": 13,
     "metadata": {},
     "output_type": "execute_result"
    }
   ],
   "source": [
    "%%time\n",
    "compute_long_run_median()"
   ]
  },
  {
   "cell_type": "markdown",
   "id": "3859c649",
   "metadata": {},
   "source": [
    "To speed this up, we're going to parallelize it via multithreading.\n",
    "\n",
    "To do so, we add the `parallel=True` flag and change `range` to `prange`:"
   ]
  },
  {
   "cell_type": "code",
   "execution_count": 14,
   "id": "388c4a71",
   "metadata": {},
   "outputs": [],
   "source": [
    "from numba import prange\n",
    "\n",
    "@njit(parallel=True)\n",
    "def compute_long_run_median_parallel(w0=1, T=1000, num_reps=50_000):\n",
    "\n",
    "    obs = np.empty(num_reps)\n",
    "    for i in prange(num_reps):\n",
    "        w = w0\n",
    "        for t in range(T):\n",
    "            w = h(w)\n",
    "        obs[i] = w\n",
    "\n",
    "    return np.median(obs)"
   ]
  },
  {
   "cell_type": "markdown",
   "id": "1dac4f94",
   "metadata": {},
   "source": [
    "Let's look at the timing:"
   ]
  },
  {
   "cell_type": "code",
   "execution_count": 15,
   "id": "9d879d7f",
   "metadata": {},
   "outputs": [
    {
     "name": "stdout",
     "output_type": "stream",
     "text": [
      "CPU times: user 7.75 s, sys: 14.7 ms, total: 7.76 s\n",
      "Wall time: 1.47 s\n"
     ]
    },
    {
     "data": {
      "text/plain": [
       "1.8437732092749275"
      ]
     },
     "execution_count": 15,
     "metadata": {},
     "output_type": "execute_result"
    }
   ],
   "source": [
    "%%time\n",
    "compute_long_run_median_parallel()"
   ]
  },
  {
   "cell_type": "markdown",
   "id": "91cd42f6",
   "metadata": {},
   "source": [
    "The speed-up is significant.\n",
    "\n",
    "### A Warning\n",
    "\n",
    "Parallelization works well in the outer loop of the last example because the individual tasks inside the loop are independent of each other.\n",
    "\n",
    "If this independence fails then parallelization is often problematic.\n",
    "\n",
    "For example, each step inside the inner loop depends on the last step, so\n",
    "independence fails, and this is why we use ordinary `range` instead of `prange`.\n",
    "\n",
    "When you see us using `prange` in later lectures, it is because the\n",
    "independence of tasks holds true.\n",
    "\n",
    "When you see us using ordinary `range` in a jitted function, it is either because the speed gain from parallelization is small or because independence fails.\n",
    "\n",
    "## Exercises\n",
    "\n",
    "```{exercise}\n",
    ":label: parallel_ex1\n",
    "\n",
    "In {ref}`an earlier exercise <speed_ex1>`, we used Numba to accelerate an\n",
    "effort to compute the constant $\\pi$ by Monte Carlo.\n",
    "\n",
    "Now try adding parallelization and see if you get further speed gains.\n",
    "\n",
    "You should not expect huge gains here because, while there are many\n",
    "independent tasks (draw point and test if in circle), each one has low\n",
    "execution time.\n",
    "\n",
    "Generally speaking, parallelization is less effective when the individual\n",
    "tasks to be parallelized are very small relative to total execution time.\n",
    "\n",
    "This is due to overheads associated with spreading all of these small tasks across multiple CPUs.\n",
    "\n",
    "Nevertheless, with suitable hardware, it is possible to get nontrivial speed gains in this exercise.\n",
    "\n",
    "For the size of the Monte Carlo simulation, use something substantial, such as\n",
    "`n = 100_000_000`.\n",
    "```\n",
    "\n",
    "```{solution-start} parallel_ex1\n",
    ":class: dropdown\n",
    "```\n",
    "\n",
    "Here is one solution:"
   ]
  },
  {
   "cell_type": "code",
   "execution_count": 16,
   "id": "7ed7266c",
   "metadata": {},
   "outputs": [],
   "source": [
    "from random import uniform\n",
    "\n",
    "@njit(parallel=True)\n",
    "def calculate_pi(n=1_000_000):\n",
    "    count = 0\n",
    "    for i in prange(n):\n",
    "        u, v = uniform(0, 1), uniform(0, 1)\n",
    "        d = np.sqrt((u - 0.5)**2 + (v - 0.5)**2)\n",
    "        if d < 0.5:\n",
    "            count += 1\n",
    "\n",
    "    area_estimate = count / n\n",
    "    return area_estimate * 4  # dividing by radius**2"
   ]
  },
  {
   "cell_type": "markdown",
   "id": "28c94472",
   "metadata": {},
   "source": [
    "Now let's see how fast it runs:"
   ]
  },
  {
   "cell_type": "code",
   "execution_count": 17,
   "id": "2b7f9bb3",
   "metadata": {},
   "outputs": [
    {
     "name": "stdout",
     "output_type": "stream",
     "text": [
      "CPU times: user 549 ms, sys: 16.1 ms, total: 566 ms\n",
      "Wall time: 538 ms\n"
     ]
    },
    {
     "data": {
      "text/plain": [
       "3.144752"
      ]
     },
     "execution_count": 17,
     "metadata": {},
     "output_type": "execute_result"
    }
   ],
   "source": [
    "%time calculate_pi()"
   ]
  },
  {
   "cell_type": "code",
   "execution_count": 18,
   "id": "182b541e",
   "metadata": {},
   "outputs": [
    {
     "name": "stdout",
     "output_type": "stream",
     "text": [
      "CPU times: user 30.6 ms, sys: 232 µs, total: 30.8 ms\n",
      "Wall time: 5.16 ms\n"
     ]
    },
    {
     "data": {
      "text/plain": [
       "3.142768"
      ]
     },
     "execution_count": 18,
     "metadata": {},
     "output_type": "execute_result"
    }
   ],
   "source": [
    "%time calculate_pi()"
   ]
  },
  {
   "cell_type": "markdown",
   "id": "99990324",
   "metadata": {},
   "source": [
    "By switching parallelization on and off (selecting `True` or\n",
    "`False` in the `@njit` annotation), we can test the speed gain that\n",
    "multithreading provides on top of JIT compilation.\n",
    "\n",
    "On our workstation, we find that parallelization increases execution speed by\n",
    "a factor of 2 or 3.\n",
    "\n",
    "(If you are executing locally, you will get different numbers, depending mainly\n",
    "on the number of CPUs on your machine.)\n",
    "\n",
    "```{solution-end}\n",
    "```\n",
    "\n",
    "\n",
    "```{exercise}\n",
    ":label: parallel_ex2\n",
    "\n",
    "In {doc}`our lecture on SciPy<scipy>`, we discussed pricing a call option in a\n",
    "setting where the underlying stock price had a simple and well-known\n",
    "distribution.\n",
    "\n",
    "Here we discuss a more realistic setting.\n",
    "\n",
    "We recall that the price of the option obeys \n",
    "\n",
    "$$\n",
    "P = \\beta^n \\mathbb E \\max\\{ S_n - K, 0 \\}\n",
    "$$\n",
    "\n",
    "where\n",
    "\n",
    "1. $\\beta$ is a discount factor,\n",
    "2. $n$ is the expiry date,\n",
    "2. $K$ is the strike price and\n",
    "3. $\\{S_t\\}$ is the price of the underlying asset at each time $t$.\n",
    "\n",
    "Suppose that `n, β, K = 20, 0.99, 100`.\n",
    "\n",
    "Assume that the stock price obeys \n",
    "\n",
    "$$ \n",
    "\\ln \\frac{S_{t+1}}{S_t} = \\mu + \\sigma_t \\xi_{t+1}\n",
    "$$\n",
    "\n",
    "where \n",
    "\n",
    "$$ \n",
    "    \\sigma_t = \\exp(h_t), \n",
    "    \\quad\n",
    "        h_{t+1} = \\rho h_t + \\nu \\eta_{t+1}\n",
    "$$\n",
    "\n",
    "Here $\\{\\xi_t\\}$ and $\\{\\eta_t\\}$ are IID and standard normal.\n",
    "\n",
    "(This is a **stochastic volatility** model, where the volatility $\\sigma_t$\n",
    "varies over time.)\n",
    "\n",
    "Use the defaults `μ, ρ, ν, S0, h0 = 0.0001, 0.1, 0.001, 10, 0`.\n",
    "\n",
    "(Here `S0` is $S_0$ and `h0` is $h_0$.)\n",
    "\n",
    "By generating $M$ paths $s_0, \\ldots, s_n$, compute the Monte Carlo estimate \n",
    "\n",
    "$$\n",
    "    \\hat P_M \n",
    "    := \\beta^n \\mathbb E \\max\\{ S_n - K, 0 \\} \n",
    "    \\approx\n",
    "    \\frac{1}{M} \\sum_{m=1}^M \\max \\{S_n^m - K, 0 \\}\n",
    "$$\n",
    "    \n",
    "\n",
    "of the price, applying Numba and parallelization.\n",
    "\n",
    "```\n",
    "\n",
    "\n",
    "```{solution-start} parallel_ex2\n",
    ":class: dropdown\n",
    "```\n",
    "\n",
    "\n",
    "With $s_t := \\ln S_t$, the price dynamics become\n",
    "\n",
    "$$\n",
    "s_{t+1} = s_t + \\mu + \\exp(h_t) \\xi_{t+1}\n",
    "$$\n",
    "\n",
    "Using this fact, the solution can be written as follows."
   ]
  },
  {
   "cell_type": "code",
   "execution_count": 19,
   "id": "87d818d1",
   "metadata": {},
   "outputs": [],
   "source": [
    "from numpy.random import randn\n",
    "M = 10_000_000\n",
    "\n",
    "n, β, K = 20, 0.99, 100\n",
    "μ, ρ, ν, S0, h0 = 0.0001, 0.1, 0.001, 10, 0\n",
    "\n",
    "@njit(parallel=True)\n",
    "def compute_call_price_parallel(β=β,\n",
    "                                μ=μ,\n",
    "                                S0=S0,\n",
    "                                h0=h0,\n",
    "                                K=K,\n",
    "                                n=n,\n",
    "                                ρ=ρ,\n",
    "                                ν=ν,\n",
    "                                M=M):\n",
    "    current_sum = 0.0\n",
    "    # For each sample path\n",
    "    for m in prange(M):\n",
    "        s = np.log(S0)\n",
    "        h = h0\n",
    "        # Simulate forward in time\n",
    "        for t in range(n):\n",
    "            s = s + μ + np.exp(h) * randn()\n",
    "            h = ρ * h + ν * randn()\n",
    "        # And add the value max{S_n - K, 0} to current_sum\n",
    "        current_sum += np.maximum(np.exp(s) - K, 0)\n",
    "        \n",
    "    return β**n * current_sum / M"
   ]
  },
  {
   "cell_type": "markdown",
   "id": "29538bf8",
   "metadata": {},
   "source": [
    "Try swapping between `parallel=True` and `parallel=False` and noting the run time.\n",
    "\n",
    "If you are on a machine with many CPUs, the difference should be significant.\n",
    "\n",
    "```{solution-end}\n",
    "```"
   ]
  }
 ],
 "metadata": {
  "jupytext": {
   "text_representation": {
    "extension": ".md",
    "format_name": "myst"
   }
  },
  "kernelspec": {
   "display_name": "Python 3",
   "language": "python",
   "name": "python3"
  },
  "language_info": {
   "codemirror_mode": {
    "name": "ipython",
    "version": 3
   },
   "file_extension": ".py",
   "mimetype": "text/x-python",
   "name": "python",
   "nbconvert_exporter": "python",
   "pygments_lexer": "ipython3",
   "version": "3.9.12"
  },
  "source_map": [
   10,
   29,
   34,
   63,
   69,
   139,
   145,
   166,
   174,
   176,
   196,
   206,
   208,
   248,
   256,
   258,
   291,
   308,
   312,
   325,
   356,
   368,
   372,
   375,
   381,
   395,
   399,
   402,
   451,
   465,
   469,
   473,
   475,
   567,
   597
  ]
 },
 "nbformat": 4,
 "nbformat_minor": 5
}