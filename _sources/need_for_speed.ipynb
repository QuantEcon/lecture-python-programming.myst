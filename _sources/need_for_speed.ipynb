{
 "cells": [
  {
   "cell_type": "markdown",
   "id": "e34a4bd2",
   "metadata": {},
   "source": [
    "(speed)=\n",
    "```{raw} jupyter\n",
    "<div id=\"qe-notebook-header\" align=\"right\" style=\"text-align:right;\">\n",
    "        <a href=\"https://quantecon.org/\" title=\"quantecon.org\">\n",
    "                <img style=\"width:250px;display:inline;\" width=\"250px\" src=\"https://assets.quantecon.org/img/qe-menubar-logo.svg\" alt=\"QuantEcon\">\n",
    "        </a>\n",
    "</div>\n",
    "```\n",
    "\n",
    "# Python for Scientific Computing\n",
    "\n",
    "```{epigraph}\n",
    "\"We should forget about small efficiencies, say about 97% of the time:\n",
    "premature optimization is the root of all evil.\" -- Donald Knuth\n",
    "```\n",
    "\n",
    "## Overview\n",
    "\n",
    "Python is extremely popular for scientific computing, due to such factors as\n",
    "\n",
    "* the accessible and expressive nature of the language itself,\n",
    "* its vast range of high quality scientific libraries,\n",
    "* the fact that the language and libraries are open source,\n",
    "* the popular [Anaconda Python distribution](https://www.anaconda.com/download), which simplifies installation and management of scientific libraries, and\n",
    "* the key role that Python plays in data science, machine learning and artificial intelligence.\n",
    "\n",
    "In previous lectures, we looked at some scientific Python libaries such as NumPy and Matplotlib.\n",
    "\n",
    "However, our main focus was the core Python language, rather than the libraries.\n",
    "\n",
    "Now we turn to the scientific libraries and give them our full attention.\n",
    "\n",
    "We'll also discuss the following topics:\n",
    "\n",
    "* What are the relative strengths and weaknesses of Python for scientific work?\n",
    "* What are the main elements of the scientific Python ecosystem?\n",
    "* How is the situation changing over time?\n",
    "\n",
    "In addition to what's in Anaconda, this lecture will need"
   ]
  },
  {
   "cell_type": "code",
   "execution_count": 1,
   "id": "44bf9608",
   "metadata": {
    "tags": [
     "hide-output"
    ]
   },
   "outputs": [
    {
     "name": "stdout",
     "output_type": "stream",
     "text": [
      "Collecting quantecon\r\n"
     ]
    },
    {
     "name": "stdout",
     "output_type": "stream",
     "text": [
      "  Downloading quantecon-0.8.1-py3-none-any.whl.metadata (5.2 kB)\r\n",
      "Requirement already satisfied: numba>=0.49.0 in /home/runner/miniconda3/envs/quantecon/lib/python3.12/site-packages (from quantecon) (0.60.0)\r\n",
      "Requirement already satisfied: numpy>=1.17.0 in /home/runner/miniconda3/envs/quantecon/lib/python3.12/site-packages (from quantecon) (1.26.4)\r\n",
      "Requirement already satisfied: requests in /home/runner/miniconda3/envs/quantecon/lib/python3.12/site-packages (from quantecon) (2.32.3)\r\n",
      "Requirement already satisfied: scipy>=1.5.0 in /home/runner/miniconda3/envs/quantecon/lib/python3.12/site-packages (from quantecon) (1.13.1)\r\n",
      "Requirement already satisfied: sympy in /home/runner/miniconda3/envs/quantecon/lib/python3.12/site-packages (from quantecon) (1.13.2)\r\n",
      "Requirement already satisfied: llvmlite<0.44,>=0.43.0dev0 in /home/runner/miniconda3/envs/quantecon/lib/python3.12/site-packages (from numba>=0.49.0->quantecon) (0.43.0)\r\n",
      "Requirement already satisfied: charset-normalizer<4,>=2 in /home/runner/miniconda3/envs/quantecon/lib/python3.12/site-packages (from requests->quantecon) (3.3.2)\r\n",
      "Requirement already satisfied: idna<4,>=2.5 in /home/runner/miniconda3/envs/quantecon/lib/python3.12/site-packages (from requests->quantecon) (3.7)\r\n",
      "Requirement already satisfied: urllib3<3,>=1.21.1 in /home/runner/miniconda3/envs/quantecon/lib/python3.12/site-packages (from requests->quantecon) (2.2.3)\r\n",
      "Requirement already satisfied: certifi>=2017.4.17 in /home/runner/miniconda3/envs/quantecon/lib/python3.12/site-packages (from requests->quantecon) (2024.8.30)\r\n",
      "Requirement already satisfied: mpmath<1.4,>=1.1.0 in /home/runner/miniconda3/envs/quantecon/lib/python3.12/site-packages (from sympy->quantecon) (1.3.0)\r\n",
      "Downloading quantecon-0.8.1-py3-none-any.whl (322 kB)\r\n"
     ]
    },
    {
     "name": "stdout",
     "output_type": "stream",
     "text": [
      "Installing collected packages: quantecon\r\n"
     ]
    },
    {
     "name": "stdout",
     "output_type": "stream",
     "text": [
      "Successfully installed quantecon-0.8.1\r\n"
     ]
    }
   ],
   "source": [
    "!pip install quantecon"
   ]
  },
  {
   "cell_type": "markdown",
   "id": "8404e7eb",
   "metadata": {},
   "source": [
    "## Scientific Libraries\n",
    "\n",
    "Let's briefly review Python's scientific libraries, starting with why we need them.\n",
    "\n",
    "### The Role of Scientific Libraries\n",
    "\n",
    "One reason we use scientific libraries is because they implement routines we want to use.\n",
    "\n",
    "* numerical integration, interpolation, linear algebra, root finding, etc.\n",
    "\n",
    "For example, it's almost always better to use an existing routine for root finding than to write a new one from scratch.\n",
    "\n",
    "(For standard algorithms, efficiency is maximized if the community can coordinate on a common set of implementations, written by experts and tuned by users to be as fast and robust as possible.)\n",
    "\n",
    "But this is not the only reason that we use Python's scientific libraries.\n",
    "\n",
    "Another is that pure Python, while flexible and elegant, is not fast.\n",
    "\n",
    "So we need libraries that are designed to accelerate execution of Python code.\n",
    "\n",
    "They do this using two strategies:\n",
    "\n",
    "1. using compilers that convert Python-like statements into fast machine code for individual threads of logic and\n",
    "2. parallelizing tasks across multiple \"workers\" (e.g., CPUs, individual threads inside GPUs).\n",
    "\n",
    "There are several Python libraries that can do this extremely well.\n",
    "\n",
    "\n",
    "### Python's Scientific Ecosystem\n",
    "\n",
    "At QuantEcon, the scientific libraries we use most often are\n",
    "\n",
    "* [NumPy](https://numpy.org/)\n",
    "* [SciPy](https://scipy.org/)\n",
    "* [Matplotlib](https://matplotlib.org/) \n",
    "* [Pandas](https://pandas.pydata.org/)\n",
    "* [Numba](https://numba.pydata.org/) and\n",
    "* [JAX](https://github.com/jax-ml/jax)\n",
    "\n",
    "Here's how they fit together:\n",
    "\n",
    "* NumPy forms foundations by providing a basic array data type (think of\n",
    "  vectors and matrices) and functions for acting on these arrays (e.g., matrix\n",
    "  multiplication).\n",
    "* SciPy builds on NumPy by adding numerical methods routinely used in science (interpolation, optimization, root finding, etc.).\n",
    "* Matplotlib is used to generate figures, with a focus on plotting data stored in NumPy arrays.\n",
    "* Pandas provides types and functions for manipulating data.\n",
    "* Numba provides a just-in-time compiler that integrates well with NumPy and\n",
    "  helps accelerate Python code.\n",
    "* JAX includes array processing operations similar to NumPy, automatic\n",
    "  differentiation, a parallelization-centric just-in-time compiler, and automated integration with hardware accelerators such as\n",
    "  GPUs.\n",
    "\n",
    "\n",
    "\n",
    "\n",
    "## The Need for Speed\n",
    "\n",
    "Let's discuss execution speed and how scientific libraries can help us accelerate code.\n",
    "\n",
    "Higher-level languages like Python  are optimized for humans.\n",
    "\n",
    "This means that the programmer can leave many details to the runtime environment\n",
    "\n",
    "* specifying variable types\n",
    "* memory allocation/deallocation, etc.\n",
    "\n",
    "On one hand, compared to low-level languages, high-level languages are typically faster to write, less error-prone and  easier to debug.\n",
    "\n",
    "On the other hand, high-level languages are harder to optimize --- that is, to turn into fast machine code --- than languages like C or Fortran.\n",
    "\n",
    "Indeed, the standard implementation of Python (called CPython) cannot match the speed of compiled languages such as C or Fortran.\n",
    "\n",
    "Does that mean that we should just switch to C or Fortran for everything?\n",
    "\n",
    "The answer is: No, no, and one hundred times no!\n",
    "\n",
    "(This is what you should say to your professor when they insist that your model needs to be rewritten in Fortran or C++.)\n",
    "\n",
    "There are two reasons why:\n",
    "\n",
    "First, for any given program, relatively few lines are ever going to be time-critical.\n",
    "\n",
    "Hence it is far more efficient to write most of our code in a high productivity language like Python.\n",
    "\n",
    "Second, even for those lines of code that *are* time-critical, we can now achieve the same speed as C or Fortran using Python's scientific libraries.\n",
    "\n",
    "In fact we can often do better, because some scientific libraries are so\n",
    "effective at accelerating and parallelizing our code.\n",
    "\n",
    "\n",
    "### Where are the Bottlenecks?\n",
    "\n",
    "Before we learn how to do this, let's try to understand why plain vanilla Python is slower than C or Fortran.\n",
    "\n",
    "This will, in turn, help us figure out how to speed things up.\n",
    "\n",
    "In reading the following, remember that the Python interpreter executes code line-by-line.\n",
    "\n",
    "#### Dynamic Typing\n",
    "\n",
    "```{index} single: Dynamic Typing\n",
    "```\n",
    "\n",
    "Consider this Python operation"
   ]
  },
  {
   "cell_type": "code",
   "execution_count": 2,
   "id": "ee2e43cd",
   "metadata": {},
   "outputs": [
    {
     "data": {
      "text/plain": [
       "20"
      ]
     },
     "execution_count": 2,
     "metadata": {},
     "output_type": "execute_result"
    }
   ],
   "source": [
    "a, b = 10, 10\n",
    "a + b"
   ]
  },
  {
   "cell_type": "markdown",
   "id": "ce3355f9",
   "metadata": {},
   "source": [
    "Even for this simple operation, the Python interpreter has a fair bit of work to do.\n",
    "\n",
    "For example, in the statement `a + b`, the interpreter has to know which\n",
    "operation to invoke.\n",
    "\n",
    "If `a` and `b` are strings, then `a + b` requires string concatenation"
   ]
  },
  {
   "cell_type": "code",
   "execution_count": 3,
   "id": "8e69a9d4",
   "metadata": {},
   "outputs": [
    {
     "data": {
      "text/plain": [
       "'foobar'"
      ]
     },
     "execution_count": 3,
     "metadata": {},
     "output_type": "execute_result"
    }
   ],
   "source": [
    "a, b = 'foo', 'bar'\n",
    "a + b"
   ]
  },
  {
   "cell_type": "markdown",
   "id": "5cd5a56c",
   "metadata": {},
   "source": [
    "If `a` and `b` are lists, then `a + b` requires list concatenation"
   ]
  },
  {
   "cell_type": "code",
   "execution_count": 4,
   "id": "85fe5267",
   "metadata": {},
   "outputs": [
    {
     "data": {
      "text/plain": [
       "['foo', 'bar']"
      ]
     },
     "execution_count": 4,
     "metadata": {},
     "output_type": "execute_result"
    }
   ],
   "source": [
    "a, b = ['foo'], ['bar']\n",
    "a + b"
   ]
  },
  {
   "cell_type": "markdown",
   "id": "6c301b06",
   "metadata": {},
   "source": [
    "(We say that the operator `+` is *overloaded* --- its action depends on the\n",
    "type of the objects on which it acts)\n",
    "\n",
    "As a result, when executing `a + b`, Python must first check the type of the objects and then call the correct operation.\n",
    "\n",
    "This involves substantial overheads.\n",
    "\n",
    "\n",
    "#### Static Types\n",
    "\n",
    "```{index} single: Static Types\n",
    "```\n",
    "\n",
    "Compiled languages avoid these overheads with explicit, static types.\n",
    "\n",
    "For example, consider the following C code, which sums the integers from 1 to 10\n",
    "\n",
    "```{code-block} c\n",
    ":class: no-execute\n",
    "\n",
    "#include <stdio.h>\n",
    "\n",
    "int main(void) {\n",
    "    int i;\n",
    "    int sum = 0;\n",
    "    for (i = 1; i <= 10; i++) {\n",
    "        sum = sum + i;\n",
    "    }\n",
    "    printf(\"sum = %d\\n\", sum);\n",
    "    return 0;\n",
    "}\n",
    "```\n",
    "\n",
    "The variables `i` and `sum` are explicitly declared to be integers.\n",
    "\n",
    "Hence, the meaning of addition here is completely unambiguous.\n",
    "\n",
    "### Data Access\n",
    "\n",
    "Another drag on speed for high-level languages is data access.\n",
    "\n",
    "To illustrate, let's consider the problem of summing some data --- say, a collection of integers.\n",
    "\n",
    "#### Summing with Compiled Code\n",
    "\n",
    "In C or Fortran, these integers would typically be stored in an array, which\n",
    "is a simple data structure for storing homogeneous data.\n",
    "\n",
    "Such an array is stored in a single contiguous block of memory\n",
    "\n",
    "* In modern computers, memory addresses are allocated to each byte (one byte = 8 bits).\n",
    "* For example, a 64 bit integer is stored in 8 bytes of memory.\n",
    "* An array of $n$ such integers occupies $8n$ **consecutive** memory slots.\n",
    "\n",
    "Moreover, the compiler is made aware of the data type by the programmer.\n",
    "\n",
    "* In this case 64 bit integers\n",
    "\n",
    "Hence, each successive data point can be accessed by shifting forward in memory\n",
    "space by a known and fixed amount.\n",
    "\n",
    "* In this case 8 bytes\n",
    "\n",
    "#### Summing in Pure Python\n",
    "\n",
    "Python tries to replicate these ideas to some degree.\n",
    "\n",
    "For example, in the standard Python implementation (CPython), list elements are placed in memory locations that are in a sense contiguous.\n",
    "\n",
    "However, these list elements are more like pointers to data rather than actual data.\n",
    "\n",
    "Hence, there is still overhead involved in accessing the data values themselves.\n",
    "\n",
    "This is a considerable drag on speed.\n",
    "\n",
    "In fact, it's generally true that memory traffic is a major culprit when it comes to slow execution.\n",
    "\n",
    "Let's look at some ways around these problems.\n",
    "\n",
    "\n",
    "\n",
    "\n",
    "## {index}`Vectorization <single: Vectorization>`\n",
    "\n",
    "```{index} single: Python; Vectorization\n",
    "```\n",
    "\n",
    "There is a clever method called **vectorization** that can be\n",
    "used to speed up high level languages in numerical applications.\n",
    "\n",
    "The key idea is to send array processing operations in batch to pre-compiled\n",
    "and efficient native machine code.\n",
    "\n",
    "The machine code itself is typically compiled from carefully optimized C or Fortran.\n",
    "\n",
    "For example, when working in a high level language, the operation of inverting a large matrix can be subcontracted to efficient machine code that is pre-compiled for this purpose and supplied to users as part of a package.\n",
    "\n",
    "This clever idea dates back to MATLAB, which uses vectorization extensively.\n",
    "\n",
    "\n",
    "```{figure} /_static/lecture_specific/need_for_speed/matlab.png\n",
    "```\n",
    "\n",
    "Vectorization can greatly accelerate many numerical computations, as we will see\n",
    "in later lectures.\n",
    "\n",
    "(numba-p_c_vectorization)=\n",
    "## Beyond Vectorization\n",
    "\n",
    "At its best, vectorization yields fast, simple code.\n",
    "\n",
    "However, it's not without disadvantages.\n",
    "\n",
    "One issue is that it can be highly memory-intensive.\n",
    "\n",
    "For example, the vectorized maximization routine above is far more memory\n",
    "intensive than the non-vectorized version that preceded it.\n",
    "\n",
    "This is because vectorization tends to create many intermediate arrays before\n",
    "producing the final calculation.\n",
    "\n",
    "Another issue is that not all algorithms can be vectorized.\n",
    "\n",
    "In these kinds of settings, we need to go back to loops.\n",
    "\n",
    "Fortunately, there are alternative ways to speed up Python loops that work in\n",
    "almost any setting.\n",
    "\n",
    "For example, [Numba](http://numba.pydata.org/) solves the main problems with\n",
    "vectorization listed above.\n",
    "\n",
    "It does so through something called **just in time (JIT) compilation**,\n",
    "which can generate extremely fast and efficient code.\n",
    "\n",
    "{doc}`Later <numba>` we'll learn how to use Numba to accelerate Python code."
   ]
  }
 ],
 "metadata": {
  "jupytext": {
   "text_representation": {
    "extension": ".md",
    "format_name": "myst"
   }
  },
  "kernelspec": {
   "display_name": "Python 3",
   "language": "python",
   "name": "python3"
  },
  "language_info": {
   "codemirror_mode": {
    "name": "ipython",
    "version": 3
   },
   "file_extension": ".py",
   "mimetype": "text/x-python",
   "name": "python",
   "nbconvert_exporter": "python",
   "pygments_lexer": "ipython3",
   "version": "3.12.7"
  },
  "source_map": [
   10,
   52,
   57,
   167,
   170,
   179,
   182,
   186,
   189
  ]
 },
 "nbformat": 4,
 "nbformat_minor": 5
}