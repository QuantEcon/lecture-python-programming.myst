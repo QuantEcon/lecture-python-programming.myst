{
 "cells": [
  {
   "cell_type": "markdown",
   "metadata": {},
   "source": [
    "# Python Programming for Economics and Finance\n",
    "\n",
    "This website presents a set of lectures on Python programming for economics and finance, designed and written by\n",
    "[Thomas J. Sargent](http://www.tomsargent.com/) and [John Stachurski](http://johnstachurski.net/). This is the first text in the series, which focuses on programming in Python.\n",
    "\n",
    "```{admonition} New Build System\n",
    "[QuantEcon](https://quantecon.org) is moving to the [Jupyter Book](https://jupyterbook.org/intro.html)\n",
    "build system for all of its projects. We are a founding member of the\n",
    "[Executable Books Project](https://github.com/executablebooks), an international collaboration to\n",
    "build open source tools that facilitate publishing using the Jupyter\n",
    "ecosystem. Please send feedback to [contact@quantecon.org](mailto:contact@quantecon.org)\n",
    "```\n",
    "\n",
    "```{admonition} News\n",
    "Tom Sargent, Chase Coleman, and Spencer Lyon have put together The [NYU Computational Social\n",
    "Science: Certificate Program](http://www.tomsargent.com/nyu_css.html).\n",
    "It uses many [quantecon](https://quantecon.org/lectures/index.html)\n",
    "resources. The program  aims to prepare students for either a graduate program in the social\n",
    "sciences or for a career as a data analyst or computational social scientist.\n",
    "\n",
    "[Applications and additional information are available here](https://as.nyu.edu/content/nyu-as/as/departments/computational-social-science.html)\n",
    "```\n",
    "\n",
    "For an overview of the series, see [this page](https://quantecon.org/python-lectures/)\n",
    "\n",
    "```{tableofcontents}\n",
    "```"
   ]
  }
 ],
 "metadata": {
  "jupytext": {
   "text_representation": {
    "extension": ".md",
    "format_name": "myst"
   }
  },
  "kernelspec": {
   "display_name": "Python 3",
   "language": "python",
   "name": "python3"
  },
  "language_info": {
   "codemirror_mode": {
    "name": "ipython",
    "version": 3
   },
   "file_extension": ".py",
   "mimetype": "text/x-python",
   "name": "python",
   "nbconvert_exporter": "python",
   "pygments_lexer": "ipython3",
   "version": "3.8.5"
  },
  "source_map": [
   10
  ]
 },
 "nbformat": 4,
 "nbformat_minor": 4
}