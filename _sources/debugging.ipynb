{
 "cells": [
  {
   "cell_type": "markdown",
   "id": "6daa8273",
   "metadata": {},
   "source": [
    "(debugging)=\n",
    "```{raw} jupyter\n",
    "<div id=\"qe-notebook-header\" align=\"right\" style=\"text-align:right;\">\n",
    "        <a href=\"https://quantecon.org/\" title=\"quantecon.org\">\n",
    "                <img style=\"width:250px;display:inline;\" width=\"250px\" src=\"https://assets.quantecon.org/img/qe-menubar-logo.svg\" alt=\"QuantEcon\">\n",
    "        </a>\n",
    "</div>\n",
    "```\n",
    "\n",
    "# Debugging and Handling Errors\n",
    "\n",
    "```{index} single: Debugging\n",
    "```\n",
    "\n",
    "```{contents} Contents\n",
    ":depth: 2\n",
    "```\n",
    "\n",
    "```{epigraph}\n",
    "\"Debugging is twice as hard as writing the code in the first place.\n",
    "Therefore, if you write the code as cleverly as possible, you are, by definition,\n",
    "not smart enough to debug it.\" -- Brian Kernighan\n",
    "```\n",
    "\n",
    "## Overview\n",
    "\n",
    "Are you one of those programmers who fills their code with `print` statements when trying to debug their programs?\n",
    "\n",
    "Hey, we all used to do that.\n",
    "\n",
    "(OK, sometimes we still do that...)\n",
    "\n",
    "But once you start writing larger programs you'll need a better system.\n",
    "\n",
    "You may also want to handle potential errors in your code as they occur.\n",
    "\n",
    "In this lecture, we will discuss how to debug our programs and improve error handling.\n",
    "\n",
    "## Debugging\n",
    "\n",
    "```{index} single: Debugging\n",
    "```\n",
    "\n",
    "Debugging tools for Python vary across platforms, IDEs and editors.\n",
    "\n",
    "For example, a [visual debugger](https://jupyterlab.readthedocs.io/en/stable/user/debugger.html) is available in JupyterLab.\n",
    "\n",
    "Here we'll focus on Jupyter Notebook and leave you to explore other settings.\n",
    "\n",
    "We'll need the following imports"
   ]
  },
  {
   "cell_type": "code",
   "execution_count": null,
   "id": "588c7595",
   "metadata": {},
   "outputs": [],
   "source": [
    "%matplotlib inline\n",
    "import numpy as np\n",
    "import matplotlib.pyplot as plt\n",
    "plt.rcParams['figure.figsize'] = (10,6)"
   ]
  },
  {
   "cell_type": "markdown",
   "id": "e62f9040",
   "metadata": {},
   "source": [
    "(debug_magic)= \n",
    "### The `debug` Magic\n",
    "\n",
    "Let's consider a simple (and rather contrived) example"
   ]
  },
  {
   "cell_type": "code",
   "execution_count": null,
   "id": "183822b6",
   "metadata": {
    "tags": [
     "raises-exception"
    ]
   },
   "outputs": [],
   "source": [
    "def plot_log():\n",
    "    fig, ax = plt.subplots(2, 1)\n",
    "    x = np.linspace(1, 2, 10)\n",
    "    ax.plot(x, np.log(x))\n",
    "    plt.show()\n",
    "\n",
    "plot_log()  # Call the function, generate plot"
   ]
  },
  {
   "cell_type": "markdown",
   "id": "b93c158f",
   "metadata": {},
   "source": [
    "This code is intended to plot the `log` function over the interval $[1, 2]$.\n",
    "\n",
    "But there's an error here: `plt.subplots(2, 1)` should be just `plt.subplots()`.\n",
    "\n",
    "(The call `plt.subplots(2, 1)` returns a NumPy array containing two axes objects, suitable for having two subplots on the same figure)\n",
    "\n",
    "The traceback shows that the error occurs at the method call `ax.plot(x, np.log(x))`.\n",
    "\n",
    "The error occurs because we have mistakenly made `ax` a NumPy array, and a NumPy array has no `plot` method.\n",
    "\n",
    "But let's pretend that we don't understand this for the moment.\n",
    "\n",
    "We might suspect there's something wrong with `ax` but when we try to investigate this object, we get the following exception:"
   ]
  },
  {
   "cell_type": "code",
   "execution_count": null,
   "id": "3146b1b4",
   "metadata": {
    "tags": [
     "raises-exception"
    ]
   },
   "outputs": [],
   "source": [
    "ax"
   ]
  },
  {
   "cell_type": "markdown",
   "id": "c9e42ead",
   "metadata": {},
   "source": [
    "The problem is that `ax` was defined inside `plot_log()`, and the name is\n",
    "lost once that function terminates.\n",
    "\n",
    "Let's try doing it a different way.\n",
    "\n",
    "We run the first cell block again, generating the same error"
   ]
  },
  {
   "cell_type": "code",
   "execution_count": null,
   "id": "80e514ac",
   "metadata": {
    "tags": [
     "raises-exception"
    ]
   },
   "outputs": [],
   "source": [
    "def plot_log():\n",
    "    fig, ax = plt.subplots(2, 1)\n",
    "    x = np.linspace(1, 2, 10)\n",
    "    ax.plot(x, np.log(x))\n",
    "    plt.show()\n",
    "\n",
    "plot_log()  # Call the function, generate plot"
   ]
  },
  {
   "cell_type": "markdown",
   "id": "2daffb5a",
   "metadata": {},
   "source": [
    "But this time we type in the following cell block\n",
    "\n",
    "```{code-block} ipython\n",
    ":class: no-execute\n",
    "%debug\n",
    "```\n",
    "\n",
    "You should be dropped into a new prompt that looks something like this\n",
    "\n",
    "```{code-block} ipython\n",
    ":class: no-execute\n",
    "ipdb>\n",
    "```\n",
    "\n",
    "(You might see pdb> instead)\n",
    "\n",
    "Now we can investigate the value of our variables at this point in the program, step forward through the code, etc.\n",
    "\n",
    "For example, here we simply type the name `ax` to see what's happening with\n",
    "this object:\n",
    "\n",
    "```{code-block} ipython\n",
    ":class: no-execute\n",
    "ipdb> ax\n",
    "array([<matplotlib.axes.AxesSubplot object at 0x290f5d0>,\n",
    "       <matplotlib.axes.AxesSubplot object at 0x2930810>], dtype=object)\n",
    "```\n",
    "\n",
    "It's now very clear that `ax` is an array, which clarifies the source of the\n",
    "problem.\n",
    "\n",
    "To find out what else you can do from inside `ipdb` (or `pdb`), use the\n",
    "online help\n",
    "\n",
    "```{code-block} ipython\n",
    ":class: no-execute\n",
    "ipdb> h\n",
    "\n",
    "Documented commands (type help <topic>):\n",
    "========================================\n",
    "EOF    bt         cont      enable  jump  pdef   r        tbreak   w\n",
    "a      c          continue  exit    l     pdoc   restart  u        whatis\n",
    "alias  cl         d         h       list  pinfo  return   unalias  where\n",
    "args   clear      debug     help    n     pp     run      unt\n",
    "b      commands   disable   ignore  next  q      s        until\n",
    "break  condition  down      j       p     quit   step     up\n",
    "\n",
    "Miscellaneous help topics:\n",
    "==========================\n",
    "exec  pdb\n",
    "\n",
    "Undocumented commands:\n",
    "======================\n",
    "retval  rv\n",
    "\n",
    "ipdb> h c\n",
    "c(ont(inue))\n",
    "Continue execution, only stop when a breakpoint is encountered.\n",
    "```\n",
    "\n",
    "### Setting a Break Point\n",
    "\n",
    "The preceding approach is handy but sometimes insufficient.\n",
    "\n",
    "Consider the following modified version of our function above"
   ]
  },
  {
   "cell_type": "code",
   "execution_count": null,
   "id": "9c5d937a",
   "metadata": {
    "tags": [
     "raises-exception"
    ]
   },
   "outputs": [],
   "source": [
    "def plot_log():\n",
    "    fig, ax = plt.subplots()\n",
    "    x = np.logspace(1, 2, 10)\n",
    "    ax.plot(x, np.log(x))\n",
    "    plt.show()\n",
    "\n",
    "plot_log()"
   ]
  },
  {
   "cell_type": "markdown",
   "id": "f2b8a898",
   "metadata": {},
   "source": [
    "Here the original problem is fixed, but we've accidentally written\n",
    "`np.logspace(1, 2, 10)` instead of `np.linspace(1, 2, 10)`.\n",
    "\n",
    "Now there won't be any exception, but the plot won't look right.\n",
    "\n",
    "To investigate, it would be helpful if we could inspect variables like `x` during execution of the function.\n",
    "\n",
    "To this end, we add a \"break point\" by inserting  `breakpoint()` inside the function code block\n",
    "\n",
    "```{code-block} python3\n",
    ":class: no-execute\n",
    "def plot_log():\n",
    "    breakpoint()\n",
    "    fig, ax = plt.subplots()\n",
    "    x = np.logspace(1, 2, 10)\n",
    "    ax.plot(x, np.log(x))\n",
    "    plt.show()\n",
    "\n",
    "plot_log()\n",
    "```\n",
    "\n",
    "Now let's run the script, and investigate via the debugger\n",
    "\n",
    "```{code-block} ipython\n",
    ":class: no-execute\n",
    "> <ipython-input-6-a188074383b7>(6)plot_log()\n",
    "-> fig, ax = plt.subplots()\n",
    "(Pdb) n\n",
    "> <ipython-input-6-a188074383b7>(7)plot_log()\n",
    "-> x = np.logspace(1, 2, 10)\n",
    "(Pdb) n\n",
    "> <ipython-input-6-a188074383b7>(8)plot_log()\n",
    "-> ax.plot(x, np.log(x))\n",
    "(Pdb) x\n",
    "array([ 10.        ,  12.91549665,  16.68100537,  21.5443469 ,\n",
    "        27.82559402,  35.93813664,  46.41588834,  59.94842503,\n",
    "        77.42636827, 100.        ])\n",
    "```\n",
    "\n",
    "We used `n` twice to step forward through the code (one line at a time).\n",
    "\n",
    "Then we printed the value of `x` to see what was happening with that variable.\n",
    "\n",
    "To exit from the debugger, use `q`.\n",
    "\n",
    "### Other Useful Magics\n",
    "\n",
    "In this lecture, we used the `%debug` IPython magic.\n",
    "\n",
    "There are many other useful magics:\n",
    "\n",
    "* `%precision 4` sets printed precision for floats to 4 decimal places\n",
    "* `%whos` gives a list of variables and their values\n",
    "* `%quickref` gives a list of magics\n",
    "\n",
    "The full list of magics is [here](http://ipython.readthedocs.org/en/stable/interactive/magics.html).\n",
    "\n",
    "\n",
    "## Handling Errors\n",
    "\n",
    "```{index} single: Python; Handling Errors\n",
    "```\n",
    "\n",
    "Sometimes it's possible to anticipate bugs and errors as we're writing code.\n",
    "\n",
    "For example, the unbiased sample variance of sample $y_1, \\ldots, y_n$\n",
    "is defined as\n",
    "\n",
    "$$\n",
    "s^2 := \\frac{1}{n-1} \\sum_{i=1}^n (y_i - \\bar y)^2\n",
    "\\qquad \\bar y = \\text{ sample mean}\n",
    "$$\n",
    "\n",
    "This can be calculated in NumPy using `np.var`.\n",
    "\n",
    "But if you were writing a function to handle such a calculation, you might\n",
    "anticipate a divide-by-zero error when the sample size is one.\n",
    "\n",
    "One possible action is to do nothing --- the program will just crash, and spit out an error message.\n",
    "\n",
    "But sometimes it's worth writing your code in a way that anticipates and deals with runtime errors that you think might arise.\n",
    "\n",
    "Why?\n",
    "\n",
    "* Because the debugging information provided by the interpreter is often less useful than what can be provided by a well written error message.\n",
    "* Because errors that cause execution to stop interrupt workflows.\n",
    "* Because it reduces confidence in your code on the part of your users (if you are writing for others).\n",
    "\n",
    "\n",
    "In this section, we'll discuss different types of errors in Python and techniques to handle potential errors in our programs.\n",
    "\n",
    "### Errors in Python\n",
    "\n",
    "We have seen `AttributeError` and `NameError` in {any}`our previous examples <debug_magic>`.\n",
    "\n",
    "In Python, there are two types of errors -- syntax errors and exceptions.\n",
    "\n",
    "```{index} single: Python; Exceptions\n",
    "```\n",
    "\n",
    "Here's an example of a common error type"
   ]
  },
  {
   "cell_type": "code",
   "execution_count": null,
   "id": "4d5d48b0",
   "metadata": {
    "tags": [
     "raises-exception"
    ]
   },
   "outputs": [],
   "source": [
    "def f:"
   ]
  },
  {
   "cell_type": "markdown",
   "id": "deca56f4",
   "metadata": {},
   "source": [
    "Since illegal syntax cannot be executed, a syntax error terminates execution of the program.\n",
    "\n",
    "Here's a different kind of error, unrelated to syntax"
   ]
  },
  {
   "cell_type": "code",
   "execution_count": null,
   "id": "17fb0e64",
   "metadata": {
    "tags": [
     "raises-exception"
    ]
   },
   "outputs": [],
   "source": [
    "1 / 0"
   ]
  },
  {
   "cell_type": "markdown",
   "id": "475bb5ed",
   "metadata": {},
   "source": [
    "Here's another"
   ]
  },
  {
   "cell_type": "code",
   "execution_count": null,
   "id": "8892aa09",
   "metadata": {
    "tags": [
     "raises-exception"
    ]
   },
   "outputs": [],
   "source": [
    "x1 = y1"
   ]
  },
  {
   "cell_type": "markdown",
   "id": "a3c134e3",
   "metadata": {},
   "source": [
    "And another"
   ]
  },
  {
   "cell_type": "code",
   "execution_count": null,
   "id": "9d33e60c",
   "metadata": {
    "tags": [
     "raises-exception"
    ]
   },
   "outputs": [],
   "source": [
    "'foo' + 6"
   ]
  },
  {
   "cell_type": "markdown",
   "id": "32da9f66",
   "metadata": {},
   "source": [
    "And another"
   ]
  },
  {
   "cell_type": "code",
   "execution_count": null,
   "id": "c8dac017",
   "metadata": {
    "tags": [
     "raises-exception"
    ]
   },
   "outputs": [],
   "source": [
    "X = []\n",
    "x = X[0]"
   ]
  },
  {
   "cell_type": "markdown",
   "id": "96495a01",
   "metadata": {},
   "source": [
    "On each occasion, the interpreter informs us of the error type\n",
    "\n",
    "* `NameError`, `TypeError`, `IndexError`, `ZeroDivisionError`, etc.\n",
    "\n",
    "In Python, these errors are called *exceptions*.\n",
    "\n",
    "### Assertions\n",
    "\n",
    "```{index} single: Python; Assertions\n",
    "```\n",
    "\n",
    "Sometimes errors can be avoided by checking whether your program runs as expected.\n",
    "\n",
    "A relatively easy way to handle checks is with the `assert` keyword.\n",
    "\n",
    "For example, pretend for a moment that the `np.var` function doesn't\n",
    "exist and we need to write our own"
   ]
  },
  {
   "cell_type": "code",
   "execution_count": null,
   "id": "c04eff99",
   "metadata": {},
   "outputs": [],
   "source": [
    "def var(y):\n",
    "    n = len(y)\n",
    "    assert n > 1, 'Sample size must be greater than one.'\n",
    "    return np.sum((y - y.mean())**2) / float(n-1)"
   ]
  },
  {
   "cell_type": "markdown",
   "id": "0ccacfc7",
   "metadata": {},
   "source": [
    "If we run this with an array of length one, the program will terminate and\n",
    "print our error message"
   ]
  },
  {
   "cell_type": "code",
   "execution_count": null,
   "id": "51dfbd05",
   "metadata": {
    "tags": [
     "raises-exception"
    ]
   },
   "outputs": [],
   "source": [
    "var([1])"
   ]
  },
  {
   "cell_type": "markdown",
   "id": "3f492b4a",
   "metadata": {},
   "source": [
    "The advantage is that we can\n",
    "\n",
    "* fail early, as soon as we know there will be a problem\n",
    "* supply specific information on why a program is failing\n",
    "\n",
    "### Handling Errors During Runtime\n",
    "\n",
    "```{index} single: Python; Runtime Errors\n",
    "```\n",
    "\n",
    "The approach used above is a bit limited, because it always leads to\n",
    "termination.\n",
    "\n",
    "Sometimes we can handle errors more gracefully, by treating special cases.\n",
    "\n",
    "Let's look at how this is done.\n",
    "\n",
    "#### Catching Exceptions\n",
    "\n",
    "We can catch and deal with exceptions using `try` -- `except` blocks.\n",
    "\n",
    "Here's a simple example"
   ]
  },
  {
   "cell_type": "code",
   "execution_count": null,
   "id": "4eab140f",
   "metadata": {},
   "outputs": [],
   "source": [
    "def f(x):\n",
    "    try:\n",
    "        return 1.0 / x\n",
    "    except ZeroDivisionError:\n",
    "        print('Error: division by zero.  Returned None')\n",
    "    return None"
   ]
  },
  {
   "cell_type": "markdown",
   "id": "e5aac3f3",
   "metadata": {},
   "source": [
    "When we call `f` we get the following output"
   ]
  },
  {
   "cell_type": "code",
   "execution_count": null,
   "id": "346b645b",
   "metadata": {},
   "outputs": [],
   "source": [
    "f(2)"
   ]
  },
  {
   "cell_type": "code",
   "execution_count": null,
   "id": "5da37631",
   "metadata": {},
   "outputs": [],
   "source": [
    "f(0)"
   ]
  },
  {
   "cell_type": "code",
   "execution_count": null,
   "id": "0961b160",
   "metadata": {},
   "outputs": [],
   "source": [
    "f(0.0)"
   ]
  },
  {
   "cell_type": "markdown",
   "id": "f46bc2cd",
   "metadata": {},
   "source": [
    "The error is caught and execution of the program is not terminated.\n",
    "\n",
    "Note that other error types are not caught.\n",
    "\n",
    "If we are worried the user might pass in a string, we can catch that error too"
   ]
  },
  {
   "cell_type": "code",
   "execution_count": null,
   "id": "35391740",
   "metadata": {},
   "outputs": [],
   "source": [
    "def f(x):\n",
    "    try:\n",
    "        return 1.0 / x\n",
    "    except ZeroDivisionError:\n",
    "        print('Error: Division by zero.  Returned None')\n",
    "    except TypeError:\n",
    "        print(f'Error: x cannot be of type {type(x)}.  Returned None')\n",
    "    return None"
   ]
  },
  {
   "cell_type": "markdown",
   "id": "975bfee7",
   "metadata": {},
   "source": [
    "Here's what happens"
   ]
  },
  {
   "cell_type": "code",
   "execution_count": null,
   "id": "f4836c42",
   "metadata": {},
   "outputs": [],
   "source": [
    "f(2)"
   ]
  },
  {
   "cell_type": "code",
   "execution_count": null,
   "id": "eaeb7fca",
   "metadata": {},
   "outputs": [],
   "source": [
    "f(0)"
   ]
  },
  {
   "cell_type": "code",
   "execution_count": null,
   "id": "f280dc61",
   "metadata": {},
   "outputs": [],
   "source": [
    "f('foo')"
   ]
  },
  {
   "cell_type": "markdown",
   "id": "dbfe0bfa",
   "metadata": {},
   "source": [
    "If we feel lazy we can catch these errors together"
   ]
  },
  {
   "cell_type": "code",
   "execution_count": null,
   "id": "2cc39e33",
   "metadata": {},
   "outputs": [],
   "source": [
    "def f(x):\n",
    "    try:\n",
    "        return 1.0 / x\n",
    "    except:\n",
    "        print(f'Error.  An issue has occurred with x = {x} of type: {type(x)}')\n",
    "    return None"
   ]
  },
  {
   "cell_type": "markdown",
   "id": "646c1cd4",
   "metadata": {},
   "source": [
    "Here's what happens"
   ]
  },
  {
   "cell_type": "code",
   "execution_count": null,
   "id": "17b239d1",
   "metadata": {},
   "outputs": [],
   "source": [
    "f(2)"
   ]
  },
  {
   "cell_type": "code",
   "execution_count": null,
   "id": "4cc820a0",
   "metadata": {},
   "outputs": [],
   "source": [
    "f(0)"
   ]
  },
  {
   "cell_type": "code",
   "execution_count": null,
   "id": "1c34e8b3",
   "metadata": {},
   "outputs": [],
   "source": [
    "f('foo')"
   ]
  },
  {
   "cell_type": "markdown",
   "id": "f1a61e06",
   "metadata": {},
   "source": [
    "In general it's better to be specific.\n",
    "\n",
    "\n",
    "## Exercises\n",
    "\n",
    "```{exercise-start}\n",
    ":label: debug_ex1\n",
    "```\n",
    "\n",
    "Suppose we have a text file `numbers.txt` containing the following lines\n",
    "\n",
    "```{code-block} none\n",
    ":class: no-execute\n",
    "\n",
    "prices\n",
    "3\n",
    "8\n",
    "\n",
    "7\n",
    "21\n",
    "```\n",
    "\n",
    "Using `try` -- `except`, write a program to read in the contents of the file and sum the numbers, ignoring lines without numbers.\n",
    "\n",
    "You can use the `open()` function we learnt {any}`before<iterators>` to open `numbers.txt`.\n",
    "```{exercise-end}\n",
    "```\n",
    "\n",
    "\n",
    "```{solution-start} debug_ex1\n",
    ":class: dropdown\n",
    "```\n",
    "\n",
    "Let's save the data first"
   ]
  },
  {
   "cell_type": "code",
   "execution_count": null,
   "id": "fe735f80",
   "metadata": {},
   "outputs": [],
   "source": [
    "%%file numbers.txt\n",
    "prices\n",
    "3\n",
    "8\n",
    "\n",
    "7\n",
    "21"
   ]
  },
  {
   "cell_type": "code",
   "execution_count": null,
   "id": "de2350e6",
   "metadata": {},
   "outputs": [],
   "source": [
    "f = open('numbers.txt')\n",
    "\n",
    "total = 0.0\n",
    "for line in f:\n",
    "    try:\n",
    "        total += float(line)\n",
    "    except ValueError:\n",
    "        pass\n",
    "\n",
    "f.close()\n",
    "\n",
    "print(total)"
   ]
  },
  {
   "cell_type": "markdown",
   "id": "ad164bbf",
   "metadata": {},
   "source": [
    "```{solution-end}\n",
    "```"
   ]
  }
 ],
 "metadata": {
  "jupytext": {
   "text_representation": {
    "extension": ".md",
    "format_name": "myst"
   }
  },
  "kernelspec": {
   "display_name": "Python 3",
   "language": "python",
   "name": "python3"
  },
  "source_map": [
   10,
   63,
   68,
   75,
   86,
   102,
   107,
   116,
   127,
   195,
   206,
   310,
   315,
   321,
   326,
   330,
   335,
   339,
   344,
   348,
   354,
   374,
   379,
   384,
   389,
   414,
   421,
   425,
   429,
   433,
   435,
   443,
   452,
   456,
   460,
   464,
   466,
   470,
   477,
   481,
   485,
   489,
   491,
   528,
   538,
   551
  ]
 },
 "nbformat": 4,
 "nbformat_minor": 5
}