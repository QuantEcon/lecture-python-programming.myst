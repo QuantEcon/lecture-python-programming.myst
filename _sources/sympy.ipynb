{
 "cells": [
  {
   "cell_type": "markdown",
   "id": "9c7ab320",
   "metadata": {},
   "source": [
    "(sympy)=\n",
    "```{raw} jupyter\n",
    "<div id=\"qe-notebook-header\" align=\"right\" style=\"text-align:right;\">\n",
    "        <a href=\"https://quantecon.org/\" title=\"quantecon.org\">\n",
    "                <img style=\"width:250px;display:inline;\" width=\"250px\" src=\"https://assets.quantecon.org/img/qe-menubar-logo.svg\" alt=\"QuantEcon\">\n",
    "        </a>\n",
    "</div>\n",
    "```\n",
    "\n",
    "# {index}`SymPy <single: SymPy>`\n",
    "\n",
    "```{index} single: Python; SymPy\n",
    "```\n",
    "\n",
    "```{contents} Contents\n",
    ":depth: 2\n",
    "```\n",
    "\n",
    "## Overview\n",
    "\n",
    "Unlike numerical libraries that deal with values, [SymPy](https://www.sympy.org/en/index.html) focuses on manipulating mathematical symbols and expressions directly.\n",
    "\n",
    "SymPy provides [a wide range of features](https://www.sympy.org/en/features.html) including \n",
    "\n",
    "- symbolic expression\n",
    "- equation solving\n",
    "- simplification\n",
    "- calculus\n",
    "- matrices\n",
    "- discrete math, etc.\n",
    "\n",
    "These functions make SymPy a popular open-source alternative to other proprietary symbolic computational software such as Mathematica.\n",
    "\n",
    "In this lecture, we will explore some of the functionality of SymPy and demonstrate how to use basic SymPy functions to solve economic models.\n",
    "\n",
    "## Getting Started\n",
    "\n",
    "Let’s first import the library and initialize the printer for symbolic output"
   ]
  },
  {
   "cell_type": "code",
   "execution_count": null,
   "id": "da12f640",
   "metadata": {},
   "outputs": [],
   "source": [
    "from sympy import *\n",
    "from sympy.plotting import plot, plot3d_parametric_line, plot3d\n",
    "from sympy.solvers.inequalities import reduce_rational_inequalities\n",
    "from sympy.stats import Poisson, Exponential, Binomial, density, moment, E, cdf\n",
    "\n",
    "import numpy as np\n",
    "import matplotlib.pyplot as plt\n",
    "\n",
    "# Enable the mathjax printer\n",
    "init_printing(use_latex='mathjax')"
   ]
  },
  {
   "cell_type": "markdown",
   "id": "511c110b",
   "metadata": {},
   "source": [
    "## Symbolic algebra\n",
    "\n",
    "### Symbols\n",
    "\n",
    "First we initialize some symbols to work with"
   ]
  },
  {
   "cell_type": "code",
   "execution_count": null,
   "id": "dad3054c",
   "metadata": {},
   "outputs": [],
   "source": [
    "x, y, z = symbols('x y z')"
   ]
  },
  {
   "cell_type": "markdown",
   "id": "7420f909",
   "metadata": {},
   "source": [
    "Symbols are the basic units for symbolic computation in SymPy.\n",
    "\n",
    "### Expressions\n",
    "\n",
    "We can now use symbols `x`, `y`, and `z` to build expressions and equations.\n",
    "\n",
    "Here we build a simple expression first"
   ]
  },
  {
   "cell_type": "code",
   "execution_count": null,
   "id": "edd7217d",
   "metadata": {},
   "outputs": [],
   "source": [
    "expr = (x+y) ** 2\n",
    "expr"
   ]
  },
  {
   "cell_type": "markdown",
   "id": "0756ab0c",
   "metadata": {},
   "source": [
    "We can expand this expression with the `expand` function"
   ]
  },
  {
   "cell_type": "code",
   "execution_count": null,
   "id": "d62e2f4b",
   "metadata": {},
   "outputs": [],
   "source": [
    "expand_expr = expand(expr)\n",
    "expand_expr"
   ]
  },
  {
   "cell_type": "markdown",
   "id": "d0eda385",
   "metadata": {},
   "source": [
    "and factorize it back to the factored form with the `factor` function"
   ]
  },
  {
   "cell_type": "code",
   "execution_count": null,
   "id": "a2928cb4",
   "metadata": {},
   "outputs": [],
   "source": [
    "factor(expand_expr)"
   ]
  },
  {
   "cell_type": "markdown",
   "id": "4d6fccef",
   "metadata": {},
   "source": [
    "We can solve this expression"
   ]
  },
  {
   "cell_type": "code",
   "execution_count": null,
   "id": "7f24eddc",
   "metadata": {},
   "outputs": [],
   "source": [
    "solve(expr)"
   ]
  },
  {
   "cell_type": "markdown",
   "id": "0b1fac5e",
   "metadata": {},
   "source": [
    "Note this is equivalent to solving the following equation for `x`\n",
    "\n",
    "$$\n",
    "(x + y)^2 = 0 \n",
    "$$\n",
    "\n",
    "```{note}\n",
    "[Solvers](https://docs.sympy.org/latest/modules/solvers/index.html) is an important module with tools to solve different types of equations. \n",
    "\n",
    "There are a variety of solvers available in SymPy depending on the nature of the problem.\n",
    "```\n",
    "\n",
    "### Equations\n",
    "\n",
    "SymPy provides several functions to manipulate equations.\n",
    "\n",
    "Let's develop an equation with the expression we defined before"
   ]
  },
  {
   "cell_type": "code",
   "execution_count": null,
   "id": "67abe554",
   "metadata": {},
   "outputs": [],
   "source": [
    "eq = Eq(expr, 0)\n",
    "eq"
   ]
  },
  {
   "cell_type": "markdown",
   "id": "f68dda83",
   "metadata": {},
   "source": [
    "Solving this equation with respect to $x$ gives the same output as solving the expression directly"
   ]
  },
  {
   "cell_type": "code",
   "execution_count": null,
   "id": "ff3a79c1",
   "metadata": {},
   "outputs": [],
   "source": [
    "solve(eq, x)"
   ]
  },
  {
   "cell_type": "markdown",
   "id": "839b47e9",
   "metadata": {},
   "source": [
    "SymPy can handle equations with multiple solutions"
   ]
  },
  {
   "cell_type": "code",
   "execution_count": null,
   "id": "596ec5f1",
   "metadata": {},
   "outputs": [],
   "source": [
    "eq = Eq(expr, 1)\n",
    "solve(eq, x)"
   ]
  },
  {
   "cell_type": "markdown",
   "id": "ef48190b",
   "metadata": {},
   "source": [
    "`solve` function can also combine multiple equations together and solve a system of equations"
   ]
  },
  {
   "cell_type": "code",
   "execution_count": null,
   "id": "2d87342d",
   "metadata": {},
   "outputs": [],
   "source": [
    "eq2 = Eq(x, y)\n",
    "eq2"
   ]
  },
  {
   "cell_type": "code",
   "execution_count": null,
   "id": "fe19193d",
   "metadata": {},
   "outputs": [],
   "source": [
    "solve([eq, eq2], [x, y])"
   ]
  },
  {
   "cell_type": "markdown",
   "id": "006da14a",
   "metadata": {},
   "source": [
    "We can also solve for the value of $y$ by simply substituting $x$ with $y$"
   ]
  },
  {
   "cell_type": "code",
   "execution_count": null,
   "id": "1c7d96cd",
   "metadata": {},
   "outputs": [],
   "source": [
    "expr_sub = expr.subs(x, y)\n",
    "expr_sub"
   ]
  },
  {
   "cell_type": "code",
   "execution_count": null,
   "id": "23dcb045",
   "metadata": {},
   "outputs": [],
   "source": [
    "solve(Eq(expr_sub, 1))"
   ]
  },
  {
   "cell_type": "markdown",
   "id": "338943ac",
   "metadata": {},
   "source": [
    "Below is another example equation with the symbol `x` and functions `sin`, `cos`, and `tan` using the `Eq` function"
   ]
  },
  {
   "cell_type": "code",
   "execution_count": null,
   "id": "fb798ed0",
   "metadata": {},
   "outputs": [],
   "source": [
    "# Create an equation\n",
    "eq = Eq(cos(x) / (tan(x)/sin(x)), 0)\n",
    "eq"
   ]
  },
  {
   "cell_type": "markdown",
   "id": "eb7221a2",
   "metadata": {},
   "source": [
    "Now we simplify this equation using the `simplify` function"
   ]
  },
  {
   "cell_type": "code",
   "execution_count": null,
   "id": "f78af5c9",
   "metadata": {},
   "outputs": [],
   "source": [
    "# Simplify an expression\n",
    "simplified_expr = simplify(eq)\n",
    "simplified_expr"
   ]
  },
  {
   "cell_type": "markdown",
   "id": "bed894d1",
   "metadata": {},
   "source": [
    "Again, we use the `solve` function to solve this equation"
   ]
  },
  {
   "cell_type": "code",
   "execution_count": null,
   "id": "300112e3",
   "metadata": {},
   "outputs": [],
   "source": [
    "# Solve the equation\n",
    "sol = solve(eq, x)\n",
    "sol"
   ]
  },
  {
   "cell_type": "markdown",
   "id": "21129279",
   "metadata": {},
   "source": [
    "SymPy can also handle more complex equations involving trigonometry and complex numbers.\n",
    "\n",
    "We demonstrate this using [Euler's formula](https://en.wikipedia.org/wiki/Euler%27s_formula)"
   ]
  },
  {
   "cell_type": "code",
   "execution_count": null,
   "id": "440b3a8d",
   "metadata": {},
   "outputs": [],
   "source": [
    "# 'I' represents the imaginary number i \n",
    "euler = cos(x) + I*sin(x)\n",
    "euler"
   ]
  },
  {
   "cell_type": "code",
   "execution_count": null,
   "id": "dec73309",
   "metadata": {},
   "outputs": [],
   "source": [
    "simplify(euler)"
   ]
  },
  {
   "cell_type": "markdown",
   "id": "29a1f56f",
   "metadata": {},
   "source": [
    "If you are interested, we encourage you to read the lecture on [trigonometry and complex numbers](https://python.quantecon.org/complex_and_trig.html).\n",
    "\n",
    "#### Example: fixed point computation\n",
    "\n",
    "Fixed point computation is frequently used in economics and finance.\n",
    "\n",
    "Here we solve the fixed point of the Solow-Swan growth dynamics:\n",
    "\n",
    "$$\n",
    "k_{t+1}=s f\\left(k_t\\right)+(1-\\delta) k_t, \\quad t=0,1, \\ldots\n",
    "$$\n",
    "\n",
    "where $k_t$ is the capital stock, $f$ is a production function, $\\delta$ is a rate of depreciation.\n",
    "\n",
    "We are interested in calculating the fixed point of this dynamics, i.e., the value of $k$ such that $k_{t+1} = k_t$.\n",
    "\n",
    "With $f(k) = Ak^\\alpha$, we can show the unique fixed point of the dynamics $k^*$ using pen and paper:\n",
    "\n",
    "$$\n",
    "k^*:=\\left(\\frac{s A}{\\delta}\\right)^{1 /(1-\\alpha)}\n",
    "$$ \n",
    "\n",
    "This can be easily computed in SymPy"
   ]
  },
  {
   "cell_type": "code",
   "execution_count": null,
   "id": "d2302fb8",
   "metadata": {},
   "outputs": [],
   "source": [
    "A, s, k, α, δ = symbols('A s k^* α δ')"
   ]
  },
  {
   "cell_type": "markdown",
   "id": "66340f5c",
   "metadata": {},
   "source": [
    "Now we solve for the fixed point $k^*$\n",
    "\n",
    "$$\n",
    "k^* = sA(k^*)^{\\alpha}+(1-\\delta) k^*\n",
    "$$"
   ]
  },
  {
   "cell_type": "code",
   "execution_count": null,
   "id": "adda3b4d",
   "metadata": {},
   "outputs": [],
   "source": [
    "# Define Solow-Swan growth dynamics\n",
    "solow = Eq(s*A*k**α + (1-δ)*k, k)\n",
    "solow"
   ]
  },
  {
   "cell_type": "code",
   "execution_count": null,
   "id": "e769c0d9",
   "metadata": {},
   "outputs": [],
   "source": [
    "solve(solow, k)"
   ]
  },
  {
   "cell_type": "markdown",
   "id": "a1905898",
   "metadata": {},
   "source": [
    "### Inequalities and logic\n",
    "\n",
    "SymPy also allows users to define inequalities and set operators and provides a wide range of [operations](https://docs.sympy.org/latest/modules/solvers/inequalities.html)."
   ]
  },
  {
   "cell_type": "code",
   "execution_count": null,
   "id": "eab40d86",
   "metadata": {},
   "outputs": [],
   "source": [
    "reduce_inequalities([2*x + 5*y <= 30, 4*x + 2*y <= 20], [x])"
   ]
  },
  {
   "cell_type": "code",
   "execution_count": null,
   "id": "d511130a",
   "metadata": {},
   "outputs": [],
   "source": [
    "And(2*x + 5*y <= 30, x > 0)"
   ]
  },
  {
   "cell_type": "markdown",
   "id": "fb35f363",
   "metadata": {},
   "source": [
    "### Series\n",
    "\n",
    "Series are widely used in economics and statistics, from asset pricing to the expectation of discrete random variables.\n",
    "\n",
    "We can construct a simple series of summations using `Sum` function and `Indexed` symbols"
   ]
  },
  {
   "cell_type": "code",
   "execution_count": null,
   "id": "52ae56c1",
   "metadata": {},
   "outputs": [],
   "source": [
    "x, y, i, j = symbols(\"x y i j\")\n",
    "sum_xy = Sum(Indexed('x', i)*Indexed('y', j), \n",
    "            (i, 0, 3),\n",
    "            (j, 0, 3))\n",
    "sum_xy"
   ]
  },
  {
   "cell_type": "markdown",
   "id": "bbb39b3f",
   "metadata": {},
   "source": [
    "To evaluate the sum, we can [`lambdify`](https://docs.sympy.org/latest/modules/utilities/lambdify.html#sympy.utilities.lambdify.lambdify) the formula.\n",
    "\n",
    "The lambdified expression can take numeric values as input for $x$ and $y$ and compute the result"
   ]
  },
  {
   "cell_type": "code",
   "execution_count": null,
   "id": "28507975",
   "metadata": {},
   "outputs": [],
   "source": [
    "sum_xy = lambdify([x, y], sum_xy)\n",
    "grid = np.arange(0, 4, 1)\n",
    "sum_xy(grid, grid)"
   ]
  },
  {
   "cell_type": "markdown",
   "id": "fc2fcbe8",
   "metadata": {},
   "source": [
    "#### Example: bank deposits\n",
    "\n",
    "Imagine a bank with $D_0$ as the deposit at time $t$.\n",
    "\n",
    "It loans $(1-r)$ of its deposits and keeps a fraction $r$ as cash reserves.\n",
    "\n",
    "Its deposits over an infinite time horizon can be written as\n",
    "\n",
    "$$\n",
    "\\sum_{i=0}^\\infty (1-r)^i D_0\n",
    "$$\n",
    "\n",
    "Let's compute the deposits at time $t$"
   ]
  },
  {
   "cell_type": "code",
   "execution_count": null,
   "id": "1c17d3c4",
   "metadata": {},
   "outputs": [],
   "source": [
    "D = symbols('D_0')\n",
    "r = Symbol('r', positive=True)\n",
    "Dt = Sum('(1 - r)^i * D_0', (i, 0, oo))\n",
    "Dt"
   ]
  },
  {
   "cell_type": "markdown",
   "id": "3bcf25ff",
   "metadata": {},
   "source": [
    "We can call the `doit` method to evaluate the series"
   ]
  },
  {
   "cell_type": "code",
   "execution_count": null,
   "id": "3054f0f5",
   "metadata": {},
   "outputs": [],
   "source": [
    "Dt.doit()"
   ]
  },
  {
   "cell_type": "markdown",
   "id": "1c83afd2",
   "metadata": {},
   "source": [
    "Simplifying the expression above gives"
   ]
  },
  {
   "cell_type": "code",
   "execution_count": null,
   "id": "ebdb2ed9",
   "metadata": {},
   "outputs": [],
   "source": [
    "simplify(Dt.doit())"
   ]
  },
  {
   "cell_type": "markdown",
   "id": "bf2cfe47",
   "metadata": {},
   "source": [
    "This is consistent with the solution in the lecture on [geometric series](https://python.quantecon.org/geom_series.html#example-the-money-multiplier-in-fractional-reserve-banking).\n",
    "\n",
    "\n",
    "#### Example: discrete random variable\n",
    "\n",
    "In the following example, we compute the expectation of a discrete random variable.\n",
    "\n",
    "Let's define a discrete random variable $X$ following a [Poisson distribution](https://en.wikipedia.org/wiki/Poisson_distribution):\n",
    "\n",
    "$$\n",
    "f(x) = \\frac{\\lambda^x e^{-\\lambda}}{x!}, \\quad x = 0, 1, 2, \\ldots\n",
    "$$"
   ]
  },
  {
   "cell_type": "code",
   "execution_count": null,
   "id": "afe61c23",
   "metadata": {},
   "outputs": [],
   "source": [
    "λ = symbols('lambda')\n",
    "\n",
    "# We refine the symbol x to positive integers\n",
    "x = Symbol('x', integer=True, positive=True)\n",
    "pmf = λ**x * exp(-λ) / factorial(x)\n",
    "pmf"
   ]
  },
  {
   "cell_type": "markdown",
   "id": "0b76d7db",
   "metadata": {},
   "source": [
    "We can verify if the sum of probabilities for all possible values equals $1$:\n",
    "\n",
    "$$\n",
    "\\sum_{x=0}^{\\infty} f(x) = 1\n",
    "$$"
   ]
  },
  {
   "cell_type": "code",
   "execution_count": null,
   "id": "62c7178d",
   "metadata": {},
   "outputs": [],
   "source": [
    "sum_pmf = Sum(pmf, (x, 0, oo))\n",
    "sum_pmf.doit()"
   ]
  },
  {
   "cell_type": "markdown",
   "id": "3fb70dbc",
   "metadata": {},
   "source": [
    "The expectation of the distribution is:\n",
    "\n",
    "$$\n",
    "E(X) = \\sum_{x=0}^{\\infty} x f(x) \n",
    "$$"
   ]
  },
  {
   "cell_type": "code",
   "execution_count": null,
   "id": "56946499",
   "metadata": {},
   "outputs": [],
   "source": [
    "fx = Sum(x*pmf, (x, 0, oo))\n",
    "fx.doit()"
   ]
  },
  {
   "cell_type": "markdown",
   "id": "c2aea1bf",
   "metadata": {},
   "source": [
    "SymPy includes a statistics submodule called [`Stats`](https://docs.sympy.org/latest/modules/stats.html).\n",
    "\n",
    "`Stats` offers built-in distributions and functions on probability distributions.\n",
    "\n",
    "The computation above can also be condensed into one line using the expectation function `E` in the `Stats` module"
   ]
  },
  {
   "cell_type": "code",
   "execution_count": null,
   "id": "5d3b1018",
   "metadata": {},
   "outputs": [],
   "source": [
    "λ = Symbol(\"λ\", positive = True)\n",
    "\n",
    "# Using sympy.stats.Poisson() method\n",
    "X = Poisson(\"x\", λ)\n",
    "E(X)"
   ]
  },
  {
   "cell_type": "markdown",
   "id": "adba9658",
   "metadata": {},
   "source": [
    "## Symbolic Calculus\n",
    "\n",
    "SymPy allows us to perform various calculus operations, such as limits, differentiation, and integration.\n",
    "\n",
    "\n",
    "### Limits\n",
    "\n",
    "We can compute limits for a given expression using the `limit` function"
   ]
  },
  {
   "cell_type": "code",
   "execution_count": null,
   "id": "7c8af5ed",
   "metadata": {},
   "outputs": [],
   "source": [
    "# Define an expression\n",
    "f = x**2 / (x-1)\n",
    "\n",
    "# Compute the limit\n",
    "lim = limit(f, x, 0)\n",
    "lim"
   ]
  },
  {
   "cell_type": "markdown",
   "id": "68340e4a",
   "metadata": {},
   "source": [
    "### Derivatives\n",
    "\n",
    "We can differentiate any SymPy expression using the `diff` function"
   ]
  },
  {
   "cell_type": "code",
   "execution_count": null,
   "id": "e77a7c0e",
   "metadata": {},
   "outputs": [],
   "source": [
    "# Differentiate a function with respect to x\n",
    "df = diff(f, x)\n",
    "df"
   ]
  },
  {
   "cell_type": "markdown",
   "id": "30aaa38d",
   "metadata": {},
   "source": [
    "### Integrals\n",
    "\n",
    "We can compute definite and indefinite integrals using the `integrate` function"
   ]
  },
  {
   "cell_type": "code",
   "execution_count": null,
   "id": "57bc50a9",
   "metadata": {},
   "outputs": [],
   "source": [
    "# Calculate the indefinite integral\n",
    "indef_int = integrate(df, x)\n",
    "indef_int"
   ]
  },
  {
   "cell_type": "markdown",
   "id": "58bae3ba",
   "metadata": {},
   "source": [
    "Let's use this function to compute the moment-generating function of [exponential distribution](https://en.wikipedia.org/wiki/Exponential_distribution) with the probability density function:\n",
    "\n",
    "$$\n",
    "f(x) = \\lambda e^{-\\lambda x}, \\quad x \\ge 0\n",
    "$$"
   ]
  },
  {
   "cell_type": "code",
   "execution_count": null,
   "id": "8762eca3",
   "metadata": {},
   "outputs": [],
   "source": [
    "λ = Symbol('lambda', positive=True)\n",
    "x = Symbol('x', positive=True)\n",
    "pdf = λ * exp(-λ*x)\n",
    "pdf"
   ]
  },
  {
   "cell_type": "code",
   "execution_count": null,
   "id": "2c8f68a9",
   "metadata": {},
   "outputs": [],
   "source": [
    "t = Symbol('t', positive=True)\n",
    "moment_t = integrate(exp(t*x) * pdf, (x, 0, oo))\n",
    "simplify(moment_t)"
   ]
  },
  {
   "cell_type": "markdown",
   "id": "ddd87aa0",
   "metadata": {},
   "source": [
    "Note that we can also use `Stats` module to compute the moment"
   ]
  },
  {
   "cell_type": "code",
   "execution_count": null,
   "id": "4bf1c7b4",
   "metadata": {},
   "outputs": [],
   "source": [
    "X = Exponential(x, λ)"
   ]
  },
  {
   "cell_type": "code",
   "execution_count": null,
   "id": "e23ceef0",
   "metadata": {},
   "outputs": [],
   "source": [
    "moment(X, 1)"
   ]
  },
  {
   "cell_type": "code",
   "execution_count": null,
   "id": "c1b1fba8",
   "metadata": {},
   "outputs": [],
   "source": [
    "E(X**t)"
   ]
  },
  {
   "cell_type": "markdown",
   "id": "b0d8221b",
   "metadata": {},
   "source": [
    "Using the `integrate` function, we can derive the cumulative density function of the exponential distribution with $\\lambda = 0.5$"
   ]
  },
  {
   "cell_type": "code",
   "execution_count": null,
   "id": "7b57e887",
   "metadata": {},
   "outputs": [],
   "source": [
    "λ_pdf = pdf.subs(λ, 1/2)\n",
    "λ_pdf"
   ]
  },
  {
   "cell_type": "code",
   "execution_count": null,
   "id": "e751ad94",
   "metadata": {},
   "outputs": [],
   "source": [
    "integrate(λ_pdf, (x, 0, 4))"
   ]
  },
  {
   "cell_type": "markdown",
   "id": "f32cbe08",
   "metadata": {},
   "source": [
    "Using `cdf` in `Stats` module gives the same solution"
   ]
  },
  {
   "cell_type": "code",
   "execution_count": null,
   "id": "8336b649",
   "metadata": {},
   "outputs": [],
   "source": [
    "cdf(X, 1/2)"
   ]
  },
  {
   "cell_type": "code",
   "execution_count": null,
   "id": "15bf114d",
   "metadata": {},
   "outputs": [],
   "source": [
    "# Plug in a value for z \n",
    "λ_cdf = cdf(X, 1/2)(4)\n",
    "λ_cdf"
   ]
  },
  {
   "cell_type": "code",
   "execution_count": null,
   "id": "f6ed31b9",
   "metadata": {},
   "outputs": [],
   "source": [
    "# Substitute λ\n",
    "λ_cdf.subs({λ: 1/2})"
   ]
  },
  {
   "cell_type": "markdown",
   "id": "a9c7bfd7",
   "metadata": {},
   "source": [
    "## Plotting\n",
    "\n",
    "SymPy provides a powerful plotting feature. \n",
    "\n",
    "First we plot a simple function using the `plot` function"
   ]
  },
  {
   "cell_type": "code",
   "execution_count": null,
   "id": "c1806dd1",
   "metadata": {},
   "outputs": [],
   "source": [
    "f = sin(2 * sin(2 * sin(2 * sin(x))))\n",
    "p = plot(f, (x, -10, 10), show=False)\n",
    "p.title = 'A Simple Plot'\n",
    "p.show()"
   ]
  },
  {
   "cell_type": "markdown",
   "id": "1380260e",
   "metadata": {},
   "source": [
    "Similar to Matplotlib, SymPy provides an interface to customize the graph"
   ]
  },
  {
   "cell_type": "code",
   "execution_count": null,
   "id": "36acb416",
   "metadata": {},
   "outputs": [],
   "source": [
    "plot_f = plot(f, (x, -10, 10), \n",
    "              xlabel='', ylabel='', \n",
    "              legend = True, show = False)\n",
    "plot_f[0].label = 'f(x)'\n",
    "df = diff(f)\n",
    "plot_df = plot(df, (x, -10, 10), \n",
    "            legend = True, show = False)\n",
    "plot_df[0].label = 'f\\'(x)'\n",
    "plot_f.append(plot_df[0])\n",
    "plot_f.show()"
   ]
  },
  {
   "cell_type": "markdown",
   "id": "b4fe106e",
   "metadata": {},
   "source": [
    "It also supports plotting implicit functions and visualizing inequalities"
   ]
  },
  {
   "cell_type": "code",
   "execution_count": null,
   "id": "fdcd4eab",
   "metadata": {},
   "outputs": [],
   "source": [
    "p = plot_implicit(Eq((1/x + 1/y)**2, 1))"
   ]
  },
  {
   "cell_type": "code",
   "execution_count": null,
   "id": "885ef2cc",
   "metadata": {},
   "outputs": [],
   "source": [
    "p = plot_implicit(And(2*x + 5*y <= 30, 4*x + 2*y >= 20),\n",
    "                     (x, -1, 10), (y, -10, 10))"
   ]
  },
  {
   "cell_type": "markdown",
   "id": "805ebd26",
   "metadata": {},
   "source": [
    "and visualizations in three-dimensional space"
   ]
  },
  {
   "cell_type": "code",
   "execution_count": null,
   "id": "cfb38a0c",
   "metadata": {},
   "outputs": [],
   "source": [
    "p = plot3d(cos(2*x + y), zlabel='')"
   ]
  },
  {
   "cell_type": "markdown",
   "id": "c44bcfc4",
   "metadata": {},
   "source": [
    "## Application: Two-person Exchange Economy\n",
    "\n",
    "Imagine a pure exchange economy with two people ($a$ and $b$) and two goods recorded as proportions ($x$ and $y$).\n",
    "\n",
    "They can trade goods with each other according to their preferences.\n",
    "\n",
    "Assume that the utility functions of the consumers are given by\n",
    "\n",
    "$$\n",
    "u_a(x, y) = x^{\\alpha} y^{1-\\alpha}\n",
    "$$\n",
    "\n",
    "$$\n",
    "u_b(x, y) = (1 - x)^{\\beta} (1 - y)^{1-\\beta}\n",
    "$$\n",
    "\n",
    "where $\\alpha, \\beta \\in (0, 1)$.\n",
    "\n",
    "First we define the symbols and utility functions"
   ]
  },
  {
   "cell_type": "code",
   "execution_count": null,
   "id": "acafd938",
   "metadata": {},
   "outputs": [],
   "source": [
    "# Define symbols and utility functions\n",
    "x, y, α, β = symbols('x, y, α, β')\n",
    "u_a = x**α * y**(1-α)\n",
    "u_b = (1 - x)**β * (1 - y)**(1 - β)"
   ]
  },
  {
   "cell_type": "code",
   "execution_count": null,
   "id": "51a03c33",
   "metadata": {},
   "outputs": [],
   "source": [
    "u_a"
   ]
  },
  {
   "cell_type": "code",
   "execution_count": null,
   "id": "4343f093",
   "metadata": {},
   "outputs": [],
   "source": [
    "u_b"
   ]
  },
  {
   "cell_type": "markdown",
   "id": "dc00f8e0",
   "metadata": {},
   "source": [
    "We are interested in the Pareto optimal allocation of goods $x$ and $y$.\n",
    "\n",
    "Note that a point is Pareto efficient when the allocation is optimal for one person given the allocation for the other person.\n",
    "\n",
    "In terms of marginal utility:\n",
    "\n",
    "$$\n",
    "\\frac{\\frac{\\partial u_a}{\\partial x}}{\\frac{\\partial u_a}{\\partial y}} = \\frac{\\frac{\\partial u_b}{\\partial x}}{\\frac{\\partial u_b}{\\partial y}}\n",
    "$$"
   ]
  },
  {
   "cell_type": "code",
   "execution_count": null,
   "id": "e5124d6b",
   "metadata": {},
   "outputs": [],
   "source": [
    "# A point is Pareto efficient when the allocation is optimal \n",
    "# for one person given the allocation for the other person\n",
    "\n",
    "pareto = Eq(diff(u_a, x)/diff(u_a, y), \n",
    "            diff(u_b, x)/diff(u_b, y))\n",
    "pareto"
   ]
  },
  {
   "cell_type": "code",
   "execution_count": null,
   "id": "e5627f6f",
   "metadata": {},
   "outputs": [],
   "source": [
    "# Solve the equation\n",
    "sol = solve(pareto, y)[0]\n",
    "sol"
   ]
  },
  {
   "cell_type": "markdown",
   "id": "ea5deedb",
   "metadata": {},
   "source": [
    "Let's compute the Pareto optimal allocations of the economy (contract curves) with $\\alpha = \\beta = 0.5$ using SymPy"
   ]
  },
  {
   "cell_type": "code",
   "execution_count": null,
   "id": "9d8cd547",
   "metadata": {},
   "outputs": [],
   "source": [
    "# Substitute α = 0.5 and β = 0.5\n",
    "sol.subs({α: 0.5, β: 0.5})"
   ]
  },
  {
   "cell_type": "markdown",
   "id": "c0a82d8c",
   "metadata": {},
   "source": [
    "We can use this result to visualize more contract curves under different parameters"
   ]
  },
  {
   "cell_type": "code",
   "execution_count": null,
   "id": "3d539fd2",
   "metadata": {},
   "outputs": [],
   "source": [
    "# Plot a range of αs and βs\n",
    "params = [{α: 0.5, β: 0.5}, \n",
    "          {α: 0.1, β: 0.9},\n",
    "          {α: 0.1, β: 0.8},\n",
    "          {α: 0.8, β: 0.9},\n",
    "          {α: 0.4, β: 0.8}, \n",
    "          {α: 0.8, β: 0.1},\n",
    "          {α: 0.9, β: 0.8},\n",
    "          {α: 0.8, β: 0.4},\n",
    "          {α: 0.9, β: 0.1}]\n",
    "\n",
    "p = plot(xlabel='x', ylabel='y', show=False)\n",
    "\n",
    "for param in params:\n",
    "    p_add = plot(sol.subs(param), (x, 0, 1), \n",
    "                 show=False)\n",
    "    p.append(p_add[0])\n",
    "p.show()"
   ]
  },
  {
   "cell_type": "markdown",
   "id": "9391395e",
   "metadata": {},
   "source": [
    "We invite you to play with the parameters and see how the contract curves change and think about the following two questions:\n",
    "\n",
    "- Can you think of a way to draw the same graph using `numpy`? \n",
    "- How difficult will it be to write a `numpy` implementation?\n",
    "\n",
    "## Exercises\n",
    "\n",
    "```{exercise}\n",
    ":label: sympy_ex1\n",
    "\n",
    "L'Hôpital's rule states that for two functions $f(x)$ and $g(x)$, if $\\lim_{x \\to a} f(x) = \\lim_{x \\to a} g(x) = 0$ or $\\pm \\infty$, then\n",
    "\n",
    "$$\n",
    "\\lim_{x \\to a} \\frac{f(x)}{g(x)} = \\lim_{x \\to a} \\frac{f'(x)}{g'(x)}\n",
    "$$\n",
    "\n",
    "Use SymPy to verify L'Hôpital's rule for the following functions\n",
    "\n",
    "$$\n",
    "f(x) = \\frac{y^x - 1}{x}\n",
    "$$\n",
    "\n",
    "as $x$ approaches to $0$\n",
    "```\n",
    "\n",
    "```{solution-start} sympy_ex1\n",
    ":class: dropdown\n",
    "```\n",
    "\n",
    "Let's define the function first"
   ]
  },
  {
   "cell_type": "code",
   "execution_count": null,
   "id": "d0381b2f",
   "metadata": {},
   "outputs": [],
   "source": [
    "f_upper = y**x - 1\n",
    "f_lower = x\n",
    "f = f_upper/f_lower\n",
    "f"
   ]
  },
  {
   "cell_type": "markdown",
   "id": "84b0497c",
   "metadata": {},
   "source": [
    "Sympy is smart enough to solve this limit"
   ]
  },
  {
   "cell_type": "code",
   "execution_count": null,
   "id": "1574c977",
   "metadata": {},
   "outputs": [],
   "source": [
    "lim = limit(f, x, 0)\n",
    "lim"
   ]
  },
  {
   "cell_type": "markdown",
   "id": "5753ee66",
   "metadata": {},
   "source": [
    "We compare the result suggested by L'Hôpital's rule"
   ]
  },
  {
   "cell_type": "code",
   "execution_count": null,
   "id": "5dbc76c5",
   "metadata": {},
   "outputs": [],
   "source": [
    "lim = limit(diff(f_upper, x)/\n",
    "            diff(f_lower, x), x, 0)\n",
    "lim"
   ]
  },
  {
   "cell_type": "markdown",
   "id": "950ffae1",
   "metadata": {},
   "source": [
    "```{solution-end}\n",
    "```\n",
    "\n",
    "```{exercise}\n",
    ":label: sympy_ex2\n",
    "\n",
    "[Maximum likelihood estimation (MLE)](https://python.quantecon.org/mle.html) is a method to estimate the parameters of a statistical model. \n",
    "\n",
    "It usually involves maximizing a log-likelihood function and solving the first-order derivative.\n",
    "\n",
    "The binomial distribution is given by\n",
    "\n",
    "$$\n",
    "f(x; n, θ) = \\frac{n!}{x!(n-x)!}θ^x(1-θ)^{n-x}\n",
    "$$\n",
    "\n",
    "where $n$ is the number of trials and $x$ is the number of successes.\n",
    "\n",
    "Assume we observed a series of binary outcomes with $x$ successes out of $n$ trials.\n",
    "\n",
    "Compute the MLE of $θ$ using SymPy\n",
    "```\n",
    "\n",
    "```{solution-start} sympy_ex2\n",
    ":class: dropdown\n",
    "```\n",
    "\n",
    "First, we define the binomial distribution"
   ]
  },
  {
   "cell_type": "code",
   "execution_count": null,
   "id": "97e1e508",
   "metadata": {},
   "outputs": [],
   "source": [
    "n, x, θ = symbols('n x θ')\n",
    "\n",
    "binomial_factor = (factorial(n)) / (factorial(x)*factorial(n-r))\n",
    "binomial_factor"
   ]
  },
  {
   "cell_type": "code",
   "execution_count": null,
   "id": "b0033e7e",
   "metadata": {},
   "outputs": [],
   "source": [
    "bino_dist = binomial_factor * ((θ**x)*(1-θ)**(n-x))\n",
    "bino_dist"
   ]
  },
  {
   "cell_type": "markdown",
   "id": "2988107a",
   "metadata": {},
   "source": [
    "Now we compute the log-likelihood function and solve for the result"
   ]
  },
  {
   "cell_type": "code",
   "execution_count": null,
   "id": "4943af89",
   "metadata": {},
   "outputs": [],
   "source": [
    "log_bino_dist = log(bino_dist)"
   ]
  },
  {
   "cell_type": "code",
   "execution_count": null,
   "id": "87f6355b",
   "metadata": {},
   "outputs": [],
   "source": [
    "log_bino_diff = simplify(diff(log_bino_dist, θ))\n",
    "log_bino_diff"
   ]
  },
  {
   "cell_type": "code",
   "execution_count": null,
   "id": "c402fb88",
   "metadata": {},
   "outputs": [],
   "source": [
    "solve(Eq(log_bino_diff, 0), θ)[0]"
   ]
  },
  {
   "cell_type": "markdown",
   "id": "252e9683",
   "metadata": {},
   "source": [
    "```{solution-end}\n",
    "```"
   ]
  }
 ],
 "metadata": {
  "jupytext": {
   "text_representation": {
    "extension": ".md",
    "format_name": "myst",
    "format_version": 0.13,
    "jupytext_version": "1.14.5"
   }
  },
  "kernelspec": {
   "display_name": "Python 3 (ipykernel)",
   "language": "python",
   "name": "python3"
  },
  "source_map": [
   12,
   53,
   64,
   72,
   74,
   84,
   87,
   91,
   94,
   98,
   100,
   104,
   106,
   126,
   129,
   133,
   135,
   139,
   142,
   146,
   151,
   153,
   157,
   162,
   164,
   168,
   172,
   176,
   180,
   184,
   188,
   194,
   200,
   202,
   228,
   230,
   238,
   244,
   246,
   252,
   256,
   258,
   266,
   272,
   278,
   282,
   298,
   303,
   307,
   309,
   313,
   315,
   330,
   337,
   345,
   348,
   356,
   359,
   367,
   373,
   384,
   391,
   397,
   401,
   407,
   411,
   419,
   426,
   430,
   434,
   438,
   442,
   444,
   448,
   453,
   455,
   459,
   463,
   469,
   472,
   480,
   485,
   489,
   500,
   504,
   508,
   511,
   515,
   517,
   539,
   546,
   550,
   552,
   564,
   573,
   577,
   581,
   584,
   588,
   607,
   640,
   645,
   649,
   652,
   656,
   660,
   691,
   698,
   701,
   705,
   709,
   714,
   716
  ]
 },
 "nbformat": 4,
 "nbformat_minor": 5
}