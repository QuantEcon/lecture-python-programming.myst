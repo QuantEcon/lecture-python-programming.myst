{
 "cells": [
  {
   "cell_type": "markdown",
   "id": "e32aee42",
   "metadata": {},
   "source": [
    "# JAX\n",
    "\n",
    "\n",
    "```{note}\n",
    "This lecture is built using [hardware](status:machine-details) that\n",
    "has access to a GPU. This means that \n",
    "\n",
    "1. the lecture might be significantly slower when running on your machine, and\n",
    "2. the code is well-suited to execution with [Google colab](https://colab.research.google.com/github/QuantEcon/lecture-python-programming.notebooks/blob/master/jax_intro.ipynb)\n",
    "```\n",
    "\n",
    "This lecture provides a short introduction to [Google JAX](https://github.com/google/jax).\n",
    "\n",
    "## Overview\n",
    "\n",
    "Let's start with an overview of JAX.\n",
    "\n",
    "### Capabilities\n",
    "\n",
    "[JAX](https://github.com/google/jax) is a Python library initially developed by\n",
    "Google to support in-house artificial intelligence and machine learning.\n",
    "\n",
    "\n",
    "JAX provides data types, functions and a compiler for fast linear\n",
    "algebra operations and automatic differentiation.\n",
    "\n",
    "Loosely speaking, JAX is like NumPy with the addition of\n",
    "\n",
    "* automatic differentiation\n",
    "* automated GPU/TPU support\n",
    "* a just-in-time compiler\n",
    "\n",
    "One of the great benefits of JAX is that the same code can be run either on\n",
    "the CPU or on a hardware accelerator, such as a GPU or TPU.\n",
    "\n",
    "For example, JAX automatically builds and deploys kernels on the GPU whenever\n",
    "an accessible device is detected.\n",
    "\n",
    "### History\n",
    "\n",
    "In 2015, Google open-sourced part of its AI infrastructure called TensorFlow.\n",
    "\n",
    "Around two years later, Facebook open-sourced PyTorch beta, an alternative AI\n",
    "framework which is regarded as developer-friendly and more Pythonic than\n",
    "TensorFlow.\n",
    "\n",
    "By 2019, PyTorch was surging in popularity, adopted by Uber, Airbnb, Tesla and\n",
    "many other companies.\n",
    "\n",
    "In 2020, Google launched JAX as an open-source framework, simultaneously \n",
    "beginning to shift away from TPUs to Nvidia GPUs. \n",
    "\n",
    "In the last few years, uptake of Google JAX has accelerated rapidly, bringing\n",
    "attention back to Google-based machine learning architectures.\n",
    "\n",
    "\n",
    "### Installation\n",
    "\n",
    "JAX can be installed with or without GPU support by following [the install guide](https://github.com/google/jax).\n",
    "\n",
    "Note that JAX is pre-installed with GPU support on [Google Colab](https://colab.research.google.com/).\n",
    "\n",
    "If you do not have your own GPU, we recommend that you run this lecture on Colab."
   ]
  },
  {
   "cell_type": "markdown",
   "id": "1b19a55a",
   "metadata": {},
   "source": [
    "## JAX as a NumPy Replacement\n",
    "\n",
    "\n",
    "One way to use JAX is as a plug-in NumPy replacement. Let's look at the similarities and differences.\n",
    "\n",
    "### Similarities\n",
    "\n",
    "\n",
    "The following import is standard, replacing `import numpy as np`:"
   ]
  },
  {
   "cell_type": "code",
   "execution_count": null,
   "id": "fe72fb84",
   "metadata": {},
   "outputs": [],
   "source": [
    "import jax\n",
    "import jax.numpy as jnp"
   ]
  },
  {
   "cell_type": "markdown",
   "id": "a8e19f1b",
   "metadata": {},
   "source": [
    "Now we can use `jnp` in place of `np` for the usual array operations:"
   ]
  },
  {
   "cell_type": "code",
   "execution_count": null,
   "id": "bae2231a",
   "metadata": {},
   "outputs": [],
   "source": [
    "a = jnp.asarray((1.0, 3.2, -1.5))"
   ]
  },
  {
   "cell_type": "code",
   "execution_count": null,
   "id": "5eeb6e85",
   "metadata": {},
   "outputs": [],
   "source": [
    "print(a)"
   ]
  },
  {
   "cell_type": "code",
   "execution_count": null,
   "id": "a6f06be0",
   "metadata": {},
   "outputs": [],
   "source": [
    "print(jnp.sum(a))"
   ]
  },
  {
   "cell_type": "code",
   "execution_count": null,
   "id": "0f676bd8",
   "metadata": {},
   "outputs": [],
   "source": [
    "print(jnp.mean(a))"
   ]
  },
  {
   "cell_type": "code",
   "execution_count": null,
   "id": "cd1a8eca",
   "metadata": {},
   "outputs": [],
   "source": [
    "print(jnp.dot(a, a))"
   ]
  },
  {
   "cell_type": "markdown",
   "id": "9bb45963",
   "metadata": {},
   "source": [
    "However, the array object `a` is not a NumPy array:"
   ]
  },
  {
   "cell_type": "code",
   "execution_count": null,
   "id": "d8ab11d0",
   "metadata": {},
   "outputs": [],
   "source": [
    "a"
   ]
  },
  {
   "cell_type": "code",
   "execution_count": null,
   "id": "c9e342de",
   "metadata": {},
   "outputs": [],
   "source": [
    "type(a)"
   ]
  },
  {
   "cell_type": "markdown",
   "id": "4277da5f",
   "metadata": {},
   "source": [
    "Even scalar-valued maps on arrays return objects of type `DeviceArray`:"
   ]
  },
  {
   "cell_type": "code",
   "execution_count": null,
   "id": "fb6a8e75",
   "metadata": {},
   "outputs": [],
   "source": [
    "jnp.sum(a)"
   ]
  },
  {
   "cell_type": "markdown",
   "id": "0f46d88a",
   "metadata": {},
   "source": [
    "The term `Device` refers to the hardware accelerator (GPU or TPU), although JAX falls back to the CPU if no accelerator is detected.\n",
    "\n",
    "(In the terminology of GPUs, the \"host\" is the machine that launches GPU operations, while the \"device\" is the GPU itself.)\n",
    "\n",
    "```{note}\n",
    "Note that `DeviceArray` is a [*future*](https://en.wikipedia.org/wiki/Futures_and_promises); it allows Python to continue execution when the results of computation are not available immediately.\n",
    "\n",
    "This means that Python can dispatch more jobs without waiting for the computation results to be returned by the device.\n",
    "\n",
    "This feature is called [*asynchronous dispatch*](https://jax.readthedocs.io/en/latest/async_dispatch.html), which hides Python overheads and reduces wait time.\n",
    "```\n",
    "\n",
    "\n",
    "Operations on higher dimensional arrays is also similar to NumPy:"
   ]
  },
  {
   "cell_type": "code",
   "execution_count": null,
   "id": "ba05e92f",
   "metadata": {},
   "outputs": [],
   "source": [
    "A = jnp.ones((2, 2))\n",
    "B = jnp.identity(2)\n",
    "A @ B"
   ]
  },
  {
   "cell_type": "code",
   "execution_count": null,
   "id": "1ad36f06",
   "metadata": {},
   "outputs": [],
   "source": [
    "from jax.numpy import linalg"
   ]
  },
  {
   "cell_type": "code",
   "execution_count": null,
   "id": "ac9a72df",
   "metadata": {},
   "outputs": [],
   "source": [
    "linalg.solve(B, A)"
   ]
  },
  {
   "cell_type": "code",
   "execution_count": null,
   "id": "3af42d62",
   "metadata": {},
   "outputs": [],
   "source": [
    "linalg.eigh(B)  # Computes eigenvalues and eigenvectors"
   ]
  },
  {
   "cell_type": "markdown",
   "id": "e56041ba",
   "metadata": {},
   "source": [
    "### Differences\n",
    "\n",
    "\n",
    "One difference between NumPy and JAX is that, when running on a GPU, JAX uses 32 bit floats by default.  \n",
    "\n",
    "This is standard for GPU computing and can lead to significant speed gains with small loss of precision.\n",
    "\n",
    "However, for some calculations precision matters.  In these cases 64 bit floats can be enforced via the command"
   ]
  },
  {
   "cell_type": "code",
   "execution_count": null,
   "id": "6dea0299",
   "metadata": {},
   "outputs": [],
   "source": [
    "jax.config.update(\"jax_enable_x64\", True)"
   ]
  },
  {
   "cell_type": "markdown",
   "id": "d9e48d96",
   "metadata": {},
   "source": [
    "Let's check this works:"
   ]
  },
  {
   "cell_type": "code",
   "execution_count": null,
   "id": "e4bdf2e0",
   "metadata": {},
   "outputs": [],
   "source": [
    "jnp.ones(3)"
   ]
  },
  {
   "cell_type": "markdown",
   "id": "7eeaae32",
   "metadata": {},
   "source": [
    "As a NumPy replacement, a more significant difference is that arrays are treated as **immutable**.  \n",
    "\n",
    "For example, with NumPy we can write"
   ]
  },
  {
   "cell_type": "code",
   "execution_count": null,
   "id": "493fe5eb",
   "metadata": {},
   "outputs": [],
   "source": [
    "import numpy as np\n",
    "a = np.linspace(0, 1, 3)\n",
    "a"
   ]
  },
  {
   "cell_type": "markdown",
   "id": "30df5651",
   "metadata": {},
   "source": [
    "and then mutate the data in memory:"
   ]
  },
  {
   "cell_type": "code",
   "execution_count": null,
   "id": "4e06407b",
   "metadata": {},
   "outputs": [],
   "source": [
    "a[0] = 1\n",
    "a"
   ]
  },
  {
   "cell_type": "markdown",
   "id": "0cb34a92",
   "metadata": {},
   "source": [
    "In JAX this fails:"
   ]
  },
  {
   "cell_type": "code",
   "execution_count": null,
   "id": "07d1cc73",
   "metadata": {},
   "outputs": [],
   "source": [
    "a = jnp.linspace(0, 1, 3)\n",
    "a"
   ]
  },
  {
   "cell_type": "code",
   "execution_count": null,
   "id": "fdccb6fd",
   "metadata": {
    "tags": [
     "raises-exception"
    ]
   },
   "outputs": [],
   "source": [
    "a[0] = 1"
   ]
  },
  {
   "cell_type": "markdown",
   "id": "9094dab9",
   "metadata": {},
   "source": [
    "In line with immutability, JAX does not support inplace operations:"
   ]
  },
  {
   "cell_type": "code",
   "execution_count": null,
   "id": "c54dc35f",
   "metadata": {},
   "outputs": [],
   "source": [
    "a = np.array((2, 1))\n",
    "a.sort()\n",
    "a"
   ]
  },
  {
   "cell_type": "code",
   "execution_count": null,
   "id": "e6eb6355",
   "metadata": {},
   "outputs": [],
   "source": [
    "a = jnp.array((2, 1))\n",
    "a_new = a.sort()\n",
    "a, a_new"
   ]
  },
  {
   "cell_type": "markdown",
   "id": "6e6a0d9f",
   "metadata": {},
   "source": [
    "The designers of JAX chose to make arrays immutable because JAX uses a functional programming style.  More on this below.  \n",
    "\n",
    "Note that, while mutation is discouraged, it is in fact possible with `at`, as in"
   ]
  },
  {
   "cell_type": "code",
   "execution_count": null,
   "id": "b4ae9743",
   "metadata": {},
   "outputs": [],
   "source": [
    "a = jnp.linspace(0, 1, 3)\n",
    "id(a)"
   ]
  },
  {
   "cell_type": "code",
   "execution_count": null,
   "id": "7694ea55",
   "metadata": {},
   "outputs": [],
   "source": [
    "a"
   ]
  },
  {
   "cell_type": "code",
   "execution_count": null,
   "id": "f5ab542b",
   "metadata": {},
   "outputs": [],
   "source": [
    "a.at[0].set(1)"
   ]
  },
  {
   "cell_type": "markdown",
   "id": "14ec4641",
   "metadata": {},
   "source": [
    "We can check that the array is mutated by verifying its identity is unchanged:"
   ]
  },
  {
   "cell_type": "code",
   "execution_count": null,
   "id": "ad8b00b3",
   "metadata": {},
   "outputs": [],
   "source": [
    "id(a)"
   ]
  },
  {
   "cell_type": "markdown",
   "id": "5b5c8c0b",
   "metadata": {},
   "source": [
    "## Random Numbers\n",
    "\n",
    "Random numbers are also a bit different in JAX, relative to NumPy.  Typically, in JAX, the state of the random number generator needs to be controlled explicitly."
   ]
  },
  {
   "cell_type": "code",
   "execution_count": null,
   "id": "1d296330",
   "metadata": {},
   "outputs": [],
   "source": [
    "import jax.random as random"
   ]
  },
  {
   "cell_type": "markdown",
   "id": "f4f211e9",
   "metadata": {},
   "source": [
    "First we produce a key, which seeds the random number generator."
   ]
  },
  {
   "cell_type": "code",
   "execution_count": null,
   "id": "c46eecd8",
   "metadata": {},
   "outputs": [],
   "source": [
    "key = random.PRNGKey(1)"
   ]
  },
  {
   "cell_type": "code",
   "execution_count": null,
   "id": "79dabab9",
   "metadata": {},
   "outputs": [],
   "source": [
    "type(key)"
   ]
  },
  {
   "cell_type": "code",
   "execution_count": null,
   "id": "d3503916",
   "metadata": {},
   "outputs": [],
   "source": [
    "print(key)"
   ]
  },
  {
   "cell_type": "markdown",
   "id": "c3dfcddd",
   "metadata": {},
   "source": [
    "Now we can use the key to generate some random numbers:"
   ]
  },
  {
   "cell_type": "code",
   "execution_count": null,
   "id": "1dec9605",
   "metadata": {},
   "outputs": [],
   "source": [
    "x = random.normal(key, (3, 3))\n",
    "x"
   ]
  },
  {
   "cell_type": "markdown",
   "id": "30e2d193",
   "metadata": {},
   "source": [
    "If we use the same key again, we initialize at the same seed, so the random numbers are the same:"
   ]
  },
  {
   "cell_type": "code",
   "execution_count": null,
   "id": "48e9bc5b",
   "metadata": {},
   "outputs": [],
   "source": [
    "random.normal(key, (3, 3))"
   ]
  },
  {
   "cell_type": "markdown",
   "id": "5f18cea5",
   "metadata": {},
   "source": [
    "To produce a (quasi-) independent draw, best practice is to \"split\" the existing key:"
   ]
  },
  {
   "cell_type": "code",
   "execution_count": null,
   "id": "9a62fbd3",
   "metadata": {},
   "outputs": [],
   "source": [
    "key, subkey = random.split(key)"
   ]
  },
  {
   "cell_type": "code",
   "execution_count": null,
   "id": "28602cb4",
   "metadata": {},
   "outputs": [],
   "source": [
    "random.normal(key, (3, 3))"
   ]
  },
  {
   "cell_type": "code",
   "execution_count": null,
   "id": "07fe4216",
   "metadata": {},
   "outputs": [],
   "source": [
    "random.normal(subkey, (3, 3))"
   ]
  },
  {
   "cell_type": "markdown",
   "id": "d9d9e682",
   "metadata": {},
   "source": [
    "The function below produces `k` (quasi-) independent random `n x n` matrices using this procedure."
   ]
  },
  {
   "cell_type": "code",
   "execution_count": null,
   "id": "987c56c3",
   "metadata": {},
   "outputs": [],
   "source": [
    "def gen_random_matrices(key, n, k):\n",
    "    matrices = []\n",
    "    for _ in range(k):\n",
    "        key, subkey = random.split(key)\n",
    "        matrices.append(random.uniform(subkey, (n, n)))\n",
    "    return matrices"
   ]
  },
  {
   "cell_type": "code",
   "execution_count": null,
   "id": "3aa09de0",
   "metadata": {},
   "outputs": [],
   "source": [
    "matrices = gen_random_matrices(key, 2, 2)\n",
    "for A in matrices:\n",
    "    print(A)"
   ]
  },
  {
   "cell_type": "markdown",
   "id": "333ec717",
   "metadata": {},
   "source": [
    "One point to remember is that JAX expects tuples to describe array shapes, even for flat arrays.  Hence, to get a one-dimensional array of normal random draws we use `(len, )` for the shape, as in"
   ]
  },
  {
   "cell_type": "code",
   "execution_count": null,
   "id": "63bf6727",
   "metadata": {},
   "outputs": [],
   "source": [
    "random.normal(key, (5, ))"
   ]
  },
  {
   "cell_type": "markdown",
   "id": "62b07168",
   "metadata": {},
   "source": [
    "## JIT Compilation\n",
    "\n",
    "\n",
    "The JAX JIT compiler accelerates logic within functions by fusing linear\n",
    "algebra operations into a single, highly optimized kernel that the host can\n",
    "launch on the GPU / TPU (or CPU if no accelerator is detected).\n",
    "\n",
    "\n",
    "Consider the following pure Python function."
   ]
  },
  {
   "cell_type": "code",
   "execution_count": null,
   "id": "0a039663",
   "metadata": {},
   "outputs": [],
   "source": [
    "def f(x, p=1000):\n",
    "    return sum((k*x for k in range(p)))"
   ]
  },
  {
   "cell_type": "markdown",
   "id": "af40cd01",
   "metadata": {},
   "source": [
    "Let's build an array to call the function on."
   ]
  },
  {
   "cell_type": "code",
   "execution_count": null,
   "id": "ff7e73ab",
   "metadata": {},
   "outputs": [],
   "source": [
    "n = 50_000_000\n",
    "x = jnp.ones(n)"
   ]
  },
  {
   "cell_type": "markdown",
   "id": "87742c30",
   "metadata": {},
   "source": [
    "How long does the function take to execute?"
   ]
  },
  {
   "cell_type": "code",
   "execution_count": null,
   "id": "0057506c",
   "metadata": {},
   "outputs": [],
   "source": [
    "%time f(x).block_until_ready()"
   ]
  },
  {
   "cell_type": "markdown",
   "id": "1b1fa50c",
   "metadata": {},
   "source": [
    "```{note}\n",
    "With asynchronous dispatch, the `%time` magic is only evaluating the time to dispatch by the Python interpreter, without taking into account the computation time on the device.\n",
    "\n",
    "Here, to measure the actual speed, the `block_until_ready()` method prevents asynchronous dispatch by asking Python to wait until the computation results are ready.\n",
    "```\n",
    "\n",
    "\n",
    "This code is not particularly fast.  \n",
    "\n",
    "While it is run on the GPU (since `x` is a `DeviceArray`), each vector `k * x` has to be instantiated before the final sum is computed.\n",
    "\n",
    "If we JIT-compile the function with JAX, then the operations are fused and no intermediate arrays are created."
   ]
  },
  {
   "cell_type": "code",
   "execution_count": null,
   "id": "c841c514",
   "metadata": {},
   "outputs": [],
   "source": [
    "f_jit = jax.jit(f)   # target for JIT compilation"
   ]
  },
  {
   "cell_type": "markdown",
   "id": "f4285464",
   "metadata": {},
   "source": [
    "Let's run once to compile it:"
   ]
  },
  {
   "cell_type": "code",
   "execution_count": null,
   "id": "ce12a13a",
   "metadata": {},
   "outputs": [],
   "source": [
    "f_jit(x)"
   ]
  },
  {
   "cell_type": "markdown",
   "id": "2da31f31",
   "metadata": {},
   "source": [
    "And now let's time it."
   ]
  },
  {
   "cell_type": "code",
   "execution_count": null,
   "id": "fa1380ed",
   "metadata": {},
   "outputs": [],
   "source": [
    "%time f_jit(x).block_until_ready()"
   ]
  },
  {
   "cell_type": "markdown",
   "id": "62e27465",
   "metadata": {},
   "source": [
    "## Functional Programming\n",
    "\n",
    "From JAX's documentation:\n",
    "\n",
    "*When walking about the countryside of Italy, the people will not hesitate to tell you that JAX has “una anima di pura programmazione funzionale”.*\n",
    "\n",
    "\n",
    "In other words, JAX assumes a functional programming style.\n",
    "\n",
    "The major implication is that JAX functions should be pure:\n",
    "    \n",
    "* no dependence on global variables\n",
    "* no side effects\n",
    "\n",
    "\"A pure function will always return the same result if invoked with the same inputs.\"\n",
    "\n",
    "JAX will not usually throw errors when compiling impure functions but execution becomes unpredictable.\n",
    "\n",
    "\n",
    "Here's an illustration of this fact, using global variables:"
   ]
  },
  {
   "cell_type": "code",
   "execution_count": null,
   "id": "e8746a51",
   "metadata": {},
   "outputs": [],
   "source": [
    "a = 1  # global\n",
    "\n",
    "@jax.jit\n",
    "def f(x):\n",
    "    return a + x"
   ]
  },
  {
   "cell_type": "code",
   "execution_count": null,
   "id": "b29e80ae",
   "metadata": {},
   "outputs": [],
   "source": [
    "x = jnp.ones(2)"
   ]
  },
  {
   "cell_type": "code",
   "execution_count": null,
   "id": "5fd6dbce",
   "metadata": {},
   "outputs": [],
   "source": [
    "f(x)"
   ]
  },
  {
   "cell_type": "markdown",
   "id": "a8e04f0b",
   "metadata": {},
   "source": [
    "In the code above, the global value `a=1` is fused into the jitted function.\n",
    "\n",
    "Even if we change `a`, the output of `f` will not be affected --- as long as the same compiled version is called."
   ]
  },
  {
   "cell_type": "code",
   "execution_count": null,
   "id": "ea0c13fd",
   "metadata": {},
   "outputs": [],
   "source": [
    "a = 42"
   ]
  },
  {
   "cell_type": "code",
   "execution_count": null,
   "id": "8356e925",
   "metadata": {},
   "outputs": [],
   "source": [
    "f(x)"
   ]
  },
  {
   "cell_type": "markdown",
   "id": "38fe4ffc",
   "metadata": {},
   "source": [
    "Changing the dimension of the input triggers a fresh compilation of the function, at which time the change in the value of `a` takes effect:"
   ]
  },
  {
   "cell_type": "code",
   "execution_count": null,
   "id": "9f3e108d",
   "metadata": {},
   "outputs": [],
   "source": [
    "x = np.ones(3)"
   ]
  },
  {
   "cell_type": "code",
   "execution_count": null,
   "id": "cd7b66a9",
   "metadata": {},
   "outputs": [],
   "source": [
    "f(x)"
   ]
  },
  {
   "cell_type": "markdown",
   "id": "977fb0de",
   "metadata": {},
   "source": [
    "Moral of the story: write pure functions when using JAX!\n",
    "\n",
    "\n",
    "## Gradients\n",
    "\n",
    "JAX can use automatic differentiation to compute gradients.\n",
    "\n",
    "This can be extremely useful in optimization, root finding and other applications.\n",
    "\n",
    "Here's a very simple illustration, involving the function"
   ]
  },
  {
   "cell_type": "code",
   "execution_count": null,
   "id": "fc0141b4",
   "metadata": {},
   "outputs": [],
   "source": [
    "def f(x):\n",
    "    return (x**2) / 2"
   ]
  },
  {
   "cell_type": "markdown",
   "id": "7b3b8f34",
   "metadata": {},
   "source": [
    "Let's take the derivative:"
   ]
  },
  {
   "cell_type": "code",
   "execution_count": null,
   "id": "af081346",
   "metadata": {},
   "outputs": [],
   "source": [
    "f_prime = jax.grad(f)"
   ]
  },
  {
   "cell_type": "code",
   "execution_count": null,
   "id": "931759a2",
   "metadata": {},
   "outputs": [],
   "source": [
    "f_prime(10.0)"
   ]
  },
  {
   "cell_type": "markdown",
   "id": "d7737cee",
   "metadata": {},
   "source": [
    "Let's plot the function and derivative, noting that $f'(x) = x$."
   ]
  },
  {
   "cell_type": "code",
   "execution_count": null,
   "id": "1ee1784c",
   "metadata": {},
   "outputs": [],
   "source": [
    "import matplotlib.pyplot as plt\n",
    "\n",
    "fig, ax = plt.subplots()\n",
    "x_grid = jnp.linspace(-4, 4, 200)\n",
    "ax.plot(x_grid, f(x_grid), label=\"$f$\")\n",
    "ax.plot(x_grid, [f_prime(x) for x in x_grid], label=\"$f'$\")\n",
    "ax.legend(loc='upper center')\n",
    "plt.show()"
   ]
  },
  {
   "cell_type": "code",
   "execution_count": null,
   "id": "61000ca2",
   "metadata": {},
   "outputs": [],
   "source": []
  },
  {
   "cell_type": "markdown",
   "id": "8914573e",
   "metadata": {},
   "source": [
    "## Exercises\n",
    "\n",
    "\n",
    "\n",
    "```{exercise-start}\n",
    ":label: jax_intro_ex1\n",
    "```\n",
    "\n",
    "Recall that Newton's method for solving for the root of $f$ involves iterating on \n",
    "\n",
    "\n",
    "$$ \n",
    "    q(x) = x - \\frac{f(x)}{f'(x)} \n",
    "$$\n",
    "\n",
    "Write a function called `newton` that takes a function $f$ plus a guess $x_0$ and returns an approximate fixed point.\n",
    "\n",
    "Your `newton` implementation should use automatic differentiation to calculate $f'$.\n",
    "\n",
    "Test your `newton` method on the function shown below."
   ]
  },
  {
   "cell_type": "code",
   "execution_count": null,
   "id": "2242f399",
   "metadata": {},
   "outputs": [],
   "source": [
    "f = lambda x: jnp.sin(4 * (x - 1/4)) + x + x**20 - 1\n",
    "x = jnp.linspace(0, 1, 100)\n",
    "\n",
    "fig, ax = plt.subplots()\n",
    "ax.plot(x, f(x), label='$f(x)$')\n",
    "ax.axhline(ls='--', c='k')\n",
    "ax.set_xlabel('$x$', fontsize=12)\n",
    "ax.set_ylabel('$f(x)$', fontsize=12)\n",
    "ax.legend(fontsize=12)\n",
    "plt.show()"
   ]
  },
  {
   "cell_type": "markdown",
   "id": "3d28903a",
   "metadata": {},
   "source": [
    "```{exercise-end}\n",
    "```\n",
    "\n",
    "```{solution-start} jax_intro_ex1\n",
    ":class: dropdown\n",
    "```\n",
    "\n",
    "Here's a suitable function:"
   ]
  },
  {
   "cell_type": "code",
   "execution_count": null,
   "id": "af6df9af",
   "metadata": {},
   "outputs": [],
   "source": [
    "def newton(f, x_0, tol=1e-5):\n",
    "    f_prime = jax.grad(f)\n",
    "    def q(x):\n",
    "        return x - f(x) / f_prime(x)\n",
    "\n",
    "    error = tol + 1\n",
    "    x = x_0\n",
    "    while error > tol:\n",
    "        y = q(x)\n",
    "        error = abs(x - y)\n",
    "        x = y\n",
    "        \n",
    "    return x"
   ]
  },
  {
   "cell_type": "markdown",
   "id": "678acb91",
   "metadata": {},
   "source": [
    "Let's try it:"
   ]
  },
  {
   "cell_type": "code",
   "execution_count": null,
   "id": "6f8071d6",
   "metadata": {},
   "outputs": [],
   "source": [
    "newton(f, 0.2)"
   ]
  },
  {
   "cell_type": "markdown",
   "id": "55bc7ca2",
   "metadata": {},
   "source": [
    "This number looks good, given the figure.\n",
    "\n",
    "\n",
    "```{solution-end}\n",
    "```\n",
    "\n",
    "\n",
    "\n",
    "```{exercise-start}\n",
    ":label: jax_intro_ex2\n",
    "```\n",
    "\n",
    "In {ref}`an earlier exercise on parallelization <parallel_ex2>`, we used Monte\n",
    "Carlo to price a European call option.\n",
    "\n",
    "The code was accelerated by Numba-based multithreading.\n",
    "\n",
    "Try writing a version of this operation for JAX, using all the same\n",
    "parameters.\n",
    "\n",
    "If you are running your code on a GPU, you should be able to achieve\n",
    "significantly faster exection.\n",
    "\n",
    "\n",
    "```{exercise-end}\n",
    "```\n",
    "\n",
    "\n",
    "```{solution-start} jax_intro_ex2\n",
    ":class: dropdown\n",
    "```\n",
    "Here is one solution:"
   ]
  },
  {
   "cell_type": "code",
   "execution_count": null,
   "id": "d8405b8a",
   "metadata": {},
   "outputs": [],
   "source": [
    "M = 10_000_000\n",
    "\n",
    "n, β, K = 20, 0.99, 100\n",
    "μ, ρ, ν, S0, h0 = 0.0001, 0.1, 0.001, 10, 0\n",
    "\n",
    "@jax.jit\n",
    "def compute_call_price_jax(β=β,\n",
    "                           μ=μ,\n",
    "                           S0=S0,\n",
    "                           h0=h0,\n",
    "                           K=K,\n",
    "                           n=n,\n",
    "                           ρ=ρ,\n",
    "                           ν=ν,\n",
    "                           M=M,\n",
    "                           key=jax.random.PRNGKey(1)):\n",
    "\n",
    "    s = jnp.full(M, np.log(S0))\n",
    "    h = jnp.full(M, h0)\n",
    "    for t in range(n):\n",
    "        key, subkey = jax.random.split(key)\n",
    "        Z = jax.random.normal(subkey, (2, M))\n",
    "        s = s + μ + jnp.exp(h) * Z[0, :]\n",
    "        h = ρ * h + ν * Z[1, :]\n",
    "    expectation = jnp.mean(jnp.maximum(jnp.exp(s) - K, 0))\n",
    "        \n",
    "    return β**n * expectation"
   ]
  },
  {
   "cell_type": "markdown",
   "id": "5a79d8d8",
   "metadata": {},
   "source": [
    "Let's run it once to compile it:"
   ]
  },
  {
   "cell_type": "code",
   "execution_count": null,
   "id": "67f4b045",
   "metadata": {},
   "outputs": [],
   "source": [
    "compute_call_price_jax()"
   ]
  },
  {
   "cell_type": "markdown",
   "id": "568695bb",
   "metadata": {},
   "source": [
    "And now let's time it:"
   ]
  },
  {
   "cell_type": "code",
   "execution_count": null,
   "id": "5d06e0d1",
   "metadata": {},
   "outputs": [],
   "source": [
    "%%time \n",
    "compute_call_price_jax().block_until_ready()"
   ]
  },
  {
   "cell_type": "markdown",
   "id": "7cdb3760",
   "metadata": {},
   "source": [
    "```{solution-end}\n",
    "```"
   ]
  }
 ],
 "metadata": {
  "jupytext": {
   "text_representation": {
    "extension": ".md",
    "format_name": "myst",
    "format_version": 0.13,
    "jupytext_version": "1.14.1"
   }
  },
  "kernelspec": {
   "display_name": "Python 3 (ipykernel)",
   "language": "python",
   "name": "python3"
  },
  "source_map": [
   12,
   78,
   90,
   93,
   97,
   101,
   105,
   109,
   113,
   115,
   119,
   123,
   125,
   129,
   131,
   148,
   154,
   158,
   162,
   164,
   175,
   177,
   181,
   183,
   189,
   193,
   197,
   200,
   204,
   209,
   212,
   216,
   222,
   226,
   232,
   237,
   241,
   243,
   247,
   249,
   255,
   257,
   261,
   265,
   269,
   271,
   275,
   278,
   282,
   284,
   288,
   292,
   296,
   298,
   302,
   311,
   315,
   319,
   321,
   333,
   336,
   340,
   343,
   347,
   349,
   364,
   366,
   370,
   372,
   376,
   378,
   401,
   409,
   413,
   415,
   421,
   425,
   427,
   431,
   435,
   437,
   450,
   453,
   457,
   461,
   463,
   467,
   478,
   480,
   503,
   514,
   526,
   540,
   544,
   546,
   581,
   609,
   613,
   615,
   619,
   622
  ]
 },
 "nbformat": 4,
 "nbformat_minor": 5
}