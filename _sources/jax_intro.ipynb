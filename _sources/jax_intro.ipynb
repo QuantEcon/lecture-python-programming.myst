{
 "cells": [
  {
   "cell_type": "markdown",
   "id": "43c81058",
   "metadata": {},
   "source": [
    "# JAX\n",
    "\n",
    "```{admonition} New website\n",
    ":class: warning\n",
    "\n",
    "We have replaced this lecture with a new lecture series on quantitative economics using JAX:\n",
    "\n",
    "See [Quantitative Economics with JAX](https://jax.quantecon.org)\n",
    "```"
   ]
  }
 ],
 "metadata": {
  "jupytext": {
   "text_representation": {
    "extension": ".md",
    "format_name": "myst",
    "format_version": 0.13,
    "jupytext_version": "1.14.1"
   }
  },
  "kernelspec": {
   "display_name": "Python 3 (ipykernel)",
   "language": "python",
   "name": "python3"
  },
  "source_map": [
   12
  ]
 },
 "nbformat": 4,
 "nbformat_minor": 5
}