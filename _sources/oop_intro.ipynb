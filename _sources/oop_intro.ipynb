{
 "cells": [
  {
   "cell_type": "markdown",
   "id": "067b1879",
   "metadata": {},
   "source": [
    "(oop_intro)=\n",
    "```{raw} jupyter\n",
    "<div id=\"qe-notebook-header\" align=\"right\" style=\"text-align:right;\">\n",
    "        <a href=\"https://quantecon.org/\" title=\"quantecon.org\">\n",
    "                <img style=\"width:250px;display:inline;\" width=\"250px\" src=\"https://assets.quantecon.org/img/qe-menubar-logo.svg\" alt=\"QuantEcon\">\n",
    "        </a>\n",
    "</div>\n",
    "```\n",
    "\n",
    "# OOP I: Objects and Methods\n",
    "\n",
    "## Overview\n",
    "\n",
    "The traditional programming paradigm (think Fortran, C, MATLAB, etc.) is called [procedural](https://en.wikipedia.org/wiki/Procedural_programming).\n",
    "\n",
    "It works as follows\n",
    "\n",
    "* The program has a state corresponding to the values of its variables.\n",
    "* Functions are called to act on and transform the state.\n",
    "* Final outputs are produced via a sequence of function calls.\n",
    "\n",
    "Two other important paradigms are [object-oriented programming](https://en.wikipedia.org/wiki/Object-oriented_programming) (OOP) and [functional programming](https://en.wikipedia.org/wiki/Functional_programming).\n",
    "\n",
    "\n",
    "In the OOP paradigm, data and functions are bundled together into \"objects\" --- and functions in this context are referred to as **methods**.\n",
    "\n",
    "Methods are called on to transform the data contained in the object.\n",
    "\n",
    "* Think of a Python list that contains data and has methods such as `append()` and `pop()` that transform the data.\n",
    "\n",
    "Functional programming languages are built on the idea of composing functions.\n",
    "\n",
    "* Influential examples include [Lisp](https://en.wikipedia.org/wiki/Common_Lisp), [Haskell](https://en.wikipedia.org/wiki/Haskell) and [Elixir](https://en.wikipedia.org/wiki/Elixir_(programming_language)).\n",
    "\n",
    "So which of these categories does Python fit into?\n",
    "\n",
    "Actually Python is a pragmatic language that blends object-oriented, functional and procedural styles, rather than taking a purist approach.\n",
    "\n",
    "On one hand, this allows Python and its users to cherry pick nice aspects of different paradigms.\n",
    "\n",
    "On the other hand, the lack of purity might at times lead to some confusion.\n",
    "\n",
    "Fortunately this confusion is minimized if you understand that, at a foundational level, Python *is* object-oriented.\n",
    "\n",
    "By this we mean that, in Python, *everything is an object*.\n",
    "\n",
    "In this lecture, we explain what that statement means and why it matters.\n",
    "\n",
    "We'll make use of the following third party library"
   ]
  },
  {
   "cell_type": "code",
   "execution_count": null,
   "id": "04af1fdc",
   "metadata": {
    "tags": [
     "hide-output"
    ]
   },
   "outputs": [],
   "source": [
    "!pip install rich"
   ]
  },
  {
   "cell_type": "markdown",
   "id": "dcd36ec5",
   "metadata": {},
   "source": [
    "## Objects\n",
    "\n",
    "```{index} single: Python; Objects\n",
    "```\n",
    "\n",
    "In Python, an *object* is a collection of data and instructions held in computer memory that consists of\n",
    "\n",
    "1. a type\n",
    "1. a unique identity\n",
    "1. data (i.e., content)\n",
    "1. methods\n",
    "\n",
    "These concepts are defined and discussed sequentially below.\n",
    "\n",
    "(type)=\n",
    "### Type\n",
    "\n",
    "```{index} single: Python; Type\n",
    "```\n",
    "\n",
    "Python provides for different types of objects, to accommodate different categories of data.\n",
    "\n",
    "For example"
   ]
  },
  {
   "cell_type": "code",
   "execution_count": null,
   "id": "75b69349",
   "metadata": {},
   "outputs": [],
   "source": [
    "s = 'This is a string'\n",
    "type(s)"
   ]
  },
  {
   "cell_type": "code",
   "execution_count": null,
   "id": "0288285f",
   "metadata": {},
   "outputs": [],
   "source": [
    "x = 42   # Now let's create an integer\n",
    "type(x)"
   ]
  },
  {
   "cell_type": "markdown",
   "id": "79db1966",
   "metadata": {},
   "source": [
    "The type of an object matters for many expressions.\n",
    "\n",
    "For example, the addition operator between two strings means concatenation"
   ]
  },
  {
   "cell_type": "code",
   "execution_count": null,
   "id": "a10807c1",
   "metadata": {},
   "outputs": [],
   "source": [
    "'300' + 'cc'"
   ]
  },
  {
   "cell_type": "markdown",
   "id": "e4e27b71",
   "metadata": {},
   "source": [
    "On the other hand, between two numbers it means ordinary addition"
   ]
  },
  {
   "cell_type": "code",
   "execution_count": null,
   "id": "66e84b73",
   "metadata": {},
   "outputs": [],
   "source": [
    "300 + 400"
   ]
  },
  {
   "cell_type": "markdown",
   "id": "1b9ab1a9",
   "metadata": {},
   "source": [
    "Consider the following expression"
   ]
  },
  {
   "cell_type": "code",
   "execution_count": null,
   "id": "25f5027b",
   "metadata": {
    "tags": [
     "raises-exception"
    ]
   },
   "outputs": [],
   "source": [
    "'300' + 400"
   ]
  },
  {
   "cell_type": "markdown",
   "id": "0421eade",
   "metadata": {},
   "source": [
    "Here we are mixing types, and it's unclear to Python whether the user wants to\n",
    "\n",
    "* convert `'300'` to an integer and then add it to `400`, or\n",
    "* convert `400` to string and then concatenate it with `'300'`\n",
    "\n",
    "Some languages might try to guess but Python is *strongly typed*\n",
    "\n",
    "* Type is important, and implicit type conversion is rare.\n",
    "* Python will respond instead by raising a `TypeError`.\n",
    "\n",
    "To avoid the error, you need to clarify by changing the relevant type.\n",
    "\n",
    "For example,"
   ]
  },
  {
   "cell_type": "code",
   "execution_count": null,
   "id": "6c494e66",
   "metadata": {},
   "outputs": [],
   "source": [
    "int('300') + 400   # To add as numbers, change the string to an integer"
   ]
  },
  {
   "cell_type": "markdown",
   "id": "a9fe7786",
   "metadata": {},
   "source": [
    "(identity)=\n",
    "### Identity\n",
    "\n",
    "```{index} single: Python; Identity\n",
    "```\n",
    "\n",
    "In Python, each object has a unique identifier, which helps Python (and us) keep track of the object.\n",
    "\n",
    "The identity of an object can be obtained via the `id()` function"
   ]
  },
  {
   "cell_type": "code",
   "execution_count": null,
   "id": "4f98ece3",
   "metadata": {},
   "outputs": [],
   "source": [
    "y = 2.5\n",
    "z = 2.5\n",
    "id(y)"
   ]
  },
  {
   "cell_type": "code",
   "execution_count": null,
   "id": "4ca76580",
   "metadata": {},
   "outputs": [],
   "source": [
    "id(z)"
   ]
  },
  {
   "cell_type": "markdown",
   "id": "62b4b108",
   "metadata": {},
   "source": [
    "In this example, `y` and `z` happen to have the same value (i.e., `2.5`), but they are not the same object.\n",
    "\n",
    "The identity of an object is in fact just the address of the object in memory.\n",
    "\n",
    "### Object Content: Data and Attributes\n",
    "\n",
    "```{index} single: Python; Content\n",
    "```\n",
    "\n",
    "If we set `x = 42` then we create an object of type `int` that contains\n",
    "the data `42`.\n",
    "\n",
    "In fact, it contains more, as the following example shows"
   ]
  },
  {
   "cell_type": "code",
   "execution_count": null,
   "id": "b559d044",
   "metadata": {},
   "outputs": [],
   "source": [
    "x = 42\n",
    "x"
   ]
  },
  {
   "cell_type": "code",
   "execution_count": null,
   "id": "a3de89f7",
   "metadata": {},
   "outputs": [],
   "source": [
    "x.imag"
   ]
  },
  {
   "cell_type": "code",
   "execution_count": null,
   "id": "c02c3007",
   "metadata": {},
   "outputs": [],
   "source": [
    "x.__class__"
   ]
  },
  {
   "cell_type": "markdown",
   "id": "c4a26a5a",
   "metadata": {},
   "source": [
    "When Python creates this integer object, it stores with it various auxiliary information, such as the imaginary part, and the type.\n",
    "\n",
    "Any name following a dot is called an *attribute* of the object to the left of the dot.\n",
    "\n",
    "* e.g.,``imag`` and `__class__` are attributes of `x`.\n",
    "\n",
    "We see from this example that objects have attributes that contain auxiliary information.\n",
    "\n",
    "They also have attributes that act like functions, called *methods*.\n",
    "\n",
    "These attributes are important, so let's discuss them in-depth.\n",
    "\n",
    "(methods)=\n",
    "### Methods\n",
    "\n",
    "```{index} single: Python; Methods\n",
    "```\n",
    "\n",
    "Methods are *functions that are bundled with objects*.\n",
    "\n",
    "Formally, methods are attributes of objects that are **callable** -- i.e., attributes that can be called as functions"
   ]
  },
  {
   "cell_type": "code",
   "execution_count": null,
   "id": "afcc8749",
   "metadata": {},
   "outputs": [],
   "source": [
    "x = ['foo', 'bar']\n",
    "callable(x.append)"
   ]
  },
  {
   "cell_type": "code",
   "execution_count": null,
   "id": "70acbf6b",
   "metadata": {},
   "outputs": [],
   "source": [
    "callable(x.__doc__)"
   ]
  },
  {
   "cell_type": "markdown",
   "id": "83091f1d",
   "metadata": {},
   "source": [
    "Methods typically act on the data contained in the object they belong to, or combine that data with other data"
   ]
  },
  {
   "cell_type": "code",
   "execution_count": null,
   "id": "2f2baa05",
   "metadata": {},
   "outputs": [],
   "source": [
    "x = ['a', 'b']\n",
    "x.append('c')\n",
    "s = 'This is a string'\n",
    "s.upper()"
   ]
  },
  {
   "cell_type": "code",
   "execution_count": null,
   "id": "e071c57f",
   "metadata": {},
   "outputs": [],
   "source": [
    "s.lower()"
   ]
  },
  {
   "cell_type": "code",
   "execution_count": null,
   "id": "fa2a085d",
   "metadata": {},
   "outputs": [],
   "source": [
    "s.replace('This', 'That')"
   ]
  },
  {
   "cell_type": "markdown",
   "id": "0acbad62",
   "metadata": {},
   "source": [
    "A great deal of Python functionality is organized around method calls.\n",
    "\n",
    "For example, consider the following piece of code"
   ]
  },
  {
   "cell_type": "code",
   "execution_count": null,
   "id": "bd9e9d4d",
   "metadata": {},
   "outputs": [],
   "source": [
    "x = ['a', 'b']\n",
    "x[0] = 'aa'  # Item assignment using square bracket notation\n",
    "x"
   ]
  },
  {
   "cell_type": "markdown",
   "id": "7ddb87eb",
   "metadata": {},
   "source": [
    "It doesn't look like there are any methods used here, but in fact the square bracket assignment notation is just a convenient interface to a method call.\n",
    "\n",
    "What actually happens is that Python calls the `__setitem__` method, as follows"
   ]
  },
  {
   "cell_type": "code",
   "execution_count": null,
   "id": "ceedb63f",
   "metadata": {},
   "outputs": [],
   "source": [
    "x = ['a', 'b']\n",
    "x.__setitem__(0, 'aa')  # Equivalent to x[0] = 'aa'\n",
    "x"
   ]
  },
  {
   "cell_type": "markdown",
   "id": "284dfbf2",
   "metadata": {},
   "source": [
    "(If you wanted to you could modify the `__setitem__` method, so that square bracket assignment does something totally different)\n",
    "\n",
    "## Inspection Using Rich\n",
    "\n",
    "There's a nice package called [rich](https://github.com/Textualize/rich) that\n",
    "helps us view the contents of an object.\n",
    "\n",
    "For example,"
   ]
  },
  {
   "cell_type": "code",
   "execution_count": null,
   "id": "6acfa064",
   "metadata": {},
   "outputs": [],
   "source": [
    "from rich import inspect\n",
    "x = 10\n",
    "inspect(10)"
   ]
  },
  {
   "cell_type": "markdown",
   "id": "1f8fb3c4",
   "metadata": {},
   "source": [
    "If we want to see the methods as well, we can use"
   ]
  },
  {
   "cell_type": "code",
   "execution_count": null,
   "id": "9639017d",
   "metadata": {},
   "outputs": [],
   "source": [
    "inspect(10, methods=True)"
   ]
  },
  {
   "cell_type": "markdown",
   "id": "55f061ae",
   "metadata": {},
   "source": [
    "In fact there are still more methods, as you can see if you execute `inspect(10, all=True)`.\n",
    "\n",
    "\n",
    "\n",
    "## A Little Mystery\n",
    "\n",
    "In this lecture we claimed that Python is, at heart, an object oriented language.\n",
    "\n",
    "But here's an example that looks more procedural."
   ]
  },
  {
   "cell_type": "code",
   "execution_count": null,
   "id": "05518128",
   "metadata": {},
   "outputs": [],
   "source": [
    "x = ['a', 'b']\n",
    "m = len(x)\n",
    "m"
   ]
  },
  {
   "cell_type": "markdown",
   "id": "c31e013c",
   "metadata": {},
   "source": [
    "If Python is object oriented, why don't we use `x.len()`?    \n",
    "\n",
    "The answer is related to the fact that Python aims for readability and consistent style.\n",
    "\n",
    "In Python, it is common for users to build custom objects --- we discuss how to\n",
    "do this {doc}`later <python_oop>`.\n",
    "\n",
    "It's quite common for users to add methods to their that measure the length of\n",
    "the object, suitably defined.\n",
    "\n",
    "When naming such a method, natural choices are `len()` and `length()`.\n",
    "\n",
    "If some users choose `len()` and others choose `length()`, then the style will\n",
    "be inconsistent and harder to remember.\n",
    "\n",
    "To avoid this, the creator of Python chose to add \n",
    "`len()` as a built-in function, to help emphasize that `len()` is the convention.\n",
    "\n",
    "Now, having said all of this, Python *is* still object oriented under the hood.\n",
    "\n",
    "In fact, the list `x` discussed above has a method called `__len__()`.\n",
    "\n",
    "All that the function `len()` does is call this method.  \n",
    "\n",
    "In other words, the following code is equivalent:"
   ]
  },
  {
   "cell_type": "code",
   "execution_count": null,
   "id": "d1a11e24",
   "metadata": {},
   "outputs": [],
   "source": [
    "x = ['a', 'b']\n",
    "len(x)"
   ]
  },
  {
   "cell_type": "markdown",
   "id": "c949a3c6",
   "metadata": {},
   "source": [
    "and"
   ]
  },
  {
   "cell_type": "code",
   "execution_count": null,
   "id": "4c22fb41",
   "metadata": {},
   "outputs": [],
   "source": [
    "x = ['a', 'b']\n",
    "x.__len__()"
   ]
  },
  {
   "cell_type": "markdown",
   "id": "44696228",
   "metadata": {},
   "source": [
    "## Summary\n",
    "\n",
    "The message in this lecture is clear:\n",
    "\n",
    "* In Python, *everything in memory is treated as an object*.\n",
    "\n",
    "This includes not just lists, strings, etc., but also less obvious things, such as\n",
    "\n",
    "* functions (once they have been read into memory)\n",
    "* modules  (ditto)\n",
    "* files opened for reading or writing\n",
    "* integers, etc.\n",
    "\n",
    "Remember that everything is an object will help you interact with your programs\n",
    "and write clear Pythonic code.\n",
    "\n",
    "## Exercises\n",
    "\n",
    "```{exercise-start}\n",
    ":label: oop_intro_ex1\n",
    "```\n",
    "\n",
    "We have met the {any}`boolean data type <boolean>` previously. \n",
    "\n",
    "Using what we have learnt in this lecture, print a list of methods of the\n",
    "boolean object `True`.\n",
    "\n",
    "```{hint}\n",
    ":class: dropdown\n",
    "\n",
    "You can use `callable()` to test whether an attribute of an object can be called as a function\n",
    "```\n",
    "\n",
    "```{exercise-end}\n",
    "```\n",
    "\n",
    "```{solution-start} oop_intro_ex1\n",
    ":class: dropdown\n",
    "```\n",
    "\n",
    "Firstly, we need to find all attributes of `True`, which can be done via"
   ]
  },
  {
   "cell_type": "code",
   "execution_count": null,
   "id": "15b5f0f9",
   "metadata": {},
   "outputs": [],
   "source": [
    "print(sorted(True.__dir__()))"
   ]
  },
  {
   "cell_type": "markdown",
   "id": "b8dc4bb7",
   "metadata": {},
   "source": [
    "or"
   ]
  },
  {
   "cell_type": "code",
   "execution_count": null,
   "id": "347a466e",
   "metadata": {},
   "outputs": [],
   "source": [
    "print(sorted(dir(True)))"
   ]
  },
  {
   "cell_type": "markdown",
   "id": "12e70f10",
   "metadata": {},
   "source": [
    "Since the boolean data type is a primitive type, you can also find it in the built-in namespace"
   ]
  },
  {
   "cell_type": "code",
   "execution_count": null,
   "id": "bb50bd11",
   "metadata": {},
   "outputs": [],
   "source": [
    "print(dir(__builtins__.bool))"
   ]
  },
  {
   "cell_type": "markdown",
   "id": "a434bfa6",
   "metadata": {},
   "source": [
    "Here we use a `for` loop to filter out attributes that are callable"
   ]
  },
  {
   "cell_type": "code",
   "execution_count": null,
   "id": "b571b389",
   "metadata": {},
   "outputs": [],
   "source": [
    "attributes = dir(__builtins__.bool)\n",
    "callablels = []\n",
    "\n",
    "for attribute in attributes:\n",
    "  # Use eval() to evaluate a string as an expression\n",
    "  if callable(eval(f'True.{attribute}')):\n",
    "    callablels.append(attribute)\n",
    "print(callablels)"
   ]
  },
  {
   "cell_type": "markdown",
   "id": "616a291f",
   "metadata": {},
   "source": [
    "```{solution-end}\n",
    "```"
   ]
  }
 ],
 "metadata": {
  "jupytext": {
   "text_representation": {
    "extension": ".md",
    "format_name": "myst"
   }
  },
  "kernelspec": {
   "display_name": "Python 3",
   "language": "python",
   "name": "python3"
  },
  "source_map": [
   10,
   63,
   66,
   93,
   98,
   101,
   107,
   109,
   113,
   115,
   119,
   124,
   140,
   142,
   154,
   160,
   162,
   178,
   183,
   187,
   189,
   213,
   218,
   220,
   224,
   231,
   235,
   237,
   243,
   247,
   253,
   257,
   268,
   272,
   275,
   277,
   289,
   293,
   321,
   324,
   327,
   330,
   375,
   377,
   381,
   383,
   387,
   389,
   393,
   402
  ]
 },
 "nbformat": 4,
 "nbformat_minor": 5
}