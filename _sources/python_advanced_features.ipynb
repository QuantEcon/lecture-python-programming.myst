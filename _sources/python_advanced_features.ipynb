{
 "cells": [
  {
   "cell_type": "markdown",
   "id": "c190ee0a",
   "metadata": {},
   "source": [
    "(python_advanced_features)=\n",
    "```{raw} jupyter\n",
    "<div id=\"qe-notebook-header\" align=\"right\" style=\"text-align:right;\">\n",
    "        <a href=\"https://quantecon.org/\" title=\"quantecon.org\">\n",
    "                <img style=\"width:250px;display:inline;\" width=\"250px\" src=\"https://assets.quantecon.org/img/qe-menubar-logo.svg\" alt=\"QuantEcon\">\n",
    "        </a>\n",
    "</div>\n",
    "```\n",
    "\n",
    "# More Language Features\n",
    "\n",
    "```{contents} Contents\n",
    ":depth: 2\n",
    "```\n",
    "\n",
    "## Overview\n",
    "\n",
    "With this last lecture, our advice is to **skip it on first pass**, unless you have a burning desire to read it.\n",
    "\n",
    "It's here\n",
    "\n",
    "1. as a reference, so we can link back to it when required, and\n",
    "1. for those who have worked through a number of applications, and now want to learn more about the Python language\n",
    "\n",
    "A variety of topics are treated in the lecture, including generators, exceptions and descriptors.\n",
    "\n",
    "## Iterables and Iterators\n",
    "\n",
    "```{index} single: Python; Iteration\n",
    "```\n",
    "\n",
    "We've {ref}`already said something <iterating_version_1>` about iterating in Python.\n",
    "\n",
    "Now let's look more closely at how it all works, focusing in Python's implementation of the `for` loop.\n",
    "\n",
    "### Iterators\n",
    "\n",
    "```{index} single: Python; Iterators\n",
    "```\n",
    "\n",
    "Iterators are a uniform interface to stepping through elements in a collection.\n",
    "\n",
    "Here we'll talk about using iterators---later we'll learn how to build our own.\n",
    "\n",
    "Formally, an *iterator* is an object with a `__next__` method.\n",
    "\n",
    "For example, file objects are iterators .\n",
    "\n",
    "To see this, let's have another look at the {ref}`US cities data <us_cities_data>`,\n",
    "which is written to the present working directory in the following cell"
   ]
  },
  {
   "cell_type": "code",
   "execution_count": 1,
   "id": "dde12f75",
   "metadata": {},
   "outputs": [
    {
     "name": "stdout",
     "output_type": "stream",
     "text": [
      "Writing us_cities.txt\n"
     ]
    }
   ],
   "source": [
    "%%file us_cities.txt\n",
    "new york: 8244910\n",
    "los angeles: 3819702\n",
    "chicago: 2707120\n",
    "houston: 2145146\n",
    "philadelphia: 1536471\n",
    "phoenix: 1469471\n",
    "san antonio: 1359758\n",
    "san diego: 1326179\n",
    "dallas: 1223229"
   ]
  },
  {
   "cell_type": "code",
   "execution_count": 2,
   "id": "d5c42a93",
   "metadata": {},
   "outputs": [
    {
     "data": {
      "text/plain": [
       "'new york: 8244910\\n'"
      ]
     },
     "execution_count": 2,
     "metadata": {},
     "output_type": "execute_result"
    }
   ],
   "source": [
    "f = open('us_cities.txt')\n",
    "f.__next__()"
   ]
  },
  {
   "cell_type": "code",
   "execution_count": 3,
   "id": "0c768333",
   "metadata": {},
   "outputs": [
    {
     "data": {
      "text/plain": [
       "'los angeles: 3819702\\n'"
      ]
     },
     "execution_count": 3,
     "metadata": {},
     "output_type": "execute_result"
    }
   ],
   "source": [
    "f.__next__()"
   ]
  },
  {
   "cell_type": "markdown",
   "id": "61597e46",
   "metadata": {},
   "source": [
    "We see that file objects do indeed have a `__next__` method, and that calling this method returns the next line in the file.\n",
    "\n",
    "The next method can also be accessed via the builtin function `next()`,\n",
    "which directly calls this method"
   ]
  },
  {
   "cell_type": "code",
   "execution_count": 4,
   "id": "30101591",
   "metadata": {},
   "outputs": [
    {
     "data": {
      "text/plain": [
       "'chicago: 2707120\\n'"
      ]
     },
     "execution_count": 4,
     "metadata": {},
     "output_type": "execute_result"
    }
   ],
   "source": [
    "next(f)"
   ]
  },
  {
   "cell_type": "markdown",
   "id": "9fa35afd",
   "metadata": {},
   "source": [
    "The objects returned by `enumerate()` are also iterators"
   ]
  },
  {
   "cell_type": "code",
   "execution_count": 5,
   "id": "9cd23786",
   "metadata": {},
   "outputs": [
    {
     "data": {
      "text/plain": [
       "(0, 'foo')"
      ]
     },
     "execution_count": 5,
     "metadata": {},
     "output_type": "execute_result"
    }
   ],
   "source": [
    "e = enumerate(['foo', 'bar'])\n",
    "next(e)"
   ]
  },
  {
   "cell_type": "code",
   "execution_count": 6,
   "id": "1205b917",
   "metadata": {},
   "outputs": [
    {
     "data": {
      "text/plain": [
       "(1, 'bar')"
      ]
     },
     "execution_count": 6,
     "metadata": {},
     "output_type": "execute_result"
    }
   ],
   "source": [
    "next(e)"
   ]
  },
  {
   "cell_type": "markdown",
   "id": "9ad148c5",
   "metadata": {},
   "source": [
    "as are the reader objects from the `csv` module .\n",
    "\n",
    "Let's create a small csv file that contains data from the NIKKEI index"
   ]
  },
  {
   "cell_type": "code",
   "execution_count": 7,
   "id": "e2d31a31",
   "metadata": {},
   "outputs": [
    {
     "name": "stdout",
     "output_type": "stream",
     "text": [
      "Writing test_table.csv\n"
     ]
    }
   ],
   "source": [
    "%%file test_table.csv\n",
    "Date,Open,High,Low,Close,Volume,Adj Close\n",
    "2009-05-21,9280.35,9286.35,9189.92,9264.15,133200,9264.15\n",
    "2009-05-20,9372.72,9399.40,9311.61,9344.64,143200,9344.64\n",
    "2009-05-19,9172.56,9326.75,9166.97,9290.29,167000,9290.29\n",
    "2009-05-18,9167.05,9167.82,8997.74,9038.69,147800,9038.69\n",
    "2009-05-15,9150.21,9272.08,9140.90,9265.02,172000,9265.02\n",
    "2009-05-14,9212.30,9223.77,9052.41,9093.73,169400,9093.73\n",
    "2009-05-13,9305.79,9379.47,9278.89,9340.49,176000,9340.49\n",
    "2009-05-12,9358.25,9389.61,9298.61,9298.61,188400,9298.61\n",
    "2009-05-11,9460.72,9503.91,9342.75,9451.98,230800,9451.98\n",
    "2009-05-08,9351.40,9464.43,9349.57,9432.83,220200,9432.83"
   ]
  },
  {
   "cell_type": "code",
   "execution_count": 8,
   "id": "a60773ee",
   "metadata": {},
   "outputs": [
    {
     "data": {
      "text/plain": [
       "['Date', 'Open', 'High', 'Low', 'Close', 'Volume', 'Adj Close']"
      ]
     },
     "execution_count": 8,
     "metadata": {},
     "output_type": "execute_result"
    }
   ],
   "source": [
    "from csv import reader\n",
    "\n",
    "f = open('test_table.csv', 'r')\n",
    "nikkei_data = reader(f)\n",
    "next(nikkei_data)"
   ]
  },
  {
   "cell_type": "code",
   "execution_count": 9,
   "id": "22921930",
   "metadata": {},
   "outputs": [
    {
     "data": {
      "text/plain": [
       "['2009-05-21', '9280.35', '9286.35', '9189.92', '9264.15', '133200', '9264.15']"
      ]
     },
     "execution_count": 9,
     "metadata": {},
     "output_type": "execute_result"
    }
   ],
   "source": [
    "next(nikkei_data)"
   ]
  },
  {
   "cell_type": "markdown",
   "id": "a174cd64",
   "metadata": {},
   "source": [
    "### Iterators in For Loops\n",
    "\n",
    "```{index} single: Python; Iterators\n",
    "```\n",
    "\n",
    "All iterators can be placed to the right of the `in` keyword in `for` loop statements.\n",
    "\n",
    "In fact this is how the `for` loop works:  If we write\n",
    "\n",
    "```{code-block} python3\n",
    ":class: no-execute\n",
    "\n",
    "for x in iterator:\n",
    "    <code block>\n",
    "```\n",
    "\n",
    "then the interpreter\n",
    "\n",
    "* calls `iterator.___next___()` and binds `x` to the result\n",
    "* executes the code block\n",
    "* repeats until a `StopIteration` error occurs\n",
    "\n",
    "So now you know how this magical looking syntax works\n",
    "\n",
    "```{code-block} python3\n",
    ":class: no-execute\n",
    "\n",
    "f = open('somefile.txt', 'r')\n",
    "for line in f:\n",
    "    # do something\n",
    "```\n",
    "\n",
    "The interpreter just keeps\n",
    "\n",
    "1. calling `f.__next__()` and binding `line` to the result\n",
    "1. executing the body of the loop\n",
    "\n",
    "This continues until a `StopIteration` error occurs.\n",
    "\n",
    "### Iterables\n",
    "\n",
    "```{index} single: Python; Iterables\n",
    "```\n",
    "\n",
    "You already know that we can put a Python list to the right of `in` in a `for` loop"
   ]
  },
  {
   "cell_type": "code",
   "execution_count": 10,
   "id": "3aec2228",
   "metadata": {},
   "outputs": [
    {
     "name": "stdout",
     "output_type": "stream",
     "text": [
      "spam\n",
      "eggs\n"
     ]
    }
   ],
   "source": [
    "for i in ['spam', 'eggs']:\n",
    "    print(i)"
   ]
  },
  {
   "cell_type": "markdown",
   "id": "9d1f7e24",
   "metadata": {},
   "source": [
    "So does that mean that a list is an iterator?\n",
    "\n",
    "The answer is no"
   ]
  },
  {
   "cell_type": "code",
   "execution_count": 11,
   "id": "b3a0d88d",
   "metadata": {},
   "outputs": [
    {
     "data": {
      "text/plain": [
       "list"
      ]
     },
     "execution_count": 11,
     "metadata": {},
     "output_type": "execute_result"
    }
   ],
   "source": [
    "x = ['foo', 'bar']\n",
    "type(x)"
   ]
  },
  {
   "cell_type": "code",
   "execution_count": 12,
   "id": "c7ddba77",
   "metadata": {
    "tags": [
     "raises-exception"
    ]
   },
   "outputs": [
    {
     "ename": "TypeError",
     "evalue": "'list' object is not an iterator",
     "output_type": "error",
     "traceback": [
      "\u001b[0;31m---------------------------------------------------------------------------\u001b[0m",
      "\u001b[0;31mTypeError\u001b[0m                                 Traceback (most recent call last)",
      "Input \u001b[0;32mIn [12]\u001b[0m, in \u001b[0;36m<cell line: 1>\u001b[0;34m()\u001b[0m\n\u001b[0;32m----> 1\u001b[0m \u001b[38;5;28;43mnext\u001b[39;49m\u001b[43m(\u001b[49m\u001b[43mx\u001b[49m\u001b[43m)\u001b[49m\n",
      "\u001b[0;31mTypeError\u001b[0m: 'list' object is not an iterator"
     ]
    }
   ],
   "source": [
    "next(x)"
   ]
  },
  {
   "cell_type": "markdown",
   "id": "40c722e1",
   "metadata": {},
   "source": [
    "So why can we iterate over a list in a `for` loop?\n",
    "\n",
    "The reason is that a list is *iterable* (as opposed to an iterator).\n",
    "\n",
    "Formally, an object is iterable if it can be converted to an iterator using the built-in function `iter()`.\n",
    "\n",
    "Lists are one such object"
   ]
  },
  {
   "cell_type": "code",
   "execution_count": 13,
   "id": "55c92e91",
   "metadata": {},
   "outputs": [
    {
     "data": {
      "text/plain": [
       "list"
      ]
     },
     "execution_count": 13,
     "metadata": {},
     "output_type": "execute_result"
    }
   ],
   "source": [
    "x = ['foo', 'bar']\n",
    "type(x)"
   ]
  },
  {
   "cell_type": "code",
   "execution_count": 14,
   "id": "ad3aa08b",
   "metadata": {},
   "outputs": [
    {
     "data": {
      "text/plain": [
       "list_iterator"
      ]
     },
     "execution_count": 14,
     "metadata": {},
     "output_type": "execute_result"
    }
   ],
   "source": [
    "y = iter(x)\n",
    "type(y)"
   ]
  },
  {
   "cell_type": "code",
   "execution_count": 15,
   "id": "8754aaa6",
   "metadata": {},
   "outputs": [
    {
     "data": {
      "text/plain": [
       "'foo'"
      ]
     },
     "execution_count": 15,
     "metadata": {},
     "output_type": "execute_result"
    }
   ],
   "source": [
    "next(y)"
   ]
  },
  {
   "cell_type": "code",
   "execution_count": 16,
   "id": "cdeb573a",
   "metadata": {},
   "outputs": [
    {
     "data": {
      "text/plain": [
       "'bar'"
      ]
     },
     "execution_count": 16,
     "metadata": {},
     "output_type": "execute_result"
    }
   ],
   "source": [
    "next(y)"
   ]
  },
  {
   "cell_type": "code",
   "execution_count": 17,
   "id": "2885fc8b",
   "metadata": {
    "tags": [
     "raises-exception"
    ]
   },
   "outputs": [
    {
     "ename": "StopIteration",
     "evalue": "",
     "output_type": "error",
     "traceback": [
      "\u001b[0;31m---------------------------------------------------------------------------\u001b[0m",
      "\u001b[0;31mStopIteration\u001b[0m                             Traceback (most recent call last)",
      "Input \u001b[0;32mIn [17]\u001b[0m, in \u001b[0;36m<cell line: 1>\u001b[0;34m()\u001b[0m\n\u001b[0;32m----> 1\u001b[0m \u001b[38;5;28;43mnext\u001b[39;49m\u001b[43m(\u001b[49m\u001b[43my\u001b[49m\u001b[43m)\u001b[49m\n",
      "\u001b[0;31mStopIteration\u001b[0m: "
     ]
    }
   ],
   "source": [
    "next(y)"
   ]
  },
  {
   "cell_type": "markdown",
   "id": "3f43724e",
   "metadata": {},
   "source": [
    "Many other objects are iterable, such as dictionaries and tuples.\n",
    "\n",
    "Of course, not all objects are iterable"
   ]
  },
  {
   "cell_type": "code",
   "execution_count": 18,
   "id": "499f3d6f",
   "metadata": {
    "tags": [
     "raises-exception"
    ]
   },
   "outputs": [
    {
     "ename": "TypeError",
     "evalue": "'int' object is not iterable",
     "output_type": "error",
     "traceback": [
      "\u001b[0;31m---------------------------------------------------------------------------\u001b[0m",
      "\u001b[0;31mTypeError\u001b[0m                                 Traceback (most recent call last)",
      "Input \u001b[0;32mIn [18]\u001b[0m, in \u001b[0;36m<cell line: 1>\u001b[0;34m()\u001b[0m\n\u001b[0;32m----> 1\u001b[0m \u001b[38;5;28;43miter\u001b[39;49m\u001b[43m(\u001b[49m\u001b[38;5;241;43m42\u001b[39;49m\u001b[43m)\u001b[49m\n",
      "\u001b[0;31mTypeError\u001b[0m: 'int' object is not iterable"
     ]
    }
   ],
   "source": [
    "iter(42)"
   ]
  },
  {
   "cell_type": "markdown",
   "id": "225279cd",
   "metadata": {},
   "source": [
    "To conclude our discussion of `for` loops\n",
    "\n",
    "* `for` loops work on either iterators or iterables.\n",
    "* In the second case, the iterable is converted into an iterator before the loop starts.\n",
    "\n",
    "### Iterators and built-ins\n",
    "\n",
    "```{index} single: Python; Iterators\n",
    "```\n",
    "\n",
    "Some built-in functions that act on sequences also work with iterables\n",
    "\n",
    "* `max()`, `min()`, `sum()`, `all()`, `any()`\n",
    "\n",
    "For example"
   ]
  },
  {
   "cell_type": "code",
   "execution_count": 19,
   "id": "8ecdeb9c",
   "metadata": {},
   "outputs": [
    {
     "data": {
      "text/plain": [
       "10"
      ]
     },
     "execution_count": 19,
     "metadata": {},
     "output_type": "execute_result"
    }
   ],
   "source": [
    "x = [10, -10]\n",
    "max(x)"
   ]
  },
  {
   "cell_type": "code",
   "execution_count": 20,
   "id": "2ff84757",
   "metadata": {},
   "outputs": [
    {
     "data": {
      "text/plain": [
       "list_iterator"
      ]
     },
     "execution_count": 20,
     "metadata": {},
     "output_type": "execute_result"
    }
   ],
   "source": [
    "y = iter(x)\n",
    "type(y)"
   ]
  },
  {
   "cell_type": "code",
   "execution_count": 21,
   "id": "ba96bc7b",
   "metadata": {},
   "outputs": [
    {
     "data": {
      "text/plain": [
       "10"
      ]
     },
     "execution_count": 21,
     "metadata": {},
     "output_type": "execute_result"
    }
   ],
   "source": [
    "max(y)"
   ]
  },
  {
   "cell_type": "markdown",
   "id": "6a765168",
   "metadata": {},
   "source": [
    "One thing to remember about iterators is that they are depleted by use"
   ]
  },
  {
   "cell_type": "code",
   "execution_count": 22,
   "id": "238778c0",
   "metadata": {},
   "outputs": [
    {
     "data": {
      "text/plain": [
       "10"
      ]
     },
     "execution_count": 22,
     "metadata": {},
     "output_type": "execute_result"
    }
   ],
   "source": [
    "x = [10, -10]\n",
    "y = iter(x)\n",
    "max(y)"
   ]
  },
  {
   "cell_type": "code",
   "execution_count": 23,
   "id": "cb8ff16c",
   "metadata": {
    "tags": [
     "raises-exception"
    ]
   },
   "outputs": [
    {
     "ename": "ValueError",
     "evalue": "max() arg is an empty sequence",
     "output_type": "error",
     "traceback": [
      "\u001b[0;31m---------------------------------------------------------------------------\u001b[0m",
      "\u001b[0;31mValueError\u001b[0m                                Traceback (most recent call last)",
      "Input \u001b[0;32mIn [23]\u001b[0m, in \u001b[0;36m<cell line: 1>\u001b[0;34m()\u001b[0m\n\u001b[0;32m----> 1\u001b[0m \u001b[38;5;28;43mmax\u001b[39;49m\u001b[43m(\u001b[49m\u001b[43my\u001b[49m\u001b[43m)\u001b[49m\n",
      "\u001b[0;31mValueError\u001b[0m: max() arg is an empty sequence"
     ]
    }
   ],
   "source": [
    "max(y)"
   ]
  },
  {
   "cell_type": "markdown",
   "id": "24a5d253",
   "metadata": {},
   "source": [
    "(name_res)=\n",
    "## Names and Name Resolution\n",
    "\n",
    "### Variable Names in Python\n",
    "\n",
    "```{index} single: Python; Variable Names\n",
    "```\n",
    "\n",
    "Consider the Python statement"
   ]
  },
  {
   "cell_type": "code",
   "execution_count": 24,
   "id": "a18724c7",
   "metadata": {},
   "outputs": [],
   "source": [
    "x = 42"
   ]
  },
  {
   "cell_type": "markdown",
   "id": "958aacd5",
   "metadata": {},
   "source": [
    "We now know that when this statement is executed, Python creates an object of\n",
    "type `int` in your computer's memory, containing\n",
    "\n",
    "* the value `42`\n",
    "* some associated attributes\n",
    "\n",
    "But what is `x` itself?\n",
    "\n",
    "In Python, `x` is called a *name*, and the statement `x = 42` *binds* the name `x` to the integer object we have just discussed.\n",
    "\n",
    "Under the hood, this process of binding names to objects is implemented as a dictionary---more about this in a moment.\n",
    "\n",
    "There is no problem binding two or more names to the one object, regardless of what that object is"
   ]
  },
  {
   "cell_type": "code",
   "execution_count": 25,
   "id": "a008ec85",
   "metadata": {},
   "outputs": [
    {
     "data": {
      "text/plain": [
       "True"
      ]
     },
     "execution_count": 25,
     "metadata": {},
     "output_type": "execute_result"
    }
   ],
   "source": [
    "def f(string):      # Create a function called f\n",
    "    print(string)   # that prints any string it's passed\n",
    "\n",
    "g = f\n",
    "id(g) == id(f)"
   ]
  },
  {
   "cell_type": "code",
   "execution_count": 26,
   "id": "c7d7abb6",
   "metadata": {},
   "outputs": [
    {
     "name": "stdout",
     "output_type": "stream",
     "text": [
      "test\n"
     ]
    }
   ],
   "source": [
    "g('test')"
   ]
  },
  {
   "cell_type": "markdown",
   "id": "215a86b2",
   "metadata": {},
   "source": [
    "In the first step, a function object is created, and the name `f` is bound to it.\n",
    "\n",
    "After binding the name `g` to the same object, we can use it anywhere we would use `f`.\n",
    "\n",
    "What happens when the number of names bound to an object goes to zero?\n",
    "\n",
    "Here's an example of this situation, where the name `x` is first bound to one object and then rebound to another"
   ]
  },
  {
   "cell_type": "code",
   "execution_count": 27,
   "id": "6d75dfc8",
   "metadata": {},
   "outputs": [
    {
     "data": {
      "text/plain": [
       "140534781810608"
      ]
     },
     "execution_count": 27,
     "metadata": {},
     "output_type": "execute_result"
    }
   ],
   "source": [
    "x = 'foo'\n",
    "id(x)"
   ]
  },
  {
   "cell_type": "code",
   "execution_count": 28,
   "id": "fdc3750a",
   "metadata": {},
   "outputs": [],
   "source": [
    "x = 'bar'  # No names bound to the first object"
   ]
  },
  {
   "cell_type": "markdown",
   "id": "8bf4d202",
   "metadata": {},
   "source": [
    "What happens here is that the first object is garbage collected.\n",
    "\n",
    "In other words, the memory slot that stores that object is deallocated, and returned to the operating system.\n",
    "\n",
    "### Namespaces\n",
    "\n",
    "```{index} single: Python; Namespaces\n",
    "```\n",
    "\n",
    "Recall from the preceding discussion that the statement"
   ]
  },
  {
   "cell_type": "code",
   "execution_count": 29,
   "id": "832d5770",
   "metadata": {},
   "outputs": [],
   "source": [
    "x = 42"
   ]
  },
  {
   "cell_type": "markdown",
   "id": "7136ad83",
   "metadata": {},
   "source": [
    "binds the name `x` to the integer object on the right-hand side.\n",
    "\n",
    "We also mentioned that this process of binding `x` to the correct object is implemented as a dictionary.\n",
    "\n",
    "This dictionary is called a *namespace*.\n",
    "\n",
    "**Definition:** A namespace is a symbol table that maps names to objects in memory.\n",
    "\n",
    "Python uses multiple namespaces, creating them on the fly as necessary .\n",
    "\n",
    "For example, every time we import a module, Python creates a namespace for that module.\n",
    "\n",
    "To see this in action, suppose we write a script `math2.py` with a single line"
   ]
  },
  {
   "cell_type": "code",
   "execution_count": 30,
   "id": "ad8886f7",
   "metadata": {},
   "outputs": [
    {
     "name": "stdout",
     "output_type": "stream",
     "text": [
      "Writing math2.py\n"
     ]
    }
   ],
   "source": [
    "%%file math2.py\n",
    "pi = 'foobar'"
   ]
  },
  {
   "cell_type": "markdown",
   "id": "307d5349",
   "metadata": {},
   "source": [
    "Now we start the Python interpreter and import it"
   ]
  },
  {
   "cell_type": "code",
   "execution_count": 31,
   "id": "db2cb030",
   "metadata": {},
   "outputs": [],
   "source": [
    "import math2"
   ]
  },
  {
   "cell_type": "markdown",
   "id": "16670464",
   "metadata": {},
   "source": [
    "Next let's import the `math` module from the standard library"
   ]
  },
  {
   "cell_type": "code",
   "execution_count": 32,
   "id": "bdba29b8",
   "metadata": {},
   "outputs": [],
   "source": [
    "import math"
   ]
  },
  {
   "cell_type": "markdown",
   "id": "aec0c477",
   "metadata": {},
   "source": [
    "Both of these modules have an attribute called `pi`"
   ]
  },
  {
   "cell_type": "code",
   "execution_count": 33,
   "id": "f47dbf1c",
   "metadata": {},
   "outputs": [
    {
     "data": {
      "text/plain": [
       "3.141592653589793"
      ]
     },
     "execution_count": 33,
     "metadata": {},
     "output_type": "execute_result"
    }
   ],
   "source": [
    "math.pi"
   ]
  },
  {
   "cell_type": "code",
   "execution_count": 34,
   "id": "9c9de5af",
   "metadata": {},
   "outputs": [
    {
     "data": {
      "text/plain": [
       "'foobar'"
      ]
     },
     "execution_count": 34,
     "metadata": {},
     "output_type": "execute_result"
    }
   ],
   "source": [
    "math2.pi"
   ]
  },
  {
   "cell_type": "markdown",
   "id": "f78cc431",
   "metadata": {},
   "source": [
    "These two different bindings of `pi` exist in different namespaces, each one implemented as a dictionary.\n",
    "\n",
    "We can look at the dictionary directly, using `module_name.__dict__`"
   ]
  },
  {
   "cell_type": "code",
   "execution_count": 35,
   "id": "1a360432",
   "metadata": {},
   "outputs": [
    {
     "data": {
      "text/plain": [
       "dict_items([('__name__', 'math'), ('__doc__', 'This module provides access to the mathematical functions\\ndefined by the C standard.'), ('__package__', ''), ('__loader__', <_frozen_importlib_external.ExtensionFileLoader object at 0x7fd0cec4d640>), ('__spec__', ModuleSpec(name='math', loader=<_frozen_importlib_external.ExtensionFileLoader object at 0x7fd0cec4d640>, origin='/usr/share/miniconda3/envs/quantecon/lib/python3.9/lib-dynload/math.cpython-39-x86_64-linux-gnu.so')), ('acos', <built-in function acos>), ('acosh', <built-in function acosh>), ('asin', <built-in function asin>), ('asinh', <built-in function asinh>), ('atan', <built-in function atan>), ('atan2', <built-in function atan2>), ('atanh', <built-in function atanh>), ('ceil', <built-in function ceil>), ('copysign', <built-in function copysign>), ('cos', <built-in function cos>), ('cosh', <built-in function cosh>), ('degrees', <built-in function degrees>), ('dist', <built-in function dist>), ('erf', <built-in function erf>), ('erfc', <built-in function erfc>), ('exp', <built-in function exp>), ('expm1', <built-in function expm1>), ('fabs', <built-in function fabs>), ('factorial', <built-in function factorial>), ('floor', <built-in function floor>), ('fmod', <built-in function fmod>), ('frexp', <built-in function frexp>), ('fsum', <built-in function fsum>), ('gamma', <built-in function gamma>), ('gcd', <built-in function gcd>), ('hypot', <built-in function hypot>), ('isclose', <built-in function isclose>), ('isfinite', <built-in function isfinite>), ('isinf', <built-in function isinf>), ('isnan', <built-in function isnan>), ('isqrt', <built-in function isqrt>), ('lcm', <built-in function lcm>), ('ldexp', <built-in function ldexp>), ('lgamma', <built-in function lgamma>), ('log', <built-in function log>), ('log1p', <built-in function log1p>), ('log10', <built-in function log10>), ('log2', <built-in function log2>), ('modf', <built-in function modf>), ('pow', <built-in function pow>), ('radians', <built-in function radians>), ('remainder', <built-in function remainder>), ('sin', <built-in function sin>), ('sinh', <built-in function sinh>), ('sqrt', <built-in function sqrt>), ('tan', <built-in function tan>), ('tanh', <built-in function tanh>), ('trunc', <built-in function trunc>), ('prod', <built-in function prod>), ('perm', <built-in function perm>), ('comb', <built-in function comb>), ('nextafter', <built-in function nextafter>), ('ulp', <built-in function ulp>), ('__file__', '/usr/share/miniconda3/envs/quantecon/lib/python3.9/lib-dynload/math.cpython-39-x86_64-linux-gnu.so'), ('pi', 3.141592653589793), ('e', 2.718281828459045), ('tau', 6.283185307179586), ('inf', inf), ('nan', nan)])"
      ]
     },
     "execution_count": 35,
     "metadata": {},
     "output_type": "execute_result"
    }
   ],
   "source": [
    "import math\n",
    "\n",
    "math.__dict__.items()"
   ]
  },
  {
   "cell_type": "code",
   "execution_count": 36,
   "id": "76c7ae17",
   "metadata": {},
   "outputs": [
    {
     "data": {
      "text/plain": [
       "dict_items([('__name__', 'math2'), ('__doc__', None), ('__package__', ''), ('__loader__', <_frozen_importlib_external.SourceFileLoader object at 0x7fd0c8e1dc10>), ('__spec__', ModuleSpec(name='math2', loader=<_frozen_importlib_external.SourceFileLoader object at 0x7fd0c8e1dc10>, origin='/home/runner/work/lecture-python-programming.myst/lecture-python-programming.myst/lectures/math2.py')), ('__file__', '/home/runner/work/lecture-python-programming.myst/lecture-python-programming.myst/lectures/math2.py'), ('__cached__', '/home/runner/work/lecture-python-programming.myst/lecture-python-programming.myst/lectures/__pycache__/math2.cpython-39.pyc'), ('__builtins__', {'__name__': 'builtins', '__doc__': \"Built-in functions, exceptions, and other objects.\\n\\nNoteworthy: None is the `nil' object; Ellipsis represents `...' in slices.\", '__package__': '', '__loader__': <class '_frozen_importlib.BuiltinImporter'>, '__spec__': ModuleSpec(name='builtins', loader=<class '_frozen_importlib.BuiltinImporter'>, origin='built-in'), '__build_class__': <built-in function __build_class__>, '__import__': <built-in function __import__>, 'abs': <built-in function abs>, 'all': <built-in function all>, 'any': <built-in function any>, 'ascii': <built-in function ascii>, 'bin': <built-in function bin>, 'breakpoint': <built-in function breakpoint>, 'callable': <built-in function callable>, 'chr': <built-in function chr>, 'compile': <built-in function compile>, 'delattr': <built-in function delattr>, 'dir': <built-in function dir>, 'divmod': <built-in function divmod>, 'eval': <built-in function eval>, 'exec': <built-in function exec>, 'format': <built-in function format>, 'getattr': <built-in function getattr>, 'globals': <built-in function globals>, 'hasattr': <built-in function hasattr>, 'hash': <built-in function hash>, 'hex': <built-in function hex>, 'id': <built-in function id>, 'input': <bound method Kernel.raw_input of <ipykernel.ipkernel.IPythonKernel object at 0x7fd0cbf9a7f0>>, 'isinstance': <built-in function isinstance>, 'issubclass': <built-in function issubclass>, 'iter': <built-in function iter>, 'len': <built-in function len>, 'locals': <built-in function locals>, 'max': <built-in function max>, 'min': <built-in function min>, 'next': <built-in function next>, 'oct': <built-in function oct>, 'ord': <built-in function ord>, 'pow': <built-in function pow>, 'print': <built-in function print>, 'repr': <built-in function repr>, 'round': <built-in function round>, 'setattr': <built-in function setattr>, 'sorted': <built-in function sorted>, 'sum': <built-in function sum>, 'vars': <built-in function vars>, 'None': None, 'Ellipsis': Ellipsis, 'NotImplemented': NotImplemented, 'False': False, 'True': True, 'bool': <class 'bool'>, 'memoryview': <class 'memoryview'>, 'bytearray': <class 'bytearray'>, 'bytes': <class 'bytes'>, 'classmethod': <class 'classmethod'>, 'complex': <class 'complex'>, 'dict': <class 'dict'>, 'enumerate': <class 'enumerate'>, 'filter': <class 'filter'>, 'float': <class 'float'>, 'frozenset': <class 'frozenset'>, 'property': <class 'property'>, 'int': <class 'int'>, 'list': <class 'list'>, 'map': <class 'map'>, 'object': <class 'object'>, 'range': <class 'range'>, 'reversed': <class 'reversed'>, 'set': <class 'set'>, 'slice': <class 'slice'>, 'staticmethod': <class 'staticmethod'>, 'str': <class 'str'>, 'super': <class 'super'>, 'tuple': <class 'tuple'>, 'type': <class 'type'>, 'zip': <class 'zip'>, '__debug__': True, 'BaseException': <class 'BaseException'>, 'Exception': <class 'Exception'>, 'TypeError': <class 'TypeError'>, 'StopAsyncIteration': <class 'StopAsyncIteration'>, 'StopIteration': <class 'StopIteration'>, 'GeneratorExit': <class 'GeneratorExit'>, 'SystemExit': <class 'SystemExit'>, 'KeyboardInterrupt': <class 'KeyboardInterrupt'>, 'ImportError': <class 'ImportError'>, 'ModuleNotFoundError': <class 'ModuleNotFoundError'>, 'OSError': <class 'OSError'>, 'EnvironmentError': <class 'OSError'>, 'IOError': <class 'OSError'>, 'EOFError': <class 'EOFError'>, 'RuntimeError': <class 'RuntimeError'>, 'RecursionError': <class 'RecursionError'>, 'NotImplementedError': <class 'NotImplementedError'>, 'NameError': <class 'NameError'>, 'UnboundLocalError': <class 'UnboundLocalError'>, 'AttributeError': <class 'AttributeError'>, 'SyntaxError': <class 'SyntaxError'>, 'IndentationError': <class 'IndentationError'>, 'TabError': <class 'TabError'>, 'LookupError': <class 'LookupError'>, 'IndexError': <class 'IndexError'>, 'KeyError': <class 'KeyError'>, 'ValueError': <class 'ValueError'>, 'UnicodeError': <class 'UnicodeError'>, 'UnicodeEncodeError': <class 'UnicodeEncodeError'>, 'UnicodeDecodeError': <class 'UnicodeDecodeError'>, 'UnicodeTranslateError': <class 'UnicodeTranslateError'>, 'AssertionError': <class 'AssertionError'>, 'ArithmeticError': <class 'ArithmeticError'>, 'FloatingPointError': <class 'FloatingPointError'>, 'OverflowError': <class 'OverflowError'>, 'ZeroDivisionError': <class 'ZeroDivisionError'>, 'SystemError': <class 'SystemError'>, 'ReferenceError': <class 'ReferenceError'>, 'MemoryError': <class 'MemoryError'>, 'BufferError': <class 'BufferError'>, 'Warning': <class 'Warning'>, 'UserWarning': <class 'UserWarning'>, 'DeprecationWarning': <class 'DeprecationWarning'>, 'PendingDeprecationWarning': <class 'PendingDeprecationWarning'>, 'SyntaxWarning': <class 'SyntaxWarning'>, 'RuntimeWarning': <class 'RuntimeWarning'>, 'FutureWarning': <class 'FutureWarning'>, 'ImportWarning': <class 'ImportWarning'>, 'UnicodeWarning': <class 'UnicodeWarning'>, 'BytesWarning': <class 'BytesWarning'>, 'ResourceWarning': <class 'ResourceWarning'>, 'ConnectionError': <class 'ConnectionError'>, 'BlockingIOError': <class 'BlockingIOError'>, 'BrokenPipeError': <class 'BrokenPipeError'>, 'ChildProcessError': <class 'ChildProcessError'>, 'ConnectionAbortedError': <class 'ConnectionAbortedError'>, 'ConnectionRefusedError': <class 'ConnectionRefusedError'>, 'ConnectionResetError': <class 'ConnectionResetError'>, 'FileExistsError': <class 'FileExistsError'>, 'FileNotFoundError': <class 'FileNotFoundError'>, 'IsADirectoryError': <class 'IsADirectoryError'>, 'NotADirectoryError': <class 'NotADirectoryError'>, 'InterruptedError': <class 'InterruptedError'>, 'PermissionError': <class 'PermissionError'>, 'ProcessLookupError': <class 'ProcessLookupError'>, 'TimeoutError': <class 'TimeoutError'>, 'open': <built-in function open>, 'copyright': Copyright (c) 2001-2022 Python Software Foundation.\n",
       "All Rights Reserved.\n",
       "\n",
       "Copyright (c) 2000 BeOpen.com.\n",
       "All Rights Reserved.\n",
       "\n",
       "Copyright (c) 1995-2001 Corporation for National Research Initiatives.\n",
       "All Rights Reserved.\n",
       "\n",
       "Copyright (c) 1991-1995 Stichting Mathematisch Centrum, Amsterdam.\n",
       "All Rights Reserved., 'credits':     Thanks to CWI, CNRI, BeOpen.com, Zope Corporation and a cast of thousands\n",
       "    for supporting Python development.  See www.python.org for more information., 'license': Type license() to see the full license text, 'help': Type help() for interactive help, or help(object) for help about object., 'execfile': <function execfile at 0x7fd0cc368ee0>, 'runfile': <function runfile at 0x7fd0cc227ca0>, '__IPYTHON__': True, 'display': <function display at 0x7fd0cd9d5e50>, 'get_ipython': <bound method InteractiveShell.get_ipython of <ipykernel.zmqshell.ZMQInteractiveShell object at 0x7fd0c8f480a0>>}), ('pi', 'foobar')])"
      ]
     },
     "execution_count": 36,
     "metadata": {},
     "output_type": "execute_result"
    }
   ],
   "source": [
    "import math2\n",
    "\n",
    "math2.__dict__.items()"
   ]
  },
  {
   "cell_type": "markdown",
   "id": "0a53ddc7",
   "metadata": {},
   "source": [
    "As you know, we access elements of the namespace using the dotted attribute notation"
   ]
  },
  {
   "cell_type": "code",
   "execution_count": 37,
   "id": "70d3a353",
   "metadata": {},
   "outputs": [
    {
     "data": {
      "text/plain": [
       "3.141592653589793"
      ]
     },
     "execution_count": 37,
     "metadata": {},
     "output_type": "execute_result"
    }
   ],
   "source": [
    "math.pi"
   ]
  },
  {
   "cell_type": "markdown",
   "id": "a8bed42c",
   "metadata": {},
   "source": [
    "In fact this is entirely equivalent to `math.__dict__['pi']`"
   ]
  },
  {
   "cell_type": "code",
   "execution_count": 38,
   "id": "1faf77a7",
   "metadata": {},
   "outputs": [
    {
     "data": {
      "text/plain": [
       "True"
      ]
     },
     "execution_count": 38,
     "metadata": {},
     "output_type": "execute_result"
    }
   ],
   "source": [
    "math.__dict__['pi'] == math.pi"
   ]
  },
  {
   "cell_type": "markdown",
   "id": "d1fc4f39",
   "metadata": {},
   "source": [
    "### Viewing Namespaces\n",
    "\n",
    "As we saw above, the `math` namespace can be printed by typing `math.__dict__`.\n",
    "\n",
    "Another way to see its contents is to type `vars(math)`"
   ]
  },
  {
   "cell_type": "code",
   "execution_count": 39,
   "id": "0279a15e",
   "metadata": {},
   "outputs": [
    {
     "data": {
      "text/plain": [
       "dict_items([('__name__', 'math'), ('__doc__', 'This module provides access to the mathematical functions\\ndefined by the C standard.'), ('__package__', ''), ('__loader__', <_frozen_importlib_external.ExtensionFileLoader object at 0x7fd0cec4d640>), ('__spec__', ModuleSpec(name='math', loader=<_frozen_importlib_external.ExtensionFileLoader object at 0x7fd0cec4d640>, origin='/usr/share/miniconda3/envs/quantecon/lib/python3.9/lib-dynload/math.cpython-39-x86_64-linux-gnu.so')), ('acos', <built-in function acos>), ('acosh', <built-in function acosh>), ('asin', <built-in function asin>), ('asinh', <built-in function asinh>), ('atan', <built-in function atan>), ('atan2', <built-in function atan2>), ('atanh', <built-in function atanh>), ('ceil', <built-in function ceil>), ('copysign', <built-in function copysign>), ('cos', <built-in function cos>), ('cosh', <built-in function cosh>), ('degrees', <built-in function degrees>), ('dist', <built-in function dist>), ('erf', <built-in function erf>), ('erfc', <built-in function erfc>), ('exp', <built-in function exp>), ('expm1', <built-in function expm1>), ('fabs', <built-in function fabs>), ('factorial', <built-in function factorial>), ('floor', <built-in function floor>), ('fmod', <built-in function fmod>), ('frexp', <built-in function frexp>), ('fsum', <built-in function fsum>), ('gamma', <built-in function gamma>), ('gcd', <built-in function gcd>), ('hypot', <built-in function hypot>), ('isclose', <built-in function isclose>), ('isfinite', <built-in function isfinite>), ('isinf', <built-in function isinf>), ('isnan', <built-in function isnan>), ('isqrt', <built-in function isqrt>), ('lcm', <built-in function lcm>), ('ldexp', <built-in function ldexp>), ('lgamma', <built-in function lgamma>), ('log', <built-in function log>), ('log1p', <built-in function log1p>), ('log10', <built-in function log10>), ('log2', <built-in function log2>), ('modf', <built-in function modf>), ('pow', <built-in function pow>), ('radians', <built-in function radians>), ('remainder', <built-in function remainder>), ('sin', <built-in function sin>), ('sinh', <built-in function sinh>), ('sqrt', <built-in function sqrt>), ('tan', <built-in function tan>), ('tanh', <built-in function tanh>), ('trunc', <built-in function trunc>), ('prod', <built-in function prod>), ('perm', <built-in function perm>), ('comb', <built-in function comb>), ('nextafter', <built-in function nextafter>), ('ulp', <built-in function ulp>), ('__file__', '/usr/share/miniconda3/envs/quantecon/lib/python3.9/lib-dynload/math.cpython-39-x86_64-linux-gnu.so'), ('pi', 3.141592653589793), ('e', 2.718281828459045), ('tau', 6.283185307179586), ('inf', inf), ('nan', nan)])"
      ]
     },
     "execution_count": 39,
     "metadata": {},
     "output_type": "execute_result"
    }
   ],
   "source": [
    "vars(math).items()"
   ]
  },
  {
   "cell_type": "markdown",
   "id": "f5983976",
   "metadata": {},
   "source": [
    "If you just want to see the names, you can type"
   ]
  },
  {
   "cell_type": "code",
   "execution_count": 40,
   "id": "74c9c843",
   "metadata": {},
   "outputs": [
    {
     "data": {
      "text/plain": [
       "['__doc__',\n",
       " '__file__',\n",
       " '__loader__',\n",
       " '__name__',\n",
       " '__package__',\n",
       " '__spec__',\n",
       " 'acos',\n",
       " 'acosh',\n",
       " 'asin',\n",
       " 'asinh']"
      ]
     },
     "execution_count": 40,
     "metadata": {},
     "output_type": "execute_result"
    }
   ],
   "source": [
    "dir(math)[0:10]"
   ]
  },
  {
   "cell_type": "markdown",
   "id": "b1f48205",
   "metadata": {},
   "source": [
    "Notice the special names `__doc__` and `__name__`.\n",
    "\n",
    "These are initialized in the namespace when any module is imported\n",
    "\n",
    "* `__doc__` is the doc string of the module\n",
    "* `__name__` is the name of the module"
   ]
  },
  {
   "cell_type": "code",
   "execution_count": 41,
   "id": "320a562a",
   "metadata": {},
   "outputs": [
    {
     "name": "stdout",
     "output_type": "stream",
     "text": [
      "This module provides access to the mathematical functions\n",
      "defined by the C standard.\n"
     ]
    }
   ],
   "source": [
    "print(math.__doc__)"
   ]
  },
  {
   "cell_type": "code",
   "execution_count": 42,
   "id": "bd7df317",
   "metadata": {},
   "outputs": [
    {
     "data": {
      "text/plain": [
       "'math'"
      ]
     },
     "execution_count": 42,
     "metadata": {},
     "output_type": "execute_result"
    }
   ],
   "source": [
    "math.__name__"
   ]
  },
  {
   "cell_type": "markdown",
   "id": "89564f77",
   "metadata": {},
   "source": [
    "### Interactive Sessions\n",
    "\n",
    "```{index} single: Python; Interpreter\n",
    "```\n",
    "\n",
    "In Python, **all** code executed by the interpreter runs in some module.\n",
    "\n",
    "What about commands typed at the prompt?\n",
    "\n",
    "These are also regarded as being executed within a module --- in this case, a module called `__main__`.\n",
    "\n",
    "To check this, we can look at the current module name via the value of `__name__` given at the prompt"
   ]
  },
  {
   "cell_type": "code",
   "execution_count": 43,
   "id": "7de735ef",
   "metadata": {},
   "outputs": [
    {
     "name": "stdout",
     "output_type": "stream",
     "text": [
      "__main__\n"
     ]
    }
   ],
   "source": [
    "print(__name__)"
   ]
  },
  {
   "cell_type": "markdown",
   "id": "b667f53a",
   "metadata": {},
   "source": [
    "When we run a script using IPython's `run` command, the contents of the file are executed as part of `__main__` too.\n",
    "\n",
    "To see this, let's create a file `mod.py` that prints its own `__name__` attribute"
   ]
  },
  {
   "cell_type": "code",
   "execution_count": 44,
   "id": "740e39b7",
   "metadata": {},
   "outputs": [
    {
     "name": "stdout",
     "output_type": "stream",
     "text": [
      "Writing mod.py\n"
     ]
    }
   ],
   "source": [
    "%%file mod.py\n",
    "print(__name__)"
   ]
  },
  {
   "cell_type": "markdown",
   "id": "bb7b5c1e",
   "metadata": {},
   "source": [
    "Now let's look at two different ways of running it in IPython"
   ]
  },
  {
   "cell_type": "code",
   "execution_count": 45,
   "id": "873f9de4",
   "metadata": {},
   "outputs": [
    {
     "name": "stdout",
     "output_type": "stream",
     "text": [
      "mod\n"
     ]
    }
   ],
   "source": [
    "import mod  # Standard import"
   ]
  },
  {
   "cell_type": "code",
   "execution_count": 46,
   "id": "90f8b860",
   "metadata": {},
   "outputs": [
    {
     "name": "stdout",
     "output_type": "stream",
     "text": [
      "__main__\n"
     ]
    }
   ],
   "source": [
    "%run mod.py  # Run interactively"
   ]
  },
  {
   "cell_type": "markdown",
   "id": "26408eb0",
   "metadata": {},
   "source": [
    "In the second case, the code is executed as part of `__main__`, so `__name__` is equal to `__main__`.\n",
    "\n",
    "To see the contents of the namespace of `__main__` we use `vars()` rather than `vars(__main__)` .\n",
    "\n",
    "If you do this in IPython, you will see a whole lot of variables that IPython\n",
    "needs, and has initialized when you started up your session.\n",
    "\n",
    "If you prefer to see only the variables you have initialized, use `whos`"
   ]
  },
  {
   "cell_type": "code",
   "execution_count": 47,
   "id": "d994591c",
   "metadata": {},
   "outputs": [
    {
     "name": "stdout",
     "output_type": "stream",
     "text": [
      "Variable      Type                          Data/Info\n",
      "-----------------------------------------------------\n",
      "e             enumerate                     <enumerate object at 0x7fd0c8f24e40>\n",
      "f             function                      <function f at 0x7fd0c8404d30>\n",
      "g             function                      <function f at 0x7fd0c8404d30>\n",
      "i             str                           eggs\n",
      "math          module                        <module 'math' from '/usr<...>-39-x86_64-linux-gnu.so'>\n",
      "math2         module                        <module 'math2' from '/ho<...>.myst/lectures/math2.py'>\n",
      "mod           module                        <module 'mod' from '/home<...>ng.myst/lectures/mod.py'>\n",
      "nikkei_data   reader                        <_csv.reader object at 0x7fd0cbfd1ba0>\n",
      "np            module                        <module 'numpy' from '/us<...>kages/numpy/__init__.py'>\n",
      "reader        builtin_function_or_method    <built-in function reader>\n",
      "x             int                           2\n",
      "y             int                           3\n"
     ]
    }
   ],
   "source": [
    "x = 2\n",
    "y = 3\n",
    "\n",
    "import numpy as np\n",
    "\n",
    "%whos"
   ]
  },
  {
   "cell_type": "markdown",
   "id": "d9b61ac9",
   "metadata": {},
   "source": [
    "### The Global Namespace\n",
    "\n",
    "```{index} single: Python; Namespace (Global)\n",
    "```\n",
    "\n",
    "Python documentation often makes reference to the \"global namespace\".\n",
    "\n",
    "The global namespace is *the namespace of the module currently being executed*.\n",
    "\n",
    "For example, suppose that we start the interpreter and begin making assignments .\n",
    "\n",
    "We are now working in the module `__main__`, and hence the namespace for `__main__` is the global namespace.\n",
    "\n",
    "Next, we import a module called `amodule`\n",
    "\n",
    "```{code-block} python3\n",
    ":class: no-execute\n",
    "\n",
    "import amodule\n",
    "```\n",
    "\n",
    "At this point, the interpreter creates a namespace for the module `amodule` and starts executing commands in the module.\n",
    "\n",
    "While this occurs, the namespace `amodule.__dict__` is the global namespace.\n",
    "\n",
    "Once execution of the module finishes, the interpreter returns to the module from where the import statement was made.\n",
    "\n",
    "In this case it's `__main__`, so the namespace of `__main__` again becomes the global namespace.\n",
    "\n",
    "### Local Namespaces\n",
    "\n",
    "```{index} single: Python; Namespace (Local)\n",
    "```\n",
    "\n",
    "Important fact: When we call a function, the interpreter creates a *local namespace* for that function, and registers the variables in that namespace.\n",
    "\n",
    "The reason for this will be explained in just a moment.\n",
    "\n",
    "Variables in the local namespace are called *local variables*.\n",
    "\n",
    "After the function returns, the namespace is deallocated and lost.\n",
    "\n",
    "While the function is executing, we can view the contents of the local namespace with `locals()`.\n",
    "\n",
    "For example, consider"
   ]
  },
  {
   "cell_type": "code",
   "execution_count": 48,
   "id": "c5ba5f90",
   "metadata": {},
   "outputs": [],
   "source": [
    "def f(x):\n",
    "    a = 2\n",
    "    print(locals())\n",
    "    return a * x"
   ]
  },
  {
   "cell_type": "markdown",
   "id": "02d21c87",
   "metadata": {},
   "source": [
    "Now let's call the function"
   ]
  },
  {
   "cell_type": "code",
   "execution_count": 49,
   "id": "48efa708",
   "metadata": {},
   "outputs": [
    {
     "name": "stdout",
     "output_type": "stream",
     "text": [
      "{'x': 1, 'a': 2}\n"
     ]
    },
    {
     "data": {
      "text/plain": [
       "2"
      ]
     },
     "execution_count": 49,
     "metadata": {},
     "output_type": "execute_result"
    }
   ],
   "source": [
    "f(1)"
   ]
  },
  {
   "cell_type": "markdown",
   "id": "3768c01e",
   "metadata": {},
   "source": [
    "You can see the local namespace of `f` before it is destroyed.\n",
    "\n",
    "### The `__builtins__` Namespace\n",
    "\n",
    "```{index} single: Python; Namespace (__builtins__)\n",
    "```\n",
    "\n",
    "We have been using various built-in functions, such as `max(), dir(), str(), list(), len(), range(), type()`, etc.\n",
    "\n",
    "How does access to these names work?\n",
    "\n",
    "* These definitions are stored in a module called `__builtin__`.\n",
    "* They have there own namespace called `__builtins__`."
   ]
  },
  {
   "cell_type": "code",
   "execution_count": 50,
   "id": "8426abe9",
   "metadata": {},
   "outputs": [
    {
     "data": {
      "text/plain": [
       "['In', 'Out', '_', '_11', '_13', '_14', '_15', '_16', '_19', '_2']"
      ]
     },
     "execution_count": 50,
     "metadata": {},
     "output_type": "execute_result"
    }
   ],
   "source": [
    "dir()[0:10]"
   ]
  },
  {
   "cell_type": "code",
   "execution_count": 51,
   "id": "71e0ea75",
   "metadata": {},
   "outputs": [
    {
     "data": {
      "text/plain": [
       "['ArithmeticError',\n",
       " 'AssertionError',\n",
       " 'AttributeError',\n",
       " 'BaseException',\n",
       " 'BlockingIOError',\n",
       " 'BrokenPipeError',\n",
       " 'BufferError',\n",
       " 'BytesWarning',\n",
       " 'ChildProcessError',\n",
       " 'ConnectionAbortedError']"
      ]
     },
     "execution_count": 51,
     "metadata": {},
     "output_type": "execute_result"
    }
   ],
   "source": [
    "dir(__builtins__)[0:10]"
   ]
  },
  {
   "cell_type": "markdown",
   "id": "17ea3a18",
   "metadata": {},
   "source": [
    "We can access elements of the namespace as follows"
   ]
  },
  {
   "cell_type": "code",
   "execution_count": 52,
   "id": "a5d35838",
   "metadata": {},
   "outputs": [
    {
     "data": {
      "text/plain": [
       "<function max>"
      ]
     },
     "execution_count": 52,
     "metadata": {},
     "output_type": "execute_result"
    }
   ],
   "source": [
    "__builtins__.max"
   ]
  },
  {
   "cell_type": "markdown",
   "id": "00b13c35",
   "metadata": {},
   "source": [
    "But `__builtins__` is special, because we can always access them directly as well"
   ]
  },
  {
   "cell_type": "code",
   "execution_count": 53,
   "id": "5675e611",
   "metadata": {},
   "outputs": [
    {
     "data": {
      "text/plain": [
       "<function max>"
      ]
     },
     "execution_count": 53,
     "metadata": {},
     "output_type": "execute_result"
    }
   ],
   "source": [
    "max"
   ]
  },
  {
   "cell_type": "code",
   "execution_count": 54,
   "id": "4ab7012d",
   "metadata": {},
   "outputs": [
    {
     "data": {
      "text/plain": [
       "True"
      ]
     },
     "execution_count": 54,
     "metadata": {},
     "output_type": "execute_result"
    }
   ],
   "source": [
    "__builtins__.max == max"
   ]
  },
  {
   "cell_type": "markdown",
   "id": "77571eab",
   "metadata": {},
   "source": [
    "The next section explains how this works ...\n",
    "\n",
    "### Name Resolution\n",
    "\n",
    "```{index} single: Python; Namespace (Resolution)\n",
    "```\n",
    "\n",
    "Namespaces are great because they help us organize variable names.\n",
    "\n",
    "(Type `import this` at the prompt and look at the last item that's printed)\n",
    "\n",
    "However, we do need to understand how the Python interpreter works with multiple namespaces .\n",
    "\n",
    "At any point of execution, there are in fact at least two namespaces that can be accessed directly.\n",
    "\n",
    "(\"Accessed directly\" means without using a dot, as in  `pi` rather than `math.pi`)\n",
    "\n",
    "These namespaces are\n",
    "\n",
    "* The global namespace (of the module being executed)\n",
    "* The builtin namespace\n",
    "\n",
    "If the interpreter is executing a function, then the directly accessible namespaces are\n",
    "\n",
    "* The local namespace of the function\n",
    "* The global namespace (of the module being executed)\n",
    "* The builtin namespace\n",
    "\n",
    "Sometimes functions are defined within other functions, like so"
   ]
  },
  {
   "cell_type": "code",
   "execution_count": 55,
   "id": "b7c53c6d",
   "metadata": {},
   "outputs": [],
   "source": [
    "def f():\n",
    "    a = 2\n",
    "    def g():\n",
    "        b = 4\n",
    "        print(a * b)\n",
    "    g()"
   ]
  },
  {
   "cell_type": "markdown",
   "id": "0f39c646",
   "metadata": {},
   "source": [
    "Here `f` is the *enclosing function* for `g`, and each function gets its\n",
    "own namespaces.\n",
    "\n",
    "Now we can give the rule for how namespace resolution works:\n",
    "\n",
    "The order in which the interpreter searches for names is\n",
    "\n",
    "1. the local namespace (if it exists)\n",
    "1. the hierarchy of enclosing namespaces (if they exist)\n",
    "1. the global namespace\n",
    "1. the builtin namespace\n",
    "\n",
    "If the name is not in any of these namespaces, the interpreter raises a `NameError`.\n",
    "\n",
    "This is called the **LEGB rule** (local, enclosing, global, builtin).\n",
    "\n",
    "Here's an example that helps to illustrate .\n",
    "\n",
    "Consider a script `test.py` that looks as follows"
   ]
  },
  {
   "cell_type": "code",
   "execution_count": 56,
   "id": "ad74cc7a",
   "metadata": {},
   "outputs": [
    {
     "name": "stdout",
     "output_type": "stream",
     "text": [
      "Writing test.py\n"
     ]
    }
   ],
   "source": [
    "%%file test.py\n",
    "def g(x):\n",
    "    a = 1\n",
    "    x = x + a\n",
    "    return x\n",
    "\n",
    "a = 0\n",
    "y = g(10)\n",
    "print(\"a = \", a, \"y = \", y)"
   ]
  },
  {
   "cell_type": "markdown",
   "id": "d3ef9fed",
   "metadata": {},
   "source": [
    "What happens when we run this script?"
   ]
  },
  {
   "cell_type": "code",
   "execution_count": 57,
   "id": "2b001360",
   "metadata": {},
   "outputs": [
    {
     "name": "stdout",
     "output_type": "stream",
     "text": [
      "a =  0 y =  11\n"
     ]
    }
   ],
   "source": [
    "%run test.py"
   ]
  },
  {
   "cell_type": "code",
   "execution_count": 58,
   "id": "b084012c",
   "metadata": {
    "tags": [
     "raises-exception"
    ]
   },
   "outputs": [
    {
     "data": {
      "text/plain": [
       "2"
      ]
     },
     "execution_count": 58,
     "metadata": {},
     "output_type": "execute_result"
    }
   ],
   "source": [
    "x"
   ]
  },
  {
   "cell_type": "markdown",
   "id": "9ed50c30",
   "metadata": {},
   "source": [
    "First,\n",
    "\n",
    "* The global namespace `{}` is created.\n",
    "* The function object is created, and `g` is bound to it within the global namespace.\n",
    "* The name `a` is bound to `0`, again in the global namespace.\n",
    "\n",
    "Next `g` is called via `y = g(10)`, leading to the following sequence of actions\n",
    "\n",
    "* The local namespace for the function is created.\n",
    "* Local names `x` and `a` are bound, so that the local namespace becomes `{'x': 10, 'a': 1}`.\n",
    "* Statement `x = x + a` uses the local `a` and local `x` to compute `x + a`, and binds local name `x` to the result.\n",
    "* This value is returned, and `y` is bound to it in the global namespace.\n",
    "* Local `x` and `a` are discarded (and the local namespace is deallocated).\n",
    "\n",
    "Note that the global `a` was not affected by the local `a`.\n",
    "\n",
    "(mutable_vs_immutable)=\n",
    "### {index}`Mutable <single: Mutable>` Versus {index}`Immutable <single: Immutable>` Parameters\n",
    "\n",
    "This is a good time to say a little more about mutable vs immutable objects.\n",
    "\n",
    "Consider the code segment"
   ]
  },
  {
   "cell_type": "code",
   "execution_count": 59,
   "id": "0d648282",
   "metadata": {},
   "outputs": [
    {
     "name": "stdout",
     "output_type": "stream",
     "text": [
      "2 1\n"
     ]
    }
   ],
   "source": [
    "def f(x):\n",
    "    x = x + 1\n",
    "    return x\n",
    "\n",
    "x = 1\n",
    "print(f(x), x)"
   ]
  },
  {
   "cell_type": "markdown",
   "id": "6a2c6ec0",
   "metadata": {},
   "source": [
    "We now understand what will happen here: The code prints `2` as the value of `f(x)` and `1` as the value of `x`.\n",
    "\n",
    "First `f` and `x` are registered in the global namespace.\n",
    "\n",
    "The call `f(x)` creates a local namespace and adds `x` to it, bound to `1`.\n",
    "\n",
    "Next, this local `x` is rebound to the new integer object `2`, and this value is returned.\n",
    "\n",
    "None of this affects the global `x`.\n",
    "\n",
    "However, it's a different story when we use a **mutable** data type such as a list"
   ]
  },
  {
   "cell_type": "code",
   "execution_count": 60,
   "id": "9eb60ebd",
   "metadata": {},
   "outputs": [
    {
     "name": "stdout",
     "output_type": "stream",
     "text": [
      "[2] [2]\n"
     ]
    }
   ],
   "source": [
    "def f(x):\n",
    "    x[0] = x[0] + 1\n",
    "    return x\n",
    "\n",
    "x = [1]\n",
    "print(f(x), x)"
   ]
  },
  {
   "cell_type": "markdown",
   "id": "bd8f2cd1",
   "metadata": {},
   "source": [
    "This prints `[2]` as the value of `f(x)` and *same* for `x`.\n",
    "\n",
    "Here's what happens\n",
    "\n",
    "* `f` is registered as a function in the global namespace\n",
    "* `x` bound to `[1]` in the global namespace\n",
    "* The call `f(x)`\n",
    "    * Creates a local namespace\n",
    "    * Adds `x` to local namespace, bound to `[1]`\n",
    "    * The list `[1]` is modified to `[2]`\n",
    "    * Returns the list `[2]`\n",
    "    * The local namespace is deallocated, and local `x` is lost\n",
    "* Global `x` has been modified\n",
    "\n",
    "## Handling Errors\n",
    "\n",
    "```{index} single: Python; Handling Errors\n",
    "```\n",
    "\n",
    "Sometimes it's possible to anticipate errors as we're writing code.\n",
    "\n",
    "For example, the unbiased sample variance of sample $y_1, \\ldots, y_n$\n",
    "is defined as\n",
    "\n",
    "$$\n",
    "s^2 := \\frac{1}{n-1} \\sum_{i=1}^n (y_i - \\bar y)^2\n",
    "\\qquad \\bar y = \\text{ sample mean}\n",
    "$$\n",
    "\n",
    "This can be calculated in NumPy using `np.var`.\n",
    "\n",
    "But if you were writing a function to handle such a calculation, you might\n",
    "anticipate a divide-by-zero error when the sample size is one.\n",
    "\n",
    "One possible action is to do nothing --- the program will just crash, and spit out an error message.\n",
    "\n",
    "But sometimes it's worth writing your code in a way that anticipates and deals with runtime errors that you think might arise.\n",
    "\n",
    "Why?\n",
    "\n",
    "* Because the debugging information provided by the interpreter is often less useful than the information\n",
    "  on possible errors you have in your head when writing code.\n",
    "* Because errors causing execution to stop are frustrating if you're in the middle of a large computation.\n",
    "* Because it reduces confidence in your code on the part of your users (if you are writing for others).\n",
    "\n",
    "### Assertions\n",
    "\n",
    "```{index} single: Python; Assertions\n",
    "```\n",
    "\n",
    "A relatively easy way to handle checks is with the `assert` keyword.\n",
    "\n",
    "For example, pretend for a moment that the `np.var` function doesn't\n",
    "exist and we need to write our own"
   ]
  },
  {
   "cell_type": "code",
   "execution_count": 61,
   "id": "8917c5fd",
   "metadata": {},
   "outputs": [],
   "source": [
    "def var(y):\n",
    "    n = len(y)\n",
    "    assert n > 1, 'Sample size must be greater than one.'\n",
    "    return np.sum((y - y.mean())**2) / float(n-1)"
   ]
  },
  {
   "cell_type": "markdown",
   "id": "a42cf461",
   "metadata": {},
   "source": [
    "If we run this with an array of length one, the program will terminate and\n",
    "print our error message"
   ]
  },
  {
   "cell_type": "code",
   "execution_count": 62,
   "id": "3acd2f75",
   "metadata": {
    "tags": [
     "raises-exception"
    ]
   },
   "outputs": [
    {
     "ename": "AssertionError",
     "evalue": "Sample size must be greater than one.",
     "output_type": "error",
     "traceback": [
      "\u001b[0;31m---------------------------------------------------------------------------\u001b[0m",
      "\u001b[0;31mAssertionError\u001b[0m                            Traceback (most recent call last)",
      "Input \u001b[0;32mIn [62]\u001b[0m, in \u001b[0;36m<cell line: 1>\u001b[0;34m()\u001b[0m\n\u001b[0;32m----> 1\u001b[0m \u001b[43mvar\u001b[49m\u001b[43m(\u001b[49m\u001b[43m[\u001b[49m\u001b[38;5;241;43m1\u001b[39;49m\u001b[43m]\u001b[49m\u001b[43m)\u001b[49m\n",
      "Input \u001b[0;32mIn [61]\u001b[0m, in \u001b[0;36mvar\u001b[0;34m(y)\u001b[0m\n\u001b[1;32m      1\u001b[0m \u001b[38;5;28;01mdef\u001b[39;00m \u001b[38;5;21mvar\u001b[39m(y):\n\u001b[1;32m      2\u001b[0m     n \u001b[38;5;241m=\u001b[39m \u001b[38;5;28mlen\u001b[39m(y)\n\u001b[0;32m----> 3\u001b[0m     \u001b[38;5;28;01massert\u001b[39;00m n \u001b[38;5;241m>\u001b[39m \u001b[38;5;241m1\u001b[39m, \u001b[38;5;124m'\u001b[39m\u001b[38;5;124mSample size must be greater than one.\u001b[39m\u001b[38;5;124m'\u001b[39m\n\u001b[1;32m      4\u001b[0m     \u001b[38;5;28;01mreturn\u001b[39;00m np\u001b[38;5;241m.\u001b[39msum((y \u001b[38;5;241m-\u001b[39m y\u001b[38;5;241m.\u001b[39mmean())\u001b[38;5;241m*\u001b[39m\u001b[38;5;241m*\u001b[39m\u001b[38;5;241m2\u001b[39m) \u001b[38;5;241m/\u001b[39m \u001b[38;5;28mfloat\u001b[39m(n\u001b[38;5;241m-\u001b[39m\u001b[38;5;241m1\u001b[39m)\n",
      "\u001b[0;31mAssertionError\u001b[0m: Sample size must be greater than one."
     ]
    }
   ],
   "source": [
    "var([1])"
   ]
  },
  {
   "cell_type": "markdown",
   "id": "515741d1",
   "metadata": {},
   "source": [
    "The advantage is that we can\n",
    "\n",
    "* fail early, as soon as we know there will be a problem\n",
    "* supply specific information on why a program is failing\n",
    "\n",
    "### Handling Errors During Runtime\n",
    "\n",
    "```{index} single: Python; Runtime Errors\n",
    "```\n",
    "\n",
    "The approach used above is a bit limited, because it always leads to\n",
    "termination.\n",
    "\n",
    "Sometimes we can handle errors more gracefully, by treating special cases.\n",
    "\n",
    "Let's look at how this is done.\n",
    "\n",
    "#### Exceptions\n",
    "\n",
    "```{index} single: Python; Exceptions\n",
    "```\n",
    "\n",
    "Here's an example of a common error type"
   ]
  },
  {
   "cell_type": "code",
   "execution_count": 63,
   "id": "6169ac4a",
   "metadata": {
    "tags": [
     "raises-exception"
    ]
   },
   "outputs": [
    {
     "ename": "SyntaxError",
     "evalue": "invalid syntax (2899452834.py, line 1)",
     "output_type": "error",
     "traceback": [
      "\u001b[0;36m  Input \u001b[0;32mIn [63]\u001b[0;36m\u001b[0m\n\u001b[0;31m    def f:\u001b[0m\n\u001b[0m         ^\u001b[0m\n\u001b[0;31mSyntaxError\u001b[0m\u001b[0;31m:\u001b[0m invalid syntax\n"
     ]
    }
   ],
   "source": [
    "def f:"
   ]
  },
  {
   "cell_type": "markdown",
   "id": "f04ccfbf",
   "metadata": {},
   "source": [
    "Since illegal syntax cannot be executed, a syntax error terminates execution of the program.\n",
    "\n",
    "Here's a different kind of error, unrelated to syntax"
   ]
  },
  {
   "cell_type": "code",
   "execution_count": 64,
   "id": "04e94a97",
   "metadata": {
    "tags": [
     "raises-exception"
    ]
   },
   "outputs": [
    {
     "ename": "ZeroDivisionError",
     "evalue": "division by zero",
     "output_type": "error",
     "traceback": [
      "\u001b[0;31m---------------------------------------------------------------------------\u001b[0m",
      "\u001b[0;31mZeroDivisionError\u001b[0m                         Traceback (most recent call last)",
      "Input \u001b[0;32mIn [64]\u001b[0m, in \u001b[0;36m<cell line: 1>\u001b[0;34m()\u001b[0m\n\u001b[0;32m----> 1\u001b[0m \u001b[38;5;241;43m1\u001b[39;49m\u001b[43m \u001b[49m\u001b[38;5;241;43m/\u001b[39;49m\u001b[43m \u001b[49m\u001b[38;5;241;43m0\u001b[39;49m\n",
      "\u001b[0;31mZeroDivisionError\u001b[0m: division by zero"
     ]
    }
   ],
   "source": [
    "1 / 0"
   ]
  },
  {
   "cell_type": "markdown",
   "id": "1c9bc841",
   "metadata": {},
   "source": [
    "Here's another"
   ]
  },
  {
   "cell_type": "code",
   "execution_count": 65,
   "id": "0157aa72",
   "metadata": {
    "tags": [
     "raises-exception"
    ]
   },
   "outputs": [
    {
     "ename": "NameError",
     "evalue": "name 'y1' is not defined",
     "output_type": "error",
     "traceback": [
      "\u001b[0;31m---------------------------------------------------------------------------\u001b[0m",
      "\u001b[0;31mNameError\u001b[0m                                 Traceback (most recent call last)",
      "Input \u001b[0;32mIn [65]\u001b[0m, in \u001b[0;36m<cell line: 1>\u001b[0;34m()\u001b[0m\n\u001b[0;32m----> 1\u001b[0m x1 \u001b[38;5;241m=\u001b[39m \u001b[43my1\u001b[49m\n",
      "\u001b[0;31mNameError\u001b[0m: name 'y1' is not defined"
     ]
    }
   ],
   "source": [
    "x1 = y1"
   ]
  },
  {
   "cell_type": "markdown",
   "id": "12c4c813",
   "metadata": {},
   "source": [
    "And another"
   ]
  },
  {
   "cell_type": "code",
   "execution_count": 66,
   "id": "33fc6fd0",
   "metadata": {
    "tags": [
     "raises-exception"
    ]
   },
   "outputs": [
    {
     "ename": "TypeError",
     "evalue": "can only concatenate str (not \"int\") to str",
     "output_type": "error",
     "traceback": [
      "\u001b[0;31m---------------------------------------------------------------------------\u001b[0m",
      "\u001b[0;31mTypeError\u001b[0m                                 Traceback (most recent call last)",
      "Input \u001b[0;32mIn [66]\u001b[0m, in \u001b[0;36m<cell line: 1>\u001b[0;34m()\u001b[0m\n\u001b[0;32m----> 1\u001b[0m \u001b[38;5;124;43m'\u001b[39;49m\u001b[38;5;124;43mfoo\u001b[39;49m\u001b[38;5;124;43m'\u001b[39;49m\u001b[43m \u001b[49m\u001b[38;5;241;43m+\u001b[39;49m\u001b[43m \u001b[49m\u001b[38;5;241;43m6\u001b[39;49m\n",
      "\u001b[0;31mTypeError\u001b[0m: can only concatenate str (not \"int\") to str"
     ]
    }
   ],
   "source": [
    "'foo' + 6"
   ]
  },
  {
   "cell_type": "markdown",
   "id": "8d246701",
   "metadata": {},
   "source": [
    "And another"
   ]
  },
  {
   "cell_type": "code",
   "execution_count": 67,
   "id": "fe57825f",
   "metadata": {
    "tags": [
     "raises-exception"
    ]
   },
   "outputs": [
    {
     "ename": "IndexError",
     "evalue": "list index out of range",
     "output_type": "error",
     "traceback": [
      "\u001b[0;31m---------------------------------------------------------------------------\u001b[0m",
      "\u001b[0;31mIndexError\u001b[0m                                Traceback (most recent call last)",
      "Input \u001b[0;32mIn [67]\u001b[0m, in \u001b[0;36m<cell line: 2>\u001b[0;34m()\u001b[0m\n\u001b[1;32m      1\u001b[0m X \u001b[38;5;241m=\u001b[39m []\n\u001b[0;32m----> 2\u001b[0m x \u001b[38;5;241m=\u001b[39m \u001b[43mX\u001b[49m\u001b[43m[\u001b[49m\u001b[38;5;241;43m0\u001b[39;49m\u001b[43m]\u001b[49m\n",
      "\u001b[0;31mIndexError\u001b[0m: list index out of range"
     ]
    }
   ],
   "source": [
    "X = []\n",
    "x = X[0]"
   ]
  },
  {
   "cell_type": "markdown",
   "id": "a0b27383",
   "metadata": {},
   "source": [
    "On each occasion, the interpreter informs us of the error type\n",
    "\n",
    "* `NameError`, `TypeError`, `IndexError`, `ZeroDivisionError`, etc.\n",
    "\n",
    "In Python, these errors are called *exceptions*.\n",
    "\n",
    "#### Catching Exceptions\n",
    "\n",
    "We can catch and deal with exceptions using `try` -- `except` blocks.\n",
    "\n",
    "Here's a simple example"
   ]
  },
  {
   "cell_type": "code",
   "execution_count": 68,
   "id": "4a514606",
   "metadata": {},
   "outputs": [],
   "source": [
    "def f(x):\n",
    "    try:\n",
    "        return 1.0 / x\n",
    "    except ZeroDivisionError:\n",
    "        print('Error: division by zero.  Returned None')\n",
    "    return None"
   ]
  },
  {
   "cell_type": "markdown",
   "id": "18ebdb29",
   "metadata": {},
   "source": [
    "When we call `f` we get the following output"
   ]
  },
  {
   "cell_type": "code",
   "execution_count": 69,
   "id": "4b1bdb79",
   "metadata": {},
   "outputs": [
    {
     "data": {
      "text/plain": [
       "0.5"
      ]
     },
     "execution_count": 69,
     "metadata": {},
     "output_type": "execute_result"
    }
   ],
   "source": [
    "f(2)"
   ]
  },
  {
   "cell_type": "code",
   "execution_count": 70,
   "id": "65df002c",
   "metadata": {},
   "outputs": [
    {
     "name": "stdout",
     "output_type": "stream",
     "text": [
      "Error: division by zero.  Returned None\n"
     ]
    }
   ],
   "source": [
    "f(0)"
   ]
  },
  {
   "cell_type": "code",
   "execution_count": 71,
   "id": "f4ee4063",
   "metadata": {},
   "outputs": [
    {
     "name": "stdout",
     "output_type": "stream",
     "text": [
      "Error: division by zero.  Returned None\n"
     ]
    }
   ],
   "source": [
    "f(0.0)"
   ]
  },
  {
   "cell_type": "markdown",
   "id": "7c143a6b",
   "metadata": {},
   "source": [
    "The error is caught and execution of the program is not terminated.\n",
    "\n",
    "Note that other error types are not caught.\n",
    "\n",
    "If we are worried the user might pass in a string, we can catch that error too"
   ]
  },
  {
   "cell_type": "code",
   "execution_count": 72,
   "id": "02f8470d",
   "metadata": {},
   "outputs": [],
   "source": [
    "def f(x):\n",
    "    try:\n",
    "        return 1.0 / x\n",
    "    except ZeroDivisionError:\n",
    "        print('Error: Division by zero.  Returned None')\n",
    "    except TypeError:\n",
    "        print('Error: Unsupported operation.  Returned None')\n",
    "    return None"
   ]
  },
  {
   "cell_type": "markdown",
   "id": "fdfdc053",
   "metadata": {},
   "source": [
    "Here's what happens"
   ]
  },
  {
   "cell_type": "code",
   "execution_count": 73,
   "id": "196bf375",
   "metadata": {},
   "outputs": [
    {
     "data": {
      "text/plain": [
       "0.5"
      ]
     },
     "execution_count": 73,
     "metadata": {},
     "output_type": "execute_result"
    }
   ],
   "source": [
    "f(2)"
   ]
  },
  {
   "cell_type": "code",
   "execution_count": 74,
   "id": "578c59ae",
   "metadata": {},
   "outputs": [
    {
     "name": "stdout",
     "output_type": "stream",
     "text": [
      "Error: Division by zero.  Returned None\n"
     ]
    }
   ],
   "source": [
    "f(0)"
   ]
  },
  {
   "cell_type": "code",
   "execution_count": 75,
   "id": "90558693",
   "metadata": {},
   "outputs": [
    {
     "name": "stdout",
     "output_type": "stream",
     "text": [
      "Error: Unsupported operation.  Returned None\n"
     ]
    }
   ],
   "source": [
    "f('foo')"
   ]
  },
  {
   "cell_type": "markdown",
   "id": "b15f4c87",
   "metadata": {},
   "source": [
    "If we feel lazy we can catch these errors together"
   ]
  },
  {
   "cell_type": "code",
   "execution_count": 76,
   "id": "4d79d727",
   "metadata": {},
   "outputs": [],
   "source": [
    "def f(x):\n",
    "    try:\n",
    "        return 1.0 / x\n",
    "    except (TypeError, ZeroDivisionError):\n",
    "        print('Error: Unsupported operation.  Returned None')\n",
    "    return None"
   ]
  },
  {
   "cell_type": "markdown",
   "id": "a60c7961",
   "metadata": {},
   "source": [
    "Here's what happens"
   ]
  },
  {
   "cell_type": "code",
   "execution_count": 77,
   "id": "adf2d255",
   "metadata": {},
   "outputs": [
    {
     "data": {
      "text/plain": [
       "0.5"
      ]
     },
     "execution_count": 77,
     "metadata": {},
     "output_type": "execute_result"
    }
   ],
   "source": [
    "f(2)"
   ]
  },
  {
   "cell_type": "code",
   "execution_count": 78,
   "id": "1268b4cc",
   "metadata": {},
   "outputs": [
    {
     "name": "stdout",
     "output_type": "stream",
     "text": [
      "Error: Unsupported operation.  Returned None\n"
     ]
    }
   ],
   "source": [
    "f(0)"
   ]
  },
  {
   "cell_type": "code",
   "execution_count": 79,
   "id": "cb7900a7",
   "metadata": {},
   "outputs": [
    {
     "name": "stdout",
     "output_type": "stream",
     "text": [
      "Error: Unsupported operation.  Returned None\n"
     ]
    }
   ],
   "source": [
    "f('foo')"
   ]
  },
  {
   "cell_type": "markdown",
   "id": "816f27ed",
   "metadata": {},
   "source": [
    "If we feel extra lazy we can catch all error types as follows"
   ]
  },
  {
   "cell_type": "code",
   "execution_count": 80,
   "id": "ed756372",
   "metadata": {},
   "outputs": [],
   "source": [
    "def f(x):\n",
    "    try:\n",
    "        return 1.0 / x\n",
    "    except:\n",
    "        print('Error.  Returned None')\n",
    "    return None"
   ]
  },
  {
   "cell_type": "markdown",
   "id": "47dda7dd",
   "metadata": {},
   "source": [
    "In general it's better to be specific.\n",
    "\n",
    "## Decorators and Descriptors\n",
    "\n",
    "```{index} single: Python; Decorators\n",
    "```\n",
    "\n",
    "```{index} single: Python; Descriptors\n",
    "```\n",
    "\n",
    "Let's look at some special syntax elements that are routinely used by Python developers.\n",
    "\n",
    "You might not need the following concepts immediately, but you will see them\n",
    "in other people's code.\n",
    "\n",
    "Hence you need to understand them at some stage of your Python education.\n",
    "\n",
    "### Decorators\n",
    "\n",
    "```{index} single: Python; Decorators\n",
    "```\n",
    "\n",
    "Decorators are a bit of syntactic sugar that, while easily avoided, have turned out to be popular.\n",
    "\n",
    "It's very easy to say what decorators do.\n",
    "\n",
    "On the other hand it takes a bit of effort to explain *why* you might use them.\n",
    "\n",
    "#### An Example\n",
    "\n",
    "Suppose we are working on a program that looks something like this"
   ]
  },
  {
   "cell_type": "code",
   "execution_count": 81,
   "id": "6e699d4d",
   "metadata": {},
   "outputs": [],
   "source": [
    "import numpy as np\n",
    "\n",
    "def f(x):\n",
    "    return np.log(np.log(x))\n",
    "\n",
    "def g(x):\n",
    "    return np.sqrt(42 * x)\n",
    "\n",
    "# Program continues with various calculations using f and g"
   ]
  },
  {
   "cell_type": "markdown",
   "id": "09cae086",
   "metadata": {},
   "source": [
    "Now suppose there's a problem: occasionally negative numbers get fed to `f` and `g` in the calculations that follow.\n",
    "\n",
    "If you try it, you'll see that when these functions are called with negative numbers they return a NumPy object called `nan` .\n",
    "\n",
    "This stands for \"not a number\" (and indicates that you are trying to evaluate\n",
    "a mathematical function at a point where it is not defined).\n",
    "\n",
    "Perhaps this isn't what we want, because it causes other problems that are hard to pick up later on.\n",
    "\n",
    "Suppose that instead we want the program to terminate whenever this happens, with a sensible error message.\n",
    "\n",
    "This change is easy enough to implement"
   ]
  },
  {
   "cell_type": "code",
   "execution_count": 82,
   "id": "cc370e50",
   "metadata": {},
   "outputs": [],
   "source": [
    "import numpy as np\n",
    "\n",
    "def f(x):\n",
    "    assert x >= 0, \"Argument must be nonnegative\"\n",
    "    return np.log(np.log(x))\n",
    "\n",
    "def g(x):\n",
    "    assert x >= 0, \"Argument must be nonnegative\"\n",
    "    return np.sqrt(42 * x)\n",
    "\n",
    "# Program continues with various calculations using f and g"
   ]
  },
  {
   "cell_type": "markdown",
   "id": "43f24a26",
   "metadata": {},
   "source": [
    "Notice however that there is some repetition here, in the form of two identical lines of code.\n",
    "\n",
    "Repetition makes our code longer and harder to maintain, and hence is\n",
    "something we try hard to avoid.\n",
    "\n",
    "Here it's not a big deal, but imagine now that instead of just `f` and `g`, we have 20 such functions that we need to modify in exactly the same way.\n",
    "\n",
    "This means we need to repeat the test logic (i.e., the `assert` line testing nonnegativity) 20 times.\n",
    "\n",
    "The situation is still worse if the test logic is longer and more complicated.\n",
    "\n",
    "In this kind of scenario the following approach would be neater"
   ]
  },
  {
   "cell_type": "code",
   "execution_count": 83,
   "id": "f24ae1d1",
   "metadata": {},
   "outputs": [],
   "source": [
    "import numpy as np\n",
    "\n",
    "def check_nonneg(func):\n",
    "    def safe_function(x):\n",
    "        assert x >= 0, \"Argument must be nonnegative\"\n",
    "        return func(x)\n",
    "    return safe_function\n",
    "\n",
    "def f(x):\n",
    "    return np.log(np.log(x))\n",
    "\n",
    "def g(x):\n",
    "    return np.sqrt(42 * x)\n",
    "\n",
    "f = check_nonneg(f)\n",
    "g = check_nonneg(g)\n",
    "# Program continues with various calculations using f and g"
   ]
  },
  {
   "cell_type": "markdown",
   "id": "307be6cb",
   "metadata": {},
   "source": [
    "This looks complicated so let's work through it slowly.\n",
    "\n",
    "To unravel the logic, consider what happens when we say `f = check_nonneg(f)`.\n",
    "\n",
    "This calls the function `check_nonneg` with parameter `func` set equal to `f`.\n",
    "\n",
    "Now `check_nonneg` creates a new function called `safe_function` that\n",
    "verifies `x` as nonnegative and then calls `func` on it (which is the same as `f`).\n",
    "\n",
    "Finally, the global name `f` is then set equal to `safe_function`.\n",
    "\n",
    "Now the behavior of `f` is as we desire, and the same is true of `g`.\n",
    "\n",
    "At the same time, the test logic is written only once.\n",
    "\n",
    "#### Enter Decorators\n",
    "\n",
    "```{index} single: Python; Decorators\n",
    "```\n",
    "\n",
    "The last version of our code is still not ideal.\n",
    "\n",
    "For example, if someone is reading our code and wants to know how\n",
    "`f` works, they will be looking for the function definition, which is"
   ]
  },
  {
   "cell_type": "code",
   "execution_count": 84,
   "id": "c5d2ac3d",
   "metadata": {},
   "outputs": [],
   "source": [
    "def f(x):\n",
    "    return np.log(np.log(x))"
   ]
  },
  {
   "cell_type": "markdown",
   "id": "18ed3462",
   "metadata": {},
   "source": [
    "They may well miss the line `f = check_nonneg(f)`.\n",
    "\n",
    "For this and other reasons, decorators were introduced to Python.\n",
    "\n",
    "With decorators, we can replace the lines"
   ]
  },
  {
   "cell_type": "code",
   "execution_count": 85,
   "id": "29f5ad9b",
   "metadata": {},
   "outputs": [],
   "source": [
    "def f(x):\n",
    "    return np.log(np.log(x))\n",
    "\n",
    "def g(x):\n",
    "    return np.sqrt(42 * x)\n",
    "\n",
    "f = check_nonneg(f)\n",
    "g = check_nonneg(g)"
   ]
  },
  {
   "cell_type": "markdown",
   "id": "34a79ac6",
   "metadata": {},
   "source": [
    "with"
   ]
  },
  {
   "cell_type": "code",
   "execution_count": 86,
   "id": "8bcfe2ad",
   "metadata": {},
   "outputs": [],
   "source": [
    "@check_nonneg\n",
    "def f(x):\n",
    "    return np.log(np.log(x))\n",
    "\n",
    "@check_nonneg\n",
    "def g(x):\n",
    "    return np.sqrt(42 * x)"
   ]
  },
  {
   "cell_type": "markdown",
   "id": "987521f1",
   "metadata": {},
   "source": [
    "These two pieces of code do exactly the same thing.\n",
    "\n",
    "If they do the same thing, do we really need decorator syntax?\n",
    "\n",
    "Well, notice that the decorators sit right on top of the function definitions.\n",
    "\n",
    "Hence anyone looking at the definition of the function will see them and be\n",
    "aware that the function is modified.\n",
    "\n",
    "In the opinion of many people, this makes the decorator syntax a significant improvement to the language.\n",
    "\n",
    "(descriptors)=\n",
    "### Descriptors\n",
    "\n",
    "```{index} single: Python; Descriptors\n",
    "```\n",
    "\n",
    "Descriptors solve a common problem regarding management of variables.\n",
    "\n",
    "To understand the issue, consider a `Car` class, that simulates a car.\n",
    "\n",
    "Suppose that this class defines the variables `miles` and `kms`, which give the distance traveled in miles\n",
    "and kilometers respectively.\n",
    "\n",
    "A highly simplified version of the class might look as follows"
   ]
  },
  {
   "cell_type": "code",
   "execution_count": 87,
   "id": "72e9133c",
   "metadata": {},
   "outputs": [],
   "source": [
    "class Car:\n",
    "\n",
    "    def __init__(self, miles=1000):\n",
    "        self.miles = miles\n",
    "        self.kms = miles * 1.61\n",
    "\n",
    "    # Some other functionality, details omitted"
   ]
  },
  {
   "cell_type": "markdown",
   "id": "e7db3c67",
   "metadata": {},
   "source": [
    "One potential problem we might have here is that a user alters one of these\n",
    "variables but not the other"
   ]
  },
  {
   "cell_type": "code",
   "execution_count": 88,
   "id": "4a48353d",
   "metadata": {},
   "outputs": [
    {
     "data": {
      "text/plain": [
       "1000"
      ]
     },
     "execution_count": 88,
     "metadata": {},
     "output_type": "execute_result"
    }
   ],
   "source": [
    "car = Car()\n",
    "car.miles"
   ]
  },
  {
   "cell_type": "code",
   "execution_count": 89,
   "id": "66d3673f",
   "metadata": {},
   "outputs": [
    {
     "data": {
      "text/plain": [
       "1610.0"
      ]
     },
     "execution_count": 89,
     "metadata": {},
     "output_type": "execute_result"
    }
   ],
   "source": [
    "car.kms"
   ]
  },
  {
   "cell_type": "code",
   "execution_count": 90,
   "id": "7788564c",
   "metadata": {},
   "outputs": [
    {
     "data": {
      "text/plain": [
       "1610.0"
      ]
     },
     "execution_count": 90,
     "metadata": {},
     "output_type": "execute_result"
    }
   ],
   "source": [
    "car.miles = 6000\n",
    "car.kms"
   ]
  },
  {
   "cell_type": "markdown",
   "id": "bc273873",
   "metadata": {},
   "source": [
    "In the last two lines we see that `miles` and `kms` are out of sync.\n",
    "\n",
    "What we really want is some mechanism whereby each time a user sets one of these variables, *the other is automatically updated*.\n",
    "\n",
    "#### A Solution\n",
    "\n",
    "In Python, this issue is solved using *descriptors*.\n",
    "\n",
    "A descriptor is just a Python object that implements certain methods.\n",
    "\n",
    "These methods are triggered when the object is accessed through dotted attribute notation.\n",
    "\n",
    "The best way to understand this is to see it in action.\n",
    "\n",
    "Consider this alternative version of the `Car` class"
   ]
  },
  {
   "cell_type": "code",
   "execution_count": 91,
   "id": "74767095",
   "metadata": {},
   "outputs": [],
   "source": [
    "class Car:\n",
    "\n",
    "    def __init__(self, miles=1000):\n",
    "        self._miles = miles\n",
    "        self._kms = miles * 1.61\n",
    "\n",
    "    def set_miles(self, value):\n",
    "        self._miles = value\n",
    "        self._kms = value * 1.61\n",
    "\n",
    "    def set_kms(self, value):\n",
    "        self._kms = value\n",
    "        self._miles = value / 1.61\n",
    "\n",
    "    def get_miles(self):\n",
    "        return self._miles\n",
    "\n",
    "    def get_kms(self):\n",
    "        return self._kms\n",
    "\n",
    "    miles = property(get_miles, set_miles)\n",
    "    kms = property(get_kms, set_kms)"
   ]
  },
  {
   "cell_type": "markdown",
   "id": "8c04a080",
   "metadata": {},
   "source": [
    "First let's check that we get the desired behavior"
   ]
  },
  {
   "cell_type": "code",
   "execution_count": 92,
   "id": "ffe02c01",
   "metadata": {},
   "outputs": [
    {
     "data": {
      "text/plain": [
       "1000"
      ]
     },
     "execution_count": 92,
     "metadata": {},
     "output_type": "execute_result"
    }
   ],
   "source": [
    "car = Car()\n",
    "car.miles"
   ]
  },
  {
   "cell_type": "code",
   "execution_count": 93,
   "id": "c4d661ad",
   "metadata": {},
   "outputs": [
    {
     "data": {
      "text/plain": [
       "9660.0"
      ]
     },
     "execution_count": 93,
     "metadata": {},
     "output_type": "execute_result"
    }
   ],
   "source": [
    "car.miles = 6000\n",
    "car.kms"
   ]
  },
  {
   "cell_type": "markdown",
   "id": "7c7597c3",
   "metadata": {},
   "source": [
    "Yep, that's what we want --- `car.kms` is automatically updated.\n",
    "\n",
    "#### How it Works\n",
    "\n",
    "The names `_miles` and `_kms` are arbitrary names we are using to store the values of the variables.\n",
    "\n",
    "The objects `miles` and `kms` are *properties*, a common kind of descriptor.\n",
    "\n",
    "The methods `get_miles`, `set_miles`, `get_kms` and `set_kms` define\n",
    "what happens when you get (i.e. access) or set (bind) these variables\n",
    "\n",
    "* So-called \"getter\" and \"setter\" methods.\n",
    "\n",
    "The builtin Python function `property` takes getter and setter methods and creates a property.\n",
    "\n",
    "For example, after `car` is created as an instance of `Car`, the object `car.miles` is a property.\n",
    "\n",
    "Being a property, when we set its value via `car.miles = 6000` its setter\n",
    "method is triggered --- in this case `set_miles`.\n",
    "\n",
    "#### Decorators and Properties\n",
    "\n",
    "```{index} single: Python; Decorators\n",
    "```\n",
    "\n",
    "```{index} single: Python; Properties\n",
    "```\n",
    "\n",
    "These days its very common to see the `property` function used via a decorator.\n",
    "\n",
    "Here's another version of our `Car` class that works as before but now uses\n",
    "decorators to set up the properties"
   ]
  },
  {
   "cell_type": "code",
   "execution_count": 94,
   "id": "981222a2",
   "metadata": {},
   "outputs": [],
   "source": [
    "class Car:\n",
    "\n",
    "    def __init__(self, miles=1000):\n",
    "        self._miles = miles\n",
    "        self._kms = miles * 1.61\n",
    "\n",
    "    @property\n",
    "    def miles(self):\n",
    "        return self._miles\n",
    "\n",
    "    @property\n",
    "    def kms(self):\n",
    "        return self._kms\n",
    "\n",
    "    @miles.setter\n",
    "    def miles(self, value):\n",
    "        self._miles = value\n",
    "        self._kms = value * 1.61\n",
    "\n",
    "    @kms.setter\n",
    "    def kms(self, value):\n",
    "        self._kms = value\n",
    "        self._miles = value / 1.61"
   ]
  },
  {
   "cell_type": "markdown",
   "id": "a2ea57c5",
   "metadata": {},
   "source": [
    "We won't go through all the details here.\n",
    "\n",
    "For further information you can refer to the [descriptor documentation](https://docs.python.org/3/howto/descriptor.html).\n",
    "\n",
    "(paf_generators)=\n",
    "## Generators\n",
    "\n",
    "```{index} single: Python; Generators\n",
    "```\n",
    "\n",
    "A generator is a kind of iterator (i.e., it works with a `next` function).\n",
    "\n",
    "We will study two ways to build generators: generator expressions and generator functions.\n",
    "\n",
    "### Generator Expressions\n",
    "\n",
    "The easiest way to build generators is using *generator expressions*.\n",
    "\n",
    "Just like a list comprehension, but with round brackets.\n",
    "\n",
    "Here is the list comprehension:"
   ]
  },
  {
   "cell_type": "code",
   "execution_count": 95,
   "id": "645704e2",
   "metadata": {},
   "outputs": [
    {
     "data": {
      "text/plain": [
       "tuple"
      ]
     },
     "execution_count": 95,
     "metadata": {},
     "output_type": "execute_result"
    }
   ],
   "source": [
    "singular = ('dog', 'cat', 'bird')\n",
    "type(singular)"
   ]
  },
  {
   "cell_type": "code",
   "execution_count": 96,
   "id": "660b02c4",
   "metadata": {},
   "outputs": [
    {
     "data": {
      "text/plain": [
       "['dogs', 'cats', 'birds']"
      ]
     },
     "execution_count": 96,
     "metadata": {},
     "output_type": "execute_result"
    }
   ],
   "source": [
    "plural = [string + 's' for string in singular]\n",
    "plural"
   ]
  },
  {
   "cell_type": "code",
   "execution_count": 97,
   "id": "e9073568",
   "metadata": {},
   "outputs": [
    {
     "data": {
      "text/plain": [
       "list"
      ]
     },
     "execution_count": 97,
     "metadata": {},
     "output_type": "execute_result"
    }
   ],
   "source": [
    "type(plural)"
   ]
  },
  {
   "cell_type": "markdown",
   "id": "2218ad2c",
   "metadata": {},
   "source": [
    "And here is the generator expression"
   ]
  },
  {
   "cell_type": "code",
   "execution_count": 98,
   "id": "88b988e5",
   "metadata": {},
   "outputs": [
    {
     "data": {
      "text/plain": [
       "generator"
      ]
     },
     "execution_count": 98,
     "metadata": {},
     "output_type": "execute_result"
    }
   ],
   "source": [
    "singular = ('dog', 'cat', 'bird')\n",
    "plural = (string + 's' for string in singular)\n",
    "type(plural)"
   ]
  },
  {
   "cell_type": "code",
   "execution_count": 99,
   "id": "e8939e00",
   "metadata": {},
   "outputs": [
    {
     "data": {
      "text/plain": [
       "'dogs'"
      ]
     },
     "execution_count": 99,
     "metadata": {},
     "output_type": "execute_result"
    }
   ],
   "source": [
    "next(plural)"
   ]
  },
  {
   "cell_type": "code",
   "execution_count": 100,
   "id": "992bb966",
   "metadata": {},
   "outputs": [
    {
     "data": {
      "text/plain": [
       "'cats'"
      ]
     },
     "execution_count": 100,
     "metadata": {},
     "output_type": "execute_result"
    }
   ],
   "source": [
    "next(plural)"
   ]
  },
  {
   "cell_type": "code",
   "execution_count": 101,
   "id": "c34e3031",
   "metadata": {},
   "outputs": [
    {
     "data": {
      "text/plain": [
       "'birds'"
      ]
     },
     "execution_count": 101,
     "metadata": {},
     "output_type": "execute_result"
    }
   ],
   "source": [
    "next(plural)"
   ]
  },
  {
   "cell_type": "markdown",
   "id": "17100a78",
   "metadata": {},
   "source": [
    "Since `sum()` can be called on iterators, we can do this"
   ]
  },
  {
   "cell_type": "code",
   "execution_count": 102,
   "id": "7809534b",
   "metadata": {},
   "outputs": [
    {
     "data": {
      "text/plain": [
       "285"
      ]
     },
     "execution_count": 102,
     "metadata": {},
     "output_type": "execute_result"
    }
   ],
   "source": [
    "sum((x * x for x in range(10)))"
   ]
  },
  {
   "cell_type": "markdown",
   "id": "3e47e93d",
   "metadata": {},
   "source": [
    "The function `sum()` calls `next()` to get the items, adds successive terms.\n",
    "\n",
    "In fact, we can omit the outer brackets in this case"
   ]
  },
  {
   "cell_type": "code",
   "execution_count": 103,
   "id": "a349535f",
   "metadata": {},
   "outputs": [
    {
     "data": {
      "text/plain": [
       "285"
      ]
     },
     "execution_count": 103,
     "metadata": {},
     "output_type": "execute_result"
    }
   ],
   "source": [
    "sum(x * x for x in range(10))"
   ]
  },
  {
   "cell_type": "markdown",
   "id": "617eae00",
   "metadata": {},
   "source": [
    "### Generator Functions\n",
    "\n",
    "```{index} single: Python; Generator Functions\n",
    "```\n",
    "\n",
    "The most flexible way to create generator objects is to use generator functions.\n",
    "\n",
    "Let's look at some examples.\n",
    "\n",
    "#### Example 1\n",
    "\n",
    "Here's a very simple example of a generator function"
   ]
  },
  {
   "cell_type": "code",
   "execution_count": 104,
   "id": "184398b2",
   "metadata": {},
   "outputs": [],
   "source": [
    "def f():\n",
    "    yield 'start'\n",
    "    yield 'middle'\n",
    "    yield 'end'"
   ]
  },
  {
   "cell_type": "markdown",
   "id": "63ce50fa",
   "metadata": {},
   "source": [
    "It looks like a function, but uses a keyword `yield` that we haven't met before.\n",
    "\n",
    "Let's see how it works after running this code"
   ]
  },
  {
   "cell_type": "code",
   "execution_count": 105,
   "id": "3a51b641",
   "metadata": {},
   "outputs": [
    {
     "data": {
      "text/plain": [
       "function"
      ]
     },
     "execution_count": 105,
     "metadata": {},
     "output_type": "execute_result"
    }
   ],
   "source": [
    "type(f)"
   ]
  },
  {
   "cell_type": "code",
   "execution_count": 106,
   "id": "741ee408",
   "metadata": {},
   "outputs": [
    {
     "data": {
      "text/plain": [
       "<generator object f at 0x7fd0cd54a430>"
      ]
     },
     "execution_count": 106,
     "metadata": {},
     "output_type": "execute_result"
    }
   ],
   "source": [
    "gen = f()\n",
    "gen"
   ]
  },
  {
   "cell_type": "code",
   "execution_count": 107,
   "id": "692f0c81",
   "metadata": {},
   "outputs": [
    {
     "data": {
      "text/plain": [
       "'start'"
      ]
     },
     "execution_count": 107,
     "metadata": {},
     "output_type": "execute_result"
    }
   ],
   "source": [
    "next(gen)"
   ]
  },
  {
   "cell_type": "code",
   "execution_count": 108,
   "id": "e5092b9d",
   "metadata": {},
   "outputs": [
    {
     "data": {
      "text/plain": [
       "'middle'"
      ]
     },
     "execution_count": 108,
     "metadata": {},
     "output_type": "execute_result"
    }
   ],
   "source": [
    "next(gen)"
   ]
  },
  {
   "cell_type": "code",
   "execution_count": 109,
   "id": "157536ad",
   "metadata": {},
   "outputs": [
    {
     "data": {
      "text/plain": [
       "'end'"
      ]
     },
     "execution_count": 109,
     "metadata": {},
     "output_type": "execute_result"
    }
   ],
   "source": [
    "next(gen)"
   ]
  },
  {
   "cell_type": "code",
   "execution_count": 110,
   "id": "36d32a20",
   "metadata": {
    "tags": [
     "raises-exception"
    ]
   },
   "outputs": [
    {
     "ename": "StopIteration",
     "evalue": "",
     "output_type": "error",
     "traceback": [
      "\u001b[0;31m---------------------------------------------------------------------------\u001b[0m",
      "\u001b[0;31mStopIteration\u001b[0m                             Traceback (most recent call last)",
      "Input \u001b[0;32mIn [110]\u001b[0m, in \u001b[0;36m<cell line: 1>\u001b[0;34m()\u001b[0m\n\u001b[0;32m----> 1\u001b[0m \u001b[38;5;28;43mnext\u001b[39;49m\u001b[43m(\u001b[49m\u001b[43mgen\u001b[49m\u001b[43m)\u001b[49m\n",
      "\u001b[0;31mStopIteration\u001b[0m: "
     ]
    }
   ],
   "source": [
    "next(gen)"
   ]
  },
  {
   "cell_type": "markdown",
   "id": "7a99f618",
   "metadata": {},
   "source": [
    "The generator function `f()` is used to create generator objects (in this case `gen`).\n",
    "\n",
    "Generators are iterators, because they support a `next` method.\n",
    "\n",
    "The first call to `next(gen)`\n",
    "\n",
    "* Executes code in the body of `f()` until it meets a `yield` statement.\n",
    "* Returns that value to the caller of `next(gen)`.\n",
    "\n",
    "The second call to `next(gen)` starts executing *from the next line*"
   ]
  },
  {
   "cell_type": "code",
   "execution_count": 111,
   "id": "091a00b9",
   "metadata": {},
   "outputs": [],
   "source": [
    "def f():\n",
    "    yield 'start'\n",
    "    yield 'middle'  # This line!\n",
    "    yield 'end'"
   ]
  },
  {
   "cell_type": "markdown",
   "id": "4a072f03",
   "metadata": {},
   "source": [
    "and continues until the next `yield` statement.\n",
    "\n",
    "At that point it returns the value following `yield` to the caller of `next(gen)`, and so on.\n",
    "\n",
    "When the code block ends, the generator throws a `StopIteration` error.\n",
    "\n",
    "#### Example 2\n",
    "\n",
    "Our next example receives an argument `x` from the caller"
   ]
  },
  {
   "cell_type": "code",
   "execution_count": 112,
   "id": "c21d0263",
   "metadata": {},
   "outputs": [],
   "source": [
    "def g(x):\n",
    "    while x < 100:\n",
    "        yield x\n",
    "        x = x * x"
   ]
  },
  {
   "cell_type": "markdown",
   "id": "d2996822",
   "metadata": {},
   "source": [
    "Let's see how it works"
   ]
  },
  {
   "cell_type": "code",
   "execution_count": 113,
   "id": "c03fe1ff",
   "metadata": {},
   "outputs": [
    {
     "data": {
      "text/plain": [
       "<function __main__.g(x)>"
      ]
     },
     "execution_count": 113,
     "metadata": {},
     "output_type": "execute_result"
    }
   ],
   "source": [
    "g"
   ]
  },
  {
   "cell_type": "code",
   "execution_count": 114,
   "id": "a4848da8",
   "metadata": {},
   "outputs": [
    {
     "data": {
      "text/plain": [
       "generator"
      ]
     },
     "execution_count": 114,
     "metadata": {},
     "output_type": "execute_result"
    }
   ],
   "source": [
    "gen = g(2)\n",
    "type(gen)"
   ]
  },
  {
   "cell_type": "code",
   "execution_count": 115,
   "id": "3f917037",
   "metadata": {},
   "outputs": [
    {
     "data": {
      "text/plain": [
       "2"
      ]
     },
     "execution_count": 115,
     "metadata": {},
     "output_type": "execute_result"
    }
   ],
   "source": [
    "next(gen)"
   ]
  },
  {
   "cell_type": "code",
   "execution_count": 116,
   "id": "f98ebc29",
   "metadata": {},
   "outputs": [
    {
     "data": {
      "text/plain": [
       "4"
      ]
     },
     "execution_count": 116,
     "metadata": {},
     "output_type": "execute_result"
    }
   ],
   "source": [
    "next(gen)"
   ]
  },
  {
   "cell_type": "code",
   "execution_count": 117,
   "id": "529e496c",
   "metadata": {},
   "outputs": [
    {
     "data": {
      "text/plain": [
       "16"
      ]
     },
     "execution_count": 117,
     "metadata": {},
     "output_type": "execute_result"
    }
   ],
   "source": [
    "next(gen)"
   ]
  },
  {
   "cell_type": "code",
   "execution_count": 118,
   "id": "90923a48",
   "metadata": {
    "tags": [
     "raises-exception"
    ]
   },
   "outputs": [
    {
     "ename": "StopIteration",
     "evalue": "",
     "output_type": "error",
     "traceback": [
      "\u001b[0;31m---------------------------------------------------------------------------\u001b[0m",
      "\u001b[0;31mStopIteration\u001b[0m                             Traceback (most recent call last)",
      "Input \u001b[0;32mIn [118]\u001b[0m, in \u001b[0;36m<cell line: 1>\u001b[0;34m()\u001b[0m\n\u001b[0;32m----> 1\u001b[0m \u001b[38;5;28;43mnext\u001b[39;49m\u001b[43m(\u001b[49m\u001b[43mgen\u001b[49m\u001b[43m)\u001b[49m\n",
      "\u001b[0;31mStopIteration\u001b[0m: "
     ]
    }
   ],
   "source": [
    "next(gen)"
   ]
  },
  {
   "cell_type": "markdown",
   "id": "f34f1346",
   "metadata": {},
   "source": [
    "The call `gen = g(2)` binds `gen` to a generator.\n",
    "\n",
    "Inside the generator, the name `x` is bound to `2`.\n",
    "\n",
    "When we call `next(gen)`\n",
    "\n",
    "* The body of `g()` executes until the line `yield x`, and the value of `x` is returned.\n",
    "\n",
    "Note that value of `x` is retained inside the generator.\n",
    "\n",
    "When we call `next(gen)` again, execution continues *from where it left off*"
   ]
  },
  {
   "cell_type": "code",
   "execution_count": 119,
   "id": "0b70b748",
   "metadata": {},
   "outputs": [],
   "source": [
    "def g(x):\n",
    "    while x < 100:\n",
    "        yield x\n",
    "        x = x * x  # execution continues from here"
   ]
  },
  {
   "cell_type": "markdown",
   "id": "a2f5f6f7",
   "metadata": {},
   "source": [
    "When `x < 100` fails, the generator throws a `StopIteration` error.\n",
    "\n",
    "Incidentally, the loop inside the generator can be infinite"
   ]
  },
  {
   "cell_type": "code",
   "execution_count": 120,
   "id": "0026c3ba",
   "metadata": {},
   "outputs": [],
   "source": [
    "def g(x):\n",
    "    while 1:\n",
    "        yield x\n",
    "        x = x * x"
   ]
  },
  {
   "cell_type": "markdown",
   "id": "752a9850",
   "metadata": {},
   "source": [
    "### Advantages of Iterators\n",
    "\n",
    "What's the advantage of using an iterator here?\n",
    "\n",
    "Suppose we want to sample a binomial(n,0.5).\n",
    "\n",
    "One way to do it is as follows"
   ]
  },
  {
   "cell_type": "code",
   "execution_count": 121,
   "id": "cb7e2ad5",
   "metadata": {},
   "outputs": [
    {
     "data": {
      "text/plain": [
       "4999758"
      ]
     },
     "execution_count": 121,
     "metadata": {},
     "output_type": "execute_result"
    }
   ],
   "source": [
    "import random\n",
    "n = 10000000\n",
    "draws = [random.uniform(0, 1) < 0.5 for i in range(n)]\n",
    "sum(draws)"
   ]
  },
  {
   "cell_type": "markdown",
   "id": "0147222f",
   "metadata": {},
   "source": [
    "But we are creating two huge lists here,  `range(n)` and `draws`.\n",
    "\n",
    "This uses lots of memory and is very slow.\n",
    "\n",
    "If we make `n` even bigger then this happens"
   ]
  },
  {
   "cell_type": "code",
   "execution_count": 122,
   "id": "90e49529",
   "metadata": {
    "tags": [
     "raises-exception"
    ]
   },
   "outputs": [],
   "source": [
    "n = 100000000\n",
    "draws = [random.uniform(0, 1) < 0.5 for i in range(n)]"
   ]
  },
  {
   "cell_type": "markdown",
   "id": "4527078c",
   "metadata": {},
   "source": [
    "We can avoid these problems using iterators.\n",
    "\n",
    "Here is the generator function"
   ]
  },
  {
   "cell_type": "code",
   "execution_count": 123,
   "id": "816e7cd5",
   "metadata": {},
   "outputs": [],
   "source": [
    "def f(n):\n",
    "    i = 1\n",
    "    while i <= n:\n",
    "        yield random.uniform(0, 1) < 0.5\n",
    "        i += 1"
   ]
  },
  {
   "cell_type": "markdown",
   "id": "d3bde73a",
   "metadata": {},
   "source": [
    "Now let's do the sum"
   ]
  },
  {
   "cell_type": "code",
   "execution_count": 124,
   "id": "ce8310be",
   "metadata": {},
   "outputs": [
    {
     "data": {
      "text/plain": [
       "<generator object f at 0x7fd0cd57e350>"
      ]
     },
     "execution_count": 124,
     "metadata": {},
     "output_type": "execute_result"
    }
   ],
   "source": [
    "n = 10000000\n",
    "draws = f(n)\n",
    "draws"
   ]
  },
  {
   "cell_type": "code",
   "execution_count": 125,
   "id": "d70af16e",
   "metadata": {},
   "outputs": [
    {
     "data": {
      "text/plain": [
       "4998527"
      ]
     },
     "execution_count": 125,
     "metadata": {},
     "output_type": "execute_result"
    }
   ],
   "source": [
    "sum(draws)"
   ]
  },
  {
   "cell_type": "markdown",
   "id": "7a87e511",
   "metadata": {},
   "source": [
    "In summary, iterables\n",
    "\n",
    "* avoid the need to create big lists/tuples, and\n",
    "* provide a uniform interface to iteration that can be used transparently in `for` loops\n",
    "\n",
    "\n",
    "## Exercises\n",
    "\n",
    "\n",
    "```{exercise-start}\n",
    ":label: paf_ex1\n",
    "```\n",
    "\n",
    "Complete the following code, and test it using [this csv file](https://raw.githubusercontent.com/QuantEcon/lecture-python-programming/master/source/_static/lecture_specific/python_advanced_features/test_table.csv), which we assume that you've put in your current working directory\n",
    "\n",
    "```{code-block} python3\n",
    ":class: no-execute\n",
    "\n",
    "def column_iterator(target_file, column_number):\n",
    "    \"\"\"A generator function for CSV files.\n",
    "    When called with a file name target_file (string) and column number\n",
    "    column_number (integer), the generator function returns a generator\n",
    "    that steps through the elements of column column_number in file\n",
    "    target_file.\n",
    "    \"\"\"\n",
    "    # put your code here\n",
    "\n",
    "dates = column_iterator('test_table.csv', 1)\n",
    "\n",
    "for date in dates:\n",
    "    print(date)\n",
    "```\n",
    "\n",
    "```{exercise-end}\n",
    "```\n",
    "\n",
    "```{solution-start} paf_ex1\n",
    ":class: dropdown\n",
    "```\n",
    "\n",
    "One solution is as follows"
   ]
  },
  {
   "cell_type": "code",
   "execution_count": 126,
   "id": "c823a539",
   "metadata": {},
   "outputs": [
    {
     "name": "stdout",
     "output_type": "stream",
     "text": [
      "Date\n",
      "2009-05-21\n",
      "2009-05-20\n",
      "2009-05-19\n",
      "2009-05-18\n",
      "2009-05-15\n",
      "2009-05-14\n",
      "2009-05-13\n",
      "2009-05-12\n",
      "2009-05-11\n"
     ]
    }
   ],
   "source": [
    "def column_iterator(target_file, column_number):\n",
    "    \"\"\"A generator function for CSV files.\n",
    "    When called with a file name target_file (string) and column number\n",
    "    column_number (integer), the generator function returns a generator\n",
    "    which steps through the elements of column column_number in file\n",
    "    target_file.\n",
    "    \"\"\"\n",
    "    f = open(target_file, 'r')\n",
    "    for line in f:\n",
    "        yield line.split(',')[column_number - 1]\n",
    "    f.close()\n",
    "\n",
    "dates = column_iterator('test_table.csv', 1)\n",
    "\n",
    "i = 1\n",
    "for date in dates:\n",
    "    print(date)\n",
    "    if i == 10:\n",
    "        break\n",
    "    i += 1"
   ]
  },
  {
   "cell_type": "markdown",
   "id": "c9bdba97",
   "metadata": {},
   "source": [
    "```{solution-end}\n",
    "```\n",
    "\n",
    "\n",
    "\n",
    "```{exercise-start}\n",
    ":label: paf_ex2\n",
    "```\n",
    "\n",
    "Suppose we have a text file `numbers.txt` containing the following lines\n",
    "\n",
    "```{code-block} none\n",
    ":class: no-execute\n",
    "\n",
    "prices\n",
    "3\n",
    "8\n",
    "\n",
    "7\n",
    "21\n",
    "```\n",
    "\n",
    "Using `try` -- `except`, write a program to read in the contents of the file and sum the numbers, ignoring lines without numbers.\n",
    "\n",
    "```{exercise-end}\n",
    "```\n",
    "\n",
    "\n",
    "```{solution-start} paf_ex2\n",
    ":class: dropdown\n",
    "```\n",
    "\n",
    "Let's save the data first"
   ]
  },
  {
   "cell_type": "code",
   "execution_count": 127,
   "id": "3bdb3e47",
   "metadata": {},
   "outputs": [
    {
     "name": "stdout",
     "output_type": "stream",
     "text": [
      "Writing numbers.txt\n"
     ]
    }
   ],
   "source": [
    "%%file numbers.txt\n",
    "prices\n",
    "3\n",
    "8\n",
    "\n",
    "7\n",
    "21"
   ]
  },
  {
   "cell_type": "code",
   "execution_count": 128,
   "id": "5edb7a93",
   "metadata": {},
   "outputs": [
    {
     "name": "stdout",
     "output_type": "stream",
     "text": [
      "39.0\n"
     ]
    }
   ],
   "source": [
    "f = open('numbers.txt')\n",
    "\n",
    "total = 0.0\n",
    "for line in f:\n",
    "    try:\n",
    "        total += float(line)\n",
    "    except ValueError:\n",
    "        pass\n",
    "\n",
    "f.close()\n",
    "\n",
    "print(total)"
   ]
  },
  {
   "cell_type": "markdown",
   "id": "7396c8c5",
   "metadata": {},
   "source": [
    "```{solution-end}\n",
    "```"
   ]
  }
 ],
 "metadata": {
  "jupytext": {
   "text_representation": {
    "extension": ".md",
    "format_name": "myst"
   }
  },
  "kernelspec": {
   "display_name": "Python 3",
   "language": "python",
   "name": "python3"
  },
  "language_info": {
   "codemirror_mode": {
    "name": "ipython",
    "version": 3
   },
   "file_extension": ".py",
   "mimetype": "text/x-python",
   "name": "python",
   "nbconvert_exporter": "python",
   "pygments_lexer": "ipython3",
   "version": "3.9.12"
  },
  "source_map": [
   10,
   63,
   76,
   81,
   83,
   90,
   92,
   96,
   101,
   103,
   109,
   124,
   132,
   134,
   182,
   185,
   191,
   196,
   201,
   211,
   216,
   221,
   225,
   229,
   234,
   240,
   245,
   263,
   268,
   273,
   275,
   279,
   285,
   290,
   302,
   304,
   320,
   328,
   330,
   340,
   345,
   347,
   360,
   362,
   378,
   381,
   385,
   387,
   391,
   393,
   397,
   401,
   403,
   409,
   415,
   419,
   423,
   425,
   429,
   431,
   439,
   441,
   445,
   447,
   456,
   460,
   462,
   477,
   479,
   485,
   488,
   492,
   496,
   498,
   509,
   516,
   564,
   569,
   573,
   575,
   591,
   595,
   597,
   601,
   603,
   607,
   611,
   613,
   645,
   652,
   674,
   684,
   688,
   692,
   697,
   722,
   729,
   743,
   750,
   807,
   812,
   817,
   822,
   848,
   853,
   859,
   864,
   868,
   873,
   877,
   882,
   886,
   892,
   906,
   913,
   917,
   921,
   925,
   927,
   935,
   944,
   948,
   952,
   956,
   958,
   962,
   969,
   973,
   977,
   981,
   983,
   987,
   994,
   1028,
   1038,
   1053,
   1065,
   1080,
   1098,
   1125,
   1128,
   1136,
   1145,
   1149,
   1157,
   1185,
   1193,
   1198,
   1203,
   1207,
   1210,
   1228,
   1251,
   1255,
   1260,
   1263,
   1298,
   1322,
   1346,
   1351,
   1356,
   1358,
   1362,
   1368,
   1372,
   1376,
   1378,
   1382,
   1384,
   1390,
   1392,
   1407,
   1412,
   1418,
   1422,
   1427,
   1431,
   1435,
   1439,
   1444,
   1457,
   1462,
   1474,
   1479,
   1483,
   1487,
   1492,
   1496,
   1500,
   1504,
   1509,
   1523,
   1528,
   1534,
   1539,
   1549,
   1554,
   1562,
   1568,
   1574,
   1580,
   1584,
   1590,
   1592,
   1636,
   1657,
   1693,
   1703,
   1716
  ]
 },
 "nbformat": 4,
 "nbformat_minor": 5
}