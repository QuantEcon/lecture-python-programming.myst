{
 "cells": [
  {
   "cell_type": "markdown",
   "id": "ccaa9fa2",
   "metadata": {},
   "source": [
    "(python_advanced_features)=\n",
    "```{raw} jupyter\n",
    "<div id=\"qe-notebook-header\" align=\"right\" style=\"text-align:right;\">\n",
    "        <a href=\"https://quantecon.org/\" title=\"quantecon.org\">\n",
    "                <img style=\"width:250px;display:inline;\" width=\"250px\" src=\"https://assets.quantecon.org/img/qe-menubar-logo.svg\" alt=\"QuantEcon\">\n",
    "        </a>\n",
    "</div>\n",
    "```\n",
    "\n",
    "# More Language Features\n",
    "\n",
    "```{contents} Contents\n",
    ":depth: 2\n",
    "```\n",
    "\n",
    "## Overview\n",
    "\n",
    "With this last lecture, our advice is to **skip it on first pass**, unless you have a burning desire to read it.\n",
    "\n",
    "It's here\n",
    "\n",
    "1. as a reference, so we can link back to it when required, and\n",
    "1. for those who have worked through a number of applications, and now want to learn more about the Python language\n",
    "\n",
    "A variety of topics are treated in the lecture, including iterators, decorators and descriptors, and generators.\n",
    "\n",
    "## Iterables and Iterators\n",
    "\n",
    "```{index} single: Python; Iteration\n",
    "```\n",
    "\n",
    "We've {ref}`already said something <iterating_version_1>` about iterating in Python.\n",
    "\n",
    "Now let's look more closely at how it all works, focusing in Python's implementation of the `for` loop.\n",
    "\n",
    "(iterators)=\n",
    "### Iterators\n",
    "\n",
    "```{index} single: Python; Iterators\n",
    "```\n",
    "\n",
    "Iterators are a uniform interface to stepping through elements in a collection.\n",
    "\n",
    "Here we'll talk about using iterators---later we'll learn how to build our own.\n",
    "\n",
    "Formally, an *iterator* is an object with a `__next__` method.\n",
    "\n",
    "For example, file objects are iterators .\n",
    "\n",
    "To see this, let's have another look at the {ref}`US cities data <us_cities_data>`,\n",
    "which is written to the present working directory in the following cell"
   ]
  },
  {
   "cell_type": "code",
   "execution_count": 1,
   "id": "3e5dd67d",
   "metadata": {},
   "outputs": [
    {
     "name": "stdout",
     "output_type": "stream",
     "text": [
      "Overwriting us_cities.txt\n"
     ]
    }
   ],
   "source": [
    "%%file us_cities.txt\n",
    "new york: 8244910\n",
    "los angeles: 3819702\n",
    "chicago: 2707120\n",
    "houston: 2145146\n",
    "philadelphia: 1536471\n",
    "phoenix: 1469471\n",
    "san antonio: 1359758\n",
    "san diego: 1326179\n",
    "dallas: 1223229"
   ]
  },
  {
   "cell_type": "code",
   "execution_count": 2,
   "id": "9f6a0741",
   "metadata": {},
   "outputs": [
    {
     "data": {
      "text/plain": [
       "'new york: 8244910\\n'"
      ]
     },
     "execution_count": 2,
     "metadata": {},
     "output_type": "execute_result"
    }
   ],
   "source": [
    "f = open('us_cities.txt')\n",
    "f.__next__()"
   ]
  },
  {
   "cell_type": "code",
   "execution_count": 3,
   "id": "17223191",
   "metadata": {},
   "outputs": [
    {
     "data": {
      "text/plain": [
       "'los angeles: 3819702\\n'"
      ]
     },
     "execution_count": 3,
     "metadata": {},
     "output_type": "execute_result"
    }
   ],
   "source": [
    "f.__next__()"
   ]
  },
  {
   "cell_type": "markdown",
   "id": "14bdfc82",
   "metadata": {},
   "source": [
    "We see that file objects do indeed have a `__next__` method, and that calling this method returns the next line in the file.\n",
    "\n",
    "The next method can also be accessed via the builtin function `next()`,\n",
    "which directly calls this method"
   ]
  },
  {
   "cell_type": "code",
   "execution_count": 4,
   "id": "48ac5310",
   "metadata": {},
   "outputs": [
    {
     "data": {
      "text/plain": [
       "'chicago: 2707120\\n'"
      ]
     },
     "execution_count": 4,
     "metadata": {},
     "output_type": "execute_result"
    }
   ],
   "source": [
    "next(f)"
   ]
  },
  {
   "cell_type": "markdown",
   "id": "44e29427",
   "metadata": {},
   "source": [
    "The objects returned by `enumerate()` are also iterators"
   ]
  },
  {
   "cell_type": "code",
   "execution_count": 5,
   "id": "785d2b14",
   "metadata": {},
   "outputs": [
    {
     "data": {
      "text/plain": [
       "(0, 'foo')"
      ]
     },
     "execution_count": 5,
     "metadata": {},
     "output_type": "execute_result"
    }
   ],
   "source": [
    "e = enumerate(['foo', 'bar'])\n",
    "next(e)"
   ]
  },
  {
   "cell_type": "code",
   "execution_count": 6,
   "id": "32d5b4c3",
   "metadata": {},
   "outputs": [
    {
     "data": {
      "text/plain": [
       "(1, 'bar')"
      ]
     },
     "execution_count": 6,
     "metadata": {},
     "output_type": "execute_result"
    }
   ],
   "source": [
    "next(e)"
   ]
  },
  {
   "cell_type": "markdown",
   "id": "c1f1ceab",
   "metadata": {},
   "source": [
    "as are the reader objects from the `csv` module .\n",
    "\n",
    "Let's create a small csv file that contains data from the NIKKEI index"
   ]
  },
  {
   "cell_type": "code",
   "execution_count": 7,
   "id": "7bb0c367",
   "metadata": {},
   "outputs": [
    {
     "name": "stdout",
     "output_type": "stream",
     "text": [
      "Writing test_table.csv\n"
     ]
    }
   ],
   "source": [
    "%%file test_table.csv\n",
    "Date,Open,High,Low,Close,Volume,Adj Close\n",
    "2009-05-21,9280.35,9286.35,9189.92,9264.15,133200,9264.15\n",
    "2009-05-20,9372.72,9399.40,9311.61,9344.64,143200,9344.64\n",
    "2009-05-19,9172.56,9326.75,9166.97,9290.29,167000,9290.29\n",
    "2009-05-18,9167.05,9167.82,8997.74,9038.69,147800,9038.69\n",
    "2009-05-15,9150.21,9272.08,9140.90,9265.02,172000,9265.02\n",
    "2009-05-14,9212.30,9223.77,9052.41,9093.73,169400,9093.73\n",
    "2009-05-13,9305.79,9379.47,9278.89,9340.49,176000,9340.49\n",
    "2009-05-12,9358.25,9389.61,9298.61,9298.61,188400,9298.61\n",
    "2009-05-11,9460.72,9503.91,9342.75,9451.98,230800,9451.98\n",
    "2009-05-08,9351.40,9464.43,9349.57,9432.83,220200,9432.83"
   ]
  },
  {
   "cell_type": "code",
   "execution_count": 8,
   "id": "6da52dd0",
   "metadata": {},
   "outputs": [
    {
     "data": {
      "text/plain": [
       "['Date', 'Open', 'High', 'Low', 'Close', 'Volume', 'Adj Close']"
      ]
     },
     "execution_count": 8,
     "metadata": {},
     "output_type": "execute_result"
    }
   ],
   "source": [
    "from csv import reader\n",
    "\n",
    "f = open('test_table.csv', 'r')\n",
    "nikkei_data = reader(f)\n",
    "next(nikkei_data)"
   ]
  },
  {
   "cell_type": "code",
   "execution_count": 9,
   "id": "5aa728fc",
   "metadata": {},
   "outputs": [
    {
     "data": {
      "text/plain": [
       "['2009-05-21', '9280.35', '9286.35', '9189.92', '9264.15', '133200', '9264.15']"
      ]
     },
     "execution_count": 9,
     "metadata": {},
     "output_type": "execute_result"
    }
   ],
   "source": [
    "next(nikkei_data)"
   ]
  },
  {
   "cell_type": "markdown",
   "id": "2d040490",
   "metadata": {},
   "source": [
    "### Iterators in For Loops\n",
    "\n",
    "```{index} single: Python; Iterators\n",
    "```\n",
    "\n",
    "All iterators can be placed to the right of the `in` keyword in `for` loop statements.\n",
    "\n",
    "In fact this is how the `for` loop works:  If we write\n",
    "\n",
    "```{code-block} python3\n",
    ":class: no-execute\n",
    "\n",
    "for x in iterator:\n",
    "    <code block>\n",
    "```\n",
    "\n",
    "then the interpreter\n",
    "\n",
    "* calls `iterator.___next___()` and binds `x` to the result\n",
    "* executes the code block\n",
    "* repeats until a `StopIteration` error occurs\n",
    "\n",
    "So now you know how this magical looking syntax works\n",
    "\n",
    "```{code-block} python3\n",
    ":class: no-execute\n",
    "\n",
    "f = open('somefile.txt', 'r')\n",
    "for line in f:\n",
    "    # do something\n",
    "```\n",
    "\n",
    "The interpreter just keeps\n",
    "\n",
    "1. calling `f.__next__()` and binding `line` to the result\n",
    "1. executing the body of the loop\n",
    "\n",
    "This continues until a `StopIteration` error occurs.\n",
    "\n",
    "### Iterables\n",
    "\n",
    "```{index} single: Python; Iterables\n",
    "```\n",
    "\n",
    "You already know that we can put a Python list to the right of `in` in a `for` loop"
   ]
  },
  {
   "cell_type": "code",
   "execution_count": 10,
   "id": "106ec2bb",
   "metadata": {},
   "outputs": [
    {
     "name": "stdout",
     "output_type": "stream",
     "text": [
      "spam\n",
      "eggs\n"
     ]
    }
   ],
   "source": [
    "for i in ['spam', 'eggs']:\n",
    "    print(i)"
   ]
  },
  {
   "cell_type": "markdown",
   "id": "ed29e680",
   "metadata": {},
   "source": [
    "So does that mean that a list is an iterator?\n",
    "\n",
    "The answer is no"
   ]
  },
  {
   "cell_type": "code",
   "execution_count": 11,
   "id": "f6f1ef30",
   "metadata": {},
   "outputs": [
    {
     "data": {
      "text/plain": [
       "list"
      ]
     },
     "execution_count": 11,
     "metadata": {},
     "output_type": "execute_result"
    }
   ],
   "source": [
    "x = ['foo', 'bar']\n",
    "type(x)"
   ]
  },
  {
   "cell_type": "code",
   "execution_count": 12,
   "id": "b8d6226e",
   "metadata": {
    "tags": [
     "raises-exception"
    ]
   },
   "outputs": [
    {
     "ename": "TypeError",
     "evalue": "'list' object is not an iterator",
     "output_type": "error",
     "traceback": [
      "\u001b[0;31m---------------------------------------------------------------------------\u001b[0m",
      "\u001b[0;31mTypeError\u001b[0m                                 Traceback (most recent call last)",
      "Input \u001b[0;32mIn [12]\u001b[0m, in \u001b[0;36m<cell line: 1>\u001b[0;34m()\u001b[0m\n\u001b[0;32m----> 1\u001b[0m \u001b[38;5;28;43mnext\u001b[39;49m\u001b[43m(\u001b[49m\u001b[43mx\u001b[49m\u001b[43m)\u001b[49m\n",
      "\u001b[0;31mTypeError\u001b[0m: 'list' object is not an iterator"
     ]
    }
   ],
   "source": [
    "next(x)"
   ]
  },
  {
   "cell_type": "markdown",
   "id": "eda1242f",
   "metadata": {},
   "source": [
    "So why can we iterate over a list in a `for` loop?\n",
    "\n",
    "The reason is that a list is *iterable* (as opposed to an iterator).\n",
    "\n",
    "Formally, an object is iterable if it can be converted to an iterator using the built-in function `iter()`.\n",
    "\n",
    "Lists are one such object"
   ]
  },
  {
   "cell_type": "code",
   "execution_count": 13,
   "id": "ca94697c",
   "metadata": {},
   "outputs": [
    {
     "data": {
      "text/plain": [
       "list"
      ]
     },
     "execution_count": 13,
     "metadata": {},
     "output_type": "execute_result"
    }
   ],
   "source": [
    "x = ['foo', 'bar']\n",
    "type(x)"
   ]
  },
  {
   "cell_type": "code",
   "execution_count": 14,
   "id": "e4b73baf",
   "metadata": {},
   "outputs": [
    {
     "data": {
      "text/plain": [
       "list_iterator"
      ]
     },
     "execution_count": 14,
     "metadata": {},
     "output_type": "execute_result"
    }
   ],
   "source": [
    "y = iter(x)\n",
    "type(y)"
   ]
  },
  {
   "cell_type": "code",
   "execution_count": 15,
   "id": "d79a57b7",
   "metadata": {},
   "outputs": [
    {
     "data": {
      "text/plain": [
       "'foo'"
      ]
     },
     "execution_count": 15,
     "metadata": {},
     "output_type": "execute_result"
    }
   ],
   "source": [
    "next(y)"
   ]
  },
  {
   "cell_type": "code",
   "execution_count": 16,
   "id": "4fa678cd",
   "metadata": {},
   "outputs": [
    {
     "data": {
      "text/plain": [
       "'bar'"
      ]
     },
     "execution_count": 16,
     "metadata": {},
     "output_type": "execute_result"
    }
   ],
   "source": [
    "next(y)"
   ]
  },
  {
   "cell_type": "code",
   "execution_count": 17,
   "id": "94653091",
   "metadata": {
    "tags": [
     "raises-exception"
    ]
   },
   "outputs": [
    {
     "ename": "StopIteration",
     "evalue": "",
     "output_type": "error",
     "traceback": [
      "\u001b[0;31m---------------------------------------------------------------------------\u001b[0m",
      "\u001b[0;31mStopIteration\u001b[0m                             Traceback (most recent call last)",
      "Input \u001b[0;32mIn [17]\u001b[0m, in \u001b[0;36m<cell line: 1>\u001b[0;34m()\u001b[0m\n\u001b[0;32m----> 1\u001b[0m \u001b[38;5;28;43mnext\u001b[39;49m\u001b[43m(\u001b[49m\u001b[43my\u001b[49m\u001b[43m)\u001b[49m\n",
      "\u001b[0;31mStopIteration\u001b[0m: "
     ]
    }
   ],
   "source": [
    "next(y)"
   ]
  },
  {
   "cell_type": "markdown",
   "id": "9a3b5491",
   "metadata": {},
   "source": [
    "Many other objects are iterable, such as dictionaries and tuples.\n",
    "\n",
    "Of course, not all objects are iterable"
   ]
  },
  {
   "cell_type": "code",
   "execution_count": 18,
   "id": "416c67c7",
   "metadata": {
    "tags": [
     "raises-exception"
    ]
   },
   "outputs": [
    {
     "ename": "TypeError",
     "evalue": "'int' object is not iterable",
     "output_type": "error",
     "traceback": [
      "\u001b[0;31m---------------------------------------------------------------------------\u001b[0m",
      "\u001b[0;31mTypeError\u001b[0m                                 Traceback (most recent call last)",
      "Input \u001b[0;32mIn [18]\u001b[0m, in \u001b[0;36m<cell line: 1>\u001b[0;34m()\u001b[0m\n\u001b[0;32m----> 1\u001b[0m \u001b[38;5;28;43miter\u001b[39;49m\u001b[43m(\u001b[49m\u001b[38;5;241;43m42\u001b[39;49m\u001b[43m)\u001b[49m\n",
      "\u001b[0;31mTypeError\u001b[0m: 'int' object is not iterable"
     ]
    }
   ],
   "source": [
    "iter(42)"
   ]
  },
  {
   "cell_type": "markdown",
   "id": "54ab216a",
   "metadata": {},
   "source": [
    "To conclude our discussion of `for` loops\n",
    "\n",
    "* `for` loops work on either iterators or iterables.\n",
    "* In the second case, the iterable is converted into an iterator before the loop starts.\n",
    "\n",
    "### Iterators and built-ins\n",
    "\n",
    "```{index} single: Python; Iterators\n",
    "```\n",
    "\n",
    "Some built-in functions that act on sequences also work with iterables\n",
    "\n",
    "* `max()`, `min()`, `sum()`, `all()`, `any()`\n",
    "\n",
    "For example"
   ]
  },
  {
   "cell_type": "code",
   "execution_count": 19,
   "id": "b298acb6",
   "metadata": {},
   "outputs": [
    {
     "data": {
      "text/plain": [
       "10"
      ]
     },
     "execution_count": 19,
     "metadata": {},
     "output_type": "execute_result"
    }
   ],
   "source": [
    "x = [10, -10]\n",
    "max(x)"
   ]
  },
  {
   "cell_type": "code",
   "execution_count": 20,
   "id": "49124451",
   "metadata": {},
   "outputs": [
    {
     "data": {
      "text/plain": [
       "list_iterator"
      ]
     },
     "execution_count": 20,
     "metadata": {},
     "output_type": "execute_result"
    }
   ],
   "source": [
    "y = iter(x)\n",
    "type(y)"
   ]
  },
  {
   "cell_type": "code",
   "execution_count": 21,
   "id": "c855ab97",
   "metadata": {},
   "outputs": [
    {
     "data": {
      "text/plain": [
       "10"
      ]
     },
     "execution_count": 21,
     "metadata": {},
     "output_type": "execute_result"
    }
   ],
   "source": [
    "max(y)"
   ]
  },
  {
   "cell_type": "markdown",
   "id": "2a56c226",
   "metadata": {},
   "source": [
    "One thing to remember about iterators is that they are depleted by use"
   ]
  },
  {
   "cell_type": "code",
   "execution_count": 22,
   "id": "f83c3d78",
   "metadata": {},
   "outputs": [
    {
     "data": {
      "text/plain": [
       "10"
      ]
     },
     "execution_count": 22,
     "metadata": {},
     "output_type": "execute_result"
    }
   ],
   "source": [
    "x = [10, -10]\n",
    "y = iter(x)\n",
    "max(y)"
   ]
  },
  {
   "cell_type": "code",
   "execution_count": 23,
   "id": "a94fb263",
   "metadata": {
    "tags": [
     "raises-exception"
    ]
   },
   "outputs": [
    {
     "ename": "ValueError",
     "evalue": "max() arg is an empty sequence",
     "output_type": "error",
     "traceback": [
      "\u001b[0;31m---------------------------------------------------------------------------\u001b[0m",
      "\u001b[0;31mValueError\u001b[0m                                Traceback (most recent call last)",
      "Input \u001b[0;32mIn [23]\u001b[0m, in \u001b[0;36m<cell line: 1>\u001b[0;34m()\u001b[0m\n\u001b[0;32m----> 1\u001b[0m \u001b[38;5;28;43mmax\u001b[39;49m\u001b[43m(\u001b[49m\u001b[43my\u001b[49m\u001b[43m)\u001b[49m\n",
      "\u001b[0;31mValueError\u001b[0m: max() arg is an empty sequence"
     ]
    }
   ],
   "source": [
    "max(y)"
   ]
  },
  {
   "cell_type": "markdown",
   "id": "76fb575a",
   "metadata": {},
   "source": [
    "## Decorators and Descriptors\n",
    "\n",
    "```{index} single: Python; Decorators\n",
    "```\n",
    "\n",
    "```{index} single: Python; Descriptors\n",
    "```\n",
    "\n",
    "Let's look at some special syntax elements that are routinely used by Python developers.\n",
    "\n",
    "You might not need the following concepts immediately, but you will see them\n",
    "in other people's code.\n",
    "\n",
    "Hence you need to understand them at some stage of your Python education.\n",
    "\n",
    "### Decorators\n",
    "\n",
    "```{index} single: Python; Decorators\n",
    "```\n",
    "\n",
    "Decorators are a bit of syntactic sugar that, while easily avoided, have turned out to be popular.\n",
    "\n",
    "It's very easy to say what decorators do.\n",
    "\n",
    "On the other hand it takes a bit of effort to explain *why* you might use them.\n",
    "\n",
    "#### An Example\n",
    "\n",
    "Suppose we are working on a program that looks something like this"
   ]
  },
  {
   "cell_type": "code",
   "execution_count": 24,
   "id": "a579d8a5",
   "metadata": {},
   "outputs": [],
   "source": [
    "import numpy as np\n",
    "\n",
    "def f(x):\n",
    "    return np.log(np.log(x))\n",
    "\n",
    "def g(x):\n",
    "    return np.sqrt(42 * x)\n",
    "\n",
    "# Program continues with various calculations using f and g"
   ]
  },
  {
   "cell_type": "markdown",
   "id": "d5babe53",
   "metadata": {},
   "source": [
    "Now suppose there's a problem: occasionally negative numbers get fed to `f` and `g` in the calculations that follow.\n",
    "\n",
    "If you try it, you'll see that when these functions are called with negative numbers they return a NumPy object called `nan` .\n",
    "\n",
    "This stands for \"not a number\" (and indicates that you are trying to evaluate\n",
    "a mathematical function at a point where it is not defined).\n",
    "\n",
    "Perhaps this isn't what we want, because it causes other problems that are hard to pick up later on.\n",
    "\n",
    "Suppose that instead we want the program to terminate whenever this happens, with a sensible error message.\n",
    "\n",
    "This change is easy enough to implement"
   ]
  },
  {
   "cell_type": "code",
   "execution_count": 25,
   "id": "8776750b",
   "metadata": {},
   "outputs": [],
   "source": [
    "import numpy as np\n",
    "\n",
    "def f(x):\n",
    "    assert x >= 0, \"Argument must be nonnegative\"\n",
    "    return np.log(np.log(x))\n",
    "\n",
    "def g(x):\n",
    "    assert x >= 0, \"Argument must be nonnegative\"\n",
    "    return np.sqrt(42 * x)\n",
    "\n",
    "# Program continues with various calculations using f and g"
   ]
  },
  {
   "cell_type": "markdown",
   "id": "67984df4",
   "metadata": {},
   "source": [
    "Notice however that there is some repetition here, in the form of two identical lines of code.\n",
    "\n",
    "Repetition makes our code longer and harder to maintain, and hence is\n",
    "something we try hard to avoid.\n",
    "\n",
    "Here it's not a big deal, but imagine now that instead of just `f` and `g`, we have 20 such functions that we need to modify in exactly the same way.\n",
    "\n",
    "This means we need to repeat the test logic (i.e., the `assert` line testing nonnegativity) 20 times.\n",
    "\n",
    "The situation is still worse if the test logic is longer and more complicated.\n",
    "\n",
    "In this kind of scenario the following approach would be neater"
   ]
  },
  {
   "cell_type": "code",
   "execution_count": 26,
   "id": "7b629019",
   "metadata": {},
   "outputs": [],
   "source": [
    "import numpy as np\n",
    "\n",
    "def check_nonneg(func):\n",
    "    def safe_function(x):\n",
    "        assert x >= 0, \"Argument must be nonnegative\"\n",
    "        return func(x)\n",
    "    return safe_function\n",
    "\n",
    "def f(x):\n",
    "    return np.log(np.log(x))\n",
    "\n",
    "def g(x):\n",
    "    return np.sqrt(42 * x)\n",
    "\n",
    "f = check_nonneg(f)\n",
    "g = check_nonneg(g)\n",
    "# Program continues with various calculations using f and g"
   ]
  },
  {
   "cell_type": "markdown",
   "id": "751bd8eb",
   "metadata": {},
   "source": [
    "This looks complicated so let's work through it slowly.\n",
    "\n",
    "To unravel the logic, consider what happens when we say `f = check_nonneg(f)`.\n",
    "\n",
    "This calls the function `check_nonneg` with parameter `func` set equal to `f`.\n",
    "\n",
    "Now `check_nonneg` creates a new function called `safe_function` that\n",
    "verifies `x` as nonnegative and then calls `func` on it (which is the same as `f`).\n",
    "\n",
    "Finally, the global name `f` is then set equal to `safe_function`.\n",
    "\n",
    "Now the behavior of `f` is as we desire, and the same is true of `g`.\n",
    "\n",
    "At the same time, the test logic is written only once.\n",
    "\n",
    "#### Enter Decorators\n",
    "\n",
    "```{index} single: Python; Decorators\n",
    "```\n",
    "\n",
    "The last version of our code is still not ideal.\n",
    "\n",
    "For example, if someone is reading our code and wants to know how\n",
    "`f` works, they will be looking for the function definition, which is"
   ]
  },
  {
   "cell_type": "code",
   "execution_count": 27,
   "id": "2c480dc1",
   "metadata": {},
   "outputs": [],
   "source": [
    "def f(x):\n",
    "    return np.log(np.log(x))"
   ]
  },
  {
   "cell_type": "markdown",
   "id": "3463e2ec",
   "metadata": {},
   "source": [
    "They may well miss the line `f = check_nonneg(f)`.\n",
    "\n",
    "For this and other reasons, decorators were introduced to Python.\n",
    "\n",
    "With decorators, we can replace the lines"
   ]
  },
  {
   "cell_type": "code",
   "execution_count": 28,
   "id": "0ff1dbc5",
   "metadata": {},
   "outputs": [],
   "source": [
    "def f(x):\n",
    "    return np.log(np.log(x))\n",
    "\n",
    "def g(x):\n",
    "    return np.sqrt(42 * x)\n",
    "\n",
    "f = check_nonneg(f)\n",
    "g = check_nonneg(g)"
   ]
  },
  {
   "cell_type": "markdown",
   "id": "ab816d32",
   "metadata": {},
   "source": [
    "with"
   ]
  },
  {
   "cell_type": "code",
   "execution_count": 29,
   "id": "765b9387",
   "metadata": {},
   "outputs": [],
   "source": [
    "@check_nonneg\n",
    "def f(x):\n",
    "    return np.log(np.log(x))\n",
    "\n",
    "@check_nonneg\n",
    "def g(x):\n",
    "    return np.sqrt(42 * x)"
   ]
  },
  {
   "cell_type": "markdown",
   "id": "eb435033",
   "metadata": {},
   "source": [
    "These two pieces of code do exactly the same thing.\n",
    "\n",
    "If they do the same thing, do we really need decorator syntax?\n",
    "\n",
    "Well, notice that the decorators sit right on top of the function definitions.\n",
    "\n",
    "Hence anyone looking at the definition of the function will see them and be\n",
    "aware that the function is modified.\n",
    "\n",
    "In the opinion of many people, this makes the decorator syntax a significant improvement to the language.\n",
    "\n",
    "(descriptors)=\n",
    "### Descriptors\n",
    "\n",
    "```{index} single: Python; Descriptors\n",
    "```\n",
    "\n",
    "Descriptors solve a common problem regarding management of variables.\n",
    "\n",
    "To understand the issue, consider a `Car` class, that simulates a car.\n",
    "\n",
    "Suppose that this class defines the variables `miles` and `kms`, which give the distance traveled in miles\n",
    "and kilometers respectively.\n",
    "\n",
    "A highly simplified version of the class might look as follows"
   ]
  },
  {
   "cell_type": "code",
   "execution_count": 30,
   "id": "903acec2",
   "metadata": {},
   "outputs": [],
   "source": [
    "class Car:\n",
    "\n",
    "    def __init__(self, miles=1000):\n",
    "        self.miles = miles\n",
    "        self.kms = miles * 1.61\n",
    "\n",
    "    # Some other functionality, details omitted"
   ]
  },
  {
   "cell_type": "markdown",
   "id": "784828ff",
   "metadata": {},
   "source": [
    "One potential problem we might have here is that a user alters one of these\n",
    "variables but not the other"
   ]
  },
  {
   "cell_type": "code",
   "execution_count": 31,
   "id": "f27f87cd",
   "metadata": {},
   "outputs": [
    {
     "data": {
      "text/plain": [
       "1000"
      ]
     },
     "execution_count": 31,
     "metadata": {},
     "output_type": "execute_result"
    }
   ],
   "source": [
    "car = Car()\n",
    "car.miles"
   ]
  },
  {
   "cell_type": "code",
   "execution_count": 32,
   "id": "881e013a",
   "metadata": {},
   "outputs": [
    {
     "data": {
      "text/plain": [
       "1610.0"
      ]
     },
     "execution_count": 32,
     "metadata": {},
     "output_type": "execute_result"
    }
   ],
   "source": [
    "car.kms"
   ]
  },
  {
   "cell_type": "code",
   "execution_count": 33,
   "id": "990dbf7a",
   "metadata": {},
   "outputs": [
    {
     "data": {
      "text/plain": [
       "1610.0"
      ]
     },
     "execution_count": 33,
     "metadata": {},
     "output_type": "execute_result"
    }
   ],
   "source": [
    "car.miles = 6000\n",
    "car.kms"
   ]
  },
  {
   "cell_type": "markdown",
   "id": "029c1e25",
   "metadata": {},
   "source": [
    "In the last two lines we see that `miles` and `kms` are out of sync.\n",
    "\n",
    "What we really want is some mechanism whereby each time a user sets one of these variables, *the other is automatically updated*.\n",
    "\n",
    "#### A Solution\n",
    "\n",
    "In Python, this issue is solved using *descriptors*.\n",
    "\n",
    "A descriptor is just a Python object that implements certain methods.\n",
    "\n",
    "These methods are triggered when the object is accessed through dotted attribute notation.\n",
    "\n",
    "The best way to understand this is to see it in action.\n",
    "\n",
    "Consider this alternative version of the `Car` class"
   ]
  },
  {
   "cell_type": "code",
   "execution_count": 34,
   "id": "961e1f47",
   "metadata": {},
   "outputs": [],
   "source": [
    "class Car:\n",
    "\n",
    "    def __init__(self, miles=1000):\n",
    "        self._miles = miles\n",
    "        self._kms = miles * 1.61\n",
    "\n",
    "    def set_miles(self, value):\n",
    "        self._miles = value\n",
    "        self._kms = value * 1.61\n",
    "\n",
    "    def set_kms(self, value):\n",
    "        self._kms = value\n",
    "        self._miles = value / 1.61\n",
    "\n",
    "    def get_miles(self):\n",
    "        return self._miles\n",
    "\n",
    "    def get_kms(self):\n",
    "        return self._kms\n",
    "\n",
    "    miles = property(get_miles, set_miles)\n",
    "    kms = property(get_kms, set_kms)"
   ]
  },
  {
   "cell_type": "markdown",
   "id": "3af908db",
   "metadata": {},
   "source": [
    "First let's check that we get the desired behavior"
   ]
  },
  {
   "cell_type": "code",
   "execution_count": 35,
   "id": "5a826488",
   "metadata": {},
   "outputs": [
    {
     "data": {
      "text/plain": [
       "1000"
      ]
     },
     "execution_count": 35,
     "metadata": {},
     "output_type": "execute_result"
    }
   ],
   "source": [
    "car = Car()\n",
    "car.miles"
   ]
  },
  {
   "cell_type": "code",
   "execution_count": 36,
   "id": "8bb573e6",
   "metadata": {},
   "outputs": [
    {
     "data": {
      "text/plain": [
       "9660.0"
      ]
     },
     "execution_count": 36,
     "metadata": {},
     "output_type": "execute_result"
    }
   ],
   "source": [
    "car.miles = 6000\n",
    "car.kms"
   ]
  },
  {
   "cell_type": "markdown",
   "id": "05215124",
   "metadata": {},
   "source": [
    "Yep, that's what we want --- `car.kms` is automatically updated.\n",
    "\n",
    "#### How it Works\n",
    "\n",
    "The names `_miles` and `_kms` are arbitrary names we are using to store the values of the variables.\n",
    "\n",
    "The objects `miles` and `kms` are *properties*, a common kind of descriptor.\n",
    "\n",
    "The methods `get_miles`, `set_miles`, `get_kms` and `set_kms` define\n",
    "what happens when you get (i.e. access) or set (bind) these variables\n",
    "\n",
    "* So-called \"getter\" and \"setter\" methods.\n",
    "\n",
    "The builtin Python function `property` takes getter and setter methods and creates a property.\n",
    "\n",
    "For example, after `car` is created as an instance of `Car`, the object `car.miles` is a property.\n",
    "\n",
    "Being a property, when we set its value via `car.miles = 6000` its setter\n",
    "method is triggered --- in this case `set_miles`.\n",
    "\n",
    "#### Decorators and Properties\n",
    "\n",
    "```{index} single: Python; Decorators\n",
    "```\n",
    "\n",
    "```{index} single: Python; Properties\n",
    "```\n",
    "\n",
    "These days its very common to see the `property` function used via a decorator.\n",
    "\n",
    "Here's another version of our `Car` class that works as before but now uses\n",
    "decorators to set up the properties"
   ]
  },
  {
   "cell_type": "code",
   "execution_count": 37,
   "id": "032fd02b",
   "metadata": {},
   "outputs": [],
   "source": [
    "class Car:\n",
    "\n",
    "    def __init__(self, miles=1000):\n",
    "        self._miles = miles\n",
    "        self._kms = miles * 1.61\n",
    "\n",
    "    @property\n",
    "    def miles(self):\n",
    "        return self._miles\n",
    "\n",
    "    @property\n",
    "    def kms(self):\n",
    "        return self._kms\n",
    "\n",
    "    @miles.setter\n",
    "    def miles(self, value):\n",
    "        self._miles = value\n",
    "        self._kms = value * 1.61\n",
    "\n",
    "    @kms.setter\n",
    "    def kms(self, value):\n",
    "        self._kms = value\n",
    "        self._miles = value / 1.61"
   ]
  },
  {
   "cell_type": "markdown",
   "id": "56b648d8",
   "metadata": {},
   "source": [
    "We won't go through all the details here.\n",
    "\n",
    "For further information you can refer to the [descriptor documentation](https://docs.python.org/3/howto/descriptor.html).\n",
    "\n",
    "(paf_generators)=\n",
    "## Generators\n",
    "\n",
    "```{index} single: Python; Generators\n",
    "```\n",
    "\n",
    "A generator is a kind of iterator (i.e., it works with a `next` function).\n",
    "\n",
    "We will study two ways to build generators: generator expressions and generator functions.\n",
    "\n",
    "### Generator Expressions\n",
    "\n",
    "The easiest way to build generators is using *generator expressions*.\n",
    "\n",
    "Just like a list comprehension, but with round brackets.\n",
    "\n",
    "Here is the list comprehension:"
   ]
  },
  {
   "cell_type": "code",
   "execution_count": 38,
   "id": "44019c88",
   "metadata": {},
   "outputs": [
    {
     "data": {
      "text/plain": [
       "tuple"
      ]
     },
     "execution_count": 38,
     "metadata": {},
     "output_type": "execute_result"
    }
   ],
   "source": [
    "singular = ('dog', 'cat', 'bird')\n",
    "type(singular)"
   ]
  },
  {
   "cell_type": "code",
   "execution_count": 39,
   "id": "96f410dd",
   "metadata": {},
   "outputs": [
    {
     "data": {
      "text/plain": [
       "['dogs', 'cats', 'birds']"
      ]
     },
     "execution_count": 39,
     "metadata": {},
     "output_type": "execute_result"
    }
   ],
   "source": [
    "plural = [string + 's' for string in singular]\n",
    "plural"
   ]
  },
  {
   "cell_type": "code",
   "execution_count": 40,
   "id": "92164a35",
   "metadata": {},
   "outputs": [
    {
     "data": {
      "text/plain": [
       "list"
      ]
     },
     "execution_count": 40,
     "metadata": {},
     "output_type": "execute_result"
    }
   ],
   "source": [
    "type(plural)"
   ]
  },
  {
   "cell_type": "markdown",
   "id": "3ba6db22",
   "metadata": {},
   "source": [
    "And here is the generator expression"
   ]
  },
  {
   "cell_type": "code",
   "execution_count": 41,
   "id": "ae4c4c0d",
   "metadata": {},
   "outputs": [
    {
     "data": {
      "text/plain": [
       "generator"
      ]
     },
     "execution_count": 41,
     "metadata": {},
     "output_type": "execute_result"
    }
   ],
   "source": [
    "singular = ('dog', 'cat', 'bird')\n",
    "plural = (string + 's' for string in singular)\n",
    "type(plural)"
   ]
  },
  {
   "cell_type": "code",
   "execution_count": 42,
   "id": "267c6e50",
   "metadata": {},
   "outputs": [
    {
     "data": {
      "text/plain": [
       "'dogs'"
      ]
     },
     "execution_count": 42,
     "metadata": {},
     "output_type": "execute_result"
    }
   ],
   "source": [
    "next(plural)"
   ]
  },
  {
   "cell_type": "code",
   "execution_count": 43,
   "id": "7fb2ad21",
   "metadata": {},
   "outputs": [
    {
     "data": {
      "text/plain": [
       "'cats'"
      ]
     },
     "execution_count": 43,
     "metadata": {},
     "output_type": "execute_result"
    }
   ],
   "source": [
    "next(plural)"
   ]
  },
  {
   "cell_type": "code",
   "execution_count": 44,
   "id": "e92a82cf",
   "metadata": {},
   "outputs": [
    {
     "data": {
      "text/plain": [
       "'birds'"
      ]
     },
     "execution_count": 44,
     "metadata": {},
     "output_type": "execute_result"
    }
   ],
   "source": [
    "next(plural)"
   ]
  },
  {
   "cell_type": "markdown",
   "id": "78d28fb7",
   "metadata": {},
   "source": [
    "Since `sum()` can be called on iterators, we can do this"
   ]
  },
  {
   "cell_type": "code",
   "execution_count": 45,
   "id": "fb84d343",
   "metadata": {},
   "outputs": [
    {
     "data": {
      "text/plain": [
       "285"
      ]
     },
     "execution_count": 45,
     "metadata": {},
     "output_type": "execute_result"
    }
   ],
   "source": [
    "sum((x * x for x in range(10)))"
   ]
  },
  {
   "cell_type": "markdown",
   "id": "c3497b60",
   "metadata": {},
   "source": [
    "The function `sum()` calls `next()` to get the items, adds successive terms.\n",
    "\n",
    "In fact, we can omit the outer brackets in this case"
   ]
  },
  {
   "cell_type": "code",
   "execution_count": 46,
   "id": "c5bd7fbf",
   "metadata": {},
   "outputs": [
    {
     "data": {
      "text/plain": [
       "285"
      ]
     },
     "execution_count": 46,
     "metadata": {},
     "output_type": "execute_result"
    }
   ],
   "source": [
    "sum(x * x for x in range(10))"
   ]
  },
  {
   "cell_type": "markdown",
   "id": "1562b842",
   "metadata": {},
   "source": [
    "### Generator Functions\n",
    "\n",
    "```{index} single: Python; Generator Functions\n",
    "```\n",
    "\n",
    "The most flexible way to create generator objects is to use generator functions.\n",
    "\n",
    "Let's look at some examples.\n",
    "\n",
    "#### Example 1\n",
    "\n",
    "Here's a very simple example of a generator function"
   ]
  },
  {
   "cell_type": "code",
   "execution_count": 47,
   "id": "76f79e18",
   "metadata": {},
   "outputs": [],
   "source": [
    "def f():\n",
    "    yield 'start'\n",
    "    yield 'middle'\n",
    "    yield 'end'"
   ]
  },
  {
   "cell_type": "markdown",
   "id": "8963b804",
   "metadata": {},
   "source": [
    "It looks like a function, but uses a keyword `yield` that we haven't met before.\n",
    "\n",
    "Let's see how it works after running this code"
   ]
  },
  {
   "cell_type": "code",
   "execution_count": 48,
   "id": "eb341f3e",
   "metadata": {},
   "outputs": [
    {
     "data": {
      "text/plain": [
       "function"
      ]
     },
     "execution_count": 48,
     "metadata": {},
     "output_type": "execute_result"
    }
   ],
   "source": [
    "type(f)"
   ]
  },
  {
   "cell_type": "code",
   "execution_count": 49,
   "id": "786a1410",
   "metadata": {},
   "outputs": [
    {
     "data": {
      "text/plain": [
       "<generator object f at 0x7fd993f60eb0>"
      ]
     },
     "execution_count": 49,
     "metadata": {},
     "output_type": "execute_result"
    }
   ],
   "source": [
    "gen = f()\n",
    "gen"
   ]
  },
  {
   "cell_type": "code",
   "execution_count": 50,
   "id": "d35955d1",
   "metadata": {},
   "outputs": [
    {
     "data": {
      "text/plain": [
       "'start'"
      ]
     },
     "execution_count": 50,
     "metadata": {},
     "output_type": "execute_result"
    }
   ],
   "source": [
    "next(gen)"
   ]
  },
  {
   "cell_type": "code",
   "execution_count": 51,
   "id": "325bf499",
   "metadata": {},
   "outputs": [
    {
     "data": {
      "text/plain": [
       "'middle'"
      ]
     },
     "execution_count": 51,
     "metadata": {},
     "output_type": "execute_result"
    }
   ],
   "source": [
    "next(gen)"
   ]
  },
  {
   "cell_type": "code",
   "execution_count": 52,
   "id": "2d97a179",
   "metadata": {},
   "outputs": [
    {
     "data": {
      "text/plain": [
       "'end'"
      ]
     },
     "execution_count": 52,
     "metadata": {},
     "output_type": "execute_result"
    }
   ],
   "source": [
    "next(gen)"
   ]
  },
  {
   "cell_type": "code",
   "execution_count": 53,
   "id": "bd2676c4",
   "metadata": {
    "tags": [
     "raises-exception"
    ]
   },
   "outputs": [
    {
     "ename": "StopIteration",
     "evalue": "",
     "output_type": "error",
     "traceback": [
      "\u001b[0;31m---------------------------------------------------------------------------\u001b[0m",
      "\u001b[0;31mStopIteration\u001b[0m                             Traceback (most recent call last)",
      "Input \u001b[0;32mIn [53]\u001b[0m, in \u001b[0;36m<cell line: 1>\u001b[0;34m()\u001b[0m\n\u001b[0;32m----> 1\u001b[0m \u001b[38;5;28;43mnext\u001b[39;49m\u001b[43m(\u001b[49m\u001b[43mgen\u001b[49m\u001b[43m)\u001b[49m\n",
      "\u001b[0;31mStopIteration\u001b[0m: "
     ]
    }
   ],
   "source": [
    "next(gen)"
   ]
  },
  {
   "cell_type": "markdown",
   "id": "61f83945",
   "metadata": {},
   "source": [
    "The generator function `f()` is used to create generator objects (in this case `gen`).\n",
    "\n",
    "Generators are iterators, because they support a `next` method.\n",
    "\n",
    "The first call to `next(gen)`\n",
    "\n",
    "* Executes code in the body of `f()` until it meets a `yield` statement.\n",
    "* Returns that value to the caller of `next(gen)`.\n",
    "\n",
    "The second call to `next(gen)` starts executing *from the next line*"
   ]
  },
  {
   "cell_type": "code",
   "execution_count": 54,
   "id": "e50368e3",
   "metadata": {},
   "outputs": [],
   "source": [
    "def f():\n",
    "    yield 'start'\n",
    "    yield 'middle'  # This line!\n",
    "    yield 'end'"
   ]
  },
  {
   "cell_type": "markdown",
   "id": "78fed275",
   "metadata": {},
   "source": [
    "and continues until the next `yield` statement.\n",
    "\n",
    "At that point it returns the value following `yield` to the caller of `next(gen)`, and so on.\n",
    "\n",
    "When the code block ends, the generator throws a `StopIteration` error.\n",
    "\n",
    "#### Example 2\n",
    "\n",
    "Our next example receives an argument `x` from the caller"
   ]
  },
  {
   "cell_type": "code",
   "execution_count": 55,
   "id": "42a972bc",
   "metadata": {},
   "outputs": [],
   "source": [
    "def g(x):\n",
    "    while x < 100:\n",
    "        yield x\n",
    "        x = x * x"
   ]
  },
  {
   "cell_type": "markdown",
   "id": "a6088177",
   "metadata": {},
   "source": [
    "Let's see how it works"
   ]
  },
  {
   "cell_type": "code",
   "execution_count": 56,
   "id": "cd524bc9",
   "metadata": {},
   "outputs": [
    {
     "data": {
      "text/plain": [
       "<function __main__.g(x)>"
      ]
     },
     "execution_count": 56,
     "metadata": {},
     "output_type": "execute_result"
    }
   ],
   "source": [
    "g"
   ]
  },
  {
   "cell_type": "code",
   "execution_count": 57,
   "id": "9a00c668",
   "metadata": {},
   "outputs": [
    {
     "data": {
      "text/plain": [
       "generator"
      ]
     },
     "execution_count": 57,
     "metadata": {},
     "output_type": "execute_result"
    }
   ],
   "source": [
    "gen = g(2)\n",
    "type(gen)"
   ]
  },
  {
   "cell_type": "code",
   "execution_count": 58,
   "id": "27bfcc3d",
   "metadata": {},
   "outputs": [
    {
     "data": {
      "text/plain": [
       "2"
      ]
     },
     "execution_count": 58,
     "metadata": {},
     "output_type": "execute_result"
    }
   ],
   "source": [
    "next(gen)"
   ]
  },
  {
   "cell_type": "code",
   "execution_count": 59,
   "id": "6883087e",
   "metadata": {},
   "outputs": [
    {
     "data": {
      "text/plain": [
       "4"
      ]
     },
     "execution_count": 59,
     "metadata": {},
     "output_type": "execute_result"
    }
   ],
   "source": [
    "next(gen)"
   ]
  },
  {
   "cell_type": "code",
   "execution_count": 60,
   "id": "b44bfd31",
   "metadata": {},
   "outputs": [
    {
     "data": {
      "text/plain": [
       "16"
      ]
     },
     "execution_count": 60,
     "metadata": {},
     "output_type": "execute_result"
    }
   ],
   "source": [
    "next(gen)"
   ]
  },
  {
   "cell_type": "code",
   "execution_count": 61,
   "id": "0c4798df",
   "metadata": {
    "tags": [
     "raises-exception"
    ]
   },
   "outputs": [
    {
     "ename": "StopIteration",
     "evalue": "",
     "output_type": "error",
     "traceback": [
      "\u001b[0;31m---------------------------------------------------------------------------\u001b[0m",
      "\u001b[0;31mStopIteration\u001b[0m                             Traceback (most recent call last)",
      "Input \u001b[0;32mIn [61]\u001b[0m, in \u001b[0;36m<cell line: 1>\u001b[0;34m()\u001b[0m\n\u001b[0;32m----> 1\u001b[0m \u001b[38;5;28;43mnext\u001b[39;49m\u001b[43m(\u001b[49m\u001b[43mgen\u001b[49m\u001b[43m)\u001b[49m\n",
      "\u001b[0;31mStopIteration\u001b[0m: "
     ]
    }
   ],
   "source": [
    "next(gen)"
   ]
  },
  {
   "cell_type": "markdown",
   "id": "e1a9413f",
   "metadata": {},
   "source": [
    "The call `gen = g(2)` binds `gen` to a generator.\n",
    "\n",
    "Inside the generator, the name `x` is bound to `2`.\n",
    "\n",
    "When we call `next(gen)`\n",
    "\n",
    "* The body of `g()` executes until the line `yield x`, and the value of `x` is returned.\n",
    "\n",
    "Note that value of `x` is retained inside the generator.\n",
    "\n",
    "When we call `next(gen)` again, execution continues *from where it left off*"
   ]
  },
  {
   "cell_type": "code",
   "execution_count": 62,
   "id": "04742817",
   "metadata": {},
   "outputs": [],
   "source": [
    "def g(x):\n",
    "    while x < 100:\n",
    "        yield x\n",
    "        x = x * x  # execution continues from here"
   ]
  },
  {
   "cell_type": "markdown",
   "id": "71f745c2",
   "metadata": {},
   "source": [
    "When `x < 100` fails, the generator throws a `StopIteration` error.\n",
    "\n",
    "Incidentally, the loop inside the generator can be infinite"
   ]
  },
  {
   "cell_type": "code",
   "execution_count": 63,
   "id": "7d8c2f01",
   "metadata": {},
   "outputs": [],
   "source": [
    "def g(x):\n",
    "    while 1:\n",
    "        yield x\n",
    "        x = x * x"
   ]
  },
  {
   "cell_type": "markdown",
   "id": "ec4c278f",
   "metadata": {},
   "source": [
    "### Advantages of Iterators\n",
    "\n",
    "What's the advantage of using an iterator here?\n",
    "\n",
    "Suppose we want to sample a binomial(n,0.5).\n",
    "\n",
    "One way to do it is as follows"
   ]
  },
  {
   "cell_type": "code",
   "execution_count": 64,
   "id": "ab5d9b53",
   "metadata": {},
   "outputs": [
    {
     "data": {
      "text/plain": [
       "5000002"
      ]
     },
     "execution_count": 64,
     "metadata": {},
     "output_type": "execute_result"
    }
   ],
   "source": [
    "import random\n",
    "n = 10000000\n",
    "draws = [random.uniform(0, 1) < 0.5 for i in range(n)]\n",
    "sum(draws)"
   ]
  },
  {
   "cell_type": "markdown",
   "id": "ae6d0463",
   "metadata": {},
   "source": [
    "But we are creating two huge lists here,  `range(n)` and `draws`.\n",
    "\n",
    "This uses lots of memory and is very slow.\n",
    "\n",
    "If we make `n` even bigger then this happens"
   ]
  },
  {
   "cell_type": "code",
   "execution_count": 65,
   "id": "61e23fb3",
   "metadata": {
    "tags": [
     "raises-exception"
    ]
   },
   "outputs": [],
   "source": [
    "n = 100000000\n",
    "draws = [random.uniform(0, 1) < 0.5 for i in range(n)]"
   ]
  },
  {
   "cell_type": "markdown",
   "id": "2c9e3026",
   "metadata": {},
   "source": [
    "We can avoid these problems using iterators.\n",
    "\n",
    "Here is the generator function"
   ]
  },
  {
   "cell_type": "code",
   "execution_count": 66,
   "id": "8abfb82f",
   "metadata": {},
   "outputs": [],
   "source": [
    "def f(n):\n",
    "    i = 1\n",
    "    while i <= n:\n",
    "        yield random.uniform(0, 1) < 0.5\n",
    "        i += 1"
   ]
  },
  {
   "cell_type": "markdown",
   "id": "fc327926",
   "metadata": {},
   "source": [
    "Now let's do the sum"
   ]
  },
  {
   "cell_type": "code",
   "execution_count": 67,
   "id": "423a448c",
   "metadata": {},
   "outputs": [
    {
     "data": {
      "text/plain": [
       "<generator object f at 0x7fd993f6cb30>"
      ]
     },
     "execution_count": 67,
     "metadata": {},
     "output_type": "execute_result"
    }
   ],
   "source": [
    "n = 10000000\n",
    "draws = f(n)\n",
    "draws"
   ]
  },
  {
   "cell_type": "code",
   "execution_count": 68,
   "id": "7b905423",
   "metadata": {},
   "outputs": [
    {
     "data": {
      "text/plain": [
       "5000607"
      ]
     },
     "execution_count": 68,
     "metadata": {},
     "output_type": "execute_result"
    }
   ],
   "source": [
    "sum(draws)"
   ]
  },
  {
   "cell_type": "markdown",
   "id": "0bf0cd39",
   "metadata": {},
   "source": [
    "In summary, iterables\n",
    "\n",
    "* avoid the need to create big lists/tuples, and\n",
    "* provide a uniform interface to iteration that can be used transparently in `for` loops\n",
    "\n",
    "\n",
    "## Exercises\n",
    "\n",
    "\n",
    "```{exercise-start}\n",
    ":label: paf_ex1\n",
    "```\n",
    "\n",
    "Complete the following code, and test it using [this csv file](https://raw.githubusercontent.com/QuantEcon/lecture-python-programming/master/source/_static/lecture_specific/python_advanced_features/test_table.csv), which we assume that you've put in your current working directory\n",
    "\n",
    "```{code-block} python3\n",
    ":class: no-execute\n",
    "\n",
    "def column_iterator(target_file, column_number):\n",
    "    \"\"\"A generator function for CSV files.\n",
    "    When called with a file name target_file (string) and column number\n",
    "    column_number (integer), the generator function returns a generator\n",
    "    that steps through the elements of column column_number in file\n",
    "    target_file.\n",
    "    \"\"\"\n",
    "    # put your code here\n",
    "\n",
    "dates = column_iterator('test_table.csv', 1)\n",
    "\n",
    "for date in dates:\n",
    "    print(date)\n",
    "```\n",
    "\n",
    "```{exercise-end}\n",
    "```\n",
    "\n",
    "```{solution-start} paf_ex1\n",
    ":class: dropdown\n",
    "```\n",
    "\n",
    "One solution is as follows"
   ]
  },
  {
   "cell_type": "code",
   "execution_count": 69,
   "id": "f29195d6",
   "metadata": {},
   "outputs": [
    {
     "name": "stdout",
     "output_type": "stream",
     "text": [
      "Date\n",
      "2009-05-21\n",
      "2009-05-20\n",
      "2009-05-19\n",
      "2009-05-18\n",
      "2009-05-15\n",
      "2009-05-14\n",
      "2009-05-13\n",
      "2009-05-12\n",
      "2009-05-11\n"
     ]
    }
   ],
   "source": [
    "def column_iterator(target_file, column_number):\n",
    "    \"\"\"A generator function for CSV files.\n",
    "    When called with a file name target_file (string) and column number\n",
    "    column_number (integer), the generator function returns a generator\n",
    "    which steps through the elements of column column_number in file\n",
    "    target_file.\n",
    "    \"\"\"\n",
    "    f = open(target_file, 'r')\n",
    "    for line in f:\n",
    "        yield line.split(',')[column_number - 1]\n",
    "    f.close()\n",
    "\n",
    "dates = column_iterator('test_table.csv', 1)\n",
    "\n",
    "i = 1\n",
    "for date in dates:\n",
    "    print(date)\n",
    "    if i == 10:\n",
    "        break\n",
    "    i += 1"
   ]
  },
  {
   "cell_type": "markdown",
   "id": "faab0d65",
   "metadata": {},
   "source": [
    "```{solution-end}\n",
    "```"
   ]
  }
 ],
 "metadata": {
  "jupytext": {
   "text_representation": {
    "extension": ".md",
    "format_name": "myst"
   }
  },
  "kernelspec": {
   "display_name": "Python 3",
   "language": "python",
   "name": "python3"
  },
  "language_info": {
   "codemirror_mode": {
    "name": "ipython",
    "version": 3
   },
   "file_extension": ".py",
   "mimetype": "text/x-python",
   "name": "python",
   "nbconvert_exporter": "python",
   "pygments_lexer": "ipython3",
   "version": "3.9.12"
  },
  "source_map": [
   10,
   64,
   77,
   82,
   84,
   91,
   93,
   97,
   102,
   104,
   110,
   125,
   133,
   135,
   183,
   186,
   192,
   197,
   202,
   212,
   217,
   222,
   226,
   230,
   235,
   241,
   246,
   264,
   269,
   274,
   276,
   280,
   286,
   291,
   323,
   333,
   348,
   360,
   375,
   393,
   420,
   423,
   431,
   440,
   444,
   452,
   480,
   488,
   493,
   498,
   502,
   505,
   523,
   546,
   550,
   555,
   558,
   593,
   617,
   641,
   646,
   651,
   653,
   657,
   663,
   667,
   671,
   673,
   677,
   679,
   685,
   687,
   702,
   707,
   713,
   717,
   722,
   726,
   730,
   734,
   739,
   752,
   757,
   769,
   774,
   778,
   782,
   787,
   791,
   795,
   799,
   804,
   818,
   823,
   829,
   834,
   844,
   849,
   857,
   863,
   869,
   875,
   879,
   885,
   887,
   931,
   952
  ]
 },
 "nbformat": 4,
 "nbformat_minor": 5
}