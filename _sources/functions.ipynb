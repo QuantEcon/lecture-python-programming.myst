{
 "cells": [
  {
   "cell_type": "markdown",
   "id": "f5b52009",
   "metadata": {},
   "source": [
    "(functions)=\n",
    "```{raw} jupyter\n",
    "<div id=\"qe-notebook-header\" align=\"right\" style=\"text-align:right;\">\n",
    "        <a href=\"https://quantecon.org/\" title=\"quantecon.org\">\n",
    "                <img style=\"width:250px;display:inline;\" width=\"250px\" src=\"https://assets.quantecon.org/img/qe-menubar-logo.svg\" alt=\"QuantEcon\">\n",
    "        </a>\n",
    "</div>\n",
    "```\n",
    "\n",
    "# Functions\n",
    "\n",
    "```{index} single: Python; User-defined functions\n",
    "```\n",
    "\n",
    "```{contents} Contents\n",
    ":depth: 2\n",
    "```\n",
    "\n",
    "## Overview\n",
    "\n",
    "One construct that's extremely useful and provided by almost all programming\n",
    "languages is **functions**.\n",
    "\n",
    "We have already met several functions, such as\n",
    "\n",
    "* the `sqrt()` function from NumPy and\n",
    "* the built-in `print()` function\n",
    "\n",
    "In this lecture we'll treat functions systematically and begin to learn just how\n",
    "useful and important they are.\n",
    "\n",
    "One of the things we will learn to do is build our own user-defined functions\n",
    "\n",
    "We will use the following imports."
   ]
  },
  {
   "cell_type": "code",
   "execution_count": 1,
   "id": "c750d737",
   "metadata": {},
   "outputs": [],
   "source": [
    "%matplotlib inline\n",
    "import numpy as np\n",
    "import matplotlib.pyplot as plt\n",
    "plt.rcParams['figure.figsize'] = (10,6)"
   ]
  },
  {
   "cell_type": "markdown",
   "id": "0c181bba",
   "metadata": {},
   "source": [
    "## Function Basics\n",
    "\n",
    "A function is a named section of a program that implements a specific task.\n",
    "\n",
    "Many functions exist already and we can use them off the shelf.\n",
    "\n",
    "First we review these functions and then discuss how we can build our own.\n",
    "\n",
    "### Built-In Functions\n",
    "\n",
    "Python has a number of *built-in* functions that are available without `import`.\n",
    "\n",
    "We have already met some"
   ]
  },
  {
   "cell_type": "code",
   "execution_count": 2,
   "id": "d9fda825",
   "metadata": {},
   "outputs": [
    {
     "data": {
      "text/plain": [
       "20"
      ]
     },
     "execution_count": 2,
     "metadata": {},
     "output_type": "execute_result"
    }
   ],
   "source": [
    "max(19, 20)"
   ]
  },
  {
   "cell_type": "code",
   "execution_count": 3,
   "id": "91346dae",
   "metadata": {},
   "outputs": [
    {
     "name": "stdout",
     "output_type": "stream",
     "text": [
      "foobar\n"
     ]
    }
   ],
   "source": [
    "print('foobar')"
   ]
  },
  {
   "cell_type": "code",
   "execution_count": 4,
   "id": "c977a00d",
   "metadata": {},
   "outputs": [
    {
     "data": {
      "text/plain": [
       "'22'"
      ]
     },
     "execution_count": 4,
     "metadata": {},
     "output_type": "execute_result"
    }
   ],
   "source": [
    "str(22)"
   ]
  },
  {
   "cell_type": "code",
   "execution_count": 5,
   "id": "30720259",
   "metadata": {},
   "outputs": [
    {
     "data": {
      "text/plain": [
       "int"
      ]
     },
     "execution_count": 5,
     "metadata": {},
     "output_type": "execute_result"
    }
   ],
   "source": [
    "type(22)"
   ]
  },
  {
   "cell_type": "markdown",
   "id": "9e2c6f85",
   "metadata": {},
   "source": [
    "Two more useful built-in functions are `any()` and `all()`"
   ]
  },
  {
   "cell_type": "code",
   "execution_count": 6,
   "id": "2f673055",
   "metadata": {},
   "outputs": [
    {
     "data": {
      "text/plain": [
       "False"
      ]
     },
     "execution_count": 6,
     "metadata": {},
     "output_type": "execute_result"
    }
   ],
   "source": [
    "bools = False, True, True\n",
    "all(bools)  # True if all are True and False otherwise"
   ]
  },
  {
   "cell_type": "code",
   "execution_count": 7,
   "id": "282fb456",
   "metadata": {},
   "outputs": [
    {
     "data": {
      "text/plain": [
       "True"
      ]
     },
     "execution_count": 7,
     "metadata": {},
     "output_type": "execute_result"
    }
   ],
   "source": [
    "any(bools)  # False if all are False and True otherwise"
   ]
  },
  {
   "cell_type": "markdown",
   "id": "0862e62a",
   "metadata": {},
   "source": [
    "The full list of Python built-ins is [here](https://docs.python.org/library/functions.html).\n",
    "\n",
    "### Third Party Functions\n",
    "\n",
    "If the built-in functions don't cover what we need, we either need to import\n",
    "functions or create our own.\n",
    "\n",
    "Examples of importing and using functions\n",
    "were given in the {doc}`previous lecture <python_by_example>`\n",
    "\n",
    "Here's another one, which tests whether a given year is a leap year:"
   ]
  },
  {
   "cell_type": "code",
   "execution_count": 8,
   "id": "92fac964",
   "metadata": {},
   "outputs": [
    {
     "data": {
      "text/plain": [
       "True"
      ]
     },
     "execution_count": 8,
     "metadata": {},
     "output_type": "execute_result"
    }
   ],
   "source": [
    "import calendar\n",
    "\n",
    "calendar.isleap(2020)"
   ]
  },
  {
   "cell_type": "markdown",
   "id": "60d4721e",
   "metadata": {},
   "source": [
    "## Defining Functions\n",
    "\n",
    "In many instances, it is useful to be able to define our own functions.\n",
    "\n",
    "This will become clearer as you see more examples.\n",
    "\n",
    "Let's start by discussing how it's done.\n",
    "\n",
    "### Basic Syntax\n",
    "\n",
    "Here's a very simple Python function, that implements the mathematical function\n",
    "$f(x) = 2 x + 1$"
   ]
  },
  {
   "cell_type": "code",
   "execution_count": 9,
   "id": "0082f49a",
   "metadata": {},
   "outputs": [],
   "source": [
    "def f(x):\n",
    "    return 2 * x + 1"
   ]
  },
  {
   "cell_type": "markdown",
   "id": "b1cb6d2d",
   "metadata": {},
   "source": [
    "Now that we've *defined* this function, let's *call* it and check whether it\n",
    "does what we expect:"
   ]
  },
  {
   "cell_type": "code",
   "execution_count": 10,
   "id": "012b6fc9",
   "metadata": {},
   "outputs": [
    {
     "data": {
      "text/plain": [
       "3"
      ]
     },
     "execution_count": 10,
     "metadata": {},
     "output_type": "execute_result"
    }
   ],
   "source": [
    "f(1)"
   ]
  },
  {
   "cell_type": "code",
   "execution_count": 11,
   "id": "67de0aba",
   "metadata": {},
   "outputs": [
    {
     "data": {
      "text/plain": [
       "21"
      ]
     },
     "execution_count": 11,
     "metadata": {},
     "output_type": "execute_result"
    }
   ],
   "source": [
    "f(10)"
   ]
  },
  {
   "cell_type": "markdown",
   "id": "9fa886ab",
   "metadata": {},
   "source": [
    "Here's a longer function, that computes the absolute value of a given number.\n",
    "\n",
    "(Such a function already exists as a built-in, but let's write our own for the\n",
    "exercise.)"
   ]
  },
  {
   "cell_type": "code",
   "execution_count": 12,
   "id": "399a570d",
   "metadata": {},
   "outputs": [],
   "source": [
    "def new_abs_function(x):\n",
    "\n",
    "    if x < 0:\n",
    "        abs_value = -x\n",
    "    else:\n",
    "        abs_value = x\n",
    "\n",
    "    return abs_value"
   ]
  },
  {
   "cell_type": "markdown",
   "id": "c0fa805d",
   "metadata": {},
   "source": [
    "Let's review the syntax here.\n",
    "\n",
    "* `def` is a Python keyword used to start function definitions.\n",
    "* `def new_abs_function(x):` indicates that the function is called `new_abs_function` and that it has a single argument `x`.\n",
    "* The indented code is a code block called the *function body*.\n",
    "* The `return` keyword indicates that `abs_value` is the object that should be returned to the calling code.\n",
    "\n",
    "This whole function definition is read by the Python interpreter and stored in memory.\n",
    "\n",
    "Let's call it to check that it works:"
   ]
  },
  {
   "cell_type": "code",
   "execution_count": 13,
   "id": "3ee84184",
   "metadata": {},
   "outputs": [
    {
     "name": "stdout",
     "output_type": "stream",
     "text": [
      "3\n",
      "3\n"
     ]
    }
   ],
   "source": [
    "print(new_abs_function(3))\n",
    "print(new_abs_function(-3))"
   ]
  },
  {
   "cell_type": "markdown",
   "id": "a8a2a418",
   "metadata": {},
   "source": [
    "Note that a function can have arbitrarily many `return` statements (including zero).\n",
    "\n",
    "Execution of the function terminates when the first return is hit, allowing\n",
    "code like the following example"
   ]
  },
  {
   "cell_type": "code",
   "execution_count": 14,
   "id": "ec722688",
   "metadata": {},
   "outputs": [],
   "source": [
    "def f(x):\n",
    "    if x < 0:\n",
    "        return 'negative'\n",
    "    return 'nonnegative'"
   ]
  },
  {
   "cell_type": "markdown",
   "id": "79405199",
   "metadata": {},
   "source": [
    "Functions without a return statement automatically return the special Python object `None`.\n",
    "\n",
    "### Keyword Arguments\n",
    "\n",
    "```{index} single: Python; keyword arguments\n",
    "```\n",
    "\n",
    "In a {ref}`previous lecture <python_by_example>`, you came across the statement\n",
    "\n",
    "```{code-block} python3\n",
    ":class: no-execute\n",
    "\n",
    "plt.plot(x, 'b-', label=\"white noise\")\n",
    "```\n",
    "\n",
    "In this call to Matplotlib's `plot` function, notice that the last argument is passed in `name=argument` syntax.\n",
    "\n",
    "This is called a *keyword argument*, with `label` being the keyword.\n",
    "\n",
    "Non-keyword arguments are called *positional arguments*, since their meaning\n",
    "is determined by order\n",
    "\n",
    "* `plot(x, 'b-', label=\"white noise\")` is different from `plot('b-', x, label=\"white noise\")`\n",
    "\n",
    "Keyword arguments are particularly useful when a function has a lot of arguments, in which case it's hard to remember the right order.\n",
    "\n",
    "You can adopt keyword arguments in user-defined functions with no difficulty.\n",
    "\n",
    "The next example illustrates the syntax"
   ]
  },
  {
   "cell_type": "code",
   "execution_count": 15,
   "id": "493b2a54",
   "metadata": {},
   "outputs": [],
   "source": [
    "def f(x, a=1, b=1):\n",
    "    return a + b * x"
   ]
  },
  {
   "cell_type": "markdown",
   "id": "b57d4834",
   "metadata": {},
   "source": [
    "The keyword argument values we supplied in the definition of `f` become the default values"
   ]
  },
  {
   "cell_type": "code",
   "execution_count": 16,
   "id": "93872139",
   "metadata": {},
   "outputs": [
    {
     "data": {
      "text/plain": [
       "3"
      ]
     },
     "execution_count": 16,
     "metadata": {},
     "output_type": "execute_result"
    }
   ],
   "source": [
    "f(2)"
   ]
  },
  {
   "cell_type": "markdown",
   "id": "58c1530d",
   "metadata": {},
   "source": [
    "They can be modified as follows"
   ]
  },
  {
   "cell_type": "code",
   "execution_count": 17,
   "id": "79e9ae54",
   "metadata": {},
   "outputs": [
    {
     "data": {
      "text/plain": [
       "14"
      ]
     },
     "execution_count": 17,
     "metadata": {},
     "output_type": "execute_result"
    }
   ],
   "source": [
    "f(2, a=4, b=5)"
   ]
  },
  {
   "cell_type": "markdown",
   "id": "8c1eccf1",
   "metadata": {},
   "source": [
    "### The Flexibility of Python Functions\n",
    "\n",
    "As we discussed in the {ref}`previous lecture <python_by_example>`, Python functions are very flexible.\n",
    "\n",
    "In particular\n",
    "\n",
    "* Any number of functions can be defined in a given file.\n",
    "* Functions can be (and often are) defined inside other functions.\n",
    "* Any object can be passed to a function as an argument, including other functions.\n",
    "* A function can return any kind of object, including functions.\n",
    "\n",
    "We will give examples of how straightforward it is to pass a function to\n",
    "a function in the following sections.\n",
    "\n",
    "### One-Line Functions: `lambda`\n",
    "\n",
    "```{index} single: Python; lambda functions\n",
    "```\n",
    "\n",
    "The `lambda` keyword is used to create simple functions on one line.\n",
    "\n",
    "For example, the definitions"
   ]
  },
  {
   "cell_type": "code",
   "execution_count": 18,
   "id": "a5237783",
   "metadata": {},
   "outputs": [],
   "source": [
    "def f(x):\n",
    "    return x**3"
   ]
  },
  {
   "cell_type": "markdown",
   "id": "b95be3a6",
   "metadata": {},
   "source": [
    "and"
   ]
  },
  {
   "cell_type": "code",
   "execution_count": 19,
   "id": "0c6c4777",
   "metadata": {},
   "outputs": [],
   "source": [
    "f = lambda x: x**3"
   ]
  },
  {
   "cell_type": "markdown",
   "id": "a6817c4f",
   "metadata": {},
   "source": [
    "are entirely equivalent.\n",
    "\n",
    "To see why `lambda` is useful, suppose that we want to calculate $\\int_0^2 x^3 dx$ (and have forgotten our high-school calculus).\n",
    "\n",
    "The SciPy library has a function called `quad` that will do this calculation for us.\n",
    "\n",
    "The syntax of the `quad` function is `quad(f, a, b)` where `f` is a function and `a` and `b` are numbers.\n",
    "\n",
    "To create the function $f(x) = x^3$ we can use `lambda` as follows"
   ]
  },
  {
   "cell_type": "code",
   "execution_count": 20,
   "id": "031f74f5",
   "metadata": {},
   "outputs": [
    {
     "data": {
      "text/plain": [
       "(4.0, 4.440892098500626e-14)"
      ]
     },
     "execution_count": 20,
     "metadata": {},
     "output_type": "execute_result"
    }
   ],
   "source": [
    "from scipy.integrate import quad\n",
    "\n",
    "quad(lambda x: x**3, 0, 2)"
   ]
  },
  {
   "cell_type": "markdown",
   "id": "97ee033b",
   "metadata": {},
   "source": [
    "Here the function created by `lambda` is said to be *anonymous* because it was never given a name.\n",
    "\n",
    "\n",
    "### Why Write Functions?\n",
    "\n",
    "User-defined functions are important for improving the clarity of your code by\n",
    "\n",
    "* separating different strands of logic\n",
    "* facilitating code reuse\n",
    "\n",
    "(Writing the same thing twice is [almost always a bad idea](https://en.wikipedia.org/wiki/Don%27t_repeat_yourself))\n",
    "\n",
    "We will say more about this {doc}`later <writing_good_code>`.\n",
    "\n",
    "## Applications\n",
    "\n",
    "### Random Draws\n",
    "\n",
    "Consider again this code from the {doc}`previous lecture <python_by_example>`"
   ]
  },
  {
   "cell_type": "code",
   "execution_count": 21,
   "id": "bbfb2958",
   "metadata": {},
   "outputs": [
    {
     "data": {
      "image/png": "[encoded data removed]",
      "text/plain": [
       "<Figure size 720x432 with 1 Axes>"
      ]
     },
     "metadata": {
      "filenames": {
       "image/png": "/home/runner/work/lecture-python-programming.myst/lecture-python-programming.myst/_build/jupyter_execute/functions_36_0.png"
      },
      "needs_background": "light"
     },
     "output_type": "display_data"
    }
   ],
   "source": [
    "ts_length = 100\n",
    "ϵ_values = []   # empty list\n",
    "\n",
    "for i in range(ts_length):\n",
    "    e = np.random.randn()\n",
    "    ϵ_values.append(e)\n",
    "\n",
    "plt.plot(ϵ_values)\n",
    "plt.show()"
   ]
  },
  {
   "cell_type": "markdown",
   "id": "a7dd85c2",
   "metadata": {},
   "source": [
    "We will break this program into two parts:\n",
    "\n",
    "1. A user-defined function that generates a list of random variables.\n",
    "1. The main part of the program that\n",
    "    1. calls this function to get data\n",
    "    1. plots the data\n",
    "\n",
    "This is accomplished in the next program\n",
    "\n",
    "(funcloopprog)="
   ]
  },
  {
   "cell_type": "code",
   "execution_count": 22,
   "id": "dd363efd",
   "metadata": {},
   "outputs": [
    {
     "data": {
      "image/png": "[encoded data removed]",
      "text/plain": [
       "<Figure size 720x432 with 1 Axes>"
      ]
     },
     "metadata": {
      "filenames": {
       "image/png": "/home/runner/work/lecture-python-programming.myst/lecture-python-programming.myst/_build/jupyter_execute/functions_38_0.png"
      },
      "needs_background": "light"
     },
     "output_type": "display_data"
    }
   ],
   "source": [
    "def generate_data(n):\n",
    "    ϵ_values = []\n",
    "    for i in range(n):\n",
    "        e = np.random.randn()\n",
    "        ϵ_values.append(e)\n",
    "    return ϵ_values\n",
    "\n",
    "data = generate_data(100)\n",
    "plt.plot(data)\n",
    "plt.show()"
   ]
  },
  {
   "cell_type": "markdown",
   "id": "b7e68a16",
   "metadata": {},
   "source": [
    "When the interpreter gets to the expression `generate_data(100)`, it executes the function body with `n` set equal to 100.\n",
    "\n",
    "The net result is that the name `data` is *bound* to the list `ϵ_values` returned by the function.\n",
    "\n",
    "### Adding Conditions\n",
    "\n",
    "```{index} single: Python; Conditions\n",
    "```\n",
    "\n",
    "Our function `generate_data()` is rather limited.\n",
    "\n",
    "Let's make it slightly more useful by giving it the ability to return either standard normals or uniform random variables on $(0, 1)$ as required.\n",
    "\n",
    "This is achieved in the next piece of code.\n",
    "\n",
    "(funcloopprog2)="
   ]
  },
  {
   "cell_type": "code",
   "execution_count": 23,
   "id": "6956bbca",
   "metadata": {},
   "outputs": [
    {
     "data": {
      "image/png": "[encoded data removed]",
      "text/plain": [
       "<Figure size 720x432 with 1 Axes>"
      ]
     },
     "metadata": {
      "filenames": {
       "image/png": "/home/runner/work/lecture-python-programming.myst/lecture-python-programming.myst/_build/jupyter_execute/functions_40_0.png"
      },
      "needs_background": "light"
     },
     "output_type": "display_data"
    }
   ],
   "source": [
    "def generate_data(n, generator_type):\n",
    "    ϵ_values = []\n",
    "    for i in range(n):\n",
    "        if generator_type == 'U':\n",
    "            e = np.random.uniform(0, 1)\n",
    "        else:\n",
    "            e = np.random.randn()\n",
    "        ϵ_values.append(e)\n",
    "    return ϵ_values\n",
    "\n",
    "data = generate_data(100, 'U')\n",
    "plt.plot(data)\n",
    "plt.show()"
   ]
  },
  {
   "cell_type": "markdown",
   "id": "72fdbda0",
   "metadata": {},
   "source": [
    "Hopefully, the syntax of the if/else clause is self-explanatory, with indentation again delimiting the extent of the code blocks.\n",
    "\n",
    "Notes\n",
    "\n",
    "* We are passing the argument `U` as a string, which is why we write it as `'U'`.\n",
    "* Notice that equality is tested with the `==` syntax, not `=`.\n",
    "    * For example, the statement `a = 10` assigns the name `a` to the value `10`.\n",
    "    * The expression `a == 10` evaluates to either `True` or `False`, depending on the value of `a`.\n",
    "\n",
    "Now, there are several ways that we can simplify the code above.\n",
    "\n",
    "For example, we can get rid of the conditionals all together by just passing the desired generator type *as a function*.\n",
    "\n",
    "To understand this, consider the following version.\n",
    "\n",
    "(test_program_6)="
   ]
  },
  {
   "cell_type": "code",
   "execution_count": 24,
   "id": "5d45e36b",
   "metadata": {},
   "outputs": [
    {
     "data": {
      "image/png": "[encoded data removed]",
      "text/plain": [
       "<Figure size 720x432 with 1 Axes>"
      ]
     },
     "metadata": {
      "filenames": {
       "image/png": "/home/runner/work/lecture-python-programming.myst/lecture-python-programming.myst/_build/jupyter_execute/functions_42_0.png"
      },
      "needs_background": "light"
     },
     "output_type": "display_data"
    }
   ],
   "source": [
    "def generate_data(n, generator_type):\n",
    "    ϵ_values = []\n",
    "    for i in range(n):\n",
    "        e = generator_type()\n",
    "        ϵ_values.append(e)\n",
    "    return ϵ_values\n",
    "\n",
    "data = generate_data(100, np.random.uniform)\n",
    "plt.plot(data)\n",
    "plt.show()"
   ]
  },
  {
   "cell_type": "markdown",
   "id": "260930c8",
   "metadata": {},
   "source": [
    "Now, when we call the function `generate_data()`, we pass `np.random.uniform`\n",
    "as the second argument.\n",
    "\n",
    "This object is a *function*.\n",
    "\n",
    "When the function call  `generate_data(100, np.random.uniform)` is executed, Python runs the function code block with `n` equal to 100 and the name `generator_type` \"bound\" to the function `np.random.uniform`.\n",
    "\n",
    "* While these lines are executed, the names `generator_type` and `np.random.uniform` are \"synonyms\", and can be used in identical ways.\n",
    "\n",
    "This principle works more generally---for example, consider the following piece of code"
   ]
  },
  {
   "cell_type": "code",
   "execution_count": 25,
   "id": "030f0490",
   "metadata": {},
   "outputs": [
    {
     "data": {
      "text/plain": [
       "7"
      ]
     },
     "execution_count": 25,
     "metadata": {},
     "output_type": "execute_result"
    }
   ],
   "source": [
    "max(7, 2, 4)   # max() is a built-in Python function"
   ]
  },
  {
   "cell_type": "code",
   "execution_count": 26,
   "id": "356a1aaa",
   "metadata": {},
   "outputs": [
    {
     "data": {
      "text/plain": [
       "7"
      ]
     },
     "execution_count": 26,
     "metadata": {},
     "output_type": "execute_result"
    }
   ],
   "source": [
    "m = max\n",
    "m(7, 2, 4)"
   ]
  },
  {
   "cell_type": "markdown",
   "id": "7bf3cd49",
   "metadata": {},
   "source": [
    "Here we created another name for the built-in function `max()`, which could\n",
    "then be used in identical ways.\n",
    "\n",
    "In the context of our program, the ability to bind new names to functions\n",
    "means that there is no problem *passing a function as an argument to another\n",
    "function*---as we did above.\n",
    "\n",
    "\n",
    "(recursive_functions)=\n",
    "## Recursive Function Calls (Advanced)\n",
    "\n",
    "```{index} single: Python; Recursion\n",
    "```\n",
    "\n",
    "This is not something that you will use every day, but it is still useful --- you should learn it at some stage.\n",
    "\n",
    "Basically, a recursive function is a function that calls itself.\n",
    "\n",
    "For example, consider the problem of computing $x_t$ for some t when\n",
    "\n",
    "```{math}\n",
    ":label: xseqdoub\n",
    "\n",
    "x_{t+1} = 2 x_t, \\quad x_0 = 1\n",
    "```\n",
    "\n",
    "Obviously the answer is $2^t$.\n",
    "\n",
    "We can compute this easily enough with a loop"
   ]
  },
  {
   "cell_type": "code",
   "execution_count": 27,
   "id": "df5175f7",
   "metadata": {},
   "outputs": [],
   "source": [
    "def x_loop(t):\n",
    "    x = 1\n",
    "    for i in range(t):\n",
    "        x = 2 * x\n",
    "    return x"
   ]
  },
  {
   "cell_type": "markdown",
   "id": "a78fca5b",
   "metadata": {},
   "source": [
    "We can also use a recursive solution, as follows"
   ]
  },
  {
   "cell_type": "code",
   "execution_count": 28,
   "id": "ae08e2ac",
   "metadata": {},
   "outputs": [],
   "source": [
    "def x(t):\n",
    "    if t == 0:\n",
    "        return 1\n",
    "    else:\n",
    "        return 2 * x(t-1)"
   ]
  },
  {
   "cell_type": "markdown",
   "id": "0da0f2c7",
   "metadata": {},
   "source": [
    "What happens here is that each successive call uses it's own *frame* in the *stack*\n",
    "\n",
    "* a frame is where the local variables of a given function call are held\n",
    "* stack is memory used to process function calls\n",
    "  * a First In Last Out (FILO) queue\n",
    "\n",
    "This example is somewhat contrived, since the first (iterative) solution would usually be preferred to the recursive solution.\n",
    "\n",
    "We'll meet less contrived applications of recursion later on.\n",
    "\n",
    "\n",
    "(factorial_exercise)=\n",
    "## Exercises\n",
    "\n",
    "```{exercise-start}\n",
    ":label: func_ex1\n",
    "```\n",
    "\n",
    "Recall that $n!$ is read as \"$n$ factorial\" and defined as\n",
    "$n! = n \\times (n - 1) \\times \\cdots \\times 2 \\times 1$.\n",
    "\n",
    "We will only consider $n$ as a positive integer here.\n",
    "\n",
    "There are functions to compute this in various modules, but let's\n",
    "write our own version as an exercise.\n",
    "\n",
    "1. In particular, write a function `factorial` such that `factorial(n)` returns $n!$\n",
    "for any positive integer $n$.\n",
    "\n",
    "2. In addition, try to add a new argument for your function.\n",
    "The argument takes a function `f` that transforms n to $f(n) = n^2 + 1$ if n is even, and $f(n) = n^2$ if n is odd. \n",
    "The default value should be $f(n) = n$.\n",
    "\n",
    "For example\n",
    "\n",
    "- The default case `factorial(3)` should return $3!$\n",
    "- `factorial(3,f)` should return $9!$\n",
    "- `factorial(2,f)` should return $5!$\n",
    "\n",
    "Try to use lambda expressions to define the function `f`.\n",
    "\n",
    "```{exercise-end}\n",
    "```\n",
    "\n",
    "\n",
    "```{solution-start} func_ex1\n",
    ":class: dropdown\n",
    "```\n",
    "\n",
    "- Here's one solution for part 1"
   ]
  },
  {
   "cell_type": "code",
   "execution_count": 29,
   "id": "beebdb84",
   "metadata": {},
   "outputs": [
    {
     "data": {
      "text/plain": [
       "24"
      ]
     },
     "execution_count": 29,
     "metadata": {},
     "output_type": "execute_result"
    }
   ],
   "source": [
    "def factorial(n):\n",
    "    k = 1\n",
    "    for i in range(n):\n",
    "        k = k * (i + 1)\n",
    "    return k\n",
    "\n",
    "factorial(4)"
   ]
  },
  {
   "cell_type": "markdown",
   "id": "50cb47cc",
   "metadata": {},
   "source": [
    "- Adding the lambda expression"
   ]
  },
  {
   "cell_type": "code",
   "execution_count": 30,
   "id": "c5d478bf",
   "metadata": {},
   "outputs": [
    {
     "data": {
      "text/plain": [
       "362880"
      ]
     },
     "execution_count": 30,
     "metadata": {},
     "output_type": "execute_result"
    }
   ],
   "source": [
    "def factorial(n,f = lambda x: x):\n",
    "    k = 1\n",
    "    for i in range(f(n)):\n",
    "        k = k * (i + 1)\n",
    "    return k\n",
    "\n",
    "\n",
    "factorial(9) # default"
   ]
  },
  {
   "cell_type": "code",
   "execution_count": 31,
   "id": "ff9f31dc",
   "metadata": {},
   "outputs": [
    {
     "data": {
      "text/plain": [
       "362880"
      ]
     },
     "execution_count": 31,
     "metadata": {},
     "output_type": "execute_result"
    }
   ],
   "source": [
    "f = lambda x: x**2 + 1 if x % 2 == 0 else x**2\n",
    "\n",
    "factorial(3, f) # odd (equivalent to factorial(9))"
   ]
  },
  {
   "cell_type": "code",
   "execution_count": 32,
   "id": "6957f2a1",
   "metadata": {},
   "outputs": [
    {
     "data": {
      "text/plain": [
       "120"
      ]
     },
     "execution_count": 32,
     "metadata": {},
     "output_type": "execute_result"
    }
   ],
   "source": [
    "factorial(2, f) # even (equivalent to factorial(5))"
   ]
  },
  {
   "cell_type": "markdown",
   "id": "cdca1d4b",
   "metadata": {},
   "source": [
    "```{solution-end}\n",
    "```\n",
    "\n",
    "\n",
    "```{exercise-start}\n",
    ":label: func_ex2\n",
    "```\n",
    "\n",
    "The [binomial random variable](https://en.wikipedia.org/wiki/Binomial_distribution) $Y \\sim Bin(n, p)$ represents the number of successes in $n$ binary trials, where each trial succeeds with probability $p$.\n",
    "\n",
    "Without any import besides `from numpy.random import uniform`, write a function\n",
    "`binomial_rv` such that `binomial_rv(n, p)` generates one draw of $Y$.\n",
    "\n",
    "Hint: If $U$ is uniform on $(0, 1)$ and $p \\in (0,1)$, then the expression `U < p` evaluates to `True` with probability $p$.\n",
    "```{exercise-end}\n",
    "```\n",
    "\n",
    "\n",
    "```{solution-start} func_ex2\n",
    ":class: dropdown\n",
    "````"
   ]
  },
  {
   "cell_type": "code",
   "execution_count": 33,
   "id": "820736b2",
   "metadata": {},
   "outputs": [
    {
     "data": {
      "text/plain": [
       "5"
      ]
     },
     "execution_count": 33,
     "metadata": {},
     "output_type": "execute_result"
    }
   ],
   "source": [
    "from numpy.random import uniform\n",
    "\n",
    "def binomial_rv(n, p):\n",
    "    count = 0\n",
    "    for i in range(n):\n",
    "        U = uniform()\n",
    "        if U < p:\n",
    "            count = count + 1    # Or count += 1\n",
    "    return count\n",
    "\n",
    "binomial_rv(10, 0.5)"
   ]
  },
  {
   "cell_type": "markdown",
   "id": "e2d5e7bc",
   "metadata": {},
   "source": [
    "```{solution-end}\n",
    "```\n",
    "\n",
    "\n",
    "```{exercise-start}\n",
    ":label: func_ex3\n",
    "```\n",
    "\n",
    "First, write a function that returns one realization of the following random device\n",
    "\n",
    "1. Flip an unbiased coin 10 times.\n",
    "1. If a head occurs `k` or more times consecutively within this sequence at least once, pay one dollar.\n",
    "1. If not, pay nothing.\n",
    "\n",
    "Second, write another function that does the same task except that the second rule of the above random device becomes\n",
    "\n",
    "- If a head occurs `k` or more times within this sequence, pay one dollar.\n",
    "\n",
    "Use no import besides `from numpy.random import uniform`.\n",
    "\n",
    "```{exercise-end}\n",
    "```\n",
    "\n",
    "```{solution-start} func_ex3\n",
    ":class: dropdown\n",
    "```\n",
    "\n",
    "Here's a function for the first random device."
   ]
  },
  {
   "cell_type": "code",
   "execution_count": 34,
   "id": "64c6f51e",
   "metadata": {},
   "outputs": [
    {
     "name": "stdout",
     "output_type": "stream",
     "text": [
      "1\n",
      "0\n",
      "1\n",
      "2\n",
      "0\n",
      "0\n",
      "1\n",
      "2\n",
      "0\n",
      "0\n"
     ]
    },
    {
     "data": {
      "text/plain": [
       "0"
      ]
     },
     "execution_count": 34,
     "metadata": {},
     "output_type": "execute_result"
    }
   ],
   "source": [
    "from numpy.random import uniform\n",
    "\n",
    "def draw(k):  # pays if k consecutive successes in a sequence\n",
    "\n",
    "    payoff = 0\n",
    "    count = 0\n",
    "\n",
    "    for i in range(10):\n",
    "        U = uniform()\n",
    "        count = count + 1 if U < 0.5 else 0\n",
    "        print(count)    # print counts for clarity\n",
    "        if count == k:\n",
    "            payoff = 1\n",
    "\n",
    "    return payoff\n",
    "\n",
    "draw(3)"
   ]
  },
  {
   "cell_type": "markdown",
   "id": "bd484676",
   "metadata": {},
   "source": [
    "Here's another function for the second random device."
   ]
  },
  {
   "cell_type": "code",
   "execution_count": 35,
   "id": "d71bbf49",
   "metadata": {},
   "outputs": [
    {
     "name": "stdout",
     "output_type": "stream",
     "text": [
      "1\n",
      "2\n",
      "2\n",
      "3\n",
      "3\n",
      "3\n",
      "3\n",
      "4\n",
      "5\n",
      "6\n"
     ]
    },
    {
     "data": {
      "text/plain": [
       "1"
      ]
     },
     "execution_count": 35,
     "metadata": {},
     "output_type": "execute_result"
    }
   ],
   "source": [
    "def draw_new(k):  # pays if k successes in a sequence\n",
    "\n",
    "    payoff = 0\n",
    "    count = 0\n",
    "\n",
    "    for i in range(10):\n",
    "        U = uniform()\n",
    "        count = count + ( 1 if U < 0.5 else 0 )\n",
    "        print(count)\n",
    "        if count == k:\n",
    "            payoff = 1\n",
    "\n",
    "    return payoff\n",
    "\n",
    "draw_new(3)"
   ]
  },
  {
   "cell_type": "markdown",
   "id": "1ae5062a",
   "metadata": {},
   "source": [
    "```{solution-end}\n",
    "```\n",
    "\n",
    "\n",
    "## Advanced Exercises\n",
    "\n",
    "In the following exercises, we will write recursive functions together.\n",
    "\n",
    "We will use more advanced syntaxes such as {any}`list comprehensions <list_comprehensions>` to test our solutions against a list of inputs.\n",
    "\n",
    "If you are not familiar with these concepts, feel free to come back later.\n",
    "\n",
    "\n",
    "```{exercise-start}\n",
    ":label: func_ex4\n",
    "```\n",
    "\n",
    "The Fibonacci numbers are defined by\n",
    "\n",
    "```{math}\n",
    ":label: fib\n",
    "\n",
    "x_{t+1} = x_t + x_{t-1}, \\quad x_0 = 0, \\; x_1 = 1\n",
    "```\n",
    "\n",
    "The first few numbers in the sequence are $0, 1, 1, 2, 3, 5, 8, 13, 21, 34, 55$.\n",
    "\n",
    "Write a function to recursively compute the $t$-th Fibonacci number for any $t$.\n",
    "\n",
    "```{exercise-end}\n",
    "```\n",
    "\n",
    "```{solution-start} func_ex4\n",
    ":class: dropdown\n",
    "```\n",
    "\n",
    "Here's the standard solution"
   ]
  },
  {
   "cell_type": "code",
   "execution_count": 36,
   "id": "44e21c20",
   "metadata": {},
   "outputs": [],
   "source": [
    "def x(t):\n",
    "    if t == 0:\n",
    "        return 0\n",
    "    if t == 1:\n",
    "        return 1\n",
    "    else:\n",
    "        return x(t-1) + x(t-2)"
   ]
  },
  {
   "cell_type": "markdown",
   "id": "e59f37d8",
   "metadata": {},
   "source": [
    "Let's test it"
   ]
  },
  {
   "cell_type": "code",
   "execution_count": 37,
   "id": "b2b194fe",
   "metadata": {},
   "outputs": [
    {
     "name": "stdout",
     "output_type": "stream",
     "text": [
      "[0, 1, 1, 2, 3, 5, 8, 13, 21, 34]\n"
     ]
    }
   ],
   "source": [
    "print([x(i) for i in range(10)])"
   ]
  },
  {
   "cell_type": "markdown",
   "id": "9a779156",
   "metadata": {},
   "source": [
    "```{solution-end}\n",
    "```\n",
    "\n",
    "```{exercise-start}\n",
    ":label: func_ex5\n",
    "```\n",
    "\n",
    "For this exercise, rewrite the function `factorial(n)` in **[exercise 1](factorial_exercise)** using recursion.\n",
    "\n",
    "```{exercise-end}\n",
    "```\n",
    "\n",
    "```{solution-start} func_ex5\n",
    ":class: dropdown\n",
    "```\n",
    "\n",
    "Here's the standard solution"
   ]
  },
  {
   "cell_type": "code",
   "execution_count": 38,
   "id": "8a541cbd",
   "metadata": {},
   "outputs": [],
   "source": [
    "def recursion_factorial(n):\n",
    "   if n == 1:\n",
    "       return n\n",
    "   else:\n",
    "       return n * recursion_factorial(n-1)"
   ]
  },
  {
   "cell_type": "markdown",
   "id": "5a5882f2",
   "metadata": {},
   "source": [
    "Here's a simplified solution"
   ]
  },
  {
   "cell_type": "code",
   "execution_count": 39,
   "id": "5c9fc6f5",
   "metadata": {},
   "outputs": [],
   "source": [
    "def recursion_factorial_simplified(n):\n",
    "    return n * recursion_factorial(n-1) if n != 1 else n"
   ]
  },
  {
   "cell_type": "markdown",
   "id": "e8afdd83",
   "metadata": {},
   "source": [
    "Let's test them"
   ]
  },
  {
   "cell_type": "code",
   "execution_count": 40,
   "id": "420d31ea",
   "metadata": {},
   "outputs": [
    {
     "name": "stdout",
     "output_type": "stream",
     "text": [
      "[1, 2, 6, 24, 120, 720, 5040, 40320, 362880]\n"
     ]
    }
   ],
   "source": [
    "print([recursion_factorial(i) for i in range(1, 10)])"
   ]
  },
  {
   "cell_type": "code",
   "execution_count": 41,
   "id": "cba573d4",
   "metadata": {},
   "outputs": [
    {
     "name": "stdout",
     "output_type": "stream",
     "text": [
      "[1, 2, 6, 24, 120, 720, 5040, 40320, 362880]\n"
     ]
    }
   ],
   "source": [
    "print([recursion_factorial_simplified(i) for i in range(1, 10)])"
   ]
  },
  {
   "cell_type": "markdown",
   "id": "6c2cd7d5",
   "metadata": {},
   "source": [
    "```{solution-end}\n",
    "```"
   ]
  }
 ],
 "metadata": {
  "jupytext": {
   "text_representation": {
    "extension": ".md",
    "format_name": "myst"
   }
  },
  "kernelspec": {
   "display_name": "Python 3",
   "language": "python",
   "name": "python3"
  },
  "language_info": {
   "codemirror_mode": {
    "name": "ipython",
    "version": 3
   },
   "file_extension": ".py",
   "mimetype": "text/x-python",
   "name": "python",
   "nbconvert_exporter": "python",
   "pygments_lexer": "ipython3",
   "version": "3.9.12"
  },
  "source_map": [
   10,
   47,
   52,
   68,
   72,
   76,
   80,
   82,
   86,
   91,
   93,
   107,
   111,
   126,
   129,
   134,
   138,
   140,
   147,
   156,
   169,
   172,
   179,
   184,
   216,
   219,
   223,
   225,
   229,
   231,
   256,
   259,
   263,
   265,
   277,
   281,
   303,
   313,
   325,
   336,
   354,
   368,
   386,
   397,
   410,
   414,
   417,
   449,
   455,
   459,
   465,
   518,
   526,
   530,
   541,
   547,
   549,
   573,
   585,
   619,
   637,
   641,
   657,
   697,
   705,
   709,
   711,
   731,
   737,
   740,
   743,
   747,
   751,
   753
  ]
 },
 "nbformat": 4,
 "nbformat_minor": 5
}