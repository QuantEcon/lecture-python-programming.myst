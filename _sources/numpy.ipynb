{
 "cells": [
  {
   "cell_type": "markdown",
   "id": "3bb71896",
   "metadata": {},
   "source": [
    "(np)=\n",
    "```{raw} jupyter\n",
    "<div id=\"qe-notebook-header\" align=\"right\" style=\"text-align:right;\">\n",
    "        <a href=\"https://quantecon.org/\" title=\"quantecon.org\">\n",
    "                <img style=\"width:250px;display:inline;\" width=\"250px\" src=\"https://assets.quantecon.org/img/qe-menubar-logo.svg\" alt=\"QuantEcon\">\n",
    "        </a>\n",
    "</div>\n",
    "```\n",
    "\n",
    "# {index}`NumPy <single: NumPy>`\n",
    "\n",
    "```{index} single: Python; NumPy\n",
    "```\n",
    "\n",
    "```{epigraph}\n",
    "\"Let's be clear: the work of science has nothing whatever to do with consensus.  Consensus is the business of politics. Science, on the contrary, requires only one investigator who happens to be right, which means that he or she has results that are verifiable by reference to the real world. In science consensus is irrelevant. What is relevant is reproducible results.\" -- Michael Crichton\n",
    "```\n",
    "\n",
    "## Overview\n",
    "\n",
    "[NumPy](https://en.wikipedia.org/wiki/NumPy) is a first-rate library for numerical programming\n",
    "\n",
    "* Widely used in academia, finance and industry.\n",
    "* Mature, fast, stable and under continuous development.\n",
    "\n",
    "We have already seen some code involving NumPy in the preceding lectures.\n",
    "\n",
    "In this lecture, we will start a more systematic discussion of \n",
    "\n",
    "1. NumPy arrays and\n",
    "1. the fundamental array processing operations provided by NumPy.\n",
    "\n",
    "\n",
    "(For an alternative reference, see [the official NumPy documentation](http://docs.scipy.org/doc/numpy/reference/).)\n",
    "\n",
    "We will use the following imports."
   ]
  },
  {
   "cell_type": "code",
   "execution_count": 1,
   "id": "490c595d",
   "metadata": {},
   "outputs": [],
   "source": [
    "import numpy as np\n",
    "import random\n",
    "import quantecon as qe\n",
    "import matplotlib.pyplot as plt\n",
    "from mpl_toolkits.mplot3d.axes3d import Axes3D\n",
    "from matplotlib import cm"
   ]
  },
  {
   "cell_type": "markdown",
   "id": "0ca04d46",
   "metadata": {},
   "source": [
    "(numpy_array)=\n",
    "## NumPy Arrays\n",
    "\n",
    "```{index} single: NumPy; Arrays\n",
    "```\n",
    "\n",
    "The essential problem that NumPy solves is fast array processing.\n",
    "\n",
    "The most important structure that NumPy defines is an array data type, formally\n",
    "called a [numpy.ndarray](http://docs.scipy.org/doc/numpy/reference/arrays.ndarray.html).\n",
    "\n",
    "NumPy arrays power a very large proportion of the scientific Python ecosystem.\n",
    "\n",
    "To create a NumPy array containing only zeros we use  [np.zeros](http://docs.scipy.org/doc/numpy/reference/generated/numpy.zeros.html#numpy.zeros)"
   ]
  },
  {
   "cell_type": "code",
   "execution_count": 2,
   "id": "bc67d400",
   "metadata": {},
   "outputs": [
    {
     "data": {
      "text/plain": [
       "array([0., 0., 0.])"
      ]
     },
     "execution_count": 2,
     "metadata": {},
     "output_type": "execute_result"
    }
   ],
   "source": [
    "a = np.zeros(3)\n",
    "a"
   ]
  },
  {
   "cell_type": "code",
   "execution_count": 3,
   "id": "3ff1fafe",
   "metadata": {},
   "outputs": [
    {
     "data": {
      "text/plain": [
       "numpy.ndarray"
      ]
     },
     "execution_count": 3,
     "metadata": {},
     "output_type": "execute_result"
    }
   ],
   "source": [
    "type(a)"
   ]
  },
  {
   "cell_type": "markdown",
   "id": "731602e1",
   "metadata": {},
   "source": [
    "NumPy arrays are somewhat like native Python lists, except that\n",
    "\n",
    "* Data *must be homogeneous* (all elements of the same type).\n",
    "* These types must be one of the [data types](https://docs.scipy.org/doc/numpy/reference/arrays.dtypes.html) (`dtypes`) provided by NumPy.\n",
    "\n",
    "The most important of these dtypes are:\n",
    "\n",
    "* float64: 64 bit floating-point number\n",
    "* int64: 64 bit integer\n",
    "* bool:  8 bit True or False\n",
    "\n",
    "There are also dtypes to represent complex numbers, unsigned integers, etc.\n",
    "\n",
    "On modern machines, the default dtype for arrays is `float64`"
   ]
  },
  {
   "cell_type": "code",
   "execution_count": 4,
   "id": "1012f39b",
   "metadata": {},
   "outputs": [
    {
     "data": {
      "text/plain": [
       "numpy.float64"
      ]
     },
     "execution_count": 4,
     "metadata": {},
     "output_type": "execute_result"
    }
   ],
   "source": [
    "a = np.zeros(3)\n",
    "type(a[0])"
   ]
  },
  {
   "cell_type": "markdown",
   "id": "07148a42",
   "metadata": {},
   "source": [
    "If we want to use integers we can specify as follows:"
   ]
  },
  {
   "cell_type": "code",
   "execution_count": 5,
   "id": "7ea980bf",
   "metadata": {},
   "outputs": [
    {
     "data": {
      "text/plain": [
       "numpy.int64"
      ]
     },
     "execution_count": 5,
     "metadata": {},
     "output_type": "execute_result"
    }
   ],
   "source": [
    "a = np.zeros(3, dtype=int)\n",
    "type(a[0])"
   ]
  },
  {
   "cell_type": "markdown",
   "id": "14794209",
   "metadata": {},
   "source": [
    "(numpy_shape_dim)=\n",
    "### Shape and Dimension\n",
    "\n",
    "```{index} single: NumPy; Arrays (Shape and Dimension)\n",
    "```\n",
    "\n",
    "Consider the following assignment"
   ]
  },
  {
   "cell_type": "code",
   "execution_count": 6,
   "id": "4379c014",
   "metadata": {},
   "outputs": [],
   "source": [
    "z = np.zeros(10)"
   ]
  },
  {
   "cell_type": "markdown",
   "id": "70510fd6",
   "metadata": {},
   "source": [
    "Here `z` is a *flat* array with no dimension --- neither row nor column vector.\n",
    "\n",
    "The dimension is recorded in the `shape` attribute, which is a tuple"
   ]
  },
  {
   "cell_type": "code",
   "execution_count": 7,
   "id": "446f249e",
   "metadata": {},
   "outputs": [
    {
     "data": {
      "text/plain": [
       "(10,)"
      ]
     },
     "execution_count": 7,
     "metadata": {},
     "output_type": "execute_result"
    }
   ],
   "source": [
    "z.shape"
   ]
  },
  {
   "cell_type": "markdown",
   "id": "da2c8d60",
   "metadata": {},
   "source": [
    "Here the shape tuple has only one element, which is the length of the array (tuples with one element end with a comma).\n",
    "\n",
    "To give it dimension, we can change the `shape` attribute"
   ]
  },
  {
   "cell_type": "code",
   "execution_count": 8,
   "id": "0831157c",
   "metadata": {},
   "outputs": [
    {
     "data": {
      "text/plain": [
       "array([[0.],\n",
       "       [0.],\n",
       "       [0.],\n",
       "       [0.],\n",
       "       [0.],\n",
       "       [0.],\n",
       "       [0.],\n",
       "       [0.],\n",
       "       [0.],\n",
       "       [0.]])"
      ]
     },
     "execution_count": 8,
     "metadata": {},
     "output_type": "execute_result"
    }
   ],
   "source": [
    "z.shape = (10, 1)\n",
    "z"
   ]
  },
  {
   "cell_type": "code",
   "execution_count": 9,
   "id": "4274947e",
   "metadata": {},
   "outputs": [
    {
     "data": {
      "text/plain": [
       "array([[0., 0.],\n",
       "       [0., 0.]])"
      ]
     },
     "execution_count": 9,
     "metadata": {},
     "output_type": "execute_result"
    }
   ],
   "source": [
    "z = np.zeros(4)\n",
    "z.shape = (2, 2)\n",
    "z"
   ]
  },
  {
   "cell_type": "markdown",
   "id": "cd384dde",
   "metadata": {},
   "source": [
    "In the last case, to make the 2 by 2 array, we could also pass a tuple to the `zeros()` function, as\n",
    "in `z = np.zeros((2, 2))`.\n",
    "\n",
    "(creating_arrays)=\n",
    "### Creating Arrays\n",
    "\n",
    "```{index} single: NumPy; Arrays (Creating)\n",
    "```\n",
    "\n",
    "As we've seen, the `np.zeros` function creates an array of zeros.\n",
    "\n",
    "You can probably guess what `np.ones` creates.\n",
    "\n",
    "Related is `np.empty`, which creates arrays in memory that can later be populated with data"
   ]
  },
  {
   "cell_type": "code",
   "execution_count": 10,
   "id": "43525572",
   "metadata": {},
   "outputs": [
    {
     "data": {
      "text/plain": [
       "array([0., 0., 0.])"
      ]
     },
     "execution_count": 10,
     "metadata": {},
     "output_type": "execute_result"
    }
   ],
   "source": [
    "z = np.empty(3)\n",
    "z"
   ]
  },
  {
   "cell_type": "markdown",
   "id": "ea88af66",
   "metadata": {},
   "source": [
    "The numbers you see here are garbage values.\n",
    "\n",
    "(Python allocates 3 contiguous 64 bit pieces of memory, and the existing contents of those memory slots are interpreted as `float64` values)\n",
    "\n",
    "To set up a grid of evenly spaced numbers use `np.linspace`"
   ]
  },
  {
   "cell_type": "code",
   "execution_count": 11,
   "id": "60659543",
   "metadata": {},
   "outputs": [],
   "source": [
    "z = np.linspace(2, 4, 5)  # From 2 to 4, with 5 elements"
   ]
  },
  {
   "cell_type": "markdown",
   "id": "f0326abd",
   "metadata": {},
   "source": [
    "To create an identity matrix use either `np.identity` or `np.eye`"
   ]
  },
  {
   "cell_type": "code",
   "execution_count": 12,
   "id": "a29d0d6e",
   "metadata": {},
   "outputs": [
    {
     "data": {
      "text/plain": [
       "array([[1., 0.],\n",
       "       [0., 1.]])"
      ]
     },
     "execution_count": 12,
     "metadata": {},
     "output_type": "execute_result"
    }
   ],
   "source": [
    "z = np.identity(2)\n",
    "z"
   ]
  },
  {
   "cell_type": "markdown",
   "id": "2b00d91d",
   "metadata": {},
   "source": [
    "In addition, NumPy arrays can be created from Python lists, tuples, etc. using `np.array`"
   ]
  },
  {
   "cell_type": "code",
   "execution_count": 13,
   "id": "8cb7a1b2",
   "metadata": {},
   "outputs": [
    {
     "data": {
      "text/plain": [
       "array([10, 20])"
      ]
     },
     "execution_count": 13,
     "metadata": {},
     "output_type": "execute_result"
    }
   ],
   "source": [
    "z = np.array([10, 20])                 # ndarray from Python list\n",
    "z"
   ]
  },
  {
   "cell_type": "code",
   "execution_count": 14,
   "id": "e54ea355",
   "metadata": {},
   "outputs": [
    {
     "data": {
      "text/plain": [
       "numpy.ndarray"
      ]
     },
     "execution_count": 14,
     "metadata": {},
     "output_type": "execute_result"
    }
   ],
   "source": [
    "type(z)"
   ]
  },
  {
   "cell_type": "code",
   "execution_count": 15,
   "id": "a49af5e3",
   "metadata": {},
   "outputs": [
    {
     "data": {
      "text/plain": [
       "array([10., 20.])"
      ]
     },
     "execution_count": 15,
     "metadata": {},
     "output_type": "execute_result"
    }
   ],
   "source": [
    "z = np.array((10, 20), dtype=float)    # Here 'float' is equivalent to 'np.float64'\n",
    "z"
   ]
  },
  {
   "cell_type": "code",
   "execution_count": 16,
   "id": "d8e7eeda",
   "metadata": {},
   "outputs": [
    {
     "data": {
      "text/plain": [
       "array([[1, 2],\n",
       "       [3, 4]])"
      ]
     },
     "execution_count": 16,
     "metadata": {},
     "output_type": "execute_result"
    }
   ],
   "source": [
    "z = np.array([[1, 2], [3, 4]])         # 2D array from a list of lists\n",
    "z"
   ]
  },
  {
   "cell_type": "markdown",
   "id": "903951c9",
   "metadata": {},
   "source": [
    "See also `np.asarray`, which performs a similar function, but does not make\n",
    "a distinct copy of data already in a NumPy array."
   ]
  },
  {
   "cell_type": "code",
   "execution_count": 17,
   "id": "657f6f1c",
   "metadata": {},
   "outputs": [
    {
     "data": {
      "text/plain": [
       "True"
      ]
     },
     "execution_count": 17,
     "metadata": {},
     "output_type": "execute_result"
    }
   ],
   "source": [
    "na = np.linspace(10, 20, 2)\n",
    "na is np.asarray(na)   # Does not copy NumPy arrays"
   ]
  },
  {
   "cell_type": "code",
   "execution_count": 18,
   "id": "2f0b8175",
   "metadata": {},
   "outputs": [
    {
     "data": {
      "text/plain": [
       "False"
      ]
     },
     "execution_count": 18,
     "metadata": {},
     "output_type": "execute_result"
    }
   ],
   "source": [
    "na is np.array(na)     # Does make a new copy --- perhaps unnecessarily"
   ]
  },
  {
   "cell_type": "markdown",
   "id": "940cfdaa",
   "metadata": {},
   "source": [
    "To read in the array data from a text file containing numeric data use `np.loadtxt`\n",
    "or `np.genfromtxt`---see [the documentation](http://docs.scipy.org/doc/numpy/reference/routines.io.html) for details.\n",
    "\n",
    "### Array Indexing\n",
    "\n",
    "```{index} single: NumPy; Arrays (Indexing)\n",
    "```\n",
    "\n",
    "For a flat array, indexing is the same as Python sequences:"
   ]
  },
  {
   "cell_type": "code",
   "execution_count": 19,
   "id": "f89bde98",
   "metadata": {},
   "outputs": [
    {
     "data": {
      "text/plain": [
       "array([1.  , 1.25, 1.5 , 1.75, 2.  ])"
      ]
     },
     "execution_count": 19,
     "metadata": {},
     "output_type": "execute_result"
    }
   ],
   "source": [
    "z = np.linspace(1, 2, 5)\n",
    "z"
   ]
  },
  {
   "cell_type": "code",
   "execution_count": 20,
   "id": "adcecaa2",
   "metadata": {},
   "outputs": [
    {
     "data": {
      "text/plain": [
       "1.0"
      ]
     },
     "execution_count": 20,
     "metadata": {},
     "output_type": "execute_result"
    }
   ],
   "source": [
    "z[0]"
   ]
  },
  {
   "cell_type": "code",
   "execution_count": 21,
   "id": "6e8abe7f",
   "metadata": {},
   "outputs": [
    {
     "data": {
      "text/plain": [
       "array([1.  , 1.25])"
      ]
     },
     "execution_count": 21,
     "metadata": {},
     "output_type": "execute_result"
    }
   ],
   "source": [
    "z[0:2]  # Two elements, starting at element 0"
   ]
  },
  {
   "cell_type": "code",
   "execution_count": 22,
   "id": "dac4b13a",
   "metadata": {},
   "outputs": [
    {
     "data": {
      "text/plain": [
       "2.0"
      ]
     },
     "execution_count": 22,
     "metadata": {},
     "output_type": "execute_result"
    }
   ],
   "source": [
    "z[-1]"
   ]
  },
  {
   "cell_type": "markdown",
   "id": "b80a3a22",
   "metadata": {},
   "source": [
    "For 2D arrays the index syntax is as follows:"
   ]
  },
  {
   "cell_type": "code",
   "execution_count": 23,
   "id": "693cef97",
   "metadata": {},
   "outputs": [
    {
     "data": {
      "text/plain": [
       "array([[1, 2],\n",
       "       [3, 4]])"
      ]
     },
     "execution_count": 23,
     "metadata": {},
     "output_type": "execute_result"
    }
   ],
   "source": [
    "z = np.array([[1, 2], [3, 4]])\n",
    "z"
   ]
  },
  {
   "cell_type": "code",
   "execution_count": 24,
   "id": "2715e5c2",
   "metadata": {},
   "outputs": [
    {
     "data": {
      "text/plain": [
       "1"
      ]
     },
     "execution_count": 24,
     "metadata": {},
     "output_type": "execute_result"
    }
   ],
   "source": [
    "z[0, 0]"
   ]
  },
  {
   "cell_type": "code",
   "execution_count": 25,
   "id": "e1c63537",
   "metadata": {},
   "outputs": [
    {
     "data": {
      "text/plain": [
       "2"
      ]
     },
     "execution_count": 25,
     "metadata": {},
     "output_type": "execute_result"
    }
   ],
   "source": [
    "z[0, 1]"
   ]
  },
  {
   "cell_type": "markdown",
   "id": "4d0cfe7a",
   "metadata": {},
   "source": [
    "And so on.\n",
    "\n",
    "Note that indices are still zero-based, to maintain compatibility with Python sequences.\n",
    "\n",
    "Columns and rows can be extracted as follows"
   ]
  },
  {
   "cell_type": "code",
   "execution_count": 26,
   "id": "cd0f236a",
   "metadata": {},
   "outputs": [
    {
     "data": {
      "text/plain": [
       "array([1, 2])"
      ]
     },
     "execution_count": 26,
     "metadata": {},
     "output_type": "execute_result"
    }
   ],
   "source": [
    "z[0, :]"
   ]
  },
  {
   "cell_type": "code",
   "execution_count": 27,
   "id": "d49a798b",
   "metadata": {},
   "outputs": [
    {
     "data": {
      "text/plain": [
       "array([2, 4])"
      ]
     },
     "execution_count": 27,
     "metadata": {},
     "output_type": "execute_result"
    }
   ],
   "source": [
    "z[:, 1]"
   ]
  },
  {
   "cell_type": "markdown",
   "id": "c554b02a",
   "metadata": {},
   "source": [
    "NumPy arrays of integers can also be used to extract elements"
   ]
  },
  {
   "cell_type": "code",
   "execution_count": 28,
   "id": "a75b5e41",
   "metadata": {},
   "outputs": [
    {
     "data": {
      "text/plain": [
       "array([2. , 2.5, 3. , 3.5, 4. ])"
      ]
     },
     "execution_count": 28,
     "metadata": {},
     "output_type": "execute_result"
    }
   ],
   "source": [
    "z = np.linspace(2, 4, 5)\n",
    "z"
   ]
  },
  {
   "cell_type": "code",
   "execution_count": 29,
   "id": "6f4cbb69",
   "metadata": {},
   "outputs": [
    {
     "data": {
      "text/plain": [
       "array([2. , 3. , 3.5])"
      ]
     },
     "execution_count": 29,
     "metadata": {},
     "output_type": "execute_result"
    }
   ],
   "source": [
    "indices = np.array((0, 2, 3))\n",
    "z[indices]"
   ]
  },
  {
   "cell_type": "markdown",
   "id": "59460b51",
   "metadata": {},
   "source": [
    "Finally, an array of `dtype bool` can be used to extract elements"
   ]
  },
  {
   "cell_type": "code",
   "execution_count": 30,
   "id": "7e199d7d",
   "metadata": {},
   "outputs": [
    {
     "data": {
      "text/plain": [
       "array([2. , 2.5, 3. , 3.5, 4. ])"
      ]
     },
     "execution_count": 30,
     "metadata": {},
     "output_type": "execute_result"
    }
   ],
   "source": [
    "z"
   ]
  },
  {
   "cell_type": "code",
   "execution_count": 31,
   "id": "4c7f8ddb",
   "metadata": {},
   "outputs": [
    {
     "data": {
      "text/plain": [
       "array([False,  True,  True, False, False])"
      ]
     },
     "execution_count": 31,
     "metadata": {},
     "output_type": "execute_result"
    }
   ],
   "source": [
    "d = np.array([0, 1, 1, 0, 0], dtype=bool)\n",
    "d"
   ]
  },
  {
   "cell_type": "code",
   "execution_count": 32,
   "id": "87fb49b6",
   "metadata": {},
   "outputs": [
    {
     "data": {
      "text/plain": [
       "array([2.5, 3. ])"
      ]
     },
     "execution_count": 32,
     "metadata": {},
     "output_type": "execute_result"
    }
   ],
   "source": [
    "z[d]"
   ]
  },
  {
   "cell_type": "markdown",
   "id": "130c5410",
   "metadata": {},
   "source": [
    "We'll see why this is useful below.\n",
    "\n",
    "An aside: all elements of an array can be set equal to one number using slice notation"
   ]
  },
  {
   "cell_type": "code",
   "execution_count": 33,
   "id": "910325f5",
   "metadata": {},
   "outputs": [
    {
     "data": {
      "text/plain": [
       "array([2. , 3. , 3.5])"
      ]
     },
     "execution_count": 33,
     "metadata": {},
     "output_type": "execute_result"
    }
   ],
   "source": [
    "z = np.empty(3)\n",
    "z"
   ]
  },
  {
   "cell_type": "code",
   "execution_count": 34,
   "id": "bd0ec7a6",
   "metadata": {},
   "outputs": [
    {
     "data": {
      "text/plain": [
       "array([42., 42., 42.])"
      ]
     },
     "execution_count": 34,
     "metadata": {},
     "output_type": "execute_result"
    }
   ],
   "source": [
    "z[:] = 42\n",
    "z"
   ]
  },
  {
   "cell_type": "markdown",
   "id": "d31ae0f0",
   "metadata": {},
   "source": [
    "### Array Methods\n",
    "\n",
    "```{index} single: NumPy; Arrays (Methods)\n",
    "```\n",
    "\n",
    "Arrays have useful methods, all of which are carefully optimized"
   ]
  },
  {
   "cell_type": "code",
   "execution_count": 35,
   "id": "20a18678",
   "metadata": {},
   "outputs": [
    {
     "data": {
      "text/plain": [
       "array([4, 3, 2, 1])"
      ]
     },
     "execution_count": 35,
     "metadata": {},
     "output_type": "execute_result"
    }
   ],
   "source": [
    "a = np.array((4, 3, 2, 1))\n",
    "a"
   ]
  },
  {
   "cell_type": "code",
   "execution_count": 36,
   "id": "46ad7278",
   "metadata": {},
   "outputs": [
    {
     "data": {
      "text/plain": [
       "array([1, 2, 3, 4])"
      ]
     },
     "execution_count": 36,
     "metadata": {},
     "output_type": "execute_result"
    }
   ],
   "source": [
    "a.sort()              # Sorts a in place\n",
    "a"
   ]
  },
  {
   "cell_type": "code",
   "execution_count": 37,
   "id": "a1bd22d8",
   "metadata": {},
   "outputs": [
    {
     "data": {
      "text/plain": [
       "10"
      ]
     },
     "execution_count": 37,
     "metadata": {},
     "output_type": "execute_result"
    }
   ],
   "source": [
    "a.sum()               # Sum"
   ]
  },
  {
   "cell_type": "code",
   "execution_count": 38,
   "id": "55830c39",
   "metadata": {},
   "outputs": [
    {
     "data": {
      "text/plain": [
       "2.5"
      ]
     },
     "execution_count": 38,
     "metadata": {},
     "output_type": "execute_result"
    }
   ],
   "source": [
    "a.mean()              # Mean"
   ]
  },
  {
   "cell_type": "code",
   "execution_count": 39,
   "id": "a843cf67",
   "metadata": {},
   "outputs": [
    {
     "data": {
      "text/plain": [
       "4"
      ]
     },
     "execution_count": 39,
     "metadata": {},
     "output_type": "execute_result"
    }
   ],
   "source": [
    "a.max()               # Max"
   ]
  },
  {
   "cell_type": "code",
   "execution_count": 40,
   "id": "d2f689b3",
   "metadata": {},
   "outputs": [
    {
     "data": {
      "text/plain": [
       "3"
      ]
     },
     "execution_count": 40,
     "metadata": {},
     "output_type": "execute_result"
    }
   ],
   "source": [
    "a.argmax()            # Returns the index of the maximal element"
   ]
  },
  {
   "cell_type": "code",
   "execution_count": 41,
   "id": "17eece1f",
   "metadata": {},
   "outputs": [
    {
     "data": {
      "text/plain": [
       "array([ 1,  3,  6, 10])"
      ]
     },
     "execution_count": 41,
     "metadata": {},
     "output_type": "execute_result"
    }
   ],
   "source": [
    "a.cumsum()            # Cumulative sum of the elements of a"
   ]
  },
  {
   "cell_type": "code",
   "execution_count": 42,
   "id": "85a66ab2",
   "metadata": {},
   "outputs": [
    {
     "data": {
      "text/plain": [
       "array([ 1,  2,  6, 24])"
      ]
     },
     "execution_count": 42,
     "metadata": {},
     "output_type": "execute_result"
    }
   ],
   "source": [
    "a.cumprod()           # Cumulative product of the elements of a"
   ]
  },
  {
   "cell_type": "code",
   "execution_count": 43,
   "id": "68049bed",
   "metadata": {},
   "outputs": [
    {
     "data": {
      "text/plain": [
       "1.25"
      ]
     },
     "execution_count": 43,
     "metadata": {},
     "output_type": "execute_result"
    }
   ],
   "source": [
    "a.var()               # Variance"
   ]
  },
  {
   "cell_type": "code",
   "execution_count": 44,
   "id": "017c1b78",
   "metadata": {},
   "outputs": [
    {
     "data": {
      "text/plain": [
       "1.118033988749895"
      ]
     },
     "execution_count": 44,
     "metadata": {},
     "output_type": "execute_result"
    }
   ],
   "source": [
    "a.std()               # Standard deviation"
   ]
  },
  {
   "cell_type": "code",
   "execution_count": 45,
   "id": "2a08038c",
   "metadata": {},
   "outputs": [
    {
     "data": {
      "text/plain": [
       "array([[1, 3],\n",
       "       [2, 4]])"
      ]
     },
     "execution_count": 45,
     "metadata": {},
     "output_type": "execute_result"
    }
   ],
   "source": [
    "a.shape = (2, 2)\n",
    "a.T                   # Equivalent to a.transpose()"
   ]
  },
  {
   "cell_type": "markdown",
   "id": "c6170687",
   "metadata": {},
   "source": [
    "Another method worth knowing is `searchsorted()`.\n",
    "\n",
    "If `z` is a nondecreasing array, then `z.searchsorted(a)` returns the index of the first element of `z` that is `>= a`"
   ]
  },
  {
   "cell_type": "code",
   "execution_count": 46,
   "id": "afcab36f",
   "metadata": {},
   "outputs": [
    {
     "data": {
      "text/plain": [
       "array([2. , 2.5, 3. , 3.5, 4. ])"
      ]
     },
     "execution_count": 46,
     "metadata": {},
     "output_type": "execute_result"
    }
   ],
   "source": [
    "z = np.linspace(2, 4, 5)\n",
    "z"
   ]
  },
  {
   "cell_type": "code",
   "execution_count": 47,
   "id": "988c7185",
   "metadata": {},
   "outputs": [
    {
     "data": {
      "text/plain": [
       "1"
      ]
     },
     "execution_count": 47,
     "metadata": {},
     "output_type": "execute_result"
    }
   ],
   "source": [
    "z.searchsorted(2.2)"
   ]
  },
  {
   "cell_type": "markdown",
   "id": "0f8f1f06",
   "metadata": {},
   "source": [
    "Many of the methods discussed above have equivalent functions in the NumPy namespace"
   ]
  },
  {
   "cell_type": "code",
   "execution_count": 48,
   "id": "e6452cd1",
   "metadata": {},
   "outputs": [],
   "source": [
    "a = np.array((4, 3, 2, 1))"
   ]
  },
  {
   "cell_type": "code",
   "execution_count": 49,
   "id": "6715db9e",
   "metadata": {},
   "outputs": [
    {
     "data": {
      "text/plain": [
       "10"
      ]
     },
     "execution_count": 49,
     "metadata": {},
     "output_type": "execute_result"
    }
   ],
   "source": [
    "np.sum(a)"
   ]
  },
  {
   "cell_type": "code",
   "execution_count": 50,
   "id": "10b65551",
   "metadata": {},
   "outputs": [
    {
     "data": {
      "text/plain": [
       "2.5"
      ]
     },
     "execution_count": 50,
     "metadata": {},
     "output_type": "execute_result"
    }
   ],
   "source": [
    "np.mean(a)"
   ]
  },
  {
   "cell_type": "markdown",
   "id": "dfeba48e",
   "metadata": {},
   "source": [
    "## Arithmetic Operations\n",
    "\n",
    "```{index} single: NumPy; Arithmetic Operations\n",
    "```\n",
    "\n",
    "The operators `+`, `-`, `*`, `/` and `**` all act *elementwise* on arrays"
   ]
  },
  {
   "cell_type": "code",
   "execution_count": 51,
   "id": "19e7c4be",
   "metadata": {},
   "outputs": [
    {
     "data": {
      "text/plain": [
       "array([ 6,  8, 10, 12])"
      ]
     },
     "execution_count": 51,
     "metadata": {},
     "output_type": "execute_result"
    }
   ],
   "source": [
    "a = np.array([1, 2, 3, 4])\n",
    "b = np.array([5, 6, 7, 8])\n",
    "a + b"
   ]
  },
  {
   "cell_type": "code",
   "execution_count": 52,
   "id": "eb1e59f3",
   "metadata": {},
   "outputs": [
    {
     "data": {
      "text/plain": [
       "array([ 5, 12, 21, 32])"
      ]
     },
     "execution_count": 52,
     "metadata": {},
     "output_type": "execute_result"
    }
   ],
   "source": [
    "a * b"
   ]
  },
  {
   "cell_type": "markdown",
   "id": "b10f7e93",
   "metadata": {},
   "source": [
    "We can add a scalar to each element as follows"
   ]
  },
  {
   "cell_type": "code",
   "execution_count": 53,
   "id": "5df0499e",
   "metadata": {},
   "outputs": [
    {
     "data": {
      "text/plain": [
       "array([11, 12, 13, 14])"
      ]
     },
     "execution_count": 53,
     "metadata": {},
     "output_type": "execute_result"
    }
   ],
   "source": [
    "a + 10"
   ]
  },
  {
   "cell_type": "markdown",
   "id": "4bcdeb7a",
   "metadata": {},
   "source": [
    "Scalar multiplication is similar"
   ]
  },
  {
   "cell_type": "code",
   "execution_count": 54,
   "id": "77936815",
   "metadata": {},
   "outputs": [
    {
     "data": {
      "text/plain": [
       "array([10, 20, 30, 40])"
      ]
     },
     "execution_count": 54,
     "metadata": {},
     "output_type": "execute_result"
    }
   ],
   "source": [
    "a * 10"
   ]
  },
  {
   "cell_type": "markdown",
   "id": "f92c916b",
   "metadata": {},
   "source": [
    "The two-dimensional arrays follow the same general rules"
   ]
  },
  {
   "cell_type": "code",
   "execution_count": 55,
   "id": "33b5b324",
   "metadata": {},
   "outputs": [
    {
     "data": {
      "text/plain": [
       "array([[2., 2.],\n",
       "       [2., 2.]])"
      ]
     },
     "execution_count": 55,
     "metadata": {},
     "output_type": "execute_result"
    }
   ],
   "source": [
    "A = np.ones((2, 2))\n",
    "B = np.ones((2, 2))\n",
    "A + B"
   ]
  },
  {
   "cell_type": "code",
   "execution_count": 56,
   "id": "636c97ac",
   "metadata": {},
   "outputs": [
    {
     "data": {
      "text/plain": [
       "array([[11., 11.],\n",
       "       [11., 11.]])"
      ]
     },
     "execution_count": 56,
     "metadata": {},
     "output_type": "execute_result"
    }
   ],
   "source": [
    "A + 10"
   ]
  },
  {
   "cell_type": "code",
   "execution_count": 57,
   "id": "b4463413",
   "metadata": {},
   "outputs": [
    {
     "data": {
      "text/plain": [
       "array([[1., 1.],\n",
       "       [1., 1.]])"
      ]
     },
     "execution_count": 57,
     "metadata": {},
     "output_type": "execute_result"
    }
   ],
   "source": [
    "A * B"
   ]
  },
  {
   "cell_type": "markdown",
   "id": "fa41258b",
   "metadata": {},
   "source": [
    "(numpy_matrix_multiplication)=\n",
    "In particular, `A * B` is *not* the matrix product, it is an element-wise product.\n",
    "\n",
    "\n",
    "## Matrix Multiplication\n",
    "\n",
    "```{index} single: NumPy; Matrix Multiplication\n",
    "```\n",
    "\n",
    "```{index} single: NumPy; Matrix Multiplication\n",
    "```\n",
    "\n",
    "With Anaconda's scientific Python package based around Python 3.5 and above,\n",
    "one can use the `@` symbol for matrix multiplication, as follows:"
   ]
  },
  {
   "cell_type": "code",
   "execution_count": 58,
   "id": "dd03da55",
   "metadata": {},
   "outputs": [
    {
     "data": {
      "text/plain": [
       "array([[2., 2.],\n",
       "       [2., 2.]])"
      ]
     },
     "execution_count": 58,
     "metadata": {},
     "output_type": "execute_result"
    }
   ],
   "source": [
    "A = np.ones((2, 2))\n",
    "B = np.ones((2, 2))\n",
    "A @ B"
   ]
  },
  {
   "cell_type": "markdown",
   "id": "6baef0f8",
   "metadata": {},
   "source": [
    "(For older versions of Python and NumPy you need to use the [np.dot](http://docs.scipy.org/doc/numpy/reference/generated/numpy.dot.html) function)\n",
    "\n",
    "We can also use `@` to take the inner product of two flat arrays"
   ]
  },
  {
   "cell_type": "code",
   "execution_count": 59,
   "id": "6ff31e4f",
   "metadata": {},
   "outputs": [
    {
     "data": {
      "text/plain": [
       "50"
      ]
     },
     "execution_count": 59,
     "metadata": {},
     "output_type": "execute_result"
    }
   ],
   "source": [
    "A = np.array((1, 2))\n",
    "B = np.array((10, 20))\n",
    "A @ B"
   ]
  },
  {
   "cell_type": "markdown",
   "id": "42ea70bb",
   "metadata": {},
   "source": [
    "In fact, we can use `@` when one element is a Python list or tuple"
   ]
  },
  {
   "cell_type": "code",
   "execution_count": 60,
   "id": "ae753b21",
   "metadata": {},
   "outputs": [
    {
     "data": {
      "text/plain": [
       "array([[1, 2],\n",
       "       [3, 4]])"
      ]
     },
     "execution_count": 60,
     "metadata": {},
     "output_type": "execute_result"
    }
   ],
   "source": [
    "A = np.array(((1, 2), (3, 4)))\n",
    "A"
   ]
  },
  {
   "cell_type": "code",
   "execution_count": 61,
   "id": "fd147b30",
   "metadata": {},
   "outputs": [
    {
     "data": {
      "text/plain": [
       "array([2, 4])"
      ]
     },
     "execution_count": 61,
     "metadata": {},
     "output_type": "execute_result"
    }
   ],
   "source": [
    "A @ (0, 1)"
   ]
  },
  {
   "cell_type": "markdown",
   "id": "628d52d8",
   "metadata": {},
   "source": [
    "Since we are post-multiplying, the tuple is treated as a column vector.\n",
    "\n",
    "(broadcasting)=\n",
    "## Broadcasting\n",
    "\n",
    "```{index} single: NumPy; Broadcasting\n",
    "```\n",
    "\n",
    "(This section extends an excellent discussion of broadcasting provided by [Jake VanderPlas](https://jakevdp.github.io/PythonDataScienceHandbook/02.05-computation-on-arrays-broadcasting.html).)\n",
    "\n",
    "```{note}\n",
    "Broadcasting is a very important aspect of NumPy. At the same time, advanced broadcasting is relatively complex and some of the details below can be skimmed on first pass.\n",
    "```\n",
    "\n",
    "In element-wise operations, arrays may not have the same shape.\n",
    " \n",
    "When this happens, NumPy will automatically expand arrays to the same shape whenever possible.\n",
    "\n",
    "This useful (but sometimes confusing) feature in NumPy is called **broadcasting**.\n",
    "\n",
    "The value of broadcasting is that\n",
    "\n",
    "* `for` loops can be avoided, which helps numerical code run fast and\n",
    "* broadcasting can allow us to implement operations on arrays without actually creating some dimensions of these arrays in memory, which can be important when arrays are large.\n",
    "\n",
    "For example, suppose `a` is a $3 \\times 3$ array (`a -> (3, 3)`), while `b` is a flat array with three elements (`b -> (3,)`).\n",
    "\n",
    "When adding them together, NumPy will automatically expand `b -> (3,)` to `b -> (3, 3)`.\n",
    "\n",
    "The element-wise addition will result in a $3 \\times 3$ array"
   ]
  },
  {
   "cell_type": "code",
   "execution_count": 62,
   "id": "c88bb818",
   "metadata": {},
   "outputs": [
    {
     "data": {
      "text/plain": [
       "array([[ 4,  8, 12],\n",
       "       [ 7, 11, 15],\n",
       "       [10, 14, 18]])"
      ]
     },
     "execution_count": 62,
     "metadata": {},
     "output_type": "execute_result"
    }
   ],
   "source": [
    "a = np.array(\n",
    "        [[1, 2, 3], \n",
    "         [4, 5, 6], \n",
    "         [7, 8, 9]])\n",
    "b = np.array([3, 6, 9])\n",
    "\n",
    "a + b"
   ]
  },
  {
   "cell_type": "markdown",
   "id": "b89eb32a",
   "metadata": {},
   "source": [
    "Here is a visual representation of this broadcasting operation:"
   ]
  },
  {
   "cell_type": "code",
   "execution_count": 63,
   "id": "2adf568c",
   "metadata": {
    "tags": [
     "hide-input"
    ]
   },
   "outputs": [
    {
     "data": {
      "image/png": "[encoded data removed]",
      "text/plain": [
       "<Figure size 500x100 with 1 Axes>"
      ]
     },
     "metadata": {},
     "output_type": "display_data"
    }
   ],
   "source": [
    "# Adapted and modified based on the code in the book written by Jake VanderPlas (see https://jakevdp.github.io/PythonDataScienceHandbook/06.00-figure-code.html#Broadcasting)\n",
    "# Originally from astroML: see http://www.astroml.org/book_figures/appendix/fig_broadcast_visual.html\n",
    "\n",
    "\n",
    "def draw_cube(ax, xy, size, depth=0.4,\n",
    "              edges=None, label=None, label_kwargs=None, **kwargs):\n",
    "    \"\"\"draw and label a cube.  edges is a list of numbers between\n",
    "    1 and 12, specifying which of the 12 cube edges to draw\"\"\"\n",
    "    if edges is None:\n",
    "        edges = range(1, 13)\n",
    "\n",
    "    x, y = xy\n",
    "\n",
    "    if 1 in edges:\n",
    "        ax.plot([x, x + size],\n",
    "                [y + size, y + size], **kwargs)\n",
    "    if 2 in edges:\n",
    "        ax.plot([x + size, x + size],\n",
    "                [y, y + size], **kwargs)\n",
    "    if 3 in edges:\n",
    "        ax.plot([x, x + size],\n",
    "                [y, y], **kwargs)\n",
    "    if 4 in edges:\n",
    "        ax.plot([x, x],\n",
    "                [y, y + size], **kwargs)\n",
    "\n",
    "    if 5 in edges:\n",
    "        ax.plot([x, x + depth],\n",
    "                [y + size, y + depth + size], **kwargs)\n",
    "    if 6 in edges:\n",
    "        ax.plot([x + size, x + size + depth],\n",
    "                [y + size, y + depth + size], **kwargs)\n",
    "    if 7 in edges:\n",
    "        ax.plot([x + size, x + size + depth],\n",
    "                [y, y + depth], **kwargs)\n",
    "    if 8 in edges:\n",
    "        ax.plot([x, x + depth],\n",
    "                [y, y + depth], **kwargs)\n",
    "\n",
    "    if 9 in edges:\n",
    "        ax.plot([x + depth, x + depth + size],\n",
    "                [y + depth + size, y + depth + size], **kwargs)\n",
    "    if 10 in edges:\n",
    "        ax.plot([x + depth + size, x + depth + size],\n",
    "                [y + depth, y + depth + size], **kwargs)\n",
    "    if 11 in edges:\n",
    "        ax.plot([x + depth, x + depth + size],\n",
    "                [y + depth, y + depth], **kwargs)\n",
    "    if 12 in edges:\n",
    "        ax.plot([x + depth, x + depth],\n",
    "                [y + depth, y + depth + size], **kwargs)\n",
    "\n",
    "    if label:\n",
    "        if label_kwargs is None:\n",
    "            label_kwargs = {}\n",
    "        ax.text(x + 0.5 * size, y + 0.5 * size, label,\n",
    "                ha='center', va='center', **label_kwargs)\n",
    "\n",
    "solid = dict(c='black', ls='-', lw=1,\n",
    "             label_kwargs=dict(color='k'))\n",
    "dotted = dict(c='black', ls='-', lw=0.5, alpha=0.5,\n",
    "              label_kwargs=dict(color='gray'))\n",
    "depth = 0.3\n",
    "\n",
    "# Draw a figure and axis with no boundary\n",
    "fig = plt.figure(figsize=(5, 1), facecolor='w')\n",
    "ax = plt.axes([0, 0, 1, 1], xticks=[], yticks=[], frameon=False)\n",
    "\n",
    "# first block\n",
    "draw_cube(ax, (1, 7.5), 1, depth, [1, 2, 3, 4, 5, 6, 9], '1', **solid)\n",
    "draw_cube(ax, (2, 7.5), 1, depth, [1, 2, 3, 6, 9], '2', **solid)\n",
    "draw_cube(ax, (3, 7.5), 1, depth, [1, 2, 3, 6, 7, 9, 10], '3', **solid)\n",
    "\n",
    "draw_cube(ax, (1, 6.5), 1, depth, [2, 3, 4], '4', **solid)\n",
    "draw_cube(ax, (2, 6.5), 1, depth, [2, 3], '5', **solid)\n",
    "draw_cube(ax, (3, 6.5), 1, depth, [2, 3, 7, 10], '6', **solid)\n",
    "\n",
    "draw_cube(ax, (1, 5.5), 1, depth, [2, 3, 4], '7', **solid)\n",
    "draw_cube(ax, (2, 5.5), 1, depth, [2, 3], '8', **solid)\n",
    "draw_cube(ax, (3, 5.5), 1, depth, [2, 3, 7, 10], '9', **solid)\n",
    "\n",
    "# second block\n",
    "draw_cube(ax, (6, 7.5), 1, depth, [1, 2, 3, 4, 5, 6, 9], '3', **solid)\n",
    "draw_cube(ax, (7, 7.5), 1, depth, [1, 2, 3, 6, 9], '6', **solid)\n",
    "draw_cube(ax, (8, 7.5), 1, depth, [1, 2, 3, 6, 7, 9, 10], '9', **solid)\n",
    "\n",
    "draw_cube(ax, (6, 6.5), 1, depth, range(2, 13), '3', **dotted)\n",
    "draw_cube(ax, (7, 6.5), 1, depth, [2, 3, 6, 7, 9, 10, 11], '6', **dotted)\n",
    "draw_cube(ax, (8, 6.5), 1, depth, [2, 3, 6, 7, 9, 10, 11], '9', **dotted)\n",
    "\n",
    "draw_cube(ax, (6, 5.5), 1, depth, [2, 3, 4, 7, 8, 10, 11, 12], '3', **dotted)\n",
    "draw_cube(ax, (7, 5.5), 1, depth, [2, 3, 7, 10, 11], '6', **dotted)\n",
    "draw_cube(ax, (8, 5.5), 1, depth, [2, 3, 7, 10, 11], '9', **dotted)\n",
    "\n",
    "# third block\n",
    "draw_cube(ax, (12, 7.5), 1, depth, [1, 2, 3, 4, 5, 6, 9], '4', **solid)\n",
    "draw_cube(ax, (13, 7.5), 1, depth, [1, 2, 3, 6, 9], '8', **solid)\n",
    "draw_cube(ax, (14, 7.5), 1, depth, [1, 2, 3, 6, 7, 9, 10], '12', **solid)\n",
    "\n",
    "draw_cube(ax, (12, 6.5), 1, depth, [2, 3, 4], '7', **solid)\n",
    "draw_cube(ax, (13, 6.5), 1, depth, [2, 3], '11', **solid)\n",
    "draw_cube(ax, (14, 6.5), 1, depth, [2, 3, 7, 10], '15', **solid)\n",
    "\n",
    "draw_cube(ax, (12, 5.5), 1, depth, [2, 3, 4], '10', **solid)\n",
    "draw_cube(ax, (13, 5.5), 1, depth, [2, 3], '14', **solid)\n",
    "draw_cube(ax, (14, 5.5), 1, depth, [2, 3, 7, 10], '18', **solid)\n",
    "\n",
    "ax.text(5, 7.0, '+', size=12, ha='center', va='center')\n",
    "ax.text(10.5, 7.0, '=', size=12, ha='center', va='center');"
   ]
  },
  {
   "cell_type": "markdown",
   "id": "476e8972",
   "metadata": {},
   "source": [
    "How about `b -> (3, 1)`?\n",
    "\n",
    "In this case, NumPy will automatically expand `b -> (3, 1)` to `b -> (3, 3)`.\n",
    "\n",
    "Element-wise addition will then result in a $3 \\times 3$ matrix"
   ]
  },
  {
   "cell_type": "code",
   "execution_count": 64,
   "id": "38e3c31d",
   "metadata": {},
   "outputs": [
    {
     "data": {
      "text/plain": [
       "array([[ 4,  5,  6],\n",
       "       [10, 11, 12],\n",
       "       [16, 17, 18]])"
      ]
     },
     "execution_count": 64,
     "metadata": {},
     "output_type": "execute_result"
    }
   ],
   "source": [
    "b.shape = (3, 1)\n",
    "\n",
    "a + b"
   ]
  },
  {
   "cell_type": "markdown",
   "id": "b8f3082b",
   "metadata": {},
   "source": [
    "Here is a visual representation of this broadcasting operation:"
   ]
  },
  {
   "cell_type": "code",
   "execution_count": 65,
   "id": "cbbf2450",
   "metadata": {
    "tags": [
     "hide-input"
    ]
   },
   "outputs": [
    {
     "data": {
      "image/png": "[encoded data removed]",
      "text/plain": [
       "<Figure size 500x100 with 1 Axes>"
      ]
     },
     "metadata": {},
     "output_type": "display_data"
    }
   ],
   "source": [
    "fig = plt.figure(figsize=(5, 1), facecolor='w')\n",
    "ax = plt.axes([0, 0, 1, 1], xticks=[], yticks=[], frameon=False)\n",
    "\n",
    "# first block\n",
    "draw_cube(ax, (1, 7.5), 1, depth, [1, 2, 3, 4, 5, 6, 9], '1', **solid)\n",
    "draw_cube(ax, (2, 7.5), 1, depth, [1, 2, 3, 6, 9], '2', **solid)\n",
    "draw_cube(ax, (3, 7.5), 1, depth, [1, 2, 3, 6, 7, 9, 10], '3', **solid)\n",
    "\n",
    "draw_cube(ax, (1, 6.5), 1, depth, [2, 3, 4], '4', **solid)\n",
    "draw_cube(ax, (2, 6.5), 1, depth, [2, 3], '5', **solid)\n",
    "draw_cube(ax, (3, 6.5), 1, depth, [2, 3, 7, 10], '6', **solid)\n",
    "\n",
    "draw_cube(ax, (1, 5.5), 1, depth, [2, 3, 4], '7', **solid)\n",
    "draw_cube(ax, (2, 5.5), 1, depth, [2, 3], '8', **solid)\n",
    "draw_cube(ax, (3, 5.5), 1, depth, [2, 3, 7, 10], '9', **solid)\n",
    "\n",
    "# second block\n",
    "draw_cube(ax, (6, 7.5), 1, depth, [1, 2, 3, 4, 5, 6, 7, 9, 10], '3', **solid)\n",
    "draw_cube(ax, (7, 7.5), 1, depth, [1, 2, 3, 6, 7, 9, 10], '3', **dotted)\n",
    "draw_cube(ax, (8, 7.5), 1, depth, [1, 2, 3, 6, 7, 9, 10], '3', **dotted)\n",
    "\n",
    "draw_cube(ax, (6, 6.5), 1, depth, [2, 3, 4, 7, 10], '6', **solid)\n",
    "draw_cube(ax, (7, 6.5), 1, depth, [2, 3, 6, 7, 9, 10, 11], '6', **dotted)\n",
    "draw_cube(ax, (8, 6.5), 1, depth, [2, 3, 6, 7, 9, 10, 11], '6', **dotted)\n",
    "\n",
    "draw_cube(ax, (6, 5.5), 1, depth, [2, 3, 4, 7, 10], '9', **solid)\n",
    "draw_cube(ax, (7, 5.5), 1, depth, [2, 3, 7, 10, 11], '9', **dotted)\n",
    "draw_cube(ax, (8, 5.5), 1, depth, [2, 3, 7, 10, 11], '9', **dotted)\n",
    "\n",
    "# third block\n",
    "draw_cube(ax, (12, 7.5), 1, depth, [1, 2, 3, 4, 5, 6, 9], '4', **solid)\n",
    "draw_cube(ax, (13, 7.5), 1, depth, [1, 2, 3, 6, 9], '5', **solid)\n",
    "draw_cube(ax, (14, 7.5), 1, depth, [1, 2, 3, 6, 7, 9, 10], '6', **solid)\n",
    "\n",
    "draw_cube(ax, (12, 6.5), 1, depth, [2, 3, 4], '10', **solid)\n",
    "draw_cube(ax, (13, 6.5), 1, depth, [2, 3], '11', **solid)\n",
    "draw_cube(ax, (14, 6.5), 1, depth, [2, 3, 7, 10], '12', **solid)\n",
    "\n",
    "draw_cube(ax, (12, 5.5), 1, depth, [2, 3, 4], '16', **solid)\n",
    "draw_cube(ax, (13, 5.5), 1, depth, [2, 3], '17', **solid)\n",
    "draw_cube(ax, (14, 5.5), 1, depth, [2, 3, 7, 10], '18', **solid)\n",
    "\n",
    "ax.text(5, 7.0, '+', size=12, ha='center', va='center')\n",
    "ax.text(10.5, 7.0, '=', size=12, ha='center', va='center');\n"
   ]
  },
  {
   "cell_type": "markdown",
   "id": "b9194e8d",
   "metadata": {},
   "source": [
    "The previous broadcasting operation is equivalent to the following `for` loop"
   ]
  },
  {
   "cell_type": "code",
   "execution_count": 66,
   "id": "fdceba59",
   "metadata": {},
   "outputs": [
    {
     "data": {
      "text/plain": [
       "array([[ 4.,  5.,  6.],\n",
       "       [10., 11., 12.],\n",
       "       [16., 17., 18.]])"
      ]
     },
     "execution_count": 66,
     "metadata": {},
     "output_type": "execute_result"
    }
   ],
   "source": [
    "row, column = a.shape\n",
    "result = np.empty((3, 3))\n",
    "for i in range(row):\n",
    "    for j in range(column):\n",
    "        result[i, j] = a[i, j] + b[i,0]\n",
    "\n",
    "result"
   ]
  },
  {
   "cell_type": "markdown",
   "id": "ee782557",
   "metadata": {},
   "source": [
    "In some cases, both operands will be expanded.\n",
    "\n",
    "When we have `a -> (3,)` and `b -> (3, 1)`, `a` will be expanded to `a -> (3, 3)`, and `b` will be expanded to `b -> (3, 3)`.\n",
    "\n",
    "In this case, element-wise addition will result in a $3 \\times 3$ matrix"
   ]
  },
  {
   "cell_type": "code",
   "execution_count": 67,
   "id": "e6f517b6",
   "metadata": {},
   "outputs": [
    {
     "data": {
      "text/plain": [
       "array([[ 5,  8, 11],\n",
       "       [ 6,  9, 12],\n",
       "       [ 7, 10, 13]])"
      ]
     },
     "execution_count": 67,
     "metadata": {},
     "output_type": "execute_result"
    }
   ],
   "source": [
    "a = np.array([3, 6, 9])\n",
    "b = np.array([2, 3, 4])\n",
    "b.shape = (3, 1)\n",
    "\n",
    "a + b"
   ]
  },
  {
   "cell_type": "markdown",
   "id": "6965de47",
   "metadata": {},
   "source": [
    "Here is a visual representation of this broadcasting operation:"
   ]
  },
  {
   "cell_type": "code",
   "execution_count": 68,
   "id": "6441570c",
   "metadata": {
    "tags": [
     "hide-input"
    ]
   },
   "outputs": [
    {
     "data": {
      "image/png": "[encoded data removed]",
      "text/plain": [
       "<Figure size 500x100 with 1 Axes>"
      ]
     },
     "metadata": {},
     "output_type": "display_data"
    }
   ],
   "source": [
    "# Draw a figure and axis with no boundary\n",
    "fig = plt.figure(figsize=(5, 1), facecolor='w')\n",
    "ax = plt.axes([0, 0, 1, 1], xticks=[], yticks=[], frameon=False)\n",
    "\n",
    "# first block\n",
    "draw_cube(ax, (1, 7.5), 1, depth, [1, 2, 3, 4, 5, 6, 9], '3', **solid)\n",
    "draw_cube(ax, (2, 7.5), 1, depth, [1, 2, 3, 6, 9], '6', **solid)\n",
    "draw_cube(ax, (3, 7.5), 1, depth, [1, 2, 3, 6, 7, 9, 10], '9', **solid)\n",
    "\n",
    "draw_cube(ax, (1, 6.5), 1, depth, range(2, 13), '3', **dotted)\n",
    "draw_cube(ax, (2, 6.5), 1, depth, [2, 3, 6, 7, 9, 10, 11], '6', **dotted)\n",
    "draw_cube(ax, (3, 6.5), 1, depth, [2, 3, 6, 7, 9, 10, 11], '9', **dotted)\n",
    "\n",
    "draw_cube(ax, (1, 5.5), 1, depth, [2, 3, 4, 7, 8, 10, 11, 12], '3', **dotted)\n",
    "draw_cube(ax, (2, 5.5), 1, depth, [2, 3, 7, 10, 11], '6', **dotted)\n",
    "draw_cube(ax, (3, 5.5), 1, depth, [2, 3, 7, 10, 11], '9', **dotted)\n",
    "\n",
    "# second block\n",
    "draw_cube(ax, (6, 7.5), 1, depth, [1, 2, 3, 4, 5, 6, 7, 9, 10], '2', **solid)\n",
    "draw_cube(ax, (7, 7.5), 1, depth, [1, 2, 3, 6, 7, 9, 10], '2', **dotted)\n",
    "draw_cube(ax, (8, 7.5), 1, depth, [1, 2, 3, 6, 7, 9, 10], '2', **dotted)\n",
    "\n",
    "draw_cube(ax, (6, 6.5), 1, depth, [2, 3, 4, 7, 10], '3', **solid)\n",
    "draw_cube(ax, (7, 6.5), 1, depth, [2, 3, 6, 7, 9, 10, 11], '3', **dotted)\n",
    "draw_cube(ax, (8, 6.5), 1, depth, [2, 3, 6, 7, 9, 10, 11], '3', **dotted)\n",
    "\n",
    "draw_cube(ax, (6, 5.5), 1, depth, [2, 3, 4, 7, 10], '4', **solid)\n",
    "draw_cube(ax, (7, 5.5), 1, depth, [2, 3, 7, 10, 11], '4', **dotted)\n",
    "draw_cube(ax, (8, 5.5), 1, depth, [2, 3, 7, 10, 11], '4', **dotted)\n",
    "\n",
    "# third block\n",
    "draw_cube(ax, (12, 7.5), 1, depth, [1, 2, 3, 4, 5, 6, 9], '5', **solid)\n",
    "draw_cube(ax, (13, 7.5), 1, depth, [1, 2, 3, 6, 9], '8', **solid)\n",
    "draw_cube(ax, (14, 7.5), 1, depth, [1, 2, 3, 6, 7, 9, 10], '11', **solid)\n",
    "\n",
    "draw_cube(ax, (12, 6.5), 1, depth, [2, 3, 4], '6', **solid)\n",
    "draw_cube(ax, (13, 6.5), 1, depth, [2, 3], '9', **solid)\n",
    "draw_cube(ax, (14, 6.5), 1, depth, [2, 3, 7, 10], '12', **solid)\n",
    "\n",
    "draw_cube(ax, (12, 5.5), 1, depth, [2, 3, 4], '7', **solid)\n",
    "draw_cube(ax, (13, 5.5), 1, depth, [2, 3], '10', **solid)\n",
    "draw_cube(ax, (14, 5.5), 1, depth, [2, 3, 7, 10], '13', **solid)\n",
    "\n",
    "ax.text(5, 7.0, '+', size=12, ha='center', va='center')\n",
    "ax.text(10.5, 7.0, '=', size=12, ha='center', va='center');"
   ]
  },
  {
   "cell_type": "markdown",
   "id": "4f27e9e3",
   "metadata": {},
   "source": [
    "While broadcasting is very useful, it can sometimes seem confusing.\n",
    "\n",
    "For example, let's try adding `a -> (3, 2)` and `b -> (3,)`."
   ]
  },
  {
   "cell_type": "code",
   "execution_count": 69,
   "id": "d32ac94d",
   "metadata": {
    "tags": [
     "raises-exception"
    ]
   },
   "outputs": [
    {
     "ename": "ValueError",
     "evalue": "operands could not be broadcast together with shapes (3,2) (3,) ",
     "output_type": "error",
     "traceback": [
      "\u001b[0;31m---------------------------------------------------------------------------\u001b[0m",
      "\u001b[0;31mValueError\u001b[0m                                Traceback (most recent call last)",
      "Cell \u001b[0;32mIn[69], line 7\u001b[0m\n\u001b[1;32m      1\u001b[0m a \u001b[38;5;241m=\u001b[39m np\u001b[38;5;241m.\u001b[39marray(\n\u001b[1;32m      2\u001b[0m       [[\u001b[38;5;241m1\u001b[39m, \u001b[38;5;241m2\u001b[39m],\n\u001b[1;32m      3\u001b[0m        [\u001b[38;5;241m4\u001b[39m, \u001b[38;5;241m5\u001b[39m],\n\u001b[1;32m      4\u001b[0m        [\u001b[38;5;241m7\u001b[39m, \u001b[38;5;241m8\u001b[39m]])\n\u001b[1;32m      5\u001b[0m b \u001b[38;5;241m=\u001b[39m np\u001b[38;5;241m.\u001b[39marray([\u001b[38;5;241m3\u001b[39m, \u001b[38;5;241m6\u001b[39m, \u001b[38;5;241m9\u001b[39m])\n\u001b[0;32m----> 7\u001b[0m a \u001b[38;5;241m+\u001b[39m b\n",
      "\u001b[0;31mValueError\u001b[0m: operands could not be broadcast together with shapes (3,2) (3,) "
     ]
    }
   ],
   "source": [
    "a = np.array(\n",
    "      [[1, 2],\n",
    "       [4, 5],\n",
    "       [7, 8]])\n",
    "b = np.array([3, 6, 9])\n",
    "\n",
    "a + b"
   ]
  },
  {
   "cell_type": "markdown",
   "id": "3eb367c9",
   "metadata": {},
   "source": [
    "The `ValueError` tells us that operands could not be broadcast together.\n",
    "\n",
    "\n",
    "Here is a visual representation to show why this broadcasting cannot be executed:"
   ]
  },
  {
   "cell_type": "code",
   "execution_count": 70,
   "id": "4eba4792",
   "metadata": {
    "tags": [
     "hide-input"
    ]
   },
   "outputs": [
    {
     "data": {
      "image/png": "[encoded data removed]",
      "text/plain": [
       "<Figure size 300x130 with 1 Axes>"
      ]
     },
     "metadata": {},
     "output_type": "display_data"
    }
   ],
   "source": [
    "# Draw a figure and axis with no boundary\n",
    "fig = plt.figure(figsize=(3, 1.3), facecolor='w')\n",
    "ax = plt.axes([0, 0, 1, 1], xticks=[], yticks=[], frameon=False)\n",
    "\n",
    "# first block\n",
    "draw_cube(ax, (1, 7.5), 1, depth, [1, 2, 3, 4, 5, 6, 9], '1', **solid)\n",
    "draw_cube(ax, (2, 7.5), 1, depth, [1, 2, 3, 6, 7, 9, 10], '2', **solid)\n",
    "\n",
    "draw_cube(ax, (1, 6.5), 1, depth, [2, 3, 4], '4', **solid)\n",
    "draw_cube(ax, (2, 6.5), 1, depth, [2, 3, 7, 10], '5', **solid)\n",
    "\n",
    "draw_cube(ax, (1, 5.5), 1, depth, [2, 3, 4], '7', **solid)\n",
    "draw_cube(ax, (2, 5.5), 1, depth, [2, 3, 7, 10], '8', **solid)\n",
    "\n",
    "# second block\n",
    "draw_cube(ax, (6, 7.5), 1, depth, [1, 2, 3, 4, 5, 6, 9], '3', **solid)\n",
    "draw_cube(ax, (7, 7.5), 1, depth, [1, 2, 3, 6, 9], '6', **solid)\n",
    "draw_cube(ax, (8, 7.5), 1, depth, [1, 2, 3, 6, 7, 9, 10], '9', **solid)\n",
    "\n",
    "draw_cube(ax, (6, 6.5), 1, depth, range(2, 13), '3', **dotted)\n",
    "draw_cube(ax, (7, 6.5), 1, depth, [2, 3, 6, 7, 9, 10, 11], '6', **dotted)\n",
    "draw_cube(ax, (8, 6.5), 1, depth, [2, 3, 6, 7, 9, 10, 11], '9', **dotted)\n",
    "\n",
    "draw_cube(ax, (6, 5.5), 1, depth, [2, 3, 4, 7, 8, 10, 11, 12], '3', **dotted)\n",
    "draw_cube(ax, (7, 5.5), 1, depth, [2, 3, 7, 10, 11], '6', **dotted)\n",
    "draw_cube(ax, (8, 5.5), 1, depth, [2, 3, 7, 10, 11], '9', **dotted)\n",
    "\n",
    "\n",
    "ax.text(4.5, 7.0, '+', size=12, ha='center', va='center')\n",
    "ax.text(10, 7.0, '=', size=12, ha='center', va='center')\n",
    "ax.text(11, 7.0, '?', size=16, ha='center', va='center');"
   ]
  },
  {
   "cell_type": "markdown",
   "id": "c6778660",
   "metadata": {},
   "source": [
    "We can see that NumPy cannot expand the arrays to the same size.\n",
    "\n",
    "It is because, when `b` is expanded from `b -> (3,)` to `b -> (3, 3)`, NumPy cannot match `b` with `a -> (3, 2)`.\n",
    "\n",
    "Things get even trickier when we move to higher dimensions.\n",
    "\n",
    "To help us, we can use the following list of rules:\n",
    "\n",
    "* *Step 1:* When the dimensions of two arrays do not match, NumPy will expand the one with fewer dimensions by adding dimension(s) on the left of the existing dimensions.\n",
    "    - For example, if `a -> (3, 3)` and `b -> (3,)`, then broadcasting will add a dimension to the left so that `b -> (1, 3)`;\n",
    "    - If `a -> (2, 2, 2)` and `b -> (2, 2)`, then broadcasting will add a dimension to the left so that `b -> (1, 2, 2)`;\n",
    "    - If `a -> (3, 2, 2)` and `b -> (2,)`, then broadcasting will add two dimensions to the left so that `b -> (1, 1, 2)` (you can also see this process as going through *Step 1* twice).\n",
    "\n",
    "\n",
    "* *Step 2:* When the two arrays have the same dimension but different shapes, NumPy will try to expand dimensions where the shape index is 1.\n",
    "    - For example, if `a -> (1, 3)` and `b -> (3, 1)`, then broadcasting will expand dimensions with shape 1 in both `a` and `b` so that `a -> (3, 3)` and `b -> (3, 3)`;\n",
    "    - If `a -> (2, 2, 2)` and  `b -> (1, 2, 2)`, then broadcasting will expand the first dimension of `b` so that `b -> (2, 2, 2)`;\n",
    "    - If `a -> (3, 2, 2)` and `b -> (1, 1, 2)`, then broadcasting will expand `b` on all dimensions with shape 1 so that `b -> (3, 2, 2)`.\n",
    "\n",
    "Here are code examples for broadcasting higher dimensional arrays"
   ]
  },
  {
   "cell_type": "code",
   "execution_count": 71,
   "id": "ab0a7e48",
   "metadata": {},
   "outputs": [
    {
     "name": "stdout",
     "output_type": "stream",
     "text": [
      "the shape of array a is (2, 2, 2)\n",
      "the shape of array b is (2, 2)\n"
     ]
    },
    {
     "data": {
      "text/plain": [
       "array([[[ 2,  9],\n",
       "        [ 9,  4]],\n",
       "\n",
       "       [[ 3, 10],\n",
       "        [10,  5]]])"
      ]
     },
     "execution_count": 71,
     "metadata": {},
     "output_type": "execute_result"
    }
   ],
   "source": [
    "# a -> (2, 2, 2) and  b -> (1, 2, 2)\n",
    "\n",
    "a = np.array(\n",
    "    [[[1, 2], \n",
    "      [2, 3]], \n",
    "\n",
    "     [[2, 3], \n",
    "      [3, 4]]])\n",
    "print(f'the shape of array a is {a.shape}')\n",
    "\n",
    "b = np.array(\n",
    "    [[1,7],\n",
    "     [7,1]])\n",
    "print(f'the shape of array b is {b.shape}')\n",
    "\n",
    "a + b"
   ]
  },
  {
   "cell_type": "code",
   "execution_count": 72,
   "id": "ffd3d52b",
   "metadata": {},
   "outputs": [
    {
     "name": "stdout",
     "output_type": "stream",
     "text": [
      "the shape of array a is (3, 2, 2)\n",
      "the shape of array b is (2,)\n"
     ]
    },
    {
     "data": {
      "text/plain": [
       "array([[[ 4,  8],\n",
       "        [ 6, 10]],\n",
       "\n",
       "       [[ 7, 11],\n",
       "        [ 9, 13]],\n",
       "\n",
       "       [[10, 14],\n",
       "        [12, 16]]])"
      ]
     },
     "execution_count": 72,
     "metadata": {},
     "output_type": "execute_result"
    }
   ],
   "source": [
    "# a -> (3, 2, 2) and b -> (2,)\n",
    "\n",
    "a = np.array(\n",
    "    [[[1, 2], \n",
    "      [3, 4]],\n",
    "\n",
    "     [[4, 5], \n",
    "      [6, 7]],\n",
    "\n",
    "     [[7, 8], \n",
    "      [9, 10]]])\n",
    "print(f'the shape of array a is {a.shape}')\n",
    "\n",
    "b = np.array([3, 6])\n",
    "print(f'the shape of array b is {b.shape}')\n",
    "\n",
    "a + b"
   ]
  },
  {
   "cell_type": "markdown",
   "id": "892f5f64",
   "metadata": {},
   "source": [
    "* *Step 3:* After Step 1 and 2, if the two arrays still do not match, a `ValueError` will be raised. For example, suppose `a -> (2, 2, 3)` and `b -> (2, 2)`\n",
    "    - By *Step 1*, `b` will be expanded to `b -> (1, 2, 2)`;\n",
    "    - By *Step 2*, `b` will be expanded to `b -> (2, 2, 2)`;\n",
    "    - We can see that they do not match each other after the first two steps. Thus, a `ValueError` will be raised"
   ]
  },
  {
   "cell_type": "code",
   "execution_count": 73,
   "id": "d6e75445",
   "metadata": {
    "tags": [
     "raises-exception"
    ]
   },
   "outputs": [
    {
     "name": "stdout",
     "output_type": "stream",
     "text": [
      "the shape of array a is (2, 2, 3)\n",
      "the shape of array b is (2, 2)\n"
     ]
    },
    {
     "ename": "ValueError",
     "evalue": "operands could not be broadcast together with shapes (2,2,3) (2,2) ",
     "output_type": "error",
     "traceback": [
      "\u001b[0;31m---------------------------------------------------------------------------\u001b[0m",
      "\u001b[0;31mValueError\u001b[0m                                Traceback (most recent call last)",
      "Cell \u001b[0;32mIn[73], line 14\u001b[0m\n\u001b[1;32m      9\u001b[0m b \u001b[38;5;241m=\u001b[39m np\u001b[38;5;241m.\u001b[39marray(\n\u001b[1;32m     10\u001b[0m     [[\u001b[38;5;241m1\u001b[39m,\u001b[38;5;241m7\u001b[39m], \n\u001b[1;32m     11\u001b[0m      [\u001b[38;5;241m7\u001b[39m,\u001b[38;5;241m1\u001b[39m]])\n\u001b[1;32m     12\u001b[0m \u001b[38;5;28mprint\u001b[39m(\u001b[38;5;124mf\u001b[39m\u001b[38;5;124m'\u001b[39m\u001b[38;5;124mthe shape of array b is \u001b[39m\u001b[38;5;132;01m{\u001b[39;00mb\u001b[38;5;241m.\u001b[39mshape\u001b[38;5;132;01m}\u001b[39;00m\u001b[38;5;124m'\u001b[39m)\n\u001b[0;32m---> 14\u001b[0m a \u001b[38;5;241m+\u001b[39m b\n",
      "\u001b[0;31mValueError\u001b[0m: operands could not be broadcast together with shapes (2,2,3) (2,2) "
     ]
    }
   ],
   "source": [
    "a = np.array(\n",
    "    [[[1, 2, 3], \n",
    "      [2, 3, 4]], \n",
    "     \n",
    "     [[2, 3, 4], \n",
    "      [3, 4, 5]]])\n",
    "print(f'the shape of array a is {a.shape}')\n",
    "\n",
    "b = np.array(\n",
    "    [[1,7], \n",
    "     [7,1]])\n",
    "print(f'the shape of array b is {b.shape}')\n",
    "\n",
    "a + b"
   ]
  },
  {
   "cell_type": "markdown",
   "id": "6577b68d",
   "metadata": {},
   "source": [
    "## Mutability and Copying Arrays\n",
    "\n",
    "NumPy arrays are mutable data types, like Python lists.\n",
    "\n",
    "In other words, their contents can be altered (mutated) in memory after initialization.\n",
    "\n",
    "We already saw examples above.\n",
    "\n",
    "Here's another example:"
   ]
  },
  {
   "cell_type": "code",
   "execution_count": 74,
   "id": "6181306e",
   "metadata": {},
   "outputs": [
    {
     "data": {
      "text/plain": [
       "array([42, 44])"
      ]
     },
     "execution_count": 74,
     "metadata": {},
     "output_type": "execute_result"
    }
   ],
   "source": [
    "a = np.array([42, 44])\n",
    "a"
   ]
  },
  {
   "cell_type": "code",
   "execution_count": 75,
   "id": "f349bae3",
   "metadata": {},
   "outputs": [
    {
     "data": {
      "text/plain": [
       "array([42,  0])"
      ]
     },
     "execution_count": 75,
     "metadata": {},
     "output_type": "execute_result"
    }
   ],
   "source": [
    "a[-1] = 0  # Change last element to 0\n",
    "a"
   ]
  },
  {
   "cell_type": "markdown",
   "id": "9ef0aa5b",
   "metadata": {},
   "source": [
    "Mutability leads to the following behavior (which can be shocking to MATLAB programmers...)"
   ]
  },
  {
   "cell_type": "code",
   "execution_count": 76,
   "id": "eae1524a",
   "metadata": {},
   "outputs": [
    {
     "data": {
      "text/plain": [
       "array([1.61144346, 0.0512031 , 0.36756478])"
      ]
     },
     "execution_count": 76,
     "metadata": {},
     "output_type": "execute_result"
    }
   ],
   "source": [
    "a = np.random.randn(3)\n",
    "a"
   ]
  },
  {
   "cell_type": "code",
   "execution_count": 77,
   "id": "fa7669a0",
   "metadata": {},
   "outputs": [
    {
     "data": {
      "text/plain": [
       "array([0.        , 0.0512031 , 0.36756478])"
      ]
     },
     "execution_count": 77,
     "metadata": {},
     "output_type": "execute_result"
    }
   ],
   "source": [
    "b = a\n",
    "b[0] = 0.0\n",
    "a"
   ]
  },
  {
   "cell_type": "markdown",
   "id": "93f08209",
   "metadata": {},
   "source": [
    "What's happened is that we have changed `a` by changing `b`.\n",
    "\n",
    "The name `b` is bound to `a` and becomes just another reference to the\n",
    "array (the Python assignment model is described in more detail {doc}`later in the course <python_advanced_features>`).\n",
    "\n",
    "Hence, it has equal rights to make changes to that array.\n",
    "\n",
    "This is in fact the most sensible default behavior!\n",
    "\n",
    "It means that we pass around only pointers to data, rather than making copies.\n",
    "\n",
    "Making copies is expensive in terms of both speed and memory.\n",
    "\n",
    "### Making Copies\n",
    "\n",
    "It is of course possible to make `b` an independent copy of `a` when required.\n",
    "\n",
    "This can be done using `np.copy`"
   ]
  },
  {
   "cell_type": "code",
   "execution_count": 78,
   "id": "8ae172d5",
   "metadata": {},
   "outputs": [
    {
     "data": {
      "text/plain": [
       "array([ 1.66756319, -0.90524356,  0.71551231])"
      ]
     },
     "execution_count": 78,
     "metadata": {},
     "output_type": "execute_result"
    }
   ],
   "source": [
    "a = np.random.randn(3)\n",
    "a"
   ]
  },
  {
   "cell_type": "code",
   "execution_count": 79,
   "id": "d1bd9104",
   "metadata": {},
   "outputs": [
    {
     "data": {
      "text/plain": [
       "array([ 1.66756319, -0.90524356,  0.71551231])"
      ]
     },
     "execution_count": 79,
     "metadata": {},
     "output_type": "execute_result"
    }
   ],
   "source": [
    "b = np.copy(a)\n",
    "b"
   ]
  },
  {
   "cell_type": "markdown",
   "id": "77649abe",
   "metadata": {},
   "source": [
    "Now `b` is an independent copy (called a *deep copy*)"
   ]
  },
  {
   "cell_type": "code",
   "execution_count": 80,
   "id": "0ba5f5d8",
   "metadata": {},
   "outputs": [
    {
     "data": {
      "text/plain": [
       "array([1., 1., 1.])"
      ]
     },
     "execution_count": 80,
     "metadata": {},
     "output_type": "execute_result"
    }
   ],
   "source": [
    "b[:] = 1\n",
    "b"
   ]
  },
  {
   "cell_type": "code",
   "execution_count": 81,
   "id": "fe99201f",
   "metadata": {},
   "outputs": [
    {
     "data": {
      "text/plain": [
       "array([ 1.66756319, -0.90524356,  0.71551231])"
      ]
     },
     "execution_count": 81,
     "metadata": {},
     "output_type": "execute_result"
    }
   ],
   "source": [
    "a"
   ]
  },
  {
   "cell_type": "markdown",
   "id": "6c82a90c",
   "metadata": {},
   "source": [
    "Note that the change to `b` has not affected `a`.\n",
    "\n",
    "## Additional Functionality\n",
    "\n",
    "Let's look at some other useful things we can do with NumPy.\n",
    "\n",
    "### Vectorized Functions\n",
    "\n",
    "```{index} single: NumPy; Vectorized Functions\n",
    "```\n",
    "\n",
    "NumPy provides versions of the standard functions `log`, `exp`, `sin`, etc. that act *element-wise* on arrays"
   ]
  },
  {
   "cell_type": "code",
   "execution_count": 82,
   "id": "eb12e4f7",
   "metadata": {},
   "outputs": [
    {
     "data": {
      "text/plain": [
       "array([0.84147098, 0.90929743, 0.14112001])"
      ]
     },
     "execution_count": 82,
     "metadata": {},
     "output_type": "execute_result"
    }
   ],
   "source": [
    "z = np.array([1, 2, 3])\n",
    "np.sin(z)"
   ]
  },
  {
   "cell_type": "markdown",
   "id": "ff22f822",
   "metadata": {},
   "source": [
    "This eliminates the need for explicit element-by-element loops such as"
   ]
  },
  {
   "cell_type": "code",
   "execution_count": 83,
   "id": "6715ac99",
   "metadata": {},
   "outputs": [],
   "source": [
    "n = len(z)\n",
    "y = np.empty(n)\n",
    "for i in range(n):\n",
    "    y[i] = np.sin(z[i])"
   ]
  },
  {
   "cell_type": "markdown",
   "id": "25b4be7f",
   "metadata": {},
   "source": [
    "Because they act element-wise on arrays, these functions are called *vectorized functions*.\n",
    "\n",
    "In NumPy-speak, they are also called *ufuncs*, which stands for \"universal functions\".\n",
    "\n",
    "As we saw above, the usual arithmetic operations (`+`, `*`, etc.) also\n",
    "work element-wise, and combining these with the ufuncs gives a very large set of fast element-wise functions."
   ]
  },
  {
   "cell_type": "code",
   "execution_count": 84,
   "id": "5ef579bc",
   "metadata": {},
   "outputs": [
    {
     "data": {
      "text/plain": [
       "array([1, 2, 3])"
      ]
     },
     "execution_count": 84,
     "metadata": {},
     "output_type": "execute_result"
    }
   ],
   "source": [
    "z"
   ]
  },
  {
   "cell_type": "code",
   "execution_count": 85,
   "id": "d16f8301",
   "metadata": {},
   "outputs": [
    {
     "data": {
      "text/plain": [
       "array([0.24197072, 0.05399097, 0.00443185])"
      ]
     },
     "execution_count": 85,
     "metadata": {},
     "output_type": "execute_result"
    }
   ],
   "source": [
    "(1 / np.sqrt(2 * np.pi)) * np.exp(- 0.5 * z**2)"
   ]
  },
  {
   "cell_type": "markdown",
   "id": "850e8cff",
   "metadata": {},
   "source": [
    "Not all user-defined functions will act element-wise.\n",
    "\n",
    "For example, passing the function `f` defined below a NumPy array causes a `ValueError`"
   ]
  },
  {
   "cell_type": "code",
   "execution_count": 86,
   "id": "8d91d4d4",
   "metadata": {},
   "outputs": [],
   "source": [
    "def f(x):\n",
    "    return 1 if x > 0 else 0"
   ]
  },
  {
   "cell_type": "markdown",
   "id": "c9e7de27",
   "metadata": {},
   "source": [
    "The NumPy function `np.where` provides a vectorized alternative:"
   ]
  },
  {
   "cell_type": "code",
   "execution_count": 87,
   "id": "25982ff6",
   "metadata": {},
   "outputs": [
    {
     "data": {
      "text/plain": [
       "array([ 0.00695757, -0.94608385,  0.37969904, -0.18497124])"
      ]
     },
     "execution_count": 87,
     "metadata": {},
     "output_type": "execute_result"
    }
   ],
   "source": [
    "x = np.random.randn(4)\n",
    "x"
   ]
  },
  {
   "cell_type": "code",
   "execution_count": 88,
   "id": "52e3d9d9",
   "metadata": {},
   "outputs": [
    {
     "data": {
      "text/plain": [
       "array([1, 0, 1, 0])"
      ]
     },
     "execution_count": 88,
     "metadata": {},
     "output_type": "execute_result"
    }
   ],
   "source": [
    "np.where(x > 0, 1, 0)  # Insert 1 if x > 0 true, otherwise 0"
   ]
  },
  {
   "cell_type": "markdown",
   "id": "6271ae13",
   "metadata": {},
   "source": [
    "You can also use `np.vectorize` to vectorize a given function"
   ]
  },
  {
   "cell_type": "code",
   "execution_count": 89,
   "id": "70c18d92",
   "metadata": {},
   "outputs": [
    {
     "data": {
      "text/plain": [
       "array([1, 0, 1, 0])"
      ]
     },
     "execution_count": 89,
     "metadata": {},
     "output_type": "execute_result"
    }
   ],
   "source": [
    "f = np.vectorize(f)\n",
    "f(x)                # Passing the same vector x as in the previous example"
   ]
  },
  {
   "cell_type": "markdown",
   "id": "6d67c938",
   "metadata": {},
   "source": [
    "However, this approach doesn't always obtain the same speed as a more carefully crafted vectorized function.\n",
    "\n",
    "### Comparisons\n",
    "\n",
    "```{index} single: NumPy; Comparisons\n",
    "```\n",
    "\n",
    "As a rule, comparisons on arrays are done element-wise"
   ]
  },
  {
   "cell_type": "code",
   "execution_count": 90,
   "id": "6a570501",
   "metadata": {},
   "outputs": [
    {
     "data": {
      "text/plain": [
       "array([ True,  True])"
      ]
     },
     "execution_count": 90,
     "metadata": {},
     "output_type": "execute_result"
    }
   ],
   "source": [
    "z = np.array([2, 3])\n",
    "y = np.array([2, 3])\n",
    "z == y"
   ]
  },
  {
   "cell_type": "code",
   "execution_count": 91,
   "id": "b2268054",
   "metadata": {},
   "outputs": [
    {
     "data": {
      "text/plain": [
       "array([False,  True])"
      ]
     },
     "execution_count": 91,
     "metadata": {},
     "output_type": "execute_result"
    }
   ],
   "source": [
    "y[0] = 5\n",
    "z == y"
   ]
  },
  {
   "cell_type": "code",
   "execution_count": 92,
   "id": "1d795faa",
   "metadata": {},
   "outputs": [
    {
     "data": {
      "text/plain": [
       "array([ True, False])"
      ]
     },
     "execution_count": 92,
     "metadata": {},
     "output_type": "execute_result"
    }
   ],
   "source": [
    "z != y"
   ]
  },
  {
   "cell_type": "markdown",
   "id": "af200460",
   "metadata": {},
   "source": [
    "The situation is similar for `>`, `<`, `>=` and `<=`.\n",
    "\n",
    "We can also do comparisons against scalars"
   ]
  },
  {
   "cell_type": "code",
   "execution_count": 93,
   "id": "2472598c",
   "metadata": {},
   "outputs": [
    {
     "data": {
      "text/plain": [
       "array([ 0. ,  2.5,  5. ,  7.5, 10. ])"
      ]
     },
     "execution_count": 93,
     "metadata": {},
     "output_type": "execute_result"
    }
   ],
   "source": [
    "z = np.linspace(0, 10, 5)\n",
    "z"
   ]
  },
  {
   "cell_type": "code",
   "execution_count": 94,
   "id": "44e8b142",
   "metadata": {},
   "outputs": [
    {
     "data": {
      "text/plain": [
       "array([False, False,  True,  True,  True])"
      ]
     },
     "execution_count": 94,
     "metadata": {},
     "output_type": "execute_result"
    }
   ],
   "source": [
    "z > 3"
   ]
  },
  {
   "cell_type": "markdown",
   "id": "d9bcaf94",
   "metadata": {},
   "source": [
    "This is particularly useful for *conditional extraction*"
   ]
  },
  {
   "cell_type": "code",
   "execution_count": 95,
   "id": "ff65bd1a",
   "metadata": {},
   "outputs": [
    {
     "data": {
      "text/plain": [
       "array([False, False,  True,  True,  True])"
      ]
     },
     "execution_count": 95,
     "metadata": {},
     "output_type": "execute_result"
    }
   ],
   "source": [
    "b = z > 3\n",
    "b"
   ]
  },
  {
   "cell_type": "code",
   "execution_count": 96,
   "id": "30441116",
   "metadata": {},
   "outputs": [
    {
     "data": {
      "text/plain": [
       "array([ 5. ,  7.5, 10. ])"
      ]
     },
     "execution_count": 96,
     "metadata": {},
     "output_type": "execute_result"
    }
   ],
   "source": [
    "z[b]"
   ]
  },
  {
   "cell_type": "markdown",
   "id": "57d859f5",
   "metadata": {},
   "source": [
    "Of course we can---and frequently do---perform this in one step"
   ]
  },
  {
   "cell_type": "code",
   "execution_count": 97,
   "id": "f74e5695",
   "metadata": {},
   "outputs": [
    {
     "data": {
      "text/plain": [
       "array([ 5. ,  7.5, 10. ])"
      ]
     },
     "execution_count": 97,
     "metadata": {},
     "output_type": "execute_result"
    }
   ],
   "source": [
    "z[z > 3]"
   ]
  },
  {
   "cell_type": "markdown",
   "id": "c51bce5f",
   "metadata": {},
   "source": [
    "### Sub-packages\n",
    "\n",
    "NumPy provides some additional functionality related to scientific programming\n",
    "through its sub-packages.\n",
    "\n",
    "We've already seen how we can generate random variables using np.random"
   ]
  },
  {
   "cell_type": "code",
   "execution_count": 98,
   "id": "2304b7f8",
   "metadata": {},
   "outputs": [
    {
     "data": {
      "text/plain": [
       "4.912"
      ]
     },
     "execution_count": 98,
     "metadata": {},
     "output_type": "execute_result"
    }
   ],
   "source": [
    "z = np.random.randn(10000)  # Generate standard normals\n",
    "y = np.random.binomial(10, 0.5, size=1000)    # 1,000 draws from Bin(10, 0.5)\n",
    "y.mean()"
   ]
  },
  {
   "cell_type": "markdown",
   "id": "fc98168d",
   "metadata": {},
   "source": [
    "Another commonly used subpackage is np.linalg"
   ]
  },
  {
   "cell_type": "code",
   "execution_count": 99,
   "id": "6f1a45be",
   "metadata": {},
   "outputs": [
    {
     "data": {
      "text/plain": [
       "-2.0000000000000004"
      ]
     },
     "execution_count": 99,
     "metadata": {},
     "output_type": "execute_result"
    }
   ],
   "source": [
    "A = np.array([[1, 2], [3, 4]])\n",
    "\n",
    "np.linalg.det(A)           # Compute the determinant"
   ]
  },
  {
   "cell_type": "code",
   "execution_count": 100,
   "id": "9cbbf7a9",
   "metadata": {},
   "outputs": [
    {
     "data": {
      "text/plain": [
       "array([[-2. ,  1. ],\n",
       "       [ 1.5, -0.5]])"
      ]
     },
     "execution_count": 100,
     "metadata": {},
     "output_type": "execute_result"
    }
   ],
   "source": [
    "np.linalg.inv(A)           # Compute the inverse"
   ]
  },
  {
   "cell_type": "markdown",
   "id": "a8e16c88",
   "metadata": {},
   "source": [
    "```{index} single: SciPy\n",
    "```\n",
    "\n",
    "```{index} single: Python; SciPy\n",
    "```\n",
    "\n",
    "Much of this functionality is also available in [SciPy](http://www.scipy.org/), a collection of modules that are built on top of NumPy.\n",
    "\n",
    "We'll cover the SciPy versions in more detail {doc}`soon <scipy>`.\n",
    "\n",
    "For a comprehensive list of what's available in NumPy see [this documentation](https://docs.scipy.org/doc/numpy/reference/routines.html).\n",
    "\n",
    "\n",
    "## Speed Comparisons\n",
    "\n",
    "```{index} single: Vectorization; Operations on Arrays\n",
    "```\n",
    "\n",
    "We mentioned in an {doc}`previous lecture <need_for_speed>` that NumPy-based vectorization can\n",
    "accelerate scientific applications.\n",
    "\n",
    "In this section we try some speed comparisons to illustrate this fact.\n",
    "\n",
    "### Vectorization vs Loops\n",
    "\n",
    "Let's begin with some non-vectorized code, which uses a native Python loop to generate,\n",
    "square and then sum a large number of random variables:"
   ]
  },
  {
   "cell_type": "code",
   "execution_count": 101,
   "id": "506a1fb0",
   "metadata": {},
   "outputs": [],
   "source": [
    "n = 1_000_000"
   ]
  },
  {
   "cell_type": "code",
   "execution_count": 102,
   "id": "eafb9699",
   "metadata": {},
   "outputs": [
    {
     "name": "stdout",
     "output_type": "stream",
     "text": [
      "CPU times: user 268 ms, sys: 432 μs, total: 268 ms\n",
      "Wall time: 268 ms\n"
     ]
    }
   ],
   "source": [
    "%%time\n",
    "\n",
    "y = 0      # Will accumulate and store sum\n",
    "for i in range(n):\n",
    "    x = random.uniform(0, 1)\n",
    "    y += x**2"
   ]
  },
  {
   "cell_type": "markdown",
   "id": "efdf8e53",
   "metadata": {},
   "source": [
    "The following vectorized code achieves the same thing."
   ]
  },
  {
   "cell_type": "code",
   "execution_count": 103,
   "id": "8f684e8a",
   "metadata": {},
   "outputs": [
    {
     "name": "stdout",
     "output_type": "stream",
     "text": [
      "CPU times: user 6.59 ms, sys: 3.11 ms, total: 9.7 ms\n",
      "Wall time: 9.32 ms\n"
     ]
    }
   ],
   "source": [
    "%%time\n",
    "\n",
    "x = np.random.uniform(0, 1, n)\n",
    "y = np.sum(x**2)"
   ]
  },
  {
   "cell_type": "markdown",
   "id": "1dcc2d69",
   "metadata": {},
   "source": [
    "As you can see, the second code block runs much faster.  Why?\n",
    "\n",
    "The second code block breaks the loop down into three basic operations\n",
    "\n",
    "1. draw `n` uniforms\n",
    "1. square them\n",
    "1. sum them\n",
    "\n",
    "These are sent as batch operators to optimized machine code.\n",
    "\n",
    "Apart from minor overheads associated with sending data back and forth, the result is C or Fortran-like speed.\n",
    "\n",
    "When we run batch operations on arrays like this, we say that the code is *vectorized*.\n",
    "\n",
    "The next section illustrates this point.\n",
    "\n",
    "(ufuncs)=\n",
    "### Universal Functions\n",
    "\n",
    "```{index} single: NumPy; Universal Functions\n",
    "```\n",
    "\n",
    "As discussed above, many functions provided by NumPy are universal functions (ufuncs).\n",
    "\n",
    "By exploiting ufuncs, many operations can be vectorized, leading to faster\n",
    "execution.\n",
    "\n",
    "For example, consider the problem of maximizing a function $f$ of two\n",
    "variables $(x,y)$ over the square $[-a, a] \\times [-a, a]$.\n",
    "\n",
    "For $f$ and $a$ let's choose\n",
    "\n",
    "$$\n",
    "f(x,y) = \\frac{\\cos(x^2 + y^2)}{1 + x^2 + y^2}\n",
    "\\quad \\text{and} \\quad\n",
    "a = 3\n",
    "$$\n",
    "\n",
    "Here's a plot of $f$"
   ]
  },
  {
   "cell_type": "code",
   "execution_count": 104,
   "id": "32d63b7a",
   "metadata": {},
   "outputs": [
    {
     "data": {
      "image/png": "[encoded data removed]",
      "text/plain": [
       "<Figure size 1000x800 with 1 Axes>"
      ]
     },
     "metadata": {},
     "output_type": "display_data"
    }
   ],
   "source": [
    "def f(x, y):\n",
    "    return np.cos(x**2 + y**2) / (1 + x**2 + y**2)\n",
    "\n",
    "xgrid = np.linspace(-3, 3, 50)\n",
    "ygrid = xgrid\n",
    "x, y = np.meshgrid(xgrid, ygrid)\n",
    "\n",
    "fig = plt.figure(figsize=(10, 8))\n",
    "ax = fig.add_subplot(111, projection='3d')\n",
    "ax.plot_surface(x,\n",
    "                y,\n",
    "                f(x, y),\n",
    "                rstride=2, cstride=2,\n",
    "                cmap=cm.jet,\n",
    "                alpha=0.7,\n",
    "                linewidth=0.25)\n",
    "ax.set_zlim(-0.5, 1.0)\n",
    "ax.set_xlabel('$x$', fontsize=14)\n",
    "ax.set_ylabel('$y$', fontsize=14)\n",
    "plt.show()"
   ]
  },
  {
   "cell_type": "markdown",
   "id": "09ea4c4d",
   "metadata": {},
   "source": [
    "To maximize it, we're going to use a naive grid search:\n",
    "\n",
    "1. Evaluate $f$ for all $(x,y)$ in a grid on the square.\n",
    "1. Return the maximum of observed values.\n",
    "\n",
    "The grid will be"
   ]
  },
  {
   "cell_type": "code",
   "execution_count": 105,
   "id": "55e5f562",
   "metadata": {},
   "outputs": [],
   "source": [
    "grid = np.linspace(-3, 3, 1000)"
   ]
  },
  {
   "cell_type": "markdown",
   "id": "4e9bff86",
   "metadata": {},
   "source": [
    "Here's a non-vectorized version that uses Python loops."
   ]
  },
  {
   "cell_type": "code",
   "execution_count": 106,
   "id": "705cee73",
   "metadata": {},
   "outputs": [
    {
     "name": "stdout",
     "output_type": "stream",
     "text": [
      "CPU times: user 1.56 s, sys: 7.58 ms, total: 1.57 s\n",
      "Wall time: 1.47 s\n"
     ]
    }
   ],
   "source": [
    "%%time\n",
    "\n",
    "m = -np.inf\n",
    "\n",
    "for x in grid:\n",
    "    for y in grid:\n",
    "        z = f(x, y)\n",
    "        if z > m:\n",
    "            m = z"
   ]
  },
  {
   "cell_type": "markdown",
   "id": "41c6e73a",
   "metadata": {},
   "source": [
    "And here's a vectorized version"
   ]
  },
  {
   "cell_type": "code",
   "execution_count": 107,
   "id": "51b55b31",
   "metadata": {},
   "outputs": [
    {
     "name": "stdout",
     "output_type": "stream",
     "text": [
      "CPU times: user 16.2 ms, sys: 5.98 ms, total: 22.2 ms\n",
      "Wall time: 21.7 ms\n"
     ]
    },
    {
     "data": {
      "text/plain": [
       "0.9999819641085747"
      ]
     },
     "execution_count": 107,
     "metadata": {},
     "output_type": "execute_result"
    }
   ],
   "source": [
    "%%time\n",
    "\n",
    "x, y = np.meshgrid(grid, grid)\n",
    "np.max(f(x, y))"
   ]
  },
  {
   "cell_type": "markdown",
   "id": "e3ab9191",
   "metadata": {},
   "source": [
    "In the vectorized version, all the looping takes place in compiled code.\n",
    "\n",
    "As you can see, the second version is *much* faster.\n",
    "\n",
    "\n",
    "## Exercises\n",
    "\n",
    "\n",
    "```{exercise-start}\n",
    ":label: np_ex1\n",
    "```\n",
    "\n",
    "Consider the polynomial expression\n",
    "\n",
    "```{math}\n",
    ":label: np_polynom\n",
    "\n",
    "p(x) = a_0 + a_1 x + a_2 x^2 + \\cdots a_N x^N = \\sum_{n=0}^N a_n x^n\n",
    "```\n",
    "\n",
    "{ref}`Earlier <pyess_ex2>`, you wrote a simple function `p(x, coeff)` to evaluate {eq}`np_polynom` without considering efficiency.\n",
    "\n",
    "Now write a new function that does the same job, but uses NumPy arrays and array operations for its computations, rather than any form of Python loop.\n",
    "\n",
    "(Such functionality is already implemented as `np.poly1d`, but for the sake of the exercise don't use this class)\n",
    "\n",
    "```{hint}\n",
    ":class: dropdown\n",
    "Use `np.cumprod()`\n",
    "```\n",
    "```{exercise-end}\n",
    "```\n",
    "\n",
    "```{solution-start} np_ex1\n",
    ":class: dropdown\n",
    "```\n",
    "\n",
    "This code does the job"
   ]
  },
  {
   "cell_type": "code",
   "execution_count": 108,
   "id": "3b6eadbb",
   "metadata": {},
   "outputs": [],
   "source": [
    "def p(x, coef):\n",
    "    X = np.ones_like(coef)\n",
    "    X[1:] = x\n",
    "    y = np.cumprod(X)   # y = [1, x, x**2,...]\n",
    "    return coef @ y"
   ]
  },
  {
   "cell_type": "markdown",
   "id": "280f8061",
   "metadata": {},
   "source": [
    "Let's test it"
   ]
  },
  {
   "cell_type": "code",
   "execution_count": 109,
   "id": "2ebe66fb",
   "metadata": {},
   "outputs": [
    {
     "name": "stdout",
     "output_type": "stream",
     "text": [
      "[2. 3. 4.]\n",
      "24.0\n",
      "24.0\n"
     ]
    }
   ],
   "source": [
    "x = 2\n",
    "coef = np.linspace(2, 4, 3)\n",
    "print(coef)\n",
    "print(p(x, coef))\n",
    "# For comparison\n",
    "q = np.poly1d(np.flip(coef))\n",
    "print(q(x))"
   ]
  },
  {
   "cell_type": "markdown",
   "id": "bb251e97",
   "metadata": {},
   "source": [
    "```{solution-end}\n",
    "```\n",
    "\n",
    "\n",
    "```{exercise-start}\n",
    ":label: np_ex2\n",
    "```\n",
    "\n",
    "Let `q` be a NumPy array of length `n` with `q.sum() == 1`.\n",
    "\n",
    "Suppose that `q` represents a [probability mass function](https://en.wikipedia.org/wiki/Probability_mass_function).\n",
    "\n",
    "We wish to generate a discrete random variable $x$ such that $\\mathbb P\\{x = i\\} = q_i$.\n",
    "\n",
    "In other words, `x` takes values in `range(len(q))` and `x = i` with probability `q[i]`.\n",
    "\n",
    "The standard (inverse transform) algorithm is as follows:\n",
    "\n",
    "* Divide the unit interval $[0, 1]$ into $n$ subintervals $I_0, I_1, \\ldots, I_{n-1}$ such that the length of $I_i$ is $q_i$.\n",
    "* Draw a uniform random variable $U$ on $[0, 1]$ and return the $i$ such that $U \\in I_i$.\n",
    "\n",
    "The probability of drawing $i$ is the length of $I_i$, which is equal to $q_i$.\n",
    "\n",
    "We can implement the algorithm as follows"
   ]
  },
  {
   "cell_type": "code",
   "execution_count": 110,
   "id": "0a7e607f",
   "metadata": {},
   "outputs": [],
   "source": [
    "from random import uniform\n",
    "\n",
    "def sample(q):\n",
    "    a = 0.0\n",
    "    U = uniform(0, 1)\n",
    "    for i in range(len(q)):\n",
    "        if a < U <= a + q[i]:\n",
    "            return i\n",
    "        a = a + q[i]"
   ]
  },
  {
   "cell_type": "markdown",
   "id": "9636c91f",
   "metadata": {},
   "source": [
    "If you can't see how this works, try thinking through the flow for a simple example, such as `q = [0.25, 0.75]`\n",
    "It helps to sketch the intervals on paper.\n",
    "\n",
    "Your exercise is to speed it up using NumPy, avoiding explicit loops\n",
    "\n",
    "```{hint}\n",
    ":class: dropdown\n",
    "\n",
    "Use `np.searchsorted` and `np.cumsum`\n",
    "\n",
    "```\n",
    "\n",
    "If you can, implement the functionality as a class called `DiscreteRV`, where\n",
    "\n",
    "* the data for an instance of the class is the vector of probabilities `q`\n",
    "* the class has a `draw()` method, which returns one draw according to the algorithm described above\n",
    "\n",
    "If you can, write the method so that `draw(k)` returns `k` draws from `q`.\n",
    "\n",
    "```{exercise-end}\n",
    "```\n",
    "\n",
    "```{solution-start} np_ex2\n",
    ":class: dropdown\n",
    "```\n",
    "\n",
    "Here's our first pass at a solution:"
   ]
  },
  {
   "cell_type": "code",
   "execution_count": 111,
   "id": "0b62b8d3",
   "metadata": {},
   "outputs": [],
   "source": [
    "from numpy import cumsum\n",
    "from numpy.random import uniform\n",
    "\n",
    "class DiscreteRV:\n",
    "    \"\"\"\n",
    "    Generates an array of draws from a discrete random variable with vector of\n",
    "    probabilities given by q.\n",
    "    \"\"\"\n",
    "\n",
    "    def __init__(self, q):\n",
    "        \"\"\"\n",
    "        The argument q is a NumPy array, or array like, nonnegative and sums\n",
    "        to 1\n",
    "        \"\"\"\n",
    "        self.q = q\n",
    "        self.Q = cumsum(q)\n",
    "\n",
    "    def draw(self, k=1):\n",
    "        \"\"\"\n",
    "        Returns k draws from q. For each such draw, the value i is returned\n",
    "        with probability q[i].\n",
    "        \"\"\"\n",
    "        return self.Q.searchsorted(uniform(0, 1, size=k))"
   ]
  },
  {
   "cell_type": "markdown",
   "id": "d144610b",
   "metadata": {},
   "source": [
    "The logic is not obvious, but if you take your time and read it slowly,\n",
    "you will understand.\n",
    "\n",
    "There is a problem here, however.\n",
    "\n",
    "Suppose that `q` is altered after an instance of `discreteRV` is\n",
    "created, for example by"
   ]
  },
  {
   "cell_type": "code",
   "execution_count": 112,
   "id": "e0049749",
   "metadata": {},
   "outputs": [],
   "source": [
    "q = (0.1, 0.9)\n",
    "d = DiscreteRV(q)\n",
    "d.q = (0.5, 0.5)"
   ]
  },
  {
   "cell_type": "markdown",
   "id": "6e8a28b4",
   "metadata": {},
   "source": [
    "The problem is that `Q` does not change accordingly, and `Q` is the\n",
    "data used in the `draw` method.\n",
    "\n",
    "To deal with this, one option is to compute `Q` every time the draw\n",
    "method is called.\n",
    "\n",
    "But this is inefficient relative to computing `Q` once-off.\n",
    "\n",
    "A better option is to use descriptors.\n",
    "\n",
    "A solution from the [quantecon\n",
    "library](https://github.com/QuantEcon/QuantEcon.py/tree/master/quantecon)\n",
    "using descriptors that behaves as we desire can be found\n",
    "[here](https://github.com/QuantEcon/QuantEcon.py/blob/master/quantecon/discrete_rv.py).\n",
    "\n",
    "```{solution-end}\n",
    "```\n",
    "\n",
    "\n",
    "```{exercise}\n",
    ":label: np_ex3\n",
    "\n",
    "Recall our {ref}`earlier discussion <oop_ex1>` of the empirical cumulative distribution function.\n",
    "\n",
    "Your task is to\n",
    "\n",
    "1. Make the `__call__` method more efficient using NumPy.\n",
    "1. Add a method that plots the ECDF over $[a, b]$, where $a$ and $b$ are method parameters.\n",
    "```\n",
    "\n",
    "```{solution-start} np_ex3\n",
    ":class: dropdown\n",
    "```\n",
    "\n",
    "An example solution is given below.\n",
    "\n",
    "In essence, we've just taken [this code](https://github.com/QuantEcon/QuantEcon.py/blob/master/quantecon/ecdf.py)\n",
    "from QuantEcon and added in a plot method"
   ]
  },
  {
   "cell_type": "code",
   "execution_count": 113,
   "id": "fdac7dc7",
   "metadata": {},
   "outputs": [],
   "source": [
    "\"\"\"\n",
    "Modifies ecdf.py from QuantEcon to add in a plot method\n",
    "\n",
    "\"\"\"\n",
    "\n",
    "class ECDF:\n",
    "    \"\"\"\n",
    "    One-dimensional empirical distribution function given a vector of\n",
    "    observations.\n",
    "\n",
    "    Parameters\n",
    "    ----------\n",
    "    observations : array_like\n",
    "        An array of observations\n",
    "\n",
    "    Attributes\n",
    "    ----------\n",
    "    observations : array_like\n",
    "        An array of observations\n",
    "\n",
    "    \"\"\"\n",
    "\n",
    "    def __init__(self, observations):\n",
    "        self.observations = np.asarray(observations)\n",
    "\n",
    "    def __call__(self, x):\n",
    "        \"\"\"\n",
    "        Evaluates the ecdf at x\n",
    "\n",
    "        Parameters\n",
    "        ----------\n",
    "        x : scalar(float)\n",
    "            The x at which the ecdf is evaluated\n",
    "\n",
    "        Returns\n",
    "        -------\n",
    "        scalar(float)\n",
    "            Fraction of the sample less than x\n",
    "\n",
    "        \"\"\"\n",
    "        return np.mean(self.observations <= x)\n",
    "\n",
    "    def plot(self, ax, a=None, b=None):\n",
    "        \"\"\"\n",
    "        Plot the ecdf on the interval [a, b].\n",
    "\n",
    "        Parameters\n",
    "        ----------\n",
    "        a : scalar(float), optional(default=None)\n",
    "            Lower endpoint of the plot interval\n",
    "        b : scalar(float), optional(default=None)\n",
    "            Upper endpoint of the plot interval\n",
    "\n",
    "        \"\"\"\n",
    "\n",
    "        # === choose reasonable interval if [a, b] not specified === #\n",
    "        if a is None:\n",
    "            a = self.observations.min() - self.observations.std()\n",
    "        if b is None:\n",
    "            b = self.observations.max() + self.observations.std()\n",
    "\n",
    "        # === generate plot === #\n",
    "        x_vals = np.linspace(a, b, num=100)\n",
    "        f = np.vectorize(self.__call__)\n",
    "        ax.plot(x_vals, f(x_vals))\n",
    "        plt.show()"
   ]
  },
  {
   "cell_type": "markdown",
   "id": "b461b6bd",
   "metadata": {},
   "source": [
    "Here's an example of usage"
   ]
  },
  {
   "cell_type": "code",
   "execution_count": 114,
   "id": "77ec40da",
   "metadata": {},
   "outputs": [
    {
     "data": {
      "image/png": "[encoded data removed]",
      "text/plain": [
       "<Figure size 640x480 with 1 Axes>"
      ]
     },
     "metadata": {},
     "output_type": "display_data"
    }
   ],
   "source": [
    "fig, ax = plt.subplots()\n",
    "X = np.random.randn(1000)\n",
    "F = ECDF(X)\n",
    "F.plot(ax)"
   ]
  },
  {
   "cell_type": "markdown",
   "id": "210f3b84",
   "metadata": {},
   "source": [
    "```{solution-end}\n",
    "```\n",
    "\n",
    "\n",
    "```{exercise-start}\n",
    ":label: np_ex4\n",
    "```\n",
    "\n",
    "Recall that [broadcasting](broadcasting) in Numpy can help us conduct element-wise operations on arrays with different number of dimensions without using `for` loops.\n",
    "\n",
    "In this exercise, try to use `for` loops to replicate the result of the following broadcasting operations.\n",
    "\n",
    "**Part1**: Try to replicate this simple example using `for` loops and compare your results with the broadcasting operation below."
   ]
  },
  {
   "cell_type": "code",
   "execution_count": 115,
   "id": "838a9799",
   "metadata": {},
   "outputs": [],
   "source": [
    "np.random.seed(123)\n",
    "x = np.random.randn(4, 4)\n",
    "y = np.random.randn(4)\n",
    "A = x / y"
   ]
  },
  {
   "cell_type": "markdown",
   "id": "1c0c6f9e",
   "metadata": {},
   "source": [
    "Here is the output"
   ]
  },
  {
   "cell_type": "code",
   "execution_count": 116,
   "id": "b94656e4",
   "metadata": {
    "tags": [
     "hide-output"
    ]
   },
   "outputs": [
    {
     "name": "stdout",
     "output_type": "stream",
     "text": [
      "[[-0.49214189  0.45607819  0.28183596 -3.90043439]\n",
      " [-0.26229311  0.75518888 -2.41688145 -1.11063629]\n",
      " [ 0.57387869 -0.39635354 -0.67614513 -0.2452416 ]\n",
      " [ 0.676082   -0.29216483 -0.44218937 -1.12471925]]\n"
     ]
    }
   ],
   "source": [
    "print(A)"
   ]
  },
  {
   "cell_type": "markdown",
   "id": "44c77494",
   "metadata": {},
   "source": [
    "**Part2**: Move on to replicate the result of the following broadcasting operation. Meanwhile, compare the speeds of broadcasting and the `for` loop you implement.\n",
    "\n",
    "For this part of the exercise you can use the `tic`/`toc` functions from the `quantecon` library to time the execution. \n",
    "\n",
    "Let's make sure this library is installed."
   ]
  },
  {
   "cell_type": "code",
   "execution_count": 117,
   "id": "255691d1",
   "metadata": {
    "tags": [
     "hide-output"
    ]
   },
   "outputs": [
    {
     "name": "stdout",
     "output_type": "stream",
     "text": [
      "Requirement already satisfied: quantecon in /home/runner/miniconda3/envs/quantecon/lib/python3.12/site-packages (0.8.0)\r\n"
     ]
    },
    {
     "name": "stdout",
     "output_type": "stream",
     "text": [
      "Requirement already satisfied: numba>=0.49.0 in /home/runner/miniconda3/envs/quantecon/lib/python3.12/site-packages (from quantecon) (0.60.0)\r\n",
      "Requirement already satisfied: numpy>=1.17.0 in /home/runner/miniconda3/envs/quantecon/lib/python3.12/site-packages (from quantecon) (1.26.4)\r\n",
      "Requirement already satisfied: requests in /home/runner/miniconda3/envs/quantecon/lib/python3.12/site-packages (from quantecon) (2.32.3)\r\n",
      "Requirement already satisfied: scipy>=1.5.0 in /home/runner/miniconda3/envs/quantecon/lib/python3.12/site-packages (from quantecon) (1.13.1)\r\n",
      "Requirement already satisfied: sympy in /home/runner/miniconda3/envs/quantecon/lib/python3.12/site-packages (from quantecon) (1.13.2)\r\n",
      "Requirement already satisfied: llvmlite<0.44,>=0.43.0dev0 in /home/runner/miniconda3/envs/quantecon/lib/python3.12/site-packages (from numba>=0.49.0->quantecon) (0.43.0)\r\n",
      "Requirement already satisfied: charset-normalizer<4,>=2 in /home/runner/miniconda3/envs/quantecon/lib/python3.12/site-packages (from requests->quantecon) (3.3.2)\r\n",
      "Requirement already satisfied: idna<4,>=2.5 in /home/runner/miniconda3/envs/quantecon/lib/python3.12/site-packages (from requests->quantecon) (3.7)\r\n",
      "Requirement already satisfied: urllib3<3,>=1.21.1 in /home/runner/miniconda3/envs/quantecon/lib/python3.12/site-packages (from requests->quantecon) (2.2.3)\r\n",
      "Requirement already satisfied: certifi>=2017.4.17 in /home/runner/miniconda3/envs/quantecon/lib/python3.12/site-packages (from requests->quantecon) (2024.8.30)\r\n",
      "Requirement already satisfied: mpmath<1.4,>=1.1.0 in /home/runner/miniconda3/envs/quantecon/lib/python3.12/site-packages (from sympy->quantecon) (1.3.0)\r\n"
     ]
    }
   ],
   "source": [
    "!pip install quantecon"
   ]
  },
  {
   "cell_type": "markdown",
   "id": "f7a0427e",
   "metadata": {},
   "source": [
    "Now we can import the quantecon package."
   ]
  },
  {
   "cell_type": "code",
   "execution_count": 118,
   "id": "48cce8c7",
   "metadata": {},
   "outputs": [
    {
     "name": "stdout",
     "output_type": "stream",
     "text": [
      "TOC: Elapsed: 0:00:0.01\n"
     ]
    },
    {
     "data": {
      "text/plain": [
       "0.012409687042236328"
      ]
     },
     "execution_count": 118,
     "metadata": {},
     "output_type": "execute_result"
    }
   ],
   "source": [
    "np.random.seed(123)\n",
    "x = np.random.randn(1000, 100, 100)\n",
    "y = np.random.randn(100)\n",
    "\n",
    "qe.tic()\n",
    "B = x / y\n",
    "qe.toc()"
   ]
  },
  {
   "cell_type": "markdown",
   "id": "a5dc38dd",
   "metadata": {},
   "source": [
    "Here is the output"
   ]
  },
  {
   "cell_type": "code",
   "execution_count": 119,
   "id": "a2cea5ca",
   "metadata": {
    "tags": [
     "hide-output"
    ]
   },
   "outputs": [
    {
     "name": "stdout",
     "output_type": "stream",
     "text": [
      "[[[ 1.85764005 -0.89419976  0.24485371 ... -3.04214618  0.17711597\n",
      "   -0.22643801]\n",
      "  [-1.09863014  1.77333433  0.61630351 ... -0.24732757 -0.15931155\n",
      "   -0.13015397]\n",
      "  [-1.20344529  0.53624915  1.90420857 ...  0.92748804  0.07494711\n",
      "    0.48954772]\n",
      "  ...\n",
      "  [-1.09763323  0.68632802 -1.21568707 ... -3.87025031 -0.19456046\n",
      "    0.18331773]\n",
      "  [-0.47546852 -0.16883695  2.92991418 ... -0.05967182 -0.20796073\n",
      "   -0.49082994]\n",
      "  [ 1.14380091  1.93460538 -0.76305492 ... -1.0537099   0.27167901\n",
      "    0.57963424]]\n",
      "\n",
      " [[ 2.12344323  0.28058176 -0.73457091 ...  3.55049699  0.59737154\n",
      "   -0.31414907]\n",
      "  [ 1.40074417 -0.09113173  0.50276294 ... -1.85572391  0.13914077\n",
      "   -0.93776321]\n",
      "  [ 2.35739042 -0.79089649  0.20835615 ... -0.11001198  0.86250367\n",
      "   -1.26949634]\n",
      "  ...\n",
      "  [ 2.11831946  0.15242396 -0.17269536 ...  0.03469371 -0.06074779\n",
      "    0.10114045]\n",
      "  [-0.08300138  0.47232405 -0.89930099 ...  0.66104947 -0.45183377\n",
      "   -1.05885526]\n",
      "  [ 0.282155   -1.44848315 -1.25832989 ... -3.12998376  0.48762406\n",
      "    0.22052869]]\n",
      "\n",
      " [[-1.76517625 -1.19419485  0.08293115 ...  0.7919151  -0.03812759\n",
      "   -1.19540255]\n",
      "  [-0.66639955  0.16580616 -0.32083535 ...  0.72351825 -0.72239583\n",
      "   -0.46386281]\n",
      "  [-0.45163238 -1.5262587  -0.38541194 ...  1.82015759  0.23151272\n",
      "    0.81609303]\n",
      "  ...\n",
      "  [ 1.14317214 -0.60571044 -0.74962613 ... -3.13330221  0.61817627\n",
      "    0.37738869]\n",
      "  [-0.65686356  0.41024983  0.2700362  ... -0.08588743  0.20408508\n",
      "    0.33667429]\n",
      "  [-0.43851304  0.58339651 -0.9076869  ... -2.55408527 -0.22112928\n",
      "    0.9912754 ]]\n",
      "\n",
      " ...\n",
      "\n",
      " [[ 1.13470002 -0.20836287 -0.50483798 ...  0.32733859 -0.32203002\n",
      "    0.43385307]\n",
      "  [-0.11763272 -0.77698937 -0.46659376 ...  2.01256989 -0.19222608\n",
      "   -0.48021737]\n",
      "  [ 0.89558661  0.93447059  0.35386499 ... -1.2218747   0.42826019\n",
      "    0.73980809]\n",
      "  ...\n",
      "  [-0.30040698 -1.14758822 -1.2785068  ...  3.9600491  -0.25830068\n",
      "   -1.09906439]\n",
      "  [-2.89569174 -0.67988752 -0.26342148 ...  0.62855881  0.05570693\n",
      "   -0.05084807]\n",
      "  [ 0.87738281 -2.37555322  1.66177996 ...  0.09857952  0.35564132\n",
      "   -1.22140972]]\n",
      "\n",
      " [[-3.31843223  0.19402721  0.87502303 ... -1.47591384 -0.25236749\n",
      "   -0.85281481]\n",
      "  [-2.84794867 -0.31042414  0.43040259 ... -4.01127498  0.06267678\n",
      "   -0.2073196 ]\n",
      "  [-0.47909317 -0.77256923 -0.49818879 ... -0.17526151  0.64720631\n",
      "   -0.06831215]\n",
      "  ...\n",
      "  [ 0.35509683 -0.48189502 -0.18528007 ...  2.03614189 -0.15287291\n",
      "    0.0979404 ]\n",
      "  [-1.20730244 -0.24269721 -0.28048927 ...  0.94378219 -0.21283324\n",
      "   -0.30738091]\n",
      "  [-1.81004008  1.01260185 -0.62311067 ... -0.03158149 -0.36355966\n",
      "    0.43427753]]\n",
      "\n",
      " [[-1.43227284 -0.20319046  1.37271425 ...  2.34113161  0.18025411\n",
      "   -0.247025  ]\n",
      "  [ 0.47792311  0.61186236  0.73460309 ... -1.52671835 -0.10967386\n",
      "   -0.04788996]\n",
      "  [-1.51873339  0.73425213 -0.54033092 ...  0.21434631 -0.31597544\n",
      "   -0.24364054]\n",
      "  ...\n",
      "  [-0.24128379 -0.72604109 -0.36722827 ...  2.20219708  1.04943754\n",
      "   -0.44221604]\n",
      "  [-1.43364744  0.54701702  1.08795598 ...  0.19549939 -0.12604844\n",
      "   -0.74936097]\n",
      "  [-0.59335595  0.46807169 -0.04178975 ... -1.1783837   0.0395992\n",
      "    0.55109001]]]\n"
     ]
    }
   ],
   "source": [
    "print(B)"
   ]
  },
  {
   "cell_type": "markdown",
   "id": "9c95bc57",
   "metadata": {},
   "source": [
    "```{exercise-end}\n",
    "```\n",
    "\n",
    "\n",
    "```{solution-start} np_ex4\n",
    ":class: dropdown\n",
    "```\n",
    "\n",
    "**Part 1 Solution**"
   ]
  },
  {
   "cell_type": "code",
   "execution_count": 120,
   "id": "69e3efc9",
   "metadata": {},
   "outputs": [],
   "source": [
    "np.random.seed(123)\n",
    "x = np.random.randn(4, 4)\n",
    "y = np.random.randn(4)\n",
    "\n",
    "C = np.empty_like(x)\n",
    "n = len(x)\n",
    "for i in range(n):\n",
    "    for j in range(n):\n",
    "        C[i, j] = x[i, j] / y[j]"
   ]
  },
  {
   "cell_type": "markdown",
   "id": "6732f011",
   "metadata": {},
   "source": [
    "Compare the results to check your answer"
   ]
  },
  {
   "cell_type": "code",
   "execution_count": 121,
   "id": "61c46198",
   "metadata": {
    "tags": [
     "hide-output"
    ]
   },
   "outputs": [
    {
     "name": "stdout",
     "output_type": "stream",
     "text": [
      "[[-0.49214189  0.45607819  0.28183596 -3.90043439]\n",
      " [-0.26229311  0.75518888 -2.41688145 -1.11063629]\n",
      " [ 0.57387869 -0.39635354 -0.67614513 -0.2452416 ]\n",
      " [ 0.676082   -0.29216483 -0.44218937 -1.12471925]]\n"
     ]
    }
   ],
   "source": [
    "print(C)"
   ]
  },
  {
   "cell_type": "markdown",
   "id": "a5334c14",
   "metadata": {},
   "source": [
    "You can also use `array_equal()` to check your answer"
   ]
  },
  {
   "cell_type": "code",
   "execution_count": 122,
   "id": "5bcd151c",
   "metadata": {},
   "outputs": [
    {
     "name": "stdout",
     "output_type": "stream",
     "text": [
      "True\n"
     ]
    }
   ],
   "source": [
    "print(np.array_equal(A, C))"
   ]
  },
  {
   "cell_type": "markdown",
   "id": "eb2800d2",
   "metadata": {},
   "source": [
    "**Part 2 Solution**"
   ]
  },
  {
   "cell_type": "code",
   "execution_count": 123,
   "id": "0fc15f90",
   "metadata": {},
   "outputs": [
    {
     "name": "stdout",
     "output_type": "stream",
     "text": [
      "TOC: Elapsed: 0:00:3.45\n"
     ]
    },
    {
     "data": {
      "text/plain": [
       "3.45914888381958"
      ]
     },
     "execution_count": 123,
     "metadata": {},
     "output_type": "execute_result"
    }
   ],
   "source": [
    "np.random.seed(123)\n",
    "x = np.random.randn(1000, 100, 100)\n",
    "y = np.random.randn(100)\n",
    "\n",
    "qe.tic()\n",
    "D = np.empty_like(x)\n",
    "d1, d2, d3 = x.shape\n",
    "for i in range(d1):\n",
    "    for j in range(d2):\n",
    "        for k in range(d3):\n",
    "            D[i, j, k] = x[i, j, k] / y[k]\n",
    "qe.toc()"
   ]
  },
  {
   "cell_type": "markdown",
   "id": "f3a68b49",
   "metadata": {},
   "source": [
    "Note that the `for` loop takes much longer than the broadcasting operation.\n",
    "\n",
    "Compare the results to check your answer"
   ]
  },
  {
   "cell_type": "code",
   "execution_count": 124,
   "id": "b06c52a0",
   "metadata": {
    "tags": [
     "hide-output"
    ]
   },
   "outputs": [
    {
     "name": "stdout",
     "output_type": "stream",
     "text": [
      "[[[ 1.85764005 -0.89419976  0.24485371 ... -3.04214618  0.17711597\n",
      "   -0.22643801]\n",
      "  [-1.09863014  1.77333433  0.61630351 ... -0.24732757 -0.15931155\n",
      "   -0.13015397]\n",
      "  [-1.20344529  0.53624915  1.90420857 ...  0.92748804  0.07494711\n",
      "    0.48954772]\n",
      "  ...\n",
      "  [-1.09763323  0.68632802 -1.21568707 ... -3.87025031 -0.19456046\n",
      "    0.18331773]\n",
      "  [-0.47546852 -0.16883695  2.92991418 ... -0.05967182 -0.20796073\n",
      "   -0.49082994]\n",
      "  [ 1.14380091  1.93460538 -0.76305492 ... -1.0537099   0.27167901\n",
      "    0.57963424]]\n",
      "\n",
      " [[ 2.12344323  0.28058176 -0.73457091 ...  3.55049699  0.59737154\n",
      "   -0.31414907]\n",
      "  [ 1.40074417 -0.09113173  0.50276294 ... -1.85572391  0.13914077\n",
      "   -0.93776321]\n",
      "  [ 2.35739042 -0.79089649  0.20835615 ... -0.11001198  0.86250367\n",
      "   -1.26949634]\n",
      "  ...\n",
      "  [ 2.11831946  0.15242396 -0.17269536 ...  0.03469371 -0.06074779\n",
      "    0.10114045]\n",
      "  [-0.08300138  0.47232405 -0.89930099 ...  0.66104947 -0.45183377\n",
      "   -1.05885526]\n",
      "  [ 0.282155   -1.44848315 -1.25832989 ... -3.12998376  0.48762406\n",
      "    0.22052869]]\n",
      "\n",
      " [[-1.76517625 -1.19419485  0.08293115 ...  0.7919151  -0.03812759\n",
      "   -1.19540255]\n",
      "  [-0.66639955  0.16580616 -0.32083535 ...  0.72351825 -0.72239583\n",
      "   -0.46386281]\n",
      "  [-0.45163238 -1.5262587  -0.38541194 ...  1.82015759  0.23151272\n",
      "    0.81609303]\n",
      "  ...\n",
      "  [ 1.14317214 -0.60571044 -0.74962613 ... -3.13330221  0.61817627\n",
      "    0.37738869]\n",
      "  [-0.65686356  0.41024983  0.2700362  ... -0.08588743  0.20408508\n",
      "    0.33667429]\n",
      "  [-0.43851304  0.58339651 -0.9076869  ... -2.55408527 -0.22112928\n",
      "    0.9912754 ]]\n",
      "\n",
      " ...\n",
      "\n",
      " [[ 1.13470002 -0.20836287 -0.50483798 ...  0.32733859 -0.32203002\n",
      "    0.43385307]\n",
      "  [-0.11763272 -0.77698937 -0.46659376 ...  2.01256989 -0.19222608\n",
      "   -0.48021737]\n",
      "  [ 0.89558661  0.93447059  0.35386499 ... -1.2218747   0.42826019\n",
      "    0.73980809]\n",
      "  ...\n",
      "  [-0.30040698 -1.14758822 -1.2785068  ...  3.9600491  -0.25830068\n",
      "   -1.09906439]\n",
      "  [-2.89569174 -0.67988752 -0.26342148 ...  0.62855881  0.05570693\n",
      "   -0.05084807]\n",
      "  [ 0.87738281 -2.37555322  1.66177996 ...  0.09857952  0.35564132\n",
      "   -1.22140972]]\n",
      "\n",
      " [[-3.31843223  0.19402721  0.87502303 ... -1.47591384 -0.25236749\n",
      "   -0.85281481]\n",
      "  [-2.84794867 -0.31042414  0.43040259 ... -4.01127498  0.06267678\n",
      "   -0.2073196 ]\n",
      "  [-0.47909317 -0.77256923 -0.49818879 ... -0.17526151  0.64720631\n",
      "   -0.06831215]\n",
      "  ...\n",
      "  [ 0.35509683 -0.48189502 -0.18528007 ...  2.03614189 -0.15287291\n",
      "    0.0979404 ]\n",
      "  [-1.20730244 -0.24269721 -0.28048927 ...  0.94378219 -0.21283324\n",
      "   -0.30738091]\n",
      "  [-1.81004008  1.01260185 -0.62311067 ... -0.03158149 -0.36355966\n",
      "    0.43427753]]\n",
      "\n",
      " [[-1.43227284 -0.20319046  1.37271425 ...  2.34113161  0.18025411\n",
      "   -0.247025  ]\n",
      "  [ 0.47792311  0.61186236  0.73460309 ... -1.52671835 -0.10967386\n",
      "   -0.04788996]\n",
      "  [-1.51873339  0.73425213 -0.54033092 ...  0.21434631 -0.31597544\n",
      "   -0.24364054]\n",
      "  ...\n",
      "  [-0.24128379 -0.72604109 -0.36722827 ...  2.20219708  1.04943754\n",
      "   -0.44221604]\n",
      "  [-1.43364744  0.54701702  1.08795598 ...  0.19549939 -0.12604844\n",
      "   -0.74936097]\n",
      "  [-0.59335595  0.46807169 -0.04178975 ... -1.1783837   0.0395992\n",
      "    0.55109001]]]\n"
     ]
    }
   ],
   "source": [
    "print(D)"
   ]
  },
  {
   "cell_type": "code",
   "execution_count": 125,
   "id": "bdb35025",
   "metadata": {},
   "outputs": [
    {
     "name": "stdout",
     "output_type": "stream",
     "text": [
      "True\n"
     ]
    }
   ],
   "source": [
    "print(np.array_equal(B, D))"
   ]
  },
  {
   "cell_type": "markdown",
   "id": "3af46326",
   "metadata": {},
   "source": [
    "```{solution-end}\n",
    "```"
   ]
  }
 ],
 "metadata": {
  "jupytext": {
   "text_representation": {
    "extension": ".md",
    "format_name": "myst"
   }
  },
  "kernelspec": {
   "display_name": "Python 3",
   "language": "python",
   "name": "python3"
  },
  "language_info": {
   "codemirror_mode": {
    "name": "ipython",
    "version": 3
   },
   "file_extension": ".py",
   "mimetype": "text/x-python",
   "name": "python",
   "nbconvert_exporter": "python",
   "pygments_lexer": "ipython3",
   "version": "3.12.7"
  },
  "source_map": [
   10,
   49,
   56,
   73,
   78,
   80,
   97,
   100,
   104,
   107,
   117,
   119,
   125,
   127,
   133,
   138,
   142,
   159,
   162,
   170,
   172,
   176,
   179,
   183,
   188,
   192,
   197,
   200,
   205,
   210,
   212,
   224,
   229,
   233,
   237,
   239,
   243,
   248,
   252,
   254,
   262,
   266,
   268,
   272,
   277,
   280,
   284,
   288,
   293,
   295,
   301,
   306,
   309,
   318,
   323,
   328,
   332,
   336,
   340,
   344,
   348,
   352,
   356,
   360,
   363,
   369,
   374,
   376,
   380,
   384,
   388,
   390,
   400,
   406,
   408,
   412,
   414,
   418,
   420,
   424,
   430,
   434,
   436,
   453,
   457,
   463,
   467,
   471,
   476,
   478,
   511,
   520,
   524,
   637,
   645,
   649,
   653,
   704,
   708,
   717,
   725,
   731,
   735,
   785,
   791,
   802,
   809,
   844,
   867,
   886,
   904,
   911,
   929,
   941,
   946,
   949,
   953,
   958,
   962,
   983,
   988,
   991,
   995,
   1000,
   1002,
   1017,
   1020,
   1024,
   1029,
   1038,
   1042,
   1044,
   1050,
   1053,
   1057,
   1062,
   1064,
   1068,
   1071,
   1082,
   1088,
   1093,
   1095,
   1101,
   1106,
   1108,
   1112,
   1117,
   1119,
   1123,
   1125,
   1134,
   1138,
   1142,
   1148,
   1150,
   1180,
   1184,
   1191,
   1195,
   1200,
   1242,
   1264,
   1273,
   1275,
   1279,
   1289,
   1293,
   1298,
   1339,
   1345,
   1349,
   1357,
   1384,
   1394,
   1424,
   1448,
   1458,
   1462,
   1503,
   1570,
   1574,
   1579,
   1595,
   1601,
   1605,
   1610,
   1618,
   1621,
   1625,
   1634,
   1638,
   1643,
   1655,
   1665,
   1669,
   1674,
   1678,
   1680,
   1685,
   1699,
   1705,
   1712,
   1714
  ]
 },
 "nbformat": 4,
 "nbformat_minor": 5
}