{
 "cells": [
  {
   "cell_type": "markdown",
   "id": "b49b5a1c",
   "metadata": {},
   "source": [
    "(np)=\n",
    "```{raw} jupyter\n",
    "<div id=\"qe-notebook-header\" align=\"right\" style=\"text-align:right;\">\n",
    "        <a href=\"https://quantecon.org/\" title=\"quantecon.org\">\n",
    "                <img style=\"width:250px;display:inline;\" width=\"250px\" src=\"https://assets.quantecon.org/img/qe-menubar-logo.svg\" alt=\"QuantEcon\">\n",
    "        </a>\n",
    "</div>\n",
    "```\n",
    "\n",
    "# {index}`NumPy <single: NumPy>`\n",
    "\n",
    "```{index} single: Python; NumPy\n",
    "```\n",
    "\n",
    "```{contents} Contents\n",
    ":depth: 2\n",
    "```\n",
    "\n",
    "```{epigraph}\n",
    "\"Let's be clear: the work of science has nothing whatever to do with consensus.  Consensus is the business of politics. Science, on the contrary, requires only one investigator who happens to be right, which means that he or she has results that are verifiable by reference to the real world. In science consensus is irrelevant. What is relevant is reproducible results.\" -- Michael Crichton\n",
    "```\n",
    "\n",
    "## Overview\n",
    "\n",
    "[NumPy](https://en.wikipedia.org/wiki/NumPy) is a first-rate library for numerical programming\n",
    "\n",
    "* Widely used in academia, finance and industry.\n",
    "* Mature, fast, stable and under continuous development.\n",
    "\n",
    "We have already seen some code involving NumPy in the preceding lectures.\n",
    "\n",
    "In this lecture, we will start a more systematic discussion of both\n",
    "\n",
    "* NumPy arrays and\n",
    "* the fundamental array processing operations provided by NumPy.\n",
    "\n",
    "### References\n",
    "\n",
    "* [The official NumPy documentation](http://docs.scipy.org/doc/numpy/reference/).\n",
    "\n",
    "(numpy_array)=\n",
    "## NumPy Arrays\n",
    "\n",
    "```{index} single: NumPy; Arrays\n",
    "```\n",
    "\n",
    "The essential problem that NumPy solves is fast array processing.\n",
    "\n",
    "The most important structure that NumPy defines is an array data type formally called a [numpy.ndarray](http://docs.scipy.org/doc/numpy/reference/arrays.ndarray.html).\n",
    "\n",
    "NumPy arrays power a large proportion of the scientific Python ecosystem.\n",
    "\n",
    "Let's first import the library."
   ]
  },
  {
   "cell_type": "code",
   "execution_count": 1,
   "id": "d8013c1f",
   "metadata": {},
   "outputs": [],
   "source": [
    "import numpy as np"
   ]
  },
  {
   "cell_type": "markdown",
   "id": "cfe71990",
   "metadata": {},
   "source": [
    "To create a NumPy array containing only zeros we use  [np.zeros](http://docs.scipy.org/doc/numpy/reference/generated/numpy.zeros.html#numpy.zeros)"
   ]
  },
  {
   "cell_type": "code",
   "execution_count": 2,
   "id": "05337269",
   "metadata": {},
   "outputs": [
    {
     "data": {
      "text/plain": [
       "array([0., 0., 0.])"
      ]
     },
     "execution_count": 2,
     "metadata": {},
     "output_type": "execute_result"
    }
   ],
   "source": [
    "a = np.zeros(3)\n",
    "a"
   ]
  },
  {
   "cell_type": "code",
   "execution_count": 3,
   "id": "e255301f",
   "metadata": {},
   "outputs": [
    {
     "data": {
      "text/plain": [
       "numpy.ndarray"
      ]
     },
     "execution_count": 3,
     "metadata": {},
     "output_type": "execute_result"
    }
   ],
   "source": [
    "type(a)"
   ]
  },
  {
   "cell_type": "markdown",
   "id": "3e12add8",
   "metadata": {},
   "source": [
    "NumPy arrays are somewhat like native Python lists, except that\n",
    "\n",
    "* Data *must be homogeneous* (all elements of the same type).\n",
    "* These types must be one of the [data types](https://docs.scipy.org/doc/numpy/reference/arrays.dtypes.html) (`dtypes`) provided by NumPy.\n",
    "\n",
    "The most important of these dtypes are:\n",
    "\n",
    "* float64: 64 bit floating-point number\n",
    "* int64: 64 bit integer\n",
    "* bool:  8 bit True or False\n",
    "\n",
    "There are also dtypes to represent complex numbers, unsigned integers, etc.\n",
    "\n",
    "On modern machines, the default dtype for arrays is `float64`"
   ]
  },
  {
   "cell_type": "code",
   "execution_count": 4,
   "id": "2d035127",
   "metadata": {},
   "outputs": [
    {
     "data": {
      "text/plain": [
       "numpy.float64"
      ]
     },
     "execution_count": 4,
     "metadata": {},
     "output_type": "execute_result"
    }
   ],
   "source": [
    "a = np.zeros(3)\n",
    "type(a[0])"
   ]
  },
  {
   "cell_type": "markdown",
   "id": "d4353979",
   "metadata": {},
   "source": [
    "If we want to use integers we can specify as follows:"
   ]
  },
  {
   "cell_type": "code",
   "execution_count": 5,
   "id": "bfdc0f32",
   "metadata": {},
   "outputs": [
    {
     "data": {
      "text/plain": [
       "numpy.int64"
      ]
     },
     "execution_count": 5,
     "metadata": {},
     "output_type": "execute_result"
    }
   ],
   "source": [
    "a = np.zeros(3, dtype=int)\n",
    "type(a[0])"
   ]
  },
  {
   "cell_type": "markdown",
   "id": "9c36fb41",
   "metadata": {},
   "source": [
    "(numpy_shape_dim)=\n",
    "### Shape and Dimension\n",
    "\n",
    "```{index} single: NumPy; Arrays (Shape and Dimension)\n",
    "```\n",
    "\n",
    "Consider the following assignment"
   ]
  },
  {
   "cell_type": "code",
   "execution_count": 6,
   "id": "51fd5aa9",
   "metadata": {},
   "outputs": [],
   "source": [
    "z = np.zeros(10)"
   ]
  },
  {
   "cell_type": "markdown",
   "id": "df6c571a",
   "metadata": {},
   "source": [
    "Here `z` is a *flat* array with no dimension --- neither row nor column vector.\n",
    "\n",
    "The dimension is recorded in the `shape` attribute, which is a tuple"
   ]
  },
  {
   "cell_type": "code",
   "execution_count": 7,
   "id": "cfc3bf93",
   "metadata": {},
   "outputs": [
    {
     "data": {
      "text/plain": [
       "(10,)"
      ]
     },
     "execution_count": 7,
     "metadata": {},
     "output_type": "execute_result"
    }
   ],
   "source": [
    "z.shape"
   ]
  },
  {
   "cell_type": "markdown",
   "id": "c85428ba",
   "metadata": {},
   "source": [
    "Here the shape tuple has only one element, which is the length of the array (tuples with one element end with a comma).\n",
    "\n",
    "To give it dimension, we can change the `shape` attribute"
   ]
  },
  {
   "cell_type": "code",
   "execution_count": 8,
   "id": "b04bd894",
   "metadata": {},
   "outputs": [
    {
     "data": {
      "text/plain": [
       "array([[0.],\n",
       "       [0.],\n",
       "       [0.],\n",
       "       [0.],\n",
       "       [0.],\n",
       "       [0.],\n",
       "       [0.],\n",
       "       [0.],\n",
       "       [0.],\n",
       "       [0.]])"
      ]
     },
     "execution_count": 8,
     "metadata": {},
     "output_type": "execute_result"
    }
   ],
   "source": [
    "z.shape = (10, 1)\n",
    "z"
   ]
  },
  {
   "cell_type": "code",
   "execution_count": 9,
   "id": "d766b75a",
   "metadata": {},
   "outputs": [
    {
     "data": {
      "text/plain": [
       "array([[0., 0.],\n",
       "       [0., 0.]])"
      ]
     },
     "execution_count": 9,
     "metadata": {},
     "output_type": "execute_result"
    }
   ],
   "source": [
    "z = np.zeros(4)\n",
    "z.shape = (2, 2)\n",
    "z"
   ]
  },
  {
   "cell_type": "markdown",
   "id": "bf659228",
   "metadata": {},
   "source": [
    "In the last case, to make the 2 by 2 array, we could also pass a tuple to the `zeros()` function, as\n",
    "in `z = np.zeros((2, 2))`.\n",
    "\n",
    "(creating_arrays)=\n",
    "### Creating Arrays\n",
    "\n",
    "```{index} single: NumPy; Arrays (Creating)\n",
    "```\n",
    "\n",
    "As we've seen, the `np.zeros` function creates an array of zeros.\n",
    "\n",
    "You can probably guess what `np.ones` creates.\n",
    "\n",
    "Related is `np.empty`, which creates arrays in memory that can later be populated with data"
   ]
  },
  {
   "cell_type": "code",
   "execution_count": 10,
   "id": "521748dc",
   "metadata": {},
   "outputs": [
    {
     "data": {
      "text/plain": [
       "array([0., 0., 0.])"
      ]
     },
     "execution_count": 10,
     "metadata": {},
     "output_type": "execute_result"
    }
   ],
   "source": [
    "z = np.empty(3)\n",
    "z"
   ]
  },
  {
   "cell_type": "markdown",
   "id": "47686a71",
   "metadata": {},
   "source": [
    "The numbers you see here are garbage values.\n",
    "\n",
    "(Python allocates 3 contiguous 64 bit pieces of memory, and the existing contents of those memory slots are interpreted as `float64` values)\n",
    "\n",
    "To set up a grid of evenly spaced numbers use `np.linspace`"
   ]
  },
  {
   "cell_type": "code",
   "execution_count": 11,
   "id": "9b415bcd",
   "metadata": {},
   "outputs": [],
   "source": [
    "z = np.linspace(2, 4, 5)  # From 2 to 4, with 5 elements"
   ]
  },
  {
   "cell_type": "markdown",
   "id": "901478b2",
   "metadata": {},
   "source": [
    "To create an identity matrix use either `np.identity` or `np.eye`"
   ]
  },
  {
   "cell_type": "code",
   "execution_count": 12,
   "id": "1852ed9c",
   "metadata": {},
   "outputs": [
    {
     "data": {
      "text/plain": [
       "array([[1., 0.],\n",
       "       [0., 1.]])"
      ]
     },
     "execution_count": 12,
     "metadata": {},
     "output_type": "execute_result"
    }
   ],
   "source": [
    "z = np.identity(2)\n",
    "z"
   ]
  },
  {
   "cell_type": "markdown",
   "id": "0e96198f",
   "metadata": {},
   "source": [
    "In addition, NumPy arrays can be created from Python lists, tuples, etc. using `np.array`"
   ]
  },
  {
   "cell_type": "code",
   "execution_count": 13,
   "id": "bad66034",
   "metadata": {},
   "outputs": [
    {
     "data": {
      "text/plain": [
       "array([10, 20])"
      ]
     },
     "execution_count": 13,
     "metadata": {},
     "output_type": "execute_result"
    }
   ],
   "source": [
    "z = np.array([10, 20])                 # ndarray from Python list\n",
    "z"
   ]
  },
  {
   "cell_type": "code",
   "execution_count": 14,
   "id": "e4b97519",
   "metadata": {},
   "outputs": [
    {
     "data": {
      "text/plain": [
       "numpy.ndarray"
      ]
     },
     "execution_count": 14,
     "metadata": {},
     "output_type": "execute_result"
    }
   ],
   "source": [
    "type(z)"
   ]
  },
  {
   "cell_type": "code",
   "execution_count": 15,
   "id": "676a8578",
   "metadata": {},
   "outputs": [
    {
     "data": {
      "text/plain": [
       "array([10., 20.])"
      ]
     },
     "execution_count": 15,
     "metadata": {},
     "output_type": "execute_result"
    }
   ],
   "source": [
    "z = np.array((10, 20), dtype=float)    # Here 'float' is equivalent to 'np.float64'\n",
    "z"
   ]
  },
  {
   "cell_type": "code",
   "execution_count": 16,
   "id": "aff46085",
   "metadata": {},
   "outputs": [
    {
     "data": {
      "text/plain": [
       "array([[1, 2],\n",
       "       [3, 4]])"
      ]
     },
     "execution_count": 16,
     "metadata": {},
     "output_type": "execute_result"
    }
   ],
   "source": [
    "z = np.array([[1, 2], [3, 4]])         # 2D array from a list of lists\n",
    "z"
   ]
  },
  {
   "cell_type": "markdown",
   "id": "304c9b08",
   "metadata": {},
   "source": [
    "See also `np.asarray`, which performs a similar function, but does not make\n",
    "a distinct copy of data already in a NumPy array."
   ]
  },
  {
   "cell_type": "code",
   "execution_count": 17,
   "id": "2f8cb325",
   "metadata": {},
   "outputs": [
    {
     "data": {
      "text/plain": [
       "True"
      ]
     },
     "execution_count": 17,
     "metadata": {},
     "output_type": "execute_result"
    }
   ],
   "source": [
    "na = np.linspace(10, 20, 2)\n",
    "na is np.asarray(na)   # Does not copy NumPy arrays"
   ]
  },
  {
   "cell_type": "code",
   "execution_count": 18,
   "id": "3c48a7e4",
   "metadata": {},
   "outputs": [
    {
     "data": {
      "text/plain": [
       "False"
      ]
     },
     "execution_count": 18,
     "metadata": {},
     "output_type": "execute_result"
    }
   ],
   "source": [
    "na is np.array(na)     # Does make a new copy --- perhaps unnecessarily"
   ]
  },
  {
   "cell_type": "markdown",
   "id": "2d571e9c",
   "metadata": {},
   "source": [
    "To read in the array data from a text file containing numeric data use `np.loadtxt`\n",
    "or `np.genfromtxt`---see [the documentation](http://docs.scipy.org/doc/numpy/reference/routines.io.html) for details.\n",
    "\n",
    "### Array Indexing\n",
    "\n",
    "```{index} single: NumPy; Arrays (Indexing)\n",
    "```\n",
    "\n",
    "For a flat array, indexing is the same as Python sequences:"
   ]
  },
  {
   "cell_type": "code",
   "execution_count": 19,
   "id": "0cf5b323",
   "metadata": {},
   "outputs": [
    {
     "data": {
      "text/plain": [
       "array([1.  , 1.25, 1.5 , 1.75, 2.  ])"
      ]
     },
     "execution_count": 19,
     "metadata": {},
     "output_type": "execute_result"
    }
   ],
   "source": [
    "z = np.linspace(1, 2, 5)\n",
    "z"
   ]
  },
  {
   "cell_type": "code",
   "execution_count": 20,
   "id": "b814be16",
   "metadata": {},
   "outputs": [
    {
     "data": {
      "text/plain": [
       "1.0"
      ]
     },
     "execution_count": 20,
     "metadata": {},
     "output_type": "execute_result"
    }
   ],
   "source": [
    "z[0]"
   ]
  },
  {
   "cell_type": "code",
   "execution_count": 21,
   "id": "9d6364e0",
   "metadata": {},
   "outputs": [
    {
     "data": {
      "text/plain": [
       "array([1.  , 1.25])"
      ]
     },
     "execution_count": 21,
     "metadata": {},
     "output_type": "execute_result"
    }
   ],
   "source": [
    "z[0:2]  # Two elements, starting at element 0"
   ]
  },
  {
   "cell_type": "code",
   "execution_count": 22,
   "id": "25650d8a",
   "metadata": {},
   "outputs": [
    {
     "data": {
      "text/plain": [
       "2.0"
      ]
     },
     "execution_count": 22,
     "metadata": {},
     "output_type": "execute_result"
    }
   ],
   "source": [
    "z[-1]"
   ]
  },
  {
   "cell_type": "markdown",
   "id": "02736a13",
   "metadata": {},
   "source": [
    "For 2D arrays the index syntax is as follows:"
   ]
  },
  {
   "cell_type": "code",
   "execution_count": 23,
   "id": "ad460568",
   "metadata": {},
   "outputs": [
    {
     "data": {
      "text/plain": [
       "array([[1, 2],\n",
       "       [3, 4]])"
      ]
     },
     "execution_count": 23,
     "metadata": {},
     "output_type": "execute_result"
    }
   ],
   "source": [
    "z = np.array([[1, 2], [3, 4]])\n",
    "z"
   ]
  },
  {
   "cell_type": "code",
   "execution_count": 24,
   "id": "d5c214a9",
   "metadata": {},
   "outputs": [
    {
     "data": {
      "text/plain": [
       "1"
      ]
     },
     "execution_count": 24,
     "metadata": {},
     "output_type": "execute_result"
    }
   ],
   "source": [
    "z[0, 0]"
   ]
  },
  {
   "cell_type": "code",
   "execution_count": 25,
   "id": "0b5681d6",
   "metadata": {},
   "outputs": [
    {
     "data": {
      "text/plain": [
       "2"
      ]
     },
     "execution_count": 25,
     "metadata": {},
     "output_type": "execute_result"
    }
   ],
   "source": [
    "z[0, 1]"
   ]
  },
  {
   "cell_type": "markdown",
   "id": "36f12144",
   "metadata": {},
   "source": [
    "And so on.\n",
    "\n",
    "Note that indices are still zero-based, to maintain compatibility with Python sequences.\n",
    "\n",
    "Columns and rows can be extracted as follows"
   ]
  },
  {
   "cell_type": "code",
   "execution_count": 26,
   "id": "9e38d096",
   "metadata": {},
   "outputs": [
    {
     "data": {
      "text/plain": [
       "array([1, 2])"
      ]
     },
     "execution_count": 26,
     "metadata": {},
     "output_type": "execute_result"
    }
   ],
   "source": [
    "z[0, :]"
   ]
  },
  {
   "cell_type": "code",
   "execution_count": 27,
   "id": "0e0090ed",
   "metadata": {},
   "outputs": [
    {
     "data": {
      "text/plain": [
       "array([2, 4])"
      ]
     },
     "execution_count": 27,
     "metadata": {},
     "output_type": "execute_result"
    }
   ],
   "source": [
    "z[:, 1]"
   ]
  },
  {
   "cell_type": "markdown",
   "id": "dfddd46e",
   "metadata": {},
   "source": [
    "NumPy arrays of integers can also be used to extract elements"
   ]
  },
  {
   "cell_type": "code",
   "execution_count": 28,
   "id": "707c6468",
   "metadata": {},
   "outputs": [
    {
     "data": {
      "text/plain": [
       "array([2. , 2.5, 3. , 3.5, 4. ])"
      ]
     },
     "execution_count": 28,
     "metadata": {},
     "output_type": "execute_result"
    }
   ],
   "source": [
    "z = np.linspace(2, 4, 5)\n",
    "z"
   ]
  },
  {
   "cell_type": "code",
   "execution_count": 29,
   "id": "7db84480",
   "metadata": {},
   "outputs": [
    {
     "data": {
      "text/plain": [
       "array([2. , 3. , 3.5])"
      ]
     },
     "execution_count": 29,
     "metadata": {},
     "output_type": "execute_result"
    }
   ],
   "source": [
    "indices = np.array((0, 2, 3))\n",
    "z[indices]"
   ]
  },
  {
   "cell_type": "markdown",
   "id": "2693dfe8",
   "metadata": {},
   "source": [
    "Finally, an array of `dtype bool` can be used to extract elements"
   ]
  },
  {
   "cell_type": "code",
   "execution_count": 30,
   "id": "c9842e3f",
   "metadata": {},
   "outputs": [
    {
     "data": {
      "text/plain": [
       "array([2. , 2.5, 3. , 3.5, 4. ])"
      ]
     },
     "execution_count": 30,
     "metadata": {},
     "output_type": "execute_result"
    }
   ],
   "source": [
    "z"
   ]
  },
  {
   "cell_type": "code",
   "execution_count": 31,
   "id": "32145245",
   "metadata": {},
   "outputs": [
    {
     "data": {
      "text/plain": [
       "array([False,  True,  True, False, False])"
      ]
     },
     "execution_count": 31,
     "metadata": {},
     "output_type": "execute_result"
    }
   ],
   "source": [
    "d = np.array([0, 1, 1, 0, 0], dtype=bool)\n",
    "d"
   ]
  },
  {
   "cell_type": "code",
   "execution_count": 32,
   "id": "ba1b0fc3",
   "metadata": {},
   "outputs": [
    {
     "data": {
      "text/plain": [
       "array([2.5, 3. ])"
      ]
     },
     "execution_count": 32,
     "metadata": {},
     "output_type": "execute_result"
    }
   ],
   "source": [
    "z[d]"
   ]
  },
  {
   "cell_type": "markdown",
   "id": "84453a2b",
   "metadata": {},
   "source": [
    "We'll see why this is useful below.\n",
    "\n",
    "An aside: all elements of an array can be set equal to one number using slice notation"
   ]
  },
  {
   "cell_type": "code",
   "execution_count": 33,
   "id": "df9b4f74",
   "metadata": {},
   "outputs": [
    {
     "data": {
      "text/plain": [
       "array([2. , 3. , 3.5])"
      ]
     },
     "execution_count": 33,
     "metadata": {},
     "output_type": "execute_result"
    }
   ],
   "source": [
    "z = np.empty(3)\n",
    "z"
   ]
  },
  {
   "cell_type": "code",
   "execution_count": 34,
   "id": "4438bf82",
   "metadata": {},
   "outputs": [
    {
     "data": {
      "text/plain": [
       "array([42., 42., 42.])"
      ]
     },
     "execution_count": 34,
     "metadata": {},
     "output_type": "execute_result"
    }
   ],
   "source": [
    "z[:] = 42\n",
    "z"
   ]
  },
  {
   "cell_type": "markdown",
   "id": "9f220e97",
   "metadata": {},
   "source": [
    "### Array Methods\n",
    "\n",
    "```{index} single: NumPy; Arrays (Methods)\n",
    "```\n",
    "\n",
    "Arrays have useful methods, all of which are carefully optimized"
   ]
  },
  {
   "cell_type": "code",
   "execution_count": 35,
   "id": "955f08ea",
   "metadata": {},
   "outputs": [
    {
     "data": {
      "text/plain": [
       "array([4, 3, 2, 1])"
      ]
     },
     "execution_count": 35,
     "metadata": {},
     "output_type": "execute_result"
    }
   ],
   "source": [
    "a = np.array((4, 3, 2, 1))\n",
    "a"
   ]
  },
  {
   "cell_type": "code",
   "execution_count": 36,
   "id": "de58d3ed",
   "metadata": {},
   "outputs": [
    {
     "data": {
      "text/plain": [
       "array([1, 2, 3, 4])"
      ]
     },
     "execution_count": 36,
     "metadata": {},
     "output_type": "execute_result"
    }
   ],
   "source": [
    "a.sort()              # Sorts a in place\n",
    "a"
   ]
  },
  {
   "cell_type": "code",
   "execution_count": 37,
   "id": "52467cad",
   "metadata": {},
   "outputs": [
    {
     "data": {
      "text/plain": [
       "10"
      ]
     },
     "execution_count": 37,
     "metadata": {},
     "output_type": "execute_result"
    }
   ],
   "source": [
    "a.sum()               # Sum"
   ]
  },
  {
   "cell_type": "code",
   "execution_count": 38,
   "id": "92b41533",
   "metadata": {},
   "outputs": [
    {
     "data": {
      "text/plain": [
       "2.5"
      ]
     },
     "execution_count": 38,
     "metadata": {},
     "output_type": "execute_result"
    }
   ],
   "source": [
    "a.mean()              # Mean"
   ]
  },
  {
   "cell_type": "code",
   "execution_count": 39,
   "id": "a7a947fe",
   "metadata": {},
   "outputs": [
    {
     "data": {
      "text/plain": [
       "4"
      ]
     },
     "execution_count": 39,
     "metadata": {},
     "output_type": "execute_result"
    }
   ],
   "source": [
    "a.max()               # Max"
   ]
  },
  {
   "cell_type": "code",
   "execution_count": 40,
   "id": "2de17ed3",
   "metadata": {},
   "outputs": [
    {
     "data": {
      "text/plain": [
       "3"
      ]
     },
     "execution_count": 40,
     "metadata": {},
     "output_type": "execute_result"
    }
   ],
   "source": [
    "a.argmax()            # Returns the index of the maximal element"
   ]
  },
  {
   "cell_type": "code",
   "execution_count": 41,
   "id": "e4b1f820",
   "metadata": {},
   "outputs": [
    {
     "data": {
      "text/plain": [
       "array([ 1,  3,  6, 10])"
      ]
     },
     "execution_count": 41,
     "metadata": {},
     "output_type": "execute_result"
    }
   ],
   "source": [
    "a.cumsum()            # Cumulative sum of the elements of a"
   ]
  },
  {
   "cell_type": "code",
   "execution_count": 42,
   "id": "4db95165",
   "metadata": {},
   "outputs": [
    {
     "data": {
      "text/plain": [
       "array([ 1,  2,  6, 24])"
      ]
     },
     "execution_count": 42,
     "metadata": {},
     "output_type": "execute_result"
    }
   ],
   "source": [
    "a.cumprod()           # Cumulative product of the elements of a"
   ]
  },
  {
   "cell_type": "code",
   "execution_count": 43,
   "id": "b78316a5",
   "metadata": {},
   "outputs": [
    {
     "data": {
      "text/plain": [
       "1.25"
      ]
     },
     "execution_count": 43,
     "metadata": {},
     "output_type": "execute_result"
    }
   ],
   "source": [
    "a.var()               # Variance"
   ]
  },
  {
   "cell_type": "code",
   "execution_count": 44,
   "id": "32a8c10b",
   "metadata": {},
   "outputs": [
    {
     "data": {
      "text/plain": [
       "1.118033988749895"
      ]
     },
     "execution_count": 44,
     "metadata": {},
     "output_type": "execute_result"
    }
   ],
   "source": [
    "a.std()               # Standard deviation"
   ]
  },
  {
   "cell_type": "code",
   "execution_count": 45,
   "id": "0661d4bb",
   "metadata": {},
   "outputs": [
    {
     "data": {
      "text/plain": [
       "array([[1, 3],\n",
       "       [2, 4]])"
      ]
     },
     "execution_count": 45,
     "metadata": {},
     "output_type": "execute_result"
    }
   ],
   "source": [
    "a.shape = (2, 2)\n",
    "a.T                   # Equivalent to a.transpose()"
   ]
  },
  {
   "cell_type": "markdown",
   "id": "23d6830b",
   "metadata": {},
   "source": [
    "Another method worth knowing is `searchsorted()`.\n",
    "\n",
    "If `z` is a nondecreasing array, then `z.searchsorted(a)` returns the index of the first element of `z` that is `>= a`"
   ]
  },
  {
   "cell_type": "code",
   "execution_count": 46,
   "id": "d2741834",
   "metadata": {},
   "outputs": [
    {
     "data": {
      "text/plain": [
       "array([2. , 2.5, 3. , 3.5, 4. ])"
      ]
     },
     "execution_count": 46,
     "metadata": {},
     "output_type": "execute_result"
    }
   ],
   "source": [
    "z = np.linspace(2, 4, 5)\n",
    "z"
   ]
  },
  {
   "cell_type": "code",
   "execution_count": 47,
   "id": "00b2bc3a",
   "metadata": {},
   "outputs": [
    {
     "data": {
      "text/plain": [
       "1"
      ]
     },
     "execution_count": 47,
     "metadata": {},
     "output_type": "execute_result"
    }
   ],
   "source": [
    "z.searchsorted(2.2)"
   ]
  },
  {
   "cell_type": "markdown",
   "id": "a65326b4",
   "metadata": {},
   "source": [
    "Many of the methods discussed above have equivalent functions in the NumPy namespace"
   ]
  },
  {
   "cell_type": "code",
   "execution_count": 48,
   "id": "97f413c4",
   "metadata": {},
   "outputs": [],
   "source": [
    "a = np.array((4, 3, 2, 1))"
   ]
  },
  {
   "cell_type": "code",
   "execution_count": 49,
   "id": "cded0cec",
   "metadata": {},
   "outputs": [
    {
     "data": {
      "text/plain": [
       "10"
      ]
     },
     "execution_count": 49,
     "metadata": {},
     "output_type": "execute_result"
    }
   ],
   "source": [
    "np.sum(a)"
   ]
  },
  {
   "cell_type": "code",
   "execution_count": 50,
   "id": "b393fbc9",
   "metadata": {},
   "outputs": [
    {
     "data": {
      "text/plain": [
       "2.5"
      ]
     },
     "execution_count": 50,
     "metadata": {},
     "output_type": "execute_result"
    }
   ],
   "source": [
    "np.mean(a)"
   ]
  },
  {
   "cell_type": "markdown",
   "id": "fe573dee",
   "metadata": {},
   "source": [
    "## Operations on Arrays\n",
    "\n",
    "```{index} single: NumPy; Arrays (Operations)\n",
    "```\n",
    "\n",
    "### Arithmetic Operations\n",
    "\n",
    "The operators `+`, `-`, `*`, `/` and `**` all act *elementwise* on arrays"
   ]
  },
  {
   "cell_type": "code",
   "execution_count": 51,
   "id": "242d08af",
   "metadata": {},
   "outputs": [
    {
     "data": {
      "text/plain": [
       "array([ 6,  8, 10, 12])"
      ]
     },
     "execution_count": 51,
     "metadata": {},
     "output_type": "execute_result"
    }
   ],
   "source": [
    "a = np.array([1, 2, 3, 4])\n",
    "b = np.array([5, 6, 7, 8])\n",
    "a + b"
   ]
  },
  {
   "cell_type": "code",
   "execution_count": 52,
   "id": "83994db7",
   "metadata": {},
   "outputs": [
    {
     "data": {
      "text/plain": [
       "array([ 5, 12, 21, 32])"
      ]
     },
     "execution_count": 52,
     "metadata": {},
     "output_type": "execute_result"
    }
   ],
   "source": [
    "a * b"
   ]
  },
  {
   "cell_type": "markdown",
   "id": "fbfa61c5",
   "metadata": {},
   "source": [
    "We can add a scalar to each element as follows"
   ]
  },
  {
   "cell_type": "code",
   "execution_count": 53,
   "id": "edbf10f4",
   "metadata": {},
   "outputs": [
    {
     "data": {
      "text/plain": [
       "array([11, 12, 13, 14])"
      ]
     },
     "execution_count": 53,
     "metadata": {},
     "output_type": "execute_result"
    }
   ],
   "source": [
    "a + 10"
   ]
  },
  {
   "cell_type": "markdown",
   "id": "286dbdeb",
   "metadata": {},
   "source": [
    "Scalar multiplication is similar"
   ]
  },
  {
   "cell_type": "code",
   "execution_count": 54,
   "id": "e50ba255",
   "metadata": {},
   "outputs": [
    {
     "data": {
      "text/plain": [
       "array([10, 20, 30, 40])"
      ]
     },
     "execution_count": 54,
     "metadata": {},
     "output_type": "execute_result"
    }
   ],
   "source": [
    "a * 10"
   ]
  },
  {
   "cell_type": "markdown",
   "id": "25ac09a3",
   "metadata": {},
   "source": [
    "The two-dimensional arrays follow the same general rules"
   ]
  },
  {
   "cell_type": "code",
   "execution_count": 55,
   "id": "d0b4ce54",
   "metadata": {},
   "outputs": [
    {
     "data": {
      "text/plain": [
       "array([[2., 2.],\n",
       "       [2., 2.]])"
      ]
     },
     "execution_count": 55,
     "metadata": {},
     "output_type": "execute_result"
    }
   ],
   "source": [
    "A = np.ones((2, 2))\n",
    "B = np.ones((2, 2))\n",
    "A + B"
   ]
  },
  {
   "cell_type": "code",
   "execution_count": 56,
   "id": "35bb11a6",
   "metadata": {},
   "outputs": [
    {
     "data": {
      "text/plain": [
       "array([[11., 11.],\n",
       "       [11., 11.]])"
      ]
     },
     "execution_count": 56,
     "metadata": {},
     "output_type": "execute_result"
    }
   ],
   "source": [
    "A + 10"
   ]
  },
  {
   "cell_type": "code",
   "execution_count": 57,
   "id": "5599f12c",
   "metadata": {},
   "outputs": [
    {
     "data": {
      "text/plain": [
       "array([[1., 1.],\n",
       "       [1., 1.]])"
      ]
     },
     "execution_count": 57,
     "metadata": {},
     "output_type": "execute_result"
    }
   ],
   "source": [
    "A * B"
   ]
  },
  {
   "cell_type": "markdown",
   "id": "dd081d3f",
   "metadata": {},
   "source": [
    "(numpy_matrix_multiplication)=\n",
    "In particular, `A * B` is *not* the matrix product, it is an element-wise product.\n",
    "\n",
    "### Matrix Multiplication\n",
    "\n",
    "```{index} single: NumPy; Matrix Multiplication\n",
    "```\n",
    "\n",
    "With Anaconda's scientific Python package based around Python 3.5 and above,\n",
    "one can use the `@` symbol for matrix multiplication, as follows:"
   ]
  },
  {
   "cell_type": "code",
   "execution_count": 58,
   "id": "4e7785e9",
   "metadata": {},
   "outputs": [
    {
     "data": {
      "text/plain": [
       "array([[2., 2.],\n",
       "       [2., 2.]])"
      ]
     },
     "execution_count": 58,
     "metadata": {},
     "output_type": "execute_result"
    }
   ],
   "source": [
    "A = np.ones((2, 2))\n",
    "B = np.ones((2, 2))\n",
    "A @ B"
   ]
  },
  {
   "cell_type": "markdown",
   "id": "7e404756",
   "metadata": {},
   "source": [
    "(For older versions of Python and NumPy you need to use the [np.dot](http://docs.scipy.org/doc/numpy/reference/generated/numpy.dot.html) function)\n",
    "\n",
    "We can also use `@` to take the inner product of two flat arrays"
   ]
  },
  {
   "cell_type": "code",
   "execution_count": 59,
   "id": "003befbf",
   "metadata": {},
   "outputs": [
    {
     "data": {
      "text/plain": [
       "50"
      ]
     },
     "execution_count": 59,
     "metadata": {},
     "output_type": "execute_result"
    }
   ],
   "source": [
    "A = np.array((1, 2))\n",
    "B = np.array((10, 20))\n",
    "A @ B"
   ]
  },
  {
   "cell_type": "markdown",
   "id": "866f4336",
   "metadata": {},
   "source": [
    "In fact, we can use `@` when one element is a Python list or tuple"
   ]
  },
  {
   "cell_type": "code",
   "execution_count": 60,
   "id": "313b1bf3",
   "metadata": {},
   "outputs": [
    {
     "data": {
      "text/plain": [
       "array([[1, 2],\n",
       "       [3, 4]])"
      ]
     },
     "execution_count": 60,
     "metadata": {},
     "output_type": "execute_result"
    }
   ],
   "source": [
    "A = np.array(((1, 2), (3, 4)))\n",
    "A"
   ]
  },
  {
   "cell_type": "code",
   "execution_count": 61,
   "id": "5fa7f17b",
   "metadata": {},
   "outputs": [
    {
     "data": {
      "text/plain": [
       "array([2, 4])"
      ]
     },
     "execution_count": 61,
     "metadata": {},
     "output_type": "execute_result"
    }
   ],
   "source": [
    "A @ (0, 1)"
   ]
  },
  {
   "cell_type": "markdown",
   "id": "4cf59639",
   "metadata": {},
   "source": [
    "Since we are post-multiplying, the tuple is treated as a column vector.\n",
    "\n",
    "### Mutability and Copying Arrays\n",
    "\n",
    "NumPy arrays are mutable data types, like Python lists.\n",
    "\n",
    "In other words, their contents can be altered (mutated) in memory after initialization.\n",
    "\n",
    "We already saw examples above.\n",
    "\n",
    "Here's another example:"
   ]
  },
  {
   "cell_type": "code",
   "execution_count": 62,
   "id": "74aac286",
   "metadata": {},
   "outputs": [
    {
     "data": {
      "text/plain": [
       "array([42, 44])"
      ]
     },
     "execution_count": 62,
     "metadata": {},
     "output_type": "execute_result"
    }
   ],
   "source": [
    "a = np.array([42, 44])\n",
    "a"
   ]
  },
  {
   "cell_type": "code",
   "execution_count": 63,
   "id": "1090536c",
   "metadata": {},
   "outputs": [
    {
     "data": {
      "text/plain": [
       "array([42,  0])"
      ]
     },
     "execution_count": 63,
     "metadata": {},
     "output_type": "execute_result"
    }
   ],
   "source": [
    "a[-1] = 0  # Change last element to 0\n",
    "a"
   ]
  },
  {
   "cell_type": "markdown",
   "id": "24fa5e7a",
   "metadata": {},
   "source": [
    "Mutability leads to the following behavior (which can be shocking to MATLAB programmers...)"
   ]
  },
  {
   "cell_type": "code",
   "execution_count": 64,
   "id": "61b248d6",
   "metadata": {},
   "outputs": [
    {
     "data": {
      "text/plain": [
       "array([0.75888521, 0.35449958, 1.07903796])"
      ]
     },
     "execution_count": 64,
     "metadata": {},
     "output_type": "execute_result"
    }
   ],
   "source": [
    "a = np.random.randn(3)\n",
    "a"
   ]
  },
  {
   "cell_type": "code",
   "execution_count": 65,
   "id": "d8f9105e",
   "metadata": {},
   "outputs": [
    {
     "data": {
      "text/plain": [
       "array([0.        , 0.35449958, 1.07903796])"
      ]
     },
     "execution_count": 65,
     "metadata": {},
     "output_type": "execute_result"
    }
   ],
   "source": [
    "b = a\n",
    "b[0] = 0.0\n",
    "a"
   ]
  },
  {
   "cell_type": "markdown",
   "id": "4def5d31",
   "metadata": {},
   "source": [
    "What's happened is that we have changed `a` by changing `b`.\n",
    "\n",
    "The name `b` is bound to `a` and becomes just another reference to the\n",
    "array (the Python assignment model is described in more detail {doc}`later in the course <python_advanced_features>`).\n",
    "\n",
    "Hence, it has equal rights to make changes to that array.\n",
    "\n",
    "This is in fact the most sensible default behavior!\n",
    "\n",
    "It means that we pass around only pointers to data, rather than making copies.\n",
    "\n",
    "Making copies is expensive in terms of both speed and memory.\n",
    "\n",
    "#### Making Copies\n",
    "\n",
    "It is of course possible to make `b` an independent copy of `a` when required.\n",
    "\n",
    "This can be done using `np.copy`"
   ]
  },
  {
   "cell_type": "code",
   "execution_count": 66,
   "id": "c36c6559",
   "metadata": {},
   "outputs": [
    {
     "data": {
      "text/plain": [
       "array([-0.82954774,  1.60338781, -0.0977772 ])"
      ]
     },
     "execution_count": 66,
     "metadata": {},
     "output_type": "execute_result"
    }
   ],
   "source": [
    "a = np.random.randn(3)\n",
    "a"
   ]
  },
  {
   "cell_type": "code",
   "execution_count": 67,
   "id": "f3325a00",
   "metadata": {},
   "outputs": [
    {
     "data": {
      "text/plain": [
       "array([-0.82954774,  1.60338781, -0.0977772 ])"
      ]
     },
     "execution_count": 67,
     "metadata": {},
     "output_type": "execute_result"
    }
   ],
   "source": [
    "b = np.copy(a)\n",
    "b"
   ]
  },
  {
   "cell_type": "markdown",
   "id": "aed58423",
   "metadata": {},
   "source": [
    "Now `b` is an independent copy (called a *deep copy*)"
   ]
  },
  {
   "cell_type": "code",
   "execution_count": 68,
   "id": "baf667fb",
   "metadata": {},
   "outputs": [
    {
     "data": {
      "text/plain": [
       "array([1., 1., 1.])"
      ]
     },
     "execution_count": 68,
     "metadata": {},
     "output_type": "execute_result"
    }
   ],
   "source": [
    "b[:] = 1\n",
    "b"
   ]
  },
  {
   "cell_type": "code",
   "execution_count": 69,
   "id": "7fe4ae79",
   "metadata": {},
   "outputs": [
    {
     "data": {
      "text/plain": [
       "array([-0.82954774,  1.60338781, -0.0977772 ])"
      ]
     },
     "execution_count": 69,
     "metadata": {},
     "output_type": "execute_result"
    }
   ],
   "source": [
    "a"
   ]
  },
  {
   "cell_type": "markdown",
   "id": "8595ac63",
   "metadata": {},
   "source": [
    "Note that the change to `b` has not affected `a`.\n",
    "\n",
    "## Additional Functionality\n",
    "\n",
    "Let's look at some other useful things we can do with NumPy.\n",
    "\n",
    "### Vectorized Functions\n",
    "\n",
    "```{index} single: NumPy; Vectorized Functions\n",
    "```\n",
    "\n",
    "NumPy provides versions of the standard functions `log`, `exp`, `sin`, etc. that act *element-wise* on arrays"
   ]
  },
  {
   "cell_type": "code",
   "execution_count": 70,
   "id": "1bf8e229",
   "metadata": {},
   "outputs": [
    {
     "data": {
      "text/plain": [
       "array([0.84147098, 0.90929743, 0.14112001])"
      ]
     },
     "execution_count": 70,
     "metadata": {},
     "output_type": "execute_result"
    }
   ],
   "source": [
    "z = np.array([1, 2, 3])\n",
    "np.sin(z)"
   ]
  },
  {
   "cell_type": "markdown",
   "id": "e75fcb1c",
   "metadata": {},
   "source": [
    "This eliminates the need for explicit element-by-element loops such as"
   ]
  },
  {
   "cell_type": "code",
   "execution_count": 71,
   "id": "6e06b313",
   "metadata": {},
   "outputs": [],
   "source": [
    "n = len(z)\n",
    "y = np.empty(n)\n",
    "for i in range(n):\n",
    "    y[i] = np.sin(z[i])"
   ]
  },
  {
   "cell_type": "markdown",
   "id": "c95a3298",
   "metadata": {},
   "source": [
    "Because they act element-wise on arrays, these functions are called *vectorized functions*.\n",
    "\n",
    "In NumPy-speak, they are also called *ufuncs*, which stands for \"universal functions\".\n",
    "\n",
    "As we saw above, the usual arithmetic operations (`+`, `*`, etc.) also\n",
    "work element-wise, and combining these with the ufuncs gives a very large set of fast element-wise functions."
   ]
  },
  {
   "cell_type": "code",
   "execution_count": 72,
   "id": "b6c92adb",
   "metadata": {},
   "outputs": [
    {
     "data": {
      "text/plain": [
       "array([1, 2, 3])"
      ]
     },
     "execution_count": 72,
     "metadata": {},
     "output_type": "execute_result"
    }
   ],
   "source": [
    "z"
   ]
  },
  {
   "cell_type": "code",
   "execution_count": 73,
   "id": "8dfc0f75",
   "metadata": {},
   "outputs": [
    {
     "data": {
      "text/plain": [
       "array([0.24197072, 0.05399097, 0.00443185])"
      ]
     },
     "execution_count": 73,
     "metadata": {},
     "output_type": "execute_result"
    }
   ],
   "source": [
    "(1 / np.sqrt(2 * np.pi)) * np.exp(- 0.5 * z**2)"
   ]
  },
  {
   "cell_type": "markdown",
   "id": "4d2b9c21",
   "metadata": {},
   "source": [
    "Not all user-defined functions will act element-wise.\n",
    "\n",
    "For example, passing the function `f` defined below a NumPy array causes a `ValueError`"
   ]
  },
  {
   "cell_type": "code",
   "execution_count": 74,
   "id": "8c3c3bca",
   "metadata": {},
   "outputs": [],
   "source": [
    "def f(x):\n",
    "    return 1 if x > 0 else 0"
   ]
  },
  {
   "cell_type": "markdown",
   "id": "64353c31",
   "metadata": {},
   "source": [
    "The NumPy function `np.where` provides a vectorized alternative:"
   ]
  },
  {
   "cell_type": "code",
   "execution_count": 75,
   "id": "9b4b729a",
   "metadata": {},
   "outputs": [
    {
     "data": {
      "text/plain": [
       "array([ 0.3710273 ,  0.08007844,  2.47906132, -0.44901774])"
      ]
     },
     "execution_count": 75,
     "metadata": {},
     "output_type": "execute_result"
    }
   ],
   "source": [
    "x = np.random.randn(4)\n",
    "x"
   ]
  },
  {
   "cell_type": "code",
   "execution_count": 76,
   "id": "e702e060",
   "metadata": {},
   "outputs": [
    {
     "data": {
      "text/plain": [
       "array([1, 1, 1, 0])"
      ]
     },
     "execution_count": 76,
     "metadata": {},
     "output_type": "execute_result"
    }
   ],
   "source": [
    "np.where(x > 0, 1, 0)  # Insert 1 if x > 0 true, otherwise 0"
   ]
  },
  {
   "cell_type": "markdown",
   "id": "a909f888",
   "metadata": {},
   "source": [
    "You can also use `np.vectorize` to vectorize a given function"
   ]
  },
  {
   "cell_type": "code",
   "execution_count": 77,
   "id": "5fd5ffe8",
   "metadata": {},
   "outputs": [
    {
     "data": {
      "text/plain": [
       "array([1, 1, 1, 0])"
      ]
     },
     "execution_count": 77,
     "metadata": {},
     "output_type": "execute_result"
    }
   ],
   "source": [
    "f = np.vectorize(f)\n",
    "f(x)                # Passing the same vector x as in the previous example"
   ]
  },
  {
   "cell_type": "markdown",
   "id": "6836c0c3",
   "metadata": {},
   "source": [
    "However, this approach doesn't always obtain the same speed as a more carefully crafted vectorized function.\n",
    "\n",
    "### Comparisons\n",
    "\n",
    "```{index} single: NumPy; Comparisons\n",
    "```\n",
    "\n",
    "As a rule, comparisons on arrays are done element-wise"
   ]
  },
  {
   "cell_type": "code",
   "execution_count": 78,
   "id": "7049d337",
   "metadata": {},
   "outputs": [
    {
     "data": {
      "text/plain": [
       "array([ True,  True])"
      ]
     },
     "execution_count": 78,
     "metadata": {},
     "output_type": "execute_result"
    }
   ],
   "source": [
    "z = np.array([2, 3])\n",
    "y = np.array([2, 3])\n",
    "z == y"
   ]
  },
  {
   "cell_type": "code",
   "execution_count": 79,
   "id": "cdda6cad",
   "metadata": {},
   "outputs": [
    {
     "data": {
      "text/plain": [
       "array([False,  True])"
      ]
     },
     "execution_count": 79,
     "metadata": {},
     "output_type": "execute_result"
    }
   ],
   "source": [
    "y[0] = 5\n",
    "z == y"
   ]
  },
  {
   "cell_type": "code",
   "execution_count": 80,
   "id": "69ef271f",
   "metadata": {},
   "outputs": [
    {
     "data": {
      "text/plain": [
       "array([ True, False])"
      ]
     },
     "execution_count": 80,
     "metadata": {},
     "output_type": "execute_result"
    }
   ],
   "source": [
    "z != y"
   ]
  },
  {
   "cell_type": "markdown",
   "id": "65049ed3",
   "metadata": {},
   "source": [
    "The situation is similar for `>`, `<`, `>=` and `<=`.\n",
    "\n",
    "We can also do comparisons against scalars"
   ]
  },
  {
   "cell_type": "code",
   "execution_count": 81,
   "id": "3d12807f",
   "metadata": {},
   "outputs": [
    {
     "data": {
      "text/plain": [
       "array([ 0. ,  2.5,  5. ,  7.5, 10. ])"
      ]
     },
     "execution_count": 81,
     "metadata": {},
     "output_type": "execute_result"
    }
   ],
   "source": [
    "z = np.linspace(0, 10, 5)\n",
    "z"
   ]
  },
  {
   "cell_type": "code",
   "execution_count": 82,
   "id": "08e94905",
   "metadata": {},
   "outputs": [
    {
     "data": {
      "text/plain": [
       "array([False, False,  True,  True,  True])"
      ]
     },
     "execution_count": 82,
     "metadata": {},
     "output_type": "execute_result"
    }
   ],
   "source": [
    "z > 3"
   ]
  },
  {
   "cell_type": "markdown",
   "id": "dd4a749b",
   "metadata": {},
   "source": [
    "This is particularly useful for *conditional extraction*"
   ]
  },
  {
   "cell_type": "code",
   "execution_count": 83,
   "id": "fd3897c7",
   "metadata": {},
   "outputs": [
    {
     "data": {
      "text/plain": [
       "array([False, False,  True,  True,  True])"
      ]
     },
     "execution_count": 83,
     "metadata": {},
     "output_type": "execute_result"
    }
   ],
   "source": [
    "b = z > 3\n",
    "b"
   ]
  },
  {
   "cell_type": "code",
   "execution_count": 84,
   "id": "1ed8f03e",
   "metadata": {},
   "outputs": [
    {
     "data": {
      "text/plain": [
       "array([ 5. ,  7.5, 10. ])"
      ]
     },
     "execution_count": 84,
     "metadata": {},
     "output_type": "execute_result"
    }
   ],
   "source": [
    "z[b]"
   ]
  },
  {
   "cell_type": "markdown",
   "id": "97ce6ea5",
   "metadata": {},
   "source": [
    "Of course we can---and frequently do---perform this in one step"
   ]
  },
  {
   "cell_type": "code",
   "execution_count": 85,
   "id": "5a33d22c",
   "metadata": {},
   "outputs": [
    {
     "data": {
      "text/plain": [
       "array([ 5. ,  7.5, 10. ])"
      ]
     },
     "execution_count": 85,
     "metadata": {},
     "output_type": "execute_result"
    }
   ],
   "source": [
    "z[z > 3]"
   ]
  },
  {
   "cell_type": "markdown",
   "id": "8de33e8b",
   "metadata": {},
   "source": [
    "### Sub-packages\n",
    "\n",
    "NumPy provides some additional functionality related to scientific programming\n",
    "through its sub-packages.\n",
    "\n",
    "We've already seen how we can generate random variables using np.random"
   ]
  },
  {
   "cell_type": "code",
   "execution_count": 86,
   "id": "1580f1af",
   "metadata": {},
   "outputs": [
    {
     "data": {
      "text/plain": [
       "5.021e+00"
      ]
     },
     "execution_count": 86,
     "metadata": {},
     "output_type": "execute_result"
    }
   ],
   "source": [
    "z = np.random.randn(10000)  # Generate standard normals\n",
    "y = np.random.binomial(10, 0.5, size=1000)    # 1,000 draws from Bin(10, 0.5)\n",
    "y.mean()"
   ]
  },
  {
   "cell_type": "markdown",
   "id": "174801cc",
   "metadata": {},
   "source": [
    "Another commonly used subpackage is np.linalg"
   ]
  },
  {
   "cell_type": "code",
   "execution_count": 87,
   "id": "de4776e3",
   "metadata": {},
   "outputs": [
    {
     "data": {
      "text/plain": [
       "-2.0000000000000004"
      ]
     },
     "execution_count": 87,
     "metadata": {},
     "output_type": "execute_result"
    }
   ],
   "source": [
    "A = np.array([[1, 2], [3, 4]])\n",
    "\n",
    "np.linalg.det(A)           # Compute the determinant"
   ]
  },
  {
   "cell_type": "code",
   "execution_count": 88,
   "id": "dac12d85",
   "metadata": {},
   "outputs": [
    {
     "data": {
      "text/plain": [
       "array([[-2. ,  1. ],\n",
       "       [ 1.5, -0.5]])"
      ]
     },
     "execution_count": 88,
     "metadata": {},
     "output_type": "execute_result"
    }
   ],
   "source": [
    "np.linalg.inv(A)           # Compute the inverse"
   ]
  },
  {
   "cell_type": "markdown",
   "id": "b40fc20b",
   "metadata": {},
   "source": [
    "```{index} single: SciPy\n",
    "```\n",
    "\n",
    "```{index} single: Python; SciPy\n",
    "```\n",
    "\n",
    "Much of this functionality is also available in [SciPy](http://www.scipy.org/), a collection of modules that are built on top of NumPy.\n",
    "\n",
    "We'll cover the SciPy versions in more detail {doc}`soon <scipy>`.\n",
    "\n",
    "For a comprehensive list of what's available in NumPy see [this documentation](https://docs.scipy.org/doc/numpy/reference/routines.html).\n",
    "\n",
    "## Exercises\n",
    "\n",
    "```{exercise-start}\n",
    ":label: np_ex1\n",
    "```\n",
    "\n",
    "Consider the polynomial expression\n",
    "\n",
    "```{math}\n",
    ":label: np_polynom\n",
    "\n",
    "p(x) = a_0 + a_1 x + a_2 x^2 + \\cdots a_N x^N = \\sum_{n=0}^N a_n x^n\n",
    "```\n",
    "\n",
    "{ref}`Earlier <pyess_ex2>`, you wrote a simple function `p(x, coeff)` to evaluate {eq}`np_polynom` without considering efficiency.\n",
    "\n",
    "Now write a new function that does the same job, but uses NumPy arrays and array operations for its computations, rather than any form of Python loop.\n",
    "\n",
    "(Such functionality is already implemented as `np.poly1d`, but for the sake of the exercise don't use this class)\n",
    "\n",
    "* Hint: Use `np.cumprod()`\n",
    "\n",
    "```{exercise-end}\n",
    "```\n",
    "\n",
    "\n",
    "```{exercise-start}\n",
    ":label: np_ex2\n",
    "```\n",
    "\n",
    "Let `q` be a NumPy array of length `n` with `q.sum() == 1`.\n",
    "\n",
    "Suppose that `q` represents a [probability mass function](https://en.wikipedia.org/wiki/Probability_mass_function).\n",
    "\n",
    "We wish to generate a discrete random variable $x$ such that $\\mathbb P\\{x = i\\} = q_i$.\n",
    "\n",
    "In other words, `x` takes values in `range(len(q))` and `x = i` with probability `q[i]`.\n",
    "\n",
    "The standard (inverse transform) algorithm is as follows:\n",
    "\n",
    "* Divide the unit interval $[0, 1]$ into $n$ subintervals $I_0, I_1, \\ldots, I_{n-1}$ such that the length of $I_i$ is $q_i$.\n",
    "* Draw a uniform random variable $U$ on $[0, 1]$ and return the $i$ such that $U \\in I_i$.\n",
    "\n",
    "The probability of drawing $i$ is the length of $I_i$, which is equal to $q_i$.\n",
    "\n",
    "We can implement the algorithm as follows"
   ]
  },
  {
   "cell_type": "code",
   "execution_count": 89,
   "id": "72ebd87a",
   "metadata": {},
   "outputs": [],
   "source": [
    "from random import uniform\n",
    "\n",
    "def sample(q):\n",
    "    a = 0.0\n",
    "    U = uniform(0, 1)\n",
    "    for i in range(len(q)):\n",
    "        if a < U <= a + q[i]:\n",
    "            return i\n",
    "        a = a + q[i]"
   ]
  },
  {
   "cell_type": "markdown",
   "id": "6401943a",
   "metadata": {},
   "source": [
    "If you can't see how this works, try thinking through the flow for a simple example, such as `q = [0.25, 0.75]`\n",
    "It helps to sketch the intervals on paper.\n",
    "\n",
    "Your exercise is to speed it up using NumPy, avoiding explicit loops\n",
    "\n",
    "* Hint: Use `np.searchsorted` and `np.cumsum`\n",
    "\n",
    "If you can, implement the functionality as a class called `DiscreteRV`, where\n",
    "\n",
    "* the data for an instance of the class is the vector of probabilities `q`\n",
    "* the class has a `draw()` method, which returns one draw according to the algorithm described above\n",
    "\n",
    "If you can, write the method so that `draw(k)` returns `k` draws from `q`.\n",
    "\n",
    "```{exercise-end}\n",
    "```\n",
    "\n",
    "\n",
    "```{exercise}\n",
    ":label: np_ex3\n",
    "\n",
    "Recall our {ref}`earlier discussion <oop_ex1>` of the empirical cumulative distribution function.\n",
    "\n",
    "Your task is to\n",
    "\n",
    "1. Make the `__call__` method more efficient using NumPy.\n",
    "1. Add a method that plots the ECDF over $[a, b]$, where $a$ and $b$ are method parameters.\n",
    "```\n",
    "\n",
    "## Solutions"
   ]
  },
  {
   "cell_type": "code",
   "execution_count": 90,
   "id": "4ab4b10f",
   "metadata": {},
   "outputs": [],
   "source": [
    "%matplotlib inline\n",
    "import matplotlib.pyplot as plt\n",
    "plt.rcParams['figure.figsize'] = (10,6)"
   ]
  },
  {
   "cell_type": "markdown",
   "id": "0e2191d2",
   "metadata": {},
   "source": [
    "```{solution-start} np_ex1\n",
    ":class: dropdown\n",
    "```\n",
    "\n",
    "This code does the job"
   ]
  },
  {
   "cell_type": "code",
   "execution_count": 91,
   "id": "2114db9f",
   "metadata": {},
   "outputs": [],
   "source": [
    "def p(x, coef):\n",
    "    X = np.ones_like(coef)\n",
    "    X[1:] = x\n",
    "    y = np.cumprod(X)   # y = [1, x, x**2,...]\n",
    "    return coef @ y"
   ]
  },
  {
   "cell_type": "markdown",
   "id": "25326c1b",
   "metadata": {},
   "source": [
    "Let's test it"
   ]
  },
  {
   "cell_type": "code",
   "execution_count": 92,
   "id": "e8015653",
   "metadata": {},
   "outputs": [
    {
     "name": "stdout",
     "output_type": "stream",
     "text": [
      "[2. 3. 4.]\n",
      "24.0\n",
      "24.0\n"
     ]
    }
   ],
   "source": [
    "x = 2\n",
    "coef = np.linspace(2, 4, 3)\n",
    "print(coef)\n",
    "print(p(x, coef))\n",
    "# For comparison\n",
    "q = np.poly1d(np.flip(coef))\n",
    "print(q(x))"
   ]
  },
  {
   "cell_type": "markdown",
   "id": "c2ff599f",
   "metadata": {},
   "source": [
    "```{solution-end}\n",
    "```\n",
    "\n",
    "\n",
    "```{solution-start} np_ex2\n",
    ":class: dropdown\n",
    "```\n",
    "\n",
    "Here's our first pass at a solution:"
   ]
  },
  {
   "cell_type": "code",
   "execution_count": 93,
   "id": "e1c2bd99",
   "metadata": {},
   "outputs": [],
   "source": [
    "from numpy import cumsum\n",
    "from numpy.random import uniform\n",
    "\n",
    "class DiscreteRV:\n",
    "    \"\"\"\n",
    "    Generates an array of draws from a discrete random variable with vector of\n",
    "    probabilities given by q.\n",
    "    \"\"\"\n",
    "\n",
    "    def __init__(self, q):\n",
    "        \"\"\"\n",
    "        The argument q is a NumPy array, or array like, nonnegative and sums\n",
    "        to 1\n",
    "        \"\"\"\n",
    "        self.q = q\n",
    "        self.Q = cumsum(q)\n",
    "\n",
    "    def draw(self, k=1):\n",
    "        \"\"\"\n",
    "        Returns k draws from q. For each such draw, the value i is returned\n",
    "        with probability q[i].\n",
    "        \"\"\"\n",
    "        return self.Q.searchsorted(uniform(0, 1, size=k))"
   ]
  },
  {
   "cell_type": "markdown",
   "id": "c74b6d07",
   "metadata": {},
   "source": [
    "The logic is not obvious, but if you take your time and read it slowly,\n",
    "you will understand.\n",
    "\n",
    "There is a problem here, however.\n",
    "\n",
    "Suppose that `q` is altered after an instance of `discreteRV` is\n",
    "created, for example by"
   ]
  },
  {
   "cell_type": "code",
   "execution_count": 94,
   "id": "f5a62a8f",
   "metadata": {},
   "outputs": [],
   "source": [
    "q = (0.1, 0.9)\n",
    "d = DiscreteRV(q)\n",
    "d.q = (0.5, 0.5)"
   ]
  },
  {
   "cell_type": "markdown",
   "id": "b5deb0ae",
   "metadata": {},
   "source": [
    "The problem is that `Q` does not change accordingly, and `Q` is the\n",
    "data used in the `draw` method.\n",
    "\n",
    "To deal with this, one option is to compute `Q` every time the draw\n",
    "method is called.\n",
    "\n",
    "But this is inefficient relative to computing `Q` once-off.\n",
    "\n",
    "A better option is to use descriptors.\n",
    "\n",
    "A solution from the [quantecon\n",
    "library](https://github.com/QuantEcon/QuantEcon.py/tree/master/quantecon)\n",
    "using descriptors that behaves as we desire can be found\n",
    "[here](https://github.com/QuantEcon/QuantEcon.py/blob/master/quantecon/discrete_rv.py).\n",
    "\n",
    "```{solution-end}\n",
    "```\n",
    "\n",
    "\n",
    "```{solution-start} np_ex3\n",
    ":class: dropdown\n",
    "```\n",
    "\n",
    "An example solution is given below.\n",
    "\n",
    "In essence, we've just taken [this\n",
    "code](https://github.com/QuantEcon/QuantEcon.py/blob/master/quantecon/ecdf.py)\n",
    "from QuantEcon and added in a plot method"
   ]
  },
  {
   "cell_type": "code",
   "execution_count": 95,
   "id": "6127f040",
   "metadata": {},
   "outputs": [],
   "source": [
    "\"\"\"\n",
    "Modifies ecdf.py from QuantEcon to add in a plot method\n",
    "\n",
    "\"\"\"\n",
    "\n",
    "class ECDF:\n",
    "    \"\"\"\n",
    "    One-dimensional empirical distribution function given a vector of\n",
    "    observations.\n",
    "\n",
    "    Parameters\n",
    "    ----------\n",
    "    observations : array_like\n",
    "        An array of observations\n",
    "\n",
    "    Attributes\n",
    "    ----------\n",
    "    observations : array_like\n",
    "        An array of observations\n",
    "\n",
    "    \"\"\"\n",
    "\n",
    "    def __init__(self, observations):\n",
    "        self.observations = np.asarray(observations)\n",
    "\n",
    "    def __call__(self, x):\n",
    "        \"\"\"\n",
    "        Evaluates the ecdf at x\n",
    "\n",
    "        Parameters\n",
    "        ----------\n",
    "        x : scalar(float)\n",
    "            The x at which the ecdf is evaluated\n",
    "\n",
    "        Returns\n",
    "        -------\n",
    "        scalar(float)\n",
    "            Fraction of the sample less than x\n",
    "\n",
    "        \"\"\"\n",
    "        return np.mean(self.observations <= x)\n",
    "\n",
    "    def plot(self, ax, a=None, b=None):\n",
    "        \"\"\"\n",
    "        Plot the ecdf on the interval [a, b].\n",
    "\n",
    "        Parameters\n",
    "        ----------\n",
    "        a : scalar(float), optional(default=None)\n",
    "            Lower endpoint of the plot interval\n",
    "        b : scalar(float), optional(default=None)\n",
    "            Upper endpoint of the plot interval\n",
    "\n",
    "        \"\"\"\n",
    "\n",
    "        # === choose reasonable interval if [a, b] not specified === #\n",
    "        if a is None:\n",
    "            a = self.observations.min() - self.observations.std()\n",
    "        if b is None:\n",
    "            b = self.observations.max() + self.observations.std()\n",
    "\n",
    "        # === generate plot === #\n",
    "        x_vals = np.linspace(a, b, num=100)\n",
    "        f = np.vectorize(self.__call__)\n",
    "        ax.plot(x_vals, f(x_vals))\n",
    "        plt.show()"
   ]
  },
  {
   "cell_type": "markdown",
   "id": "afe9d699",
   "metadata": {},
   "source": [
    "Here's an example of usage"
   ]
  },
  {
   "cell_type": "code",
   "execution_count": 96,
   "id": "0a2904d0",
   "metadata": {},
   "outputs": [
    {
     "data": {
      "image/png": "[encoded data removed]",
      "text/plain": [
       "<Figure size 720x432 with 1 Axes>"
      ]
     },
     "metadata": {
      "filenames": {
       "image/png": "/home/runner/work/lecture-python-programming.myst/lecture-python-programming.myst/_build/jupyter_execute/numpy_147_0.png"
      },
      "needs_background": "light"
     },
     "output_type": "display_data"
    }
   ],
   "source": [
    "fig, ax = plt.subplots()\n",
    "X = np.random.randn(1000)\n",
    "F = ECDF(X)\n",
    "F.plot(ax)"
   ]
  },
  {
   "cell_type": "markdown",
   "id": "5e295734",
   "metadata": {},
   "source": [
    "```{solution-end}\n",
    "```"
   ]
  }
 ],
 "metadata": {
  "jupytext": {
   "text_representation": {
    "extension": ".md",
    "format_name": "myst"
   }
  },
  "kernelspec": {
   "display_name": "Python 3",
   "language": "python",
   "name": "python3"
  },
  "language_info": {
   "codemirror_mode": {
    "name": "ipython",
    "version": 3
   },
   "file_extension": ".py",
   "mimetype": "text/x-python",
   "name": "python",
   "nbconvert_exporter": "python",
   "pygments_lexer": "ipython3",
   "version": "3.9.12"
  },
  "source_map": [
   10,
   66,
   68,
   72,
   77,
   79,
   96,
   99,
   103,
   106,
   116,
   118,
   124,
   126,
   132,
   137,
   141,
   158,
   161,
   169,
   171,
   175,
   178,
   182,
   187,
   191,
   196,
   199,
   204,
   209,
   211,
   223,
   228,
   232,
   236,
   238,
   242,
   247,
   251,
   253,
   261,
   265,
   267,
   271,
   276,
   279,
   283,
   287,
   292,
   294,
   300,
   305,
   308,
   317,
   322,
   327,
   331,
   335,
   339,
   343,
   347,
   351,
   355,
   359,
   362,
   368,
   373,
   375,
   379,
   383,
   387,
   389,
   400,
   406,
   408,
   412,
   414,
   418,
   420,
   424,
   430,
   434,
   436,
   449,
   453,
   459,
   463,
   467,
   472,
   474,
   488,
   493,
   496,
   500,
   505,
   509,
   530,
   535,
   538,
   542,
   547,
   549,
   564,
   567,
   571,
   576,
   585,
   589,
   591,
   597,
   600,
   604,
   609,
   611,
   615,
   618,
   629,
   635,
   640,
   642,
   648,
   653,
   655,
   659,
   664,
   666,
   670,
   672,
   681,
   685,
   689,
   695,
   697,
   758,
   768,
   801,
   805,
   813,
   819,
   823,
   831,
   843,
   867,
   877,
   881,
   912,
   979,
   983,
   988
  ]
 },
 "nbformat": 4,
 "nbformat_minor": 5
}