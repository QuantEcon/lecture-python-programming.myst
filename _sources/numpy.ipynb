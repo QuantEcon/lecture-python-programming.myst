{
 "cells": [
  {
   "cell_type": "markdown",
   "id": "e7edd9b8",
   "metadata": {},
   "source": [
    "(np)=\n",
    "```{raw} jupyter\n",
    "<div id=\"qe-notebook-header\" align=\"right\" style=\"text-align:right;\">\n",
    "        <a href=\"https://quantecon.org/\" title=\"quantecon.org\">\n",
    "                <img style=\"width:250px;display:inline;\" width=\"250px\" src=\"https://assets.quantecon.org/img/qe-menubar-logo.svg\" alt=\"QuantEcon\">\n",
    "        </a>\n",
    "</div>\n",
    "```\n",
    "\n",
    "# {index}`NumPy <single: NumPy>`\n",
    "\n",
    "```{index} single: Python; NumPy\n",
    "```\n",
    "\n",
    "```{contents} Contents\n",
    ":depth: 2\n",
    "```\n",
    "\n",
    "```{epigraph}\n",
    "\"Let's be clear: the work of science has nothing whatever to do with consensus.  Consensus is the business of politics. Science, on the contrary, requires only one investigator who happens to be right, which means that he or she has results that are verifiable by reference to the real world. In science consensus is irrelevant. What is relevant is reproducible results.\" -- Michael Crichton\n",
    "```\n",
    "\n",
    "## Overview\n",
    "\n",
    "[NumPy](https://en.wikipedia.org/wiki/NumPy) is a first-rate library for numerical programming\n",
    "\n",
    "* Widely used in academia, finance and industry.\n",
    "* Mature, fast, stable and under continuous development.\n",
    "\n",
    "We have already seen some code involving NumPy in the preceding lectures.\n",
    "\n",
    "In this lecture, we will start a more systematic discussion of both\n",
    "\n",
    "* NumPy arrays and\n",
    "* the fundamental array processing operations provided by NumPy.\n",
    "\n",
    "### References\n",
    "\n",
    "* [The official NumPy documentation](http://docs.scipy.org/doc/numpy/reference/).\n",
    "\n",
    "(numpy_array)=\n",
    "## NumPy Arrays\n",
    "\n",
    "```{index} single: NumPy; Arrays\n",
    "```\n",
    "\n",
    "The essential problem that NumPy solves is fast array processing.\n",
    "\n",
    "The most important structure that NumPy defines is an array data type formally called a [numpy.ndarray](http://docs.scipy.org/doc/numpy/reference/arrays.ndarray.html).\n",
    "\n",
    "NumPy arrays power a large proportion of the scientific Python ecosystem.\n",
    "\n",
    "Let's first import the library."
   ]
  },
  {
   "cell_type": "code",
   "execution_count": 1,
   "id": "0eb8f7a8",
   "metadata": {},
   "outputs": [],
   "source": [
    "import numpy as np"
   ]
  },
  {
   "cell_type": "markdown",
   "id": "91629aa5",
   "metadata": {},
   "source": [
    "To create a NumPy array containing only zeros we use  [np.zeros](http://docs.scipy.org/doc/numpy/reference/generated/numpy.zeros.html#numpy.zeros)"
   ]
  },
  {
   "cell_type": "code",
   "execution_count": 2,
   "id": "0be94e16",
   "metadata": {},
   "outputs": [
    {
     "data": {
      "text/plain": [
       "array([0., 0., 0.])"
      ]
     },
     "execution_count": 2,
     "metadata": {},
     "output_type": "execute_result"
    }
   ],
   "source": [
    "a = np.zeros(3)\n",
    "a"
   ]
  },
  {
   "cell_type": "code",
   "execution_count": 3,
   "id": "66b38cdb",
   "metadata": {},
   "outputs": [
    {
     "data": {
      "text/plain": [
       "numpy.ndarray"
      ]
     },
     "execution_count": 3,
     "metadata": {},
     "output_type": "execute_result"
    }
   ],
   "source": [
    "type(a)"
   ]
  },
  {
   "cell_type": "markdown",
   "id": "14d1bc8a",
   "metadata": {},
   "source": [
    "NumPy arrays are somewhat like native Python lists, except that\n",
    "\n",
    "* Data *must be homogeneous* (all elements of the same type).\n",
    "* These types must be one of the [data types](https://docs.scipy.org/doc/numpy/reference/arrays.dtypes.html) (`dtypes`) provided by NumPy.\n",
    "\n",
    "The most important of these dtypes are:\n",
    "\n",
    "* float64: 64 bit floating-point number\n",
    "* int64: 64 bit integer\n",
    "* bool:  8 bit True or False\n",
    "\n",
    "There are also dtypes to represent complex numbers, unsigned integers, etc.\n",
    "\n",
    "On modern machines, the default dtype for arrays is `float64`"
   ]
  },
  {
   "cell_type": "code",
   "execution_count": 4,
   "id": "7d1904a6",
   "metadata": {},
   "outputs": [
    {
     "data": {
      "text/plain": [
       "numpy.float64"
      ]
     },
     "execution_count": 4,
     "metadata": {},
     "output_type": "execute_result"
    }
   ],
   "source": [
    "a = np.zeros(3)\n",
    "type(a[0])"
   ]
  },
  {
   "cell_type": "markdown",
   "id": "c84edc40",
   "metadata": {},
   "source": [
    "If we want to use integers we can specify as follows:"
   ]
  },
  {
   "cell_type": "code",
   "execution_count": 5,
   "id": "c073c060",
   "metadata": {},
   "outputs": [
    {
     "data": {
      "text/plain": [
       "numpy.int64"
      ]
     },
     "execution_count": 5,
     "metadata": {},
     "output_type": "execute_result"
    }
   ],
   "source": [
    "a = np.zeros(3, dtype=int)\n",
    "type(a[0])"
   ]
  },
  {
   "cell_type": "markdown",
   "id": "d880ab6c",
   "metadata": {},
   "source": [
    "(numpy_shape_dim)=\n",
    "### Shape and Dimension\n",
    "\n",
    "```{index} single: NumPy; Arrays (Shape and Dimension)\n",
    "```\n",
    "\n",
    "Consider the following assignment"
   ]
  },
  {
   "cell_type": "code",
   "execution_count": 6,
   "id": "b5354e7f",
   "metadata": {},
   "outputs": [],
   "source": [
    "z = np.zeros(10)"
   ]
  },
  {
   "cell_type": "markdown",
   "id": "e58465f5",
   "metadata": {},
   "source": [
    "Here `z` is a *flat* array with no dimension --- neither row nor column vector.\n",
    "\n",
    "The dimension is recorded in the `shape` attribute, which is a tuple"
   ]
  },
  {
   "cell_type": "code",
   "execution_count": 7,
   "id": "92a1fcba",
   "metadata": {},
   "outputs": [
    {
     "data": {
      "text/plain": [
       "(10,)"
      ]
     },
     "execution_count": 7,
     "metadata": {},
     "output_type": "execute_result"
    }
   ],
   "source": [
    "z.shape"
   ]
  },
  {
   "cell_type": "markdown",
   "id": "70e354c8",
   "metadata": {},
   "source": [
    "Here the shape tuple has only one element, which is the length of the array (tuples with one element end with a comma).\n",
    "\n",
    "To give it dimension, we can change the `shape` attribute"
   ]
  },
  {
   "cell_type": "code",
   "execution_count": 8,
   "id": "dac0821a",
   "metadata": {},
   "outputs": [
    {
     "data": {
      "text/plain": [
       "array([[0.],\n",
       "       [0.],\n",
       "       [0.],\n",
       "       [0.],\n",
       "       [0.],\n",
       "       [0.],\n",
       "       [0.],\n",
       "       [0.],\n",
       "       [0.],\n",
       "       [0.]])"
      ]
     },
     "execution_count": 8,
     "metadata": {},
     "output_type": "execute_result"
    }
   ],
   "source": [
    "z.shape = (10, 1)\n",
    "z"
   ]
  },
  {
   "cell_type": "code",
   "execution_count": 9,
   "id": "d7c2fbc2",
   "metadata": {},
   "outputs": [
    {
     "data": {
      "text/plain": [
       "array([[0., 0.],\n",
       "       [0., 0.]])"
      ]
     },
     "execution_count": 9,
     "metadata": {},
     "output_type": "execute_result"
    }
   ],
   "source": [
    "z = np.zeros(4)\n",
    "z.shape = (2, 2)\n",
    "z"
   ]
  },
  {
   "cell_type": "markdown",
   "id": "ebae7281",
   "metadata": {},
   "source": [
    "In the last case, to make the 2 by 2 array, we could also pass a tuple to the `zeros()` function, as\n",
    "in `z = np.zeros((2, 2))`.\n",
    "\n",
    "(creating_arrays)=\n",
    "### Creating Arrays\n",
    "\n",
    "```{index} single: NumPy; Arrays (Creating)\n",
    "```\n",
    "\n",
    "As we've seen, the `np.zeros` function creates an array of zeros.\n",
    "\n",
    "You can probably guess what `np.ones` creates.\n",
    "\n",
    "Related is `np.empty`, which creates arrays in memory that can later be populated with data"
   ]
  },
  {
   "cell_type": "code",
   "execution_count": 10,
   "id": "38ee6dd1",
   "metadata": {},
   "outputs": [
    {
     "data": {
      "text/plain": [
       "array([0., 0., 0.])"
      ]
     },
     "execution_count": 10,
     "metadata": {},
     "output_type": "execute_result"
    }
   ],
   "source": [
    "z = np.empty(3)\n",
    "z"
   ]
  },
  {
   "cell_type": "markdown",
   "id": "8c311fdc",
   "metadata": {},
   "source": [
    "The numbers you see here are garbage values.\n",
    "\n",
    "(Python allocates 3 contiguous 64 bit pieces of memory, and the existing contents of those memory slots are interpreted as `float64` values)\n",
    "\n",
    "To set up a grid of evenly spaced numbers use `np.linspace`"
   ]
  },
  {
   "cell_type": "code",
   "execution_count": 11,
   "id": "cde61115",
   "metadata": {},
   "outputs": [],
   "source": [
    "z = np.linspace(2, 4, 5)  # From 2 to 4, with 5 elements"
   ]
  },
  {
   "cell_type": "markdown",
   "id": "791cc33a",
   "metadata": {},
   "source": [
    "To create an identity matrix use either `np.identity` or `np.eye`"
   ]
  },
  {
   "cell_type": "code",
   "execution_count": 12,
   "id": "5568a710",
   "metadata": {},
   "outputs": [
    {
     "data": {
      "text/plain": [
       "array([[1., 0.],\n",
       "       [0., 1.]])"
      ]
     },
     "execution_count": 12,
     "metadata": {},
     "output_type": "execute_result"
    }
   ],
   "source": [
    "z = np.identity(2)\n",
    "z"
   ]
  },
  {
   "cell_type": "markdown",
   "id": "f8fa82b8",
   "metadata": {},
   "source": [
    "In addition, NumPy arrays can be created from Python lists, tuples, etc. using `np.array`"
   ]
  },
  {
   "cell_type": "code",
   "execution_count": 13,
   "id": "ed251c09",
   "metadata": {},
   "outputs": [
    {
     "data": {
      "text/plain": [
       "array([10, 20])"
      ]
     },
     "execution_count": 13,
     "metadata": {},
     "output_type": "execute_result"
    }
   ],
   "source": [
    "z = np.array([10, 20])                 # ndarray from Python list\n",
    "z"
   ]
  },
  {
   "cell_type": "code",
   "execution_count": 14,
   "id": "b30d5a42",
   "metadata": {},
   "outputs": [
    {
     "data": {
      "text/plain": [
       "numpy.ndarray"
      ]
     },
     "execution_count": 14,
     "metadata": {},
     "output_type": "execute_result"
    }
   ],
   "source": [
    "type(z)"
   ]
  },
  {
   "cell_type": "code",
   "execution_count": 15,
   "id": "c444a484",
   "metadata": {},
   "outputs": [
    {
     "data": {
      "text/plain": [
       "array([10., 20.])"
      ]
     },
     "execution_count": 15,
     "metadata": {},
     "output_type": "execute_result"
    }
   ],
   "source": [
    "z = np.array((10, 20), dtype=float)    # Here 'float' is equivalent to 'np.float64'\n",
    "z"
   ]
  },
  {
   "cell_type": "code",
   "execution_count": 16,
   "id": "a3796f97",
   "metadata": {},
   "outputs": [
    {
     "data": {
      "text/plain": [
       "array([[1, 2],\n",
       "       [3, 4]])"
      ]
     },
     "execution_count": 16,
     "metadata": {},
     "output_type": "execute_result"
    }
   ],
   "source": [
    "z = np.array([[1, 2], [3, 4]])         # 2D array from a list of lists\n",
    "z"
   ]
  },
  {
   "cell_type": "markdown",
   "id": "5f2ecf60",
   "metadata": {},
   "source": [
    "See also `np.asarray`, which performs a similar function, but does not make\n",
    "a distinct copy of data already in a NumPy array."
   ]
  },
  {
   "cell_type": "code",
   "execution_count": 17,
   "id": "480f7f1e",
   "metadata": {},
   "outputs": [
    {
     "data": {
      "text/plain": [
       "True"
      ]
     },
     "execution_count": 17,
     "metadata": {},
     "output_type": "execute_result"
    }
   ],
   "source": [
    "na = np.linspace(10, 20, 2)\n",
    "na is np.asarray(na)   # Does not copy NumPy arrays"
   ]
  },
  {
   "cell_type": "code",
   "execution_count": 18,
   "id": "3b06a6b9",
   "metadata": {},
   "outputs": [
    {
     "data": {
      "text/plain": [
       "False"
      ]
     },
     "execution_count": 18,
     "metadata": {},
     "output_type": "execute_result"
    }
   ],
   "source": [
    "na is np.array(na)     # Does make a new copy --- perhaps unnecessarily"
   ]
  },
  {
   "cell_type": "markdown",
   "id": "7d166ba3",
   "metadata": {},
   "source": [
    "To read in the array data from a text file containing numeric data use `np.loadtxt`\n",
    "or `np.genfromtxt`---see [the documentation](http://docs.scipy.org/doc/numpy/reference/routines.io.html) for details.\n",
    "\n",
    "### Array Indexing\n",
    "\n",
    "```{index} single: NumPy; Arrays (Indexing)\n",
    "```\n",
    "\n",
    "For a flat array, indexing is the same as Python sequences:"
   ]
  },
  {
   "cell_type": "code",
   "execution_count": 19,
   "id": "cebc8c1d",
   "metadata": {},
   "outputs": [
    {
     "data": {
      "text/plain": [
       "array([1.  , 1.25, 1.5 , 1.75, 2.  ])"
      ]
     },
     "execution_count": 19,
     "metadata": {},
     "output_type": "execute_result"
    }
   ],
   "source": [
    "z = np.linspace(1, 2, 5)\n",
    "z"
   ]
  },
  {
   "cell_type": "code",
   "execution_count": 20,
   "id": "348730e6",
   "metadata": {},
   "outputs": [
    {
     "data": {
      "text/plain": [
       "1.0"
      ]
     },
     "execution_count": 20,
     "metadata": {},
     "output_type": "execute_result"
    }
   ],
   "source": [
    "z[0]"
   ]
  },
  {
   "cell_type": "code",
   "execution_count": 21,
   "id": "68929506",
   "metadata": {},
   "outputs": [
    {
     "data": {
      "text/plain": [
       "array([1.  , 1.25])"
      ]
     },
     "execution_count": 21,
     "metadata": {},
     "output_type": "execute_result"
    }
   ],
   "source": [
    "z[0:2]  # Two elements, starting at element 0"
   ]
  },
  {
   "cell_type": "code",
   "execution_count": 22,
   "id": "35a702f0",
   "metadata": {},
   "outputs": [
    {
     "data": {
      "text/plain": [
       "2.0"
      ]
     },
     "execution_count": 22,
     "metadata": {},
     "output_type": "execute_result"
    }
   ],
   "source": [
    "z[-1]"
   ]
  },
  {
   "cell_type": "markdown",
   "id": "62bd111a",
   "metadata": {},
   "source": [
    "For 2D arrays the index syntax is as follows:"
   ]
  },
  {
   "cell_type": "code",
   "execution_count": 23,
   "id": "8c59da10",
   "metadata": {},
   "outputs": [
    {
     "data": {
      "text/plain": [
       "array([[1, 2],\n",
       "       [3, 4]])"
      ]
     },
     "execution_count": 23,
     "metadata": {},
     "output_type": "execute_result"
    }
   ],
   "source": [
    "z = np.array([[1, 2], [3, 4]])\n",
    "z"
   ]
  },
  {
   "cell_type": "code",
   "execution_count": 24,
   "id": "a6d73e55",
   "metadata": {},
   "outputs": [
    {
     "data": {
      "text/plain": [
       "1"
      ]
     },
     "execution_count": 24,
     "metadata": {},
     "output_type": "execute_result"
    }
   ],
   "source": [
    "z[0, 0]"
   ]
  },
  {
   "cell_type": "code",
   "execution_count": 25,
   "id": "214490da",
   "metadata": {},
   "outputs": [
    {
     "data": {
      "text/plain": [
       "2"
      ]
     },
     "execution_count": 25,
     "metadata": {},
     "output_type": "execute_result"
    }
   ],
   "source": [
    "z[0, 1]"
   ]
  },
  {
   "cell_type": "markdown",
   "id": "962c3fdd",
   "metadata": {},
   "source": [
    "And so on.\n",
    "\n",
    "Note that indices are still zero-based, to maintain compatibility with Python sequences.\n",
    "\n",
    "Columns and rows can be extracted as follows"
   ]
  },
  {
   "cell_type": "code",
   "execution_count": 26,
   "id": "73863849",
   "metadata": {},
   "outputs": [
    {
     "data": {
      "text/plain": [
       "array([1, 2])"
      ]
     },
     "execution_count": 26,
     "metadata": {},
     "output_type": "execute_result"
    }
   ],
   "source": [
    "z[0, :]"
   ]
  },
  {
   "cell_type": "code",
   "execution_count": 27,
   "id": "e18aae01",
   "metadata": {},
   "outputs": [
    {
     "data": {
      "text/plain": [
       "array([2, 4])"
      ]
     },
     "execution_count": 27,
     "metadata": {},
     "output_type": "execute_result"
    }
   ],
   "source": [
    "z[:, 1]"
   ]
  },
  {
   "cell_type": "markdown",
   "id": "f0ac186c",
   "metadata": {},
   "source": [
    "NumPy arrays of integers can also be used to extract elements"
   ]
  },
  {
   "cell_type": "code",
   "execution_count": 28,
   "id": "6acd4ef3",
   "metadata": {},
   "outputs": [
    {
     "data": {
      "text/plain": [
       "array([2. , 2.5, 3. , 3.5, 4. ])"
      ]
     },
     "execution_count": 28,
     "metadata": {},
     "output_type": "execute_result"
    }
   ],
   "source": [
    "z = np.linspace(2, 4, 5)\n",
    "z"
   ]
  },
  {
   "cell_type": "code",
   "execution_count": 29,
   "id": "66cf8d61",
   "metadata": {},
   "outputs": [
    {
     "data": {
      "text/plain": [
       "array([2. , 3. , 3.5])"
      ]
     },
     "execution_count": 29,
     "metadata": {},
     "output_type": "execute_result"
    }
   ],
   "source": [
    "indices = np.array((0, 2, 3))\n",
    "z[indices]"
   ]
  },
  {
   "cell_type": "markdown",
   "id": "0f0567fa",
   "metadata": {},
   "source": [
    "Finally, an array of `dtype bool` can be used to extract elements"
   ]
  },
  {
   "cell_type": "code",
   "execution_count": 30,
   "id": "cc1d21d1",
   "metadata": {},
   "outputs": [
    {
     "data": {
      "text/plain": [
       "array([2. , 2.5, 3. , 3.5, 4. ])"
      ]
     },
     "execution_count": 30,
     "metadata": {},
     "output_type": "execute_result"
    }
   ],
   "source": [
    "z"
   ]
  },
  {
   "cell_type": "code",
   "execution_count": 31,
   "id": "11f34beb",
   "metadata": {},
   "outputs": [
    {
     "data": {
      "text/plain": [
       "array([False,  True,  True, False, False])"
      ]
     },
     "execution_count": 31,
     "metadata": {},
     "output_type": "execute_result"
    }
   ],
   "source": [
    "d = np.array([0, 1, 1, 0, 0], dtype=bool)\n",
    "d"
   ]
  },
  {
   "cell_type": "code",
   "execution_count": 32,
   "id": "6e63c4bd",
   "metadata": {},
   "outputs": [
    {
     "data": {
      "text/plain": [
       "array([2.5, 3. ])"
      ]
     },
     "execution_count": 32,
     "metadata": {},
     "output_type": "execute_result"
    }
   ],
   "source": [
    "z[d]"
   ]
  },
  {
   "cell_type": "markdown",
   "id": "0b60ad22",
   "metadata": {},
   "source": [
    "We'll see why this is useful below.\n",
    "\n",
    "An aside: all elements of an array can be set equal to one number using slice notation"
   ]
  },
  {
   "cell_type": "code",
   "execution_count": 33,
   "id": "4710f1c7",
   "metadata": {},
   "outputs": [
    {
     "data": {
      "text/plain": [
       "array([2. , 3. , 3.5])"
      ]
     },
     "execution_count": 33,
     "metadata": {},
     "output_type": "execute_result"
    }
   ],
   "source": [
    "z = np.empty(3)\n",
    "z"
   ]
  },
  {
   "cell_type": "code",
   "execution_count": 34,
   "id": "1f3dcdbb",
   "metadata": {},
   "outputs": [
    {
     "data": {
      "text/plain": [
       "array([42., 42., 42.])"
      ]
     },
     "execution_count": 34,
     "metadata": {},
     "output_type": "execute_result"
    }
   ],
   "source": [
    "z[:] = 42\n",
    "z"
   ]
  },
  {
   "cell_type": "markdown",
   "id": "dc7651ed",
   "metadata": {},
   "source": [
    "### Array Methods\n",
    "\n",
    "```{index} single: NumPy; Arrays (Methods)\n",
    "```\n",
    "\n",
    "Arrays have useful methods, all of which are carefully optimized"
   ]
  },
  {
   "cell_type": "code",
   "execution_count": 35,
   "id": "552edd0b",
   "metadata": {},
   "outputs": [
    {
     "data": {
      "text/plain": [
       "array([4, 3, 2, 1])"
      ]
     },
     "execution_count": 35,
     "metadata": {},
     "output_type": "execute_result"
    }
   ],
   "source": [
    "a = np.array((4, 3, 2, 1))\n",
    "a"
   ]
  },
  {
   "cell_type": "code",
   "execution_count": 36,
   "id": "bd0627b7",
   "metadata": {},
   "outputs": [
    {
     "data": {
      "text/plain": [
       "array([1, 2, 3, 4])"
      ]
     },
     "execution_count": 36,
     "metadata": {},
     "output_type": "execute_result"
    }
   ],
   "source": [
    "a.sort()              # Sorts a in place\n",
    "a"
   ]
  },
  {
   "cell_type": "code",
   "execution_count": 37,
   "id": "dde6264f",
   "metadata": {},
   "outputs": [
    {
     "data": {
      "text/plain": [
       "10"
      ]
     },
     "execution_count": 37,
     "metadata": {},
     "output_type": "execute_result"
    }
   ],
   "source": [
    "a.sum()               # Sum"
   ]
  },
  {
   "cell_type": "code",
   "execution_count": 38,
   "id": "b1896e48",
   "metadata": {},
   "outputs": [
    {
     "data": {
      "text/plain": [
       "2.5"
      ]
     },
     "execution_count": 38,
     "metadata": {},
     "output_type": "execute_result"
    }
   ],
   "source": [
    "a.mean()              # Mean"
   ]
  },
  {
   "cell_type": "code",
   "execution_count": 39,
   "id": "7d3de165",
   "metadata": {},
   "outputs": [
    {
     "data": {
      "text/plain": [
       "4"
      ]
     },
     "execution_count": 39,
     "metadata": {},
     "output_type": "execute_result"
    }
   ],
   "source": [
    "a.max()               # Max"
   ]
  },
  {
   "cell_type": "code",
   "execution_count": 40,
   "id": "757d7166",
   "metadata": {},
   "outputs": [
    {
     "data": {
      "text/plain": [
       "3"
      ]
     },
     "execution_count": 40,
     "metadata": {},
     "output_type": "execute_result"
    }
   ],
   "source": [
    "a.argmax()            # Returns the index of the maximal element"
   ]
  },
  {
   "cell_type": "code",
   "execution_count": 41,
   "id": "7b2912f3",
   "metadata": {},
   "outputs": [
    {
     "data": {
      "text/plain": [
       "array([ 1,  3,  6, 10])"
      ]
     },
     "execution_count": 41,
     "metadata": {},
     "output_type": "execute_result"
    }
   ],
   "source": [
    "a.cumsum()            # Cumulative sum of the elements of a"
   ]
  },
  {
   "cell_type": "code",
   "execution_count": 42,
   "id": "cd24fef9",
   "metadata": {},
   "outputs": [
    {
     "data": {
      "text/plain": [
       "array([ 1,  2,  6, 24])"
      ]
     },
     "execution_count": 42,
     "metadata": {},
     "output_type": "execute_result"
    }
   ],
   "source": [
    "a.cumprod()           # Cumulative product of the elements of a"
   ]
  },
  {
   "cell_type": "code",
   "execution_count": 43,
   "id": "d323e1d4",
   "metadata": {},
   "outputs": [
    {
     "data": {
      "text/plain": [
       "1.25"
      ]
     },
     "execution_count": 43,
     "metadata": {},
     "output_type": "execute_result"
    }
   ],
   "source": [
    "a.var()               # Variance"
   ]
  },
  {
   "cell_type": "code",
   "execution_count": 44,
   "id": "52304fbc",
   "metadata": {},
   "outputs": [
    {
     "data": {
      "text/plain": [
       "1.118033988749895"
      ]
     },
     "execution_count": 44,
     "metadata": {},
     "output_type": "execute_result"
    }
   ],
   "source": [
    "a.std()               # Standard deviation"
   ]
  },
  {
   "cell_type": "code",
   "execution_count": 45,
   "id": "1bf8f667",
   "metadata": {},
   "outputs": [
    {
     "data": {
      "text/plain": [
       "array([[1, 3],\n",
       "       [2, 4]])"
      ]
     },
     "execution_count": 45,
     "metadata": {},
     "output_type": "execute_result"
    }
   ],
   "source": [
    "a.shape = (2, 2)\n",
    "a.T                   # Equivalent to a.transpose()"
   ]
  },
  {
   "cell_type": "markdown",
   "id": "61d44d4c",
   "metadata": {},
   "source": [
    "Another method worth knowing is `searchsorted()`.\n",
    "\n",
    "If `z` is a nondecreasing array, then `z.searchsorted(a)` returns the index of the first element of `z` that is `>= a`"
   ]
  },
  {
   "cell_type": "code",
   "execution_count": 46,
   "id": "1d7e6ad1",
   "metadata": {},
   "outputs": [
    {
     "data": {
      "text/plain": [
       "array([2. , 2.5, 3. , 3.5, 4. ])"
      ]
     },
     "execution_count": 46,
     "metadata": {},
     "output_type": "execute_result"
    }
   ],
   "source": [
    "z = np.linspace(2, 4, 5)\n",
    "z"
   ]
  },
  {
   "cell_type": "code",
   "execution_count": 47,
   "id": "c60941b1",
   "metadata": {},
   "outputs": [
    {
     "data": {
      "text/plain": [
       "1"
      ]
     },
     "execution_count": 47,
     "metadata": {},
     "output_type": "execute_result"
    }
   ],
   "source": [
    "z.searchsorted(2.2)"
   ]
  },
  {
   "cell_type": "markdown",
   "id": "5640bd62",
   "metadata": {},
   "source": [
    "Many of the methods discussed above have equivalent functions in the NumPy namespace"
   ]
  },
  {
   "cell_type": "code",
   "execution_count": 48,
   "id": "7ed63359",
   "metadata": {},
   "outputs": [],
   "source": [
    "a = np.array((4, 3, 2, 1))"
   ]
  },
  {
   "cell_type": "code",
   "execution_count": 49,
   "id": "a918b21d",
   "metadata": {},
   "outputs": [
    {
     "data": {
      "text/plain": [
       "10"
      ]
     },
     "execution_count": 49,
     "metadata": {},
     "output_type": "execute_result"
    }
   ],
   "source": [
    "np.sum(a)"
   ]
  },
  {
   "cell_type": "code",
   "execution_count": 50,
   "id": "de66a065",
   "metadata": {},
   "outputs": [
    {
     "data": {
      "text/plain": [
       "2.5"
      ]
     },
     "execution_count": 50,
     "metadata": {},
     "output_type": "execute_result"
    }
   ],
   "source": [
    "np.mean(a)"
   ]
  },
  {
   "cell_type": "markdown",
   "id": "0d095710",
   "metadata": {},
   "source": [
    "## Operations on Arrays\n",
    "\n",
    "```{index} single: NumPy; Arrays (Operations)\n",
    "```\n",
    "\n",
    "### Arithmetic Operations\n",
    "\n",
    "The operators `+`, `-`, `*`, `/` and `**` all act *elementwise* on arrays"
   ]
  },
  {
   "cell_type": "code",
   "execution_count": 51,
   "id": "d21ae1f5",
   "metadata": {},
   "outputs": [
    {
     "data": {
      "text/plain": [
       "array([ 6,  8, 10, 12])"
      ]
     },
     "execution_count": 51,
     "metadata": {},
     "output_type": "execute_result"
    }
   ],
   "source": [
    "a = np.array([1, 2, 3, 4])\n",
    "b = np.array([5, 6, 7, 8])\n",
    "a + b"
   ]
  },
  {
   "cell_type": "code",
   "execution_count": 52,
   "id": "d2a7ea8f",
   "metadata": {},
   "outputs": [
    {
     "data": {
      "text/plain": [
       "array([ 5, 12, 21, 32])"
      ]
     },
     "execution_count": 52,
     "metadata": {},
     "output_type": "execute_result"
    }
   ],
   "source": [
    "a * b"
   ]
  },
  {
   "cell_type": "markdown",
   "id": "f299f43c",
   "metadata": {},
   "source": [
    "We can add a scalar to each element as follows"
   ]
  },
  {
   "cell_type": "code",
   "execution_count": 53,
   "id": "e8583819",
   "metadata": {},
   "outputs": [
    {
     "data": {
      "text/plain": [
       "array([11, 12, 13, 14])"
      ]
     },
     "execution_count": 53,
     "metadata": {},
     "output_type": "execute_result"
    }
   ],
   "source": [
    "a + 10"
   ]
  },
  {
   "cell_type": "markdown",
   "id": "7be65a13",
   "metadata": {},
   "source": [
    "Scalar multiplication is similar"
   ]
  },
  {
   "cell_type": "code",
   "execution_count": 54,
   "id": "1efab9db",
   "metadata": {},
   "outputs": [
    {
     "data": {
      "text/plain": [
       "array([10, 20, 30, 40])"
      ]
     },
     "execution_count": 54,
     "metadata": {},
     "output_type": "execute_result"
    }
   ],
   "source": [
    "a * 10"
   ]
  },
  {
   "cell_type": "markdown",
   "id": "388fd222",
   "metadata": {},
   "source": [
    "The two-dimensional arrays follow the same general rules"
   ]
  },
  {
   "cell_type": "code",
   "execution_count": 55,
   "id": "ff0911ff",
   "metadata": {},
   "outputs": [
    {
     "data": {
      "text/plain": [
       "array([[2., 2.],\n",
       "       [2., 2.]])"
      ]
     },
     "execution_count": 55,
     "metadata": {},
     "output_type": "execute_result"
    }
   ],
   "source": [
    "A = np.ones((2, 2))\n",
    "B = np.ones((2, 2))\n",
    "A + B"
   ]
  },
  {
   "cell_type": "code",
   "execution_count": 56,
   "id": "65df7bbc",
   "metadata": {},
   "outputs": [
    {
     "data": {
      "text/plain": [
       "array([[11., 11.],\n",
       "       [11., 11.]])"
      ]
     },
     "execution_count": 56,
     "metadata": {},
     "output_type": "execute_result"
    }
   ],
   "source": [
    "A + 10"
   ]
  },
  {
   "cell_type": "code",
   "execution_count": 57,
   "id": "64498295",
   "metadata": {},
   "outputs": [
    {
     "data": {
      "text/plain": [
       "array([[1., 1.],\n",
       "       [1., 1.]])"
      ]
     },
     "execution_count": 57,
     "metadata": {},
     "output_type": "execute_result"
    }
   ],
   "source": [
    "A * B"
   ]
  },
  {
   "cell_type": "markdown",
   "id": "e810308e",
   "metadata": {},
   "source": [
    "(numpy_matrix_multiplication)=\n",
    "In particular, `A * B` is *not* the matrix product, it is an element-wise product.\n",
    "\n",
    "### Matrix Multiplication\n",
    "\n",
    "```{index} single: NumPy; Matrix Multiplication\n",
    "```\n",
    "\n",
    "With Anaconda's scientific Python package based around Python 3.5 and above,\n",
    "one can use the `@` symbol for matrix multiplication, as follows:"
   ]
  },
  {
   "cell_type": "code",
   "execution_count": 58,
   "id": "cbc4106a",
   "metadata": {},
   "outputs": [
    {
     "data": {
      "text/plain": [
       "array([[2., 2.],\n",
       "       [2., 2.]])"
      ]
     },
     "execution_count": 58,
     "metadata": {},
     "output_type": "execute_result"
    }
   ],
   "source": [
    "A = np.ones((2, 2))\n",
    "B = np.ones((2, 2))\n",
    "A @ B"
   ]
  },
  {
   "cell_type": "markdown",
   "id": "7e9ba389",
   "metadata": {},
   "source": [
    "(For older versions of Python and NumPy you need to use the [np.dot](http://docs.scipy.org/doc/numpy/reference/generated/numpy.dot.html) function)\n",
    "\n",
    "We can also use `@` to take the inner product of two flat arrays"
   ]
  },
  {
   "cell_type": "code",
   "execution_count": 59,
   "id": "44f57eba",
   "metadata": {},
   "outputs": [
    {
     "data": {
      "text/plain": [
       "50"
      ]
     },
     "execution_count": 59,
     "metadata": {},
     "output_type": "execute_result"
    }
   ],
   "source": [
    "A = np.array((1, 2))\n",
    "B = np.array((10, 20))\n",
    "A @ B"
   ]
  },
  {
   "cell_type": "markdown",
   "id": "00b45e30",
   "metadata": {},
   "source": [
    "In fact, we can use `@` when one element is a Python list or tuple"
   ]
  },
  {
   "cell_type": "code",
   "execution_count": 60,
   "id": "24c1d2e1",
   "metadata": {},
   "outputs": [
    {
     "data": {
      "text/plain": [
       "array([[1, 2],\n",
       "       [3, 4]])"
      ]
     },
     "execution_count": 60,
     "metadata": {},
     "output_type": "execute_result"
    }
   ],
   "source": [
    "A = np.array(((1, 2), (3, 4)))\n",
    "A"
   ]
  },
  {
   "cell_type": "code",
   "execution_count": 61,
   "id": "1be327ac",
   "metadata": {},
   "outputs": [
    {
     "data": {
      "text/plain": [
       "array([2, 4])"
      ]
     },
     "execution_count": 61,
     "metadata": {},
     "output_type": "execute_result"
    }
   ],
   "source": [
    "A @ (0, 1)"
   ]
  },
  {
   "cell_type": "markdown",
   "id": "509179c5",
   "metadata": {},
   "source": [
    "Since we are post-multiplying, the tuple is treated as a column vector.\n",
    "\n",
    "### Mutability and Copying Arrays\n",
    "\n",
    "NumPy arrays are mutable data types, like Python lists.\n",
    "\n",
    "In other words, their contents can be altered (mutated) in memory after initialization.\n",
    "\n",
    "We already saw examples above.\n",
    "\n",
    "Here's another example:"
   ]
  },
  {
   "cell_type": "code",
   "execution_count": 62,
   "id": "2728fe28",
   "metadata": {},
   "outputs": [
    {
     "data": {
      "text/plain": [
       "array([42, 44])"
      ]
     },
     "execution_count": 62,
     "metadata": {},
     "output_type": "execute_result"
    }
   ],
   "source": [
    "a = np.array([42, 44])\n",
    "a"
   ]
  },
  {
   "cell_type": "code",
   "execution_count": 63,
   "id": "8dad956a",
   "metadata": {},
   "outputs": [
    {
     "data": {
      "text/plain": [
       "array([42,  0])"
      ]
     },
     "execution_count": 63,
     "metadata": {},
     "output_type": "execute_result"
    }
   ],
   "source": [
    "a[-1] = 0  # Change last element to 0\n",
    "a"
   ]
  },
  {
   "cell_type": "markdown",
   "id": "4ae3a9f7",
   "metadata": {},
   "source": [
    "Mutability leads to the following behavior (which can be shocking to MATLAB programmers...)"
   ]
  },
  {
   "cell_type": "code",
   "execution_count": 64,
   "id": "5415137b",
   "metadata": {},
   "outputs": [
    {
     "data": {
      "text/plain": [
       "array([-0.22850351, -0.94344349, -0.80842864])"
      ]
     },
     "execution_count": 64,
     "metadata": {},
     "output_type": "execute_result"
    }
   ],
   "source": [
    "a = np.random.randn(3)\n",
    "a"
   ]
  },
  {
   "cell_type": "code",
   "execution_count": 65,
   "id": "0d413d92",
   "metadata": {},
   "outputs": [
    {
     "data": {
      "text/plain": [
       "array([ 0.        , -0.94344349, -0.80842864])"
      ]
     },
     "execution_count": 65,
     "metadata": {},
     "output_type": "execute_result"
    }
   ],
   "source": [
    "b = a\n",
    "b[0] = 0.0\n",
    "a"
   ]
  },
  {
   "cell_type": "markdown",
   "id": "e876763a",
   "metadata": {},
   "source": [
    "What's happened is that we have changed `a` by changing `b`.\n",
    "\n",
    "The name `b` is bound to `a` and becomes just another reference to the\n",
    "array (the Python assignment model is described in more detail {doc}`later in the course <python_advanced_features>`).\n",
    "\n",
    "Hence, it has equal rights to make changes to that array.\n",
    "\n",
    "This is in fact the most sensible default behavior!\n",
    "\n",
    "It means that we pass around only pointers to data, rather than making copies.\n",
    "\n",
    "Making copies is expensive in terms of both speed and memory.\n",
    "\n",
    "#### Making Copies\n",
    "\n",
    "It is of course possible to make `b` an independent copy of `a` when required.\n",
    "\n",
    "This can be done using `np.copy`"
   ]
  },
  {
   "cell_type": "code",
   "execution_count": 66,
   "id": "95186d3d",
   "metadata": {},
   "outputs": [
    {
     "data": {
      "text/plain": [
       "array([ 0.4267043 ,  1.1938863 , -1.17735016])"
      ]
     },
     "execution_count": 66,
     "metadata": {},
     "output_type": "execute_result"
    }
   ],
   "source": [
    "a = np.random.randn(3)\n",
    "a"
   ]
  },
  {
   "cell_type": "code",
   "execution_count": 67,
   "id": "34ada3fb",
   "metadata": {},
   "outputs": [
    {
     "data": {
      "text/plain": [
       "array([ 0.4267043 ,  1.1938863 , -1.17735016])"
      ]
     },
     "execution_count": 67,
     "metadata": {},
     "output_type": "execute_result"
    }
   ],
   "source": [
    "b = np.copy(a)\n",
    "b"
   ]
  },
  {
   "cell_type": "markdown",
   "id": "2a8ce7c3",
   "metadata": {},
   "source": [
    "Now `b` is an independent copy (called a *deep copy*)"
   ]
  },
  {
   "cell_type": "code",
   "execution_count": 68,
   "id": "eb32bded",
   "metadata": {},
   "outputs": [
    {
     "data": {
      "text/plain": [
       "array([1., 1., 1.])"
      ]
     },
     "execution_count": 68,
     "metadata": {},
     "output_type": "execute_result"
    }
   ],
   "source": [
    "b[:] = 1\n",
    "b"
   ]
  },
  {
   "cell_type": "code",
   "execution_count": 69,
   "id": "6c3da20e",
   "metadata": {},
   "outputs": [
    {
     "data": {
      "text/plain": [
       "array([ 0.4267043 ,  1.1938863 , -1.17735016])"
      ]
     },
     "execution_count": 69,
     "metadata": {},
     "output_type": "execute_result"
    }
   ],
   "source": [
    "a"
   ]
  },
  {
   "cell_type": "markdown",
   "id": "97a50509",
   "metadata": {},
   "source": [
    "Note that the change to `b` has not affected `a`.\n",
    "\n",
    "## Additional Functionality\n",
    "\n",
    "Let's look at some other useful things we can do with NumPy.\n",
    "\n",
    "### Vectorized Functions\n",
    "\n",
    "```{index} single: NumPy; Vectorized Functions\n",
    "```\n",
    "\n",
    "NumPy provides versions of the standard functions `log`, `exp`, `sin`, etc. that act *element-wise* on arrays"
   ]
  },
  {
   "cell_type": "code",
   "execution_count": 70,
   "id": "af8f346c",
   "metadata": {},
   "outputs": [
    {
     "data": {
      "text/plain": [
       "array([0.84147098, 0.90929743, 0.14112001])"
      ]
     },
     "execution_count": 70,
     "metadata": {},
     "output_type": "execute_result"
    }
   ],
   "source": [
    "z = np.array([1, 2, 3])\n",
    "np.sin(z)"
   ]
  },
  {
   "cell_type": "markdown",
   "id": "939d709d",
   "metadata": {},
   "source": [
    "This eliminates the need for explicit element-by-element loops such as"
   ]
  },
  {
   "cell_type": "code",
   "execution_count": 71,
   "id": "c3672659",
   "metadata": {},
   "outputs": [],
   "source": [
    "n = len(z)\n",
    "y = np.empty(n)\n",
    "for i in range(n):\n",
    "    y[i] = np.sin(z[i])"
   ]
  },
  {
   "cell_type": "markdown",
   "id": "611a7f89",
   "metadata": {},
   "source": [
    "Because they act element-wise on arrays, these functions are called *vectorized functions*.\n",
    "\n",
    "In NumPy-speak, they are also called *ufuncs*, which stands for \"universal functions\".\n",
    "\n",
    "As we saw above, the usual arithmetic operations (`+`, `*`, etc.) also\n",
    "work element-wise, and combining these with the ufuncs gives a very large set of fast element-wise functions."
   ]
  },
  {
   "cell_type": "code",
   "execution_count": 72,
   "id": "4f821f00",
   "metadata": {},
   "outputs": [
    {
     "data": {
      "text/plain": [
       "array([1, 2, 3])"
      ]
     },
     "execution_count": 72,
     "metadata": {},
     "output_type": "execute_result"
    }
   ],
   "source": [
    "z"
   ]
  },
  {
   "cell_type": "code",
   "execution_count": 73,
   "id": "d09ea809",
   "metadata": {},
   "outputs": [
    {
     "data": {
      "text/plain": [
       "array([0.24197072, 0.05399097, 0.00443185])"
      ]
     },
     "execution_count": 73,
     "metadata": {},
     "output_type": "execute_result"
    }
   ],
   "source": [
    "(1 / np.sqrt(2 * np.pi)) * np.exp(- 0.5 * z**2)"
   ]
  },
  {
   "cell_type": "markdown",
   "id": "7e0e5404",
   "metadata": {},
   "source": [
    "Not all user-defined functions will act element-wise.\n",
    "\n",
    "For example, passing the function `f` defined below a NumPy array causes a `ValueError`"
   ]
  },
  {
   "cell_type": "code",
   "execution_count": 74,
   "id": "82824745",
   "metadata": {},
   "outputs": [],
   "source": [
    "def f(x):\n",
    "    return 1 if x > 0 else 0"
   ]
  },
  {
   "cell_type": "markdown",
   "id": "6835765b",
   "metadata": {},
   "source": [
    "The NumPy function `np.where` provides a vectorized alternative:"
   ]
  },
  {
   "cell_type": "code",
   "execution_count": 75,
   "id": "d41956ac",
   "metadata": {},
   "outputs": [
    {
     "data": {
      "text/plain": [
       "array([-0.15594324, -0.28173516, -0.99013552, -1.22294625])"
      ]
     },
     "execution_count": 75,
     "metadata": {},
     "output_type": "execute_result"
    }
   ],
   "source": [
    "x = np.random.randn(4)\n",
    "x"
   ]
  },
  {
   "cell_type": "code",
   "execution_count": 76,
   "id": "99949b54",
   "metadata": {},
   "outputs": [
    {
     "data": {
      "text/plain": [
       "array([0, 0, 0, 0])"
      ]
     },
     "execution_count": 76,
     "metadata": {},
     "output_type": "execute_result"
    }
   ],
   "source": [
    "np.where(x > 0, 1, 0)  # Insert 1 if x > 0 true, otherwise 0"
   ]
  },
  {
   "cell_type": "markdown",
   "id": "90820bc2",
   "metadata": {},
   "source": [
    "You can also use `np.vectorize` to vectorize a given function"
   ]
  },
  {
   "cell_type": "code",
   "execution_count": 77,
   "id": "eaed4270",
   "metadata": {},
   "outputs": [
    {
     "data": {
      "text/plain": [
       "array([0, 0, 0, 0])"
      ]
     },
     "execution_count": 77,
     "metadata": {},
     "output_type": "execute_result"
    }
   ],
   "source": [
    "f = np.vectorize(f)\n",
    "f(x)                # Passing the same vector x as in the previous example"
   ]
  },
  {
   "cell_type": "markdown",
   "id": "94b70c82",
   "metadata": {},
   "source": [
    "However, this approach doesn't always obtain the same speed as a more carefully crafted vectorized function.\n",
    "\n",
    "### Comparisons\n",
    "\n",
    "```{index} single: NumPy; Comparisons\n",
    "```\n",
    "\n",
    "As a rule, comparisons on arrays are done element-wise"
   ]
  },
  {
   "cell_type": "code",
   "execution_count": 78,
   "id": "0819e34a",
   "metadata": {},
   "outputs": [
    {
     "data": {
      "text/plain": [
       "array([ True,  True])"
      ]
     },
     "execution_count": 78,
     "metadata": {},
     "output_type": "execute_result"
    }
   ],
   "source": [
    "z = np.array([2, 3])\n",
    "y = np.array([2, 3])\n",
    "z == y"
   ]
  },
  {
   "cell_type": "code",
   "execution_count": 79,
   "id": "26ecce3a",
   "metadata": {},
   "outputs": [
    {
     "data": {
      "text/plain": [
       "array([False,  True])"
      ]
     },
     "execution_count": 79,
     "metadata": {},
     "output_type": "execute_result"
    }
   ],
   "source": [
    "y[0] = 5\n",
    "z == y"
   ]
  },
  {
   "cell_type": "code",
   "execution_count": 80,
   "id": "695405e7",
   "metadata": {},
   "outputs": [
    {
     "data": {
      "text/plain": [
       "array([ True, False])"
      ]
     },
     "execution_count": 80,
     "metadata": {},
     "output_type": "execute_result"
    }
   ],
   "source": [
    "z != y"
   ]
  },
  {
   "cell_type": "markdown",
   "id": "b78bef26",
   "metadata": {},
   "source": [
    "The situation is similar for `>`, `<`, `>=` and `<=`.\n",
    "\n",
    "We can also do comparisons against scalars"
   ]
  },
  {
   "cell_type": "code",
   "execution_count": 81,
   "id": "36ee29a0",
   "metadata": {},
   "outputs": [
    {
     "data": {
      "text/plain": [
       "array([ 0. ,  2.5,  5. ,  7.5, 10. ])"
      ]
     },
     "execution_count": 81,
     "metadata": {},
     "output_type": "execute_result"
    }
   ],
   "source": [
    "z = np.linspace(0, 10, 5)\n",
    "z"
   ]
  },
  {
   "cell_type": "code",
   "execution_count": 82,
   "id": "e6d309e2",
   "metadata": {},
   "outputs": [
    {
     "data": {
      "text/plain": [
       "array([False, False,  True,  True,  True])"
      ]
     },
     "execution_count": 82,
     "metadata": {},
     "output_type": "execute_result"
    }
   ],
   "source": [
    "z > 3"
   ]
  },
  {
   "cell_type": "markdown",
   "id": "1d59450b",
   "metadata": {},
   "source": [
    "This is particularly useful for *conditional extraction*"
   ]
  },
  {
   "cell_type": "code",
   "execution_count": 83,
   "id": "daf0c43d",
   "metadata": {},
   "outputs": [
    {
     "data": {
      "text/plain": [
       "array([False, False,  True,  True,  True])"
      ]
     },
     "execution_count": 83,
     "metadata": {},
     "output_type": "execute_result"
    }
   ],
   "source": [
    "b = z > 3\n",
    "b"
   ]
  },
  {
   "cell_type": "code",
   "execution_count": 84,
   "id": "a5f64c08",
   "metadata": {},
   "outputs": [
    {
     "data": {
      "text/plain": [
       "array([ 5. ,  7.5, 10. ])"
      ]
     },
     "execution_count": 84,
     "metadata": {},
     "output_type": "execute_result"
    }
   ],
   "source": [
    "z[b]"
   ]
  },
  {
   "cell_type": "markdown",
   "id": "24fbf376",
   "metadata": {},
   "source": [
    "Of course we can---and frequently do---perform this in one step"
   ]
  },
  {
   "cell_type": "code",
   "execution_count": 85,
   "id": "8fb0798b",
   "metadata": {},
   "outputs": [
    {
     "data": {
      "text/plain": [
       "array([ 5. ,  7.5, 10. ])"
      ]
     },
     "execution_count": 85,
     "metadata": {},
     "output_type": "execute_result"
    }
   ],
   "source": [
    "z[z > 3]"
   ]
  },
  {
   "cell_type": "markdown",
   "id": "38e2d72f",
   "metadata": {},
   "source": [
    "### Sub-packages\n",
    "\n",
    "NumPy provides some additional functionality related to scientific programming\n",
    "through its sub-packages.\n",
    "\n",
    "We've already seen how we can generate random variables using np.random"
   ]
  },
  {
   "cell_type": "code",
   "execution_count": 86,
   "id": "08168ff8",
   "metadata": {},
   "outputs": [
    {
     "data": {
      "text/plain": [
       "5.009"
      ]
     },
     "execution_count": 86,
     "metadata": {},
     "output_type": "execute_result"
    }
   ],
   "source": [
    "z = np.random.randn(10000)  # Generate standard normals\n",
    "y = np.random.binomial(10, 0.5, size=1000)    # 1,000 draws from Bin(10, 0.5)\n",
    "y.mean()"
   ]
  },
  {
   "cell_type": "markdown",
   "id": "db87e65d",
   "metadata": {},
   "source": [
    "Another commonly used subpackage is np.linalg"
   ]
  },
  {
   "cell_type": "code",
   "execution_count": 87,
   "id": "d4d832d7",
   "metadata": {},
   "outputs": [
    {
     "data": {
      "text/plain": [
       "-2.0000000000000004"
      ]
     },
     "execution_count": 87,
     "metadata": {},
     "output_type": "execute_result"
    }
   ],
   "source": [
    "A = np.array([[1, 2], [3, 4]])\n",
    "\n",
    "np.linalg.det(A)           # Compute the determinant"
   ]
  },
  {
   "cell_type": "code",
   "execution_count": 88,
   "id": "4d5b11ad",
   "metadata": {},
   "outputs": [
    {
     "data": {
      "text/plain": [
       "array([[-2. ,  1. ],\n",
       "       [ 1.5, -0.5]])"
      ]
     },
     "execution_count": 88,
     "metadata": {},
     "output_type": "execute_result"
    }
   ],
   "source": [
    "np.linalg.inv(A)           # Compute the inverse"
   ]
  },
  {
   "cell_type": "markdown",
   "id": "5e19b4fe",
   "metadata": {},
   "source": [
    "```{index} single: SciPy\n",
    "```\n",
    "\n",
    "```{index} single: Python; SciPy\n",
    "```\n",
    "\n",
    "Much of this functionality is also available in [SciPy](http://www.scipy.org/), a collection of modules that are built on top of NumPy.\n",
    "\n",
    "We'll cover the SciPy versions in more detail {doc}`soon <scipy>`.\n",
    "\n",
    "For a comprehensive list of what's available in NumPy see [this documentation](https://docs.scipy.org/doc/numpy/reference/routines.html).\n",
    "\n",
    "## Exercises\n",
    "\n",
    "```{exercise-start}\n",
    ":label: np_ex1\n",
    "```\n",
    "\n",
    "Consider the polynomial expression\n",
    "\n",
    "```{math}\n",
    ":label: np_polynom\n",
    "\n",
    "p(x) = a_0 + a_1 x + a_2 x^2 + \\cdots a_N x^N = \\sum_{n=0}^N a_n x^n\n",
    "```\n",
    "\n",
    "{ref}`Earlier <pyess_ex2>`, you wrote a simple function `p(x, coeff)` to evaluate {eq}`np_polynom` without considering efficiency.\n",
    "\n",
    "Now write a new function that does the same job, but uses NumPy arrays and array operations for its computations, rather than any form of Python loop.\n",
    "\n",
    "(Such functionality is already implemented as `np.poly1d`, but for the sake of the exercise don't use this class)\n",
    "\n",
    "* Hint: Use `np.cumprod()`\n",
    "\n",
    "```{exercise-end}\n",
    "```\n",
    "\n",
    "\n",
    "```{exercise-start}\n",
    ":label: np_ex2\n",
    "```\n",
    "\n",
    "Let `q` be a NumPy array of length `n` with `q.sum() == 1`.\n",
    "\n",
    "Suppose that `q` represents a [probability mass function](https://en.wikipedia.org/wiki/Probability_mass_function).\n",
    "\n",
    "We wish to generate a discrete random variable $x$ such that $\\mathbb P\\{x = i\\} = q_i$.\n",
    "\n",
    "In other words, `x` takes values in `range(len(q))` and `x = i` with probability `q[i]`.\n",
    "\n",
    "The standard (inverse transform) algorithm is as follows:\n",
    "\n",
    "* Divide the unit interval $[0, 1]$ into $n$ subintervals $I_0, I_1, \\ldots, I_{n-1}$ such that the length of $I_i$ is $q_i$.\n",
    "* Draw a uniform random variable $U$ on $[0, 1]$ and return the $i$ such that $U \\in I_i$.\n",
    "\n",
    "The probability of drawing $i$ is the length of $I_i$, which is equal to $q_i$.\n",
    "\n",
    "We can implement the algorithm as follows"
   ]
  },
  {
   "cell_type": "code",
   "execution_count": 89,
   "id": "b0b0cba2",
   "metadata": {},
   "outputs": [],
   "source": [
    "from random import uniform\n",
    "\n",
    "def sample(q):\n",
    "    a = 0.0\n",
    "    U = uniform(0, 1)\n",
    "    for i in range(len(q)):\n",
    "        if a < U <= a + q[i]:\n",
    "            return i\n",
    "        a = a + q[i]"
   ]
  },
  {
   "cell_type": "markdown",
   "id": "aabfbcca",
   "metadata": {},
   "source": [
    "If you can't see how this works, try thinking through the flow for a simple example, such as `q = [0.25, 0.75]`\n",
    "It helps to sketch the intervals on paper.\n",
    "\n",
    "Your exercise is to speed it up using NumPy, avoiding explicit loops\n",
    "\n",
    "* Hint: Use `np.searchsorted` and `np.cumsum`\n",
    "\n",
    "If you can, implement the functionality as a class called `DiscreteRV`, where\n",
    "\n",
    "* the data for an instance of the class is the vector of probabilities `q`\n",
    "* the class has a `draw()` method, which returns one draw according to the algorithm described above\n",
    "\n",
    "If you can, write the method so that `draw(k)` returns `k` draws from `q`.\n",
    "\n",
    "```{exercise-end}\n",
    "```\n",
    "\n",
    "\n",
    "```{exercise}\n",
    ":label: np_ex3\n",
    "\n",
    "Recall our {ref}`earlier discussion <oop_ex1>` of the empirical cumulative distribution function.\n",
    "\n",
    "Your task is to\n",
    "\n",
    "1. Make the `__call__` method more efficient using NumPy.\n",
    "1. Add a method that plots the ECDF over $[a, b]$, where $a$ and $b$ are method parameters.\n",
    "```\n",
    "\n",
    "## Solutions"
   ]
  },
  {
   "cell_type": "code",
   "execution_count": 90,
   "id": "631cc3e8",
   "metadata": {},
   "outputs": [],
   "source": [
    "%matplotlib inline\n",
    "import matplotlib.pyplot as plt\n",
    "plt.rcParams['figure.figsize'] = (10,6)"
   ]
  },
  {
   "cell_type": "markdown",
   "id": "8fe95c5c",
   "metadata": {},
   "source": [
    "```{solution-start} np_ex1\n",
    ":class: dropdown\n",
    "```\n",
    "\n",
    "This code does the job"
   ]
  },
  {
   "cell_type": "code",
   "execution_count": 91,
   "id": "750a5b7a",
   "metadata": {},
   "outputs": [],
   "source": [
    "def p(x, coef):\n",
    "    X = np.ones_like(coef)\n",
    "    X[1:] = x\n",
    "    y = np.cumprod(X)   # y = [1, x, x**2,...]\n",
    "    return coef @ y"
   ]
  },
  {
   "cell_type": "markdown",
   "id": "143d8232",
   "metadata": {},
   "source": [
    "Let's test it"
   ]
  },
  {
   "cell_type": "code",
   "execution_count": 92,
   "id": "19372fc6",
   "metadata": {},
   "outputs": [
    {
     "name": "stdout",
     "output_type": "stream",
     "text": [
      "[2. 3. 4.]\n",
      "24.0\n",
      "24.0\n"
     ]
    }
   ],
   "source": [
    "x = 2\n",
    "coef = np.linspace(2, 4, 3)\n",
    "print(coef)\n",
    "print(p(x, coef))\n",
    "# For comparison\n",
    "q = np.poly1d(np.flip(coef))\n",
    "print(q(x))"
   ]
  },
  {
   "cell_type": "markdown",
   "id": "7aab1a98",
   "metadata": {},
   "source": [
    "```{solution-end}\n",
    "```\n",
    "\n",
    "\n",
    "```{solution-start} np_ex2\n",
    ":class: dropdown\n",
    "```\n",
    "\n",
    "Here's our first pass at a solution:"
   ]
  },
  {
   "cell_type": "code",
   "execution_count": 93,
   "id": "e341ec85",
   "metadata": {},
   "outputs": [],
   "source": [
    "from numpy import cumsum\n",
    "from numpy.random import uniform\n",
    "\n",
    "class DiscreteRV:\n",
    "    \"\"\"\n",
    "    Generates an array of draws from a discrete random variable with vector of\n",
    "    probabilities given by q.\n",
    "    \"\"\"\n",
    "\n",
    "    def __init__(self, q):\n",
    "        \"\"\"\n",
    "        The argument q is a NumPy array, or array like, nonnegative and sums\n",
    "        to 1\n",
    "        \"\"\"\n",
    "        self.q = q\n",
    "        self.Q = cumsum(q)\n",
    "\n",
    "    def draw(self, k=1):\n",
    "        \"\"\"\n",
    "        Returns k draws from q. For each such draw, the value i is returned\n",
    "        with probability q[i].\n",
    "        \"\"\"\n",
    "        return self.Q.searchsorted(uniform(0, 1, size=k))"
   ]
  },
  {
   "cell_type": "markdown",
   "id": "56353957",
   "metadata": {},
   "source": [
    "The logic is not obvious, but if you take your time and read it slowly,\n",
    "you will understand.\n",
    "\n",
    "There is a problem here, however.\n",
    "\n",
    "Suppose that `q` is altered after an instance of `discreteRV` is\n",
    "created, for example by"
   ]
  },
  {
   "cell_type": "code",
   "execution_count": 94,
   "id": "a1279269",
   "metadata": {},
   "outputs": [],
   "source": [
    "q = (0.1, 0.9)\n",
    "d = DiscreteRV(q)\n",
    "d.q = (0.5, 0.5)"
   ]
  },
  {
   "cell_type": "markdown",
   "id": "85bcb8f3",
   "metadata": {},
   "source": [
    "The problem is that `Q` does not change accordingly, and `Q` is the\n",
    "data used in the `draw` method.\n",
    "\n",
    "To deal with this, one option is to compute `Q` every time the draw\n",
    "method is called.\n",
    "\n",
    "But this is inefficient relative to computing `Q` once-off.\n",
    "\n",
    "A better option is to use descriptors.\n",
    "\n",
    "A solution from the [quantecon\n",
    "library](https://github.com/QuantEcon/QuantEcon.py/tree/master/quantecon)\n",
    "using descriptors that behaves as we desire can be found\n",
    "[here](https://github.com/QuantEcon/QuantEcon.py/blob/master/quantecon/discrete_rv.py).\n",
    "\n",
    "```{solution-end}\n",
    "```\n",
    "\n",
    "\n",
    "```{solution-start} np_ex3\n",
    ":class: dropdown\n",
    "```\n",
    "\n",
    "An example solution is given below.\n",
    "\n",
    "In essence, we've just taken [this\n",
    "code](https://github.com/QuantEcon/QuantEcon.py/blob/master/quantecon/ecdf.py)\n",
    "from QuantEcon and added in a plot method"
   ]
  },
  {
   "cell_type": "code",
   "execution_count": 95,
   "id": "10c70be0",
   "metadata": {},
   "outputs": [],
   "source": [
    "\"\"\"\n",
    "Modifies ecdf.py from QuantEcon to add in a plot method\n",
    "\n",
    "\"\"\"\n",
    "\n",
    "class ECDF:\n",
    "    \"\"\"\n",
    "    One-dimensional empirical distribution function given a vector of\n",
    "    observations.\n",
    "\n",
    "    Parameters\n",
    "    ----------\n",
    "    observations : array_like\n",
    "        An array of observations\n",
    "\n",
    "    Attributes\n",
    "    ----------\n",
    "    observations : array_like\n",
    "        An array of observations\n",
    "\n",
    "    \"\"\"\n",
    "\n",
    "    def __init__(self, observations):\n",
    "        self.observations = np.asarray(observations)\n",
    "\n",
    "    def __call__(self, x):\n",
    "        \"\"\"\n",
    "        Evaluates the ecdf at x\n",
    "\n",
    "        Parameters\n",
    "        ----------\n",
    "        x : scalar(float)\n",
    "            The x at which the ecdf is evaluated\n",
    "\n",
    "        Returns\n",
    "        -------\n",
    "        scalar(float)\n",
    "            Fraction of the sample less than x\n",
    "\n",
    "        \"\"\"\n",
    "        return np.mean(self.observations <= x)\n",
    "\n",
    "    def plot(self, ax, a=None, b=None):\n",
    "        \"\"\"\n",
    "        Plot the ecdf on the interval [a, b].\n",
    "\n",
    "        Parameters\n",
    "        ----------\n",
    "        a : scalar(float), optional(default=None)\n",
    "            Lower endpoint of the plot interval\n",
    "        b : scalar(float), optional(default=None)\n",
    "            Upper endpoint of the plot interval\n",
    "\n",
    "        \"\"\"\n",
    "\n",
    "        # === choose reasonable interval if [a, b] not specified === #\n",
    "        if a is None:\n",
    "            a = self.observations.min() - self.observations.std()\n",
    "        if b is None:\n",
    "            b = self.observations.max() + self.observations.std()\n",
    "\n",
    "        # === generate plot === #\n",
    "        x_vals = np.linspace(a, b, num=100)\n",
    "        f = np.vectorize(self.__call__)\n",
    "        ax.plot(x_vals, f(x_vals))\n",
    "        plt.show()"
   ]
  },
  {
   "cell_type": "markdown",
   "id": "45eaf584",
   "metadata": {},
   "source": [
    "Here's an example of usage"
   ]
  },
  {
   "cell_type": "code",
   "execution_count": 96,
   "id": "9ee51b21",
   "metadata": {},
   "outputs": [
    {
     "data": {
      "image/png": "[encoded data removed]",
      "text/plain": [
       "<Figure size 720x432 with 1 Axes>"
      ]
     },
     "metadata": {
      "filenames": {
       "image/png": "/home/runner/work/lecture-python-programming.myst/lecture-python-programming.myst/_build/jupyter_execute/numpy_147_0.png"
      },
      "needs_background": "light"
     },
     "output_type": "display_data"
    }
   ],
   "source": [
    "fig, ax = plt.subplots()\n",
    "X = np.random.randn(1000)\n",
    "F = ECDF(X)\n",
    "F.plot(ax)"
   ]
  },
  {
   "cell_type": "markdown",
   "id": "62fc1689",
   "metadata": {},
   "source": [
    "```{solution-end}\n",
    "```"
   ]
  }
 ],
 "metadata": {
  "jupytext": {
   "text_representation": {
    "extension": ".md",
    "format_name": "myst"
   }
  },
  "kernelspec": {
   "display_name": "Python 3",
   "language": "python",
   "name": "python3"
  },
  "language_info": {
   "codemirror_mode": {
    "name": "ipython",
    "version": 3
   },
   "file_extension": ".py",
   "mimetype": "text/x-python",
   "name": "python",
   "nbconvert_exporter": "python",
   "pygments_lexer": "ipython3",
   "version": "3.9.12"
  },
  "source_map": [
   10,
   66,
   68,
   72,
   77,
   79,
   96,
   99,
   103,
   106,
   116,
   118,
   124,
   126,
   132,
   137,
   141,
   158,
   161,
   169,
   171,
   175,
   178,
   182,
   187,
   191,
   196,
   199,
   204,
   209,
   211,
   223,
   228,
   232,
   236,
   238,
   242,
   247,
   251,
   253,
   261,
   265,
   267,
   271,
   276,
   279,
   283,
   287,
   292,
   294,
   300,
   305,
   308,
   317,
   322,
   327,
   331,
   335,
   339,
   343,
   347,
   351,
   355,
   359,
   362,
   368,
   373,
   375,
   379,
   383,
   387,
   389,
   400,
   406,
   408,
   412,
   414,
   418,
   420,
   424,
   430,
   434,
   436,
   449,
   453,
   459,
   463,
   467,
   472,
   474,
   488,
   493,
   496,
   500,
   505,
   509,
   530,
   535,
   538,
   542,
   547,
   549,
   564,
   567,
   571,
   576,
   585,
   589,
   591,
   597,
   600,
   604,
   609,
   611,
   615,
   618,
   629,
   635,
   640,
   642,
   648,
   653,
   655,
   659,
   664,
   666,
   670,
   672,
   681,
   685,
   689,
   695,
   697,
   758,
   768,
   801,
   805,
   813,
   819,
   823,
   831,
   843,
   867,
   877,
   881,
   912,
   979,
   983,
   988
  ]
 },
 "nbformat": 4,
 "nbformat_minor": 5
}