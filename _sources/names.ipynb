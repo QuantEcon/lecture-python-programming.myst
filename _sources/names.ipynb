{
 "cells": [
  {
   "cell_type": "markdown",
   "id": "a260fcf2",
   "metadata": {},
   "source": [
    "(oop_names)=\n",
    "```{raw} jupyter\n",
    "<div id=\"qe-notebook-header\" align=\"right\" style=\"text-align:right;\">\n",
    "        <a href=\"https://quantecon.org/\" title=\"quantecon.org\">\n",
    "                <img style=\"width:250px;display:inline;\" width=\"250px\" src=\"https://assets.quantecon.org/img/qe-menubar-logo.svg\" alt=\"QuantEcon\">\n",
    "        </a>\n",
    "</div>\n",
    "```\n",
    "\n",
    "# Names and Namespaces\n",
    "\n",
    "## Overview\n",
    "\n",
    "This lecture is all about variable names, how they can be used and how they are\n",
    "understood by the Python interpreter.\n",
    "\n",
    "This might sound a little dull but the model that Python has adopted for\n",
    "handling names is elegant and interesting.\n",
    "\n",
    "In addition, you will save yourself many hours of debugging if you have a good\n",
    "understanding of how names work in Python.\n",
    "\n",
    "(var_names)=\n",
    "## Variable Names in Python\n",
    "\n",
    "```{index} single: Python; Variable Names\n",
    "```\n",
    "\n",
    "Consider the Python statement"
   ]
  },
  {
   "cell_type": "code",
   "execution_count": 1,
   "id": "2f36081f",
   "metadata": {},
   "outputs": [],
   "source": [
    "x = 42"
   ]
  },
  {
   "cell_type": "markdown",
   "id": "dad3c201",
   "metadata": {},
   "source": [
    "We now know that when this statement is executed, Python creates an object of\n",
    "type `int` in your computer's memory, containing\n",
    "\n",
    "* the value `42`\n",
    "* some associated attributes\n",
    "\n",
    "But what is `x` itself?\n",
    "\n",
    "In Python, `x` is called a **name**, and the statement `x = 42` **binds** the name `x` to the integer object we have just discussed.\n",
    "\n",
    "Under the hood, this process of binding names to objects is implemented as a dictionary---more about this in a moment.\n",
    "\n",
    "There is no problem binding two or more names to the one object, regardless of what that object is"
   ]
  },
  {
   "cell_type": "code",
   "execution_count": 2,
   "id": "2d8c5605",
   "metadata": {},
   "outputs": [
    {
     "data": {
      "text/plain": [
       "True"
      ]
     },
     "execution_count": 2,
     "metadata": {},
     "output_type": "execute_result"
    }
   ],
   "source": [
    "def f(string):      # Create a function called f\n",
    "    print(string)   # that prints any string it's passed\n",
    "\n",
    "g = f\n",
    "id(g) == id(f)"
   ]
  },
  {
   "cell_type": "code",
   "execution_count": 3,
   "id": "1633cb62",
   "metadata": {},
   "outputs": [
    {
     "name": "stdout",
     "output_type": "stream",
     "text": [
      "test\n"
     ]
    }
   ],
   "source": [
    "g('test')"
   ]
  },
  {
   "cell_type": "markdown",
   "id": "e00e954e",
   "metadata": {},
   "source": [
    "In the first step, a function object is created, and the name `f` is bound to it.\n",
    "\n",
    "After binding the name `g` to the same object, we can use it anywhere we would use `f`.\n",
    "\n",
    "What happens when the number of names bound to an object goes to zero?\n",
    "\n",
    "Here's an example of this situation, where the name `x` is first bound to one object and then **rebound** to another"
   ]
  },
  {
   "cell_type": "code",
   "execution_count": 4,
   "id": "189fa46b",
   "metadata": {},
   "outputs": [
    {
     "data": {
      "text/plain": [
       "140718328227296"
      ]
     },
     "execution_count": 4,
     "metadata": {},
     "output_type": "execute_result"
    }
   ],
   "source": [
    "x = 'foo'\n",
    "id(x)\n",
    "x = 'bar'  \n",
    "id(x)"
   ]
  },
  {
   "cell_type": "markdown",
   "id": "0920d8d9",
   "metadata": {},
   "source": [
    "In this case, after we rebind `x` to `'bar'`, no names bound are to the first object `'foo'`.\n",
    "\n",
    "This is a trigger for `'foo'` to be garbage collected.\n",
    "\n",
    "In other words, the memory slot that stores that object is deallocated and returned to the operating system.\n",
    "\n",
    "Garbage collection is actually an active research area in computer science.\n",
    "\n",
    "You can [read more on garbage collection](https://rushter.com/blog/python-garbage-collector/) if you are interested.\n",
    "\n",
    "## Namespaces\n",
    "\n",
    "```{index} single: Python; Namespaces\n",
    "```\n",
    "\n",
    "Recall from the preceding discussion that the statement"
   ]
  },
  {
   "cell_type": "code",
   "execution_count": 5,
   "id": "0b4129a9",
   "metadata": {},
   "outputs": [],
   "source": [
    "x = 42"
   ]
  },
  {
   "cell_type": "markdown",
   "id": "d92f2de8",
   "metadata": {},
   "source": [
    "binds the name `x` to the integer object on the right-hand side.\n",
    "\n",
    "We also mentioned that this process of binding `x` to the correct object is implemented as a dictionary.\n",
    "\n",
    "This dictionary is called a namespace.\n",
    "\n",
    "```{admonition} Definition\n",
    "A **namespace** is a symbol table that maps names to objects in memory.\n",
    "```\n",
    "\n",
    "\n",
    "Python uses multiple namespaces, creating them on the fly as necessary.\n",
    "\n",
    "For example, every time we import a module, Python creates a namespace for that module.\n",
    "\n",
    "To see this in action, suppose we write a script `mathfoo.py` with a single line"
   ]
  },
  {
   "cell_type": "code",
   "execution_count": 6,
   "id": "ae42e480",
   "metadata": {},
   "outputs": [
    {
     "name": "stdout",
     "output_type": "stream",
     "text": [
      "Writing mathfoo.py\n"
     ]
    }
   ],
   "source": [
    "%%file mathfoo.py\n",
    "pi = 'foobar'"
   ]
  },
  {
   "cell_type": "markdown",
   "id": "f19ad25d",
   "metadata": {},
   "source": [
    "Now we start the Python interpreter and import it"
   ]
  },
  {
   "cell_type": "code",
   "execution_count": 7,
   "id": "43200873",
   "metadata": {},
   "outputs": [],
   "source": [
    "import mathfoo"
   ]
  },
  {
   "cell_type": "markdown",
   "id": "2a70f580",
   "metadata": {},
   "source": [
    "Next let's import the `math` module from the standard library"
   ]
  },
  {
   "cell_type": "code",
   "execution_count": 8,
   "id": "b19eb9b3",
   "metadata": {},
   "outputs": [],
   "source": [
    "import math"
   ]
  },
  {
   "cell_type": "markdown",
   "id": "7ea9f288",
   "metadata": {},
   "source": [
    "Both of these modules have an attribute called `pi`"
   ]
  },
  {
   "cell_type": "code",
   "execution_count": 9,
   "id": "08dd9f8c",
   "metadata": {},
   "outputs": [
    {
     "data": {
      "text/plain": [
       "3.141592653589793"
      ]
     },
     "execution_count": 9,
     "metadata": {},
     "output_type": "execute_result"
    }
   ],
   "source": [
    "math.pi"
   ]
  },
  {
   "cell_type": "code",
   "execution_count": 10,
   "id": "30586c88",
   "metadata": {},
   "outputs": [
    {
     "data": {
      "text/plain": [
       "'foobar'"
      ]
     },
     "execution_count": 10,
     "metadata": {},
     "output_type": "execute_result"
    }
   ],
   "source": [
    "mathfoo.pi"
   ]
  },
  {
   "cell_type": "markdown",
   "id": "48c39b92",
   "metadata": {},
   "source": [
    "These two different bindings of `pi` exist in different namespaces, each one implemented as a dictionary.\n",
    "\n",
    "If you wish, you can look at the dictionary directly, using `module_name.__dict__`."
   ]
  },
  {
   "cell_type": "code",
   "execution_count": 11,
   "id": "4ff08012",
   "metadata": {},
   "outputs": [
    {
     "data": {
      "text/plain": [
       "dict_items([('__name__', 'math'), ('__doc__', 'This module provides access to the mathematical functions\\ndefined by the C standard.'), ('__package__', ''), ('__loader__', <_frozen_importlib_external.ExtensionFileLoader object at 0x7ffb8b5aa5d0>), ('__spec__', ModuleSpec(name='math', loader=<_frozen_importlib_external.ExtensionFileLoader object at 0x7ffb8b5aa5d0>, origin='/home/runner/miniconda3/envs/quantecon/lib/python3.12/lib-dynload/math.cpython-312-x86_64-linux-gnu.so')), ('acos', <built-in function acos>), ('acosh', <built-in function acosh>), ('asin', <built-in function asin>), ('asinh', <built-in function asinh>), ('atan', <built-in function atan>), ('atan2', <built-in function atan2>), ('atanh', <built-in function atanh>), ('cbrt', <built-in function cbrt>), ('ceil', <built-in function ceil>), ('copysign', <built-in function copysign>), ('cos', <built-in function cos>), ('cosh', <built-in function cosh>), ('degrees', <built-in function degrees>), ('dist', <built-in function dist>), ('erf', <built-in function erf>), ('erfc', <built-in function erfc>), ('exp', <built-in function exp>), ('exp2', <built-in function exp2>), ('expm1', <built-in function expm1>), ('fabs', <built-in function fabs>), ('factorial', <built-in function factorial>), ('floor', <built-in function floor>), ('fmod', <built-in function fmod>), ('frexp', <built-in function frexp>), ('fsum', <built-in function fsum>), ('gamma', <built-in function gamma>), ('gcd', <built-in function gcd>), ('hypot', <built-in function hypot>), ('isclose', <built-in function isclose>), ('isfinite', <built-in function isfinite>), ('isinf', <built-in function isinf>), ('isnan', <built-in function isnan>), ('isqrt', <built-in function isqrt>), ('lcm', <built-in function lcm>), ('ldexp', <built-in function ldexp>), ('lgamma', <built-in function lgamma>), ('log', <built-in function log>), ('log1p', <built-in function log1p>), ('log10', <built-in function log10>), ('log2', <built-in function log2>), ('modf', <built-in function modf>), ('pow', <built-in function pow>), ('radians', <built-in function radians>), ('remainder', <built-in function remainder>), ('sin', <built-in function sin>), ('sinh', <built-in function sinh>), ('sqrt', <built-in function sqrt>), ('tan', <built-in function tan>), ('tanh', <built-in function tanh>), ('sumprod', <built-in function sumprod>), ('trunc', <built-in function trunc>), ('prod', <built-in function prod>), ('perm', <built-in function perm>), ('comb', <built-in function comb>), ('nextafter', <built-in function nextafter>), ('ulp', <built-in function ulp>), ('__file__', '/home/runner/miniconda3/envs/quantecon/lib/python3.12/lib-dynload/math.cpython-312-x86_64-linux-gnu.so'), ('pi', 3.141592653589793), ('e', 2.718281828459045), ('tau', 6.283185307179586), ('inf', inf), ('nan', nan)])"
      ]
     },
     "execution_count": 11,
     "metadata": {},
     "output_type": "execute_result"
    }
   ],
   "source": [
    "import math\n",
    "\n",
    "math.__dict__.items()"
   ]
  },
  {
   "cell_type": "code",
   "execution_count": 12,
   "id": "3b59b2bd",
   "metadata": {},
   "outputs": [
    {
     "data": {
      "text/plain": [
       "{'__name__': 'mathfoo',\n",
       " '__doc__': None,\n",
       " '__package__': '',\n",
       " '__loader__': <_frozen_importlib_external.SourceFileLoader at 0x7ffb8b7fea50>,\n",
       " '__spec__': ModuleSpec(name='mathfoo', loader=<_frozen_importlib_external.SourceFileLoader object at 0x7ffb8b7fea50>, origin='/home/runner/work/lecture-python-programming.myst/lecture-python-programming.myst/lectures/mathfoo.py'),\n",
       " '__file__': '/home/runner/work/lecture-python-programming.myst/lecture-python-programming.myst/lectures/mathfoo.py',\n",
       " '__cached__': '/home/runner/work/lecture-python-programming.myst/lecture-python-programming.myst/lectures/__pycache__/mathfoo.cpython-312.pyc',\n",
       " '__builtins__': {'__name__': 'builtins',\n",
       "  '__doc__': \"Built-in functions, types, exceptions, and other objects.\\n\\nThis module provides direct access to all 'built-in'\\nidentifiers of Python; for example, builtins.len is\\nthe full name for the built-in function len().\\n\\nThis module is not normally accessed explicitly by most\\napplications, but can be useful in modules that provide\\nobjects with the same name as a built-in value, but in\\nwhich the built-in of that name is also needed.\",\n",
       "  '__package__': '',\n",
       "  '__loader__': _frozen_importlib.BuiltinImporter,\n",
       "  '__spec__': ModuleSpec(name='builtins', loader=<class '_frozen_importlib.BuiltinImporter'>, origin='built-in'),\n",
       "  '__build_class__': <function __build_class__>,\n",
       "  '__import__': <function __import__(name, globals=None, locals=None, fromlist=(), level=0)>,\n",
       "  'abs': <function abs(x, /)>,\n",
       "  'all': <function all(iterable, /)>,\n",
       "  'any': <function any(iterable, /)>,\n",
       "  'ascii': <function ascii(obj, /)>,\n",
       "  'bin': <function bin(number, /)>,\n",
       "  'breakpoint': <function breakpoint>,\n",
       "  'callable': <function callable(obj, /)>,\n",
       "  'chr': <function chr(i, /)>,\n",
       "  'compile': <function compile(source, filename, mode, flags=0, dont_inherit=False, optimize=-1, *, _feature_version=-1)>,\n",
       "  'delattr': <function delattr(obj, name, /)>,\n",
       "  'dir': <function dir>,\n",
       "  'divmod': <function divmod(x, y, /)>,\n",
       "  'eval': <function eval(source, globals=None, locals=None, /)>,\n",
       "  'exec': <function exec(source, globals=None, locals=None, /, *, closure=None)>,\n",
       "  'format': <function format(value, format_spec='', /)>,\n",
       "  'getattr': <function getattr>,\n",
       "  'globals': <function globals()>,\n",
       "  'hasattr': <function hasattr(obj, name, /)>,\n",
       "  'hash': <function hash(obj, /)>,\n",
       "  'hex': <function hex(number, /)>,\n",
       "  'id': <function id(obj, /)>,\n",
       "  'input': <bound method Kernel.raw_input of <ipykernel.ipkernel.IPythonKernel object at 0x7ffb889cfd70>>,\n",
       "  'isinstance': <function isinstance(obj, class_or_tuple, /)>,\n",
       "  'issubclass': <function issubclass(cls, class_or_tuple, /)>,\n",
       "  'iter': <function iter>,\n",
       "  'aiter': <function aiter(async_iterable, /)>,\n",
       "  'len': <function len(obj, /)>,\n",
       "  'locals': <function locals()>,\n",
       "  'max': <function max>,\n",
       "  'min': <function min>,\n",
       "  'next': <function next>,\n",
       "  'anext': <function anext>,\n",
       "  'oct': <function oct(number, /)>,\n",
       "  'ord': <function ord(c, /)>,\n",
       "  'pow': <function pow(base, exp, mod=None)>,\n",
       "  'print': <function print(*args, sep=' ', end='\\n', file=None, flush=False)>,\n",
       "  'repr': <function repr(obj, /)>,\n",
       "  'round': <function round(number, ndigits=None)>,\n",
       "  'setattr': <function setattr(obj, name, value, /)>,\n",
       "  'sorted': <function sorted(iterable, /, *, key=None, reverse=False)>,\n",
       "  'sum': <function sum(iterable, /, start=0)>,\n",
       "  'vars': <function vars>,\n",
       "  'None': None,\n",
       "  'Ellipsis': Ellipsis,\n",
       "  'NotImplemented': NotImplemented,\n",
       "  'False': False,\n",
       "  'True': True,\n",
       "  'bool': bool,\n",
       "  'memoryview': memoryview,\n",
       "  'bytearray': bytearray,\n",
       "  'bytes': bytes,\n",
       "  'classmethod': classmethod,\n",
       "  'complex': complex,\n",
       "  'dict': dict,\n",
       "  'enumerate': enumerate,\n",
       "  'filter': filter,\n",
       "  'float': float,\n",
       "  'frozenset': frozenset,\n",
       "  'property': property,\n",
       "  'int': int,\n",
       "  'list': list,\n",
       "  'map': map,\n",
       "  'object': object,\n",
       "  'range': range,\n",
       "  'reversed': reversed,\n",
       "  'set': set,\n",
       "  'slice': slice,\n",
       "  'staticmethod': staticmethod,\n",
       "  'str': str,\n",
       "  'super': super,\n",
       "  'tuple': tuple,\n",
       "  'type': type,\n",
       "  'zip': zip,\n",
       "  '__debug__': True,\n",
       "  'BaseException': BaseException,\n",
       "  'BaseExceptionGroup': BaseExceptionGroup,\n",
       "  'Exception': Exception,\n",
       "  'GeneratorExit': GeneratorExit,\n",
       "  'KeyboardInterrupt': KeyboardInterrupt,\n",
       "  'SystemExit': SystemExit,\n",
       "  'ArithmeticError': ArithmeticError,\n",
       "  'AssertionError': AssertionError,\n",
       "  'AttributeError': AttributeError,\n",
       "  'BufferError': BufferError,\n",
       "  'EOFError': EOFError,\n",
       "  'ImportError': ImportError,\n",
       "  'LookupError': LookupError,\n",
       "  'MemoryError': MemoryError,\n",
       "  'NameError': NameError,\n",
       "  'OSError': OSError,\n",
       "  'ReferenceError': ReferenceError,\n",
       "  'RuntimeError': RuntimeError,\n",
       "  'StopAsyncIteration': StopAsyncIteration,\n",
       "  'StopIteration': StopIteration,\n",
       "  'SyntaxError': SyntaxError,\n",
       "  'SystemError': SystemError,\n",
       "  'TypeError': TypeError,\n",
       "  'ValueError': ValueError,\n",
       "  'Warning': Warning,\n",
       "  'FloatingPointError': FloatingPointError,\n",
       "  'OverflowError': OverflowError,\n",
       "  'ZeroDivisionError': ZeroDivisionError,\n",
       "  'BytesWarning': BytesWarning,\n",
       "  'DeprecationWarning': DeprecationWarning,\n",
       "  'EncodingWarning': EncodingWarning,\n",
       "  'FutureWarning': FutureWarning,\n",
       "  'ImportWarning': ImportWarning,\n",
       "  'PendingDeprecationWarning': PendingDeprecationWarning,\n",
       "  'ResourceWarning': ResourceWarning,\n",
       "  'RuntimeWarning': RuntimeWarning,\n",
       "  'SyntaxWarning': SyntaxWarning,\n",
       "  'UnicodeWarning': UnicodeWarning,\n",
       "  'UserWarning': UserWarning,\n",
       "  'BlockingIOError': BlockingIOError,\n",
       "  'ChildProcessError': ChildProcessError,\n",
       "  'ConnectionError': ConnectionError,\n",
       "  'FileExistsError': FileExistsError,\n",
       "  'FileNotFoundError': FileNotFoundError,\n",
       "  'InterruptedError': InterruptedError,\n",
       "  'IsADirectoryError': IsADirectoryError,\n",
       "  'NotADirectoryError': NotADirectoryError,\n",
       "  'PermissionError': PermissionError,\n",
       "  'ProcessLookupError': ProcessLookupError,\n",
       "  'TimeoutError': TimeoutError,\n",
       "  'IndentationError': IndentationError,\n",
       "  'IndexError': IndexError,\n",
       "  'KeyError': KeyError,\n",
       "  'ModuleNotFoundError': ModuleNotFoundError,\n",
       "  'NotImplementedError': NotImplementedError,\n",
       "  'RecursionError': RecursionError,\n",
       "  'UnboundLocalError': UnboundLocalError,\n",
       "  'UnicodeError': UnicodeError,\n",
       "  'BrokenPipeError': BrokenPipeError,\n",
       "  'ConnectionAbortedError': ConnectionAbortedError,\n",
       "  'ConnectionRefusedError': ConnectionRefusedError,\n",
       "  'ConnectionResetError': ConnectionResetError,\n",
       "  'TabError': TabError,\n",
       "  'UnicodeDecodeError': UnicodeDecodeError,\n",
       "  'UnicodeEncodeError': UnicodeEncodeError,\n",
       "  'UnicodeTranslateError': UnicodeTranslateError,\n",
       "  'ExceptionGroup': ExceptionGroup,\n",
       "  'EnvironmentError': OSError,\n",
       "  'IOError': OSError,\n",
       "  'open': <function _io.open(file, mode='r', buffering=-1, encoding=None, errors=None, newline=None, closefd=True, opener=None)>,\n",
       "  'copyright': Copyright (c) 2001-2023 Python Software Foundation.\n",
       "  All Rights Reserved.\n",
       "  \n",
       "  Copyright (c) 2000 BeOpen.com.\n",
       "  All Rights Reserved.\n",
       "  \n",
       "  Copyright (c) 1995-2001 Corporation for National Research Initiatives.\n",
       "  All Rights Reserved.\n",
       "  \n",
       "  Copyright (c) 1991-1995 Stichting Mathematisch Centrum, Amsterdam.\n",
       "  All Rights Reserved.,\n",
       "  'credits':     Thanks to CWI, CNRI, BeOpen.com, Zope Corporation and a cast of thousands\n",
       "      for supporting Python development.  See www.python.org for more information.,\n",
       "  'license': Type license() to see the full license text,\n",
       "  'help': Type help() for interactive help, or help(object) for help about object.,\n",
       "  'execfile': <function _pydev_bundle._pydev_execfile.execfile(file, glob=None, loc=None)>,\n",
       "  'runfile': <function _pydev_bundle.pydev_umd.runfile(filename, args=None, wdir=None, namespace=None)>,\n",
       "  '__IPYTHON__': True,\n",
       "  'display': <function IPython.core.display_functions.display(*objs, include=None, exclude=None, metadata=None, transient=None, display_id=None, raw=False, clear=False, **kwargs)>,\n",
       "  'get_ipython': <bound method InteractiveShell.get_ipython of <ipykernel.zmqshell.ZMQInteractiveShell object at 0x7ffb88818710>>},\n",
       " 'pi': 'foobar'}"
      ]
     },
     "execution_count": 12,
     "metadata": {},
     "output_type": "execute_result"
    }
   ],
   "source": [
    "import mathfoo\n",
    "\n",
    "mathfoo.__dict__"
   ]
  },
  {
   "cell_type": "markdown",
   "id": "fc2cf577",
   "metadata": {},
   "source": [
    "As you know, we access elements of the namespace using the dotted attribute notation"
   ]
  },
  {
   "cell_type": "code",
   "execution_count": 13,
   "id": "363ba817",
   "metadata": {},
   "outputs": [
    {
     "data": {
      "text/plain": [
       "3.141592653589793"
      ]
     },
     "execution_count": 13,
     "metadata": {},
     "output_type": "execute_result"
    }
   ],
   "source": [
    "math.pi"
   ]
  },
  {
   "cell_type": "markdown",
   "id": "46650b3e",
   "metadata": {},
   "source": [
    "This is entirely equivalent to `math.__dict__['pi']`"
   ]
  },
  {
   "cell_type": "code",
   "execution_count": 14,
   "id": "f2d1ca1b",
   "metadata": {},
   "outputs": [
    {
     "data": {
      "text/plain": [
       "3.141592653589793"
      ]
     },
     "execution_count": 14,
     "metadata": {},
     "output_type": "execute_result"
    }
   ],
   "source": [
    "math.__dict__['pi'] "
   ]
  },
  {
   "cell_type": "markdown",
   "id": "90d01756",
   "metadata": {},
   "source": [
    "## Viewing Namespaces\n",
    "\n",
    "As we saw above, the `math` namespace can be printed by typing `math.__dict__`.\n",
    "\n",
    "Another way to see its contents is to type `vars(math)`"
   ]
  },
  {
   "cell_type": "code",
   "execution_count": 15,
   "id": "cee1d4ab",
   "metadata": {},
   "outputs": [
    {
     "data": {
      "text/plain": [
       "dict_items([('__name__', 'math'), ('__doc__', 'This module provides access to the mathematical functions\\ndefined by the C standard.'), ('__package__', ''), ('__loader__', <_frozen_importlib_external.ExtensionFileLoader object at 0x7ffb8b5aa5d0>), ('__spec__', ModuleSpec(name='math', loader=<_frozen_importlib_external.ExtensionFileLoader object at 0x7ffb8b5aa5d0>, origin='/home/runner/miniconda3/envs/quantecon/lib/python3.12/lib-dynload/math.cpython-312-x86_64-linux-gnu.so')), ('acos', <built-in function acos>), ('acosh', <built-in function acosh>), ('asin', <built-in function asin>), ('asinh', <built-in function asinh>), ('atan', <built-in function atan>), ('atan2', <built-in function atan2>), ('atanh', <built-in function atanh>), ('cbrt', <built-in function cbrt>), ('ceil', <built-in function ceil>), ('copysign', <built-in function copysign>), ('cos', <built-in function cos>), ('cosh', <built-in function cosh>), ('degrees', <built-in function degrees>), ('dist', <built-in function dist>), ('erf', <built-in function erf>), ('erfc', <built-in function erfc>), ('exp', <built-in function exp>), ('exp2', <built-in function exp2>), ('expm1', <built-in function expm1>), ('fabs', <built-in function fabs>), ('factorial', <built-in function factorial>), ('floor', <built-in function floor>), ('fmod', <built-in function fmod>), ('frexp', <built-in function frexp>), ('fsum', <built-in function fsum>), ('gamma', <built-in function gamma>), ('gcd', <built-in function gcd>), ('hypot', <built-in function hypot>), ('isclose', <built-in function isclose>), ('isfinite', <built-in function isfinite>), ('isinf', <built-in function isinf>), ('isnan', <built-in function isnan>), ('isqrt', <built-in function isqrt>), ('lcm', <built-in function lcm>), ('ldexp', <built-in function ldexp>), ('lgamma', <built-in function lgamma>), ('log', <built-in function log>), ('log1p', <built-in function log1p>), ('log10', <built-in function log10>), ('log2', <built-in function log2>), ('modf', <built-in function modf>), ('pow', <built-in function pow>), ('radians', <built-in function radians>), ('remainder', <built-in function remainder>), ('sin', <built-in function sin>), ('sinh', <built-in function sinh>), ('sqrt', <built-in function sqrt>), ('tan', <built-in function tan>), ('tanh', <built-in function tanh>), ('sumprod', <built-in function sumprod>), ('trunc', <built-in function trunc>), ('prod', <built-in function prod>), ('perm', <built-in function perm>), ('comb', <built-in function comb>), ('nextafter', <built-in function nextafter>), ('ulp', <built-in function ulp>), ('__file__', '/home/runner/miniconda3/envs/quantecon/lib/python3.12/lib-dynload/math.cpython-312-x86_64-linux-gnu.so'), ('pi', 3.141592653589793), ('e', 2.718281828459045), ('tau', 6.283185307179586), ('inf', inf), ('nan', nan)])"
      ]
     },
     "execution_count": 15,
     "metadata": {},
     "output_type": "execute_result"
    }
   ],
   "source": [
    "vars(math).items()"
   ]
  },
  {
   "cell_type": "markdown",
   "id": "3eddca26",
   "metadata": {},
   "source": [
    "If you just want to see the names, you can type"
   ]
  },
  {
   "cell_type": "code",
   "execution_count": 16,
   "id": "f8fbdfe1",
   "metadata": {},
   "outputs": [
    {
     "data": {
      "text/plain": [
       "['__doc__',\n",
       " '__file__',\n",
       " '__loader__',\n",
       " '__name__',\n",
       " '__package__',\n",
       " '__spec__',\n",
       " 'acos',\n",
       " 'acosh',\n",
       " 'asin',\n",
       " 'asinh']"
      ]
     },
     "execution_count": 16,
     "metadata": {},
     "output_type": "execute_result"
    }
   ],
   "source": [
    "# Show the first 10 names\n",
    "dir(math)[0:10]"
   ]
  },
  {
   "cell_type": "markdown",
   "id": "a066b74b",
   "metadata": {},
   "source": [
    "Notice the special names `__doc__` and `__name__`.\n",
    "\n",
    "These are initialized in the namespace when any module is imported\n",
    "\n",
    "* `__doc__` is the doc string of the module\n",
    "* `__name__` is the name of the module"
   ]
  },
  {
   "cell_type": "code",
   "execution_count": 17,
   "id": "35e5d881",
   "metadata": {},
   "outputs": [
    {
     "name": "stdout",
     "output_type": "stream",
     "text": [
      "This module provides access to the mathematical functions\n",
      "defined by the C standard.\n"
     ]
    }
   ],
   "source": [
    "print(math.__doc__)"
   ]
  },
  {
   "cell_type": "code",
   "execution_count": 18,
   "id": "fd03092c",
   "metadata": {},
   "outputs": [
    {
     "data": {
      "text/plain": [
       "'math'"
      ]
     },
     "execution_count": 18,
     "metadata": {},
     "output_type": "execute_result"
    }
   ],
   "source": [
    "math.__name__"
   ]
  },
  {
   "cell_type": "markdown",
   "id": "cbc2f09c",
   "metadata": {},
   "source": [
    "## Interactive Sessions\n",
    "\n",
    "```{index} single: Python; Interpreter\n",
    "```\n",
    "\n",
    "In Python, **all** code executed by the interpreter runs in some module.\n",
    "\n",
    "What about commands typed at the prompt?\n",
    "\n",
    "These are also regarded as being executed within a module --- in this case, a module called `__main__`.\n",
    "\n",
    "To check this, we can look at the current module name via the value of `__name__` given at the prompt"
   ]
  },
  {
   "cell_type": "code",
   "execution_count": 19,
   "id": "4a2513d1",
   "metadata": {},
   "outputs": [
    {
     "name": "stdout",
     "output_type": "stream",
     "text": [
      "__main__\n"
     ]
    }
   ],
   "source": [
    "print(__name__)"
   ]
  },
  {
   "cell_type": "markdown",
   "id": "6d67a2ec",
   "metadata": {},
   "source": [
    "When we run a script using IPython's `run` command, the contents of the file are executed as part of `__main__` too.\n",
    "\n",
    "To see this, let's create a file `mod.py` that prints its own `__name__` attribute"
   ]
  },
  {
   "cell_type": "code",
   "execution_count": 20,
   "id": "d1a39df3",
   "metadata": {},
   "outputs": [
    {
     "name": "stdout",
     "output_type": "stream",
     "text": [
      "Writing mod.py\n"
     ]
    }
   ],
   "source": [
    "%%file mod.py\n",
    "print(__name__)"
   ]
  },
  {
   "cell_type": "markdown",
   "id": "6cdc5272",
   "metadata": {},
   "source": [
    "Now let's look at two different ways of running it in IPython"
   ]
  },
  {
   "cell_type": "code",
   "execution_count": 21,
   "id": "1bf9681f",
   "metadata": {},
   "outputs": [
    {
     "name": "stdout",
     "output_type": "stream",
     "text": [
      "mod\n"
     ]
    }
   ],
   "source": [
    "import mod  # Standard import"
   ]
  },
  {
   "cell_type": "code",
   "execution_count": 22,
   "id": "4308fe11",
   "metadata": {},
   "outputs": [
    {
     "name": "stdout",
     "output_type": "stream",
     "text": [
      "__main__\n"
     ]
    }
   ],
   "source": [
    "%run mod.py  # Run interactively"
   ]
  },
  {
   "cell_type": "markdown",
   "id": "1dcfa01f",
   "metadata": {},
   "source": [
    "In the second case, the code is executed as part of `__main__`, so `__name__` is equal to `__main__`.\n",
    "\n",
    "To see the contents of the namespace of `__main__` we use `vars()` rather than `vars(__main__)`.\n",
    "\n",
    "If you do this in IPython, you will see a whole lot of variables that IPython\n",
    "needs, and has initialized when you started up your session.\n",
    "\n",
    "If you prefer to see only the variables you have initialized, use `%whos`"
   ]
  },
  {
   "cell_type": "code",
   "execution_count": 23,
   "id": "caf63d1f",
   "metadata": {},
   "outputs": [
    {
     "name": "stdout",
     "output_type": "stream",
     "text": [
      "Variable   Type        Data/Info\n",
      "--------------------------------\n",
      "f          function    <function f at 0x7ffb8884d760>\n",
      "g          function    <function f at 0x7ffb8884d760>\n",
      "math       module      <module 'math' from '/hom<...>312-x86_64-linux-gnu.so'>\n",
      "mathfoo    module      <module 'mathfoo' from '/<...>yst/lectures/mathfoo.py'>\n",
      "mod        module      <module 'mod' from '/home<...>ng.myst/lectures/mod.py'>\n",
      "np         module      <module 'numpy' from '/ho<...>kages/numpy/__init__.py'>\n",
      "x          int         2\n",
      "y          int         3\n"
     ]
    }
   ],
   "source": [
    "x = 2\n",
    "y = 3\n",
    "\n",
    "import numpy as np\n",
    "\n",
    "%whos"
   ]
  },
  {
   "cell_type": "markdown",
   "id": "26381082",
   "metadata": {},
   "source": [
    "## The Global Namespace\n",
    "\n",
    "```{index} single: Python; Namespace (Global)\n",
    "```\n",
    "\n",
    "Python documentation often makes reference to the \"global namespace\".\n",
    "\n",
    "The global namespace is *the namespace of the module currently being executed*.\n",
    "\n",
    "For example, suppose that we start the interpreter and begin making assignments.\n",
    "\n",
    "We are now working in the module `__main__`, and hence the namespace for `__main__` is the global namespace.\n",
    "\n",
    "Next, we import a module called `amodule`\n",
    "\n",
    "```{code-block} python3\n",
    ":class: no-execute\n",
    "\n",
    "import amodule\n",
    "```\n",
    "\n",
    "At this point, the interpreter creates a namespace for the module `amodule` and starts executing commands in the module.\n",
    "\n",
    "While this occurs, the namespace `amodule.__dict__` is the global namespace.\n",
    "\n",
    "Once execution of the module finishes, the interpreter returns to the module from where the import statement was made.\n",
    "\n",
    "In this case it's `__main__`, so the namespace of `__main__` again becomes the global namespace.\n",
    "\n",
    "## Local Namespaces\n",
    "\n",
    "```{index} single: Python; Namespace (Local)\n",
    "```\n",
    "\n",
    "Important fact: When we call a function, the interpreter creates a *local namespace* for that function, and registers the variables in that namespace.\n",
    "\n",
    "The reason for this will be explained in just a moment.\n",
    "\n",
    "Variables in the local namespace are called *local variables*.\n",
    "\n",
    "After the function returns, the namespace is deallocated and lost.\n",
    "\n",
    "While the function is executing, we can view the contents of the local namespace with `locals()`.\n",
    "\n",
    "For example, consider"
   ]
  },
  {
   "cell_type": "code",
   "execution_count": 24,
   "id": "4ed8bd6e",
   "metadata": {},
   "outputs": [],
   "source": [
    "def f(x):\n",
    "    a = 2\n",
    "    print(locals())\n",
    "    return a * x"
   ]
  },
  {
   "cell_type": "markdown",
   "id": "3db2994e",
   "metadata": {},
   "source": [
    "Now let's call the function"
   ]
  },
  {
   "cell_type": "code",
   "execution_count": 25,
   "id": "bab88d14",
   "metadata": {},
   "outputs": [
    {
     "name": "stdout",
     "output_type": "stream",
     "text": [
      "{'x': 1, 'a': 2}\n"
     ]
    },
    {
     "data": {
      "text/plain": [
       "2"
      ]
     },
     "execution_count": 25,
     "metadata": {},
     "output_type": "execute_result"
    }
   ],
   "source": [
    "f(1)"
   ]
  },
  {
   "cell_type": "markdown",
   "id": "9e0b71c5",
   "metadata": {},
   "source": [
    "You can see the local namespace of `f` before it is destroyed.\n",
    "\n",
    "## The `__builtins__` Namespace\n",
    "\n",
    "```{index} single: Python; Namespace (__builtins__)\n",
    "```\n",
    "\n",
    "We have been using various built-in functions, such as `max(), dir(), str(), list(), len(), range(), type()`, etc.\n",
    "\n",
    "How does access to these names work?\n",
    "\n",
    "* These definitions are stored in a module called `__builtin__`.\n",
    "* They have their own namespace called `__builtins__`."
   ]
  },
  {
   "cell_type": "code",
   "execution_count": 26,
   "id": "8e9a485d",
   "metadata": {},
   "outputs": [
    {
     "data": {
      "text/plain": [
       "['In', 'Out', '_', '_10', '_11', '_12', '_13', '_14', '_15', '_16']"
      ]
     },
     "execution_count": 26,
     "metadata": {},
     "output_type": "execute_result"
    }
   ],
   "source": [
    "# Show the first 10 names in `__main__`\n",
    "dir()[0:10]"
   ]
  },
  {
   "cell_type": "code",
   "execution_count": 27,
   "id": "88ad56f9",
   "metadata": {},
   "outputs": [
    {
     "data": {
      "text/plain": [
       "['ArithmeticError',\n",
       " 'AssertionError',\n",
       " 'AttributeError',\n",
       " 'BaseException',\n",
       " 'BaseExceptionGroup',\n",
       " 'BlockingIOError',\n",
       " 'BrokenPipeError',\n",
       " 'BufferError',\n",
       " 'BytesWarning',\n",
       " 'ChildProcessError']"
      ]
     },
     "execution_count": 27,
     "metadata": {},
     "output_type": "execute_result"
    }
   ],
   "source": [
    "# Show the first 10 names in `__builtins__`\n",
    "dir(__builtins__)[0:10]"
   ]
  },
  {
   "cell_type": "markdown",
   "id": "f7ab9eff",
   "metadata": {},
   "source": [
    "We can access elements of the namespace as follows"
   ]
  },
  {
   "cell_type": "code",
   "execution_count": 28,
   "id": "6ad37a6d",
   "metadata": {},
   "outputs": [
    {
     "data": {
      "text/plain": [
       "<function max>"
      ]
     },
     "execution_count": 28,
     "metadata": {},
     "output_type": "execute_result"
    }
   ],
   "source": [
    "__builtins__.max"
   ]
  },
  {
   "cell_type": "markdown",
   "id": "ee078a86",
   "metadata": {},
   "source": [
    "But `__builtins__` is special, because we can always access them directly as well"
   ]
  },
  {
   "cell_type": "code",
   "execution_count": 29,
   "id": "3c24ef49",
   "metadata": {},
   "outputs": [
    {
     "data": {
      "text/plain": [
       "<function max>"
      ]
     },
     "execution_count": 29,
     "metadata": {},
     "output_type": "execute_result"
    }
   ],
   "source": [
    "max"
   ]
  },
  {
   "cell_type": "code",
   "execution_count": 30,
   "id": "51ba8394",
   "metadata": {},
   "outputs": [
    {
     "data": {
      "text/plain": [
       "True"
      ]
     },
     "execution_count": 30,
     "metadata": {},
     "output_type": "execute_result"
    }
   ],
   "source": [
    "__builtins__.max == max"
   ]
  },
  {
   "cell_type": "markdown",
   "id": "2a0ccbb7",
   "metadata": {},
   "source": [
    "The next section explains how this works ...\n",
    "\n",
    "## Name Resolution\n",
    "\n",
    "```{index} single: Python; Namespace (Resolution)\n",
    "```\n",
    "\n",
    "Namespaces are great because they help us organize variable names.\n",
    "\n",
    "(Type `import this` at the prompt and look at the last item that's printed)\n",
    "\n",
    "However, we do need to understand how the Python interpreter works with multiple namespaces.\n",
    "\n",
    "Understanding the flow of execution will help us to check which variables are in scope and how to operate on them when writing and debugging programs.\n",
    "\n",
    "\n",
    "At any point of execution, there are in fact at least two namespaces that can be accessed directly.\n",
    "\n",
    "(\"Accessed directly\" means without using a dot, as in  `pi` rather than `math.pi`)\n",
    "\n",
    "These namespaces are\n",
    "\n",
    "* The global namespace (of the module being executed)\n",
    "* The builtin namespace\n",
    "\n",
    "If the interpreter is executing a function, then the directly accessible namespaces are\n",
    "\n",
    "* The local namespace of the function\n",
    "* The global namespace (of the module being executed)\n",
    "* The builtin namespace\n",
    "\n",
    "Sometimes functions are defined within other functions, like so"
   ]
  },
  {
   "cell_type": "code",
   "execution_count": 31,
   "id": "e17d68e0",
   "metadata": {},
   "outputs": [],
   "source": [
    "def f():\n",
    "    a = 2\n",
    "    def g():\n",
    "        b = 4\n",
    "        print(a * b)\n",
    "    g()"
   ]
  },
  {
   "cell_type": "markdown",
   "id": "8c2fdd42",
   "metadata": {},
   "source": [
    "Here `f` is the *enclosing function* for `g`, and each function gets its\n",
    "own namespaces.\n",
    "\n",
    "Now we can give the rule for how namespace resolution works:\n",
    "\n",
    "The order in which the interpreter searches for names is\n",
    "\n",
    "1. the local namespace (if it exists)\n",
    "1. the hierarchy of enclosing namespaces (if they exist)\n",
    "1. the global namespace\n",
    "1. the builtin namespace\n",
    "\n",
    "If the name is not in any of these namespaces, the interpreter raises a `NameError`.\n",
    "\n",
    "This is called the **LEGB rule** (local, enclosing, global, builtin).\n",
    "\n",
    "Here's an example that helps to illustrate.\n",
    "\n",
    "Visualizations here are created by [nbtutor](https://github.com/lgpage/nbtutor) in a Jupyter notebook.\n",
    "\n",
    "They can help you better understand your program when you are learning a new language.\n",
    "\n",
    "Consider a script `test.py` that looks as follows"
   ]
  },
  {
   "cell_type": "code",
   "execution_count": 32,
   "id": "ddbaa7ae",
   "metadata": {},
   "outputs": [
    {
     "name": "stdout",
     "output_type": "stream",
     "text": [
      "Writing test.py\n"
     ]
    }
   ],
   "source": [
    "%%file test.py\n",
    "def g(x):\n",
    "    a = 1\n",
    "    x = x + a\n",
    "    return x\n",
    "\n",
    "a = 0\n",
    "y = g(10)\n",
    "print(\"a = \", a, \"y = \", y)"
   ]
  },
  {
   "cell_type": "markdown",
   "id": "6954d542",
   "metadata": {},
   "source": [
    "What happens when we run this script?"
   ]
  },
  {
   "cell_type": "code",
   "execution_count": 33,
   "id": "35c463c2",
   "metadata": {},
   "outputs": [
    {
     "name": "stdout",
     "output_type": "stream",
     "text": [
      "a =  0 y =  11\n"
     ]
    }
   ],
   "source": [
    "%run test.py"
   ]
  },
  {
   "cell_type": "markdown",
   "id": "405ffbf7",
   "metadata": {},
   "source": [
    "First,\n",
    "\n",
    "* The global namespace `{}` is created.\n",
    "\n",
    "```{figure} /_static/lecture_specific/oop_intro/global.png\n",
    "```\n",
    "\n",
    "* The function object is created, and `g` is bound to it within the global namespace.\n",
    "* The name `a` is bound to `0`, again in the global namespace.\n",
    "\n",
    "```{figure} /_static/lecture_specific/oop_intro/global2.png\n",
    "```\n",
    "\n",
    "Next `g` is called via `y = g(10)`, leading to the following sequence of actions\n",
    "\n",
    "* The local namespace for the function is created.\n",
    "* Local names `x` and `a` are bound, so that the local namespace becomes `{'x': 10, 'a': 1}`.\n",
    "\n",
    "Note that the global `a` was not affected by the local `a`.\n",
    "\n",
    "```{figure} /_static/lecture_specific/oop_intro/local1.png\n",
    "```\n",
    "\n",
    "\n",
    "* Statement `x = x + a` uses the local `a` and local `x` to compute `x + a`, and binds local name `x` to the result. \n",
    "* This value is returned, and `y` is bound to it in the global namespace.\n",
    "* Local `x` and `a` are discarded (and the local namespace is deallocated).\n",
    "\n",
    "```{figure} /_static/lecture_specific/oop_intro/local_return.png\n",
    "```\n",
    "\n",
    "\n",
    "(mutable_vs_immutable)=\n",
    "### {index}`Mutable <single: Mutable>` Versus {index}`Immutable <single: Immutable>` Parameters\n",
    "\n",
    "This is a good time to say a little more about mutable vs immutable objects.\n",
    "\n",
    "Consider the code segment"
   ]
  },
  {
   "cell_type": "code",
   "execution_count": 34,
   "id": "cf0e1431",
   "metadata": {},
   "outputs": [
    {
     "name": "stdout",
     "output_type": "stream",
     "text": [
      "2 1\n"
     ]
    }
   ],
   "source": [
    "def f(x):\n",
    "    x = x + 1\n",
    "    return x\n",
    "\n",
    "x = 1\n",
    "print(f(x), x)"
   ]
  },
  {
   "cell_type": "markdown",
   "id": "d3e11dc3",
   "metadata": {},
   "source": [
    "We now understand what will happen here: The code prints `2` as the value of `f(x)` and `1` as the value of `x`.\n",
    "\n",
    "First `f` and `x` are registered in the global namespace.\n",
    "\n",
    "The call `f(x)` creates a local namespace and adds `x` to it, bound to `1`.\n",
    "\n",
    "Next, this local `x` is rebound to the new integer object `2`, and this value is returned.\n",
    "\n",
    "None of this affects the global `x`.\n",
    "\n",
    "However, it's a different story when we use a **mutable** data type such as a list"
   ]
  },
  {
   "cell_type": "code",
   "execution_count": 35,
   "id": "bc3c232f",
   "metadata": {},
   "outputs": [
    {
     "name": "stdout",
     "output_type": "stream",
     "text": [
      "[2] [2]\n"
     ]
    }
   ],
   "source": [
    "def f(x):\n",
    "    x[0] = x[0] + 1\n",
    "    return x\n",
    "\n",
    "x = [1]\n",
    "print(f(x), x)"
   ]
  },
  {
   "cell_type": "markdown",
   "id": "9bd86985",
   "metadata": {},
   "source": [
    "This prints `[2]` as the value of `f(x)` and *same* for `x`.\n",
    "\n",
    "Here's what happens\n",
    "\n",
    "* `f` is registered as a function in the global namespace\n",
    "\n",
    "```{figure} /_static/lecture_specific/oop_intro/mutable1.png\n",
    "```\n",
    "\n",
    "* `x` is bound to `[1]` in the global namespace\n",
    "\n",
    "```{figure} /_static/lecture_specific/oop_intro/mutable2.png\n",
    "```\n",
    "\n",
    "* The call `f(x)`\n",
    "    * Creates a local namespace\n",
    "    * Adds `x` to the local namespace, bound to `[1]`\n",
    "\n",
    "```{figure} /_static/lecture_specific/oop_intro/mutable3.png\n",
    "```\n",
    "\n",
    "```{note}\n",
    "The global `x` and the local `x` refer to the same `[1]`\n",
    "```\n",
    "\n",
    "We can see the identity of local `x` and the identity of global `x` are the same"
   ]
  },
  {
   "cell_type": "code",
   "execution_count": 36,
   "id": "93c578df",
   "metadata": {},
   "outputs": [
    {
     "name": "stdout",
     "output_type": "stream",
     "text": [
      "the identity of global x is 140717959914048\n",
      "the identity of local x is 140717959914048\n",
      "[2] [2]\n"
     ]
    }
   ],
   "source": [
    "def f(x):\n",
    "    x[0] = x[0] + 1\n",
    "    print(f'the identity of local x is {id(x)}')\n",
    "    return x\n",
    "\n",
    "x = [1]\n",
    "print(f'the identity of global x is {id(x)}')\n",
    "print(f(x), x)"
   ]
  },
  {
   "cell_type": "markdown",
   "id": "c7d6140f",
   "metadata": {},
   "source": [
    "* Within `f(x)`\n",
    "    * The list `[1]` is modified to `[2]`\n",
    "    * Returns the list `[2]`\n",
    "\n",
    "```{figure} /_static/lecture_specific/oop_intro/mutable4.png\n",
    "```\n",
    "* The local namespace is deallocated, and the local `x` is lost\n",
    "\n",
    "```{figure} /_static/lecture_specific/oop_intro/mutable5.png\n",
    "```\n",
    "\n",
    "If you want to modify the local `x` and the global `x` separately, you can create a [*copy*](https://docs.python.org/3/library/copy.html) of the list and assign the copy to the local `x`. \n",
    "\n",
    "We will leave this for you to explore."
   ]
  }
 ],
 "metadata": {
  "jupytext": {
   "text_representation": {
    "extension": ".md",
    "format_name": "myst"
   }
  },
  "kernelspec": {
   "display_name": "Python 3",
   "language": "python",
   "name": "python3"
  },
  "language_info": {
   "codemirror_mode": {
    "name": "ipython",
    "version": 3
   },
   "file_extension": ".py",
   "mimetype": "text/x-python",
   "name": "python",
   "nbconvert_exporter": "python",
   "pygments_lexer": "ipython3",
   "version": "3.12.7"
  },
  "source_map": [
   10,
   42,
   44,
   60,
   68,
   70,
   80,
   85,
   104,
   106,
   125,
   128,
   132,
   134,
   138,
   140,
   144,
   148,
   150,
   156,
   162,
   166,
   170,
   172,
   176,
   178,
   186,
   188,
   192,
   195,
   204,
   208,
   210,
   225,
   227,
   233,
   236,
   240,
   244,
   246,
   257,
   264,
   312,
   317,
   321,
   323,
   339,
   344,
   347,
   351,
   353,
   357,
   361,
   363,
   398,
   405,
   431,
   441,
   445,
   447,
   488,
   495,
   509,
   516,
   545,
   554
  ]
 },
 "nbformat": 4,
 "nbformat_minor": 5
}