{
 "cells": [
  {
   "cell_type": "markdown",
   "id": "36d17f09",
   "metadata": {},
   "source": [
    "# Execution Statistics\n",
    "\n",
    "This table contains the latest execution statistics.\n",
    "\n",
    "|Document|Modified|Method|Run Time (s)|Status|\n",
    "|:------------------:|:------------------:|:------------------:|:------------------:|:------------------:|\n",
    "|about_py|2021-11-19 08:22|cache|4.02|✅|\n",
    "|debugging|2021-11-19 08:22|cache|2.25|✅|\n",
    "|functions|2021-11-19 08:22|cache|3.02|✅|\n",
    "|getting_started|2021-11-19 08:22|cache|2.46|✅|\n",
    "|intro|2021-11-19 08:22|cache|1.26|✅|\n",
    "|matplotlib|2021-11-19 08:22|cache|3.96|✅|\n",
    "|need_for_speed|2021-11-19 08:22|cache|13.83|✅|\n",
    "|numba|2021-11-19 08:22|cache|35.55|✅|\n",
    "|numpy|2021-11-19 08:22|cache|2.3|✅|\n",
    "|oop_intro|2021-11-19 08:22|cache|1.19|✅|\n",
    "|pandas|2021-11-19 08:22|cache|12.9|✅|\n",
    "|parallelization|2021-11-19 08:22|cache|46.03|✅|\n",
    "|python_advanced_features|2021-11-19 08:22|cache|38.82|✅|\n",
    "|python_by_example|2021-11-19 08:22|cache|3.69|✅|\n",
    "|python_essentials|2021-11-19 08:22|cache|1.78|✅|\n",
    "|python_oop|2021-11-19 08:22|cache|4.02|✅|\n",
    "|scipy|2021-11-19 08:22|cache|26.16|✅|\n",
    "|status|2021-11-19 08:22|cache|1.26|✅|\n",
    "|troubleshooting|2021-11-19 08:22|cache|1.26|✅|\n",
    "|writing_good_code|2021-11-19 08:22|cache|3.5|✅|\n",
    "These lectures are built on `linux` instances through `github actions` so are\n",
    "executed using the following [hardware specifications](https://docs.github.com/en/actions/reference/specifications-for-github-hosted-runners#supported-runners-and-hardware-resources)"
   ]
  }
 ],
 "metadata": {
  "date": 1637310180.622041,
  "filename": "status.md",
  "kernelspec": {
   "display_name": "Python",
   "language": "python3",
   "name": "python3"
  },
  "title": "Execution Statistics"
 },
 "nbformat": 4,
 "nbformat_minor": 5
}