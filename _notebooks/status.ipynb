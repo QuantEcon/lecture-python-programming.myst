{
 "cells": [
  {
   "cell_type": "markdown",
   "id": "4db67636",
   "metadata": {},
   "source": [
    "# Execution Statistics\n",
    "\n",
    "This table contains the latest execution statistics.\n",
    "\n",
    "|Document|Modified|Method|Run Time (s)|Status|\n",
    "|:------------------:|:------------------:|:------------------:|:------------------:|:------------------:|\n",
    "|about_py|2022-11-01 06:33|cache|5.02|✅|\n",
    "|debugging|2022-11-01 06:33|cache|3.8|✅|\n",
    "|functions|2022-11-01 06:33|cache|3.35|✅|\n",
    "|getting_started|2022-11-01 06:33|cache|3.5|✅|\n",
    "|intro|2022-11-01 06:33|cache|1.32|✅|\n",
    "|matplotlib|2022-11-01 06:33|cache|8.02|✅|\n",
    "|need_for_speed|2022-11-01 06:33|cache|12.02|✅|\n",
    "|numba|2022-11-01 06:33|cache|19.02|✅|\n",
    "|numpy|2022-11-01 06:33|cache|13.02|✅|\n",
    "|oop_intro|2022-11-01 06:33|cache|2.55|✅|\n",
    "|pandas|2022-11-01 06:33|cache|20.02|✅|\n",
    "|parallelization|2022-11-01 06:33|cache|54.75|✅|\n",
    "|python_advanced_features|2022-11-01 06:33|cache|44.46|✅|\n",
    "|python_by_example|2022-11-01 06:33|cache|12.02|✅|\n",
    "|python_essentials|2022-11-01 06:33|cache|2.71|✅|\n",
    "|python_oop|2022-11-01 06:33|cache|5.02|✅|\n",
    "|scipy|2022-11-01 06:33|cache|24.7|✅|\n",
    "|status|2022-11-01 06:33|cache|1.32|✅|\n",
    "|troubleshooting|2022-11-01 06:33|cache|1.32|✅|\n",
    "|writing_good_code|2022-11-01 06:33|cache|4.67|✅|\n",
    "These lectures are built on `linux` instances through `github actions` so are\n",
    "executed using the following [hardware specifications](https://docs.github.com/en/actions/reference/specifications-for-github-hosted-runners#supported-runners-and-hardware-resources)"
   ]
  }
 ],
 "metadata": {
  "date": 1667284429.2784507,
  "filename": "status.md",
  "kernelspec": {
   "display_name": "Python",
   "language": "python3",
   "name": "python3"
  },
  "title": "Execution Statistics"
 },
 "nbformat": 4,
 "nbformat_minor": 5
}