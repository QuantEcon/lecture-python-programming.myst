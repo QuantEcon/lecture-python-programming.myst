{
 "cells": [
  {
   "cell_type": "markdown",
   "id": "934c43bd",
   "metadata": {},
   "source": [
    "# Execution Statistics\n",
    "\n",
    "This table contains the latest execution statistics.\n",
    "\n",
    "|Document|Modified|Method|Run Time (s)|Status|\n",
    "|:------------------:|:------------------:|:------------------:|:------------------:|:------------------:|\n",
    "|about_py|2022-11-01 07:07|cache|3.95|✅|\n",
    "|debugging|2022-11-01 07:07|cache|3.69|✅|\n",
    "|functions|2022-11-01 07:07|cache|3.0|✅|\n",
    "|getting_started|2022-11-01 07:07|cache|3.42|✅|\n",
    "|intro|2022-11-01 07:07|cache|1.19|✅|\n",
    "|matplotlib|2022-11-01 07:07|cache|6.78|✅|\n",
    "|need_for_speed|2022-11-01 07:07|cache|10.92|✅|\n",
    "|numba|2022-11-01 07:07|cache|19.55|✅|\n",
    "|numpy|2022-11-01 07:07|cache|13.02|✅|\n",
    "|oop_intro|2022-11-01 07:07|cache|2.4|✅|\n",
    "|pandas|2022-11-01 07:07|cache|18.54|✅|\n",
    "|parallelization|2022-11-01 07:07|cache|52.66|✅|\n",
    "|python_advanced_features|2022-11-01 07:07|cache|44.21|✅|\n",
    "|python_by_example|2022-11-01 07:07|cache|10.31|✅|\n",
    "|python_essentials|2022-11-01 07:07|cache|2.44|✅|\n",
    "|python_oop|2022-11-01 07:07|cache|3.92|✅|\n",
    "|scipy|2022-11-01 07:07|cache|25.02|✅|\n",
    "|status|2022-11-01 07:07|cache|1.19|✅|\n",
    "|troubleshooting|2022-11-01 07:08|cache|1.19|✅|\n",
    "|writing_good_code|2022-11-01 07:08|cache|4.34|✅|\n",
    "These lectures are built on `linux` instances through `github actions` so are\n",
    "executed using the following [hardware specifications](https://docs.github.com/en/actions/reference/specifications-for-github-hosted-runners#supported-runners-and-hardware-resources)"
   ]
  }
 ],
 "metadata": {
  "date": 1667286483.492598,
  "filename": "status.md",
  "kernelspec": {
   "display_name": "Python",
   "language": "python3",
   "name": "python3"
  },
  "title": "Execution Statistics"
 },
 "nbformat": 4,
 "nbformat_minor": 5
}