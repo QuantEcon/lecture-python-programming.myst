{
 "cells": [
  {
   "cell_type": "markdown",
   "id": "3e2a0c85",
   "metadata": {},
   "source": [
    "# Execution Statistics\n",
    "\n",
    "This table contains the latest execution statistics.\n",
    "\n",
    "|Document|Modified|Method|Run Time (s)|Status|\n",
    "|:------------------:|:------------------:|:------------------:|:------------------:|:------------------:|\n",
    "|about_py|2022-11-01 22:37|cache|5.02|✅|\n",
    "|debugging|2022-11-01 22:37|cache|3.69|✅|\n",
    "|functions|2022-11-01 22:37|cache|3.31|✅|\n",
    "|getting_started|2022-11-01 22:37|cache|3.54|✅|\n",
    "|intro|2022-11-01 22:37|cache|1.45|✅|\n",
    "|matplotlib|2022-11-01 22:37|cache|8.02|✅|\n",
    "|need_for_speed|2022-11-01 22:37|cache|11.54|✅|\n",
    "|numba|2022-11-01 22:37|cache|17.47|✅|\n",
    "|numpy|2022-11-01 22:37|cache|15.02|✅|\n",
    "|oop_intro|2022-11-01 22:37|cache|2.64|✅|\n",
    "|pandas|2022-11-01 22:37|cache|20.45|✅|\n",
    "|parallelization|2022-11-01 22:37|cache|57.04|✅|\n",
    "|python_advanced_features|2022-11-01 22:37|cache|44.38|✅|\n",
    "|python_by_example|2022-11-01 22:37|cache|10.53|✅|\n",
    "|python_essentials|2022-11-01 22:37|cache|2.48|✅|\n",
    "|python_oop|2022-11-01 22:37|cache|3.92|✅|\n",
    "|scipy|2022-11-01 22:37|cache|12.81|✅|\n",
    "|status|2022-11-01 22:37|cache|1.45|✅|\n",
    "|troubleshooting|2022-11-01 22:37|cache|1.45|✅|\n",
    "|writing_good_code|2022-11-01 22:37|cache|4.58|✅|\n",
    "These lectures are built on `linux` instances through `github actions` so are\n",
    "executed using the following [hardware specifications](https://docs.github.com/en/actions/reference/specifications-for-github-hosted-runners#supported-runners-and-hardware-resources)"
   ]
  }
 ],
 "metadata": {
  "date": 1667342238.9363732,
  "filename": "status.md",
  "kernelspec": {
   "display_name": "Python",
   "language": "python3",
   "name": "python3"
  },
  "title": "Execution Statistics"
 },
 "nbformat": 4,
 "nbformat_minor": 5
}