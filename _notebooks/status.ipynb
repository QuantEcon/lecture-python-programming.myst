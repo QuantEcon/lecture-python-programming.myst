{
 "cells": [
  {
   "cell_type": "markdown",
   "id": "f7b1e247",
   "metadata": {},
   "source": [
    "# Execution Statistics\n",
    "\n",
    "This table contains the latest execution statistics.\n",
    "\n",
    "|Document|Modified|Method|Run Time (s)|Status|\n",
    "|:------------------:|:------------------:|:------------------:|:------------------:|:------------------:|\n",
    "|about_py|2022-11-01 21:34|cache|4.46|✅|\n",
    "|debugging|2022-11-01 21:34|cache|3.7|✅|\n",
    "|functions|2022-11-01 21:34|cache|3.28|✅|\n",
    "|getting_started|2022-11-01 21:34|cache|3.52|✅|\n",
    "|intro|2022-11-01 21:34|cache|1.37|✅|\n",
    "|matplotlib|2022-11-01 21:34|cache|8.02|✅|\n",
    "|need_for_speed|2022-11-01 21:34|cache|11.57|✅|\n",
    "|numba|2022-11-01 21:34|cache|19.87|✅|\n",
    "|numpy|2022-11-01 21:34|cache|12.58|✅|\n",
    "|oop_intro|2022-11-01 21:34|cache|2.67|✅|\n",
    "|pandas|2022-11-01 21:34|cache|19.41|✅|\n",
    "|parallelization|2022-11-01 21:34|cache|54.03|✅|\n",
    "|python_advanced_features|2022-11-01 21:34|cache|45.38|✅|\n",
    "|python_by_example|2022-11-01 21:34|cache|10.9|✅|\n",
    "|python_essentials|2022-11-01 21:34|cache|2.6|✅|\n",
    "|python_oop|2022-11-01 21:34|cache|3.93|✅|\n",
    "|scipy|2022-11-01 21:34|cache|24.55|✅|\n",
    "|status|2022-11-01 21:34|cache|1.37|✅|\n",
    "|troubleshooting|2022-11-01 21:34|cache|1.37|✅|\n",
    "|writing_good_code|2022-11-01 21:34|cache|4.89|✅|\n",
    "These lectures are built on `linux` instances through `github actions` so are\n",
    "executed using the following [hardware specifications](https://docs.github.com/en/actions/reference/specifications-for-github-hosted-runners#supported-runners-and-hardware-resources)"
   ]
  }
 ],
 "metadata": {
  "date": 1667338477.7002947,
  "filename": "status.md",
  "kernelspec": {
   "display_name": "Python",
   "language": "python3",
   "name": "python3"
  },
  "title": "Execution Statistics"
 },
 "nbformat": 4,
 "nbformat_minor": 5
}